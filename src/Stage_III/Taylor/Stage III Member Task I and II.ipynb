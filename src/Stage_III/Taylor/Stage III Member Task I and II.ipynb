{
 "cells": [
  {
   "cell_type": "markdown",
   "metadata": {},
   "source": [
    "# Libraries"
   ]
  },
  {
   "cell_type": "code",
   "execution_count": 1,
   "metadata": {},
   "outputs": [],
   "source": [
    "import numpy as np\n",
    "import math\n",
    "import os\n",
    "import pandas as pd\n",
    "import matplotlib.pyplot as plt\n",
    "from sklearn.linear_model import LinearRegression\n",
    "import statsmodels.formula.api as smf\n",
    "from sklearn.metrics import mean_squared_error\n",
    "from math import sqrt\n",
    "from statsmodels.tools.eval_measures import rmse\n",
    "from scipy import stats\n",
    "from sklearn.multiclass import OneVsRestClassifier\n",
    "from sklearn.metrics import roc_curve, auc\n",
    "from sklearn.preprocessing import label_binarize\n",
    "from sklearn.tree import DecisionTreeRegressor\n",
    "from sklearn.ensemble import RandomForestRegressor \n",
    "from statsmodels.tsa.arima_model import ARIMA\n",
    "from sklearn.metrics import mean_squared_error"
   ]
  },
  {
   "cell_type": "markdown",
   "metadata": {},
   "source": [
    "# Opening Data"
   ]
  },
  {
   "cell_type": "code",
   "execution_count": 2,
   "metadata": {},
   "outputs": [
    {
     "data": {
      "text/html": [
       "<div>\n",
       "<style scoped>\n",
       "    .dataframe tbody tr th:only-of-type {\n",
       "        vertical-align: middle;\n",
       "    }\n",
       "\n",
       "    .dataframe tbody tr th {\n",
       "        vertical-align: top;\n",
       "    }\n",
       "\n",
       "    .dataframe thead th {\n",
       "        text-align: right;\n",
       "    }\n",
       "</style>\n",
       "<table border=\"1\" class=\"dataframe\">\n",
       "  <thead>\n",
       "    <tr style=\"text-align: right;\">\n",
       "      <th></th>\n",
       "      <th>Unnamed: 0</th>\n",
       "      <th>countyFIPS</th>\n",
       "      <th>County Name</th>\n",
       "      <th>State</th>\n",
       "      <th>population</th>\n",
       "      <th>stateFIPS</th>\n",
       "      <th>1/22/20_x</th>\n",
       "      <th>1/23/20_x</th>\n",
       "      <th>1/24/20_x</th>\n",
       "      <th>1/25/20_x</th>\n",
       "      <th>...</th>\n",
       "      <th>10/31/20_y</th>\n",
       "      <th>11/1/20_y</th>\n",
       "      <th>11/2/20_y</th>\n",
       "      <th>11/3/20_y</th>\n",
       "      <th>11/4/20_y</th>\n",
       "      <th>11/5/20_y</th>\n",
       "      <th>11/6/20_y</th>\n",
       "      <th>11/7/20_y</th>\n",
       "      <th>11/8/20_y</th>\n",
       "      <th>11/9/20_y</th>\n",
       "    </tr>\n",
       "  </thead>\n",
       "  <tbody>\n",
       "    <tr>\n",
       "      <td>0</td>\n",
       "      <td>0</td>\n",
       "      <td>0</td>\n",
       "      <td>Statewide Unallocated</td>\n",
       "      <td>AL</td>\n",
       "      <td>0</td>\n",
       "      <td>1</td>\n",
       "      <td>0</td>\n",
       "      <td>0</td>\n",
       "      <td>0</td>\n",
       "      <td>0</td>\n",
       "      <td>...</td>\n",
       "      <td>0</td>\n",
       "      <td>0</td>\n",
       "      <td>0</td>\n",
       "      <td>0</td>\n",
       "      <td>0</td>\n",
       "      <td>0</td>\n",
       "      <td>0</td>\n",
       "      <td>0</td>\n",
       "      <td>0</td>\n",
       "      <td>0</td>\n",
       "    </tr>\n",
       "    <tr>\n",
       "      <td>1</td>\n",
       "      <td>1</td>\n",
       "      <td>1001</td>\n",
       "      <td>Autauga County</td>\n",
       "      <td>AL</td>\n",
       "      <td>55869</td>\n",
       "      <td>1</td>\n",
       "      <td>0</td>\n",
       "      <td>0</td>\n",
       "      <td>0</td>\n",
       "      <td>0</td>\n",
       "      <td>...</td>\n",
       "      <td>30</td>\n",
       "      <td>30</td>\n",
       "      <td>30</td>\n",
       "      <td>30</td>\n",
       "      <td>30</td>\n",
       "      <td>30</td>\n",
       "      <td>30</td>\n",
       "      <td>30</td>\n",
       "      <td>30</td>\n",
       "      <td>30</td>\n",
       "    </tr>\n",
       "    <tr>\n",
       "      <td>2</td>\n",
       "      <td>2</td>\n",
       "      <td>1003</td>\n",
       "      <td>Baldwin County</td>\n",
       "      <td>AL</td>\n",
       "      <td>223234</td>\n",
       "      <td>1</td>\n",
       "      <td>0</td>\n",
       "      <td>0</td>\n",
       "      <td>0</td>\n",
       "      <td>0</td>\n",
       "      <td>...</td>\n",
       "      <td>71</td>\n",
       "      <td>71</td>\n",
       "      <td>71</td>\n",
       "      <td>74</td>\n",
       "      <td>77</td>\n",
       "      <td>77</td>\n",
       "      <td>83</td>\n",
       "      <td>83</td>\n",
       "      <td>83</td>\n",
       "      <td>83</td>\n",
       "    </tr>\n",
       "    <tr>\n",
       "      <td>3</td>\n",
       "      <td>3</td>\n",
       "      <td>1005</td>\n",
       "      <td>Barbour County</td>\n",
       "      <td>AL</td>\n",
       "      <td>24686</td>\n",
       "      <td>1</td>\n",
       "      <td>0</td>\n",
       "      <td>0</td>\n",
       "      <td>0</td>\n",
       "      <td>0</td>\n",
       "      <td>...</td>\n",
       "      <td>9</td>\n",
       "      <td>9</td>\n",
       "      <td>9</td>\n",
       "      <td>9</td>\n",
       "      <td>9</td>\n",
       "      <td>9</td>\n",
       "      <td>9</td>\n",
       "      <td>9</td>\n",
       "      <td>9</td>\n",
       "      <td>9</td>\n",
       "    </tr>\n",
       "    <tr>\n",
       "      <td>4</td>\n",
       "      <td>4</td>\n",
       "      <td>1007</td>\n",
       "      <td>Bibb County</td>\n",
       "      <td>AL</td>\n",
       "      <td>22394</td>\n",
       "      <td>1</td>\n",
       "      <td>0</td>\n",
       "      <td>0</td>\n",
       "      <td>0</td>\n",
       "      <td>0</td>\n",
       "      <td>...</td>\n",
       "      <td>15</td>\n",
       "      <td>15</td>\n",
       "      <td>15</td>\n",
       "      <td>15</td>\n",
       "      <td>15</td>\n",
       "      <td>15</td>\n",
       "      <td>15</td>\n",
       "      <td>16</td>\n",
       "      <td>16</td>\n",
       "      <td>16</td>\n",
       "    </tr>\n",
       "  </tbody>\n",
       "</table>\n",
       "<p>5 rows × 593 columns</p>\n",
       "</div>"
      ],
      "text/plain": [
       "   Unnamed: 0  countyFIPS            County Name State  population  stateFIPS  \\\n",
       "0           0           0  Statewide Unallocated    AL           0          1   \n",
       "1           1        1001         Autauga County    AL       55869          1   \n",
       "2           2        1003         Baldwin County    AL      223234          1   \n",
       "3           3        1005         Barbour County    AL       24686          1   \n",
       "4           4        1007            Bibb County    AL       22394          1   \n",
       "\n",
       "   1/22/20_x  1/23/20_x  1/24/20_x  1/25/20_x  ...  10/31/20_y  11/1/20_y  \\\n",
       "0          0          0          0          0  ...           0          0   \n",
       "1          0          0          0          0  ...          30         30   \n",
       "2          0          0          0          0  ...          71         71   \n",
       "3          0          0          0          0  ...           9          9   \n",
       "4          0          0          0          0  ...          15         15   \n",
       "\n",
       "   11/2/20_y  11/3/20_y  11/4/20_y  11/5/20_y  11/6/20_y  11/7/20_y  \\\n",
       "0          0          0          0          0          0          0   \n",
       "1         30         30         30         30         30         30   \n",
       "2         71         74         77         77         83         83   \n",
       "3          9          9          9          9          9          9   \n",
       "4         15         15         15         15         15         16   \n",
       "\n",
       "   11/8/20_y  11/9/20_y  \n",
       "0          0          0  \n",
       "1         30         30  \n",
       "2         83         83  \n",
       "3          9          9  \n",
       "4         16         16  \n",
       "\n",
       "[5 rows x 593 columns]"
      ]
     },
     "execution_count": 2,
     "metadata": {},
     "output_type": "execute_result"
    }
   ],
   "source": [
    "covid = pd.read_csv(os.getcwd().replace(\"src/Stage_III/Taylor\",\"data/output/\")+\"covid.csv\", low_memory=False)\n",
    "hospital = pd.read_csv(os.getcwd().replace(\"src/Stage_III/Taylor\",\"data/\")+\"Hospital_Beds.csv\", low_memory=False)\n",
    "covid.head()"
   ]
  },
  {
   "cell_type": "markdown",
   "metadata": {},
   "source": [
    "# Formatting Data Frame"
   ]
  },
  {
   "cell_type": "code",
   "execution_count": 3,
   "metadata": {},
   "outputs": [],
   "source": [
    "def format_data(original_data, for_what, district, county=False):\n",
    "    data = original_data\n",
    "    #formatting headers\n",
    "    if county == True:\n",
    "        new_data = data.loc[data['County_Name'] == district]\n",
    "    else:\n",
    "        new_data = data.loc[data['State'] == district]\n",
    "    new_data.columns = [x.replace('0_','0') for x in new_data.columns]\n",
    "    #rename  County Name, then drop unallocated and unamed\n",
    "    new_data = new_data.rename(columns={'County Name':'County_Name'}, inplace = False)\n",
    "    \n",
    "    if 'Unnamed: 0' in new_data:\n",
    "        new_data = new_data.drop('Unnamed: 0', 1)\n",
    "    elif 'County Name_y' in new_data:\n",
    "        new_data = new_data.drop('County Name_y', 1)\n",
    "   \n",
    "    #split cases and deaths\n",
    "    cases = new_data[~new_data.County_Name.str.contains(\"Unallocated\") & ~new_data.County_Name.str.contains(\"Unamed\")]\n",
    "    deaths = new_data[~new_data.County_Name.str.contains(\"Unallocated\")]\n",
    "    cases_col = [x for x in cases.columns if \"20y\" not in x]\n",
    "    deaths_col = [x for x in deaths.columns if \"20x\" not in x]\n",
    "    x = cases[cases_col]\n",
    "    y = deaths[deaths_col]\n",
    "    try:\n",
    "        #remove dates before the first monday (January 27, 2020) that records existed\n",
    "        remove_cases = ['1/22/20x','1/23/20x','1/24/20x','1/25/20x','1/26/20x']\n",
    "        x.drop(remove_cases, axis=1, inplace=True)\n",
    "        remove_deaths = ['1/22/20y','1/23/20y','1/24/20y','1/25/20y','1/26/20y']\n",
    "        y.drop(remove_deaths, axis=1, inplace=True)\n",
    "    except:\n",
    "        pass\n",
    "    if str(for_what).lower() == 'cases':\n",
    "        return x\n",
    "    elif str(for_what).lower() == 'deaths':\n",
    "        return y\n",
    "    else:\n",
    "        return {'cases':x, 'deaths': y}"
   ]
  },
  {
   "cell_type": "code",
   "execution_count": 4,
   "metadata": {},
   "outputs": [],
   "source": [
    "def computeNew(data):\n",
    "    result = pd.DataFrame()\n",
    "    cols = [x for x in data.columns.tolist() if \"/20\" in x]\n",
    "    for i in range(len(cols)):\n",
    "        if \"/20\" in cols[i] and i < 1:\n",
    "            result[cols[i]] = data[cols[i]]\n",
    "        elif \"/20\" in cols[i] and i >= 1:\n",
    "            result[cols[i]] = data[cols[i]] - data[cols[i-1]]\n",
    "    return pd.concat([data[[x for x in data.columns.tolist() if not \"/20\" in x]], result], axis=1)\n",
    "            "
   ]
  },
  {
   "cell_type": "markdown",
   "metadata": {},
   "source": [
    "# Functions for Normalizing Data"
   ]
  },
  {
   "cell_type": "code",
   "execution_count": 5,
   "metadata": {},
   "outputs": [],
   "source": [
    "#helper function normalization formula\n",
    "def normalize_pop(x,population_size,factor):\n",
    "    return (round((float(x)/float(population_size))*float(factor)))\n",
    "#helper function to normalize a value in a time series\n",
    "def timeseries_norm(x, minimum, maximum):\n",
    "    if maximum-minimum <= 0:\n",
    "        return round((float(x-minimum)/float(.0001)) * 100)\n",
    "    else:\n",
    "        return round((float(x-minimum)/float(maximum-minimum)) * 100)"
   ]
  },
  {
   "cell_type": "code",
   "execution_count": 6,
   "metadata": {},
   "outputs": [],
   "source": [
    "#find the order of magnitude of a number\n",
    "def orderOfMagnitude(x):\n",
    "    return math.floor(math.log(x, 10))"
   ]
  },
  {
   "cell_type": "code",
   "execution_count": 7,
   "metadata": {},
   "outputs": [
    {
     "name": "stderr",
     "output_type": "stream",
     "text": [
      "/opt/anaconda3/lib/python3.7/site-packages/pandas/core/frame.py:4102: SettingWithCopyWarning: \n",
      "A value is trying to be set on a copy of a slice from a DataFrame\n",
      "\n",
      "See the caveats in the documentation: http://pandas.pydata.org/pandas-docs/stable/user_guide/indexing.html#returning-a-view-versus-a-copy\n",
      "  errors=errors,\n"
     ]
    }
   ],
   "source": [
    "texas_cases = format_data(covid,'cases','TX')\n",
    "texas_deaths = format_data(covid,'deaths','TX')"
   ]
  },
  {
   "cell_type": "code",
   "execution_count": 8,
   "metadata": {},
   "outputs": [
    {
     "data": {
      "text/html": [
       "<div>\n",
       "<style scoped>\n",
       "    .dataframe tbody tr th:only-of-type {\n",
       "        vertical-align: middle;\n",
       "    }\n",
       "\n",
       "    .dataframe tbody tr th {\n",
       "        vertical-align: top;\n",
       "    }\n",
       "\n",
       "    .dataframe thead th {\n",
       "        text-align: right;\n",
       "    }\n",
       "</style>\n",
       "<table border=\"1\" class=\"dataframe\">\n",
       "  <thead>\n",
       "    <tr style=\"text-align: right;\">\n",
       "      <th></th>\n",
       "      <th>countyFIPS</th>\n",
       "      <th>County_Name</th>\n",
       "      <th>State</th>\n",
       "      <th>population</th>\n",
       "      <th>stateFIPS</th>\n",
       "      <th>County Name_y</th>\n",
       "      <th>1/27/20x</th>\n",
       "      <th>1/28/20x</th>\n",
       "      <th>1/29/20x</th>\n",
       "      <th>1/30/20x</th>\n",
       "      <th>...</th>\n",
       "      <th>10/31/20x</th>\n",
       "      <th>11/1/20x</th>\n",
       "      <th>11/2/20x</th>\n",
       "      <th>11/3/20x</th>\n",
       "      <th>11/4/20x</th>\n",
       "      <th>11/5/20x</th>\n",
       "      <th>11/6/20x</th>\n",
       "      <th>11/7/20x</th>\n",
       "      <th>11/8/20x</th>\n",
       "      <th>11/9/20x</th>\n",
       "    </tr>\n",
       "  </thead>\n",
       "  <tbody>\n",
       "    <tr>\n",
       "      <td>2569</td>\n",
       "      <td>48001</td>\n",
       "      <td>Anderson County</td>\n",
       "      <td>TX</td>\n",
       "      <td>57735</td>\n",
       "      <td>48</td>\n",
       "      <td>Anderson County</td>\n",
       "      <td>0</td>\n",
       "      <td>0</td>\n",
       "      <td>0</td>\n",
       "      <td>0</td>\n",
       "      <td>...</td>\n",
       "      <td>9</td>\n",
       "      <td>0</td>\n",
       "      <td>0</td>\n",
       "      <td>2</td>\n",
       "      <td>0</td>\n",
       "      <td>27</td>\n",
       "      <td>0</td>\n",
       "      <td>10</td>\n",
       "      <td>3</td>\n",
       "      <td>0</td>\n",
       "    </tr>\n",
       "    <tr>\n",
       "      <td>2570</td>\n",
       "      <td>48003</td>\n",
       "      <td>Andrews County</td>\n",
       "      <td>TX</td>\n",
       "      <td>18705</td>\n",
       "      <td>48</td>\n",
       "      <td>Andrews County</td>\n",
       "      <td>0</td>\n",
       "      <td>0</td>\n",
       "      <td>0</td>\n",
       "      <td>0</td>\n",
       "      <td>...</td>\n",
       "      <td>0</td>\n",
       "      <td>0</td>\n",
       "      <td>0</td>\n",
       "      <td>0</td>\n",
       "      <td>22</td>\n",
       "      <td>37</td>\n",
       "      <td>15</td>\n",
       "      <td>0</td>\n",
       "      <td>0</td>\n",
       "      <td>0</td>\n",
       "    </tr>\n",
       "    <tr>\n",
       "      <td>2571</td>\n",
       "      <td>48005</td>\n",
       "      <td>Angelina County</td>\n",
       "      <td>TX</td>\n",
       "      <td>86715</td>\n",
       "      <td>48</td>\n",
       "      <td>Angelina County</td>\n",
       "      <td>0</td>\n",
       "      <td>0</td>\n",
       "      <td>0</td>\n",
       "      <td>0</td>\n",
       "      <td>...</td>\n",
       "      <td>0</td>\n",
       "      <td>0</td>\n",
       "      <td>0</td>\n",
       "      <td>9</td>\n",
       "      <td>0</td>\n",
       "      <td>17</td>\n",
       "      <td>0</td>\n",
       "      <td>0</td>\n",
       "      <td>0</td>\n",
       "      <td>0</td>\n",
       "    </tr>\n",
       "    <tr>\n",
       "      <td>2572</td>\n",
       "      <td>48007</td>\n",
       "      <td>Aransas County</td>\n",
       "      <td>TX</td>\n",
       "      <td>23510</td>\n",
       "      <td>48</td>\n",
       "      <td>Aransas County</td>\n",
       "      <td>0</td>\n",
       "      <td>0</td>\n",
       "      <td>0</td>\n",
       "      <td>0</td>\n",
       "      <td>...</td>\n",
       "      <td>0</td>\n",
       "      <td>0</td>\n",
       "      <td>0</td>\n",
       "      <td>0</td>\n",
       "      <td>0</td>\n",
       "      <td>9</td>\n",
       "      <td>0</td>\n",
       "      <td>0</td>\n",
       "      <td>3</td>\n",
       "      <td>0</td>\n",
       "    </tr>\n",
       "    <tr>\n",
       "      <td>2573</td>\n",
       "      <td>48009</td>\n",
       "      <td>Archer County</td>\n",
       "      <td>TX</td>\n",
       "      <td>8553</td>\n",
       "      <td>48</td>\n",
       "      <td>Archer County</td>\n",
       "      <td>0</td>\n",
       "      <td>0</td>\n",
       "      <td>0</td>\n",
       "      <td>0</td>\n",
       "      <td>...</td>\n",
       "      <td>4</td>\n",
       "      <td>0</td>\n",
       "      <td>0</td>\n",
       "      <td>5</td>\n",
       "      <td>0</td>\n",
       "      <td>1</td>\n",
       "      <td>0</td>\n",
       "      <td>0</td>\n",
       "      <td>0</td>\n",
       "      <td>0</td>\n",
       "    </tr>\n",
       "  </tbody>\n",
       "</table>\n",
       "<p>5 rows × 294 columns</p>\n",
       "</div>"
      ],
      "text/plain": [
       "      countyFIPS      County_Name State  population  stateFIPS  \\\n",
       "2569       48001  Anderson County    TX       57735         48   \n",
       "2570       48003   Andrews County    TX       18705         48   \n",
       "2571       48005  Angelina County    TX       86715         48   \n",
       "2572       48007   Aransas County    TX       23510         48   \n",
       "2573       48009    Archer County    TX        8553         48   \n",
       "\n",
       "        County Name_y  1/27/20x  1/28/20x  1/29/20x  1/30/20x  ...  10/31/20x  \\\n",
       "2569  Anderson County         0         0         0         0  ...          9   \n",
       "2570   Andrews County         0         0         0         0  ...          0   \n",
       "2571  Angelina County         0         0         0         0  ...          0   \n",
       "2572   Aransas County         0         0         0         0  ...          0   \n",
       "2573    Archer County         0         0         0         0  ...          4   \n",
       "\n",
       "      11/1/20x  11/2/20x  11/3/20x  11/4/20x  11/5/20x  11/6/20x  11/7/20x  \\\n",
       "2569         0         0         2         0        27         0        10   \n",
       "2570         0         0         0        22        37        15         0   \n",
       "2571         0         0         9         0        17         0         0   \n",
       "2572         0         0         0         0         9         0         0   \n",
       "2573         0         0         5         0         1         0         0   \n",
       "\n",
       "      11/8/20x  11/9/20x  \n",
       "2569         3         0  \n",
       "2570         0         0  \n",
       "2571         0         0  \n",
       "2572         3         0  \n",
       "2573         0         0  \n",
       "\n",
       "[5 rows x 294 columns]"
      ]
     },
     "execution_count": 8,
     "metadata": {},
     "output_type": "execute_result"
    }
   ],
   "source": [
    "new_cases = computeNew(texas_cases)\n",
    "new_deaths = computeNew(texas_deaths)\n",
    "new_cases.head()"
   ]
  },
  {
   "cell_type": "code",
   "execution_count": 9,
   "metadata": {},
   "outputs": [],
   "source": [
    "def normalizeDataFrame(data, for_what, factor):\n",
    "    data.reset_index(drop=True, inplace=True)\n",
    "    cols = []\n",
    "    if str(for_what).lower() == 'cases':\n",
    "        cols = [e for e in data.columns if ('20x' in str(e) or '20x' in str(e))]\n",
    "    elif str(for_what).lower() == 'deaths':\n",
    "        cols = [e for e in data.columns if ('20y' in str(e) or '20y' in str(e))]\n",
    "    result = pd.DataFrame([], columns = cols)\n",
    "    for i in range(len(data)):\n",
    "        #preparing to normalize instance within a timeseries\n",
    "        maximum = data[cols].loc[i].max()\n",
    "        minimum = data[cols].loc[i].min()#timeseries_norm(x,minimum,maximum)\n",
    "        result = result.append(data.loc[i][cols].apply(lambda x: normalize_pop(timeseries_norm(x,minimum,maximum),data.loc[i]['population'],factor)) \\\n",
    "                     .to_frame().T)\n",
    "    #replacing daily cases/deaths with normalized values\n",
    "    if str(for_what).lower() == 'cases':\n",
    "        data = data.drop([x for x in data.columns if ('20x' in str(x) or '20x' in str(x))], axis=1, inplace=False)\n",
    "    elif str(for_what).lower() == 'deaths':\n",
    "        data = data.drop([x for x in data.columns if ('20y' in str(x) or '20y' in str(x))], axis=1, inplace=False)\n",
    "    return pd.concat([data, result], axis=1) "
   ]
  },
  {
   "cell_type": "markdown",
   "metadata": {},
   "source": [
    "# Normalizing Counties"
   ]
  },
  {
   "cell_type": "code",
   "execution_count": 10,
   "metadata": {},
   "outputs": [],
   "source": [
    "#preparing to normalize data by population for counties\n",
    "county_pops = covid.groupby(['State','County Name','countyFIPS'], as_index=False)['population'].sum()\n"
   ]
  },
  {
   "cell_type": "code",
   "execution_count": 11,
   "metadata": {},
   "outputs": [
    {
     "data": {
      "text/html": [
       "<div>\n",
       "<style scoped>\n",
       "    .dataframe tbody tr th:only-of-type {\n",
       "        vertical-align: middle;\n",
       "    }\n",
       "\n",
       "    .dataframe tbody tr th {\n",
       "        vertical-align: top;\n",
       "    }\n",
       "\n",
       "    .dataframe thead th {\n",
       "        text-align: right;\n",
       "    }\n",
       "</style>\n",
       "<table border=\"1\" class=\"dataframe\">\n",
       "  <thead>\n",
       "    <tr style=\"text-align: right;\">\n",
       "      <th></th>\n",
       "      <th>State</th>\n",
       "      <th>County Name</th>\n",
       "      <th>countyFIPS</th>\n",
       "      <th>population</th>\n",
       "    </tr>\n",
       "  </thead>\n",
       "  <tbody>\n",
       "    <tr>\n",
       "      <td>2718</td>\n",
       "      <td>TX</td>\n",
       "      <td>Loving County</td>\n",
       "      <td>48301</td>\n",
       "      <td>169</td>\n",
       "    </tr>\n",
       "  </tbody>\n",
       "</table>\n",
       "</div>"
      ],
      "text/plain": [
       "     State    County Name  countyFIPS  population\n",
       "2718    TX  Loving County       48301         169"
      ]
     },
     "metadata": {},
     "output_type": "display_data"
    }
   ],
   "source": [
    "#finding county with population of lowest magnitude in TX\n",
    "county_pops = county_pops[county_pops.population != 0]\n",
    "county_pops = county_pops[county_pops.State == 'TX']\n",
    "lowest_county_pop = county_pops[county_pops['population']==county_pops['population'].min()]\n",
    "#displaying county with lowest population to normalize counties using its order of magnitude\n",
    "#ex. if population size is 580,000 ... 5.8 x 10 ^5 , then the order of magnitude is 5\n",
    "display(lowest_county_pop)"
   ]
  },
  {
   "cell_type": "code",
   "execution_count": 12,
   "metadata": {
    "scrolled": true
   },
   "outputs": [
    {
     "name": "stdout",
     "output_type": "stream",
     "text": [
      "Normalization will be per  100  people.\n"
     ]
    }
   ],
   "source": [
    "# normalizing per normalizationFactor number of people\n",
    "lowest_county_pop_val = lowest_county_pop['population'].to_list()[0]\n",
    "normalizationFactor = 10**orderOfMagnitude(lowest_county_pop_val)\n",
    "print(\"Normalization will be per \", normalizationFactor, \" people.\")"
   ]
  },
  {
   "cell_type": "markdown",
   "metadata": {},
   "source": [
    "### Texas Normalized County New Cases "
   ]
  },
  {
   "cell_type": "code",
   "execution_count": 13,
   "metadata": {},
   "outputs": [],
   "source": [
    "def firstNonZero(data):\n",
    "    cols = data.columns.tolist()\n",
    "    for i in range(len(cols)):\n",
    "        if \"/20\" in cols[i] and data[cols[i]].sum(axis = 0, skipna = True)  > 0:\n",
    "            return i\n",
    "    return i"
   ]
  },
  {
   "cell_type": "code",
   "execution_count": 14,
   "metadata": {},
   "outputs": [],
   "source": [
    "#Preparing to visualize \n",
    "normalized_county_cases = normalizeDataFrame(new_cases, 'cases', normalizationFactor)"
   ]
  },
  {
   "cell_type": "markdown",
   "metadata": {},
   "source": [
    "### Starting at the First Day of Cases and Labeling Dates as Days"
   ]
  },
  {
   "cell_type": "code",
   "execution_count": 15,
   "metadata": {},
   "outputs": [],
   "source": [
    "case_days = normalized_county_cases\n",
    "case_days = case_days[case_days.columns[firstNonZero(normalized_county_cases):]]\n",
    "case_days = pd.concat([new_cases[[x for x in new_cases.columns.tolist() if not \"/20\" in x]], case_days], axis=1)"
   ]
  },
  {
   "cell_type": "markdown",
   "metadata": {},
   "source": [
    "### Texas Normalized New County Deaths"
   ]
  },
  {
   "cell_type": "code",
   "execution_count": 16,
   "metadata": {},
   "outputs": [],
   "source": [
    "normalized_county_deaths = normalizeDataFrame(new_deaths, 'deaths', normalizationFactor)"
   ]
  },
  {
   "cell_type": "markdown",
   "metadata": {},
   "source": [
    "### Starting at the First Day of Deaths and Labeling Dates as Days"
   ]
  },
  {
   "cell_type": "code",
   "execution_count": 17,
   "metadata": {},
   "outputs": [],
   "source": [
    "death_days = normalized_county_deaths\n",
    "death_days = death_days[death_days.columns[firstNonZero(normalized_county_deaths):]]\n",
    "death_days = pd.concat([new_deaths[[x for x in new_deaths.columns.tolist() if not \"/20\" in x]], death_days], axis=1)"
   ]
  },
  {
   "cell_type": "markdown",
   "metadata": {},
   "source": [
    "# Regression Models for Cases"
   ]
  },
  {
   "cell_type": "markdown",
   "metadata": {},
   "source": [
    "### State of Texas New Case Trends"
   ]
  },
  {
   "cell_type": "code",
   "execution_count": 18,
   "metadata": {},
   "outputs": [],
   "source": [
    "texas_case_trends = case_days[[x for x in case_days.columns if '/20' in x or x == 'State']].groupby('State').sum()\n",
    "texas_case_trends.columns = [i+1 for i in range(len(texas_case_trends.columns))]\n",
    "temp = texas_case_trends\n",
    "texas_case_trends = pd.DataFrame()\n",
    "texas_case_trends['Day'] = temp.loc['TX'].index.tolist()\n",
    "texas_case_trends['Cases'] = temp.loc['TX'].tolist()"
   ]
  },
  {
   "cell_type": "code",
   "execution_count": 19,
   "metadata": {},
   "outputs": [
    {
     "data": {
      "text/plain": [
       "Intercept   -0.723505\n",
       "Day          0.085673\n",
       "dtype: float64"
      ]
     },
     "execution_count": 19,
     "metadata": {},
     "output_type": "execute_result"
    }
   ],
   "source": [
    "# create model\n",
    "lm = smf.ols(formula='Cases ~ Day', data=texas_case_trends).fit()\n",
    "# print the coefficients\n",
    "lm.params"
   ]
  },
  {
   "cell_type": "code",
   "execution_count": 20,
   "metadata": {},
   "outputs": [
    {
     "data": {
      "text/plain": [
       "0.3780432182662693"
      ]
     },
     "execution_count": 20,
     "metadata": {},
     "output_type": "execute_result"
    }
   ],
   "source": [
    "# R-squared value for the model\n",
    "lm.rsquared"
   ]
  },
  {
   "cell_type": "code",
   "execution_count": 21,
   "metadata": {},
   "outputs": [
    {
     "data": {
      "text/plain": [
       "<matplotlib.legend.Legend at 0x1c1e4c4710>"
      ]
     },
     "execution_count": 21,
     "metadata": {},
     "output_type": "execute_result"
    },
    {
     "data": {
      "image/png": "[encoded data removed]",
      "text/plain": [
       "<Figure size 931.968x576 with 1 Axes>"
      ]
     },
     "metadata": {
      "needs_background": "light"
     },
     "output_type": "display_data"
    }
   ],
   "source": [
    "plt.figure(figsize=(8 * 1.618, 8))\n",
    "\n",
    "plt.scatter(texas_case_trends.Day, texas_case_trends.Cases)\n",
    "\n",
    "df1 = texas_case_trends\n",
    "\n",
    "poly_1 = smf.ols(formula='Cases ~ 1 + Day', data=texas_case_trends).fit()\n",
    "\n",
    "x = pd.DataFrame({'Day': np.linspace(texas_case_trends.Day.min(), texas_case_trends.Day.max(), 200)})\n",
    "\n",
    "plt.plot(x.Day, poly_1.predict(x), 'b-', label='Poly n=1 $R^2$=%.2f' % poly_1.rsquared, alpha=0.9)\n",
    "\n",
    "# 3-rd order polynomial\n",
    "poly_3 = smf.ols(formula='Cases ~ 1 + Day + I(Day ** 2.0) + I(Day ** 3.0)', data=texas_case_trends).fit()\n",
    "plt.plot(x.Day, poly_3.predict(x), 'y-', alpha=0.9, label='Poly n=3 $R^2$=%.2f' % poly_3.rsquared)\n",
    "\n",
    "# 5-th order polynomial\n",
    "poly_5 = smf.ols(formula='Cases ~ 1 + Day + I(Day ** 2.0) + I(Day ** 3.0) + I(Day ** 4.0) + I(Day ** 5.0)', data=texas_case_trends).fit()\n",
    "plt.plot(x.Day, poly_5.predict(x), 'r-', alpha=0.9, label='Poly n=5 $R^2$=%.2f' % poly_5.rsquared)\n",
    "\n",
    "\n",
    "# 7-nd order polynomial\n",
    "poly_7 = smf.ols(formula='Cases ~ 1 + Day + I(Day ** 2.0) + I(Day ** 3.0) + I(Day ** 4.0) + I(Day ** 5.0) + I(Day ** 6.0) + I(Day ** 7.0)', data=texas_case_trends).fit()\n",
    "plt.plot(x.Day, poly_7.predict(x), 'g-', label='Poly n=7 $R^2$=%.2f' % poly_7.rsquared, alpha=0.9)\n",
    "\n",
    "\n",
    "plt.legend()"
   ]
  },
  {
   "cell_type": "markdown",
   "metadata": {},
   "source": [
    "### State of Texas Summary New Cases Model Summary and RMSE"
   ]
  },
  {
   "cell_type": "code",
   "execution_count": 22,
   "metadata": {},
   "outputs": [
    {
     "data": {
      "text/html": [
       "<table class=\"simpletable\">\n",
       "<caption>OLS Regression Results</caption>\n",
       "<tr>\n",
       "  <th>Dep. Variable:</th>          <td>Cases</td>      <th>  R-squared:         </th> <td>   0.378</td>\n",
       "</tr>\n",
       "<tr>\n",
       "  <th>Model:</th>                   <td>OLS</td>       <th>  Adj. R-squared:    </th> <td>   0.376</td>\n",
       "</tr>\n",
       "<tr>\n",
       "  <th>Method:</th>             <td>Least Squares</td>  <th>  F-statistic:       </th> <td>   173.8</td>\n",
       "</tr>\n",
       "<tr>\n",
       "  <th>Date:</th>             <td>Mon, 16 Nov 2020</td> <th>  Prob (F-statistic):</th> <td>2.45e-31</td>\n",
       "</tr>\n",
       "<tr>\n",
       "  <th>Time:</th>                 <td>02:49:58</td>     <th>  Log-Likelihood:    </th> <td> -1045.8</td>\n",
       "</tr>\n",
       "<tr>\n",
       "  <th>No. Observations:</th>      <td>   288</td>      <th>  AIC:               </th> <td>   2096.</td>\n",
       "</tr>\n",
       "<tr>\n",
       "  <th>Df Residuals:</th>          <td>   286</td>      <th>  BIC:               </th> <td>   2103.</td>\n",
       "</tr>\n",
       "<tr>\n",
       "  <th>Df Model:</th>              <td>     1</td>      <th>                     </th>     <td> </td>   \n",
       "</tr>\n",
       "<tr>\n",
       "  <th>Covariance Type:</th>      <td>nonrobust</td>    <th>                     </th>     <td> </td>   \n",
       "</tr>\n",
       "</table>\n",
       "<table class=\"simpletable\">\n",
       "<tr>\n",
       "      <td></td>         <th>coef</th>     <th>std err</th>      <th>t</th>      <th>P>|t|</th>  <th>[0.025</th>    <th>0.975]</th>  \n",
       "</tr>\n",
       "<tr>\n",
       "  <th>Intercept</th> <td>   -0.7235</td> <td>    1.083</td> <td>   -0.668</td> <td> 0.505</td> <td>   -2.856</td> <td>    1.409</td>\n",
       "</tr>\n",
       "<tr>\n",
       "  <th>Day</th>       <td>    0.0857</td> <td>    0.006</td> <td>   13.185</td> <td> 0.000</td> <td>    0.073</td> <td>    0.098</td>\n",
       "</tr>\n",
       "</table>\n",
       "<table class=\"simpletable\">\n",
       "<tr>\n",
       "  <th>Omnibus:</th>       <td>88.223</td> <th>  Durbin-Watson:     </th> <td>   1.766</td>\n",
       "</tr>\n",
       "<tr>\n",
       "  <th>Prob(Omnibus):</th> <td> 0.000</td> <th>  Jarque-Bera (JB):  </th> <td> 326.402</td>\n",
       "</tr>\n",
       "<tr>\n",
       "  <th>Skew:</th>          <td> 1.269</td> <th>  Prob(JB):          </th> <td>1.33e-71</td>\n",
       "</tr>\n",
       "<tr>\n",
       "  <th>Kurtosis:</th>      <td> 7.556</td> <th>  Cond. No.          </th> <td>    334.</td>\n",
       "</tr>\n",
       "</table><br/><br/>Warnings:<br/>[1] Standard Errors assume that the covariance matrix of the errors is correctly specified."
      ],
      "text/plain": [
       "<class 'statsmodels.iolib.summary.Summary'>\n",
       "\"\"\"\n",
       "                            OLS Regression Results                            \n",
       "==============================================================================\n",
       "Dep. Variable:                  Cases   R-squared:                       0.378\n",
       "Model:                            OLS   Adj. R-squared:                  0.376\n",
       "Method:                 Least Squares   F-statistic:                     173.8\n",
       "Date:                Mon, 16 Nov 2020   Prob (F-statistic):           2.45e-31\n",
       "Time:                        02:49:58   Log-Likelihood:                -1045.8\n",
       "No. Observations:                 288   AIC:                             2096.\n",
       "Df Residuals:                     286   BIC:                             2103.\n",
       "Df Model:                           1                                         \n",
       "Covariance Type:            nonrobust                                         \n",
       "==============================================================================\n",
       "                 coef    std err          t      P>|t|      [0.025      0.975]\n",
       "------------------------------------------------------------------------------\n",
       "Intercept     -0.7235      1.083     -0.668      0.505      -2.856       1.409\n",
       "Day            0.0857      0.006     13.185      0.000       0.073       0.098\n",
       "==============================================================================\n",
       "Omnibus:                       88.223   Durbin-Watson:                   1.766\n",
       "Prob(Omnibus):                  0.000   Jarque-Bera (JB):              326.402\n",
       "Skew:                           1.269   Prob(JB):                     1.33e-71\n",
       "Kurtosis:                       7.556   Cond. No.                         334.\n",
       "==============================================================================\n",
       "\n",
       "Warnings:\n",
       "[1] Standard Errors assume that the covariance matrix of the errors is correctly specified.\n",
       "\"\"\""
      ]
     },
     "execution_count": 22,
     "metadata": {},
     "output_type": "execute_result"
    }
   ],
   "source": [
    "lm.summary()"
   ]
  },
  {
   "cell_type": "code",
   "execution_count": 23,
   "metadata": {},
   "outputs": [
    {
     "name": "stdout",
     "output_type": "stream",
     "text": [
      "Linear model: Cases = -0.7235046457607426  +  0.08567304253121623 * (Day)\n",
      "RMSE is for poly 1 is  9.13593108986388 \n",
      "\n",
      "Polynomial model of degree 3: Cases = 3.665641963940977  +  0.0001981562850810227 * (Day)  +  0.00024025217206754057 * (Day)^2  +  2.136598454822925e-07 * (Day)^3\n",
      "RMSE for poly 3 is  8.900626983558427 \n",
      "\n",
      "Polynomial model of degree 5: Cases = 3.2276613705137804  +  0.11830939851140151 * (Day)  +  -0.003893705277824652 * (Day)^2  +  4.723783894304309e-05 * (Day)^3  +  -2.1013049894811923e-07 * (Day)^4  +  3.210449921790224e-10 * (Day)^5\n",
      "RMSE for poly 5 is  8.839190245764412 \n",
      "\n",
      "Polynomial model of degree 7: Cases = 3.247523467735096e-05  +  0.0008295014219942022 * (Day)  +  0.017137738492541136 * (Day)^2  +  -0.0005411736128702132 * (Day)^3  +  6.622049478859131e-06 * (Day)^4  +  -3.8374029003490096e-08 * (Day)^5  +  1.0592265625640094e-10 * (Day)^6  +  -1.1218854575430084e-13 * (Day)^7\n",
      "RMSE for poly 7 is  8.628806410354436 \n",
      "\n"
     ]
    }
   ],
   "source": [
    "#RMSE\n",
    "X = texas_case_trends['Day']\n",
    "y = texas_case_trends['Cases']\n",
    "ypred = poly_1.predict(X)\n",
    "# calc rmse\n",
    "rmse1 = rmse(y, ypred)\n",
    "print('Linear model: Cases =',poly_1.params['Intercept'],' + ',poly_1.params['Day'],'* (Day)')\n",
    "print('RMSE is for poly 1 is ', rmse1,'\\n')\n",
    "ypred = poly_3.predict(X)\n",
    "# calc rmse\n",
    "rmse3 = rmse(y, ypred)\n",
    "print('Polynomial model of degree 3: Cases =',poly_3.params['Intercept'],' + ',poly_3.params['Day'],'* (Day)',' + ',poly_3.params['I(Day ** 2.0)'],'* (Day)^2',' + ',poly_3.params['I(Day ** 3.0)'],'* (Day)^3')\n",
    "print('RMSE for poly 3 is ', rmse3,'\\n')\n",
    "ypred = poly_5.predict(X)\n",
    "# calc rmse\n",
    "rmse5 = rmse(y, ypred)\n",
    "print('Polynomial model of degree 5: Cases =',poly_5.params['Intercept'],' + ',poly_5.params['Day'],'* (Day)',' + ',poly_5.params['I(Day ** 2.0)'],'* (Day)^2',' + ',poly_5.params['I(Day ** 3.0)'],'* (Day)^3',' + ',poly_5.params['I(Day ** 4.0)'],'* (Day)^4',' + ',poly_5.params['I(Day ** 5.0)'],'* (Day)^5')\n",
    "print('RMSE for poly 5 is ', rmse5,'\\n')\n",
    "ypred = poly_7.predict(X)\n",
    "# calc rmse\n",
    "rmse7 = rmse(y, ypred)\n",
    "print('Polynomial model of degree 7: Cases =',poly_7.params['Intercept'],' + ',poly_7.params['Day'],'* (Day)',' + ',poly_7.params['I(Day ** 2.0)'],'* (Day)^2',' + ',poly_7.params['I(Day ** 3.0)'],'* (Day)^3',' + ',poly_7.params['I(Day ** 4.0)'],'* (Day)^4',' + ',poly_7.params['I(Day ** 5.0)'],'* (Day)^5',' + ',poly_7.params['I(Day ** 6.0)'],'* (Day)^6',' + ',poly_7.params['I(Day ** 7.0)'],'* (Day)^7')\n",
    "print('RMSE for poly 7 is ', rmse7,'\\n')"
   ]
  },
  {
   "cell_type": "markdown",
   "metadata": {},
   "source": [
    "# Regression Models for Deaths"
   ]
  },
  {
   "cell_type": "markdown",
   "metadata": {},
   "source": [
    "### State of Texas New Death Trends"
   ]
  },
  {
   "cell_type": "code",
   "execution_count": 24,
   "metadata": {},
   "outputs": [],
   "source": [
    "texas_death_trends = death_days[[x for x in death_days.columns if '/20' in x or x == 'State']].groupby('State').sum()\n",
    "texas_death_trends.columns = [i+1 for i in range(len(texas_death_trends.columns))]\n",
    "temp = texas_death_trends\n",
    "texas_death_trends = pd.DataFrame()\n",
    "texas_death_trends['Day'] = temp.loc['TX'].index.tolist()\n",
    "texas_death_trends['Deaths'] = temp.loc['TX'].tolist()"
   ]
  },
  {
   "cell_type": "code",
   "execution_count": 25,
   "metadata": {},
   "outputs": [
    {
     "data": {
      "text/plain": [
       "Intercept   -0.462633\n",
       "Day          0.034277\n",
       "dtype: float64"
      ]
     },
     "execution_count": 25,
     "metadata": {},
     "output_type": "execute_result"
    }
   ],
   "source": [
    "# create model\n",
    "lm = smf.ols(formula='Deaths ~ Day', data=texas_death_trends).fit()\n",
    "# print the coefficients\n",
    "lm.params"
   ]
  },
  {
   "cell_type": "code",
   "execution_count": 26,
   "metadata": {
    "scrolled": false
   },
   "outputs": [
    {
     "data": {
      "text/plain": [
       "0.13400624217961432"
      ]
     },
     "execution_count": 26,
     "metadata": {},
     "output_type": "execute_result"
    }
   ],
   "source": [
    "# R-squared value for the model\n",
    "lm.rsquared"
   ]
  },
  {
   "cell_type": "code",
   "execution_count": 27,
   "metadata": {},
   "outputs": [
    {
     "data": {
      "text/plain": [
       "<matplotlib.legend.Legend at 0x1c1e477410>"
      ]
     },
     "execution_count": 27,
     "metadata": {},
     "output_type": "execute_result"
    },
    {
     "data": {
      "image/png": "[encoded data removed]",
      "text/plain": [
       "<Figure size 931.968x576 with 1 Axes>"
      ]
     },
     "metadata": {
      "needs_background": "light"
     },
     "output_type": "display_data"
    }
   ],
   "source": [
    "plt.figure(figsize=(8 * 1.618, 8))\n",
    "\n",
    "plt.scatter(texas_death_trends.Day, texas_death_trends.Deaths)\n",
    "\n",
    "df1 = texas_death_trends\n",
    "\n",
    "poly_1 = smf.ols(formula='Deaths ~ 1 + Day', data=texas_death_trends).fit()\n",
    "\n",
    "x = pd.DataFrame({'Day': np.linspace(texas_death_trends.Day.min(), texas_death_trends.Day.max(), 200)})\n",
    "\n",
    "plt.plot(x.Day, poly_1.predict(x), 'b-', label='Poly n=1 $R^2$=%.2f' % poly_1.rsquared, alpha=0.9)\n",
    "\n",
    "# 3-rd order polynomial\n",
    "poly_3 = smf.ols(formula='Deaths ~ 1 + Day + I(Day ** 2.0) + I(Day ** 3.0)', data=texas_death_trends).fit()\n",
    "plt.plot(x.Day, poly_3.predict(x), 'y-', alpha=0.9, label='Poly n=3 $R^2$=%.2f' % poly_3.rsquared)\n",
    "\n",
    "# 5-th order polynomial\n",
    "poly_5 = smf.ols(formula='Deaths ~ 1 + Day + I(Day ** 2.0) + I(Day ** 3.0) + I(Day ** 4.0) + I(Day ** 5.0)', data=texas_death_trends).fit()\n",
    "plt.plot(x.Day, poly_5.predict(x), 'r-', alpha=0.9, label='Poly n=5 $R^2$=%.2f' % poly_5.rsquared)\n",
    "\n",
    "\n",
    "# 7-nd order polynomial\n",
    "poly_7 = smf.ols(formula='Deaths ~ 1 + Day + I(Day ** 2.0) + I(Day ** 3.0) + I(Day ** 4.0) + I(Day ** 5.0) + I(Day ** 6.0) + I(Day ** 7.0)', data=texas_death_trends).fit()\n",
    "plt.plot(x.Day, poly_7.predict(x), 'g-', label='Poly n=7 $R^2$=%.2f' % poly_7.rsquared, alpha=0.9)\n",
    "\n",
    "\n",
    "plt.legend()"
   ]
  },
  {
   "cell_type": "markdown",
   "metadata": {},
   "source": [
    "### State of Texas Summary New Deaths Model Summary and RMSE"
   ]
  },
  {
   "cell_type": "code",
   "execution_count": 28,
   "metadata": {},
   "outputs": [
    {
     "data": {
      "text/html": [
       "<table class=\"simpletable\">\n",
       "<caption>OLS Regression Results</caption>\n",
       "<tr>\n",
       "  <th>Dep. Variable:</th>         <td>Deaths</td>      <th>  R-squared:         </th> <td>   0.134</td>\n",
       "</tr>\n",
       "<tr>\n",
       "  <th>Model:</th>                   <td>OLS</td>       <th>  Adj. R-squared:    </th> <td>   0.130</td>\n",
       "</tr>\n",
       "<tr>\n",
       "  <th>Method:</th>             <td>Least Squares</td>  <th>  F-statistic:       </th> <td>   34.82</td>\n",
       "</tr>\n",
       "<tr>\n",
       "  <th>Date:</th>             <td>Mon, 16 Nov 2020</td> <th>  Prob (F-statistic):</th> <td>1.32e-08</td>\n",
       "</tr>\n",
       "<tr>\n",
       "  <th>Time:</th>                 <td>02:50:00</td>     <th>  Log-Likelihood:    </th> <td> -717.58</td>\n",
       "</tr>\n",
       "<tr>\n",
       "  <th>No. Observations:</th>      <td>   227</td>      <th>  AIC:               </th> <td>   1439.</td>\n",
       "</tr>\n",
       "<tr>\n",
       "  <th>Df Residuals:</th>          <td>   225</td>      <th>  BIC:               </th> <td>   1446.</td>\n",
       "</tr>\n",
       "<tr>\n",
       "  <th>Df Model:</th>              <td>     1</td>      <th>                     </th>     <td> </td>   \n",
       "</tr>\n",
       "<tr>\n",
       "  <th>Covariance Type:</th>      <td>nonrobust</td>    <th>                     </th>     <td> </td>   \n",
       "</tr>\n",
       "</table>\n",
       "<table class=\"simpletable\">\n",
       "<tr>\n",
       "      <td></td>         <th>coef</th>     <th>std err</th>      <th>t</th>      <th>P>|t|</th>  <th>[0.025</th>    <th>0.975]</th>  \n",
       "</tr>\n",
       "<tr>\n",
       "  <th>Intercept</th> <td>   -0.4626</td> <td>    0.764</td> <td>   -0.606</td> <td> 0.545</td> <td>   -1.968</td> <td>    1.043</td>\n",
       "</tr>\n",
       "<tr>\n",
       "  <th>Day</th>       <td>    0.0343</td> <td>    0.006</td> <td>    5.901</td> <td> 0.000</td> <td>    0.023</td> <td>    0.046</td>\n",
       "</tr>\n",
       "</table>\n",
       "<table class=\"simpletable\">\n",
       "<tr>\n",
       "  <th>Omnibus:</th>       <td>258.049</td> <th>  Durbin-Watson:     </th> <td>   2.004</td> \n",
       "</tr>\n",
       "<tr>\n",
       "  <th>Prob(Omnibus):</th> <td> 0.000</td>  <th>  Jarque-Bera (JB):  </th> <td>11067.791</td>\n",
       "</tr>\n",
       "<tr>\n",
       "  <th>Skew:</th>          <td> 4.679</td>  <th>  Prob(JB):          </th> <td>    0.00</td> \n",
       "</tr>\n",
       "<tr>\n",
       "  <th>Kurtosis:</th>      <td>35.903</td>  <th>  Cond. No.          </th> <td>    264.</td> \n",
       "</tr>\n",
       "</table><br/><br/>Warnings:<br/>[1] Standard Errors assume that the covariance matrix of the errors is correctly specified."
      ],
      "text/plain": [
       "<class 'statsmodels.iolib.summary.Summary'>\n",
       "\"\"\"\n",
       "                            OLS Regression Results                            \n",
       "==============================================================================\n",
       "Dep. Variable:                 Deaths   R-squared:                       0.134\n",
       "Model:                            OLS   Adj. R-squared:                  0.130\n",
       "Method:                 Least Squares   F-statistic:                     34.82\n",
       "Date:                Mon, 16 Nov 2020   Prob (F-statistic):           1.32e-08\n",
       "Time:                        02:50:00   Log-Likelihood:                -717.58\n",
       "No. Observations:                 227   AIC:                             1439.\n",
       "Df Residuals:                     225   BIC:                             1446.\n",
       "Df Model:                           1                                         \n",
       "Covariance Type:            nonrobust                                         \n",
       "==============================================================================\n",
       "                 coef    std err          t      P>|t|      [0.025      0.975]\n",
       "------------------------------------------------------------------------------\n",
       "Intercept     -0.4626      0.764     -0.606      0.545      -1.968       1.043\n",
       "Day            0.0343      0.006      5.901      0.000       0.023       0.046\n",
       "==============================================================================\n",
       "Omnibus:                      258.049   Durbin-Watson:                   2.004\n",
       "Prob(Omnibus):                  0.000   Jarque-Bera (JB):            11067.791\n",
       "Skew:                           4.679   Prob(JB):                         0.00\n",
       "Kurtosis:                      35.903   Cond. No.                         264.\n",
       "==============================================================================\n",
       "\n",
       "Warnings:\n",
       "[1] Standard Errors assume that the covariance matrix of the errors is correctly specified.\n",
       "\"\"\""
      ]
     },
     "execution_count": 28,
     "metadata": {},
     "output_type": "execute_result"
    }
   ],
   "source": [
    "lm.summary()"
   ]
  },
  {
   "cell_type": "code",
   "execution_count": 29,
   "metadata": {},
   "outputs": [
    {
     "name": "stdout",
     "output_type": "stream",
     "text": [
      "Linear model: Deaths = -0.4626330357490939  +  0.03427690312678895 * (Day)\n",
      "RMSE is for poly 1 is  5.709886342342156 \n",
      "\n",
      "Polynomial model of degree 3: Deaths = 0.33988051150468623  +  -0.022939524919799347 * (Day)  +  0.0007285220591872491 * (Day)^2  +  -2.330770414370298e-06 * (Day)^3\n",
      "RMSE for poly 3 is  5.680492999171406 \n",
      "\n",
      "Polynomial model of degree 5: Deaths = -0.3660297236415526  +  0.17447879867174 * (Day)  +  -0.007673289156246924 * (Day)^2  +  0.00011670236517786449 * (Day)^3  +  -6.678281199566451e-07 * (Day)^4  +  1.2857443957970237e-09 * (Day)^5\n",
      "RMSE for poly 5 is  5.5437482785533705 \n",
      "\n",
      "Polynomial model of degree 7: Deaths = 2.0433998642661396e-05  +  0.0004655465556276374 * (Day)  +  0.006696402282530649 * (Day)^2  +  -0.0003033268923495002 * (Day)^3  +  5.017890268162033e-06 * (Day)^4  +  -3.762862001925357e-08 * (Day)^5  +  1.3083939156216844e-10 * (Day)^6  +  -1.717273020202999e-13 * (Day)^7\n",
      "RMSE for poly 7 is  5.511782929904132 \n",
      "\n"
     ]
    }
   ],
   "source": [
    "#RMSE\n",
    "X = texas_death_trends['Day']\n",
    "y = texas_death_trends['Deaths']\n",
    "ypred = poly_1.predict(X)\n",
    "# calc rmse\n",
    "rmse1 = rmse(y, ypred)\n",
    "print('Linear model: Deaths =',poly_1.params['Intercept'],' + ',poly_1.params['Day'],'* (Day)')\n",
    "print('RMSE is for poly 1 is ', rmse1,'\\n')\n",
    "ypred = poly_3.predict(X)\n",
    "# calc rmse\n",
    "rmse3 = rmse(y, ypred)\n",
    "print('Polynomial model of degree 3: Deaths =',poly_3.params['Intercept'],' + ',poly_3.params['Day'],'* (Day)',' + ',poly_3.params['I(Day ** 2.0)'],'* (Day)^2',' + ',poly_3.params['I(Day ** 3.0)'],'* (Day)^3')\n",
    "print('RMSE for poly 3 is ', rmse3,'\\n')\n",
    "ypred = poly_5.predict(X)\n",
    "# calc rmse\n",
    "rmse5 = rmse(y, ypred)\n",
    "print('Polynomial model of degree 5: Deaths =',poly_5.params['Intercept'],' + ',poly_5.params['Day'],'* (Day)',' + ',poly_5.params['I(Day ** 2.0)'],'* (Day)^2',' + ',poly_5.params['I(Day ** 3.0)'],'* (Day)^3',' + ',poly_5.params['I(Day ** 4.0)'],'* (Day)^4',' + ',poly_5.params['I(Day ** 5.0)'],'* (Day)^5')\n",
    "print('RMSE for poly 5 is ', rmse5,'\\n')\n",
    "ypred = poly_7.predict(X)\n",
    "# calc rmse\n",
    "rmse7 = rmse(y, ypred)\n",
    "print('Polynomial model of degree 7: Deaths =',poly_7.params['Intercept'],' + ',poly_7.params['Day'],'* (Day)',' + ',poly_7.params['I(Day ** 2.0)'],'* (Day)^2',' + ',poly_7.params['I(Day ** 3.0)'],'* (Day)^3',' + ',poly_7.params['I(Day ** 4.0)'],'* (Day)^4',' + ',poly_7.params['I(Day ** 5.0)'],'* (Day)^5',' + ',poly_7.params['I(Day ** 6.0)'],'* (Day)^6',' + ',poly_7.params['I(Day ** 7.0)'],'* (Day)^7')\n",
    "print('RMSE for poly 7 is ', rmse7,'\\n')"
   ]
  },
  {
   "cell_type": "markdown",
   "metadata": {},
   "source": [
    "### Modeling for Top Five Texas Counties for New Cases"
   ]
  },
  {
   "cell_type": "code",
   "execution_count": 30,
   "metadata": {},
   "outputs": [],
   "source": [
    "top_five = case_days[[x for x in case_days.columns if '/20' in x or x=='County_Name']].groupby('County_Name').sum(axis=1)\n",
    "top_five[\"sum\"] = top_five.sum(axis=1)\n",
    "top_five = top_five.sort_values(by=['sum'], inplace=False, ascending=False).head(5)\n",
    "top_five = top_five.reset_index(level=0, inplace=False)"
   ]
  },
  {
   "cell_type": "code",
   "execution_count": 31,
   "metadata": {},
   "outputs": [
    {
     "data": {
      "text/html": [
       "<div>\n",
       "<style scoped>\n",
       "    .dataframe tbody tr th:only-of-type {\n",
       "        vertical-align: middle;\n",
       "    }\n",
       "\n",
       "    .dataframe tbody tr th {\n",
       "        vertical-align: top;\n",
       "    }\n",
       "\n",
       "    .dataframe thead th {\n",
       "        text-align: right;\n",
       "    }\n",
       "</style>\n",
       "<table border=\"1\" class=\"dataframe\">\n",
       "  <thead>\n",
       "    <tr style=\"text-align: right;\">\n",
       "      <th></th>\n",
       "      <th>County_Name</th>\n",
       "      <th>1/27/20x</th>\n",
       "      <th>1/28/20x</th>\n",
       "      <th>1/29/20x</th>\n",
       "      <th>1/30/20x</th>\n",
       "      <th>1/31/20x</th>\n",
       "      <th>2/1/20x</th>\n",
       "      <th>2/2/20x</th>\n",
       "      <th>2/3/20x</th>\n",
       "      <th>2/4/20x</th>\n",
       "      <th>...</th>\n",
       "      <th>11/1/20x</th>\n",
       "      <th>11/2/20x</th>\n",
       "      <th>11/3/20x</th>\n",
       "      <th>11/4/20x</th>\n",
       "      <th>11/5/20x</th>\n",
       "      <th>11/6/20x</th>\n",
       "      <th>11/7/20x</th>\n",
       "      <th>11/8/20x</th>\n",
       "      <th>11/9/20x</th>\n",
       "      <th>sum</th>\n",
       "    </tr>\n",
       "  </thead>\n",
       "  <tbody>\n",
       "    <tr>\n",
       "      <td>0</td>\n",
       "      <td>Terrell County</td>\n",
       "      <td>3</td>\n",
       "      <td>3</td>\n",
       "      <td>3</td>\n",
       "      <td>3</td>\n",
       "      <td>3</td>\n",
       "      <td>3</td>\n",
       "      <td>3</td>\n",
       "      <td>3</td>\n",
       "      <td>3</td>\n",
       "      <td>...</td>\n",
       "      <td>3</td>\n",
       "      <td>3</td>\n",
       "      <td>3</td>\n",
       "      <td>3</td>\n",
       "      <td>13</td>\n",
       "      <td>6</td>\n",
       "      <td>3</td>\n",
       "      <td>3</td>\n",
       "      <td>3</td>\n",
       "      <td>889</td>\n",
       "    </tr>\n",
       "    <tr>\n",
       "      <td>1</td>\n",
       "      <td>Goliad County</td>\n",
       "      <td>1</td>\n",
       "      <td>1</td>\n",
       "      <td>1</td>\n",
       "      <td>1</td>\n",
       "      <td>1</td>\n",
       "      <td>1</td>\n",
       "      <td>1</td>\n",
       "      <td>1</td>\n",
       "      <td>1</td>\n",
       "      <td>...</td>\n",
       "      <td>1</td>\n",
       "      <td>0</td>\n",
       "      <td>1</td>\n",
       "      <td>1</td>\n",
       "      <td>1</td>\n",
       "      <td>1</td>\n",
       "      <td>1</td>\n",
       "      <td>1</td>\n",
       "      <td>1</td>\n",
       "      <td>287</td>\n",
       "    </tr>\n",
       "    <tr>\n",
       "      <td>2</td>\n",
       "      <td>Roberts County</td>\n",
       "      <td>0</td>\n",
       "      <td>0</td>\n",
       "      <td>0</td>\n",
       "      <td>0</td>\n",
       "      <td>0</td>\n",
       "      <td>0</td>\n",
       "      <td>0</td>\n",
       "      <td>0</td>\n",
       "      <td>0</td>\n",
       "      <td>...</td>\n",
       "      <td>0</td>\n",
       "      <td>0</td>\n",
       "      <td>0</td>\n",
       "      <td>0</td>\n",
       "      <td>0</td>\n",
       "      <td>0</td>\n",
       "      <td>6</td>\n",
       "      <td>0</td>\n",
       "      <td>0</td>\n",
       "      <td>96</td>\n",
       "    </tr>\n",
       "    <tr>\n",
       "      <td>3</td>\n",
       "      <td>Kent County</td>\n",
       "      <td>0</td>\n",
       "      <td>0</td>\n",
       "      <td>0</td>\n",
       "      <td>0</td>\n",
       "      <td>0</td>\n",
       "      <td>0</td>\n",
       "      <td>0</td>\n",
       "      <td>0</td>\n",
       "      <td>0</td>\n",
       "      <td>...</td>\n",
       "      <td>0</td>\n",
       "      <td>0</td>\n",
       "      <td>0</td>\n",
       "      <td>0</td>\n",
       "      <td>0</td>\n",
       "      <td>0</td>\n",
       "      <td>0</td>\n",
       "      <td>0</td>\n",
       "      <td>0</td>\n",
       "      <td>83</td>\n",
       "    </tr>\n",
       "    <tr>\n",
       "      <td>4</td>\n",
       "      <td>McMullen County</td>\n",
       "      <td>0</td>\n",
       "      <td>0</td>\n",
       "      <td>0</td>\n",
       "      <td>0</td>\n",
       "      <td>0</td>\n",
       "      <td>0</td>\n",
       "      <td>0</td>\n",
       "      <td>0</td>\n",
       "      <td>0</td>\n",
       "      <td>...</td>\n",
       "      <td>0</td>\n",
       "      <td>0</td>\n",
       "      <td>0</td>\n",
       "      <td>0</td>\n",
       "      <td>0</td>\n",
       "      <td>0</td>\n",
       "      <td>0</td>\n",
       "      <td>0</td>\n",
       "      <td>0</td>\n",
       "      <td>81</td>\n",
       "    </tr>\n",
       "  </tbody>\n",
       "</table>\n",
       "<p>5 rows × 290 columns</p>\n",
       "</div>"
      ],
      "text/plain": [
       "       County_Name  1/27/20x  1/28/20x  1/29/20x  1/30/20x  1/31/20x  2/1/20x  \\\n",
       "0   Terrell County         3         3         3         3         3        3   \n",
       "1    Goliad County         1         1         1         1         1        1   \n",
       "2   Roberts County         0         0         0         0         0        0   \n",
       "3      Kent County         0         0         0         0         0        0   \n",
       "4  McMullen County         0         0         0         0         0        0   \n",
       "\n",
       "   2/2/20x  2/3/20x  2/4/20x  ...  11/1/20x  11/2/20x  11/3/20x  11/4/20x  \\\n",
       "0        3        3        3  ...         3         3         3         3   \n",
       "1        1        1        1  ...         1         0         1         1   \n",
       "2        0        0        0  ...         0         0         0         0   \n",
       "3        0        0        0  ...         0         0         0         0   \n",
       "4        0        0        0  ...         0         0         0         0   \n",
       "\n",
       "   11/5/20x  11/6/20x  11/7/20x  11/8/20x  11/9/20x  sum  \n",
       "0        13         6         3         3         3  889  \n",
       "1         1         1         1         1         1  287  \n",
       "2         0         0         6         0         0   96  \n",
       "3         0         0         0         0         0   83  \n",
       "4         0         0         0         0         0   81  \n",
       "\n",
       "[5 rows x 290 columns]"
      ]
     },
     "execution_count": 31,
     "metadata": {},
     "output_type": "execute_result"
    }
   ],
   "source": [
    "top_five.head()"
   ]
  },
  {
   "cell_type": "markdown",
   "metadata": {},
   "source": [
    "#### Terrell County"
   ]
  },
  {
   "cell_type": "code",
   "execution_count": 32,
   "metadata": {},
   "outputs": [],
   "source": [
    "terrell_county = top_five.iloc[0].to_frame().T[[x for x in top_five.columns if '/20' in x]]\n",
    "terrell_county.columns = [i+1 for i in range(len(terrell_county.columns))]\n",
    "temp = terrell_county\n",
    "terrell_county = pd.DataFrame()\n",
    "terrell_county['Day'] = temp.iloc[0].index.tolist()\n",
    "terrell_county['Cases'] = temp.iloc[0].tolist()"
   ]
  },
  {
   "cell_type": "code",
   "execution_count": 33,
   "metadata": {},
   "outputs": [
    {
     "data": {
      "text/plain": [
       "<matplotlib.legend.Legend at 0x1c1e42dd10>"
      ]
     },
     "execution_count": 33,
     "metadata": {},
     "output_type": "execute_result"
    },
    {
     "data": {
      "image/png": "[encoded data removed]",
      "text/plain": [
       "<Figure size 931.968x576 with 1 Axes>"
      ]
     },
     "metadata": {
      "needs_background": "light"
     },
     "output_type": "display_data"
    }
   ],
   "source": [
    "plt.figure(figsize=(8 * 1.618, 8))\n",
    "\n",
    "plt.scatter(terrell_county.Day, terrell_county.Cases)\n",
    "\n",
    "df1 = terrell_county\n",
    "\n",
    "poly_1 = smf.ols(formula='Cases ~ 1 + Day', data=terrell_county).fit()\n",
    "\n",
    "x = pd.DataFrame({'Day': np.linspace(terrell_county.Day.min(), terrell_county.Day.max(), 200)})\n",
    "\n",
    "plt.plot(x.Day, poly_1.predict(x), 'b-', label='Poly n=1 $R^2$=%.2f' % poly_1.rsquared, alpha=0.9)\n",
    "\n",
    "# 3-rd order polynomial\n",
    "poly_3 = smf.ols(formula='Cases ~ 1 + Day + I(Day ** 2.0) + I(Day ** 3.0)', data=terrell_county).fit()\n",
    "plt.plot(x.Day, poly_3.predict(x), 'y-', alpha=0.9, label='Poly n=3 $R^2$=%.2f' % poly_3.rsquared)\n",
    "\n",
    "# 5-th order polynomial\n",
    "poly_5 = smf.ols(formula='Cases ~ 1 + Day + I(Day ** 2.0) + I(Day ** 3.0) + I(Day ** 4.0) + I(Day ** 5.0)', data=terrell_county).fit()\n",
    "plt.plot(x.Day, poly_5.predict(x), 'r-', alpha=0.9, label='Poly n=5 $R^2$=%.2f' % poly_5.rsquared)\n",
    "\n",
    "\n",
    "# 7-nd order polynomial\n",
    "poly_7 = smf.ols(formula='Cases ~ 1 + Day + I(Day ** 2.0) + I(Day ** 3.0) + I(Day ** 4.0) + I(Day ** 5.0) + I(Day ** 6.0) + I(Day ** 7.0)', data=terrell_county).fit()\n",
    "plt.plot(x.Day, poly_7.predict(x), 'g-', label='Poly n=7 $R^2$=%.2f' % poly_7.rsquared, alpha=0.9)\n",
    "\n",
    "\n",
    "plt.legend()"
   ]
  },
  {
   "cell_type": "code",
   "execution_count": 34,
   "metadata": {},
   "outputs": [
    {
     "name": "stdout",
     "output_type": "stream",
     "text": [
      "Linear model: Cases = 2.91248064266357  +  0.0012064007812594164 * (Day)\n",
      "RMSE is for poly 1 is  0.7405250803083462 \n",
      "\n",
      "Polynomial model of degree 3: Cases = 2.847677461602461  +  0.007388072473237248 * (Day)  +  -7.17573787715382e-05 * (Day)^2  +  1.9387084484880716e-07 * (Day)^3\n",
      "RMSE for poly 3 is  0.7314029418243614 \n",
      "\n",
      "Polynomial model of degree 5: Cases = 2.870132052610291  +  0.01664494783036022 * (Day)  +  -0.0004966735859730696 * (Day)^2  +  5.5089869127049e-06 * (Day)^3  +  -2.493304556150526e-08 * (Day)^4  +  3.923465245594825e-11 * (Day)^5\n",
      "RMSE for poly 5 is  0.7167986561442328 \n",
      "\n",
      "Polynomial model of degree 7: Cases = 1.052248894893514e-05  +  0.00026878257024153353 * (Day)  +  0.005553798555437242 * (Day)^2  +  -0.0001399316059280978 * (Day)^3  +  1.4400324808624884e-06 * (Day)^4  +  -7.3206481269997635e-09 * (Day)^5  +  1.821340330154168e-11 * (Day)^6  +  -1.7704137941360693e-14 * (Day)^7\n",
      "RMSE for poly 7 is  1.0346973751184319 \n",
      "\n"
     ]
    }
   ],
   "source": [
    "#RMSE\n",
    "X = terrell_county['Day']\n",
    "y = terrell_county['Cases']\n",
    "ypred = poly_1.predict(X)\n",
    "# calc rmse\n",
    "rmse1 = rmse(y, ypred)\n",
    "print('Linear model: Cases =',poly_1.params['Intercept'],' + ',poly_1.params['Day'],'* (Day)')\n",
    "print('RMSE is for poly 1 is ', rmse1,'\\n')\n",
    "ypred = poly_3.predict(X)\n",
    "# calc rmse\n",
    "rmse3 = rmse(y, ypred)\n",
    "print('Polynomial model of degree 3: Cases =',poly_3.params['Intercept'],' + ',poly_3.params['Day'],'* (Day)',' + ',poly_3.params['I(Day ** 2.0)'],'* (Day)^2',' + ',poly_3.params['I(Day ** 3.0)'],'* (Day)^3')\n",
    "print('RMSE for poly 3 is ', rmse3,'\\n')\n",
    "ypred = poly_5.predict(X)\n",
    "# calc rmse\n",
    "rmse5 = rmse(y, ypred)\n",
    "print('Polynomial model of degree 5: Cases =',poly_5.params['Intercept'],' + ',poly_5.params['Day'],'* (Day)',' + ',poly_5.params['I(Day ** 2.0)'],'* (Day)^2',' + ',poly_5.params['I(Day ** 3.0)'],'* (Day)^3',' + ',poly_5.params['I(Day ** 4.0)'],'* (Day)^4',' + ',poly_5.params['I(Day ** 5.0)'],'* (Day)^5')\n",
    "print('RMSE for poly 5 is ', rmse5,'\\n')\n",
    "ypred = poly_7.predict(X)\n",
    "# calc rmse\n",
    "rmse7 = rmse(y, ypred)\n",
    "print('Polynomial model of degree 7: Cases =',poly_7.params['Intercept'],' + ',poly_7.params['Day'],'* (Day)',' + ',poly_7.params['I(Day ** 2.0)'],'* (Day)^2',' + ',poly_7.params['I(Day ** 3.0)'],'* (Day)^3',' + ',poly_7.params['I(Day ** 4.0)'],'* (Day)^4',' + ',poly_7.params['I(Day ** 5.0)'],'* (Day)^5',' + ',poly_7.params['I(Day ** 6.0)'],'* (Day)^6',' + ',poly_7.params['I(Day ** 7.0)'],'* (Day)^7')\n",
    "print('RMSE for poly 7 is ', rmse7,'\\n')"
   ]
  },
  {
   "cell_type": "markdown",
   "metadata": {},
   "source": [
    "#### Goliad County"
   ]
  },
  {
   "cell_type": "code",
   "execution_count": 35,
   "metadata": {},
   "outputs": [],
   "source": [
    "goliad_county = top_five.iloc[1].to_frame().T[[x for x in top_five.columns if '/20' in x]]\n",
    "goliad_county.columns = [i+1 for i in range(len(goliad_county.columns))]\n",
    "temp = goliad_county\n",
    "goliad_county = pd.DataFrame()\n",
    "goliad_county['Day'] = temp.iloc[0].index.tolist()\n",
    "goliad_county['Cases'] = temp.iloc[0].tolist()"
   ]
  },
  {
   "cell_type": "code",
   "execution_count": 36,
   "metadata": {},
   "outputs": [
    {
     "data": {
      "text/plain": [
       "<matplotlib.legend.Legend at 0x1c1e4ba950>"
      ]
     },
     "execution_count": 36,
     "metadata": {},
     "output_type": "execute_result"
    },
    {
     "data": {
      "image/png": "[encoded data removed]",
      "text/plain": [
       "<Figure size 931.968x576 with 1 Axes>"
      ]
     },
     "metadata": {
      "needs_background": "light"
     },
     "output_type": "display_data"
    }
   ],
   "source": [
    "plt.figure(figsize=(8 * 1.618, 8))\n",
    "\n",
    "plt.scatter(goliad_county.Day, goliad_county.Cases)\n",
    "\n",
    "df1 = goliad_county\n",
    "\n",
    "poly_1 = smf.ols(formula='Cases ~ 1 + Day', data=goliad_county).fit()\n",
    "\n",
    "x = pd.DataFrame({'Day': np.linspace(goliad_county.Day.min(), goliad_county.Day.max(), 200)})\n",
    "\n",
    "plt.plot(x.Day, poly_1.predict(x), 'b-', label='Poly n=1 $R^2$=%.2f' % poly_1.rsquared, alpha=0.9)\n",
    "\n",
    "# 3-rd order polynomial\n",
    "poly_3 = smf.ols(formula='Cases ~ 1 + Day + I(Day ** 2.0) + I(Day ** 3.0)', data=goliad_county).fit()\n",
    "plt.plot(x.Day, poly_3.predict(x), 'y-', alpha=0.9, label='Poly n=3 $R^2$=%.2f' % poly_3.rsquared)\n",
    "\n",
    "# 5-th order polynomial\n",
    "poly_5 = smf.ols(formula='Cases ~ 1 + Day + I(Day ** 2.0) + I(Day ** 3.0) + I(Day ** 4.0) + I(Day ** 5.0)', data=goliad_county).fit()\n",
    "plt.plot(x.Day, poly_5.predict(x), 'r-', alpha=0.9, label='Poly n=5 $R^2$=%.2f' % poly_5.rsquared)\n",
    "\n",
    "\n",
    "# 7-nd order polynomial\n",
    "poly_7 = smf.ols(formula='Cases ~ 1 + Day + I(Day ** 2.0) + I(Day ** 3.0) + I(Day ** 4.0) + I(Day ** 5.0) + I(Day ** 6.0) + + I(Day ** 7.0)', data=goliad_county).fit()\n",
    "plt.plot(x.Day, poly_7.predict(x), 'g-', label='Poly n=7 $R^2$=%.2f' % poly_7.rsquared, alpha=0.9)\n",
    "\n",
    "\n",
    "plt.legend()"
   ]
  },
  {
   "cell_type": "code",
   "execution_count": 37,
   "metadata": {},
   "outputs": [
    {
     "name": "stdout",
     "output_type": "stream",
     "text": [
      "Linear model: Cases = 1.0064363143631438  +  -6.857118744197846e-05 * (Day)\n",
      "RMSE is for poly 1 is  0.05854627237789816 \n",
      "\n",
      "Polynomial model of degree 3: Cases = 1.0091230264531403  +  -0.0004837357800285898 * (Day)  +  5.177793963578413e-06 * (Day)  +  -1.4400493632579986e-08 * (Day)\n",
      "RMSE for poly 3 is  0.05781070397489714 \n",
      "\n",
      "Polynomial model of degree 5: Cases = 1.0058793202525063  +  -0.000732954231793639 * (Day)  +  2.130837952148422e-05 * (Day)  +  -2.3324187138793188e-07 * (Day)  +  1.0646764537917415e-09 * (Day)  +  -1.710407777810797e-12 * (Day)\n",
      "RMSE for poly 5 is  0.0573954863968507 \n",
      "\n",
      "Polynomial model of degree 7: Cases = 3.5761229263979237e-06  +  9.134701931008079e-05 * (Day)  +  0.0018874757548533912 * (Day)  +  -4.8018299046594806e-05 * (Day)  +  4.99705385397784e-07 * (Day)  +  -2.5759878873870244e-09 * (Day)  +  6.519443277424111e-12 * (Day)  +  -6.467649050179514e-15 * (Day)\n",
      "RMSE for poly 7 is  0.2533523415839453 \n",
      "\n"
     ]
    }
   ],
   "source": [
    "#RMSE\n",
    "X = goliad_county['Day']\n",
    "y = goliad_county['Cases']\n",
    "ypred = poly_1.predict(X)\n",
    "# calc rmse\n",
    "rmse1 = rmse(y, ypred)\n",
    "print('Linear model: Cases =',poly_1.params['Intercept'],' + ',poly_1.params['Day'],'* (Day)')\n",
    "print('RMSE is for poly 1 is ', rmse1,'\\n')\n",
    "ypred = poly_3.predict(X)\n",
    "# calc rmse\n",
    "rmse3 = rmse(y, ypred)\n",
    "print('Polynomial model of degree 3: Cases =',poly_3.params['Intercept'],' + ',poly_3.params['Day'],'* (Day)',' + ',poly_3.params['I(Day ** 2.0)'],'* (Day)',' + ',poly_3.params['I(Day ** 3.0)'],'* (Day)')\n",
    "print('RMSE for poly 3 is ', rmse3,'\\n')\n",
    "ypred = poly_5.predict(X)\n",
    "# calc rmse\n",
    "rmse5 = rmse(y, ypred)\n",
    "print('Polynomial model of degree 5: Cases =',poly_5.params['Intercept'],' + ',poly_5.params['Day'],'* (Day)',' + ',poly_5.params['I(Day ** 2.0)'],'* (Day)',' + ',poly_5.params['I(Day ** 3.0)'],'* (Day)',' + ',poly_5.params['I(Day ** 4.0)'],'* (Day)',' + ',poly_5.params['I(Day ** 5.0)'],'* (Day)')\n",
    "print('RMSE for poly 5 is ', rmse5,'\\n')\n",
    "ypred = poly_7.predict(X)\n",
    "# calc rmse\n",
    "rmse7 = rmse(y, ypred)\n",
    "print('Polynomial model of degree 7: Cases =',poly_7.params['Intercept'],' + ',poly_7.params['Day'],'* (Day)',' + ',poly_7.params['I(Day ** 2.0)'],'* (Day)',' + ',poly_7.params['I(Day ** 3.0)'],'* (Day)',' + ',poly_7.params['I(Day ** 4.0)'],'* (Day)',' + ',poly_7.params['I(Day ** 5.0)'],'* (Day)',' + ',poly_7.params['I(Day ** 6.0)'],'* (Day)',' + ',poly_7.params['I(Day ** 7.0)'],'* (Day)')\n",
    "print('RMSE for poly 7 is ', rmse7,'\\n')"
   ]
  },
  {
   "cell_type": "markdown",
   "metadata": {},
   "source": [
    "#### Roberts County"
   ]
  },
  {
   "cell_type": "code",
   "execution_count": 38,
   "metadata": {},
   "outputs": [],
   "source": [
    "roberts_county = top_five.iloc[2].to_frame().T[[x for x in top_five.columns if '/20' in x]]\n",
    "roberts_county.columns = [i+1 for i in range(len(roberts_county.columns))]\n",
    "temp = roberts_county\n",
    "roberts_county = pd.DataFrame()\n",
    "roberts_county['Day'] = temp.iloc[0].index.tolist()\n",
    "roberts_county['Cases'] = temp.iloc[0].tolist()"
   ]
  },
  {
   "cell_type": "code",
   "execution_count": 39,
   "metadata": {},
   "outputs": [
    {
     "data": {
      "text/plain": [
       "<matplotlib.legend.Legend at 0x1c1f7a0250>"
      ]
     },
     "execution_count": 39,
     "metadata": {},
     "output_type": "execute_result"
    },
    {
     "data": {
      "image/png": "[encoded data removed]",
      "text/plain": [
       "<Figure size 931.968x576 with 1 Axes>"
      ]
     },
     "metadata": {
      "needs_background": "light"
     },
     "output_type": "display_data"
    }
   ],
   "source": [
    "plt.figure(figsize=(8 * 1.618, 8))\n",
    "\n",
    "plt.scatter(roberts_county.Day, roberts_county.Cases)\n",
    "\n",
    "df1 = roberts_county\n",
    "\n",
    "poly_1 = smf.ols(formula='Cases ~ 1 + Day', data=roberts_county).fit()\n",
    "\n",
    "x = pd.DataFrame({'Day': np.linspace(roberts_county.Day.min(), roberts_county.Day.max(), 200)})\n",
    "\n",
    "plt.plot(x.Day, poly_1.predict(x), 'b-', label='Poly n=1 $R^2$=%.2f' % poly_1.rsquared, alpha=0.9)\n",
    "\n",
    "# 3-rd order polynomial\n",
    "poly_3 = smf.ols(formula='Cases ~ 1 + Day + I(Day ** 2.0) + I(Day ** 3.0)', data=roberts_county).fit()\n",
    "plt.plot(x.Day, poly_3.predict(x), 'y-', alpha=0.9, label='Poly n=3 $R^2$=%.2f' % poly_3.rsquared)\n",
    "\n",
    "# 5-th order polynomial\n",
    "poly_5 = smf.ols(formula='Cases ~ 1 + Day + I(Day ** 2.0) + I(Day ** 3.0) + I(Day ** 4.0) + I(Day ** 5.0)', data=roberts_county).fit()\n",
    "plt.plot(x.Day, poly_5.predict(x), 'r-', alpha=0.9, label='Poly n=5 $R^2$=%.2f' % poly_5.rsquared)\n",
    "\n",
    "\n",
    "# 7-nd order polynomial\n",
    "poly_7 = smf.ols(formula='Cases ~ 1 + Day + I(Day ** 2.0) + I(Day ** 3.0) + I(Day ** 4.0) + I(Day ** 5.0) + I(Day ** 6.0) + I(Day ** 7.0)', data=roberts_county).fit()\n",
    "plt.plot(x.Day, poly_7.predict(x), 'g-', label='Poly n=7 $R^2$=%.2f' % poly_7.rsquared, alpha=0.9)\n",
    "\n",
    "\n",
    "plt.legend()"
   ]
  },
  {
   "cell_type": "code",
   "execution_count": 40,
   "metadata": {},
   "outputs": [
    {
     "name": "stdout",
     "output_type": "stream",
     "text": [
      "Linear model: Cases = -0.08565621370499424  +  0.002899581640403651 * (Day)\n",
      "RMSE is for poly 1 is  1.5266880624997146 \n",
      "\n",
      "Polynomial model of degree 3: Cases = -0.03605262944260529  +  0.0024104025666780793 * (Day)  +  -3.895638419115454e-06 * (Day)^2  +  2.151006335554756e-08 * (Day)^3\n",
      "RMSE for poly 3 is  1.5262882185890672 \n",
      "\n",
      "Polynomial model of degree 5: Cases = 0.0355153797009235  +  -0.007366123218572707 * (Day)  +  0.00027552118809937904 * (Day)^2  +  -2.857324496741411e-06 * (Day)^3  +  1.2129045389890722e-08 * (Day)^4  +  -1.7821531406714834e-11 * (Day)^5\n",
      "RMSE for poly 5 is  1.5255075531127267 \n",
      "\n",
      "Polynomial model of degree 7: Cases = -1.0267427577126744e-07  +  -2.6221198581003053e-06 * (Day)  +  -5.414644787775182e-05 * (Day)^2  +  3.1475902741084908e-06 * (Day)^3  +  -4.2095327988340915e-08 * (Day)^4  +  2.3961488425915896e-10 * (Day)^5  +  -6.156672266104087e-13 * (Day)^6  +  5.848664196598797e-16 * (Day)^7\n",
      "RMSE for poly 7 is  1.525484318162588 \n",
      "\n"
     ]
    }
   ],
   "source": [
    "\n",
    "#RMSE\n",
    "X = roberts_county['Day']\n",
    "y = roberts_county['Cases']\n",
    "ypred = poly_1.predict(X)\n",
    "# calc rmse\n",
    "rmse1 = rmse(y, ypred)\n",
    "print('Linear model: Cases =',poly_1.params['Intercept'],' + ',poly_1.params['Day'],'* (Day)')\n",
    "print('RMSE is for poly 1 is ', rmse1,'\\n')\n",
    "ypred = poly_3.predict(X)\n",
    "# calc rmse\n",
    "rmse3 = rmse(y, ypred)\n",
    "print('Polynomial model of degree 3: Cases =',poly_3.params['Intercept'],' + ',poly_3.params['Day'],'* (Day)',' + ',poly_3.params['I(Day ** 2.0)'],'* (Day)^2',' + ',poly_3.params['I(Day ** 3.0)'],'* (Day)^3')\n",
    "print('RMSE for poly 3 is ', rmse3,'\\n')\n",
    "ypred = poly_5.predict(X)\n",
    "# calc rmse\n",
    "rmse5 = rmse(y, ypred)\n",
    "print('Polynomial model of degree 5: Cases =',poly_5.params['Intercept'],' + ',poly_5.params['Day'],'* (Day)',' + ',poly_5.params['I(Day ** 2.0)'],'* (Day)^2',' + ',poly_5.params['I(Day ** 3.0)'],'* (Day)^3',' + ',poly_5.params['I(Day ** 4.0)'],'* (Day)^4',' + ',poly_5.params['I(Day ** 5.0)'],'* (Day)^5')\n",
    "print('RMSE for poly 5 is ', rmse5,'\\n')\n",
    "ypred = poly_7.predict(X)\n",
    "# calc rmse\n",
    "rmse7 = rmse(y, ypred)\n",
    "print('Polynomial model of degree 7: Cases =',poly_7.params['Intercept'],' + ',poly_7.params['Day'],'* (Day)',' + ',poly_7.params['I(Day ** 2.0)'],'* (Day)^2',' + ',poly_7.params['I(Day ** 3.0)'],'* (Day)^3',' + ',poly_7.params['I(Day ** 4.0)'],'* (Day)^4',' + ',poly_7.params['I(Day ** 5.0)'],'* (Day)^5',' + ',poly_7.params['I(Day ** 6.0)'],'* (Day)^6',' + ',poly_7.params['I(Day ** 7.0)'],'* (Day)^7')\n",
    "print('RMSE for poly 7 is ', rmse7,'\\n')"
   ]
  },
  {
   "cell_type": "markdown",
   "metadata": {},
   "source": [
    "#### Kent County"
   ]
  },
  {
   "cell_type": "code",
   "execution_count": 41,
   "metadata": {},
   "outputs": [],
   "source": [
    "kent_county = top_five.iloc[3].to_frame().T[[x for x in top_five.columns if '/20' in x]]\n",
    "kent_county.columns = [i+1 for i in range(len(kent_county.columns))]\n",
    "temp = kent_county\n",
    "kent_county = pd.DataFrame()\n",
    "kent_county['Day'] = temp.iloc[0].index.tolist()\n",
    "kent_county['Cases'] = temp.iloc[0].tolist()"
   ]
  },
  {
   "cell_type": "code",
   "execution_count": 42,
   "metadata": {},
   "outputs": [
    {
     "data": {
      "text/plain": [
       "<matplotlib.legend.Legend at 0x1c1fc363d0>"
      ]
     },
     "execution_count": 42,
     "metadata": {},
     "output_type": "execute_result"
    },
    {
     "data": {
      "image/png": "[encoded data removed]",
      "text/plain": [
       "<Figure size 931.968x576 with 1 Axes>"
      ]
     },
     "metadata": {
      "needs_background": "light"
     },
     "output_type": "display_data"
    }
   ],
   "source": [
    "plt.figure(figsize=(8 * 1.618, 8))\n",
    "\n",
    "plt.scatter(kent_county.Day, kent_county.Cases)\n",
    "\n",
    "df1 = kent_county\n",
    "\n",
    "poly_1 = smf.ols(formula='Cases ~ 1 + Day', data=kent_county).fit()\n",
    "\n",
    "x = pd.DataFrame({'Day': np.linspace(kent_county.Day.min(), kent_county.Day.max(), 200)})\n",
    "\n",
    "plt.plot(x.Day, poly_1.predict(x), 'b-', label='Poly n=1 $R^2$=%.2f' % poly_1.rsquared, alpha=0.9)\n",
    "\n",
    "# 3-rd order polynomial\n",
    "poly_3 = smf.ols(formula='Cases ~ 1 + Day + I(Day ** 2.0) + I(Day ** 3.0)', data=kent_county).fit()\n",
    "plt.plot(x.Day, poly_3.predict(x), 'y-', alpha=0.9, label='Poly n=3 $R^2$=%.2f' % poly_3.rsquared)\n",
    "\n",
    "# 5-th order polynomial\n",
    "poly_5 = smf.ols(formula='Cases ~ 1 + Day + I(Day ** 2.0) + I(Day ** 3.0) + I(Day ** 4.0) + I(Day ** 5.0)', data=kent_county).fit()\n",
    "plt.plot(x.Day, poly_5.predict(x), 'r-', alpha=0.9, label='Poly n=5 $R^2$=%.2f' % poly_5.rsquared)\n",
    "\n",
    "\n",
    "# 7-nd order polynomial\n",
    "poly_7 = smf.ols(formula='Cases ~ 1 + Day + I(Day ** 2.0) + I(Day ** 3.0) + I(Day ** 4.0) + I(Day ** 5.0) + I(Day ** 6.0) + I(Day ** 7.0)', data=kent_county).fit()\n",
    "plt.plot(x.Day, poly_7.predict(x), 'g-', label='Poly n=7 $R^2$=%.2f' % poly_7.rsquared, alpha=0.9)\n",
    "\n",
    "\n",
    "plt.legend()"
   ]
  },
  {
   "cell_type": "code",
   "execution_count": 43,
   "metadata": {},
   "outputs": [
    {
     "name": "stdout",
     "output_type": "stream",
     "text": [
      "Linear model: Cases = -0.1797570654277972  +  0.0032384187534411192 * (Day)\n",
      "RMSE is for poly 1 is  1.4603597761352016 \n",
      "\n",
      "Polynomial model of degree 3: Cases = 0.1788387229702812  +  -0.010614934805991343 * (Day)  +  0.00011487965250734112 * (Day)^2  +  -2.576764872438062e-07 * (Day)^3\n",
      "RMSE for poly 3 is  1.4555877570800189 \n",
      "\n",
      "Polynomial model of degree 5: Cases = -0.25920172604426944  +  0.031089727889036533 * (Day)  +  -0.000841118867458345 * (Day)^2  +  8.213017090110904e-06 * (Day)^3  +  -3.195198684963037e-08 * (Day)^4  +  4.3122546482736006e-11 * (Day)^5\n",
      "RMSE for poly 5 is  1.4517618221362414 \n",
      "\n",
      "Polynomial model of degree 7: Cases = 5.519707699250446e-07  +  1.4098773237885189e-05 * (Day)  +  0.0002912855296916876 * (Day)^2  +  -9.15563359385924e-06 * (Day)^3  +  9.820846450514409e-08 * (Day)^4  +  -4.532757265081229e-10 * (Day)^5  +  9.05824417820172e-13 * (Day)^6  +  -6.022690733386463e-16 * (Day)^7\n",
      "RMSE for poly 7 is  1.4498061341475084 \n",
      "\n"
     ]
    }
   ],
   "source": [
    "#RMSE\n",
    "X = kent_county['Day']\n",
    "y = kent_county['Cases']\n",
    "ypred = poly_1.predict(X)\n",
    "# calc rmse\n",
    "rmse1 = rmse(y, ypred)\n",
    "print('Linear model: Cases =',poly_1.params['Intercept'],' + ',poly_1.params['Day'],'* (Day)')\n",
    "print('RMSE is for poly 1 is ', rmse1,'\\n')\n",
    "ypred = poly_3.predict(X)\n",
    "# calc rmse\n",
    "rmse3 = rmse(y, ypred)\n",
    "print('Polynomial model of degree 3: Cases =',poly_3.params['Intercept'],' + ',poly_3.params['Day'],'* (Day)',' + ',poly_3.params['I(Day ** 2.0)'],'* (Day)^2',' + ',poly_3.params['I(Day ** 3.0)'],'* (Day)^3')\n",
    "print('RMSE for poly 3 is ', rmse3,'\\n')\n",
    "ypred = poly_5.predict(X)\n",
    "# calc rmse\n",
    "rmse5 = rmse(y, ypred)\n",
    "print('Polynomial model of degree 5: Cases =',poly_5.params['Intercept'],' + ',poly_5.params['Day'],'* (Day)',' + ',poly_5.params['I(Day ** 2.0)'],'* (Day)^2',' + ',poly_5.params['I(Day ** 3.0)'],'* (Day)^3',' + ',poly_5.params['I(Day ** 4.0)'],'* (Day)^4',' + ',poly_5.params['I(Day ** 5.0)'],'* (Day)^5')\n",
    "print('RMSE for poly 5 is ', rmse5,'\\n')\n",
    "ypred = poly_7.predict(X)\n",
    "# calc rmse\n",
    "rmse7 = rmse(y, ypred)\n",
    "print('Polynomial model of degree 7: Cases =',poly_7.params['Intercept'],' + ',poly_7.params['Day'],'* (Day)',' + ',poly_7.params['I(Day ** 2.0)'],'* (Day)^2',' + ',poly_7.params['I(Day ** 3.0)'],'* (Day)^3',' + ',poly_7.params['I(Day ** 4.0)'],'* (Day)^4',' + ',poly_7.params['I(Day ** 5.0)'],'* (Day)^5',' + ',poly_7.params['I(Day ** 6.0)'],'* (Day)^6',' + ',poly_7.params['I(Day ** 7.0)'],'* (Day)^7')\n",
    "print('RMSE for poly 7 is ', rmse7,'\\n')"
   ]
  },
  {
   "cell_type": "markdown",
   "metadata": {},
   "source": [
    "#### McMullen County"
   ]
  },
  {
   "cell_type": "code",
   "execution_count": 44,
   "metadata": {},
   "outputs": [],
   "source": [
    "mcmullen = top_five.iloc[4].to_frame().T[[x for x in top_five.columns if '/20' in x]]\n",
    "mcmullen.columns = [i+1 for i in range(len(mcmullen.columns))]\n",
    "temp = mcmullen\n",
    "mcmullen = pd.DataFrame()\n",
    "mcmullen['Day'] = temp.iloc[0].index.tolist()\n",
    "mcmullen['Cases'] = temp.iloc[0].tolist()"
   ]
  },
  {
   "cell_type": "code",
   "execution_count": 45,
   "metadata": {},
   "outputs": [
    {
     "data": {
      "text/plain": [
       "<matplotlib.legend.Legend at 0x1c22df1190>"
      ]
     },
     "execution_count": 45,
     "metadata": {},
     "output_type": "execute_result"
    },
    {
     "data": {
      "image/png": "[encoded data removed]",
      "text/plain": [
       "<Figure size 931.968x576 with 1 Axes>"
      ]
     },
     "metadata": {
      "needs_background": "light"
     },
     "output_type": "display_data"
    }
   ],
   "source": [
    "plt.figure(figsize=(8 * 1.618, 8))\n",
    "\n",
    "plt.scatter(mcmullen.Day, mcmullen.Cases)\n",
    "\n",
    "df1 = mcmullen\n",
    "\n",
    "poly_1 = smf.ols(formula='Cases ~ 1 + Day', data=mcmullen).fit()\n",
    "\n",
    "x = pd.DataFrame({'Day': np.linspace(mcmullen.Day.min(), mcmullen.Day.max(), 200)})\n",
    "\n",
    "plt.plot(x.Day, poly_1.predict(x), 'b-', label='Poly n=1 $R^2$=%.2f' % poly_1.rsquared, alpha=0.9)\n",
    "\n",
    "# 3-rd order polynomial\n",
    "poly_3 = smf.ols(formula='Cases ~ 1 + Day + I(Day ** 2.0) + I(Day ** 3.0)', data=mcmullen).fit()\n",
    "plt.plot(x.Day, poly_3.predict(x), 'y-', alpha=0.9, label='Poly n=3 $R^2$=%.2f' % poly_3.rsquared)\n",
    "\n",
    "# 5-th order polynomial\n",
    "poly_5 = smf.ols(formula='Cases ~ 1 + Day + I(Day ** 2.0) + I(Day ** 3.0) + I(Day ** 4.0) + I(Day ** 5.0)', data=mcmullen).fit()\n",
    "plt.plot(x.Day, poly_5.predict(x), 'r-', alpha=0.9, label='Poly n=5 $R^2$=%.2f' % poly_5.rsquared)\n",
    "\n",
    "\n",
    "# 7-nd order polynomial\n",
    "poly_7 = smf.ols(formula='Cases ~ 1 + Day + I(Day ** 2.0) + I(Day ** 3.0) + I(Day ** 4.0) + I(Day ** 5.0) + I(Day ** 6.0) + I(Day ** 7.0)', data=mcmullen).fit()\n",
    "plt.plot(x.Day, poly_7.predict(x), 'g-', label='Poly n=7 $R^2$=%.2f' % poly_7.rsquared, alpha=0.9)\n",
    "\n",
    "\n",
    "plt.legend()"
   ]
  },
  {
   "cell_type": "code",
   "execution_count": 46,
   "metadata": {},
   "outputs": [
    {
     "name": "stdout",
     "output_type": "stream",
     "text": [
      "Linear model: Cases = -0.10438443670150996  +  0.002668750427000069 * (Day)\n",
      "RMSE is for poly 1 is  1.3411761698595654 \n",
      "\n",
      "Polynomial model of degree 3: Cases = 0.35709750954509634  +  -0.020323685856751664 * (Day)  +  0.00021944280779321988 * (Day)^2  +  -5.384317834978509e-07 * (Day)^3\n",
      "RMSE for poly 3 is  1.3161402519293823 \n",
      "\n",
      "Polynomial model of degree 5: Cases = -0.28892675748609253  +  0.03343789645396715 * (Day)  +  -0.0008683572850301767 * (Day)^2  +  8.04652970834264e-06 * (Day)^3  +  -2.9063432319114345e-08 * (Day)^4  +  3.542823949412929e-11 * (Day)^5\n",
      "RMSE for poly 5 is  1.3085425192155569 \n",
      "\n",
      "Polynomial model of degree 7: Cases = -1.580850861082267e-07  +  -4.037222753585836e-06 * (Day)  +  -8.336867182641048e-05 * (Day)^2  +  4.818367463542474e-06 * (Day)^3  +  -9.07237454003468e-08 * (Day)^4  +  7.272702343974246e-10 * (Day)^5  +  -2.545256582957512e-12 * (Day)^6  +  3.2110728876147913e-15 * (Day)^7\n",
      "RMSE for poly 7 is  1.3022795005057686 \n",
      "\n"
     ]
    }
   ],
   "source": [
    "#RMSE\n",
    "X = mcmullen['Day']\n",
    "y = mcmullen['Cases']\n",
    "ypred = poly_1.predict(X)\n",
    "# calc rmse\n",
    "rmse1 = rmse(y, ypred)\n",
    "print('Linear model: Cases =',poly_1.params['Intercept'],' + ',poly_1.params['Day'],'* (Day)')\n",
    "print('RMSE is for poly 1 is ', rmse1,'\\n')\n",
    "ypred = poly_3.predict(X)\n",
    "# calc rmse\n",
    "rmse3 = rmse(y, ypred)\n",
    "print('Polynomial model of degree 3: Cases =',poly_3.params['Intercept'],' + ',poly_3.params['Day'],'* (Day)',' + ',poly_3.params['I(Day ** 2.0)'],'* (Day)^2',' + ',poly_3.params['I(Day ** 3.0)'],'* (Day)^3')\n",
    "print('RMSE for poly 3 is ', rmse3,'\\n')\n",
    "ypred = poly_5.predict(X)\n",
    "# calc rmse\n",
    "rmse5 = rmse(y, ypred)\n",
    "print('Polynomial model of degree 5: Cases =',poly_5.params['Intercept'],' + ',poly_5.params['Day'],'* (Day)',' + ',poly_5.params['I(Day ** 2.0)'],'* (Day)^2',' + ',poly_5.params['I(Day ** 3.0)'],'* (Day)^3',' + ',poly_5.params['I(Day ** 4.0)'],'* (Day)^4',' + ',poly_5.params['I(Day ** 5.0)'],'* (Day)^5')\n",
    "print('RMSE for poly 5 is ', rmse5,'\\n')\n",
    "ypred = poly_7.predict(X)\n",
    "# calc rmse\n",
    "rmse7 = rmse(y, ypred)\n",
    "print('Polynomial model of degree 7: Cases =',poly_7.params['Intercept'],' + ',poly_7.params['Day'],'* (Day)',' + ',poly_7.params['I(Day ** 2.0)'],'* (Day)^2',' + ',poly_7.params['I(Day ** 3.0)'],'* (Day)^3',' + ',poly_7.params['I(Day ** 4.0)'],'* (Day)^4',' + ',poly_7.params['I(Day ** 5.0)'],'* (Day)^5',' + ',poly_7.params['I(Day ** 6.0)'],'* (Day)^6',' + ',poly_7.params['I(Day ** 7.0)'],'* (Day)^7')\n",
    "print('RMSE for poly 7 is ', rmse7,'\\n')"
   ]
  },
  {
   "cell_type": "markdown",
   "metadata": {},
   "source": [
    "# Comparing Data with Decision Tree, Random Forest, and ARIMA for Texas Cases"
   ]
  },
  {
   "cell_type": "code",
   "execution_count": 47,
   "metadata": {},
   "outputs": [
    {
     "data": {
      "text/plain": [
       "DecisionTreeRegressor(criterion='mse', max_depth=None, max_features=None,\n",
       "                      max_leaf_nodes=None, min_impurity_decrease=0.0,\n",
       "                      min_impurity_split=None, min_samples_leaf=1,\n",
       "                      min_samples_split=2, min_weight_fraction_leaf=0.0,\n",
       "                      presort=False, random_state=0, splitter='best')"
      ]
     },
     "execution_count": 47,
     "metadata": {},
     "output_type": "execute_result"
    }
   ],
   "source": [
    "from sklearn.tree import DecisionTreeRegressor\n",
    "X = texas_case_trends['Day'].to_numpy().reshape(-1, 1)\n",
    "y = texas_case_trends['Cases']\n",
    "regressor = DecisionTreeRegressor(random_state=0)\n",
    "#Fit the regressor.\n",
    "regressor.fit(X,y)"
   ]
  },
  {
   "cell_type": "code",
   "execution_count": 48,
   "metadata": {},
   "outputs": [
    {
     "data": {
      "image/png": "[encoded data removed]",
      "text/plain": [
       "<Figure size 432x288 with 1 Axes>"
      ]
     },
     "metadata": {
      "needs_background": "light"
     },
     "output_type": "display_data"
    }
   ],
   "source": [
    "lm = smf.ols(formula='Cases ~ Day', data=texas_case_trends).fit()\n",
    "new_week = [i+len(X)-1 for i in range(7)]\n",
    "x = pd.DataFrame({'Day': np.linspace(texas_case_trends.Day.min(), texas_case_trends.Day.max(), 200)})\n",
    "plt.scatter(X, y, color = 'red')\n",
    "plt.plot(X, regressor.predict(X), color = 'blue')\n",
    "plt.plot(x.Day, lm.predict(x), color ='green')\n",
    "plt.title('Decision Tree - Texas New Cases')\n",
    "plt.xlabel('Day')\n",
    "plt.ylabel('Cases')\n",
    "plt.show()"
   ]
  },
  {
   "cell_type": "code",
   "execution_count": 49,
   "metadata": {},
   "outputs": [
    {
     "name": "stdout",
     "output_type": "stream",
     "text": [
      "RMSE for Decision Tree Regressor is  153.14829045518832\n"
     ]
    }
   ],
   "source": [
    "rmse = np.sqrt(mean_squared_error(x.Day, regressor.predict(x))) \n",
    "print('RMSE for Decision Tree Regressor is ', rmse)"
   ]
  },
  {
   "cell_type": "code",
   "execution_count": 50,
   "metadata": {},
   "outputs": [],
   "source": [
    "#predicting for the next week"
   ]
  },
  {
   "cell_type": "code",
   "execution_count": 51,
   "metadata": {},
   "outputs": [
    {
     "name": "stdout",
     "output_type": "stream",
     "text": [
      "[6. 5. 5. 5. 5. 5. 5.]\n"
     ]
    }
   ],
   "source": [
    "new_week_predictions = regressor.predict(np.array(new_week).reshape(-1, 1))\n",
    "print(new_week_predictions)"
   ]
  },
  {
   "cell_type": "code",
   "execution_count": 52,
   "metadata": {
    "scrolled": true
   },
   "outputs": [
    {
     "data": {
      "image/png": "[encoded data removed]",
      "text/plain": [
       "<Figure size 432x288 with 1 Axes>"
      ]
     },
     "metadata": {
      "needs_background": "light"
     },
     "output_type": "display_data"
    }
   ],
   "source": [
    "regressor = RandomForestRegressor(n_estimators=10, random_state=0)\n",
    "regressor.fit(X,y)\n",
    "plt.scatter(X, y, color = 'red')\n",
    "plt.plot(X, regressor.predict(X), color = 'blue')\n",
    "plt.plot(x.Day, lm.predict(x), color ='green')\n",
    "plt.title('Random Forest - Texas New Cases')\n",
    "plt.xlabel('Day')\n",
    "plt.ylabel('Cases')\n",
    "plt.show()"
   ]
  },
  {
   "cell_type": "raw",
   "metadata": {},
   "source": [
    "regressor.params"
   ]
  },
  {
   "cell_type": "code",
   "execution_count": 53,
   "metadata": {
    "scrolled": true
   },
   "outputs": [
    {
     "name": "stdout",
     "output_type": "stream",
     "text": [
      "RMSE for Decision Tree Regressor is  152.7750725066003\n"
     ]
    }
   ],
   "source": [
    "rmse = np.sqrt(mean_squared_error(x.Day, regressor.predict(x))) \n",
    "print('RMSE for Decision Tree Regressor is ', rmse)"
   ]
  },
  {
   "cell_type": "code",
   "execution_count": 54,
   "metadata": {},
   "outputs": [],
   "source": [
    "#predicting for the next week"
   ]
  },
  {
   "cell_type": "code",
   "execution_count": 55,
   "metadata": {},
   "outputs": [
    {
     "name": "stdout",
     "output_type": "stream",
     "text": [
      "[27.1 17.2 17.2 17.2 17.2 17.2 17.2]\n"
     ]
    }
   ],
   "source": [
    "new_week_predictions = regressor.predict(np.array(new_week).reshape(-1, 1))\n",
    "print(new_week_predictions)"
   ]
  },
  {
   "cell_type": "code",
   "execution_count": 56,
   "metadata": {},
   "outputs": [
    {
     "name": "stdout",
     "output_type": "stream",
     "text": [
      "predicted=12.270266, expected=23.000000\n",
      "predicted=18.660898, expected=15.000000\n",
      "predicted=13.709336, expected=13.000000\n",
      "predicted=14.689188, expected=30.000000\n",
      "predicted=15.474012, expected=18.000000\n",
      "predicted=15.841858, expected=5.000000\n",
      "predicted=18.072608, expected=5.000000\n",
      "predicted=15.472920, expected=26.000000\n",
      "predicted=16.668644, expected=15.000000\n",
      "predicted=16.579193, expected=14.000000\n",
      "predicted=14.205189, expected=11.000000\n",
      "predicted=14.041481, expected=9.000000\n",
      "predicted=11.295656, expected=4.000000\n",
      "predicted=14.988672, expected=4.000000\n",
      "predicted=9.767273, expected=33.000000\n",
      "predicted=15.134213, expected=10.000000\n",
      "predicted=9.180417, expected=13.000000\n",
      "predicted=11.445681, expected=33.000000\n",
      "predicted=18.116230, expected=11.000000\n",
      "predicted=11.697164, expected=8.000000\n",
      "predicted=23.056497, expected=5.000000\n",
      "predicted=14.219455, expected=37.000000\n",
      "predicted=16.439862, expected=14.000000\n",
      "predicted=16.770091, expected=9.000000\n",
      "predicted=14.050859, expected=16.000000\n",
      "predicted=19.614682, expected=14.000000\n",
      "predicted=12.855859, expected=17.000000\n",
      "predicted=18.687196, expected=6.000000\n",
      "predicted=13.224007, expected=14.000000\n",
      "predicted=13.620217, expected=26.000000\n",
      "predicted=15.550098, expected=16.000000\n",
      "predicted=12.910665, expected=19.000000\n",
      "predicted=17.405332, expected=8.000000\n",
      "predicted=16.300660, expected=4.000000\n",
      "predicted=15.279930, expected=4.000000\n",
      "predicted=14.275294, expected=7.000000\n",
      "predicted=9.116230, expected=16.000000\n",
      "predicted=9.626687, expected=13.000000\n",
      "predicted=7.893269, expected=21.000000\n",
      "predicted=11.423027, expected=14.000000\n",
      "predicted=12.649076, expected=4.000000\n",
      "predicted=12.013580, expected=4.000000\n",
      "predicted=13.336978, expected=33.000000\n",
      "predicted=16.139380, expected=17.000000\n",
      "predicted=12.294389, expected=11.000000\n",
      "predicted=13.525359, expected=15.000000\n",
      "predicted=17.118905, expected=7.000000\n",
      "predicted=12.817332, expected=4.000000\n",
      "predicted=15.941141, expected=16.000000\n",
      "predicted=13.580098, expected=35.000000\n",
      "predicted=14.625504, expected=36.000000\n",
      "predicted=18.296040, expected=22.000000\n",
      "predicted=18.296068, expected=13.000000\n",
      "predicted=19.770547, expected=15.000000\n",
      "predicted=22.772597, expected=4.000000\n",
      "predicted=19.490228, expected=4.000000\n",
      "predicted=16.161354, expected=44.000000\n",
      "predicted=24.788421, expected=18.000000\n",
      "predicted=11.559831, expected=14.000000\n",
      "predicted=17.101891, expected=25.000000\n",
      "predicted=19.960557, expected=27.000000\n",
      "predicted=16.565678, expected=4.000000\n",
      "predicted=23.211132, expected=8.000000\n",
      "predicted=18.269239, expected=26.000000\n",
      "predicted=18.846237, expected=20.000000\n",
      "predicted=15.746918, expected=42.000000\n",
      "predicted=27.930499, expected=30.000000\n",
      "predicted=19.316985, expected=21.000000\n",
      "predicted=20.765922, expected=4.000000\n",
      "predicted=22.810130, expected=4.000000\n",
      "predicted=16.538911, expected=72.000000\n",
      "predicted=42.623353, expected=35.000000\n",
      "predicted=18.955144, expected=28.000000\n",
      "predicted=25.151155, expected=28.000000\n",
      "predicted=26.955566, expected=32.000000\n",
      "predicted=28.310568, expected=19.000000\n",
      "predicted=40.867370, expected=5.000000\n",
      "predicted=23.531326, expected=28.000000\n",
      "predicted=27.857814, expected=39.000000\n",
      "predicted=26.172508, expected=36.000000\n",
      "predicted=25.928783, expected=34.000000\n",
      "predicted=27.538334, expected=54.000000\n",
      "predicted=35.316756, expected=6.000000\n",
      "predicted=24.742760, expected=6.000000\n",
      "predicted=31.310384, expected=55.000000\n",
      "predicted=41.343216, expected=25.000000\n",
      "predicted=20.696490, expected=16.000000\n",
      "predicted=34.274123, expected=46.000000\n",
      "predicted=29.705685, expected=44.000000\n",
      "predicted=22.449790, expected=4.000000\n",
      "predicted=31.402502, expected=4.000000\n",
      "predicted=29.322108, expected=61.000000\n",
      "predicted=34.891067, expected=30.000000\n",
      "predicted=18.210687, expected=44.000000\n",
      "predicted=41.011203, expected=21.000000\n",
      "predicted=25.212245, expected=53.000000\n",
      "predicted=31.466859, expected=6.000000\n",
      "predicted=37.895150, expected=5.000000\n",
      "Test RMSE: 15.251\n"
     ]
    },
    {
     "data": {
      "image/png": "[encoded data removed]",
      "text/plain": [
       "<Figure size 432x288 with 1 Axes>"
      ]
     },
     "metadata": {
      "needs_background": "light"
     },
     "output_type": "display_data"
    }
   ],
   "source": [
    "def parser(x):\n",
    "    return datetime.strptime('190'+x, '%Y-%m')\n",
    " \n",
    "series = pd.Series(texas_case_trends['Cases'].values, index=texas_case_trends['Day'])\n",
    "X = series.values\n",
    "size = int(len(X) * 0.66)\n",
    "train, test = X[0:size], X[size:len(X)]\n",
    "history = [x for x in train]\n",
    "predictions = list()\n",
    "for t in range(len(test)):\n",
    "    model = ARIMA(history, order=(5,1,0))\n",
    "    model_fit = model.fit(disp=0)\n",
    "    output = model_fit.forecast()\n",
    "    yhat = output[0]\n",
    "    predictions.append(yhat)\n",
    "    obs = test[t]\n",
    "    history.append(obs)\n",
    "    print('predicted=%f, expected=%f' % (yhat, obs))\n",
    "error = np.sqrt(mean_squared_error(test, predictions))\n",
    "print('Test RMSE: %.3f' % error)\n",
    "# plot\n",
    "plt.plot(test)\n",
    "plt.plot(x.Day, lm.predict(x), color ='green')\n",
    "plt.plot(predictions, color='red')\n",
    "plt.show()"
   ]
  },
  {
   "cell_type": "markdown",
   "metadata": {},
   "source": [
    "#  Social Enrichment Dataset Random Forest and Decision Tree"
   ]
  },
  {
   "cell_type": "code",
   "execution_count": 57,
   "metadata": {},
   "outputs": [],
   "source": [
    "social = pd.read_csv(os.getcwd().replace(\"src/Stage_III/Taylor\",\"data/output/\")+\"COVID19_SOCIAL_MERGE.csv\", low_memory=False)\n",
    "#remove first two rows of dataframe\n",
    "social = social.iloc[2:]\n",
    "social_subset = social[['County Name','DP02_0010E','DP02_0012E','DP02_0008E','DP02_0152E', 'DP02_0088E']]\n",
    "social_subset = social_subset.rename(columns={\"County Name\":\"County_Name\",\"DP02_0010E\": \"non_family\", \"DP02_0012E\": \"non_family_65\", \"DP02_0008E\": \"single_female_no_husband\", \"DP02_0152E\":\"computer_internet\", \"DP02_0088E\":\"usa_born_total_pop\"})\n",
    "county_soc = social_subset['County_Name']\n",
    "social_subset = social_subset.apply(pd.to_numeric, errors='coerce')\n",
    "social_subset['County_Name'] = county_soc\n",
    "social_subset = social_subset.groupby(['County_Name'], as_index=False).sum(axis=0)"
   ]
  },
  {
   "cell_type": "code",
   "execution_count": 58,
   "metadata": {},
   "outputs": [
    {
     "data": {
      "text/html": [
       "<div>\n",
       "<style scoped>\n",
       "    .dataframe tbody tr th:only-of-type {\n",
       "        vertical-align: middle;\n",
       "    }\n",
       "\n",
       "    .dataframe tbody tr th {\n",
       "        vertical-align: top;\n",
       "    }\n",
       "\n",
       "    .dataframe thead th {\n",
       "        text-align: right;\n",
       "    }\n",
       "</style>\n",
       "<table border=\"1\" class=\"dataframe\">\n",
       "  <thead>\n",
       "    <tr style=\"text-align: right;\">\n",
       "      <th></th>\n",
       "      <th>County_Name</th>\n",
       "      <th>Cases</th>\n",
       "      <th>non_family</th>\n",
       "      <th>non_family_65</th>\n",
       "      <th>single_female_no_husband</th>\n",
       "      <th>computer_internet</th>\n",
       "      <th>usa_born_total_pop</th>\n",
       "    </tr>\n",
       "  </thead>\n",
       "  <tbody>\n",
       "    <tr>\n",
       "      <td>0</td>\n",
       "      <td>Anderson County</td>\n",
       "      <td>3021</td>\n",
       "      <td>17741.0</td>\n",
       "      <td>6342.0</td>\n",
       "      <td>7342.0</td>\n",
       "      <td>51931.0</td>\n",
       "      <td>169783.0</td>\n",
       "    </tr>\n",
       "    <tr>\n",
       "      <td>1</td>\n",
       "      <td>Andrews County</td>\n",
       "      <td>741</td>\n",
       "      <td>4996.0</td>\n",
       "      <td>2046.0</td>\n",
       "      <td>2001.0</td>\n",
       "      <td>10902.0</td>\n",
       "      <td>53720.0</td>\n",
       "    </tr>\n",
       "    <tr>\n",
       "      <td>2</td>\n",
       "      <td>Angelina County</td>\n",
       "      <td>2343</td>\n",
       "      <td>1362.0</td>\n",
       "      <td>456.0</td>\n",
       "      <td>545.0</td>\n",
       "      <td>4671.0</td>\n",
       "      <td>15149.0</td>\n",
       "    </tr>\n",
       "    <tr>\n",
       "      <td>3</td>\n",
       "      <td>Aransas County</td>\n",
       "      <td>363</td>\n",
       "      <td>8700.0</td>\n",
       "      <td>3463.0</td>\n",
       "      <td>4777.0</td>\n",
       "      <td>24417.0</td>\n",
       "      <td>79700.0</td>\n",
       "    </tr>\n",
       "    <tr>\n",
       "      <td>4</td>\n",
       "      <td>Archer County</td>\n",
       "      <td>171</td>\n",
       "      <td>3440.0</td>\n",
       "      <td>1521.0</td>\n",
       "      <td>697.0</td>\n",
       "      <td>7495.0</td>\n",
       "      <td>22650.0</td>\n",
       "    </tr>\n",
       "    <tr>\n",
       "      <td>...</td>\n",
       "      <td>...</td>\n",
       "      <td>...</td>\n",
       "      <td>...</td>\n",
       "      <td>...</td>\n",
       "      <td>...</td>\n",
       "      <td>...</td>\n",
       "      <td>...</td>\n",
       "    </tr>\n",
       "    <tr>\n",
       "      <td>249</td>\n",
       "      <td>Wood County</td>\n",
       "      <td>711</td>\n",
       "      <td>39875.0</td>\n",
       "      <td>12587.0</td>\n",
       "      <td>10778.0</td>\n",
       "      <td>87521.0</td>\n",
       "      <td>264277.0</td>\n",
       "    </tr>\n",
       "    <tr>\n",
       "      <td>250</td>\n",
       "      <td>Yoakum County</td>\n",
       "      <td>438</td>\n",
       "      <td>4797.0</td>\n",
       "      <td>2379.0</td>\n",
       "      <td>1676.0</td>\n",
       "      <td>12504.0</td>\n",
       "      <td>41817.0</td>\n",
       "    </tr>\n",
       "    <tr>\n",
       "      <td>251</td>\n",
       "      <td>Young County</td>\n",
       "      <td>673</td>\n",
       "      <td>589.0</td>\n",
       "      <td>212.0</td>\n",
       "      <td>169.0</td>\n",
       "      <td>1962.0</td>\n",
       "      <td>6431.0</td>\n",
       "    </tr>\n",
       "    <tr>\n",
       "      <td>252</td>\n",
       "      <td>Zapata County</td>\n",
       "      <td>382</td>\n",
       "      <td>1756.0</td>\n",
       "      <td>792.0</td>\n",
       "      <td>763.0</td>\n",
       "      <td>5096.0</td>\n",
       "      <td>16908.0</td>\n",
       "    </tr>\n",
       "    <tr>\n",
       "      <td>253</td>\n",
       "      <td>Zavala County</td>\n",
       "      <td>492</td>\n",
       "      <td>1022.0</td>\n",
       "      <td>369.0</td>\n",
       "      <td>942.0</td>\n",
       "      <td>2383.0</td>\n",
       "      <td>10339.0</td>\n",
       "    </tr>\n",
       "  </tbody>\n",
       "</table>\n",
       "<p>254 rows × 7 columns</p>\n",
       "</div>"
      ],
      "text/plain": [
       "         County_Name  Cases  non_family  non_family_65  \\\n",
       "0    Anderson County   3021     17741.0         6342.0   \n",
       "1     Andrews County    741      4996.0         2046.0   \n",
       "2    Angelina County   2343      1362.0          456.0   \n",
       "3     Aransas County    363      8700.0         3463.0   \n",
       "4      Archer County    171      3440.0         1521.0   \n",
       "..               ...    ...         ...            ...   \n",
       "249      Wood County    711     39875.0        12587.0   \n",
       "250    Yoakum County    438      4797.0         2379.0   \n",
       "251     Young County    673       589.0          212.0   \n",
       "252    Zapata County    382      1756.0          792.0   \n",
       "253    Zavala County    492      1022.0          369.0   \n",
       "\n",
       "     single_female_no_husband  computer_internet  usa_born_total_pop  \n",
       "0                      7342.0            51931.0            169783.0  \n",
       "1                      2001.0            10902.0             53720.0  \n",
       "2                       545.0             4671.0             15149.0  \n",
       "3                      4777.0            24417.0             79700.0  \n",
       "4                       697.0             7495.0             22650.0  \n",
       "..                        ...                ...                 ...  \n",
       "249                   10778.0            87521.0            264277.0  \n",
       "250                    1676.0            12504.0             41817.0  \n",
       "251                     169.0             1962.0              6431.0  \n",
       "252                     763.0             5096.0             16908.0  \n",
       "253                     942.0             2383.0             10339.0  \n",
       "\n",
       "[254 rows x 7 columns]"
      ]
     },
     "execution_count": 58,
     "metadata": {},
     "output_type": "execute_result"
    }
   ],
   "source": [
    "# covid_cases = texas_cases.groupby('County_Name')[texas_cases.columns[len(texas_cases.columns)-1]].sum(axis=1)\n",
    "# #social_subset = pd.merge(texas_cases,social_subset,on='County_Name',how='left')\n",
    "cases = texas_cases[[x for x in texas_cases.columns if x=='County_Name' or x == '11/9/20x']]\n",
    "social_subset = pd.merge(cases,social_subset,on='County_Name',how='left').rename(columns={\"11/9/20x\": \"Cases\"})\n",
    "social_subset\n"
   ]
  },
  {
   "cell_type": "markdown",
   "metadata": {},
   "source": [
    "### Predicting Cases for Zavala County"
   ]
  },
  {
   "cell_type": "code",
   "execution_count": 59,
   "metadata": {},
   "outputs": [],
   "source": [
    "X = np.array(social_subset[[x for x in social_subset.columns if x != 'County_Name' and x != 'Cases']].iloc[:-1])\n",
    "y = np.array(social_subset['Cases'][0:len(social_subset)-1].to_frame())"
   ]
  },
  {
   "cell_type": "code",
   "execution_count": 60,
   "metadata": {},
   "outputs": [
    {
     "data": {
      "text/plain": [
       "(253, 1)"
      ]
     },
     "execution_count": 60,
     "metadata": {},
     "output_type": "execute_result"
    }
   ],
   "source": [
    "y.shape"
   ]
  },
  {
   "cell_type": "code",
   "execution_count": 61,
   "metadata": {},
   "outputs": [
    {
     "data": {
      "text/plain": [
       "(253, 5)"
      ]
     },
     "execution_count": 61,
     "metadata": {},
     "output_type": "execute_result"
    }
   ],
   "source": [
    "X.shape"
   ]
  },
  {
   "cell_type": "code",
   "execution_count": 62,
   "metadata": {
    "scrolled": true
   },
   "outputs": [
    {
     "data": {
      "image/png": "[encoded data removed]",
      "text/plain": [
       "<Figure size 432x288 with 1 Axes>"
      ]
     },
     "metadata": {
      "needs_background": "light"
     },
     "output_type": "display_data"
    }
   ],
   "source": [
    "regressor = RandomForestRegressor(n_estimators=10, random_state=0)\n",
    "regressor.fit(X,y.ravel())\n",
    "plt.scatter(X[:,0], y, color = 'red')\n",
    "plt.plot(X[:,0], regressor.predict(X), color = 'blue')\n",
    "plt.plot(x.Day, lm.predict(x), color ='green')\n",
    "plt.title('Random Forest - Zavala County Prediction')\n",
    "plt.show()\n",
    "predicted_cases = regressor.predict([[1022, 369,942,2383,10339]])"
   ]
  },
  {
   "cell_type": "code",
   "execution_count": 63,
   "metadata": {},
   "outputs": [
    {
     "name": "stdout",
     "output_type": "stream",
     "text": [
      "The predicted number of cases in Zavala County is  802.0\n"
     ]
    }
   ],
   "source": [
    "print('The predicted number of cases in Zavala County is ', predicted_cases[0].round())"
   ]
  },
  {
   "cell_type": "code",
   "execution_count": 66,
   "metadata": {},
   "outputs": [
    {
     "data": {
      "image/png": "[encoded data removed]",
      "text/plain": [
       "<Figure size 432x288 with 1 Axes>"
      ]
     },
     "metadata": {
      "needs_background": "light"
     },
     "output_type": "display_data"
    }
   ],
   "source": [
    "regressor = DecisionTreeRegressor(random_state=0)\n",
    "regressor.fit(X,y.ravel())\n",
    "plt.scatter(X[:,0], y, color = 'red')\n",
    "plt.plot(X[:,0], regressor.predict(X), color = 'blue')\n",
    "plt.plot(x.Day, lm.predict(x), color ='green')\n",
    "plt.title('Decision Tree - Zavala County Prediction')\n",
    "plt.show()\n",
    "predicted_cases = regressor.predict([[1022, 369,942,2383,10339]])"
   ]
  },
  {
   "cell_type": "code",
   "execution_count": 67,
   "metadata": {},
   "outputs": [
    {
     "name": "stdout",
     "output_type": "stream",
     "text": [
      "The predicted number of cases in Zavala County is  2106.0\n"
     ]
    }
   ],
   "source": [
    "print('The predicted number of cases in Zavala County is ', predicted_cases[0].round())"
   ]
  },
  {
   "cell_type": "code",
   "execution_count": null,
   "metadata": {},
   "outputs": [],
   "source": []
  }
 ],
 "metadata": {
  "kernelspec": {
   "display_name": "Python 3",
   "language": "python",
   "name": "python3"
  },
  "language_info": {
   "codemirror_mode": {
    "name": "ipython",
    "version": 3
   },
   "file_extension": ".py",
   "mimetype": "text/x-python",
   "name": "python",
   "nbconvert_exporter": "python",
   "pygments_lexer": "ipython3",
   "version": "3.7.4"
  }
 },
 "nbformat": 4,
 "nbformat_minor": 2
}
