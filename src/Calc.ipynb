{
 "cells": [
  {
   "cell_type": "code",
   "execution_count": 62,
   "metadata": {
    "collapsed": true
   },
   "outputs": [],
   "source": [
    "import pandas as pd"
   ]
  },
  {
   "cell_type": "code",
   "execution_count": 63,
   "outputs": [],
   "source": [
    "def State(date_frame: pd.DataFrame, state_name: str) -> pd.DataFrame:\n",
    "    AL = data_frame.loc[state_name:state_name]\n",
    "    papolation = AL['population'].sum()\n",
    "    print(papolation)\n",
    "    return  AL"
   ],
   "metadata": {
    "collapsed": false,
    "pycharm": {
     "name": "#%%\n"
    }
   }
  },
  {
   "cell_type": "code",
   "execution_count": null,
   "outputs": [],
   "source": [
    "def cases(date_frame: pd.DataFrame) -> pd.DataFrame:\n",
    "    death = date_frame['death Total']= date_frame.iloc[:, 4:].sum(axis=1)\n",
    "    AL = data_frame.loc[]\n",
    "    papolation = AL['population'].sum()\n",
    "    print(papolation)"
   ],
   "metadata": {
    "collapsed": false,
    "pycharm": {
     "name": "#%%\n"
    }
   }
  },
  {
   "cell_type": "code",
   "source": [
    "path = '../data/output/covid.csv'\n",
    "data_frame = pd.read_csv(path, index_col='State')\n",
    "x = State(data_frame, \"NY\")\n",
    "x.head()"
   ],
   "metadata": {
    "collapsed": false,
    "pycharm": {
     "name": "#%%\n"
    }
   },
   "execution_count": 64,
   "outputs": [
    {
     "name": "stdout",
     "output_type": "stream",
     "text": [
      "4903185.0\n"
     ]
    },
    {
     "data": {
      "text/plain": "       Unnamed: 0  countyFIPS            County Name  population  stateFIPS  \\\nState                                                                         \nAL              0           0  Statewide Unallocated         0.0        1.0   \nAL              1        1001         Autauga County     55869.0        1.0   \nAL              2        1003         Baldwin County    223234.0        1.0   \nAL              3        1005         Barbour County     24686.0        1.0   \nAL              4        1007            Bibb County     22394.0        1.0   \n\n       1/22/20_x  1/23/20_x  1/24/20_x  1/25/20_x  1/26/20_x  ...  9/5/20_y  \\\nState                                                         ...             \nAL           0.0        0.0        0.0        0.0        0.0  ...       0.0   \nAL           0.0        0.0        0.0        0.0        0.0  ...      24.0   \nAL           0.0        0.0        0.0        0.0        0.0  ...      46.0   \nAL           0.0        0.0        0.0        0.0        0.0  ...       7.0   \nAL           0.0        0.0        0.0        0.0        0.0  ...       9.0   \n\n       9/6/20_y  9/7/20_y  9/8/20_y  9/9/20_y  9/10/20_y  9/11/20_y  \\\nState                                                                 \nAL          0.0       0.0       0.0       0.0        0.0        0.0   \nAL         24.0      24.0      24.0      24.0       24.0       24.0   \nAL         46.0      46.0      46.0      46.0       46.0       47.0   \nAL          7.0       7.0       7.0       7.0        7.0        7.0   \nAL          9.0       9.0       9.0       9.0        9.0        9.0   \n\n       9/12/20_y  9/13/20_y  9/14/20_y  \nState                                   \nAL           0.0        0.0        0.0  \nAL          24.0       24.0       24.0  \nAL          47.0       47.0       47.0  \nAL           7.0        7.0        7.0  \nAL           9.0        9.0        9.0  \n\n[5 rows x 479 columns]",
      "text/html": "<div>\n<style scoped>\n    .dataframe tbody tr th:only-of-type {\n        vertical-align: middle;\n    }\n\n    .dataframe tbody tr th {\n        vertical-align: top;\n    }\n\n    .dataframe thead th {\n        text-align: right;\n    }\n</style>\n<table border=\"1\" class=\"dataframe\">\n  <thead>\n    <tr style=\"text-align: right;\">\n      <th></th>\n      <th>Unnamed: 0</th>\n      <th>countyFIPS</th>\n      <th>County Name</th>\n      <th>population</th>\n      <th>stateFIPS</th>\n      <th>1/22/20_x</th>\n      <th>1/23/20_x</th>\n      <th>1/24/20_x</th>\n      <th>1/25/20_x</th>\n      <th>1/26/20_x</th>\n      <th>...</th>\n      <th>9/5/20_y</th>\n      <th>9/6/20_y</th>\n      <th>9/7/20_y</th>\n      <th>9/8/20_y</th>\n      <th>9/9/20_y</th>\n      <th>9/10/20_y</th>\n      <th>9/11/20_y</th>\n      <th>9/12/20_y</th>\n      <th>9/13/20_y</th>\n      <th>9/14/20_y</th>\n    </tr>\n    <tr>\n      <th>State</th>\n      <th></th>\n      <th></th>\n      <th></th>\n      <th></th>\n      <th></th>\n      <th></th>\n      <th></th>\n      <th></th>\n      <th></th>\n      <th></th>\n      <th></th>\n      <th></th>\n      <th></th>\n      <th></th>\n      <th></th>\n      <th></th>\n      <th></th>\n      <th></th>\n      <th></th>\n      <th></th>\n      <th></th>\n    </tr>\n  </thead>\n  <tbody>\n    <tr>\n      <th>AL</th>\n      <td>0</td>\n      <td>0</td>\n      <td>Statewide Unallocated</td>\n      <td>0.0</td>\n      <td>1.0</td>\n      <td>0.0</td>\n      <td>0.0</td>\n      <td>0.0</td>\n      <td>0.0</td>\n      <td>0.0</td>\n      <td>...</td>\n      <td>0.0</td>\n      <td>0.0</td>\n      <td>0.0</td>\n      <td>0.0</td>\n      <td>0.0</td>\n      <td>0.0</td>\n      <td>0.0</td>\n      <td>0.0</td>\n      <td>0.0</td>\n      <td>0.0</td>\n    </tr>\n    <tr>\n      <th>AL</th>\n      <td>1</td>\n      <td>1001</td>\n      <td>Autauga County</td>\n      <td>55869.0</td>\n      <td>1.0</td>\n      <td>0.0</td>\n      <td>0.0</td>\n      <td>0.0</td>\n      <td>0.0</td>\n      <td>0.0</td>\n      <td>...</td>\n      <td>24.0</td>\n      <td>24.0</td>\n      <td>24.0</td>\n      <td>24.0</td>\n      <td>24.0</td>\n      <td>24.0</td>\n      <td>24.0</td>\n      <td>24.0</td>\n      <td>24.0</td>\n      <td>24.0</td>\n    </tr>\n    <tr>\n      <th>AL</th>\n      <td>2</td>\n      <td>1003</td>\n      <td>Baldwin County</td>\n      <td>223234.0</td>\n      <td>1.0</td>\n      <td>0.0</td>\n      <td>0.0</td>\n      <td>0.0</td>\n      <td>0.0</td>\n      <td>0.0</td>\n      <td>...</td>\n      <td>46.0</td>\n      <td>46.0</td>\n      <td>46.0</td>\n      <td>46.0</td>\n      <td>46.0</td>\n      <td>46.0</td>\n      <td>47.0</td>\n      <td>47.0</td>\n      <td>47.0</td>\n      <td>47.0</td>\n    </tr>\n    <tr>\n      <th>AL</th>\n      <td>3</td>\n      <td>1005</td>\n      <td>Barbour County</td>\n      <td>24686.0</td>\n      <td>1.0</td>\n      <td>0.0</td>\n      <td>0.0</td>\n      <td>0.0</td>\n      <td>0.0</td>\n      <td>0.0</td>\n      <td>...</td>\n      <td>7.0</td>\n      <td>7.0</td>\n      <td>7.0</td>\n      <td>7.0</td>\n      <td>7.0</td>\n      <td>7.0</td>\n      <td>7.0</td>\n      <td>7.0</td>\n      <td>7.0</td>\n      <td>7.0</td>\n    </tr>\n    <tr>\n      <th>AL</th>\n      <td>4</td>\n      <td>1007</td>\n      <td>Bibb County</td>\n      <td>22394.0</td>\n      <td>1.0</td>\n      <td>0.0</td>\n      <td>0.0</td>\n      <td>0.0</td>\n      <td>0.0</td>\n      <td>0.0</td>\n      <td>...</td>\n      <td>9.0</td>\n      <td>9.0</td>\n      <td>9.0</td>\n      <td>9.0</td>\n      <td>9.0</td>\n      <td>9.0</td>\n      <td>9.0</td>\n      <td>9.0</td>\n      <td>9.0</td>\n      <td>9.0</td>\n    </tr>\n  </tbody>\n</table>\n<p>5 rows × 479 columns</p>\n</div>"
     },
     "execution_count": 64,
     "metadata": {},
     "output_type": "execute_result"
    }
   ]
  }
 ],
 "metadata": {
  "kernelspec": {
   "display_name": "Python 3",
   "language": "python",
   "name": "python3"
  },
  "language_info": {
   "codemirror_mode": {
    "name": "ipython",
    "version": 2
   },
   "file_extension": ".py",
   "mimetype": "text/x-python",
   "name": "python",
   "nbconvert_exporter": "python",
   "pygments_lexer": "ipython2",
   "version": "2.7.6"
  }
 },
 "nbformat": 4,
 "nbformat_minor": 0
}