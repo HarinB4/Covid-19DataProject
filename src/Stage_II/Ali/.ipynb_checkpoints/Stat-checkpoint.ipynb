{
 "cells": [
  {
   "cell_type": "code",
   "execution_count": 4,
   "metadata": {},
   "outputs": [],
   "source": [
    "import pandas as pd\n",
    "import numpy as np\n",
    "import math\n",
    "import matplotlib.pyplot as plt\n",
    "import plotly.express as px\n",
    "import plotly\n",
    "import plotly.graph_objs as go"
   ]
  },
  {
   "cell_type": "code",
   "execution_count": 5,
   "metadata": {
    "pycharm": {
     "name": "#%%\n"
    }
   },
   "outputs": [],
   "source": [
    "#read super Covid-19 dataframe with state as index. \n",
    "USCovid = pd.read_csv(\"../../../data/output/covid.csv\", index_col=0)"
   ]
  },
  {
   "cell_type": "markdown",
   "metadata": {},
   "source": [
    "### Clean Data"
   ]
  },
  {
   "cell_type": "markdown",
   "metadata": {},
   "source": [
    "#### Drop unnecessary data"
   ]
  },
  {
   "cell_type": "code",
   "execution_count": 6,
   "metadata": {},
   "outputs": [],
   "source": [
    "# Clean\n",
    "USCovid.drop([\"Unnamed: 0\", \"countyFIPS\", \"stateFIPS\"],\n",
    "             axis=1,\n",
    "             errors='ignore',\n",
    "             inplace=True)\n",
    "USCovid.drop(\n",
    "    USCovid.loc[USCovid['County Name'] == \"Statewide Unallocated\"].index,\n",
    "    inplace=True)\n",
    "regex_cases = '(^[0-9]+[/]+[0-9]+[/]+[0-9]+[_]+[x])|^County Name$|^State$|^population$'\n",
    "regex_deaths = '(^[0-9]+[/]+[0-9]+[/]+[0-9]+[_]+[y])|^County Name$|^State$|^population$'\n",
    "USCases = USCovid.filter(regex=regex_cases)\n",
    "USDeaths = USCovid.filter(regex=regex_deaths)"
   ]
  },
  {
   "cell_type": "markdown",
   "metadata": {},
   "source": [
    "#### Find new cases"
   ]
  },
  {
   "cell_type": "code",
   "execution_count": 7,
   "metadata": {},
   "outputs": [],
   "source": [
    "def diff(df):\n",
    "    new = [df[0], df[1], df[2], df[3]]\n",
    "    for i in range(4, df.shape[0]):\n",
    "        new.append(df[i] - df[i - 1])\n",
    "    return pd.Series(new)"
   ]
  },
  {
   "cell_type": "code",
   "execution_count": null,
   "metadata": {},
   "outputs": [],
   "source": [
    "columns_D = USDeaths.columns\n",
    "columns_C = USCases.columns\n",
    "USDeaths = USDeaths.reset_index(drop=True).T.apply(diff).T\n",
    "USDeaths.columns = columns_D\n",
    "USCases = USCases.reset_index(drop=True).T.apply(diff).T\n",
    "USCases.columns = columns_C"
   ]
  },
  {
   "cell_type": "markdown",
   "metadata": {},
   "source": [
    "#### Convert date type from String to datetime Timestamp"
   ]
  },
  {
   "cell_type": "code",
   "execution_count": null,
   "metadata": {},
   "outputs": [],
   "source": [
    "# Group by State then fixing date string syntax\n",
    "USDeaths_byStates = USDeaths.groupby('State').sum()\n",
    "USDeaths_byStates = USDeaths_byStates.rename(\n",
    "    columns=lambda x: (x.split('_')[0]),\n",
    "    errors='raise')\n",
    "USCases_byStates = USCases.groupby('State').sum()\n",
    "USCases_byStates = USCases_byStates.rename(\n",
    "    columns=lambda x: (x.split('_')[0]),\n",
    "    errors='raise')"
   ]
  },
  {
   "cell_type": "code",
   "execution_count": null,
   "metadata": {},
   "outputs": [],
   "source": [
    "# Split States and population from the data (temparary)\n",
    "USDeaths_byStates_SP = USDeaths_byStates.reset_index()[['County Name', 'State', 'population']]\n",
    "USDeaths_byStates_Date = USDeaths_byStates.reset_index().drop(\n",
    "    ['County Name', 'State', 'population'], axis=1)\n",
    "\n",
    "USCases_byStates_SP = USCases_byStates.reset_index()[['County Name', 'State', 'population']]\n",
    "USCases_byStates_Date = USCases_byStates.reset_index().drop(\n",
    "    ['County Name', 'State', 'population'], axis=1)"
   ]
  },
  {
   "cell_type": "code",
   "execution_count": null,
   "metadata": {},
   "outputs": [],
   "source": [
    "# Convert String to TimeStamp\n",
    "USDeaths_byStates_Date = USDeaths_byStates_Date.rename(\n",
    "    columns=lambda x: (pd.to_datetime(x, errors='ignore')),\n",
    "    errors='raise')\n",
    "\n",
    "USCases_byStates_Date = USCases_byStates_Date.rename(\n",
    "    columns=lambda x: (pd.to_datetime(x, errors='ignore')),\n",
    "    errors='raise')"
   ]
  },
  {
   "cell_type": "markdown",
   "metadata": {},
   "source": [
    "##### Resample date from days to weeks and find the mean of week"
   ]
  },
  {
   "cell_type": "code",
   "execution_count": null,
   "metadata": {},
   "outputs": [],
   "source": [
    "USDeaths_byStates_Date_weeks = np.ceil(USDeaths_byStates_Date.resample('W', axis='columns').mean())\n",
    "USCases_byStates_Date_weeks = np.ceil(USCases_byStates_Date.resample('W', axis='columns').mean())"
   ]
  },
  {
   "cell_type": "code",
   "execution_count": null,
   "metadata": {},
   "outputs": [],
   "source": [
    "USDeaths_States_weeks = pd.merge(USDeaths_byStates_SP, USDeaths_byStates_Date_weeks, left_index=True, right_index=True)\n",
    "USCases_States_weeks = pd.merge(USCases_byStates_SP, USCases_byStates_Date_weeks, left_index=True, right_index=True)"
   ]
  },
  {
   "cell_type": "markdown",
   "metadata": {},
   "source": [
    "#### Find Means, Meidan and Mode for the weeks"
   ]
  },
  {
   "cell_type": "code",
   "execution_count": null,
   "metadata": {},
   "outputs": [],
   "source": [
    "# Deaths\n",
    "USDeaths_means = USDeaths_byStates_Date_weeks.T.mean()\n",
    "USDeaths_median = USDeaths_byStates_Date_weeks.T.median()\n",
    "USDeaths_mode = USDeaths_byStates_Date_weeks.T.mode()\n",
    "USDeaths_mode = USDeaths_mode.values.tolist()\n",
    "USDeaths_list = [\n",
    "     USDeaths_byStates_SP['State'], USDeaths_means, USDeaths_median, pd.Series(USDeaths_mode[0])\n",
    "]\n",
    "\n",
    "USDeaths_results = pd.DataFrame(USDeaths_list).transpose()\n",
    "USDeaths_results.columns = ['State', 'Mean', 'Median', 'Mode']\n",
    "\n",
    "# Cases\n",
    "USCases_means = USCases_byStates_Date_weeks.T.mean()\n",
    "USCases_median = USCases_byStates_Date_weeks.T.median()\n",
    "USCases_mode = USCases_byStates_Date_weeks.T.mode()\n",
    "USCases_mode = USCases_mode.values.tolist()\n",
    "USCases_list = [\n",
    "     USCases_byStates_SP['State'], USCases_means, USCases_median, pd.Series(USCases_mode[0])\n",
    "]\n",
    "\n",
    "USCases_results = pd.DataFrame(USCases_list).transpose()\n",
    "USCases_results.columns = ['State', 'Mean', 'Median', 'Mode']"
   ]
  },
  {
   "cell_type": "markdown",
   "metadata": {},
   "source": [
    "#### Plot data"
   ]
  },
  {
   "cell_type": "code",
   "execution_count": null,
   "metadata": {},
   "outputs": [],
   "source": [
    "trace0 = go.Scatter(x=USCases_results['State'], y=USCases_results['Mean'], \n",
    "                    name=\"US\", \n",
    "                    mode=\"lines+markers\") \n",
    "mydata = [trace0]\n",
    "\n",
    "mylayout = go.Layout(\n",
    "    title=\"Weekly Cases\"\n",
    ")\n",
    "\n",
    "fig = go.Figure(data=mydata, layout=mylayout)\n",
    "\n",
    "plotly.offline.iplot(fig, filename = '')"
   ]
  },
  {
   "cell_type": "code",
   "execution_count": null,
   "metadata": {},
   "outputs": [],
   "source": [
    "trace0 = go.Scatter(x=USDeaths_results['State'], y=USDeaths_results['Mean'], \n",
    "                    name=\"US\", \n",
    "                    mode=\"lines+markers\") \n",
    "mydata = [trace0]\n",
    "\n",
    "mylayout = go.Layout(\n",
    "    title=\"Weekly Deaths\"\n",
    ")\n",
    "\n",
    "fig = go.Figure(data=mydata, layout=mylayout)\n",
    "\n",
    "plotly.offline.iplot(fig, filename = '')"
   ]
  },
  {
   "cell_type": "code",
   "execution_count": null,
   "metadata": {},
   "outputs": [],
   "source": []
  }
 ],
 "metadata": {
  "kernelspec": {
   "display_name": "Python 3",
   "language": "python",
   "name": "python3"
  },
  "language_info": {
   "codemirror_mode": {
    "name": "ipython",
    "version": 3
   },
   "file_extension": ".py",
   "mimetype": "text/x-python",
   "name": "python",
   "nbconvert_exporter": "python",
   "pygments_lexer": "ipython3",
   "version": "3.8.3"
  },
  "varInspector": {
   "cols": {
    "lenName": 16,
    "lenType": 16,
    "lenVar": 40
   },
   "kernels_config": {
    "python": {
     "delete_cmd_postfix": "",
     "delete_cmd_prefix": "del ",
     "library": "var_list.py",
     "varRefreshCmd": "print(var_dic_list())"
    },
    "r": {
     "delete_cmd_postfix": ") ",
     "delete_cmd_prefix": "rm(",
     "library": "var_list.r",
     "varRefreshCmd": "cat(var_dic_list()) "
    }
   },
   "types_to_exclude": [
    "module",
    "function",
    "builtin_function_or_method",
    "instance",
    "_Feature"
   ],
   "window_display": false
  }
 },
 "nbformat": 4,
 "nbformat_minor": 1
}
