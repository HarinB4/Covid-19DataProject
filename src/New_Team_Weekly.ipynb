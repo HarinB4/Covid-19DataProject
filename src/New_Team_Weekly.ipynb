{
 "cells": [
  {
   "cell_type": "code",
   "execution_count": 241,
   "metadata": {},
   "outputs": [],
   "source": [
    "import pandas as pd\n",
    "import numpy as np\n",
    "import math\n",
    "import matplotlib.pyplot as plt"
   ]
  },
  {
   "cell_type": "markdown",
   "metadata": {},
   "source": [
    "## Read Datasets"
   ]
  },
  {
   "cell_type": "code",
   "execution_count": 242,
   "metadata": {},
   "outputs": [],
   "source": [
    "#read super Covid-19 dataframe. \n",
    "USCovid = pd.read_csv(\"../data/output/covid.csv\")\n",
    "#read country cases dataset and choose countries with similar pop as US\n",
    "CountryNewCases = pd.read_csv(\"https://covid.ourworldindata.org/data/ecdc/new_cases.csv\")\n",
    "CountryNewDeaths = pd.read_csv(\"https://covid.ourworldindata.org/data/ecdc/new_deaths.csv\")\n",
    "CountryPop = pd.read_csv(\"https://covid.ourworldindata.org/data/ecdc/locations.csv\")\n",
    "\n",
    "CountryNewCases = CountryNewCases[[\"date\",\"Bangladesh\",\"Indonesia\",\"Pakistan\",\"Brazil\",\"Nigeria\"]]\n",
    "CountryNewDeaths = CountryNewDeaths[[\"date\",\"Bangladesh\",\"Indonesia\",\"Pakistan\",\"Brazil\",\"Nigeria\"]]\n",
    "PopArray = [\"Bangladesh\",\"Indonesia\",\"Pakistan\",\"Brazil\",\"Nigeria\"]\n",
    "CountryPop = CountryPop.loc[CountryPop[\"location\"].isin(PopArray)]\n",
    "\n",
    "MyFivePop = CountryPop.drop([\"countriesAndTerritories\",\"continent\",\"population_year\"],axis = 1) \n",
    "\n",
    "#drop unneccesary variables in Super covid-19 dataframe. \n",
    "USCovid = USCovid.drop([\"Unnamed: 0\",\"countyFIPS\",\"stateFIPS\"], axis=1)"
   ]
  },
  {
   "cell_type": "markdown",
   "metadata": {},
   "source": [
    "## Sum up United States Cases together and get New cases and New deaths Normalized by cases per 1 million people. "
   ]
  },
  {
   "cell_type": "code",
   "execution_count": 243,
   "metadata": {},
   "outputs": [],
   "source": [
    "#Removes \"Statewide unallocated\" value in covid dataframe\n",
    "covid_df = USCovid.drop(USCovid.loc[USCovid['County Name'] == \"Statewide Unallocated\"].index)\n",
    "\n",
    "#sums up every covid cases from every county and state to one row. \n",
    "sums = covid_df.select_dtypes(pd.np.number).sum(axis = 0).rename('UnitedStates')\n",
    "sums = sums.to_frame()\n"
   ]
  },
  {
   "cell_type": "code",
   "execution_count": 244,
   "metadata": {},
   "outputs": [],
   "source": [
    "#get Population value of US and all countries to normalize in later cells. \n",
    "USPopulation = sums.values[0]\n",
    "Bang_Pop = MyFivePop.values[0,1]\n",
    "Brazil_Pop = MyFivePop.values[1,1]\n",
    "Indon_Pop = MyFivePop.values[2,1]\n",
    "Nigeria_Pop = MyFivePop.values[3,1]\n",
    "Pak_Pop = MyFivePop.values[4,1]\n",
    "\n"
   ]
  },
  {
   "cell_type": "code",
   "execution_count": 245,
   "metadata": {},
   "outputs": [],
   "source": [
    "#seperate cases and deaths. \n",
    "US_cases = sums.filter(regex = \"x\", axis = 0)\n",
    "US_deaths = sums.filter(regex = \"y\",axis = 0)"
   ]
  },
  {
   "cell_type": "code",
   "execution_count": 246,
   "metadata": {},
   "outputs": [
    {
     "name": "stdout",
     "output_type": "stream",
     "text": [
      "            UnitedStates\n",
      "10/8/20_x        56462.0\n",
      "10/9/20_x        56731.0\n",
      "10/10/20_x       54111.0\n",
      "10/11/20_x       43207.0\n",
      "10/12/20_x       42554.0\n",
      "10/13/20_x       50399.0\n",
      "10/14/20_x       59692.0\n",
      "10/15/20_x       66735.0\n",
      "10/16/20_x       63931.0\n",
      "            UnitedStates\n",
      "10/8/20_y          930.0\n",
      "10/9/20_y          906.0\n",
      "10/10/20_y         595.0\n",
      "10/11/20_y         501.0\n",
      "10/12/20_y         285.0\n",
      "10/13/20_y         762.0\n",
      "10/14/20_y         671.0\n",
      "10/15/20_y        1172.0\n",
      "10/16/20_y         851.0\n"
     ]
    }
   ],
   "source": [
    "#calculate only new cases \n",
    "NewUScases = US_cases.diff()\n",
    "NewUSdeaths = US_deaths.diff()\n",
    "\n",
    "print(NewUScases[260:])\n",
    "print(NewUSdeaths[260:])"
   ]
  },
  {
   "cell_type": "code",
   "execution_count": 254,
   "metadata": {},
   "outputs": [
    {
     "name": "stdout",
     "output_type": "stream",
     "text": [
      "            UnitedStates\n",
      "1/22/20_x            NaN\n",
      "1/23/20_x       0.000000\n",
      "1/24/20_x       0.060931\n",
      "1/25/20_x       0.000000\n",
      "1/26/20_x       0.182793\n",
      "...                  ...\n",
      "10/12/20_x   2592.862652\n",
      "10/13/20_x   3070.867246\n",
      "10/14/20_x   3637.100094\n",
      "10/15/20_x   4066.237934\n",
      "10/16/20_x   3895.387089\n",
      "\n",
      "[269 rows x 1 columns]\n",
      "            UnitedStates\n",
      "1/22/20_y            NaN\n",
      "1/23/20_y       0.000000\n",
      "1/24/20_y       0.000000\n",
      "1/25/20_y       0.000000\n",
      "1/26/20_y       0.000000\n",
      "...                  ...\n",
      "10/12/20_y     17.365368\n",
      "10/13/20_y     46.429509\n",
      "10/14/20_y     40.884778\n",
      "10/15/20_y     71.411266\n",
      "10/16/20_y     51.852379\n",
      "\n",
      "[269 rows x 1 columns]\n"
     ]
    }
   ],
   "source": [
    "#calculate and Normalize dataset to cases per 1 million peopl. \n",
    "USNormalize = lambda x: (x / USPopulation) * 20000000\n",
    "Norm_NewUScases = NewUScases.transform(USNormalize)\n",
    "Norm_NewUSdeaths = NewUSdeaths.transform(USNormalize)\n",
    "print(Norm_NewUScases)\n",
    "print(Norm_NewUSdeaths)"
   ]
  },
  {
   "cell_type": "markdown",
   "metadata": {},
   "source": [
    "## Get weekly average of cases"
   ]
  },
  {
   "cell_type": "code",
   "execution_count": 255,
   "metadata": {},
   "outputs": [],
   "source": [
    "WeeklyUS_cases = Norm_NewUScases.groupby(np.arange(len(Norm_NewUScases))//7).mean().round(0).astype(int).rename_axis('Week')\n",
    "WeeklyUS_deaths = Norm_NewUSdeaths.groupby(np.arange(len(Norm_NewUSdeaths))//7).mean().round(0).astype(int).rename_axis('Week')"
   ]
  },
  {
   "cell_type": "code",
   "execution_count": 256,
   "metadata": {},
   "outputs": [
    {
     "name": "stdout",
     "output_type": "stream",
     "text": [
      "      UnitedStates\n",
      "Week              \n",
      "0                0\n",
      "1                0\n",
      "2                0\n",
      "3                0\n",
      "4                0\n",
      "5                1\n",
      "6                8\n",
      "7               45\n",
      "8              405\n",
      "9             1117\n",
      "10            1819\n",
      "11            1810\n",
      "12            1730\n",
      "13            1768\n",
      "14            1651\n",
      "15            1426\n",
      "16            1355\n",
      "17            1315\n",
      "18            1291\n",
      "19            1276\n",
      "20            1370\n",
      "21            1785\n",
      "22            2485\n",
      "23            3068\n",
      "24            3708\n",
      "25            4029\n",
      "26            3894\n",
      "27            3537\n",
      "28            3214\n",
      "29            2887\n",
      "30            2529\n",
      "31            2537\n",
      "32            2228\n",
      "33            2315\n",
      "34            2587\n",
      "35            2512\n",
      "36            2664\n",
      "37            3076\n",
      "38            3866\n",
      "      UnitedStates\n",
      "Week              \n",
      "0                0\n",
      "1                0\n",
      "2                0\n",
      "3                0\n",
      "4                0\n",
      "5                0\n",
      "6                0\n",
      "7                1\n",
      "8                5\n",
      "9               27\n",
      "10              78\n",
      "11             122\n",
      "12             132\n",
      "13             117\n",
      "14             116\n",
      "15             103\n",
      "16              85\n",
      "17              63\n",
      "18              63\n",
      "19              50\n",
      "20              42\n",
      "21              38\n",
      "22              54\n",
      "23              35\n",
      "24              43\n",
      "25              47\n",
      "26              55\n",
      "27              73\n",
      "28              64\n",
      "29              62\n",
      "30              59\n",
      "31              56\n",
      "32              43\n",
      "33              51\n",
      "34              44\n",
      "35              44\n",
      "36              41\n",
      "37              43\n",
      "38              55\n"
     ]
    }
   ],
   "source": [
    "print(WeeklyUS_cases)\n",
    "print(WeeklyUS_deaths)"
   ]
  },
  {
   "cell_type": "markdown",
   "metadata": {},
   "source": [
    "## Find Mean, Median and Mode for all weeks of US. "
   ]
  },
  {
   "cell_type": "code",
   "execution_count": 257,
   "metadata": {},
   "outputs": [],
   "source": [
    "#Calculates mean median and mode for cases and deaths in US. \n",
    "US_MeanCases = WeeklyUS_cases.mean().round(2)\n",
    "US_MedianCases = WeeklyUS_cases.median()\n",
    "US_ModeCases = WeeklyUS_cases.mode()\n",
    "\n",
    "\n",
    "US_MeanDeaths = WeeklyUS_deaths.mean().round(2)\n",
    "US_MedianDeaths = WeeklyUS_deaths.median()\n",
    "US_ModeDeaths = WeeklyUS_deaths.mode()\n",
    "\n",
    "US_ModeCases = US_ModeCases.values.tolist()\n",
    "US_ModeDeaths = US_ModeDeaths.values.tolist()\n"
   ]
  },
  {
   "cell_type": "markdown",
   "metadata": {},
   "source": [
    "## Calculate Country Mean, Median, and Mode weekly statistics to compare with U.S"
   ]
  },
  {
   "cell_type": "code",
   "execution_count": 258,
   "metadata": {},
   "outputs": [
    {
     "name": "stdout",
     "output_type": "stream",
     "text": [
      "           date  Bangladesh  Indonesia  Pakistan  Brazil  Nigeria\n",
      "22   2020-01-22         0.0        0.0       0.0       0      0.0\n",
      "23   2020-01-23         0.0        0.0       0.0       0      0.0\n",
      "24   2020-01-24         0.0        0.0       0.0       0      0.0\n",
      "25   2020-01-25         0.0        0.0       0.0       0      0.0\n",
      "26   2020-01-26         0.0        0.0       0.0       0      0.0\n",
      "..          ...         ...        ...       ...     ...      ...\n",
      "285  2020-10-11      1203.0     4294.0     666.0   26749    111.0\n",
      "286  2020-10-12      1193.0     4497.0       0.0   12345    163.0\n",
      "287  2020-10-13      1472.0     3267.0     916.0    8426    164.0\n",
      "288  2020-10-14      1537.0     3906.0     615.0   10220    225.0\n",
      "289  2020-10-15      1684.0     4127.0     755.0   27235    179.0\n",
      "\n",
      "[268 rows x 6 columns]\n",
      "           date  Bangladesh  Indonesia  Pakistan  Brazil  Nigeria\n",
      "22   2020-01-22         0.0        0.0       0.0       0      0.0\n",
      "23   2020-01-23         0.0        0.0       0.0       0      0.0\n",
      "24   2020-01-24         0.0        0.0       0.0       0      0.0\n",
      "25   2020-01-25         0.0        0.0       0.0       0      0.0\n",
      "26   2020-01-26         0.0        0.0       0.0       0      0.0\n",
      "..          ...         ...        ...       ...     ...      ...\n",
      "285  2020-10-11        23.0       88.0      12.0     559      2.0\n",
      "286  2020-10-12        24.0       79.0       0.0     290      0.0\n",
      "287  2020-10-13        31.0       91.0      18.0     201      0.0\n",
      "288  2020-10-14        22.0       92.0      13.0     309      1.0\n",
      "289  2020-10-15        16.0      129.0      13.0     749      0.0\n",
      "\n",
      "[268 rows x 6 columns]\n"
     ]
    }
   ],
   "source": [
    "#fill NaN with zero for country dataset.\n",
    "Country_NewCases = CountryNewCases[22:290].fillna(0)\n",
    "Country_NewDeaths = CountryNewDeaths[22:290].fillna(0)\n",
    "\n",
    "print(Country_NewCases)\n",
    "print(Country_NewDeaths)"
   ]
  },
  {
   "cell_type": "markdown",
   "metadata": {},
   "source": [
    "## Normalize Cases and Death by 1 million population. "
   ]
  },
  {
   "cell_type": "code",
   "execution_count": 259,
   "metadata": {},
   "outputs": [
    {
     "name": "stdout",
     "output_type": "stream",
     "text": [
      "           date  Bangladesh   Indonesia   Pakistan       Brazil    Nigeria\n",
      "22   2020-01-22    0.000000    0.000000   0.000000     0.000000   0.000000\n",
      "23   2020-01-23    0.000000    0.000000   0.000000     0.000000   0.000000\n",
      "24   2020-01-24    0.000000    0.000000   0.000000     0.000000   0.000000\n",
      "25   2020-01-25    0.000000    0.000000   0.000000     0.000000   0.000000\n",
      "26   2020-01-26    0.000000    0.000000   0.000000     0.000000   0.000000\n",
      "..          ...         ...         ...        ...          ...        ...\n",
      "285  2020-10-11  146.093206  313.976540  60.300871  2516.849301  10.769402\n",
      "286  2020-10-12  144.878799  328.819865   0.000000  1161.557614  15.814527\n",
      "287  2020-10-13  178.760764  238.882477  82.936333   792.813646  15.911548\n",
      "288  2020-10-14  186.654412  285.606046  55.683237   961.613513  21.829868\n",
      "289  2020-10-15  204.506201  301.765528  68.359096  2562.577693  17.366873\n",
      "\n",
      "[268 rows x 6 columns]\n",
      "           date  Bangladesh  Indonesia  Pakistan     Brazil   Nigeria\n",
      "22   2020-01-22    0.000000   0.000000  0.000000   0.000000  0.000000\n",
      "23   2020-01-23    0.000000   0.000000  0.000000   0.000000  0.000000\n",
      "24   2020-01-24    0.000000   0.000000  0.000000   0.000000  0.000000\n",
      "25   2020-01-25    0.000000   0.000000  0.000000   0.000000  0.000000\n",
      "26   2020-01-26    0.000000   0.000000  0.000000   0.000000  0.000000\n",
      "..          ...         ...        ...       ...        ...       ...\n",
      "285  2020-10-11    2.793137   6.434545  1.086502  52.597060  0.194043\n",
      "286  2020-10-12    2.914578   5.776466  0.000000  27.286489  0.000000\n",
      "287  2020-10-13    3.764663   6.653904  1.629753  18.912360  0.000000\n",
      "288  2020-10-14    2.671696   6.727024  1.177044  29.074225  0.097022\n",
      "289  2020-10-15    1.943052   9.432458  1.177044  70.474415  0.000000\n",
      "\n",
      "[268 rows x 6 columns]\n"
     ]
    }
   ],
   "source": [
    "#calculate and Normalize dataset to cases per 1 million people. \n",
    "Norm_CountryCases = Country_NewCases.assign(Bangladesh = lambda x: (x['Bangladesh'] / Bang_Pop) * 20000000)\n",
    "Norm_CountryCases = Norm_CountryCases.assign(Indonesia = lambda x: (x['Indonesia'] / Indon_Pop) * 20000000)\n",
    "Norm_CountryCases = Norm_CountryCases.assign(Pakistan = lambda x: (x['Pakistan'] / Pak_Pop) * 20000000)\n",
    "Norm_CountryCases = Norm_CountryCases.assign(Brazil = lambda x: (x['Brazil'] / Brazil_Pop ) * 20000000)\n",
    "Norm_CountryCases = Norm_CountryCases.assign(Nigeria = lambda x: (x['Nigeria'] / Nigeria_Pop ) * 20000000)\n",
    "\n",
    "Norm_Country_NewDeaths = Country_NewDeaths.assign(Bangladesh = lambda x: (x['Bangladesh'] / Bang_Pop) * 20000000)\n",
    "Norm_Country_NewDeaths = Norm_Country_NewDeaths.assign(Indonesia = lambda x: (x['Indonesia'] / Indon_Pop) * 20000000)\n",
    "Norm_Country_NewDeaths = Norm_Country_NewDeaths.assign(Pakistan = lambda x: (x['Pakistan'] / Pak_Pop) * 20000000)\n",
    "Norm_Country_NewDeaths = Norm_Country_NewDeaths.assign(Brazil = lambda x: (x['Brazil'] / Brazil_Pop ) * 20000000)\n",
    "Norm_Country_NewDeaths = Norm_Country_NewDeaths.assign(Nigeria = lambda x: (x['Nigeria'] / Nigeria_Pop ) * 20000000)\n",
    "\n",
    "\n",
    "\n",
    "print(Norm_CountryCases)\n",
    "print(Norm_Country_NewDeaths)\n"
   ]
  },
  {
   "cell_type": "markdown",
   "metadata": {},
   "source": [
    "## Find average of Cases and deaths for each week. "
   ]
  },
  {
   "cell_type": "code",
   "execution_count": 260,
   "metadata": {},
   "outputs": [
    {
     "name": "stdout",
     "output_type": "stream",
     "text": [
      "      Bangladesh  Indonesia  Pakistan  Brazil  Nigeria\n",
      "Week                                                  \n",
      "0              0          0         0       0        0\n",
      "1              0          0         0       0        0\n",
      "2              0          0         0       0        0\n",
      "3              0          0         0       0        0\n",
      "4              0          0         0       0        0\n",
      "5              0          0         0       0        0\n",
      "6              0          0         0       0        0\n",
      "7              0          1         2       3        0\n",
      "8              0          5         9      22        1\n",
      "9              0          9        10      36        1\n",
      "10             1         11        29     101        1\n",
      "11            12         22        24     153        1\n",
      "12            37         23        45     231        4\n",
      "13            51         24        63     348        9\n",
      "14            73         26        96     555       20\n",
      "15            96         28       137     814       25\n",
      "16           142         39       154    1154       21\n",
      "17           203         50       178    1622       26\n",
      "18           242         44       242    2037       35\n",
      "19           329         53       413    2432       31\n",
      "20           384         76       525    2431       53\n",
      "21           437         79       467    2933       59\n",
      "22           451         86       314    3518       58\n",
      "23           413        103       326    3429       58\n",
      "24           369        126       247    3517       54\n",
      "25           357        117       162    3141       56\n",
      "26           326        126       118    4351       55\n",
      "27           275        134        68    4139       41\n",
      "28           319        146        61    4129       38\n",
      "29           323        149        60    4061       36\n",
      "30           311        147        50    3539       42\n",
      "31           276        202        32    3836       20\n",
      "32           249        232        40    3220       16\n",
      "33           208        256        41    2659       17\n",
      "34           196        285        58    2856       15\n",
      "35           172        312        60    2519       14\n",
      "36           166        297        54    2443       14\n",
      "37           167        309        53    2368       13\n",
      "38           196        294        62    1762       20\n",
      "      Bangladesh  Indonesia  Pakistan  Brazil  Nigeria\n",
      "Week                                                  \n",
      "0              0          0         0       0        0\n",
      "1              0          0         0       0        0\n",
      "2              0          0         0       0        0\n",
      "3              0          0         0       0        0\n",
      "4              0          0         0       0        0\n",
      "5              0          0         0       0        0\n",
      "6              0          0         0       0        0\n",
      "7              0          0         0       0        0\n",
      "8              0          0         0       0        0\n",
      "9              0          1         0       2        0\n",
      "10             0          1         0       5        0\n",
      "11             0          2         1      10        0\n",
      "12             1          2         1      17        0\n",
      "13             1          2         1      26        0\n",
      "14             1          1         2      37        1\n",
      "15             1          1         3      56        1\n",
      "16             2          2         3      71        1\n",
      "17             3          2         3      90        1\n",
      "18             3          3         5      87        1\n",
      "19             4          3         7      97        1\n",
      "20             5          3         9      92        1\n",
      "21             5          3        11      98        1\n",
      "22             5          3         8      95        1\n",
      "23             5          5         7      96        1\n",
      "24             5          4         6      99        1\n",
      "25             5          6         4      98        1\n",
      "26             5          6         3     101        1\n",
      "27             4          5         2      95        0\n",
      "28             4          5         1      95        1\n",
      "29             4          5         1      91        0\n",
      "30             5          6         1      91        0\n",
      "31             5          7         1      82        0\n",
      "32             4          7         1      75        1\n",
      "33             4          7         1      68        0\n",
      "34             4          9         0      71        0\n",
      "35             4          8         1      64        0\n",
      "36             3          8         1      62        0\n",
      "37             3          7         1      54        0\n",
      "38             2          8         1      50        0\n"
     ]
    }
   ],
   "source": [
    "#calculates weekly average of cases and deaths\n",
    "WeeklyCountries_cases = Norm_CountryCases .groupby(np.arange(len(Country_NewCases))//7).mean().round(0).astype(int).rename_axis('Week')\n",
    "WeeklyCountries_deaths = Norm_Country_NewDeaths.groupby(np.arange(len(Country_NewDeaths))//7).mean().round(0).astype(int).rename_axis('Week')\n",
    "\n",
    "print(WeeklyCountries_cases)\n",
    "print(WeeklyCountries_deaths)"
   ]
  },
  {
   "cell_type": "markdown",
   "metadata": {},
   "source": [
    "## Calculate Mean, Median, and Mode of cases and deaths for all 5 countries. "
   ]
  },
  {
   "cell_type": "code",
   "execution_count": 261,
   "metadata": {},
   "outputs": [],
   "source": [
    "FiveCountry_MeanCases = WeeklyCountries_cases.mean().round(2)\n",
    "FiveCountry_MedianCases = WeeklyCountries_cases.median()\n",
    "FiveCountry_ModeCases = WeeklyCountries_cases.mode()\n",
    "\n",
    "FiveCountry_MeanDeaths = WeeklyCountries_deaths.mean().round(2)\n",
    "FiveCountry_MedianDeaths = WeeklyCountries_deaths.median()\n",
    "FiveCountry_ModeDeaths = WeeklyCountries_deaths.mode()\n",
    "\n",
    "FiveCountry_ModeCases = FiveCountry_ModeCases.values.tolist()\n",
    "FiveCountry_ModeDeaths = FiveCountry_ModeDeaths.values.tolist()\n"
   ]
  },
  {
   "cell_type": "markdown",
   "metadata": {},
   "source": [
    "## Puts Mean,Median and Mode values in a list to put into a dataframe for easier comparisions. "
   ]
  },
  {
   "cell_type": "code",
   "execution_count": 262,
   "metadata": {},
   "outputs": [],
   "source": [
    "ListCase = [[\"United States\",US_MeanCases[0],US_MedianCases[0],US_ModeCases[0][0]],\n",
    "        [\"Bangladesh\", FiveCountry_MeanCases[0],FiveCountry_MedianCases[0],FiveCountry_ModeCases[0][0]],\n",
    "        [\"Indonesia\", FiveCountry_MeanCases[1],FiveCountry_MedianCases[1],FiveCountry_ModeCases[0][1]],\n",
    "        [\"Pakistan\", FiveCountry_MeanCases[2],FiveCountry_MedianCases[2],FiveCountry_ModeCases[0][2]],\n",
    "        [\"Brazil\", FiveCountry_MeanCases[3],FiveCountry_MedianCases[3],FiveCountry_ModeCases[0][3]],\n",
    "       [\"Nigeria\", FiveCountry_MeanCases[4],FiveCountry_MedianCases[4],FiveCountry_ModeCases[0][4]]]\n",
    "\n",
    "\n",
    "ListDeaths = [[\"United States\",US_MeanDeaths[0],US_MedianDeaths[0],US_ModeDeaths[0][0]],\n",
    "        [\"Bangladesh\", FiveCountry_MeanDeaths[0],FiveCountry_MedianDeaths[0],FiveCountry_ModeDeaths[0][0]],\n",
    "        [\"Indonesia\", FiveCountry_MeanDeaths[1],FiveCountry_MedianDeaths[1],FiveCountry_ModeDeaths[0][1]],\n",
    "        [\"Pakistan\", FiveCountry_MeanDeaths[2],FiveCountry_MedianDeaths[2],FiveCountry_ModeDeaths[0][2]],\n",
    "        [\"Brazil\", FiveCountry_MeanDeaths[3],FiveCountry_MedianDeaths[3],FiveCountry_ModeDeaths[0][3]],\n",
    "       [\"Nigeria\", FiveCountry_MeanDeaths[4],FiveCountry_MedianDeaths[4],FiveCountry_ModeDeaths[0][4]]]"
   ]
  },
  {
   "cell_type": "markdown",
   "metadata": {},
   "source": [
    "## WeeklyStatistics Comparision of Cases"
   ]
  },
  {
   "cell_type": "code",
   "execution_count": 263,
   "metadata": {},
   "outputs": [
    {
     "data": {
      "text/html": [
       "<div>\n",
       "<style scoped>\n",
       "    .dataframe tbody tr th:only-of-type {\n",
       "        vertical-align: middle;\n",
       "    }\n",
       "\n",
       "    .dataframe tbody tr th {\n",
       "        vertical-align: top;\n",
       "    }\n",
       "\n",
       "    .dataframe thead th {\n",
       "        text-align: right;\n",
       "    }\n",
       "</style>\n",
       "<table border=\"1\" class=\"dataframe\">\n",
       "  <thead>\n",
       "    <tr style=\"text-align: right;\">\n",
       "      <th></th>\n",
       "      <th>Country</th>\n",
       "      <th>Mean</th>\n",
       "      <th>Median</th>\n",
       "      <th>Mode</th>\n",
       "    </tr>\n",
       "  </thead>\n",
       "  <tbody>\n",
       "    <tr>\n",
       "      <td>0</td>\n",
       "      <td>United States</td>\n",
       "      <td>1828.41</td>\n",
       "      <td>1785.0</td>\n",
       "      <td>0</td>\n",
       "    </tr>\n",
       "    <tr>\n",
       "      <td>1</td>\n",
       "      <td>Bangladesh</td>\n",
       "      <td>173.87</td>\n",
       "      <td>172.0</td>\n",
       "      <td>0</td>\n",
       "    </tr>\n",
       "    <tr>\n",
       "      <td>2</td>\n",
       "      <td>Indonesia</td>\n",
       "      <td>97.72</td>\n",
       "      <td>53.0</td>\n",
       "      <td>0</td>\n",
       "    </tr>\n",
       "    <tr>\n",
       "      <td>3</td>\n",
       "      <td>Pakistan</td>\n",
       "      <td>107.69</td>\n",
       "      <td>58.0</td>\n",
       "      <td>0</td>\n",
       "    </tr>\n",
       "    <tr>\n",
       "      <td>4</td>\n",
       "      <td>Brazil</td>\n",
       "      <td>1804.08</td>\n",
       "      <td>2037.0</td>\n",
       "      <td>0</td>\n",
       "    </tr>\n",
       "    <tr>\n",
       "      <td>5</td>\n",
       "      <td>Nigeria</td>\n",
       "      <td>21.90</td>\n",
       "      <td>17.0</td>\n",
       "      <td>0</td>\n",
       "    </tr>\n",
       "  </tbody>\n",
       "</table>\n",
       "</div>"
      ],
      "text/plain": [
       "         Country     Mean  Median  Mode\n",
       "0  United States  1828.41  1785.0     0\n",
       "1     Bangladesh   173.87   172.0     0\n",
       "2      Indonesia    97.72    53.0     0\n",
       "3       Pakistan   107.69    58.0     0\n",
       "4         Brazil  1804.08  2037.0     0\n",
       "5        Nigeria    21.90    17.0     0"
      ]
     },
     "execution_count": 263,
     "metadata": {},
     "output_type": "execute_result"
    }
   ],
   "source": [
    "CountryWeeklyStatisticsCase = pd.DataFrame(ListCase, columns = ['Country','Mean', 'Median', 'Mode'])\n",
    "\n",
    "CountryWeeklyStatisticsCase\n"
   ]
  },
  {
   "cell_type": "markdown",
   "metadata": {},
   "source": [
    "## WeeklyStatistics Comparision of Deaths"
   ]
  },
  {
   "cell_type": "code",
   "execution_count": 264,
   "metadata": {},
   "outputs": [
    {
     "data": {
      "text/html": [
       "<div>\n",
       "<style scoped>\n",
       "    .dataframe tbody tr th:only-of-type {\n",
       "        vertical-align: middle;\n",
       "    }\n",
       "\n",
       "    .dataframe tbody tr th {\n",
       "        vertical-align: top;\n",
       "    }\n",
       "\n",
       "    .dataframe thead th {\n",
       "        text-align: right;\n",
       "    }\n",
       "</style>\n",
       "<table border=\"1\" class=\"dataframe\">\n",
       "  <thead>\n",
       "    <tr style=\"text-align: right;\">\n",
       "      <th></th>\n",
       "      <th>Country</th>\n",
       "      <th>Mean</th>\n",
       "      <th>Median</th>\n",
       "      <th>Mode</th>\n",
       "    </tr>\n",
       "  </thead>\n",
       "  <tbody>\n",
       "    <tr>\n",
       "      <td>0</td>\n",
       "      <td>United States</td>\n",
       "      <td>49.00</td>\n",
       "      <td>47.0</td>\n",
       "      <td>0</td>\n",
       "    </tr>\n",
       "    <tr>\n",
       "      <td>1</td>\n",
       "      <td>Bangladesh</td>\n",
       "      <td>2.49</td>\n",
       "      <td>3.0</td>\n",
       "      <td>0</td>\n",
       "    </tr>\n",
       "    <tr>\n",
       "      <td>2</td>\n",
       "      <td>Indonesia</td>\n",
       "      <td>3.38</td>\n",
       "      <td>3.0</td>\n",
       "      <td>0</td>\n",
       "    </tr>\n",
       "    <tr>\n",
       "      <td>3</td>\n",
       "      <td>Pakistan</td>\n",
       "      <td>2.21</td>\n",
       "      <td>1.0</td>\n",
       "      <td>1</td>\n",
       "    </tr>\n",
       "    <tr>\n",
       "      <td>4</td>\n",
       "      <td>Brazil</td>\n",
       "      <td>53.21</td>\n",
       "      <td>64.0</td>\n",
       "      <td>0</td>\n",
       "    </tr>\n",
       "    <tr>\n",
       "      <td>5</td>\n",
       "      <td>Nigeria</td>\n",
       "      <td>0.38</td>\n",
       "      <td>0.0</td>\n",
       "      <td>0</td>\n",
       "    </tr>\n",
       "  </tbody>\n",
       "</table>\n",
       "</div>"
      ],
      "text/plain": [
       "         Country   Mean  Median  Mode\n",
       "0  United States  49.00    47.0     0\n",
       "1     Bangladesh   2.49     3.0     0\n",
       "2      Indonesia   3.38     3.0     0\n",
       "3       Pakistan   2.21     1.0     1\n",
       "4         Brazil  53.21    64.0     0\n",
       "5        Nigeria   0.38     0.0     0"
      ]
     },
     "execution_count": 264,
     "metadata": {},
     "output_type": "execute_result"
    }
   ],
   "source": [
    "CountryWeeklyStatisticsDeath = pd.DataFrame(ListDeaths, columns = ['Country','Mean', 'Median', 'Mode'])\n",
    "\n",
    "CountryWeeklyStatisticsDeath"
   ]
  },
  {
   "cell_type": "markdown",
   "metadata": {},
   "source": [
    "# United States  "
   ]
  },
  {
   "cell_type": "code",
   "execution_count": null,
   "metadata": {},
   "outputs": [],
   "source": []
  }
 ],
 "metadata": {
  "kernelspec": {
   "display_name": "Python 3",
   "language": "python",
   "name": "python3"
  },
  "language_info": {
   "codemirror_mode": {
    "name": "ipython",
    "version": 3
   },
   "file_extension": ".py",
   "mimetype": "text/x-python",
   "name": "python",
   "nbconvert_exporter": "python",
   "pygments_lexer": "ipython3",
   "version": "3.7.4"
  }
 },
 "nbformat": 4,
 "nbformat_minor": 2
}
