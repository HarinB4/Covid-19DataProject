{
 "cells": [
  {
   "cell_type": "code",
   "execution_count": 147,
   "metadata": {
    "collapsed": true
   },
   "outputs": [],
   "source": [
    "import pandas as pd\n",
    "import numpy as np"
   ]
  },
  {
   "cell_type": "code",
   "execution_count": 148,
   "outputs": [
    {
     "name": "stderr",
     "output_type": "stream",
     "text": [
      "c:\\users\\codingtheories\\pycharmprojects\\csc-405-605_2020_assignment\\venv\\lib\\site-packages\\IPython\\core\\interactiveshell.py:3145: DtypeWarning: Columns (2,3,4,6,7,8,9,10,11,12,13,14,15,16,17,18,19,20,21,22,23,24,25,26,27,28,29,30,31,32,36,37,38,39,40,42,43,44,45,46,47,48,49,50,51,52,53,54,55,56,58,59,60,61,62,63,64,66,67,68,69,70,71,72,74,75,76,77,78,79,80,81,82,83,84,85,86,87,88,89,90,91,92,93,94,95,96,97,98,99,102,103,104,106,107,108,109,110,111,112,113,114,115,116,117,118,119,120,121,122,123,124,125,126,127,128,130,131,132,133,134,135,136,137,138,139,140,141,142,143,144,145,146,147,148,149,150,151,152,153,154,155,156,157,158,159,160,161,162,163,164,165,166,167,168,169,170,171,172,173,174,175,176,177,178,179,180,181,182,183,184,186,187,188,189,190,191,192,193,194,195,196,197,198,199,200,201,202,203,204,206,207,208,209,210,211,212,213,214,215,216,217,218,219,220,221,222,223,224,225,226,227,228,229,230,231,232,233,234,235,236,237,238,239,240,241,242,243,244,245,246,247,250,251,254,255,256,257,258,259,262,263,264,265,266,267,270,271,272,273,274,275,278,279,280,281,286,287,288,289,294,295,296,297,298,299,300,302,303,304,305,306,307,308,309,310,311,312,313,314,315,316,317,318,319,320,321,322,323,324,325,326,327,328,329,330,331,332,333,334,335,336,337,338,339,340,341,342,343,346,347,350,351,354,355,356,358,359,362,363,366,367,370,371,374,375,378,379,380,382,383,384,385,386,387,388,389,390,391,392,393,394,395,396,397,398,399,400,402,403,404,405,406,407,408,410,411,412,414,415,416,418,419,420,421,422,423,424,425,426,427,428,429,430,431,432,433,434,435,436,438,439,440,441,442,443,444,445,446,447,448,449,450,451,452,453,454,455,456,458,459,460,461,462,463,464,465,466,467,468,469,470,471,472,473,476,477,480,481,484,485,488,489,492,493,496,497,500,501,504,505,512,513,516,517,520,521,524,525,528,529,532,533,536,537,540,541,544,545,548,549) have mixed types.Specify dtype option on import or set low_memory=False.\n",
      "  has_raised = await self.run_ast_nodes(code_ast.body, cell_name,\n"
     ]
    },
    {
     "data": {
      "text/plain": "RangeIndex(start=0, stop=3221, step=1)"
     },
     "execution_count": 148,
     "metadata": {},
     "output_type": "execute_result"
    }
   ],
   "source": [
    "regex = '(^[a-z|A-Z|0-9]+[_]+([0-9]+)+[E])|^GEO_ID$|^NAME$'\n",
    "path_economic = '../../data/ESH/Economic.csv'\n",
    "path_covid = '../../data/output/covid.csv'\n",
    "df_covid = pd.read_csv(path_covid)\n",
    "df_economic = pd.read_csv(path_economic)\n",
    "\n",
    "df_economic = df_economic.filter(regex=regex)\n",
    "df_economic.index"
   ],
   "metadata": {
    "collapsed": false,
    "pycharm": {
     "name": "#%%\n"
    }
   }
  },
  {
   "cell_type": "code",
   "execution_count": 149,
   "outputs": [
    {
     "data": {
      "text/plain": "Int64Index([   0,    1,    2,    3,    4,    5,    6,    7,    8,    9,\n            ...\n            3210, 3211, 3212, 3213, 3214, 3215, 3216, 3217, 3218, 3219],\n           dtype='int64', length=3220)"
     },
     "execution_count": 149,
     "metadata": {},
     "output_type": "execute_result"
    }
   ],
   "source": [
    "df_economic = df_economic[\n",
    "    ['GEO_ID', 'DP03_0001E','DP03_0008E','DP03_0018E','DP03_0026E','DP03_0032E','DP03_0046E','DP03_0047E','DP03_0048E','DP03_0049E','DP03_0050E']\n",
    "]\n",
    "df_economic = df_economic.drop(df_economic.index[0])\n",
    "df_economic.index = np.arange(0, len(df_economic))\n",
    "df_economic.index"
   ],
   "metadata": {
    "collapsed": false,
    "pycharm": {
     "name": "#%%\n"
    }
   }
  },
  {
   "cell_type": "code",
   "execution_count": 150,
   "outputs": [
    {
     "data": {
      "text/plain": "     countyFIPS DP03_0001E DP03_0008E DP03_0018E DP03_0026E DP03_0032E  \\\n0          1001      43368      25189      24428      24124      24124   \n1          1003     167712      97722      91420      93379      93379   \n2          1005      20948       9638       8538       8720       8720   \n3          1007      18470       8757       7946       8099       8099   \n4          1009      45915      22255      21148      21346      21346   \n...         ...        ...        ...        ...        ...        ...   \n3215      72145      43815      17633      14194      14314      14314   \n3216      72147       7042       2922       2487       2487       2487   \n3217      72149      18663       8581       6357       6625       6625   \n3218      72151      28146      10853       7513       8044       8044   \n3219      72153      30226      11146       8706       8924       8924   \n\n     DP03_0046E DP03_0047E DP03_0048E DP03_0049E DP03_0050E  \n0         24124      17659       5075       1360         30  \n1         93379      74664      12299       6287        129  \n2          8720       6596       1609        496         19  \n3          8099       6303       1297        445         54  \n4         21346      17759       2527       1014         46  \n...         ...        ...        ...        ...        ...  \n3215      14314      10818       2795        679         22  \n3216       2487       1026       1117        344          0  \n3217       6625       3935       1925        751         14  \n3218       8044       5310       2209        525          0  \n3219       8924       5860       2519        545          0  \n\n[3220 rows x 11 columns]",
      "text/html": "<div>\n<style scoped>\n    .dataframe tbody tr th:only-of-type {\n        vertical-align: middle;\n    }\n\n    .dataframe tbody tr th {\n        vertical-align: top;\n    }\n\n    .dataframe thead th {\n        text-align: right;\n    }\n</style>\n<table border=\"1\" class=\"dataframe\">\n  <thead>\n    <tr style=\"text-align: right;\">\n      <th></th>\n      <th>countyFIPS</th>\n      <th>DP03_0001E</th>\n      <th>DP03_0008E</th>\n      <th>DP03_0018E</th>\n      <th>DP03_0026E</th>\n      <th>DP03_0032E</th>\n      <th>DP03_0046E</th>\n      <th>DP03_0047E</th>\n      <th>DP03_0048E</th>\n      <th>DP03_0049E</th>\n      <th>DP03_0050E</th>\n    </tr>\n  </thead>\n  <tbody>\n    <tr>\n      <th>0</th>\n      <td>1001</td>\n      <td>43368</td>\n      <td>25189</td>\n      <td>24428</td>\n      <td>24124</td>\n      <td>24124</td>\n      <td>24124</td>\n      <td>17659</td>\n      <td>5075</td>\n      <td>1360</td>\n      <td>30</td>\n    </tr>\n    <tr>\n      <th>1</th>\n      <td>1003</td>\n      <td>167712</td>\n      <td>97722</td>\n      <td>91420</td>\n      <td>93379</td>\n      <td>93379</td>\n      <td>93379</td>\n      <td>74664</td>\n      <td>12299</td>\n      <td>6287</td>\n      <td>129</td>\n    </tr>\n    <tr>\n      <th>2</th>\n      <td>1005</td>\n      <td>20948</td>\n      <td>9638</td>\n      <td>8538</td>\n      <td>8720</td>\n      <td>8720</td>\n      <td>8720</td>\n      <td>6596</td>\n      <td>1609</td>\n      <td>496</td>\n      <td>19</td>\n    </tr>\n    <tr>\n      <th>3</th>\n      <td>1007</td>\n      <td>18470</td>\n      <td>8757</td>\n      <td>7946</td>\n      <td>8099</td>\n      <td>8099</td>\n      <td>8099</td>\n      <td>6303</td>\n      <td>1297</td>\n      <td>445</td>\n      <td>54</td>\n    </tr>\n    <tr>\n      <th>4</th>\n      <td>1009</td>\n      <td>45915</td>\n      <td>22255</td>\n      <td>21148</td>\n      <td>21346</td>\n      <td>21346</td>\n      <td>21346</td>\n      <td>17759</td>\n      <td>2527</td>\n      <td>1014</td>\n      <td>46</td>\n    </tr>\n    <tr>\n      <th>...</th>\n      <td>...</td>\n      <td>...</td>\n      <td>...</td>\n      <td>...</td>\n      <td>...</td>\n      <td>...</td>\n      <td>...</td>\n      <td>...</td>\n      <td>...</td>\n      <td>...</td>\n      <td>...</td>\n    </tr>\n    <tr>\n      <th>3215</th>\n      <td>72145</td>\n      <td>43815</td>\n      <td>17633</td>\n      <td>14194</td>\n      <td>14314</td>\n      <td>14314</td>\n      <td>14314</td>\n      <td>10818</td>\n      <td>2795</td>\n      <td>679</td>\n      <td>22</td>\n    </tr>\n    <tr>\n      <th>3216</th>\n      <td>72147</td>\n      <td>7042</td>\n      <td>2922</td>\n      <td>2487</td>\n      <td>2487</td>\n      <td>2487</td>\n      <td>2487</td>\n      <td>1026</td>\n      <td>1117</td>\n      <td>344</td>\n      <td>0</td>\n    </tr>\n    <tr>\n      <th>3217</th>\n      <td>72149</td>\n      <td>18663</td>\n      <td>8581</td>\n      <td>6357</td>\n      <td>6625</td>\n      <td>6625</td>\n      <td>6625</td>\n      <td>3935</td>\n      <td>1925</td>\n      <td>751</td>\n      <td>14</td>\n    </tr>\n    <tr>\n      <th>3218</th>\n      <td>72151</td>\n      <td>28146</td>\n      <td>10853</td>\n      <td>7513</td>\n      <td>8044</td>\n      <td>8044</td>\n      <td>8044</td>\n      <td>5310</td>\n      <td>2209</td>\n      <td>525</td>\n      <td>0</td>\n    </tr>\n    <tr>\n      <th>3219</th>\n      <td>72153</td>\n      <td>30226</td>\n      <td>11146</td>\n      <td>8706</td>\n      <td>8924</td>\n      <td>8924</td>\n      <td>8924</td>\n      <td>5860</td>\n      <td>2519</td>\n      <td>545</td>\n      <td>0</td>\n    </tr>\n  </tbody>\n</table>\n<p>3220 rows × 11 columns</p>\n</div>"
     },
     "execution_count": 150,
     "metadata": {},
     "output_type": "execute_result"
    }
   ],
   "source": [
    "def find_fips(data_frame: pd.DataFrame, column_name:str = \"GEO_ID\", split_at:str = 'US') -> pd.DataFrame:\n",
    "    for i in range(data_frame.shape[0]):\n",
    "        val = data_frame[column_name].values[i]\n",
    "        try:\n",
    "            _, fips = val.split(split_at)\n",
    "            data_frame.at[i, column_name] = int(fips)\n",
    "        except:\n",
    "            pass\n",
    "    return data_frame\n",
    "\n",
    "df_economic = find_fips(df_economic)\n",
    "df_economic = df_economic.rename(columns={'GEO_ID':'countyFIPS'})\n",
    "df_economic"
   ],
   "metadata": {
    "collapsed": false,
    "pycharm": {
     "name": "#%%\n"
    }
   }
  },
  {
   "cell_type": "code",
   "execution_count": 151,
   "outputs": [
    {
     "data": {
      "text/plain": "      Unnamed: 0 countyFIPS            County Name State  population  \\\n0              0          0  Statewide Unallocated    AL           0   \n1              1       1001         Autauga County    AL       55869   \n2              2       1003         Baldwin County    AL      223234   \n3              3       1005         Barbour County    AL       24686   \n4              4       1007            Bibb County    AL       22394   \n...          ...        ...                    ...   ...         ...   \n3190        3190      56037      Sweetwater County    WY       42343   \n3191        3191      56039           Teton County    WY       23464   \n3192        3192      56041           Uinta County    WY       20226   \n3193        3193      56043        Washakie County    WY        7805   \n3194        3194      56045          Weston County    WY        6927   \n\n              County Name_x  stateFIPS  1/22/20_x  1/23/20_x  1/24/20_x  ...  \\\n0     Statewide Unallocated          1          0          0          0  ...   \n1            Autauga County          1          0          0          0  ...   \n2            Baldwin County          1          0          0          0  ...   \n3            Barbour County          1          0          0          0  ...   \n4               Bibb County          1          0          0          0  ...   \n...                     ...        ...        ...        ...        ...  ...   \n3190      Sweetwater County         56          0          0          0  ...   \n3191           Teton County         56          0          0          0  ...   \n3192           Uinta County         56          0          0          0  ...   \n3193        Washakie County         56          0          0          0  ...   \n3194          Weston County         56          0          0          0  ...   \n\n      DP03_0001E  DP03_0008E  DP03_0018E  DP03_0026E  DP03_0032E  DP03_0046E  \\\n0            NaN         NaN         NaN         NaN         NaN         NaN   \n1          43368       25189       24428       24124       24124       24124   \n2         167712       97722       91420       93379       93379       93379   \n3          20948        9638        8538        8720        8720        8720   \n4          18470        8757        7946        8099        8099        8099   \n...          ...         ...         ...         ...         ...         ...   \n3190       33529       23342       21800       22129       22129       22129   \n3191       18983       14527       14035       14317       14317       14317   \n3192       15176       10141        9376        9527        9527        9527   \n3193        6557        4088        3707        3835        3835        3835   \n3194        5702        3305        3116        3188        3188        3188   \n\n      DP03_0047E  DP03_0048E  DP03_0049E  DP03_0050E  \n0            NaN         NaN         NaN         NaN  \n1          17659        5075        1360          30  \n2          74664       12299        6287         129  \n3           6596        1609         496          19  \n4           6303        1297         445          54  \n...          ...         ...         ...         ...  \n3190       17443        3772         914           0  \n3191       11748        1686         883           0  \n3192        7055        1859         571          42  \n3193        2656         867         306           6  \n3194        2240         667         275           6  \n\n[3195 rows x 492 columns]",
      "text/html": "<div>\n<style scoped>\n    .dataframe tbody tr th:only-of-type {\n        vertical-align: middle;\n    }\n\n    .dataframe tbody tr th {\n        vertical-align: top;\n    }\n\n    .dataframe thead th {\n        text-align: right;\n    }\n</style>\n<table border=\"1\" class=\"dataframe\">\n  <thead>\n    <tr style=\"text-align: right;\">\n      <th></th>\n      <th>Unnamed: 0</th>\n      <th>countyFIPS</th>\n      <th>County Name</th>\n      <th>State</th>\n      <th>population</th>\n      <th>County Name_x</th>\n      <th>stateFIPS</th>\n      <th>1/22/20_x</th>\n      <th>1/23/20_x</th>\n      <th>1/24/20_x</th>\n      <th>...</th>\n      <th>DP03_0001E</th>\n      <th>DP03_0008E</th>\n      <th>DP03_0018E</th>\n      <th>DP03_0026E</th>\n      <th>DP03_0032E</th>\n      <th>DP03_0046E</th>\n      <th>DP03_0047E</th>\n      <th>DP03_0048E</th>\n      <th>DP03_0049E</th>\n      <th>DP03_0050E</th>\n    </tr>\n  </thead>\n  <tbody>\n    <tr>\n      <th>0</th>\n      <td>0</td>\n      <td>0</td>\n      <td>Statewide Unallocated</td>\n      <td>AL</td>\n      <td>0</td>\n      <td>Statewide Unallocated</td>\n      <td>1</td>\n      <td>0</td>\n      <td>0</td>\n      <td>0</td>\n      <td>...</td>\n      <td>NaN</td>\n      <td>NaN</td>\n      <td>NaN</td>\n      <td>NaN</td>\n      <td>NaN</td>\n      <td>NaN</td>\n      <td>NaN</td>\n      <td>NaN</td>\n      <td>NaN</td>\n      <td>NaN</td>\n    </tr>\n    <tr>\n      <th>1</th>\n      <td>1</td>\n      <td>1001</td>\n      <td>Autauga County</td>\n      <td>AL</td>\n      <td>55869</td>\n      <td>Autauga County</td>\n      <td>1</td>\n      <td>0</td>\n      <td>0</td>\n      <td>0</td>\n      <td>...</td>\n      <td>43368</td>\n      <td>25189</td>\n      <td>24428</td>\n      <td>24124</td>\n      <td>24124</td>\n      <td>24124</td>\n      <td>17659</td>\n      <td>5075</td>\n      <td>1360</td>\n      <td>30</td>\n    </tr>\n    <tr>\n      <th>2</th>\n      <td>2</td>\n      <td>1003</td>\n      <td>Baldwin County</td>\n      <td>AL</td>\n      <td>223234</td>\n      <td>Baldwin County</td>\n      <td>1</td>\n      <td>0</td>\n      <td>0</td>\n      <td>0</td>\n      <td>...</td>\n      <td>167712</td>\n      <td>97722</td>\n      <td>91420</td>\n      <td>93379</td>\n      <td>93379</td>\n      <td>93379</td>\n      <td>74664</td>\n      <td>12299</td>\n      <td>6287</td>\n      <td>129</td>\n    </tr>\n    <tr>\n      <th>3</th>\n      <td>3</td>\n      <td>1005</td>\n      <td>Barbour County</td>\n      <td>AL</td>\n      <td>24686</td>\n      <td>Barbour County</td>\n      <td>1</td>\n      <td>0</td>\n      <td>0</td>\n      <td>0</td>\n      <td>...</td>\n      <td>20948</td>\n      <td>9638</td>\n      <td>8538</td>\n      <td>8720</td>\n      <td>8720</td>\n      <td>8720</td>\n      <td>6596</td>\n      <td>1609</td>\n      <td>496</td>\n      <td>19</td>\n    </tr>\n    <tr>\n      <th>4</th>\n      <td>4</td>\n      <td>1007</td>\n      <td>Bibb County</td>\n      <td>AL</td>\n      <td>22394</td>\n      <td>Bibb County</td>\n      <td>1</td>\n      <td>0</td>\n      <td>0</td>\n      <td>0</td>\n      <td>...</td>\n      <td>18470</td>\n      <td>8757</td>\n      <td>7946</td>\n      <td>8099</td>\n      <td>8099</td>\n      <td>8099</td>\n      <td>6303</td>\n      <td>1297</td>\n      <td>445</td>\n      <td>54</td>\n    </tr>\n    <tr>\n      <th>...</th>\n      <td>...</td>\n      <td>...</td>\n      <td>...</td>\n      <td>...</td>\n      <td>...</td>\n      <td>...</td>\n      <td>...</td>\n      <td>...</td>\n      <td>...</td>\n      <td>...</td>\n      <td>...</td>\n      <td>...</td>\n      <td>...</td>\n      <td>...</td>\n      <td>...</td>\n      <td>...</td>\n      <td>...</td>\n      <td>...</td>\n      <td>...</td>\n      <td>...</td>\n      <td>...</td>\n    </tr>\n    <tr>\n      <th>3190</th>\n      <td>3190</td>\n      <td>56037</td>\n      <td>Sweetwater County</td>\n      <td>WY</td>\n      <td>42343</td>\n      <td>Sweetwater County</td>\n      <td>56</td>\n      <td>0</td>\n      <td>0</td>\n      <td>0</td>\n      <td>...</td>\n      <td>33529</td>\n      <td>23342</td>\n      <td>21800</td>\n      <td>22129</td>\n      <td>22129</td>\n      <td>22129</td>\n      <td>17443</td>\n      <td>3772</td>\n      <td>914</td>\n      <td>0</td>\n    </tr>\n    <tr>\n      <th>3191</th>\n      <td>3191</td>\n      <td>56039</td>\n      <td>Teton County</td>\n      <td>WY</td>\n      <td>23464</td>\n      <td>Teton County</td>\n      <td>56</td>\n      <td>0</td>\n      <td>0</td>\n      <td>0</td>\n      <td>...</td>\n      <td>18983</td>\n      <td>14527</td>\n      <td>14035</td>\n      <td>14317</td>\n      <td>14317</td>\n      <td>14317</td>\n      <td>11748</td>\n      <td>1686</td>\n      <td>883</td>\n      <td>0</td>\n    </tr>\n    <tr>\n      <th>3192</th>\n      <td>3192</td>\n      <td>56041</td>\n      <td>Uinta County</td>\n      <td>WY</td>\n      <td>20226</td>\n      <td>Uinta County</td>\n      <td>56</td>\n      <td>0</td>\n      <td>0</td>\n      <td>0</td>\n      <td>...</td>\n      <td>15176</td>\n      <td>10141</td>\n      <td>9376</td>\n      <td>9527</td>\n      <td>9527</td>\n      <td>9527</td>\n      <td>7055</td>\n      <td>1859</td>\n      <td>571</td>\n      <td>42</td>\n    </tr>\n    <tr>\n      <th>3193</th>\n      <td>3193</td>\n      <td>56043</td>\n      <td>Washakie County</td>\n      <td>WY</td>\n      <td>7805</td>\n      <td>Washakie County</td>\n      <td>56</td>\n      <td>0</td>\n      <td>0</td>\n      <td>0</td>\n      <td>...</td>\n      <td>6557</td>\n      <td>4088</td>\n      <td>3707</td>\n      <td>3835</td>\n      <td>3835</td>\n      <td>3835</td>\n      <td>2656</td>\n      <td>867</td>\n      <td>306</td>\n      <td>6</td>\n    </tr>\n    <tr>\n      <th>3194</th>\n      <td>3194</td>\n      <td>56045</td>\n      <td>Weston County</td>\n      <td>WY</td>\n      <td>6927</td>\n      <td>Weston County</td>\n      <td>56</td>\n      <td>0</td>\n      <td>0</td>\n      <td>0</td>\n      <td>...</td>\n      <td>5702</td>\n      <td>3305</td>\n      <td>3116</td>\n      <td>3188</td>\n      <td>3188</td>\n      <td>3188</td>\n      <td>2240</td>\n      <td>667</td>\n      <td>275</td>\n      <td>6</td>\n    </tr>\n  </tbody>\n</table>\n<p>3195 rows × 492 columns</p>\n</div>"
     },
     "execution_count": 151,
     "metadata": {},
     "output_type": "execute_result"
    }
   ],
   "source": [
    "covid_df = pd.merge(df_covid, df_economic, on = [\"countyFIPS\"],  how='left')\n",
    "covid_df"
   ],
   "metadata": {
    "collapsed": false,
    "pycharm": {
     "name": "#%%\n"
    }
   }
  },
  {
   "cell_type": "code",
   "execution_count": 152,
   "outputs": [
    {
     "data": {
      "text/plain": "     countyFIPS DP03_0001E DP03_0008E DP03_0018E DP03_0026E DP03_0032E  \\\n3215      72145      43815      17633      14194      14314      14314   \n3216      72147       7042       2922       2487       2487       2487   \n3217      72149      18663       8581       6357       6625       6625   \n3218      72151      28146      10853       7513       8044       8044   \n3219      72153      30226      11146       8706       8924       8924   \n\n     DP03_0046E DP03_0047E DP03_0048E DP03_0049E DP03_0050E  \n3215      14314      10818       2795        679         22  \n3216       2487       1026       1117        344          0  \n3217       6625       3935       1925        751         14  \n3218       8044       5310       2209        525          0  \n3219       8924       5860       2519        545          0  ",
      "text/html": "<div>\n<style scoped>\n    .dataframe tbody tr th:only-of-type {\n        vertical-align: middle;\n    }\n\n    .dataframe tbody tr th {\n        vertical-align: top;\n    }\n\n    .dataframe thead th {\n        text-align: right;\n    }\n</style>\n<table border=\"1\" class=\"dataframe\">\n  <thead>\n    <tr style=\"text-align: right;\">\n      <th></th>\n      <th>countyFIPS</th>\n      <th>DP03_0001E</th>\n      <th>DP03_0008E</th>\n      <th>DP03_0018E</th>\n      <th>DP03_0026E</th>\n      <th>DP03_0032E</th>\n      <th>DP03_0046E</th>\n      <th>DP03_0047E</th>\n      <th>DP03_0048E</th>\n      <th>DP03_0049E</th>\n      <th>DP03_0050E</th>\n    </tr>\n  </thead>\n  <tbody>\n    <tr>\n      <th>3215</th>\n      <td>72145</td>\n      <td>43815</td>\n      <td>17633</td>\n      <td>14194</td>\n      <td>14314</td>\n      <td>14314</td>\n      <td>14314</td>\n      <td>10818</td>\n      <td>2795</td>\n      <td>679</td>\n      <td>22</td>\n    </tr>\n    <tr>\n      <th>3216</th>\n      <td>72147</td>\n      <td>7042</td>\n      <td>2922</td>\n      <td>2487</td>\n      <td>2487</td>\n      <td>2487</td>\n      <td>2487</td>\n      <td>1026</td>\n      <td>1117</td>\n      <td>344</td>\n      <td>0</td>\n    </tr>\n    <tr>\n      <th>3217</th>\n      <td>72149</td>\n      <td>18663</td>\n      <td>8581</td>\n      <td>6357</td>\n      <td>6625</td>\n      <td>6625</td>\n      <td>6625</td>\n      <td>3935</td>\n      <td>1925</td>\n      <td>751</td>\n      <td>14</td>\n    </tr>\n    <tr>\n      <th>3218</th>\n      <td>72151</td>\n      <td>28146</td>\n      <td>10853</td>\n      <td>7513</td>\n      <td>8044</td>\n      <td>8044</td>\n      <td>8044</td>\n      <td>5310</td>\n      <td>2209</td>\n      <td>525</td>\n      <td>0</td>\n    </tr>\n    <tr>\n      <th>3219</th>\n      <td>72153</td>\n      <td>30226</td>\n      <td>11146</td>\n      <td>8706</td>\n      <td>8924</td>\n      <td>8924</td>\n      <td>8924</td>\n      <td>5860</td>\n      <td>2519</td>\n      <td>545</td>\n      <td>0</td>\n    </tr>\n  </tbody>\n</table>\n</div>"
     },
     "execution_count": 152,
     "metadata": {},
     "output_type": "execute_result"
    }
   ],
   "source": [
    "# indexes= df_covid[df_covid['countyFIPS'] == 0].index\n",
    "\n",
    "# df_covid.drop(indexes, inplace=True)\n",
    "# df_covid.to_csv(\"covid.csv\", index=False)\n",
    "del covid_df['Unnamed: 0']\n",
    "covid_df.to_csv(\"covid_and_economic.csv\", index=False)\n",
    "df_economic.tail()\n",
    "\n"
   ],
   "metadata": {
    "collapsed": false,
    "pycharm": {
     "name": "#%%\n"
    }
   }
  }
 ],
 "metadata": {
  "kernelspec": {
   "display_name": "Python 3",
   "language": "python",
   "name": "python3"
  },
  "language_info": {
   "codemirror_mode": {
    "name": "ipython",
    "version": 2
   },
   "file_extension": ".py",
   "mimetype": "text/x-python",
   "name": "python",
   "nbconvert_exporter": "python",
   "pygments_lexer": "ipython2",
   "version": "2.7.6"
  }
 },
 "nbformat": 4,
 "nbformat_minor": 0
}