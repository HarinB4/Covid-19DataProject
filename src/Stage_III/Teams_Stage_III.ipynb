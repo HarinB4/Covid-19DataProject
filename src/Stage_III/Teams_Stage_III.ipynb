{
 "cells": [
  {
   "cell_type": "markdown",
   "metadata": {},
   "source": [
    "# Project Stage - III (Basic Machine Learning)"
   ]
  },
  {
   "cell_type": "markdown",
   "metadata": {},
   "source": [
    "### Import essential libraries"
   ]
  },
  {
   "cell_type": "code",
   "execution_count": 2,
   "metadata": {},
   "outputs": [],
   "source": [
    "import os\n",
    "# Science libraries\n",
    "import pandas as pd\n",
    "import numpy as np\n",
    "import math\n",
    "# Ploting\n",
    "import matplotlib.pyplot as plt\n",
    "import plotly.express as px\n",
    "import plotly\n",
    "import plotly.graph_objs as go\n",
    "# Machine learning\n",
    "from sklearn.linear_model import LinearRegression"
   ]
  },
  {
   "cell_type": "code",
   "execution_count": 3,
   "metadata": {},
   "outputs": [],
   "source": [
    "# Create folder to hold the graphs\n",
    "if not os.path.exists(\"images\"):\n",
    "    os.mkdir(\"images\")"
   ]
  },
  {
   "cell_type": "markdown",
   "metadata": {},
   "source": [
    "### Read Datasets"
   ]
  },
  {
   "cell_type": "code",
   "execution_count": null,
   "metadata": {},
   "outputs": [],
   "source": [
    "#read super Covid-19 dataframe. \n",
    "USCovid = pd.read_csv(\"../../data/output/covid.csv\", )\n",
    "#read country cases dataset and choose countries with similar pop as US\n",
    "CountryNewCases = pd.read_csv(\"https://covid.ourworldindata.org/data/ecdc/new_cases.csv\")\n",
    "CountryNewDeaths = pd.read_csv(\"https://covid.ourworldindata.org/data/ecdc/new_deaths.csv\")\n",
    "CountryPop = pd.read_csv(\"https://covid.ourworldindata.org/data/ecdc/locations.csv\")\n",
    "\n",
    "CountryNewCases = CountryNewCases[[\"date\",\"Bangladesh\",\"Indonesia\",\"Pakistan\",\"Brazil\",\"Nigeria\"]]\n",
    "CountryNewDeaths = CountryNewDeaths[[\"date\",\"Bangladesh\",\"Indonesia\",\"Pakistan\",\"Brazil\",\"Nigeria\"]]\n",
    "PopArray = [\"Bangladesh\",\"Indonesia\",\"Pakistan\",\"Brazil\",\"Nigeria\"]\n",
    "CountryPop = CountryPop.loc[CountryPop[\"location\"].isin(PopArray)]\n",
    "\n",
    "MyFivePop = CountryPop.drop([\"countriesAndTerritories\",\"continent\",\"population_year\"],axis = 1) \n",
    "\n",
    "#drop unneccesary variables in Super covid-19 dataframe. \n",
    "USCovid = USCovid.drop([\"Unnamed: 0\",\"countyFIPS\",\"stateFIPS\"], axis=1)"
   ]
  },
  {
   "cell_type": "markdown",
   "metadata": {},
   "source": [
    "## Linear regression models for predicting cases and deaths in US."
   ]
  },
  {
   "cell_type": "code",
   "execution_count": null,
   "metadata": {},
   "outputs": [],
   "source": []
  },
  {
   "cell_type": "markdown",
   "metadata": {},
   "source": [
    "## Non-Linear regression models for predicting cases and deaths in US."
   ]
  },
  {
   "cell_type": "code",
   "execution_count": null,
   "metadata": {},
   "outputs": [],
   "source": []
  }
 ],
 "metadata": {
  "kernelspec": {
   "display_name": "Python 3",
   "language": "python",
   "name": "python3"
  },
  "language_info": {
   "codemirror_mode": {
    "name": "ipython",
    "version": 3
   },
   "file_extension": ".py",
   "mimetype": "text/x-python",
   "name": "python",
   "nbconvert_exporter": "python",
   "pygments_lexer": "ipython3",
   "version": "3.8.3"
  },
  "varInspector": {
   "cols": {
    "lenName": 16,
    "lenType": 16,
    "lenVar": 40
   },
   "kernels_config": {
    "python": {
     "delete_cmd_postfix": "",
     "delete_cmd_prefix": "del ",
     "library": "var_list.py",
     "varRefreshCmd": "print(var_dic_list())"
    },
    "r": {
     "delete_cmd_postfix": ") ",
     "delete_cmd_prefix": "rm(",
     "library": "var_list.r",
     "varRefreshCmd": "cat(var_dic_list()) "
    }
   },
   "types_to_exclude": [
    "module",
    "function",
    "builtin_function_or_method",
    "instance",
    "_Feature"
   ],
   "window_display": false
  }
 },
 "nbformat": 4,
 "nbformat_minor": 2
}
