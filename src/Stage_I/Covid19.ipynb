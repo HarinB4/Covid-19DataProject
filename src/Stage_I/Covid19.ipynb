{
 "cells": [
  {
   "cell_type": "code",
<<<<<<< HEAD
   "execution_count": 1,
=======
   "execution_count": 5,
>>>>>>> 416c0512bf0f97c23f91c95db2a781c33465e572
   "metadata": {},
   "outputs": [],
   "source": [
    "import pandas as pd"
   ]
  },
  {
   "cell_type": "code",
<<<<<<< HEAD
   "execution_count": 2,
=======
   "execution_count": null,
>>>>>>> 416c0512bf0f97c23f91c95db2a781c33465e572
   "metadata": {},
   "outputs": [],
   "source": [
    "#Read data from csv files\n",
    "\n",
    "covid_confirmed = pd.read_csv(\"https://usafactsstatic.blob.core.windows.net/public/data/covid-19/covid_confirmed_usafacts.csv\")\n",
    "covid_county_population = pd.read_csv(\"https://usafactsstatic.blob.core.windows.net/public/data/covid-19/covid_county_population_usafacts.csv\")\n",
    "covid_deaths = pd.read_csv(\"https://usafactsstatic.blob.core.windows.net/public/data/covid-19/covid_deaths_usafacts.csv\")"
   ]
  },
  {
   "cell_type": "code",
<<<<<<< HEAD
   "execution_count": 3,
=======
   "execution_count": null,
>>>>>>> 416c0512bf0f97c23f91c95db2a781c33465e572
   "metadata": {},
   "outputs": [],
   "source": [
    "#merge datasets covid_confirmed with covid_death based on countyFIPS\n",
    "covid_confirmed_death_df = pd.merge(covid_confirmed,covid_deaths, on = [\"countyFIPS\", \"stateFIPS\", \"State\"] )\n",
    "covid_confirmed_death_df = covid_confirmed_death_df.drop([\"County Name_x\"], axis=1)\n",
    "\n",
    "#save covid_confirmed_death_df as csv file\n",
    "covid_confirmed_death = covid_confirmed_death_df.to_csv(\"../../data/output/confirmed_and_death.csv\")\n"
   ]
  },
  {
   "cell_type": "code",
<<<<<<< HEAD
   "execution_count": 4,
=======
   "execution_count": null,
>>>>>>> 416c0512bf0f97c23f91c95db2a781c33465e572
   "metadata": {
    "pycharm": {
     "name": "#%%\n"
    }
   },
   "outputs": [],
   "source": [
    "#merge covid_confirmed_death with covid population \n",
    "\n",
    "covid_df = pd.merge(covid_county_population, covid_confirmed_death_df, on = [\"countyFIPS\",\"State\"])\n",
    "\n",
    "#save covid_df as csv file\n",
    "covid = covid_df.to_csv(\"../../data/output/covid.csv\")\n"
   ]
  },
  {
   "cell_type": "code",
   "execution_count": null,
   "metadata": {},
   "outputs": [],
   "source": []
  }
 ],
 "metadata": {
  "kernelspec": {
   "display_name": "Python 3",
   "language": "python",
   "name": "python3"
  },
  "language_info": {
   "codemirror_mode": {
    "name": "ipython",
    "version": 3
   },
   "file_extension": ".py",
   "mimetype": "text/x-python",
   "name": "python",
   "nbconvert_exporter": "python",
   "pygments_lexer": "ipython3",
   "version": "3.7.4"
  }
 },
 "nbformat": 4,
 "nbformat_minor": 2
}
