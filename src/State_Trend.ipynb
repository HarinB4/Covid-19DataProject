{
 "cells": [
  {
   "cell_type": "markdown",
   "metadata": {},
   "source": [
    "# Read Merged Covid-19 Dataset "
   ]
  },
  {
   "cell_type": "code",
   "execution_count": 3,
   "metadata": {},
   "outputs": [],
   "source": [
    "import pandas as pd\n",
    "import numpy as np\n",
    "\n",
    "\n",
    "Read = pd.read_csv(\"../data/output/covid.csv\", index_col=\"State\")"
   ]
  },
  {
   "cell_type": "code",
   "execution_count": 4,
   "metadata": {
    "scrolled": true
   },
   "outputs": [
    {
     "data": {
      "text/plain": "       9/8/20_x  9/9/20_x  9/10/20_x  9/11/20_x  9/12/20_x  9/13/20_x  \\\nState                                                                   \nAK       5833.0    5896.0     6020.0     6112.0     6216.0     6278.0   \nAL     133605.0  134416.0   135565.0   136703.0   137646.0   138755.0   \nAR      66019.0   66402.0    66804.0    67911.0    68309.0    70219.0   \nAZ     206044.0  206541.0   206993.0   207521.0   208126.0   208512.0   \nCA     743148.0  747809.0   750062.0   755495.0   758504.0   760490.0   \nCO      59671.0   59917.0    60183.0    60491.0    60904.0    61318.0   \nCT      53782.0   53871.0    54093.0    54326.0    54326.0    54326.0   \nDC      14362.0   14387.0    14412.0    14493.0    14552.0    14592.0   \nDE      18308.0   18308.0    18466.0    18559.0    18726.0    18849.0   \nFL     649979.0  652148.0   654731.0   658380.0   661569.0   663991.0   \nGA     285331.0  287275.0   289113.0   290775.0   292897.0   294311.0   \nHI      10025.0   10123.0    10292.0    10459.0    10588.0    10700.0   \nIA      70655.0   71134.0    71955.0    72753.0    72753.0    74357.0   \nID      33980.0   34310.0    34617.0    34951.0    35167.0    35279.0   \nIL     252347.0  253682.0   255636.0   257783.0   259900.0   261363.0   \nIN     103111.0  103835.0   104623.0   105892.0   106972.0   108212.0   \nKS      47616.0   48126.0    48170.0    49100.0    49141.0    49141.0   \nKY      53315.0   53972.0    54768.0    55701.0    56414.0    56943.0   \nLA     153424.0  154928.0   155392.0   156168.0   156168.0   157444.0   \nMA     130310.0  130492.0   130855.0   131257.0   131701.0   131968.0   \nMD     113239.0  113575.0   114078.0   114724.0   115533.0   116110.0   \nME       4737.0    4760.0     4790.0     4834.0     4863.0     4904.0   \nMI     118894.0  119851.0   120838.0   122246.0   123032.0   123032.0   \nMN      81585.0   81805.0    82240.0    82716.0    83588.0    84310.0   \nMO      95079.0   96435.0    97553.0    99118.0   101094.0   102700.0   \nMS      87372.0   87795.0    88313.0    89166.0    89613.0    89865.0   \nMT       8379.0    8467.0     8661.0     8785.0     8925.0     9021.0   \nNC     179789.0  180692.0   181917.0   183450.0   184903.0   186101.0   \nND      13852.0   14109.0    14443.0    14684.0    15150.0    15575.0   \nNE      36327.0   36768.0    37216.0    37695.0    37962.0    38042.0   \nNH       7493.0    7517.0     7573.0     7620.0     7652.0     7696.0   \nNJ     194661.0  194988.0   195414.0   195888.0   196334.0   196634.0   \nNM      26180.0   26267.0    26429.0    26563.0    26660.0    26761.0   \nNV      72052.0   72200.0    72485.0    72738.0    73144.0    73453.0   \nNY     440647.0  441223.0   441980.0   442860.0   443709.0   444434.0   \nOH     131990.0  132965.0   134087.0   135326.0   136568.0   137402.0   \nOK      65047.0   65926.0    66697.0    67637.0    68658.0    69349.0   \nOR      28354.0   28469.0    28653.0    28865.0    29147.0    29336.0   \nPA     140354.0  141287.0   141877.0   142885.0   143804.0   143879.0   \nRI      21197.0   21802.0    21802.0    21802.0    21802.0    21802.0   \nSC     125881.0  126176.0   126592.0   129045.0   129978.0   131864.0   \nSD      15398.0   15570.0    15834.0    16117.0    16437.0    16638.0   \nTN     165715.0  166587.0   168237.0   169856.0   170891.0   171824.0   \nTX     650146.0  654570.0   658588.0   662083.0   666524.0   670026.0   \nUT      55382.0   55689.0    56048.0    56657.0    57300.0    57920.0   \nVA     128400.0  129283.0   130519.0   131637.0   132939.0   133811.0   \nVT       1654.0    1654.0     1660.0     1668.0     1677.0     1684.0   \nWA      77541.0   78007.0    78464.0    79011.0    79476.0    79825.0   \nWI      82474.0   83333.0    84880.0    86250.0    87603.0    89184.0   \nWV      11654.0   11802.0    12002.0    12168.0    12518.0    12693.0   \nWY       4102.0    4151.0     4196.0     4260.0     4292.0     4341.0   \n\n       9/14/20_x  \nState             \nAK        6353.0  \nAL      139459.0  \nAR       70627.0  \nAZ      208725.0  \nCA      765475.0  \nCO       61699.0  \nCT       54895.0  \nDC       14622.0  \nDE       18937.0  \nFL      665730.0  \nGA      295337.0  \nHI       10779.0  \nIA       74767.0  \nID       35532.0  \nIL      262736.0  \nIN      108950.0  \nKS       50605.0  \nKY       57282.0  \nLA      157947.0  \nMA      132203.0  \nMD      116646.0  \nME        4919.0  \nMI      124287.0  \nMN       84949.0  \nMO      104041.0  \nMS       90018.0  \nMT        9107.0  \nNC      186946.0  \nND       15831.0  \nNE       38484.0  \nNH        7714.0  \nNJ      196968.0  \nNM       26842.0  \nNV       73732.0  \nNY      445017.0  \nOH      138485.0  \nOK       70223.0  \nOR       29484.0  \nPA      145063.0  \nRI       21802.0  \nSC      132680.0  \nSD       16801.0  \nTN      174274.0  \nTX      672641.0  \nUT       58451.0  \nVA      134571.0  \nVT        1696.0  \nWA       80138.0  \nWI       89956.0  \nWV       12820.0  \nWY        4392.0  ",
      "text/html": "<div>\n<style scoped>\n    .dataframe tbody tr th:only-of-type {\n        vertical-align: middle;\n    }\n\n    .dataframe tbody tr th {\n        vertical-align: top;\n    }\n\n    .dataframe thead th {\n        text-align: right;\n    }\n</style>\n<table border=\"1\" class=\"dataframe\">\n  <thead>\n    <tr style=\"text-align: right;\">\n      <th></th>\n      <th>9/8/20_x</th>\n      <th>9/9/20_x</th>\n      <th>9/10/20_x</th>\n      <th>9/11/20_x</th>\n      <th>9/12/20_x</th>\n      <th>9/13/20_x</th>\n      <th>9/14/20_x</th>\n    </tr>\n    <tr>\n      <th>State</th>\n      <th></th>\n      <th></th>\n      <th></th>\n      <th></th>\n      <th></th>\n      <th></th>\n      <th></th>\n    </tr>\n  </thead>\n  <tbody>\n    <tr>\n      <th>AK</th>\n      <td>5833.0</td>\n      <td>5896.0</td>\n      <td>6020.0</td>\n      <td>6112.0</td>\n      <td>6216.0</td>\n      <td>6278.0</td>\n      <td>6353.0</td>\n    </tr>\n    <tr>\n      <th>AL</th>\n      <td>133605.0</td>\n      <td>134416.0</td>\n      <td>135565.0</td>\n      <td>136703.0</td>\n      <td>137646.0</td>\n      <td>138755.0</td>\n      <td>139459.0</td>\n    </tr>\n    <tr>\n      <th>AR</th>\n      <td>66019.0</td>\n      <td>66402.0</td>\n      <td>66804.0</td>\n      <td>67911.0</td>\n      <td>68309.0</td>\n      <td>70219.0</td>\n      <td>70627.0</td>\n    </tr>\n    <tr>\n      <th>AZ</th>\n      <td>206044.0</td>\n      <td>206541.0</td>\n      <td>206993.0</td>\n      <td>207521.0</td>\n      <td>208126.0</td>\n      <td>208512.0</td>\n      <td>208725.0</td>\n    </tr>\n    <tr>\n      <th>CA</th>\n      <td>743148.0</td>\n      <td>747809.0</td>\n      <td>750062.0</td>\n      <td>755495.0</td>\n      <td>758504.0</td>\n      <td>760490.0</td>\n      <td>765475.0</td>\n    </tr>\n    <tr>\n      <th>CO</th>\n      <td>59671.0</td>\n      <td>59917.0</td>\n      <td>60183.0</td>\n      <td>60491.0</td>\n      <td>60904.0</td>\n      <td>61318.0</td>\n      <td>61699.0</td>\n    </tr>\n    <tr>\n      <th>CT</th>\n      <td>53782.0</td>\n      <td>53871.0</td>\n      <td>54093.0</td>\n      <td>54326.0</td>\n      <td>54326.0</td>\n      <td>54326.0</td>\n      <td>54895.0</td>\n    </tr>\n    <tr>\n      <th>DC</th>\n      <td>14362.0</td>\n      <td>14387.0</td>\n      <td>14412.0</td>\n      <td>14493.0</td>\n      <td>14552.0</td>\n      <td>14592.0</td>\n      <td>14622.0</td>\n    </tr>\n    <tr>\n      <th>DE</th>\n      <td>18308.0</td>\n      <td>18308.0</td>\n      <td>18466.0</td>\n      <td>18559.0</td>\n      <td>18726.0</td>\n      <td>18849.0</td>\n      <td>18937.0</td>\n    </tr>\n    <tr>\n      <th>FL</th>\n      <td>649979.0</td>\n      <td>652148.0</td>\n      <td>654731.0</td>\n      <td>658380.0</td>\n      <td>661569.0</td>\n      <td>663991.0</td>\n      <td>665730.0</td>\n    </tr>\n    <tr>\n      <th>GA</th>\n      <td>285331.0</td>\n      <td>287275.0</td>\n      <td>289113.0</td>\n      <td>290775.0</td>\n      <td>292897.0</td>\n      <td>294311.0</td>\n      <td>295337.0</td>\n    </tr>\n    <tr>\n      <th>HI</th>\n      <td>10025.0</td>\n      <td>10123.0</td>\n      <td>10292.0</td>\n      <td>10459.0</td>\n      <td>10588.0</td>\n      <td>10700.0</td>\n      <td>10779.0</td>\n    </tr>\n    <tr>\n      <th>IA</th>\n      <td>70655.0</td>\n      <td>71134.0</td>\n      <td>71955.0</td>\n      <td>72753.0</td>\n      <td>72753.0</td>\n      <td>74357.0</td>\n      <td>74767.0</td>\n    </tr>\n    <tr>\n      <th>ID</th>\n      <td>33980.0</td>\n      <td>34310.0</td>\n      <td>34617.0</td>\n      <td>34951.0</td>\n      <td>35167.0</td>\n      <td>35279.0</td>\n      <td>35532.0</td>\n    </tr>\n    <tr>\n      <th>IL</th>\n      <td>252347.0</td>\n      <td>253682.0</td>\n      <td>255636.0</td>\n      <td>257783.0</td>\n      <td>259900.0</td>\n      <td>261363.0</td>\n      <td>262736.0</td>\n    </tr>\n    <tr>\n      <th>IN</th>\n      <td>103111.0</td>\n      <td>103835.0</td>\n      <td>104623.0</td>\n      <td>105892.0</td>\n      <td>106972.0</td>\n      <td>108212.0</td>\n      <td>108950.0</td>\n    </tr>\n    <tr>\n      <th>KS</th>\n      <td>47616.0</td>\n      <td>48126.0</td>\n      <td>48170.0</td>\n      <td>49100.0</td>\n      <td>49141.0</td>\n      <td>49141.0</td>\n      <td>50605.0</td>\n    </tr>\n    <tr>\n      <th>KY</th>\n      <td>53315.0</td>\n      <td>53972.0</td>\n      <td>54768.0</td>\n      <td>55701.0</td>\n      <td>56414.0</td>\n      <td>56943.0</td>\n      <td>57282.0</td>\n    </tr>\n    <tr>\n      <th>LA</th>\n      <td>153424.0</td>\n      <td>154928.0</td>\n      <td>155392.0</td>\n      <td>156168.0</td>\n      <td>156168.0</td>\n      <td>157444.0</td>\n      <td>157947.0</td>\n    </tr>\n    <tr>\n      <th>MA</th>\n      <td>130310.0</td>\n      <td>130492.0</td>\n      <td>130855.0</td>\n      <td>131257.0</td>\n      <td>131701.0</td>\n      <td>131968.0</td>\n      <td>132203.0</td>\n    </tr>\n    <tr>\n      <th>MD</th>\n      <td>113239.0</td>\n      <td>113575.0</td>\n      <td>114078.0</td>\n      <td>114724.0</td>\n      <td>115533.0</td>\n      <td>116110.0</td>\n      <td>116646.0</td>\n    </tr>\n    <tr>\n      <th>ME</th>\n      <td>4737.0</td>\n      <td>4760.0</td>\n      <td>4790.0</td>\n      <td>4834.0</td>\n      <td>4863.0</td>\n      <td>4904.0</td>\n      <td>4919.0</td>\n    </tr>\n    <tr>\n      <th>MI</th>\n      <td>118894.0</td>\n      <td>119851.0</td>\n      <td>120838.0</td>\n      <td>122246.0</td>\n      <td>123032.0</td>\n      <td>123032.0</td>\n      <td>124287.0</td>\n    </tr>\n    <tr>\n      <th>MN</th>\n      <td>81585.0</td>\n      <td>81805.0</td>\n      <td>82240.0</td>\n      <td>82716.0</td>\n      <td>83588.0</td>\n      <td>84310.0</td>\n      <td>84949.0</td>\n    </tr>\n    <tr>\n      <th>MO</th>\n      <td>95079.0</td>\n      <td>96435.0</td>\n      <td>97553.0</td>\n      <td>99118.0</td>\n      <td>101094.0</td>\n      <td>102700.0</td>\n      <td>104041.0</td>\n    </tr>\n    <tr>\n      <th>MS</th>\n      <td>87372.0</td>\n      <td>87795.0</td>\n      <td>88313.0</td>\n      <td>89166.0</td>\n      <td>89613.0</td>\n      <td>89865.0</td>\n      <td>90018.0</td>\n    </tr>\n    <tr>\n      <th>MT</th>\n      <td>8379.0</td>\n      <td>8467.0</td>\n      <td>8661.0</td>\n      <td>8785.0</td>\n      <td>8925.0</td>\n      <td>9021.0</td>\n      <td>9107.0</td>\n    </tr>\n    <tr>\n      <th>NC</th>\n      <td>179789.0</td>\n      <td>180692.0</td>\n      <td>181917.0</td>\n      <td>183450.0</td>\n      <td>184903.0</td>\n      <td>186101.0</td>\n      <td>186946.0</td>\n    </tr>\n    <tr>\n      <th>ND</th>\n      <td>13852.0</td>\n      <td>14109.0</td>\n      <td>14443.0</td>\n      <td>14684.0</td>\n      <td>15150.0</td>\n      <td>15575.0</td>\n      <td>15831.0</td>\n    </tr>\n    <tr>\n      <th>NE</th>\n      <td>36327.0</td>\n      <td>36768.0</td>\n      <td>37216.0</td>\n      <td>37695.0</td>\n      <td>37962.0</td>\n      <td>38042.0</td>\n      <td>38484.0</td>\n    </tr>\n    <tr>\n      <th>NH</th>\n      <td>7493.0</td>\n      <td>7517.0</td>\n      <td>7573.0</td>\n      <td>7620.0</td>\n      <td>7652.0</td>\n      <td>7696.0</td>\n      <td>7714.0</td>\n    </tr>\n    <tr>\n      <th>NJ</th>\n      <td>194661.0</td>\n      <td>194988.0</td>\n      <td>195414.0</td>\n      <td>195888.0</td>\n      <td>196334.0</td>\n      <td>196634.0</td>\n      <td>196968.0</td>\n    </tr>\n    <tr>\n      <th>NM</th>\n      <td>26180.0</td>\n      <td>26267.0</td>\n      <td>26429.0</td>\n      <td>26563.0</td>\n      <td>26660.0</td>\n      <td>26761.0</td>\n      <td>26842.0</td>\n    </tr>\n    <tr>\n      <th>NV</th>\n      <td>72052.0</td>\n      <td>72200.0</td>\n      <td>72485.0</td>\n      <td>72738.0</td>\n      <td>73144.0</td>\n      <td>73453.0</td>\n      <td>73732.0</td>\n    </tr>\n    <tr>\n      <th>NY</th>\n      <td>440647.0</td>\n      <td>441223.0</td>\n      <td>441980.0</td>\n      <td>442860.0</td>\n      <td>443709.0</td>\n      <td>444434.0</td>\n      <td>445017.0</td>\n    </tr>\n    <tr>\n      <th>OH</th>\n      <td>131990.0</td>\n      <td>132965.0</td>\n      <td>134087.0</td>\n      <td>135326.0</td>\n      <td>136568.0</td>\n      <td>137402.0</td>\n      <td>138485.0</td>\n    </tr>\n    <tr>\n      <th>OK</th>\n      <td>65047.0</td>\n      <td>65926.0</td>\n      <td>66697.0</td>\n      <td>67637.0</td>\n      <td>68658.0</td>\n      <td>69349.0</td>\n      <td>70223.0</td>\n    </tr>\n    <tr>\n      <th>OR</th>\n      <td>28354.0</td>\n      <td>28469.0</td>\n      <td>28653.0</td>\n      <td>28865.0</td>\n      <td>29147.0</td>\n      <td>29336.0</td>\n      <td>29484.0</td>\n    </tr>\n    <tr>\n      <th>PA</th>\n      <td>140354.0</td>\n      <td>141287.0</td>\n      <td>141877.0</td>\n      <td>142885.0</td>\n      <td>143804.0</td>\n      <td>143879.0</td>\n      <td>145063.0</td>\n    </tr>\n    <tr>\n      <th>RI</th>\n      <td>21197.0</td>\n      <td>21802.0</td>\n      <td>21802.0</td>\n      <td>21802.0</td>\n      <td>21802.0</td>\n      <td>21802.0</td>\n      <td>21802.0</td>\n    </tr>\n    <tr>\n      <th>SC</th>\n      <td>125881.0</td>\n      <td>126176.0</td>\n      <td>126592.0</td>\n      <td>129045.0</td>\n      <td>129978.0</td>\n      <td>131864.0</td>\n      <td>132680.0</td>\n    </tr>\n    <tr>\n      <th>SD</th>\n      <td>15398.0</td>\n      <td>15570.0</td>\n      <td>15834.0</td>\n      <td>16117.0</td>\n      <td>16437.0</td>\n      <td>16638.0</td>\n      <td>16801.0</td>\n    </tr>\n    <tr>\n      <th>TN</th>\n      <td>165715.0</td>\n      <td>166587.0</td>\n      <td>168237.0</td>\n      <td>169856.0</td>\n      <td>170891.0</td>\n      <td>171824.0</td>\n      <td>174274.0</td>\n    </tr>\n    <tr>\n      <th>TX</th>\n      <td>650146.0</td>\n      <td>654570.0</td>\n      <td>658588.0</td>\n      <td>662083.0</td>\n      <td>666524.0</td>\n      <td>670026.0</td>\n      <td>672641.0</td>\n    </tr>\n    <tr>\n      <th>UT</th>\n      <td>55382.0</td>\n      <td>55689.0</td>\n      <td>56048.0</td>\n      <td>56657.0</td>\n      <td>57300.0</td>\n      <td>57920.0</td>\n      <td>58451.0</td>\n    </tr>\n    <tr>\n      <th>VA</th>\n      <td>128400.0</td>\n      <td>129283.0</td>\n      <td>130519.0</td>\n      <td>131637.0</td>\n      <td>132939.0</td>\n      <td>133811.0</td>\n      <td>134571.0</td>\n    </tr>\n    <tr>\n      <th>VT</th>\n      <td>1654.0</td>\n      <td>1654.0</td>\n      <td>1660.0</td>\n      <td>1668.0</td>\n      <td>1677.0</td>\n      <td>1684.0</td>\n      <td>1696.0</td>\n    </tr>\n    <tr>\n      <th>WA</th>\n      <td>77541.0</td>\n      <td>78007.0</td>\n      <td>78464.0</td>\n      <td>79011.0</td>\n      <td>79476.0</td>\n      <td>79825.0</td>\n      <td>80138.0</td>\n    </tr>\n    <tr>\n      <th>WI</th>\n      <td>82474.0</td>\n      <td>83333.0</td>\n      <td>84880.0</td>\n      <td>86250.0</td>\n      <td>87603.0</td>\n      <td>89184.0</td>\n      <td>89956.0</td>\n    </tr>\n    <tr>\n      <th>WV</th>\n      <td>11654.0</td>\n      <td>11802.0</td>\n      <td>12002.0</td>\n      <td>12168.0</td>\n      <td>12518.0</td>\n      <td>12693.0</td>\n      <td>12820.0</td>\n    </tr>\n    <tr>\n      <th>WY</th>\n      <td>4102.0</td>\n      <td>4151.0</td>\n      <td>4196.0</td>\n      <td>4260.0</td>\n      <td>4292.0</td>\n      <td>4341.0</td>\n      <td>4392.0</td>\n    </tr>\n  </tbody>\n</table>\n</div>"
     },
     "execution_count": 4,
     "metadata": {},
     "output_type": "execute_result"
    }
   ],
   "source": [
    "States = Read.groupby(['State']).sum()\n",
    "\n",
    "States.to_csv('../data/output/ali/states.csv')\n",
    "\n",
    "\n",
    "Trend = States[['9/8/20_x','9/9/20_x','9/10/20_x','9/11/20_x','9/12/20_x','9/13/20_x','9/14/20_x']]\n",
    "\n",
    "Trend\n"
   ]
  },
  {
   "cell_type": "code",
   "execution_count": 5,
   "metadata": {},
   "outputs": [
    {
     "data": {
      "text/plain": "       9/8/20_x  9/9/20_x  9/10/20_x  9/11/20_x  9/12/20_x  9/13/20_x  \\\nState                                                                   \nAK       5833.0    5896.0     6020.0     6112.0     6216.0     6278.0   \nAL     133605.0  134416.0   135565.0   136703.0   137646.0   138755.0   \nAR      66019.0   66402.0    66804.0    67911.0    68309.0    70219.0   \nAZ     206044.0  206541.0   206993.0   207521.0   208126.0   208512.0   \nCA     743148.0  747809.0   750062.0   755495.0   758504.0   760490.0   \nCO      59671.0   59917.0    60183.0    60491.0    60904.0    61318.0   \nCT      53782.0   53871.0    54093.0    54326.0    54326.0    54326.0   \nDC      14362.0   14387.0    14412.0    14493.0    14552.0    14592.0   \nDE      18308.0   18308.0    18466.0    18559.0    18726.0    18849.0   \nFL     649979.0  652148.0   654731.0   658380.0   661569.0   663991.0   \n\n       9/14/20_x  \nState             \nAK        6353.0  \nAL      139459.0  \nAR       70627.0  \nAZ      208725.0  \nCA      765475.0  \nCO       61699.0  \nCT       54895.0  \nDC       14622.0  \nDE       18937.0  \nFL      665730.0  ",
      "text/html": "<div>\n<style scoped>\n    .dataframe tbody tr th:only-of-type {\n        vertical-align: middle;\n    }\n\n    .dataframe tbody tr th {\n        vertical-align: top;\n    }\n\n    .dataframe thead th {\n        text-align: right;\n    }\n</style>\n<table border=\"1\" class=\"dataframe\">\n  <thead>\n    <tr style=\"text-align: right;\">\n      <th></th>\n      <th>9/8/20_x</th>\n      <th>9/9/20_x</th>\n      <th>9/10/20_x</th>\n      <th>9/11/20_x</th>\n      <th>9/12/20_x</th>\n      <th>9/13/20_x</th>\n      <th>9/14/20_x</th>\n    </tr>\n    <tr>\n      <th>State</th>\n      <th></th>\n      <th></th>\n      <th></th>\n      <th></th>\n      <th></th>\n      <th></th>\n      <th></th>\n    </tr>\n  </thead>\n  <tbody>\n    <tr>\n      <th>AK</th>\n      <td>5833.0</td>\n      <td>5896.0</td>\n      <td>6020.0</td>\n      <td>6112.0</td>\n      <td>6216.0</td>\n      <td>6278.0</td>\n      <td>6353.0</td>\n    </tr>\n    <tr>\n      <th>AL</th>\n      <td>133605.0</td>\n      <td>134416.0</td>\n      <td>135565.0</td>\n      <td>136703.0</td>\n      <td>137646.0</td>\n      <td>138755.0</td>\n      <td>139459.0</td>\n    </tr>\n    <tr>\n      <th>AR</th>\n      <td>66019.0</td>\n      <td>66402.0</td>\n      <td>66804.0</td>\n      <td>67911.0</td>\n      <td>68309.0</td>\n      <td>70219.0</td>\n      <td>70627.0</td>\n    </tr>\n    <tr>\n      <th>AZ</th>\n      <td>206044.0</td>\n      <td>206541.0</td>\n      <td>206993.0</td>\n      <td>207521.0</td>\n      <td>208126.0</td>\n      <td>208512.0</td>\n      <td>208725.0</td>\n    </tr>\n    <tr>\n      <th>CA</th>\n      <td>743148.0</td>\n      <td>747809.0</td>\n      <td>750062.0</td>\n      <td>755495.0</td>\n      <td>758504.0</td>\n      <td>760490.0</td>\n      <td>765475.0</td>\n    </tr>\n    <tr>\n      <th>CO</th>\n      <td>59671.0</td>\n      <td>59917.0</td>\n      <td>60183.0</td>\n      <td>60491.0</td>\n      <td>60904.0</td>\n      <td>61318.0</td>\n      <td>61699.0</td>\n    </tr>\n    <tr>\n      <th>CT</th>\n      <td>53782.0</td>\n      <td>53871.0</td>\n      <td>54093.0</td>\n      <td>54326.0</td>\n      <td>54326.0</td>\n      <td>54326.0</td>\n      <td>54895.0</td>\n    </tr>\n    <tr>\n      <th>DC</th>\n      <td>14362.0</td>\n      <td>14387.0</td>\n      <td>14412.0</td>\n      <td>14493.0</td>\n      <td>14552.0</td>\n      <td>14592.0</td>\n      <td>14622.0</td>\n    </tr>\n    <tr>\n      <th>DE</th>\n      <td>18308.0</td>\n      <td>18308.0</td>\n      <td>18466.0</td>\n      <td>18559.0</td>\n      <td>18726.0</td>\n      <td>18849.0</td>\n      <td>18937.0</td>\n    </tr>\n    <tr>\n      <th>FL</th>\n      <td>649979.0</td>\n      <td>652148.0</td>\n      <td>654731.0</td>\n      <td>658380.0</td>\n      <td>661569.0</td>\n      <td>663991.0</td>\n      <td>665730.0</td>\n    </tr>\n  </tbody>\n</table>\n</div>"
     },
     "execution_count": 5,
     "metadata": {},
     "output_type": "execute_result"
    }
   ],
   "source": [
    "Trend[:10:]"
   ]
  },
  {
   "cell_type": "markdown",
   "metadata": {},
   "source": [
    " # Arkansas cases are increasing"
   ]
  },
  {
   "cell_type": "code",
   "execution_count": 6,
   "metadata": {},
   "outputs": [
    {
     "data": {
      "text/plain": "State\nAL         1.0\nAL    101649.0\nAL    266494.0\nAL     56844.0\nAL     36962.0\n        ...   \nVA      2987.0\nVA      2887.0\nVA      4737.0\nVA      5704.0\nVA      5494.0\nLength: 3212, dtype: float64"
     },
     "execution_count": 6,
     "metadata": {},
     "output_type": "execute_result"
    }
   ],
   "source": [
    "Deaths = Read['death Total'] = Read.iloc[:,4:].sum(axis=1)\n",
    "\n",
    "Deaths"
   ]
  },
  {
   "cell_type": "code",
   "execution_count": 6,
   "metadata": {},
   "outputs": [],
   "source": []
  }
 ],
 "metadata": {
  "kernelspec": {
   "display_name": "Python 3",
   "language": "python",
   "name": "python3"
  },
  "language_info": {
   "codemirror_mode": {
    "name": "ipython",
    "version": 3
   },
   "file_extension": ".py",
   "mimetype": "text/x-python",
   "name": "python",
   "nbconvert_exporter": "python",
   "pygments_lexer": "ipython3",
   "version": "3.7.4"
  }
 },
 "nbformat": 4,
 "nbformat_minor": 2
}