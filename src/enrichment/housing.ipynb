{
 "cells": [
  {
   "cell_type": "code",
   "execution_count": 8,
   "metadata": {
    "collapsed": true
   },
   "outputs": [],
   "source": [
    "import pandas as pd"
   ]
  },
  {
   "cell_type": "code",
   "execution_count": 9,
   "outputs": [
    {
     "name": "stderr",
     "output_type": "stream",
     "text": [
      "c:\\users\\codingtheories\\pycharmprojects\\covid-team-5\\venv\\lib\\site-packages\\IPython\\core\\interactiveshell.py:3145: DtypeWarning: Columns (2,3,4,6,7,8,9,10,11,12,13,14,15,18,19,22,23,24,26,27,28,29,30,31,32,33,34,35,36,37,38,39,40,41,42,43,44,45,46,47,48,49,50,51,52,53,54,55,56,57,58,59,60,61,62,63,64,66,67,68,69,70,71,72,73,74,75,76,77,78,79,80,81,82,83,84,85,86,87,88,89,90,91,92,93,94,95,96,97,98,99,100,101,102,103,104,105,106,107,108,110,111,112,113,114,115,116,117,118,119,120,121,122,123,124,125,126,127,128,129,130,131,132,133,134,135,136,137,138,139,140,141,142,143,144,145,146,147,150,151,152,154,155,156,157,158,159,160,161,162,163,164,165,166,167,168,169,170,171,172,173,174,175,176,177,178,179,180,182,183,184,185,186,187,188,189,190,191,194,195,198,199,200,202,203,204,205,206,207,208,209,210,211,212,213,214,215,216,217,218,219,220,221,222,223,224,225,226,227,228,230,231,232,233,234,235,236,237,238,239,240,241,242,243,244,245,246,247,248,250,251,252,253,254,255,256,257,258,259,260,261,262,263,264,265,266,267,268,269,270,271,272,273,274,275,276,277,278,279,280,281,282,283,284,285,286,287,288,290,291,292,293,294,295,296,297,298,299,300,301,302,303,304,306,307,308,309,310,311,312,313,314,315,316,317,318,319,320,322,323,324,325,326,327,328,329,330,331,332,333,334,335,336,337,338,339,340,341,342,343,344,345,346,347,348,349,350,351,352,353,354,355,358,359,360,362,363,364,365,366,367,368,369,370,371,372,374,375,376,377,378,379,380,381,382,383,384,385,386,387,388,389,390,391,392,393,394,395,396,397,398,399,400,401,402,403,406,407,408,410,411,412,413,414,415,416,417,418,419,420,421,422,423,424,425,426,427,428,429,430,431,432,433,434,435,438,439,440,442,443,444,445,446,447,448,449,450,451,452,453,454,455,456,457,458,459,460,461,462,463,466,467,468,470,471,472,473,474,475,476,477,478,479,480,481,482,483,484,485,486,487,488,489,490,491,492,493,494,495,496,497,498,499,502,503,504,506,507,508,509,510,511,512,513,514,515,516,517,518,519,520,521,522,523,524,525,526,527,528,529,530,531,532,533,534,535,538,539,542,543,544,546,547,548,549,550,551,552,553,554,555,556,557,558,559,560,561,562,563,564,565,566,567,568,569,570,571) have mixed types.Specify dtype option on import or set low_memory=False.\n",
      "  has_raised = await self.run_ast_nodes(code_ast.body, cell_name,\n"
     ]
    }
   ],
   "source": [
    "path = '../data/ESH/Housing.csv'\n",
    "data_frame_housing = pd.read_csv(path)\n"
   ],
   "metadata": {
    "collapsed": false,
    "pycharm": {
     "name": "#%%\n"
    }
   }
  },
  {
   "cell_type": "code",
   "execution_count": 10,
   "outputs": [],
   "source": [
    "def find_fips(data_frame: pd.DataFrame, column_name:str = \"GEO_ID\", split_at:str = 'US') -> pd.DataFrame:\n",
    "    for i in range(data_frame.shape[0]):\n",
    "        val = data_frame[column_name].values[i]\n",
    "        try:\n",
    "            _, fips = val.split(split_at)\n",
    "            data_frame.at[i, column_name] = fips\n",
    "        except:\n",
    "            pass\n",
    "    return data_frame"
   ],
   "metadata": {
    "collapsed": false,
    "pycharm": {
     "name": "#%%\n"
    }
   }
  },
  {
   "cell_type": "code",
   "execution_count": 10,
   "outputs": [],
   "source": [],
   "metadata": {
    "collapsed": false,
    "pycharm": {
     "name": "#%%\n"
    }
   }
  },
  {
   "cell_type": "code",
   "execution_count": 11,
   "outputs": [],
   "source": [
    "data_frame_housing = pd.read_csv(path)\n",
    "\n",
    "find_fips(data_frame_housing).to_csv(\"../data/output/test2.csv\")"
   ],
   "metadata": {
    "collapsed": false,
    "pycharm": {
     "name": "#%%\n"
    }
   }
  },
  {
   "cell_type": "code",
   "execution_count": 12,
   "outputs": [
    {
     "data": {
      "text/plain": "     GEO_ID                              NAME DP04_0001E DP04_0001M  \\\n3216  72145  Vega Baja Municipio, Puerto Rico      24596        283   \n3217  72147    Vieques Municipio, Puerto Rico       4934        186   \n3218  72149   Villalba Municipio, Puerto Rico       9089        211   \n3219  72151    Yabucoa Municipio, Puerto Rico      14736        264   \n3220  72153      Yauco Municipio, Puerto Rico      17427        211   \n\n     DP04_0001PE DP04_0001PM DP04_0002E DP04_0002M DP04_0002PE DP04_0002PM  \\\n3216       24596         (X)      18081        547        73.5         1.9   \n3217        4934         (X)       2470        266        50.1         4.9   \n3218        9089         (X)       7712        261        84.8         2.1   \n3219       14736         (X)      11722        400        79.5         2.4   \n3220       17427         (X)      10790        366        61.9         1.8   \n\n      ... DP04_0141PE DP04_0141PM DP04_0142E DP04_0142M DP04_0142PE  \\\n3216  ...         6.4         3.7        755        258        41.3   \n3217  ...         3.1         4.7        172        110        44.8   \n3218  ...        11.3         7.2        275         97        26.6   \n3219  ...         7.3         4.1        689        176        55.7   \n3220  ...         3.8         4.5        364        114        44.6   \n\n     DP04_0142PM DP04_0143E DP04_0143M DP04_0143PE DP04_0143PM  \n3216        10.5       1855        291         (X)         (X)  \n3217        19.4        294        156         (X)         (X)  \n3218         8.8       1203        189         (X)         (X)  \n3219        10.1       1995        295         (X)         (X)  \n3220        11.1       1830        275         (X)         (X)  \n\n[5 rows x 574 columns]",
      "text/html": "<div>\n<style scoped>\n    .dataframe tbody tr th:only-of-type {\n        vertical-align: middle;\n    }\n\n    .dataframe tbody tr th {\n        vertical-align: top;\n    }\n\n    .dataframe thead th {\n        text-align: right;\n    }\n</style>\n<table border=\"1\" class=\"dataframe\">\n  <thead>\n    <tr style=\"text-align: right;\">\n      <th></th>\n      <th>GEO_ID</th>\n      <th>NAME</th>\n      <th>DP04_0001E</th>\n      <th>DP04_0001M</th>\n      <th>DP04_0001PE</th>\n      <th>DP04_0001PM</th>\n      <th>DP04_0002E</th>\n      <th>DP04_0002M</th>\n      <th>DP04_0002PE</th>\n      <th>DP04_0002PM</th>\n      <th>...</th>\n      <th>DP04_0141PE</th>\n      <th>DP04_0141PM</th>\n      <th>DP04_0142E</th>\n      <th>DP04_0142M</th>\n      <th>DP04_0142PE</th>\n      <th>DP04_0142PM</th>\n      <th>DP04_0143E</th>\n      <th>DP04_0143M</th>\n      <th>DP04_0143PE</th>\n      <th>DP04_0143PM</th>\n    </tr>\n  </thead>\n  <tbody>\n    <tr>\n      <th>3216</th>\n      <td>72145</td>\n      <td>Vega Baja Municipio, Puerto Rico</td>\n      <td>24596</td>\n      <td>283</td>\n      <td>24596</td>\n      <td>(X)</td>\n      <td>18081</td>\n      <td>547</td>\n      <td>73.5</td>\n      <td>1.9</td>\n      <td>...</td>\n      <td>6.4</td>\n      <td>3.7</td>\n      <td>755</td>\n      <td>258</td>\n      <td>41.3</td>\n      <td>10.5</td>\n      <td>1855</td>\n      <td>291</td>\n      <td>(X)</td>\n      <td>(X)</td>\n    </tr>\n    <tr>\n      <th>3217</th>\n      <td>72147</td>\n      <td>Vieques Municipio, Puerto Rico</td>\n      <td>4934</td>\n      <td>186</td>\n      <td>4934</td>\n      <td>(X)</td>\n      <td>2470</td>\n      <td>266</td>\n      <td>50.1</td>\n      <td>4.9</td>\n      <td>...</td>\n      <td>3.1</td>\n      <td>4.7</td>\n      <td>172</td>\n      <td>110</td>\n      <td>44.8</td>\n      <td>19.4</td>\n      <td>294</td>\n      <td>156</td>\n      <td>(X)</td>\n      <td>(X)</td>\n    </tr>\n    <tr>\n      <th>3218</th>\n      <td>72149</td>\n      <td>Villalba Municipio, Puerto Rico</td>\n      <td>9089</td>\n      <td>211</td>\n      <td>9089</td>\n      <td>(X)</td>\n      <td>7712</td>\n      <td>261</td>\n      <td>84.8</td>\n      <td>2.1</td>\n      <td>...</td>\n      <td>11.3</td>\n      <td>7.2</td>\n      <td>275</td>\n      <td>97</td>\n      <td>26.6</td>\n      <td>8.8</td>\n      <td>1203</td>\n      <td>189</td>\n      <td>(X)</td>\n      <td>(X)</td>\n    </tr>\n    <tr>\n      <th>3219</th>\n      <td>72151</td>\n      <td>Yabucoa Municipio, Puerto Rico</td>\n      <td>14736</td>\n      <td>264</td>\n      <td>14736</td>\n      <td>(X)</td>\n      <td>11722</td>\n      <td>400</td>\n      <td>79.5</td>\n      <td>2.4</td>\n      <td>...</td>\n      <td>7.3</td>\n      <td>4.1</td>\n      <td>689</td>\n      <td>176</td>\n      <td>55.7</td>\n      <td>10.1</td>\n      <td>1995</td>\n      <td>295</td>\n      <td>(X)</td>\n      <td>(X)</td>\n    </tr>\n    <tr>\n      <th>3220</th>\n      <td>72153</td>\n      <td>Yauco Municipio, Puerto Rico</td>\n      <td>17427</td>\n      <td>211</td>\n      <td>17427</td>\n      <td>(X)</td>\n      <td>10790</td>\n      <td>366</td>\n      <td>61.9</td>\n      <td>1.8</td>\n      <td>...</td>\n      <td>3.8</td>\n      <td>4.5</td>\n      <td>364</td>\n      <td>114</td>\n      <td>44.6</td>\n      <td>11.1</td>\n      <td>1830</td>\n      <td>275</td>\n      <td>(X)</td>\n      <td>(X)</td>\n    </tr>\n  </tbody>\n</table>\n<p>5 rows × 574 columns</p>\n</div>"
     },
     "execution_count": 12,
     "metadata": {},
     "output_type": "execute_result"
    }
   ],
   "source": [
    "data_frame_housing.tail()\n",
    "\n"
   ],
   "metadata": {
    "collapsed": false,
    "pycharm": {
     "name": "#%%\n"
    }
   }
  }
 ],
 "metadata": {
  "kernelspec": {
   "display_name": "Python 3",
   "language": "python",
   "name": "python3"
  },
  "language_info": {
   "codemirror_mode": {
    "name": "ipython",
    "version": 2
   },
   "file_extension": ".py",
   "mimetype": "text/x-python",
   "name": "python",
   "nbconvert_exporter": "python",
   "pygments_lexer": "ipython2",
   "version": "2.7.6"
  }
 },
 "nbformat": 4,
 "nbformat_minor": 0
}