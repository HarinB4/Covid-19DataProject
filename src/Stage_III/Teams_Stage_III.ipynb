{
 "cells": [
  {
   "cell_type": "markdown",
   "metadata": {},
   "source": [
    "# Project Stage - III (Basic Machine Learning)"
   ]
  },
  {
   "cell_type": "markdown",
   "metadata": {},
   "source": [
    "### Import essential libraries"
   ]
  },
  {
   "cell_type": "code",
   "execution_count": 71,
   "metadata": {},
   "outputs": [],
   "source": [
    "import os\n",
    "# Science libraries\n",
    "import pandas as pd\n",
    "import numpy as np\n",
    "# Ploting\n",
    "import matplotlib.pyplot as plt\n",
    "import plotly.express as px\n",
    "import plotly\n",
    "import plotly.graph_objs as go\n",
    "# Machine learning\n",
    "from sklearn.linear_model import LinearRegression"
   ]
  },
  {
   "cell_type": "code",
   "execution_count": 51,
   "metadata": {},
   "outputs": [],
   "source": [
    "# Create folder to hold the graphs\n",
    "if not os.path.exists(\"images\"):\n",
    "    os.mkdir(\"images\")"
   ]
  },
  {
   "cell_type": "markdown",
   "metadata": {},
   "source": [
    "### Read and Filtter Dataset"
   ]
  },
  {
   "cell_type": "markdown",
   "metadata": {},
   "source": [
    "#### Read dataset"
   ]
  },
  {
   "cell_type": "code",
   "execution_count": 52,
   "metadata": {},
   "outputs": [],
   "source": [
    "# Read super Covid-19 dataframe with state as index. \n",
    "covid = pd.read_csv(\"../../data/output/covid.csv\", index_col=0)"
   ]
  },
  {
   "cell_type": "markdown",
   "metadata": {},
   "source": [
    "#### Clean the dataset.\n",
    "remove unnessasery columns or rows."
   ]
  },
  {
   "cell_type": "code",
   "execution_count": 53,
   "metadata": {},
   "outputs": [],
   "source": [
    "# Drop unneccesary variables in Super covid-19 dataframe. \n",
    "covid.drop([\"countyFIPS\",\"stateFIPS\"], axis=1, inplace=True)\n",
    "\n",
    "# Drop unneccesary rows in Super COVID-19 dataframe.\n",
    "covid.drop(\n",
    "    covid.loc[covid['County Name'] == (\"Statewide Unallocated\" or 'New York City Unallocated')].index,\n",
    "    inplace=True)\n",
    "\n",
    "# Reset indexes after removing rows\n",
    "covid.reset_index(drop=True, inplace=True)"
   ]
  },
  {
   "cell_type": "markdown",
   "metadata": {},
   "source": [
    "#### Splite super covid dataset\n",
    "Create dataframe that hold covid death and dataframe that hold covid cases."
   ]
  },
  {
   "cell_type": "code",
   "execution_count": 54,
   "metadata": {},
   "outputs": [],
   "source": [
    "# Regalare expression that will help filltering the data.\n",
    "regex_cases = '(^[0-9]+[/]+[0-9]+[/]+[0-9]+[_]+[x])|^County Name$|^State$|^population$'\n",
    "regex_deaths = '(^[0-9]+[/]+[0-9]+[/]+[0-9]+[_]+[y])|^County Name$|^State$|^population$'\n",
    "\n",
    "cases = covid.filter(regex=regex_cases)\n",
    "deaths = covid.filter(regex=regex_deaths)"
   ]
  },
  {
   "cell_type": "markdown",
   "metadata": {},
   "source": [
    "Save the first three columns temprary so that we fix:\n",
    "1. the date syntax.\n",
    "2. Find the new cases/deaths"
   ]
  },
  {
   "cell_type": "code",
   "execution_count": 55,
   "metadata": {},
   "outputs": [],
   "source": [
    "# Split the data: first three columns\n",
    "covid_columns = covid[covid.columns[:3]]\n",
    "\n",
    "# Split the data: fourth to the end columns\n",
    "cases_data = cases[cases.columns[3:]]\n",
    "deaths_data = deaths[deaths.columns[3:]]"
   ]
  },
  {
   "cell_type": "markdown",
   "metadata": {},
   "source": [
    "#### Convert date type from String to Timestamp"
   ]
  },
  {
   "cell_type": "code",
   "execution_count": 56,
   "metadata": {},
   "outputs": [],
   "source": [
    "# Fixing date string syntax\n",
    "daily_cases = cases_data.rename(\n",
    "    columns=lambda x: (pd.to_datetime((x.split('_')[0]), errors='ignore')),\n",
    "    errors='raise')\n",
    "daily_deaths = deaths_data.rename(\n",
    "    columns=lambda x: (pd.to_datetime((x.split('_')[0]), errors='ignore')),\n",
    "    errors='raise')"
   ]
  },
  {
   "cell_type": "code",
   "execution_count": 57,
   "metadata": {},
   "outputs": [
    {
     "data": {
      "text/html": [
       "<div>\n",
       "<style scoped>\n",
       "    .dataframe tbody tr th:only-of-type {\n",
       "        vertical-align: middle;\n",
       "    }\n",
       "\n",
       "    .dataframe tbody tr th {\n",
       "        vertical-align: top;\n",
       "    }\n",
       "\n",
       "    .dataframe thead th {\n",
       "        text-align: right;\n",
       "    }\n",
       "</style>\n",
       "<table border=\"1\" class=\"dataframe\">\n",
       "  <thead>\n",
       "    <tr style=\"text-align: right;\">\n",
       "      <th></th>\n",
       "      <th>2020-01-22</th>\n",
       "      <th>2020-01-23</th>\n",
       "      <th>2020-01-24</th>\n",
       "      <th>2020-01-25</th>\n",
       "      <th>2020-01-26</th>\n",
       "      <th>2020-01-27</th>\n",
       "      <th>2020-01-28</th>\n",
       "      <th>2020-01-29</th>\n",
       "      <th>2020-01-30</th>\n",
       "      <th>2020-01-31</th>\n",
       "      <th>...</th>\n",
       "      <th>2020-10-31</th>\n",
       "      <th>2020-11-01</th>\n",
       "      <th>2020-11-02</th>\n",
       "      <th>2020-11-03</th>\n",
       "      <th>2020-11-04</th>\n",
       "      <th>2020-11-05</th>\n",
       "      <th>2020-11-06</th>\n",
       "      <th>2020-11-07</th>\n",
       "      <th>2020-11-08</th>\n",
       "      <th>2020-11-09</th>\n",
       "    </tr>\n",
       "  </thead>\n",
       "  <tbody>\n",
       "    <tr>\n",
       "      <th>0</th>\n",
       "      <td>0</td>\n",
       "      <td>0</td>\n",
       "      <td>0</td>\n",
       "      <td>0</td>\n",
       "      <td>0</td>\n",
       "      <td>0</td>\n",
       "      <td>0</td>\n",
       "      <td>0</td>\n",
       "      <td>0</td>\n",
       "      <td>0</td>\n",
       "      <td>...</td>\n",
       "      <td>2159</td>\n",
       "      <td>2173</td>\n",
       "      <td>2186</td>\n",
       "      <td>2197</td>\n",
       "      <td>2212</td>\n",
       "      <td>2230</td>\n",
       "      <td>2242</td>\n",
       "      <td>2267</td>\n",
       "      <td>2283</td>\n",
       "      <td>2304</td>\n",
       "    </tr>\n",
       "    <tr>\n",
       "      <th>1</th>\n",
       "      <td>0</td>\n",
       "      <td>0</td>\n",
       "      <td>0</td>\n",
       "      <td>0</td>\n",
       "      <td>0</td>\n",
       "      <td>0</td>\n",
       "      <td>0</td>\n",
       "      <td>0</td>\n",
       "      <td>0</td>\n",
       "      <td>0</td>\n",
       "      <td>...</td>\n",
       "      <td>6940</td>\n",
       "      <td>6966</td>\n",
       "      <td>6985</td>\n",
       "      <td>6995</td>\n",
       "      <td>7061</td>\n",
       "      <td>7097</td>\n",
       "      <td>7134</td>\n",
       "      <td>7188</td>\n",
       "      <td>7226</td>\n",
       "      <td>7263</td>\n",
       "    </tr>\n",
       "    <tr>\n",
       "      <th>2</th>\n",
       "      <td>0</td>\n",
       "      <td>0</td>\n",
       "      <td>0</td>\n",
       "      <td>0</td>\n",
       "      <td>0</td>\n",
       "      <td>0</td>\n",
       "      <td>0</td>\n",
       "      <td>0</td>\n",
       "      <td>0</td>\n",
       "      <td>0</td>\n",
       "      <td>...</td>\n",
       "      <td>1060</td>\n",
       "      <td>1061</td>\n",
       "      <td>1065</td>\n",
       "      <td>1074</td>\n",
       "      <td>1079</td>\n",
       "      <td>1080</td>\n",
       "      <td>1090</td>\n",
       "      <td>1092</td>\n",
       "      <td>1095</td>\n",
       "      <td>1098</td>\n",
       "    </tr>\n",
       "    <tr>\n",
       "      <th>3</th>\n",
       "      <td>0</td>\n",
       "      <td>0</td>\n",
       "      <td>0</td>\n",
       "      <td>0</td>\n",
       "      <td>0</td>\n",
       "      <td>0</td>\n",
       "      <td>0</td>\n",
       "      <td>0</td>\n",
       "      <td>0</td>\n",
       "      <td>0</td>\n",
       "      <td>...</td>\n",
       "      <td>873</td>\n",
       "      <td>878</td>\n",
       "      <td>883</td>\n",
       "      <td>890</td>\n",
       "      <td>897</td>\n",
       "      <td>907</td>\n",
       "      <td>917</td>\n",
       "      <td>924</td>\n",
       "      <td>926</td>\n",
       "      <td>932</td>\n",
       "    </tr>\n",
       "    <tr>\n",
       "      <th>4</th>\n",
       "      <td>0</td>\n",
       "      <td>0</td>\n",
       "      <td>0</td>\n",
       "      <td>0</td>\n",
       "      <td>0</td>\n",
       "      <td>0</td>\n",
       "      <td>0</td>\n",
       "      <td>0</td>\n",
       "      <td>0</td>\n",
       "      <td>0</td>\n",
       "      <td>...</td>\n",
       "      <td>2074</td>\n",
       "      <td>2095</td>\n",
       "      <td>2108</td>\n",
       "      <td>2162</td>\n",
       "      <td>2188</td>\n",
       "      <td>2222</td>\n",
       "      <td>2253</td>\n",
       "      <td>2286</td>\n",
       "      <td>2297</td>\n",
       "      <td>2335</td>\n",
       "    </tr>\n",
       "    <tr>\n",
       "      <th>...</th>\n",
       "      <td>...</td>\n",
       "      <td>...</td>\n",
       "      <td>...</td>\n",
       "      <td>...</td>\n",
       "      <td>...</td>\n",
       "      <td>...</td>\n",
       "      <td>...</td>\n",
       "      <td>...</td>\n",
       "      <td>...</td>\n",
       "      <td>...</td>\n",
       "      <td>...</td>\n",
       "      <td>...</td>\n",
       "      <td>...</td>\n",
       "      <td>...</td>\n",
       "      <td>...</td>\n",
       "      <td>...</td>\n",
       "      <td>...</td>\n",
       "      <td>...</td>\n",
       "      <td>...</td>\n",
       "      <td>...</td>\n",
       "      <td>...</td>\n",
       "    </tr>\n",
       "    <tr>\n",
       "      <th>3140</th>\n",
       "      <td>0</td>\n",
       "      <td>0</td>\n",
       "      <td>0</td>\n",
       "      <td>0</td>\n",
       "      <td>0</td>\n",
       "      <td>0</td>\n",
       "      <td>0</td>\n",
       "      <td>0</td>\n",
       "      <td>0</td>\n",
       "      <td>0</td>\n",
       "      <td>...</td>\n",
       "      <td>553</td>\n",
       "      <td>585</td>\n",
       "      <td>601</td>\n",
       "      <td>621</td>\n",
       "      <td>638</td>\n",
       "      <td>658</td>\n",
       "      <td>681</td>\n",
       "      <td>692</td>\n",
       "      <td>726</td>\n",
       "      <td>776</td>\n",
       "    </tr>\n",
       "    <tr>\n",
       "      <th>3141</th>\n",
       "      <td>0</td>\n",
       "      <td>0</td>\n",
       "      <td>0</td>\n",
       "      <td>0</td>\n",
       "      <td>0</td>\n",
       "      <td>0</td>\n",
       "      <td>0</td>\n",
       "      <td>0</td>\n",
       "      <td>0</td>\n",
       "      <td>0</td>\n",
       "      <td>...</td>\n",
       "      <td>796</td>\n",
       "      <td>814</td>\n",
       "      <td>847</td>\n",
       "      <td>862</td>\n",
       "      <td>873</td>\n",
       "      <td>897</td>\n",
       "      <td>922</td>\n",
       "      <td>932</td>\n",
       "      <td>977</td>\n",
       "      <td>1007</td>\n",
       "    </tr>\n",
       "    <tr>\n",
       "      <th>3142</th>\n",
       "      <td>0</td>\n",
       "      <td>0</td>\n",
       "      <td>0</td>\n",
       "      <td>0</td>\n",
       "      <td>0</td>\n",
       "      <td>0</td>\n",
       "      <td>0</td>\n",
       "      <td>0</td>\n",
       "      <td>0</td>\n",
       "      <td>0</td>\n",
       "      <td>...</td>\n",
       "      <td>479</td>\n",
       "      <td>488</td>\n",
       "      <td>492</td>\n",
       "      <td>510</td>\n",
       "      <td>518</td>\n",
       "      <td>529</td>\n",
       "      <td>542</td>\n",
       "      <td>544</td>\n",
       "      <td>551</td>\n",
       "      <td>568</td>\n",
       "    </tr>\n",
       "    <tr>\n",
       "      <th>3143</th>\n",
       "      <td>0</td>\n",
       "      <td>0</td>\n",
       "      <td>0</td>\n",
       "      <td>0</td>\n",
       "      <td>0</td>\n",
       "      <td>0</td>\n",
       "      <td>0</td>\n",
       "      <td>0</td>\n",
       "      <td>0</td>\n",
       "      <td>0</td>\n",
       "      <td>...</td>\n",
       "      <td>158</td>\n",
       "      <td>160</td>\n",
       "      <td>160</td>\n",
       "      <td>167</td>\n",
       "      <td>175</td>\n",
       "      <td>179</td>\n",
       "      <td>185</td>\n",
       "      <td>185</td>\n",
       "      <td>187</td>\n",
       "      <td>190</td>\n",
       "    </tr>\n",
       "    <tr>\n",
       "      <th>3144</th>\n",
       "      <td>0</td>\n",
       "      <td>0</td>\n",
       "      <td>0</td>\n",
       "      <td>0</td>\n",
       "      <td>0</td>\n",
       "      <td>0</td>\n",
       "      <td>0</td>\n",
       "      <td>0</td>\n",
       "      <td>0</td>\n",
       "      <td>0</td>\n",
       "      <td>...</td>\n",
       "      <td>159</td>\n",
       "      <td>164</td>\n",
       "      <td>169</td>\n",
       "      <td>181</td>\n",
       "      <td>189</td>\n",
       "      <td>203</td>\n",
       "      <td>294</td>\n",
       "      <td>306</td>\n",
       "      <td>306</td>\n",
       "      <td>310</td>\n",
       "    </tr>\n",
       "  </tbody>\n",
       "</table>\n",
       "<p>3145 rows × 293 columns</p>\n",
       "</div>"
      ],
      "text/plain": [
       "      2020-01-22  2020-01-23  2020-01-24  2020-01-25  2020-01-26  2020-01-27  \\\n",
       "0              0           0           0           0           0           0   \n",
       "1              0           0           0           0           0           0   \n",
       "2              0           0           0           0           0           0   \n",
       "3              0           0           0           0           0           0   \n",
       "4              0           0           0           0           0           0   \n",
       "...          ...         ...         ...         ...         ...         ...   \n",
       "3140           0           0           0           0           0           0   \n",
       "3141           0           0           0           0           0           0   \n",
       "3142           0           0           0           0           0           0   \n",
       "3143           0           0           0           0           0           0   \n",
       "3144           0           0           0           0           0           0   \n",
       "\n",
       "      2020-01-28  2020-01-29  2020-01-30  2020-01-31  ...  2020-10-31  \\\n",
       "0              0           0           0           0  ...        2159   \n",
       "1              0           0           0           0  ...        6940   \n",
       "2              0           0           0           0  ...        1060   \n",
       "3              0           0           0           0  ...         873   \n",
       "4              0           0           0           0  ...        2074   \n",
       "...          ...         ...         ...         ...  ...         ...   \n",
       "3140           0           0           0           0  ...         553   \n",
       "3141           0           0           0           0  ...         796   \n",
       "3142           0           0           0           0  ...         479   \n",
       "3143           0           0           0           0  ...         158   \n",
       "3144           0           0           0           0  ...         159   \n",
       "\n",
       "      2020-11-01  2020-11-02  2020-11-03  2020-11-04  2020-11-05  2020-11-06  \\\n",
       "0           2173        2186        2197        2212        2230        2242   \n",
       "1           6966        6985        6995        7061        7097        7134   \n",
       "2           1061        1065        1074        1079        1080        1090   \n",
       "3            878         883         890         897         907         917   \n",
       "4           2095        2108        2162        2188        2222        2253   \n",
       "...          ...         ...         ...         ...         ...         ...   \n",
       "3140         585         601         621         638         658         681   \n",
       "3141         814         847         862         873         897         922   \n",
       "3142         488         492         510         518         529         542   \n",
       "3143         160         160         167         175         179         185   \n",
       "3144         164         169         181         189         203         294   \n",
       "\n",
       "      2020-11-07  2020-11-08  2020-11-09  \n",
       "0           2267        2283        2304  \n",
       "1           7188        7226        7263  \n",
       "2           1092        1095        1098  \n",
       "3            924         926         932  \n",
       "4           2286        2297        2335  \n",
       "...          ...         ...         ...  \n",
       "3140         692         726         776  \n",
       "3141         932         977        1007  \n",
       "3142         544         551         568  \n",
       "3143         185         187         190  \n",
       "3144         306         306         310  \n",
       "\n",
       "[3145 rows x 293 columns]"
      ]
     },
     "execution_count": 57,
     "metadata": {},
     "output_type": "execute_result"
    }
   ],
   "source": [
    "daily_cases"
   ]
  },
  {
   "cell_type": "markdown",
   "metadata": {},
   "source": [
    "#### Find the daily new cases/death.\n",
    "Calculate the diffrence between the current day and the day before it. The results is the new cases."
   ]
  },
  {
   "cell_type": "code",
   "execution_count": 58,
   "metadata": {},
   "outputs": [],
   "source": [
    "daily_cases = daily_cases.diff(axis=1).fillna(0)\n",
    "daily_deaths = daily_deaths.diff(axis=1).fillna(0)"
   ]
  },
  {
   "cell_type": "markdown",
   "metadata": {},
   "source": [
    "#### Merge the popolation, states and county names to the daily cases/deaths"
   ]
  },
  {
   "cell_type": "code",
   "execution_count": 59,
   "metadata": {},
   "outputs": [],
   "source": [
    "new_cases = covid_columns.merge(daily_cases, left_index=True, right_index=True)\n",
    "new_deaths = covid_columns.merge(daily_deaths, left_index=True, right_index=True)"
   ]
  },
  {
   "cell_type": "code",
   "execution_count": 60,
   "metadata": {},
   "outputs": [
    {
     "data": {
      "text/html": [
       "<div>\n",
       "<style scoped>\n",
       "    .dataframe tbody tr th:only-of-type {\n",
       "        vertical-align: middle;\n",
       "    }\n",
       "\n",
       "    .dataframe tbody tr th {\n",
       "        vertical-align: top;\n",
       "    }\n",
       "\n",
       "    .dataframe thead th {\n",
       "        text-align: right;\n",
       "    }\n",
       "</style>\n",
       "<table border=\"1\" class=\"dataframe\">\n",
       "  <thead>\n",
       "    <tr style=\"text-align: right;\">\n",
       "      <th></th>\n",
       "      <th>County Name</th>\n",
       "      <th>State</th>\n",
       "      <th>population</th>\n",
       "      <th>2020-01-22 00:00:00</th>\n",
       "      <th>2020-01-23 00:00:00</th>\n",
       "      <th>2020-01-24 00:00:00</th>\n",
       "      <th>2020-01-25 00:00:00</th>\n",
       "      <th>2020-01-26 00:00:00</th>\n",
       "      <th>2020-01-27 00:00:00</th>\n",
       "      <th>2020-01-28 00:00:00</th>\n",
       "      <th>...</th>\n",
       "      <th>2020-10-31 00:00:00</th>\n",
       "      <th>2020-11-01 00:00:00</th>\n",
       "      <th>2020-11-02 00:00:00</th>\n",
       "      <th>2020-11-03 00:00:00</th>\n",
       "      <th>2020-11-04 00:00:00</th>\n",
       "      <th>2020-11-05 00:00:00</th>\n",
       "      <th>2020-11-06 00:00:00</th>\n",
       "      <th>2020-11-07 00:00:00</th>\n",
       "      <th>2020-11-08 00:00:00</th>\n",
       "      <th>2020-11-09 00:00:00</th>\n",
       "    </tr>\n",
       "  </thead>\n",
       "  <tbody>\n",
       "    <tr>\n",
       "      <th>0</th>\n",
       "      <td>Autauga County</td>\n",
       "      <td>AL</td>\n",
       "      <td>55869</td>\n",
       "      <td>0.0</td>\n",
       "      <td>0.0</td>\n",
       "      <td>0.0</td>\n",
       "      <td>0.0</td>\n",
       "      <td>0.0</td>\n",
       "      <td>0.0</td>\n",
       "      <td>0.0</td>\n",
       "      <td>...</td>\n",
       "      <td>18.0</td>\n",
       "      <td>14.0</td>\n",
       "      <td>13.0</td>\n",
       "      <td>11.0</td>\n",
       "      <td>15.0</td>\n",
       "      <td>18.0</td>\n",
       "      <td>12.0</td>\n",
       "      <td>25.0</td>\n",
       "      <td>16.0</td>\n",
       "      <td>21.0</td>\n",
       "    </tr>\n",
       "    <tr>\n",
       "      <th>1</th>\n",
       "      <td>Baldwin County</td>\n",
       "      <td>AL</td>\n",
       "      <td>223234</td>\n",
       "      <td>0.0</td>\n",
       "      <td>0.0</td>\n",
       "      <td>0.0</td>\n",
       "      <td>0.0</td>\n",
       "      <td>0.0</td>\n",
       "      <td>0.0</td>\n",
       "      <td>0.0</td>\n",
       "      <td>...</td>\n",
       "      <td>52.0</td>\n",
       "      <td>26.0</td>\n",
       "      <td>19.0</td>\n",
       "      <td>10.0</td>\n",
       "      <td>66.0</td>\n",
       "      <td>36.0</td>\n",
       "      <td>37.0</td>\n",
       "      <td>54.0</td>\n",
       "      <td>38.0</td>\n",
       "      <td>37.0</td>\n",
       "    </tr>\n",
       "    <tr>\n",
       "      <th>2</th>\n",
       "      <td>Barbour County</td>\n",
       "      <td>AL</td>\n",
       "      <td>24686</td>\n",
       "      <td>0.0</td>\n",
       "      <td>0.0</td>\n",
       "      <td>0.0</td>\n",
       "      <td>0.0</td>\n",
       "      <td>0.0</td>\n",
       "      <td>0.0</td>\n",
       "      <td>0.0</td>\n",
       "      <td>...</td>\n",
       "      <td>4.0</td>\n",
       "      <td>1.0</td>\n",
       "      <td>4.0</td>\n",
       "      <td>9.0</td>\n",
       "      <td>5.0</td>\n",
       "      <td>1.0</td>\n",
       "      <td>10.0</td>\n",
       "      <td>2.0</td>\n",
       "      <td>3.0</td>\n",
       "      <td>3.0</td>\n",
       "    </tr>\n",
       "    <tr>\n",
       "      <th>3</th>\n",
       "      <td>Bibb County</td>\n",
       "      <td>AL</td>\n",
       "      <td>22394</td>\n",
       "      <td>0.0</td>\n",
       "      <td>0.0</td>\n",
       "      <td>0.0</td>\n",
       "      <td>0.0</td>\n",
       "      <td>0.0</td>\n",
       "      <td>0.0</td>\n",
       "      <td>0.0</td>\n",
       "      <td>...</td>\n",
       "      <td>7.0</td>\n",
       "      <td>5.0</td>\n",
       "      <td>5.0</td>\n",
       "      <td>7.0</td>\n",
       "      <td>7.0</td>\n",
       "      <td>10.0</td>\n",
       "      <td>10.0</td>\n",
       "      <td>7.0</td>\n",
       "      <td>2.0</td>\n",
       "      <td>6.0</td>\n",
       "    </tr>\n",
       "    <tr>\n",
       "      <th>4</th>\n",
       "      <td>Blount County</td>\n",
       "      <td>AL</td>\n",
       "      <td>57826</td>\n",
       "      <td>0.0</td>\n",
       "      <td>0.0</td>\n",
       "      <td>0.0</td>\n",
       "      <td>0.0</td>\n",
       "      <td>0.0</td>\n",
       "      <td>0.0</td>\n",
       "      <td>0.0</td>\n",
       "      <td>...</td>\n",
       "      <td>35.0</td>\n",
       "      <td>21.0</td>\n",
       "      <td>13.0</td>\n",
       "      <td>54.0</td>\n",
       "      <td>26.0</td>\n",
       "      <td>34.0</td>\n",
       "      <td>31.0</td>\n",
       "      <td>33.0</td>\n",
       "      <td>11.0</td>\n",
       "      <td>38.0</td>\n",
       "    </tr>\n",
       "  </tbody>\n",
       "</table>\n",
       "<p>5 rows × 296 columns</p>\n",
       "</div>"
      ],
      "text/plain": [
       "      County Name State  population  2020-01-22 00:00:00  2020-01-23 00:00:00  \\\n",
       "0  Autauga County    AL       55869                  0.0                  0.0   \n",
       "1  Baldwin County    AL      223234                  0.0                  0.0   \n",
       "2  Barbour County    AL       24686                  0.0                  0.0   \n",
       "3     Bibb County    AL       22394                  0.0                  0.0   \n",
       "4   Blount County    AL       57826                  0.0                  0.0   \n",
       "\n",
       "   2020-01-24 00:00:00  2020-01-25 00:00:00  2020-01-26 00:00:00  \\\n",
       "0                  0.0                  0.0                  0.0   \n",
       "1                  0.0                  0.0                  0.0   \n",
       "2                  0.0                  0.0                  0.0   \n",
       "3                  0.0                  0.0                  0.0   \n",
       "4                  0.0                  0.0                  0.0   \n",
       "\n",
       "   2020-01-27 00:00:00  2020-01-28 00:00:00  ...  2020-10-31 00:00:00  \\\n",
       "0                  0.0                  0.0  ...                 18.0   \n",
       "1                  0.0                  0.0  ...                 52.0   \n",
       "2                  0.0                  0.0  ...                  4.0   \n",
       "3                  0.0                  0.0  ...                  7.0   \n",
       "4                  0.0                  0.0  ...                 35.0   \n",
       "\n",
       "   2020-11-01 00:00:00  2020-11-02 00:00:00  2020-11-03 00:00:00  \\\n",
       "0                 14.0                 13.0                 11.0   \n",
       "1                 26.0                 19.0                 10.0   \n",
       "2                  1.0                  4.0                  9.0   \n",
       "3                  5.0                  5.0                  7.0   \n",
       "4                 21.0                 13.0                 54.0   \n",
       "\n",
       "   2020-11-04 00:00:00  2020-11-05 00:00:00  2020-11-06 00:00:00  \\\n",
       "0                 15.0                 18.0                 12.0   \n",
       "1                 66.0                 36.0                 37.0   \n",
       "2                  5.0                  1.0                 10.0   \n",
       "3                  7.0                 10.0                 10.0   \n",
       "4                 26.0                 34.0                 31.0   \n",
       "\n",
       "   2020-11-07 00:00:00  2020-11-08 00:00:00  2020-11-09 00:00:00  \n",
       "0                 25.0                 16.0                 21.0  \n",
       "1                 54.0                 38.0                 37.0  \n",
       "2                  2.0                  3.0                  3.0  \n",
       "3                  7.0                  2.0                  6.0  \n",
       "4                 33.0                 11.0                 38.0  \n",
       "\n",
       "[5 rows x 296 columns]"
      ]
     },
     "execution_count": 60,
     "metadata": {},
     "output_type": "execute_result"
    }
   ],
   "source": [
    "new_cases.head()"
   ]
  },
  {
   "cell_type": "code",
   "execution_count": 61,
   "metadata": {},
   "outputs": [
    {
     "data": {
      "text/html": [
       "<div>\n",
       "<style scoped>\n",
       "    .dataframe tbody tr th:only-of-type {\n",
       "        vertical-align: middle;\n",
       "    }\n",
       "\n",
       "    .dataframe tbody tr th {\n",
       "        vertical-align: top;\n",
       "    }\n",
       "\n",
       "    .dataframe thead th {\n",
       "        text-align: right;\n",
       "    }\n",
       "</style>\n",
       "<table border=\"1\" class=\"dataframe\">\n",
       "  <thead>\n",
       "    <tr style=\"text-align: right;\">\n",
       "      <th></th>\n",
       "      <th>County Name</th>\n",
       "      <th>State</th>\n",
       "      <th>population</th>\n",
       "      <th>2020-01-22 00:00:00</th>\n",
       "      <th>2020-01-23 00:00:00</th>\n",
       "      <th>2020-01-24 00:00:00</th>\n",
       "      <th>2020-01-25 00:00:00</th>\n",
       "      <th>2020-01-26 00:00:00</th>\n",
       "      <th>2020-01-27 00:00:00</th>\n",
       "      <th>2020-01-28 00:00:00</th>\n",
       "      <th>...</th>\n",
       "      <th>2020-10-31 00:00:00</th>\n",
       "      <th>2020-11-01 00:00:00</th>\n",
       "      <th>2020-11-02 00:00:00</th>\n",
       "      <th>2020-11-03 00:00:00</th>\n",
       "      <th>2020-11-04 00:00:00</th>\n",
       "      <th>2020-11-05 00:00:00</th>\n",
       "      <th>2020-11-06 00:00:00</th>\n",
       "      <th>2020-11-07 00:00:00</th>\n",
       "      <th>2020-11-08 00:00:00</th>\n",
       "      <th>2020-11-09 00:00:00</th>\n",
       "    </tr>\n",
       "  </thead>\n",
       "  <tbody>\n",
       "    <tr>\n",
       "      <th>0</th>\n",
       "      <td>Autauga County</td>\n",
       "      <td>AL</td>\n",
       "      <td>55869</td>\n",
       "      <td>0.0</td>\n",
       "      <td>0.0</td>\n",
       "      <td>0.0</td>\n",
       "      <td>0.0</td>\n",
       "      <td>0.0</td>\n",
       "      <td>0.0</td>\n",
       "      <td>0.0</td>\n",
       "      <td>...</td>\n",
       "      <td>0.0</td>\n",
       "      <td>0.0</td>\n",
       "      <td>0.0</td>\n",
       "      <td>0.0</td>\n",
       "      <td>0.0</td>\n",
       "      <td>0.0</td>\n",
       "      <td>0.0</td>\n",
       "      <td>0.0</td>\n",
       "      <td>0.0</td>\n",
       "      <td>0.0</td>\n",
       "    </tr>\n",
       "    <tr>\n",
       "      <th>1</th>\n",
       "      <td>Baldwin County</td>\n",
       "      <td>AL</td>\n",
       "      <td>223234</td>\n",
       "      <td>0.0</td>\n",
       "      <td>0.0</td>\n",
       "      <td>0.0</td>\n",
       "      <td>0.0</td>\n",
       "      <td>0.0</td>\n",
       "      <td>0.0</td>\n",
       "      <td>0.0</td>\n",
       "      <td>...</td>\n",
       "      <td>0.0</td>\n",
       "      <td>0.0</td>\n",
       "      <td>0.0</td>\n",
       "      <td>3.0</td>\n",
       "      <td>3.0</td>\n",
       "      <td>0.0</td>\n",
       "      <td>6.0</td>\n",
       "      <td>0.0</td>\n",
       "      <td>0.0</td>\n",
       "      <td>0.0</td>\n",
       "    </tr>\n",
       "    <tr>\n",
       "      <th>2</th>\n",
       "      <td>Barbour County</td>\n",
       "      <td>AL</td>\n",
       "      <td>24686</td>\n",
       "      <td>0.0</td>\n",
       "      <td>0.0</td>\n",
       "      <td>0.0</td>\n",
       "      <td>0.0</td>\n",
       "      <td>0.0</td>\n",
       "      <td>0.0</td>\n",
       "      <td>0.0</td>\n",
       "      <td>...</td>\n",
       "      <td>0.0</td>\n",
       "      <td>0.0</td>\n",
       "      <td>0.0</td>\n",
       "      <td>0.0</td>\n",
       "      <td>0.0</td>\n",
       "      <td>0.0</td>\n",
       "      <td>0.0</td>\n",
       "      <td>0.0</td>\n",
       "      <td>0.0</td>\n",
       "      <td>0.0</td>\n",
       "    </tr>\n",
       "    <tr>\n",
       "      <th>3</th>\n",
       "      <td>Bibb County</td>\n",
       "      <td>AL</td>\n",
       "      <td>22394</td>\n",
       "      <td>0.0</td>\n",
       "      <td>0.0</td>\n",
       "      <td>0.0</td>\n",
       "      <td>0.0</td>\n",
       "      <td>0.0</td>\n",
       "      <td>0.0</td>\n",
       "      <td>0.0</td>\n",
       "      <td>...</td>\n",
       "      <td>0.0</td>\n",
       "      <td>0.0</td>\n",
       "      <td>0.0</td>\n",
       "      <td>0.0</td>\n",
       "      <td>0.0</td>\n",
       "      <td>0.0</td>\n",
       "      <td>0.0</td>\n",
       "      <td>1.0</td>\n",
       "      <td>0.0</td>\n",
       "      <td>0.0</td>\n",
       "    </tr>\n",
       "    <tr>\n",
       "      <th>4</th>\n",
       "      <td>Blount County</td>\n",
       "      <td>AL</td>\n",
       "      <td>57826</td>\n",
       "      <td>0.0</td>\n",
       "      <td>0.0</td>\n",
       "      <td>0.0</td>\n",
       "      <td>0.0</td>\n",
       "      <td>0.0</td>\n",
       "      <td>0.0</td>\n",
       "      <td>0.0</td>\n",
       "      <td>...</td>\n",
       "      <td>0.0</td>\n",
       "      <td>0.0</td>\n",
       "      <td>0.0</td>\n",
       "      <td>0.0</td>\n",
       "      <td>0.0</td>\n",
       "      <td>0.0</td>\n",
       "      <td>1.0</td>\n",
       "      <td>0.0</td>\n",
       "      <td>0.0</td>\n",
       "      <td>0.0</td>\n",
       "    </tr>\n",
       "  </tbody>\n",
       "</table>\n",
       "<p>5 rows × 296 columns</p>\n",
       "</div>"
      ],
      "text/plain": [
       "      County Name State  population  2020-01-22 00:00:00  2020-01-23 00:00:00  \\\n",
       "0  Autauga County    AL       55869                  0.0                  0.0   \n",
       "1  Baldwin County    AL      223234                  0.0                  0.0   \n",
       "2  Barbour County    AL       24686                  0.0                  0.0   \n",
       "3     Bibb County    AL       22394                  0.0                  0.0   \n",
       "4   Blount County    AL       57826                  0.0                  0.0   \n",
       "\n",
       "   2020-01-24 00:00:00  2020-01-25 00:00:00  2020-01-26 00:00:00  \\\n",
       "0                  0.0                  0.0                  0.0   \n",
       "1                  0.0                  0.0                  0.0   \n",
       "2                  0.0                  0.0                  0.0   \n",
       "3                  0.0                  0.0                  0.0   \n",
       "4                  0.0                  0.0                  0.0   \n",
       "\n",
       "   2020-01-27 00:00:00  2020-01-28 00:00:00  ...  2020-10-31 00:00:00  \\\n",
       "0                  0.0                  0.0  ...                  0.0   \n",
       "1                  0.0                  0.0  ...                  0.0   \n",
       "2                  0.0                  0.0  ...                  0.0   \n",
       "3                  0.0                  0.0  ...                  0.0   \n",
       "4                  0.0                  0.0  ...                  0.0   \n",
       "\n",
       "   2020-11-01 00:00:00  2020-11-02 00:00:00  2020-11-03 00:00:00  \\\n",
       "0                  0.0                  0.0                  0.0   \n",
       "1                  0.0                  0.0                  3.0   \n",
       "2                  0.0                  0.0                  0.0   \n",
       "3                  0.0                  0.0                  0.0   \n",
       "4                  0.0                  0.0                  0.0   \n",
       "\n",
       "   2020-11-04 00:00:00  2020-11-05 00:00:00  2020-11-06 00:00:00  \\\n",
       "0                  0.0                  0.0                  0.0   \n",
       "1                  3.0                  0.0                  6.0   \n",
       "2                  0.0                  0.0                  0.0   \n",
       "3                  0.0                  0.0                  0.0   \n",
       "4                  0.0                  0.0                  1.0   \n",
       "\n",
       "   2020-11-07 00:00:00  2020-11-08 00:00:00  2020-11-09 00:00:00  \n",
       "0                  0.0                  0.0                  0.0  \n",
       "1                  0.0                  0.0                  0.0  \n",
       "2                  0.0                  0.0                  0.0  \n",
       "3                  1.0                  0.0                  0.0  \n",
       "4                  0.0                  0.0                  0.0  \n",
       "\n",
       "[5 rows x 296 columns]"
      ]
     },
     "execution_count": 61,
     "metadata": {},
     "output_type": "execute_result"
    }
   ],
   "source": [
    "new_deaths.head()"
   ]
  },
  {
   "cell_type": "markdown",
   "metadata": {},
   "source": [
    "## Linear regression models for predicting cases and deaths in US."
   ]
  },
  {
   "cell_type": "markdown",
   "metadata": {},
   "source": [
    "#### United States Cases"
   ]
  },
  {
   "cell_type": "markdown",
   "metadata": {},
   "source": [
    "Sum up all states daily cases"
   ]
  },
  {
   "cell_type": "code",
   "execution_count": 62,
   "metadata": {},
   "outputs": [],
   "source": [
    "united_states_cases = pd.DataFrame(new_cases[new_cases.columns[3:]].sum(axis=0))"
   ]
  },
  {
   "cell_type": "code",
   "execution_count": 63,
   "metadata": {},
   "outputs": [
    {
     "data": {
      "text/html": [
       "<div>\n",
       "<style scoped>\n",
       "    .dataframe tbody tr th:only-of-type {\n",
       "        vertical-align: middle;\n",
       "    }\n",
       "\n",
       "    .dataframe tbody tr th {\n",
       "        vertical-align: top;\n",
       "    }\n",
       "\n",
       "    .dataframe thead th {\n",
       "        text-align: right;\n",
       "    }\n",
       "</style>\n",
       "<table border=\"1\" class=\"dataframe\">\n",
       "  <thead>\n",
       "    <tr style=\"text-align: right;\">\n",
       "      <th></th>\n",
       "      <th>0</th>\n",
       "    </tr>\n",
       "  </thead>\n",
       "  <tbody>\n",
       "    <tr>\n",
       "      <th>2020-01-22</th>\n",
       "      <td>0.0</td>\n",
       "    </tr>\n",
       "    <tr>\n",
       "      <th>2020-01-23</th>\n",
       "      <td>0.0</td>\n",
       "    </tr>\n",
       "    <tr>\n",
       "      <th>2020-01-24</th>\n",
       "      <td>1.0</td>\n",
       "    </tr>\n",
       "    <tr>\n",
       "      <th>2020-01-25</th>\n",
       "      <td>0.0</td>\n",
       "    </tr>\n",
       "    <tr>\n",
       "      <th>2020-01-26</th>\n",
       "      <td>3.0</td>\n",
       "    </tr>\n",
       "    <tr>\n",
       "      <th>...</th>\n",
       "      <td>...</td>\n",
       "    </tr>\n",
       "    <tr>\n",
       "      <th>2020-11-05</th>\n",
       "      <td>117655.0</td>\n",
       "    </tr>\n",
       "    <tr>\n",
       "      <th>2020-11-06</th>\n",
       "      <td>132276.0</td>\n",
       "    </tr>\n",
       "    <tr>\n",
       "      <th>2020-11-07</th>\n",
       "      <td>112610.0</td>\n",
       "    </tr>\n",
       "    <tr>\n",
       "      <th>2020-11-08</th>\n",
       "      <td>103701.0</td>\n",
       "    </tr>\n",
       "    <tr>\n",
       "      <th>2020-11-09</th>\n",
       "      <td>127172.0</td>\n",
       "    </tr>\n",
       "  </tbody>\n",
       "</table>\n",
       "<p>293 rows × 1 columns</p>\n",
       "</div>"
      ],
      "text/plain": [
       "                   0\n",
       "2020-01-22       0.0\n",
       "2020-01-23       0.0\n",
       "2020-01-24       1.0\n",
       "2020-01-25       0.0\n",
       "2020-01-26       3.0\n",
       "...              ...\n",
       "2020-11-05  117655.0\n",
       "2020-11-06  132276.0\n",
       "2020-11-07  112610.0\n",
       "2020-11-08  103701.0\n",
       "2020-11-09  127172.0\n",
       "\n",
       "[293 rows x 1 columns]"
      ]
     },
     "execution_count": 63,
     "metadata": {},
     "output_type": "execute_result"
    }
   ],
   "source": [
    "united_states_cases"
   ]
  },
  {
   "cell_type": "markdown",
   "metadata": {},
   "source": [
    "Fit a linewar regression model using sklearn's LinearRegression package"
   ]
  },
  {
   "cell_type": "code",
   "execution_count": 64,
   "metadata": {},
   "outputs": [
    {
     "name": "stdout",
     "output_type": "stream",
     "text": [
      "formula: y= 0.0x + 0.0\n"
     ]
    }
   ],
   "source": [
    "X, Y = united_states_cases.T, united_states_cases.columns\n",
    "\n",
    "mdl = LinearRegression().fit(X,Y)\n",
    "result = mdl.predict(X)\n",
    "m = mdl.coef_[0]\n",
    "b = mdl.intercept_\n",
    "print(f'formula: y= {m}x + {b}')"
   ]
  },
  {
   "cell_type": "code",
   "execution_count": 65,
   "metadata": {},
   "outputs": [
    {
     "data": {
      "text/plain": [
       "[0]"
      ]
     },
     "execution_count": 65,
     "metadata": {},
     "output_type": "execute_result"
    }
   ],
   "source": [
    "[i for i in range(X.index.size)]"
   ]
  },
  {
   "cell_type": "code",
   "execution_count": 66,
   "metadata": {},
   "outputs": [
    {
     "data": {
      "text/html": [
       "<div>\n",
       "<style scoped>\n",
       "    .dataframe tbody tr th:only-of-type {\n",
       "        vertical-align: middle;\n",
       "    }\n",
       "\n",
       "    .dataframe tbody tr th {\n",
       "        vertical-align: top;\n",
       "    }\n",
       "\n",
       "    .dataframe thead th {\n",
       "        text-align: right;\n",
       "    }\n",
       "</style>\n",
       "<table border=\"1\" class=\"dataframe\">\n",
       "  <thead>\n",
       "    <tr style=\"text-align: right;\">\n",
       "      <th></th>\n",
       "      <th>0</th>\n",
       "    </tr>\n",
       "  </thead>\n",
       "  <tbody>\n",
       "    <tr>\n",
       "      <th>2020-01-22</th>\n",
       "      <td>0.0</td>\n",
       "    </tr>\n",
       "    <tr>\n",
       "      <th>2020-01-23</th>\n",
       "      <td>0.0</td>\n",
       "    </tr>\n",
       "    <tr>\n",
       "      <th>2020-01-24</th>\n",
       "      <td>1.0</td>\n",
       "    </tr>\n",
       "    <tr>\n",
       "      <th>2020-01-25</th>\n",
       "      <td>0.0</td>\n",
       "    </tr>\n",
       "    <tr>\n",
       "      <th>2020-01-26</th>\n",
       "      <td>3.0</td>\n",
       "    </tr>\n",
       "    <tr>\n",
       "      <th>...</th>\n",
       "      <td>...</td>\n",
       "    </tr>\n",
       "    <tr>\n",
       "      <th>2020-11-05</th>\n",
       "      <td>117655.0</td>\n",
       "    </tr>\n",
       "    <tr>\n",
       "      <th>2020-11-06</th>\n",
       "      <td>132276.0</td>\n",
       "    </tr>\n",
       "    <tr>\n",
       "      <th>2020-11-07</th>\n",
       "      <td>112610.0</td>\n",
       "    </tr>\n",
       "    <tr>\n",
       "      <th>2020-11-08</th>\n",
       "      <td>103701.0</td>\n",
       "    </tr>\n",
       "    <tr>\n",
       "      <th>2020-11-09</th>\n",
       "      <td>127172.0</td>\n",
       "    </tr>\n",
       "  </tbody>\n",
       "</table>\n",
       "<p>293 rows × 1 columns</p>\n",
       "</div>"
      ],
      "text/plain": [
       "                   0\n",
       "2020-01-22       0.0\n",
       "2020-01-23       0.0\n",
       "2020-01-24       1.0\n",
       "2020-01-25       0.0\n",
       "2020-01-26       3.0\n",
       "...              ...\n",
       "2020-11-05  117655.0\n",
       "2020-11-06  132276.0\n",
       "2020-11-07  112610.0\n",
       "2020-11-08  103701.0\n",
       "2020-11-09  127172.0\n",
       "\n",
       "[293 rows x 1 columns]"
      ]
     },
     "execution_count": 66,
     "metadata": {},
     "output_type": "execute_result"
    }
   ],
   "source": [
    "index = [i for i in range(united_states_cases.index.size)]\n",
    "united_states_cases"
   ]
  },
  {
   "cell_type": "code",
   "execution_count": 67,
   "metadata": {},
   "outputs": [
    {
     "data": {
      "text/html": [
       "<div>\n",
       "<style scoped>\n",
       "    .dataframe tbody tr th:only-of-type {\n",
       "        vertical-align: middle;\n",
       "    }\n",
       "\n",
       "    .dataframe tbody tr th {\n",
       "        vertical-align: top;\n",
       "    }\n",
       "\n",
       "    .dataframe thead th {\n",
       "        text-align: right;\n",
       "    }\n",
       "</style>\n",
       "<table border=\"1\" class=\"dataframe\">\n",
       "  <thead>\n",
       "    <tr style=\"text-align: right;\">\n",
       "      <th></th>\n",
       "      <th>Date</th>\n",
       "      <th>Cases</th>\n",
       "    </tr>\n",
       "  </thead>\n",
       "  <tbody>\n",
       "    <tr>\n",
       "      <th>0</th>\n",
       "      <td>2020-01-22</td>\n",
       "      <td>0.0</td>\n",
       "    </tr>\n",
       "    <tr>\n",
       "      <th>1</th>\n",
       "      <td>2020-01-23</td>\n",
       "      <td>0.0</td>\n",
       "    </tr>\n",
       "    <tr>\n",
       "      <th>2</th>\n",
       "      <td>2020-01-24</td>\n",
       "      <td>1.0</td>\n",
       "    </tr>\n",
       "    <tr>\n",
       "      <th>3</th>\n",
       "      <td>2020-01-25</td>\n",
       "      <td>0.0</td>\n",
       "    </tr>\n",
       "    <tr>\n",
       "      <th>4</th>\n",
       "      <td>2020-01-26</td>\n",
       "      <td>3.0</td>\n",
       "    </tr>\n",
       "    <tr>\n",
       "      <th>...</th>\n",
       "      <td>...</td>\n",
       "      <td>...</td>\n",
       "    </tr>\n",
       "    <tr>\n",
       "      <th>288</th>\n",
       "      <td>2020-11-05</td>\n",
       "      <td>117655.0</td>\n",
       "    </tr>\n",
       "    <tr>\n",
       "      <th>289</th>\n",
       "      <td>2020-11-06</td>\n",
       "      <td>132276.0</td>\n",
       "    </tr>\n",
       "    <tr>\n",
       "      <th>290</th>\n",
       "      <td>2020-11-07</td>\n",
       "      <td>112610.0</td>\n",
       "    </tr>\n",
       "    <tr>\n",
       "      <th>291</th>\n",
       "      <td>2020-11-08</td>\n",
       "      <td>103701.0</td>\n",
       "    </tr>\n",
       "    <tr>\n",
       "      <th>292</th>\n",
       "      <td>2020-11-09</td>\n",
       "      <td>127172.0</td>\n",
       "    </tr>\n",
       "  </tbody>\n",
       "</table>\n",
       "<p>293 rows × 2 columns</p>\n",
       "</div>"
      ],
      "text/plain": [
       "          Date     Cases\n",
       "0   2020-01-22       0.0\n",
       "1   2020-01-23       0.0\n",
       "2   2020-01-24       1.0\n",
       "3   2020-01-25       0.0\n",
       "4   2020-01-26       3.0\n",
       "..         ...       ...\n",
       "288 2020-11-05  117655.0\n",
       "289 2020-11-06  132276.0\n",
       "290 2020-11-07  112610.0\n",
       "291 2020-11-08  103701.0\n",
       "292 2020-11-09  127172.0\n",
       "\n",
       "[293 rows x 2 columns]"
      ]
     },
     "execution_count": 67,
     "metadata": {},
     "output_type": "execute_result"
    }
   ],
   "source": [
    "united_states_cases=united_states_cases.reset_index().rename(columns={'index':'Date', 0:'Cases'})\n",
    "united_states_cases"
   ]
  },
  {
   "cell_type": "code",
   "execution_count": 73,
   "metadata": {},
   "outputs": [
    {
     "data": {
      "application/vnd.plotly.v1+json": {
       "config": {
        "plotlyServerURL": "https://plot.ly"
       },
       "data": [
        {
         "line": {
          "color": "rgb(31, 119, 180)",
          "width": 2
         },
         "mode": "markers",
         "name": "Cases",
         "opacity": 0.65,
         "type": "scatter",
         "x": [
          0,
          1,
          2,
          3,
          4,
          5,
          6,
          7,
          8,
          9,
          10,
          11,
          12,
          13,
          14,
          15,
          16,
          17,
          18,
          19,
          20,
          21,
          22,
          23,
          24,
          25,
          26,
          27,
          28,
          29,
          30,
          31,
          32,
          33,
          34,
          35,
          36,
          37,
          38,
          39,
          40,
          41,
          42,
          43,
          44,
          45,
          46,
          47,
          48,
          49,
          50,
          51,
          52,
          53,
          54,
          55,
          56,
          57,
          58,
          59,
          60,
          61,
          62,
          63,
          64,
          65,
          66,
          67,
          68,
          69,
          70,
          71,
          72,
          73,
          74,
          75,
          76,
          77,
          78,
          79,
          80,
          81,
          82,
          83,
          84,
          85,
          86,
          87,
          88,
          89,
          90,
          91,
          92,
          93,
          94,
          95,
          96,
          97,
          98,
          99,
          100,
          101,
          102,
          103,
          104,
          105,
          106,
          107,
          108,
          109,
          110,
          111,
          112,
          113,
          114,
          115,
          116,
          117,
          118,
          119,
          120,
          121,
          122,
          123,
          124,
          125,
          126,
          127,
          128,
          129,
          130,
          131,
          132,
          133,
          134,
          135,
          136,
          137,
          138,
          139,
          140,
          141,
          142,
          143,
          144,
          145,
          146,
          147,
          148,
          149,
          150,
          151,
          152,
          153,
          154,
          155,
          156,
          157,
          158,
          159,
          160,
          161,
          162,
          163,
          164,
          165,
          166,
          167,
          168,
          169,
          170,
          171,
          172,
          173,
          174,
          175,
          176,
          177,
          178,
          179,
          180,
          181,
          182,
          183,
          184,
          185,
          186,
          187,
          188,
          189,
          190,
          191,
          192,
          193,
          194,
          195,
          196,
          197,
          198,
          199,
          200,
          201,
          202,
          203,
          204,
          205,
          206,
          207,
          208,
          209,
          210,
          211,
          212,
          213,
          214,
          215,
          216,
          217,
          218,
          219,
          220,
          221,
          222,
          223,
          224,
          225,
          226,
          227,
          228,
          229,
          230,
          231,
          232,
          233,
          234,
          235,
          236,
          237,
          238,
          239,
          240,
          241,
          242,
          243,
          244,
          245,
          246,
          247,
          248,
          249,
          250,
          251,
          252,
          253,
          254,
          255,
          256,
          257,
          258,
          259,
          260,
          261,
          262,
          263,
          264,
          265,
          266,
          267,
          268,
          269,
          270,
          271,
          272,
          273,
          274,
          275,
          276,
          277,
          278,
          279,
          280,
          281,
          282,
          283,
          284,
          285,
          286,
          287,
          288,
          289,
          290,
          291,
          292
         ],
         "y": [
          0,
          0,
          1,
          0,
          3,
          1,
          0,
          1,
          0,
          1,
          1,
          0,
          2,
          0,
          0,
          0,
          0,
          0,
          0,
          0,
          1,
          0,
          1,
          0,
          0,
          0,
          0,
          1,
          0,
          0,
          3,
          0,
          0,
          1,
          0,
          2,
          1,
          2,
          11,
          6,
          22,
          19,
          35,
          66,
          49,
          145,
          116,
          259,
          275,
          229,
          387,
          529,
          733,
          566,
          909,
          1775,
          2755,
          4864,
          4889,
          7219,
          7135,
          9737,
          9935,
          14189,
          16122,
          16443,
          19644,
          17667,
          20924,
          23287,
          24586,
          28312,
          35550,
          33256,
          25696,
          29917,
          31683,
          33012,
          33573,
          33426,
          30597,
          26835,
          24633,
          25878,
          30276,
          32584,
          30912,
          27676,
          25589,
          26358,
          25325,
          28604,
          31299,
          37256,
          33632,
          25280,
          22863,
          24227,
          27875,
          28895,
          33441,
          29599,
          24563,
          21850,
          23427,
          24281,
          27221,
          27034,
          25394,
          19369,
          19219,
          21288,
          21028,
          26424,
          24635,
          24121,
          17920,
          20933,
          20599,
          22543,
          25542,
          23599,
          21836,
          20288,
          19464,
          17832,
          18458,
          22451,
          24817,
          22515,
          19461,
          21281,
          19289,
          19633,
          21811,
          28078,
          22901,
          17886,
          17757,
          18546,
          20464,
          22264,
          25635,
          25135,
          20081,
          18723,
          25048,
          24140,
          27305,
          31192,
          30493,
          27074,
          29835,
          35014,
          35225,
          38499,
          45881,
          41642,
          38198,
          38708,
          47289,
          48951,
          54365,
          54155,
          45019,
          41131,
          53499,
          55311,
          56998,
          61300,
          69162,
          59632,
          56739,
          55166,
          66936,
          64996,
          79974,
          67516,
          65443,
          59866,
          58412,
          66656,
          67014,
          68156,
          73070,
          64165,
          53966,
          57083,
          63911,
          65354,
          70376,
          66042,
          60621,
          41861,
          49708,
          52425,
          53487,
          56343,
          60973,
          51836,
          47694,
          42335,
          56603,
          52918,
          51648,
          57352,
          50142,
          37976,
          40244,
          41337,
          45092,
          43689,
          49405,
          45302,
          31749,
          36946,
          38371,
          45792,
          45807,
          44915,
          42948,
          33477,
          35585,
          42987,
          39839,
          42782,
          49380,
          43949,
          30971,
          25778,
          23255,
          34739,
          36867,
          46047,
          38645,
          34720,
          33874,
          41108,
          40524,
          43870,
          48507,
          42667,
          34595,
          37264,
          49758,
          39059,
          42194,
          57207,
          46166,
          34604,
          32202,
          37134,
          45561,
          46887,
          48277,
          51811,
          35527,
          37071,
          40867,
          49897,
          56452,
          56721,
          54093,
          43191,
          42553,
          50383,
          59676,
          66676,
          63730,
          59993,
          46978,
          56778,
          60112,
          62516,
          77365,
          82828,
          70945,
          62897,
          68068,
          71009,
          78233,
          88819,
          96263,
          73389,
          82789,
          85621,
          91790,
          107428,
          117655,
          132276,
          112610,
          103701,
          127172
         ]
        },
        {
         "line": {
          "color": "rgb(31, 119, 180)",
          "width": 2
         },
         "name": "Regression Fit",
         "opacity": 0.65,
         "type": "scatter",
         "x": [
          0,
          2.9494949494949494,
          5.898989898989899,
          8.848484848484848,
          11.797979797979798,
          14.747474747474747,
          17.696969696969695,
          20.646464646464647,
          23.595959595959595,
          26.545454545454543,
          29.494949494949495,
          32.44444444444444,
          35.39393939393939,
          38.34343434343434,
          41.292929292929294,
          44.24242424242424,
          47.19191919191919,
          50.14141414141414,
          53.090909090909086,
          56.04040404040404,
          58.98989898989899,
          61.93939393939394,
          64.88888888888889,
          67.83838383838383,
          70.78787878787878,
          73.73737373737373,
          76.68686868686868,
          79.63636363636364,
          82.58585858585859,
          85.53535353535354,
          88.48484848484848,
          91.43434343434343,
          94.38383838383838,
          97.33333333333333,
          100.28282828282828,
          103.23232323232322,
          106.18181818181817,
          109.13131313131312,
          112.08080808080808,
          115.03030303030303,
          117.97979797979798,
          120.92929292929293,
          123.87878787878788,
          126.82828282828282,
          129.77777777777777,
          132.72727272727272,
          135.67676767676767,
          138.62626262626262,
          141.57575757575756,
          144.5252525252525,
          147.47474747474746,
          150.4242424242424,
          153.37373737373736,
          156.3232323232323,
          159.27272727272728,
          162.22222222222223,
          165.17171717171718,
          168.12121212121212,
          171.07070707070707,
          174.02020202020202,
          176.96969696969697,
          179.91919191919192,
          182.86868686868686,
          185.8181818181818,
          188.76767676767676,
          191.7171717171717,
          194.66666666666666,
          197.6161616161616,
          200.56565656565655,
          203.5151515151515,
          206.46464646464645,
          209.4141414141414,
          212.36363636363635,
          215.3131313131313,
          218.26262626262624,
          221.21212121212122,
          224.16161616161617,
          227.11111111111111,
          230.06060606060606,
          233.010101010101,
          235.95959595959596,
          238.9090909090909,
          241.85858585858585,
          244.8080808080808,
          247.75757575757575,
          250.7070707070707,
          253.65656565656565,
          256.6060606060606,
          259.55555555555554,
          262.5050505050505,
          265.45454545454544,
          268.4040404040404,
          271.35353535353534,
          274.3030303030303,
          277.25252525252523,
          280.2020202020202,
          283.1515151515151,
          286.1010101010101,
          289.050505050505,
          292
         ],
         "y": [
          -3055.8409138399365,
          -2307.721260807558,
          -1559.6016077751794,
          -811.481954742801,
          -63.362301710422344,
          684.7573513219563,
          1432.8770043543345,
          2180.996657386714,
          2929.116310419092,
          3677.2359634514705,
          4425.355616483849,
          5173.475269516228,
          5921.594922548606,
          6669.714575580983,
          7417.834228613365,
          8165.9538816457425,
          8914.07353467812,
          9662.193187710498,
          10410.312840742878,
          11158.432493775257,
          11906.552146807635,
          12654.671799840013,
          13402.791452872392,
          14150.911105904768,
          14899.030758937148,
          15647.150411969527,
          16395.270065001903,
          17143.389718034286,
          17891.509371066666,
          18639.629024099042,
          19387.74867713142,
          20135.868330163798,
          20883.987983196177,
          21632.107636228557,
          22380.227289260933,
          23128.346942293312,
          23876.46659532569,
          24624.586248358068,
          25372.70590139045,
          26120.825554422827,
          26868.945207455206,
          27617.064860487586,
          28365.184513519962,
          29113.30416655234,
          29861.42381958472,
          30609.5434726171,
          31357.663125649473,
          32105.782778681853,
          32853.90243171423,
          33602.02208474661,
          34350.14173777899,
          35098.26139081137,
          35846.38104384374,
          36594.50069687612,
          37342.62034990851,
          38090.74000294089,
          38838.85965597327,
          39586.97930900564,
          40335.09896203802,
          41083.2186150704,
          41831.33826810278,
          42579.45792113516,
          43327.57757416753,
          44075.69722719991,
          44823.81688023229,
          45571.93653326467,
          46320.05618629705,
          47068.17583932943,
          47816.2954923618,
          48564.41514539418,
          49312.53479842656,
          50060.65445145894,
          50808.77410449132,
          51556.89375752369,
          52305.01341055607,
          53053.13306358846,
          53801.25271662084,
          54549.37236965322,
          55297.49202268559,
          56045.61167571797,
          56793.73132875035,
          57541.85098178273,
          58289.97063481511,
          59038.09028784749,
          59786.20994087986,
          60534.32959391224,
          61282.44924694462,
          62030.56889997701,
          62778.68855300938,
          63526.80820604176,
          64274.92785907414,
          65023.04751210652,
          65771.16716513888,
          66519.28681817127,
          67267.40647120363,
          68015.52612423603,
          68763.6457772684,
          69511.76543030079,
          70259.88508333315,
          71008.00473636555
         ]
        }
       ],
       "layout": {
        "template": {
         "data": {
          "bar": [
           {
            "error_x": {
             "color": "#2a3f5f"
            },
            "error_y": {
             "color": "#2a3f5f"
            },
            "marker": {
             "line": {
              "color": "#E5ECF6",
              "width": 0.5
             }
            },
            "type": "bar"
           }
          ],
          "barpolar": [
           {
            "marker": {
             "line": {
              "color": "#E5ECF6",
              "width": 0.5
             }
            },
            "type": "barpolar"
           }
          ],
          "carpet": [
           {
            "aaxis": {
             "endlinecolor": "#2a3f5f",
             "gridcolor": "white",
             "linecolor": "white",
             "minorgridcolor": "white",
             "startlinecolor": "#2a3f5f"
            },
            "baxis": {
             "endlinecolor": "#2a3f5f",
             "gridcolor": "white",
             "linecolor": "white",
             "minorgridcolor": "white",
             "startlinecolor": "#2a3f5f"
            },
            "type": "carpet"
           }
          ],
          "choropleth": [
           {
            "colorbar": {
             "outlinewidth": 0,
             "ticks": ""
            },
            "type": "choropleth"
           }
          ],
          "contour": [
           {
            "colorbar": {
             "outlinewidth": 0,
             "ticks": ""
            },
            "colorscale": [
             [
              0,
              "#0d0887"
             ],
             [
              0.1111111111111111,
              "#46039f"
             ],
             [
              0.2222222222222222,
              "#7201a8"
             ],
             [
              0.3333333333333333,
              "#9c179e"
             ],
             [
              0.4444444444444444,
              "#bd3786"
             ],
             [
              0.5555555555555556,
              "#d8576b"
             ],
             [
              0.6666666666666666,
              "#ed7953"
             ],
             [
              0.7777777777777778,
              "#fb9f3a"
             ],
             [
              0.8888888888888888,
              "#fdca26"
             ],
             [
              1,
              "#f0f921"
             ]
            ],
            "type": "contour"
           }
          ],
          "contourcarpet": [
           {
            "colorbar": {
             "outlinewidth": 0,
             "ticks": ""
            },
            "type": "contourcarpet"
           }
          ],
          "heatmap": [
           {
            "colorbar": {
             "outlinewidth": 0,
             "ticks": ""
            },
            "colorscale": [
             [
              0,
              "#0d0887"
             ],
             [
              0.1111111111111111,
              "#46039f"
             ],
             [
              0.2222222222222222,
              "#7201a8"
             ],
             [
              0.3333333333333333,
              "#9c179e"
             ],
             [
              0.4444444444444444,
              "#bd3786"
             ],
             [
              0.5555555555555556,
              "#d8576b"
             ],
             [
              0.6666666666666666,
              "#ed7953"
             ],
             [
              0.7777777777777778,
              "#fb9f3a"
             ],
             [
              0.8888888888888888,
              "#fdca26"
             ],
             [
              1,
              "#f0f921"
             ]
            ],
            "type": "heatmap"
           }
          ],
          "heatmapgl": [
           {
            "colorbar": {
             "outlinewidth": 0,
             "ticks": ""
            },
            "colorscale": [
             [
              0,
              "#0d0887"
             ],
             [
              0.1111111111111111,
              "#46039f"
             ],
             [
              0.2222222222222222,
              "#7201a8"
             ],
             [
              0.3333333333333333,
              "#9c179e"
             ],
             [
              0.4444444444444444,
              "#bd3786"
             ],
             [
              0.5555555555555556,
              "#d8576b"
             ],
             [
              0.6666666666666666,
              "#ed7953"
             ],
             [
              0.7777777777777778,
              "#fb9f3a"
             ],
             [
              0.8888888888888888,
              "#fdca26"
             ],
             [
              1,
              "#f0f921"
             ]
            ],
            "type": "heatmapgl"
           }
          ],
          "histogram": [
           {
            "marker": {
             "colorbar": {
              "outlinewidth": 0,
              "ticks": ""
             }
            },
            "type": "histogram"
           }
          ],
          "histogram2d": [
           {
            "colorbar": {
             "outlinewidth": 0,
             "ticks": ""
            },
            "colorscale": [
             [
              0,
              "#0d0887"
             ],
             [
              0.1111111111111111,
              "#46039f"
             ],
             [
              0.2222222222222222,
              "#7201a8"
             ],
             [
              0.3333333333333333,
              "#9c179e"
             ],
             [
              0.4444444444444444,
              "#bd3786"
             ],
             [
              0.5555555555555556,
              "#d8576b"
             ],
             [
              0.6666666666666666,
              "#ed7953"
             ],
             [
              0.7777777777777778,
              "#fb9f3a"
             ],
             [
              0.8888888888888888,
              "#fdca26"
             ],
             [
              1,
              "#f0f921"
             ]
            ],
            "type": "histogram2d"
           }
          ],
          "histogram2dcontour": [
           {
            "colorbar": {
             "outlinewidth": 0,
             "ticks": ""
            },
            "colorscale": [
             [
              0,
              "#0d0887"
             ],
             [
              0.1111111111111111,
              "#46039f"
             ],
             [
              0.2222222222222222,
              "#7201a8"
             ],
             [
              0.3333333333333333,
              "#9c179e"
             ],
             [
              0.4444444444444444,
              "#bd3786"
             ],
             [
              0.5555555555555556,
              "#d8576b"
             ],
             [
              0.6666666666666666,
              "#ed7953"
             ],
             [
              0.7777777777777778,
              "#fb9f3a"
             ],
             [
              0.8888888888888888,
              "#fdca26"
             ],
             [
              1,
              "#f0f921"
             ]
            ],
            "type": "histogram2dcontour"
           }
          ],
          "mesh3d": [
           {
            "colorbar": {
             "outlinewidth": 0,
             "ticks": ""
            },
            "type": "mesh3d"
           }
          ],
          "parcoords": [
           {
            "line": {
             "colorbar": {
              "outlinewidth": 0,
              "ticks": ""
             }
            },
            "type": "parcoords"
           }
          ],
          "pie": [
           {
            "automargin": true,
            "type": "pie"
           }
          ],
          "scatter": [
           {
            "marker": {
             "colorbar": {
              "outlinewidth": 0,
              "ticks": ""
             }
            },
            "type": "scatter"
           }
          ],
          "scatter3d": [
           {
            "line": {
             "colorbar": {
              "outlinewidth": 0,
              "ticks": ""
             }
            },
            "marker": {
             "colorbar": {
              "outlinewidth": 0,
              "ticks": ""
             }
            },
            "type": "scatter3d"
           }
          ],
          "scattercarpet": [
           {
            "marker": {
             "colorbar": {
              "outlinewidth": 0,
              "ticks": ""
             }
            },
            "type": "scattercarpet"
           }
          ],
          "scattergeo": [
           {
            "marker": {
             "colorbar": {
              "outlinewidth": 0,
              "ticks": ""
             }
            },
            "type": "scattergeo"
           }
          ],
          "scattergl": [
           {
            "marker": {
             "colorbar": {
              "outlinewidth": 0,
              "ticks": ""
             }
            },
            "type": "scattergl"
           }
          ],
          "scattermapbox": [
           {
            "marker": {
             "colorbar": {
              "outlinewidth": 0,
              "ticks": ""
             }
            },
            "type": "scattermapbox"
           }
          ],
          "scatterpolar": [
           {
            "marker": {
             "colorbar": {
              "outlinewidth": 0,
              "ticks": ""
             }
            },
            "type": "scatterpolar"
           }
          ],
          "scatterpolargl": [
           {
            "marker": {
             "colorbar": {
              "outlinewidth": 0,
              "ticks": ""
             }
            },
            "type": "scatterpolargl"
           }
          ],
          "scatterternary": [
           {
            "marker": {
             "colorbar": {
              "outlinewidth": 0,
              "ticks": ""
             }
            },
            "type": "scatterternary"
           }
          ],
          "surface": [
           {
            "colorbar": {
             "outlinewidth": 0,
             "ticks": ""
            },
            "colorscale": [
             [
              0,
              "#0d0887"
             ],
             [
              0.1111111111111111,
              "#46039f"
             ],
             [
              0.2222222222222222,
              "#7201a8"
             ],
             [
              0.3333333333333333,
              "#9c179e"
             ],
             [
              0.4444444444444444,
              "#bd3786"
             ],
             [
              0.5555555555555556,
              "#d8576b"
             ],
             [
              0.6666666666666666,
              "#ed7953"
             ],
             [
              0.7777777777777778,
              "#fb9f3a"
             ],
             [
              0.8888888888888888,
              "#fdca26"
             ],
             [
              1,
              "#f0f921"
             ]
            ],
            "type": "surface"
           }
          ],
          "table": [
           {
            "cells": {
             "fill": {
              "color": "#EBF0F8"
             },
             "line": {
              "color": "white"
             }
            },
            "header": {
             "fill": {
              "color": "#C8D4E3"
             },
             "line": {
              "color": "white"
             }
            },
            "type": "table"
           }
          ]
         },
         "layout": {
          "annotationdefaults": {
           "arrowcolor": "#2a3f5f",
           "arrowhead": 0,
           "arrowwidth": 1
          },
          "coloraxis": {
           "colorbar": {
            "outlinewidth": 0,
            "ticks": ""
           }
          },
          "colorscale": {
           "diverging": [
            [
             0,
             "#8e0152"
            ],
            [
             0.1,
             "#c51b7d"
            ],
            [
             0.2,
             "#de77ae"
            ],
            [
             0.3,
             "#f1b6da"
            ],
            [
             0.4,
             "#fde0ef"
            ],
            [
             0.5,
             "#f7f7f7"
            ],
            [
             0.6,
             "#e6f5d0"
            ],
            [
             0.7,
             "#b8e186"
            ],
            [
             0.8,
             "#7fbc41"
            ],
            [
             0.9,
             "#4d9221"
            ],
            [
             1,
             "#276419"
            ]
           ],
           "sequential": [
            [
             0,
             "#0d0887"
            ],
            [
             0.1111111111111111,
             "#46039f"
            ],
            [
             0.2222222222222222,
             "#7201a8"
            ],
            [
             0.3333333333333333,
             "#9c179e"
            ],
            [
             0.4444444444444444,
             "#bd3786"
            ],
            [
             0.5555555555555556,
             "#d8576b"
            ],
            [
             0.6666666666666666,
             "#ed7953"
            ],
            [
             0.7777777777777778,
             "#fb9f3a"
            ],
            [
             0.8888888888888888,
             "#fdca26"
            ],
            [
             1,
             "#f0f921"
            ]
           ],
           "sequentialminus": [
            [
             0,
             "#0d0887"
            ],
            [
             0.1111111111111111,
             "#46039f"
            ],
            [
             0.2222222222222222,
             "#7201a8"
            ],
            [
             0.3333333333333333,
             "#9c179e"
            ],
            [
             0.4444444444444444,
             "#bd3786"
            ],
            [
             0.5555555555555556,
             "#d8576b"
            ],
            [
             0.6666666666666666,
             "#ed7953"
            ],
            [
             0.7777777777777778,
             "#fb9f3a"
            ],
            [
             0.8888888888888888,
             "#fdca26"
            ],
            [
             1,
             "#f0f921"
            ]
           ]
          },
          "colorway": [
           "#636efa",
           "#EF553B",
           "#00cc96",
           "#ab63fa",
           "#FFA15A",
           "#19d3f3",
           "#FF6692",
           "#B6E880",
           "#FF97FF",
           "#FECB52"
          ],
          "font": {
           "color": "#2a3f5f"
          },
          "geo": {
           "bgcolor": "white",
           "lakecolor": "white",
           "landcolor": "#E5ECF6",
           "showlakes": true,
           "showland": true,
           "subunitcolor": "white"
          },
          "hoverlabel": {
           "align": "left"
          },
          "hovermode": "closest",
          "mapbox": {
           "style": "light"
          },
          "paper_bgcolor": "white",
          "plot_bgcolor": "#E5ECF6",
          "polar": {
           "angularaxis": {
            "gridcolor": "white",
            "linecolor": "white",
            "ticks": ""
           },
           "bgcolor": "#E5ECF6",
           "radialaxis": {
            "gridcolor": "white",
            "linecolor": "white",
            "ticks": ""
           }
          },
          "scene": {
           "xaxis": {
            "backgroundcolor": "#E5ECF6",
            "gridcolor": "white",
            "gridwidth": 2,
            "linecolor": "white",
            "showbackground": true,
            "ticks": "",
            "zerolinecolor": "white"
           },
           "yaxis": {
            "backgroundcolor": "#E5ECF6",
            "gridcolor": "white",
            "gridwidth": 2,
            "linecolor": "white",
            "showbackground": true,
            "ticks": "",
            "zerolinecolor": "white"
           },
           "zaxis": {
            "backgroundcolor": "#E5ECF6",
            "gridcolor": "white",
            "gridwidth": 2,
            "linecolor": "white",
            "showbackground": true,
            "ticks": "",
            "zerolinecolor": "white"
           }
          },
          "shapedefaults": {
           "line": {
            "color": "#2a3f5f"
           }
          },
          "ternary": {
           "aaxis": {
            "gridcolor": "white",
            "linecolor": "white",
            "ticks": ""
           },
           "baxis": {
            "gridcolor": "white",
            "linecolor": "white",
            "ticks": ""
           },
           "bgcolor": "#E5ECF6",
           "caxis": {
            "gridcolor": "white",
            "linecolor": "white",
            "ticks": ""
           }
          },
          "title": {
           "x": 0.05
          },
          "xaxis": {
           "automargin": true,
           "gridcolor": "white",
           "linecolor": "white",
           "ticks": "",
           "title": {
            "standoff": 15
           },
           "zerolinecolor": "white",
           "zerolinewidth": 2
          },
          "yaxis": {
           "automargin": true,
           "gridcolor": "white",
           "linecolor": "white",
           "ticks": "",
           "title": {
            "standoff": 15
           },
           "zerolinecolor": "white",
           "zerolinewidth": 2
          }
         }
        },
        "xaxis": {
         "ticktext": [
          "2020-01-22T00:00:00",
          "2020-03-02T00:00:00",
          "2020-04-11T00:00:00",
          "2020-05-21T00:00:00",
          "2020-06-30T00:00:00",
          "2020-08-09T00:00:00",
          "2020-09-18T00:00:00",
          "2020-10-28T00:00:00"
         ],
         "tickvals": [
          0,
          40,
          80,
          120,
          160,
          200,
          240,
          280
         ]
        }
       }
      },
      "text/html": [
       "<div>                            <div id=\"0a79d65a-1d19-4256-9f93-88c3703a2970\" class=\"plotly-graph-div\" style=\"height:525px; width:100%;\"></div>            <script type=\"text/javascript\">                require([\"plotly\"], function(Plotly) {                    window.PLOTLYENV=window.PLOTLYENV || {};                                    if (document.getElementById(\"0a79d65a-1d19-4256-9f93-88c3703a2970\")) {                    Plotly.newPlot(                        \"0a79d65a-1d19-4256-9f93-88c3703a2970\",                        [{\"line\": {\"color\": \"rgb(31, 119, 180)\", \"width\": 2}, \"mode\": \"markers\", \"name\": \"Cases\", \"opacity\": 0.65, \"type\": \"scatter\", \"x\": [0, 1, 2, 3, 4, 5, 6, 7, 8, 9, 10, 11, 12, 13, 14, 15, 16, 17, 18, 19, 20, 21, 22, 23, 24, 25, 26, 27, 28, 29, 30, 31, 32, 33, 34, 35, 36, 37, 38, 39, 40, 41, 42, 43, 44, 45, 46, 47, 48, 49, 50, 51, 52, 53, 54, 55, 56, 57, 58, 59, 60, 61, 62, 63, 64, 65, 66, 67, 68, 69, 70, 71, 72, 73, 74, 75, 76, 77, 78, 79, 80, 81, 82, 83, 84, 85, 86, 87, 88, 89, 90, 91, 92, 93, 94, 95, 96, 97, 98, 99, 100, 101, 102, 103, 104, 105, 106, 107, 108, 109, 110, 111, 112, 113, 114, 115, 116, 117, 118, 119, 120, 121, 122, 123, 124, 125, 126, 127, 128, 129, 130, 131, 132, 133, 134, 135, 136, 137, 138, 139, 140, 141, 142, 143, 144, 145, 146, 147, 148, 149, 150, 151, 152, 153, 154, 155, 156, 157, 158, 159, 160, 161, 162, 163, 164, 165, 166, 167, 168, 169, 170, 171, 172, 173, 174, 175, 176, 177, 178, 179, 180, 181, 182, 183, 184, 185, 186, 187, 188, 189, 190, 191, 192, 193, 194, 195, 196, 197, 198, 199, 200, 201, 202, 203, 204, 205, 206, 207, 208, 209, 210, 211, 212, 213, 214, 215, 216, 217, 218, 219, 220, 221, 222, 223, 224, 225, 226, 227, 228, 229, 230, 231, 232, 233, 234, 235, 236, 237, 238, 239, 240, 241, 242, 243, 244, 245, 246, 247, 248, 249, 250, 251, 252, 253, 254, 255, 256, 257, 258, 259, 260, 261, 262, 263, 264, 265, 266, 267, 268, 269, 270, 271, 272, 273, 274, 275, 276, 277, 278, 279, 280, 281, 282, 283, 284, 285, 286, 287, 288, 289, 290, 291, 292], \"y\": [0.0, 0.0, 1.0, 0.0, 3.0, 1.0, 0.0, 1.0, 0.0, 1.0, 1.0, 0.0, 2.0, 0.0, 0.0, 0.0, 0.0, 0.0, 0.0, 0.0, 1.0, 0.0, 1.0, 0.0, 0.0, 0.0, 0.0, 1.0, 0.0, 0.0, 3.0, 0.0, 0.0, 1.0, 0.0, 2.0, 1.0, 2.0, 11.0, 6.0, 22.0, 19.0, 35.0, 66.0, 49.0, 145.0, 116.0, 259.0, 275.0, 229.0, 387.0, 529.0, 733.0, 566.0, 909.0, 1775.0, 2755.0, 4864.0, 4889.0, 7219.0, 7135.0, 9737.0, 9935.0, 14189.0, 16122.0, 16443.0, 19644.0, 17667.0, 20924.0, 23287.0, 24586.0, 28312.0, 35550.0, 33256.0, 25696.0, 29917.0, 31683.0, 33012.0, 33573.0, 33426.0, 30597.0, 26835.0, 24633.0, 25878.0, 30276.0, 32584.0, 30912.0, 27676.0, 25589.0, 26358.0, 25325.0, 28604.0, 31299.0, 37256.0, 33632.0, 25280.0, 22863.0, 24227.0, 27875.0, 28895.0, 33441.0, 29599.0, 24563.0, 21850.0, 23427.0, 24281.0, 27221.0, 27034.0, 25394.0, 19369.0, 19219.0, 21288.0, 21028.0, 26424.0, 24635.0, 24121.0, 17920.0, 20933.0, 20599.0, 22543.0, 25542.0, 23599.0, 21836.0, 20288.0, 19464.0, 17832.0, 18458.0, 22451.0, 24817.0, 22515.0, 19461.0, 21281.0, 19289.0, 19633.0, 21811.0, 28078.0, 22901.0, 17886.0, 17757.0, 18546.0, 20464.0, 22264.0, 25635.0, 25135.0, 20081.0, 18723.0, 25048.0, 24140.0, 27305.0, 31192.0, 30493.0, 27074.0, 29835.0, 35014.0, 35225.0, 38499.0, 45881.0, 41642.0, 38198.0, 38708.0, 47289.0, 48951.0, 54365.0, 54155.0, 45019.0, 41131.0, 53499.0, 55311.0, 56998.0, 61300.0, 69162.0, 59632.0, 56739.0, 55166.0, 66936.0, 64996.0, 79974.0, 67516.0, 65443.0, 59866.0, 58412.0, 66656.0, 67014.0, 68156.0, 73070.0, 64165.0, 53966.0, 57083.0, 63911.0, 65354.0, 70376.0, 66042.0, 60621.0, 41861.0, 49708.0, 52425.0, 53487.0, 56343.0, 60973.0, 51836.0, 47694.0, 42335.0, 56603.0, 52918.0, 51648.0, 57352.0, 50142.0, 37976.0, 40244.0, 41337.0, 45092.0, 43689.0, 49405.0, 45302.0, 31749.0, 36946.0, 38371.0, 45792.0, 45807.0, 44915.0, 42948.0, 33477.0, 35585.0, 42987.0, 39839.0, 42782.0, 49380.0, 43949.0, 30971.0, 25778.0, 23255.0, 34739.0, 36867.0, 46047.0, 38645.0, 34720.0, 33874.0, 41108.0, 40524.0, 43870.0, 48507.0, 42667.0, 34595.0, 37264.0, 49758.0, 39059.0, 42194.0, 57207.0, 46166.0, 34604.0, 32202.0, 37134.0, 45561.0, 46887.0, 48277.0, 51811.0, 35527.0, 37071.0, 40867.0, 49897.0, 56452.0, 56721.0, 54093.0, 43191.0, 42553.0, 50383.0, 59676.0, 66676.0, 63730.0, 59993.0, 46978.0, 56778.0, 60112.0, 62516.0, 77365.0, 82828.0, 70945.0, 62897.0, 68068.0, 71009.0, 78233.0, 88819.0, 96263.0, 73389.0, 82789.0, 85621.0, 91790.0, 107428.0, 117655.0, 132276.0, 112610.0, 103701.0, 127172.0]}, {\"line\": {\"color\": \"rgb(31, 119, 180)\", \"width\": 2}, \"name\": \"Regression Fit\", \"opacity\": 0.65, \"type\": \"scatter\", \"x\": [0.0, 2.9494949494949494, 5.898989898989899, 8.848484848484848, 11.797979797979798, 14.747474747474747, 17.696969696969695, 20.646464646464647, 23.595959595959595, 26.545454545454543, 29.494949494949495, 32.44444444444444, 35.39393939393939, 38.34343434343434, 41.292929292929294, 44.24242424242424, 47.19191919191919, 50.14141414141414, 53.090909090909086, 56.04040404040404, 58.98989898989899, 61.93939393939394, 64.88888888888889, 67.83838383838383, 70.78787878787878, 73.73737373737373, 76.68686868686868, 79.63636363636364, 82.58585858585859, 85.53535353535354, 88.48484848484848, 91.43434343434343, 94.38383838383838, 97.33333333333333, 100.28282828282828, 103.23232323232322, 106.18181818181817, 109.13131313131312, 112.08080808080808, 115.03030303030303, 117.97979797979798, 120.92929292929293, 123.87878787878788, 126.82828282828282, 129.77777777777777, 132.72727272727272, 135.67676767676767, 138.62626262626262, 141.57575757575756, 144.5252525252525, 147.47474747474746, 150.4242424242424, 153.37373737373736, 156.3232323232323, 159.27272727272728, 162.22222222222223, 165.17171717171718, 168.12121212121212, 171.07070707070707, 174.02020202020202, 176.96969696969697, 179.91919191919192, 182.86868686868686, 185.8181818181818, 188.76767676767676, 191.7171717171717, 194.66666666666666, 197.6161616161616, 200.56565656565655, 203.5151515151515, 206.46464646464645, 209.4141414141414, 212.36363636363635, 215.3131313131313, 218.26262626262624, 221.21212121212122, 224.16161616161617, 227.11111111111111, 230.06060606060606, 233.010101010101, 235.95959595959596, 238.9090909090909, 241.85858585858585, 244.8080808080808, 247.75757575757575, 250.7070707070707, 253.65656565656565, 256.6060606060606, 259.55555555555554, 262.5050505050505, 265.45454545454544, 268.4040404040404, 271.35353535353534, 274.3030303030303, 277.25252525252523, 280.2020202020202, 283.1515151515151, 286.1010101010101, 289.050505050505, 292.0], \"y\": [-3055.8409138399365, -2307.721260807558, -1559.6016077751794, -811.481954742801, -63.362301710422344, 684.7573513219563, 1432.8770043543345, 2180.996657386714, 2929.116310419092, 3677.2359634514705, 4425.355616483849, 5173.475269516228, 5921.594922548606, 6669.714575580983, 7417.834228613365, 8165.9538816457425, 8914.07353467812, 9662.193187710498, 10410.312840742878, 11158.432493775257, 11906.552146807635, 12654.671799840013, 13402.791452872392, 14150.911105904768, 14899.030758937148, 15647.150411969527, 16395.270065001903, 17143.389718034286, 17891.509371066666, 18639.629024099042, 19387.74867713142, 20135.868330163798, 20883.987983196177, 21632.107636228557, 22380.227289260933, 23128.346942293312, 23876.46659532569, 24624.586248358068, 25372.70590139045, 26120.825554422827, 26868.945207455206, 27617.064860487586, 28365.184513519962, 29113.30416655234, 29861.42381958472, 30609.5434726171, 31357.663125649473, 32105.782778681853, 32853.90243171423, 33602.02208474661, 34350.14173777899, 35098.26139081137, 35846.38104384374, 36594.50069687612, 37342.62034990851, 38090.74000294089, 38838.85965597327, 39586.97930900564, 40335.09896203802, 41083.2186150704, 41831.33826810278, 42579.45792113516, 43327.57757416753, 44075.69722719991, 44823.81688023229, 45571.93653326467, 46320.05618629705, 47068.17583932943, 47816.2954923618, 48564.41514539418, 49312.53479842656, 50060.65445145894, 50808.77410449132, 51556.89375752369, 52305.01341055607, 53053.13306358846, 53801.25271662084, 54549.37236965322, 55297.49202268559, 56045.61167571797, 56793.73132875035, 57541.85098178273, 58289.97063481511, 59038.09028784749, 59786.20994087986, 60534.32959391224, 61282.44924694462, 62030.56889997701, 62778.68855300938, 63526.80820604176, 64274.92785907414, 65023.04751210652, 65771.16716513888, 66519.28681817127, 67267.40647120363, 68015.52612423603, 68763.6457772684, 69511.76543030079, 70259.88508333315, 71008.00473636555]}],                        {\"template\": {\"data\": {\"bar\": [{\"error_x\": {\"color\": \"#2a3f5f\"}, \"error_y\": {\"color\": \"#2a3f5f\"}, \"marker\": {\"line\": {\"color\": \"#E5ECF6\", \"width\": 0.5}}, \"type\": \"bar\"}], \"barpolar\": [{\"marker\": {\"line\": {\"color\": \"#E5ECF6\", \"width\": 0.5}}, \"type\": \"barpolar\"}], \"carpet\": [{\"aaxis\": {\"endlinecolor\": \"#2a3f5f\", \"gridcolor\": \"white\", \"linecolor\": \"white\", \"minorgridcolor\": \"white\", \"startlinecolor\": \"#2a3f5f\"}, \"baxis\": {\"endlinecolor\": \"#2a3f5f\", \"gridcolor\": \"white\", \"linecolor\": \"white\", \"minorgridcolor\": \"white\", \"startlinecolor\": \"#2a3f5f\"}, \"type\": \"carpet\"}], \"choropleth\": [{\"colorbar\": {\"outlinewidth\": 0, \"ticks\": \"\"}, \"type\": \"choropleth\"}], \"contour\": [{\"colorbar\": {\"outlinewidth\": 0, \"ticks\": \"\"}, \"colorscale\": [[0.0, \"#0d0887\"], [0.1111111111111111, \"#46039f\"], [0.2222222222222222, \"#7201a8\"], [0.3333333333333333, \"#9c179e\"], [0.4444444444444444, \"#bd3786\"], [0.5555555555555556, \"#d8576b\"], [0.6666666666666666, \"#ed7953\"], [0.7777777777777778, \"#fb9f3a\"], [0.8888888888888888, \"#fdca26\"], [1.0, \"#f0f921\"]], \"type\": \"contour\"}], \"contourcarpet\": [{\"colorbar\": {\"outlinewidth\": 0, \"ticks\": \"\"}, \"type\": \"contourcarpet\"}], \"heatmap\": [{\"colorbar\": {\"outlinewidth\": 0, \"ticks\": \"\"}, \"colorscale\": [[0.0, \"#0d0887\"], [0.1111111111111111, \"#46039f\"], [0.2222222222222222, \"#7201a8\"], [0.3333333333333333, \"#9c179e\"], [0.4444444444444444, \"#bd3786\"], [0.5555555555555556, \"#d8576b\"], [0.6666666666666666, \"#ed7953\"], [0.7777777777777778, \"#fb9f3a\"], [0.8888888888888888, \"#fdca26\"], [1.0, \"#f0f921\"]], \"type\": \"heatmap\"}], \"heatmapgl\": [{\"colorbar\": {\"outlinewidth\": 0, \"ticks\": \"\"}, \"colorscale\": [[0.0, \"#0d0887\"], [0.1111111111111111, \"#46039f\"], [0.2222222222222222, \"#7201a8\"], [0.3333333333333333, \"#9c179e\"], [0.4444444444444444, \"#bd3786\"], [0.5555555555555556, \"#d8576b\"], [0.6666666666666666, \"#ed7953\"], [0.7777777777777778, \"#fb9f3a\"], [0.8888888888888888, \"#fdca26\"], [1.0, \"#f0f921\"]], \"type\": \"heatmapgl\"}], \"histogram\": [{\"marker\": {\"colorbar\": {\"outlinewidth\": 0, \"ticks\": \"\"}}, \"type\": \"histogram\"}], \"histogram2d\": [{\"colorbar\": {\"outlinewidth\": 0, \"ticks\": \"\"}, \"colorscale\": [[0.0, \"#0d0887\"], [0.1111111111111111, \"#46039f\"], [0.2222222222222222, \"#7201a8\"], [0.3333333333333333, \"#9c179e\"], [0.4444444444444444, \"#bd3786\"], [0.5555555555555556, \"#d8576b\"], [0.6666666666666666, \"#ed7953\"], [0.7777777777777778, \"#fb9f3a\"], [0.8888888888888888, \"#fdca26\"], [1.0, \"#f0f921\"]], \"type\": \"histogram2d\"}], \"histogram2dcontour\": [{\"colorbar\": {\"outlinewidth\": 0, \"ticks\": \"\"}, \"colorscale\": [[0.0, \"#0d0887\"], [0.1111111111111111, \"#46039f\"], [0.2222222222222222, \"#7201a8\"], [0.3333333333333333, \"#9c179e\"], [0.4444444444444444, \"#bd3786\"], [0.5555555555555556, \"#d8576b\"], [0.6666666666666666, \"#ed7953\"], [0.7777777777777778, \"#fb9f3a\"], [0.8888888888888888, \"#fdca26\"], [1.0, \"#f0f921\"]], \"type\": \"histogram2dcontour\"}], \"mesh3d\": [{\"colorbar\": {\"outlinewidth\": 0, \"ticks\": \"\"}, \"type\": \"mesh3d\"}], \"parcoords\": [{\"line\": {\"colorbar\": {\"outlinewidth\": 0, \"ticks\": \"\"}}, \"type\": \"parcoords\"}], \"pie\": [{\"automargin\": true, \"type\": \"pie\"}], \"scatter\": [{\"marker\": {\"colorbar\": {\"outlinewidth\": 0, \"ticks\": \"\"}}, \"type\": \"scatter\"}], \"scatter3d\": [{\"line\": {\"colorbar\": {\"outlinewidth\": 0, \"ticks\": \"\"}}, \"marker\": {\"colorbar\": {\"outlinewidth\": 0, \"ticks\": \"\"}}, \"type\": \"scatter3d\"}], \"scattercarpet\": [{\"marker\": {\"colorbar\": {\"outlinewidth\": 0, \"ticks\": \"\"}}, \"type\": \"scattercarpet\"}], \"scattergeo\": [{\"marker\": {\"colorbar\": {\"outlinewidth\": 0, \"ticks\": \"\"}}, \"type\": \"scattergeo\"}], \"scattergl\": [{\"marker\": {\"colorbar\": {\"outlinewidth\": 0, \"ticks\": \"\"}}, \"type\": \"scattergl\"}], \"scattermapbox\": [{\"marker\": {\"colorbar\": {\"outlinewidth\": 0, \"ticks\": \"\"}}, \"type\": \"scattermapbox\"}], \"scatterpolar\": [{\"marker\": {\"colorbar\": {\"outlinewidth\": 0, \"ticks\": \"\"}}, \"type\": \"scatterpolar\"}], \"scatterpolargl\": [{\"marker\": {\"colorbar\": {\"outlinewidth\": 0, \"ticks\": \"\"}}, \"type\": \"scatterpolargl\"}], \"scatterternary\": [{\"marker\": {\"colorbar\": {\"outlinewidth\": 0, \"ticks\": \"\"}}, \"type\": \"scatterternary\"}], \"surface\": [{\"colorbar\": {\"outlinewidth\": 0, \"ticks\": \"\"}, \"colorscale\": [[0.0, \"#0d0887\"], [0.1111111111111111, \"#46039f\"], [0.2222222222222222, \"#7201a8\"], [0.3333333333333333, \"#9c179e\"], [0.4444444444444444, \"#bd3786\"], [0.5555555555555556, \"#d8576b\"], [0.6666666666666666, \"#ed7953\"], [0.7777777777777778, \"#fb9f3a\"], [0.8888888888888888, \"#fdca26\"], [1.0, \"#f0f921\"]], \"type\": \"surface\"}], \"table\": [{\"cells\": {\"fill\": {\"color\": \"#EBF0F8\"}, \"line\": {\"color\": \"white\"}}, \"header\": {\"fill\": {\"color\": \"#C8D4E3\"}, \"line\": {\"color\": \"white\"}}, \"type\": \"table\"}]}, \"layout\": {\"annotationdefaults\": {\"arrowcolor\": \"#2a3f5f\", \"arrowhead\": 0, \"arrowwidth\": 1}, \"coloraxis\": {\"colorbar\": {\"outlinewidth\": 0, \"ticks\": \"\"}}, \"colorscale\": {\"diverging\": [[0, \"#8e0152\"], [0.1, \"#c51b7d\"], [0.2, \"#de77ae\"], [0.3, \"#f1b6da\"], [0.4, \"#fde0ef\"], [0.5, \"#f7f7f7\"], [0.6, \"#e6f5d0\"], [0.7, \"#b8e186\"], [0.8, \"#7fbc41\"], [0.9, \"#4d9221\"], [1, \"#276419\"]], \"sequential\": [[0.0, \"#0d0887\"], [0.1111111111111111, \"#46039f\"], [0.2222222222222222, \"#7201a8\"], [0.3333333333333333, \"#9c179e\"], [0.4444444444444444, \"#bd3786\"], [0.5555555555555556, \"#d8576b\"], [0.6666666666666666, \"#ed7953\"], [0.7777777777777778, \"#fb9f3a\"], [0.8888888888888888, \"#fdca26\"], [1.0, \"#f0f921\"]], \"sequentialminus\": [[0.0, \"#0d0887\"], [0.1111111111111111, \"#46039f\"], [0.2222222222222222, \"#7201a8\"], [0.3333333333333333, \"#9c179e\"], [0.4444444444444444, \"#bd3786\"], [0.5555555555555556, \"#d8576b\"], [0.6666666666666666, \"#ed7953\"], [0.7777777777777778, \"#fb9f3a\"], [0.8888888888888888, \"#fdca26\"], [1.0, \"#f0f921\"]]}, \"colorway\": [\"#636efa\", \"#EF553B\", \"#00cc96\", \"#ab63fa\", \"#FFA15A\", \"#19d3f3\", \"#FF6692\", \"#B6E880\", \"#FF97FF\", \"#FECB52\"], \"font\": {\"color\": \"#2a3f5f\"}, \"geo\": {\"bgcolor\": \"white\", \"lakecolor\": \"white\", \"landcolor\": \"#E5ECF6\", \"showlakes\": true, \"showland\": true, \"subunitcolor\": \"white\"}, \"hoverlabel\": {\"align\": \"left\"}, \"hovermode\": \"closest\", \"mapbox\": {\"style\": \"light\"}, \"paper_bgcolor\": \"white\", \"plot_bgcolor\": \"#E5ECF6\", \"polar\": {\"angularaxis\": {\"gridcolor\": \"white\", \"linecolor\": \"white\", \"ticks\": \"\"}, \"bgcolor\": \"#E5ECF6\", \"radialaxis\": {\"gridcolor\": \"white\", \"linecolor\": \"white\", \"ticks\": \"\"}}, \"scene\": {\"xaxis\": {\"backgroundcolor\": \"#E5ECF6\", \"gridcolor\": \"white\", \"gridwidth\": 2, \"linecolor\": \"white\", \"showbackground\": true, \"ticks\": \"\", \"zerolinecolor\": \"white\"}, \"yaxis\": {\"backgroundcolor\": \"#E5ECF6\", \"gridcolor\": \"white\", \"gridwidth\": 2, \"linecolor\": \"white\", \"showbackground\": true, \"ticks\": \"\", \"zerolinecolor\": \"white\"}, \"zaxis\": {\"backgroundcolor\": \"#E5ECF6\", \"gridcolor\": \"white\", \"gridwidth\": 2, \"linecolor\": \"white\", \"showbackground\": true, \"ticks\": \"\", \"zerolinecolor\": \"white\"}}, \"shapedefaults\": {\"line\": {\"color\": \"#2a3f5f\"}}, \"ternary\": {\"aaxis\": {\"gridcolor\": \"white\", \"linecolor\": \"white\", \"ticks\": \"\"}, \"baxis\": {\"gridcolor\": \"white\", \"linecolor\": \"white\", \"ticks\": \"\"}, \"bgcolor\": \"#E5ECF6\", \"caxis\": {\"gridcolor\": \"white\", \"linecolor\": \"white\", \"ticks\": \"\"}}, \"title\": {\"x\": 0.05}, \"xaxis\": {\"automargin\": true, \"gridcolor\": \"white\", \"linecolor\": \"white\", \"ticks\": \"\", \"title\": {\"standoff\": 15}, \"zerolinecolor\": \"white\", \"zerolinewidth\": 2}, \"yaxis\": {\"automargin\": true, \"gridcolor\": \"white\", \"linecolor\": \"white\", \"ticks\": \"\", \"title\": {\"standoff\": 15}, \"zerolinecolor\": \"white\", \"zerolinewidth\": 2}}}, \"xaxis\": {\"ticktext\": [\"2020-01-22T00:00:00\", \"2020-03-02T00:00:00\", \"2020-04-11T00:00:00\", \"2020-05-21T00:00:00\", \"2020-06-30T00:00:00\", \"2020-08-09T00:00:00\", \"2020-09-18T00:00:00\", \"2020-10-28T00:00:00\"], \"tickvals\": [0, 40, 80, 120, 160, 200, 240, 280]}},                        {\"responsive\": true}                    ).then(function(){\n",
       "                            \n",
       "var gd = document.getElementById('0a79d65a-1d19-4256-9f93-88c3703a2970');\n",
       "var x = new MutationObserver(function (mutations, observer) {{\n",
       "        var display = window.getComputedStyle(gd).display;\n",
       "        if (!display || display === 'none') {{\n",
       "            console.log([gd, 'removed!']);\n",
       "            Plotly.purge(gd);\n",
       "            observer.disconnect();\n",
       "        }}\n",
       "}});\n",
       "\n",
       "// Listen for the removal of the full notebook cells\n",
       "var notebookContainer = gd.closest('#notebook-container');\n",
       "if (notebookContainer) {{\n",
       "    x.observe(notebookContainer, {childList: true});\n",
       "}}\n",
       "\n",
       "// Listen for the clearing of the current output cell\n",
       "var outputEl = gd.closest('.output');\n",
       "if (outputEl) {{\n",
       "    x.observe(outputEl, {childList: true});\n",
       "}}\n",
       "\n",
       "                        })                };                });            </script>        </div>"
      ]
     },
     "metadata": {},
     "output_type": "display_data"
    }
   ],
   "source": [
    "df = united_states_cases\n",
    "X = united_states_cases.index.values.reshape(-1, 1)\n",
    "\n",
    "model = LinearRegression()\n",
    "model.fit(X, df.Cases)\n",
    "\n",
    "x_range = np.linspace(X.min(), X.max(), 100)\n",
    "y_range = model.predict(x_range.reshape(-1, 1))\n",
    "\n",
    "fig = go.Figure()\n",
    "cols = plotly.colors.DEFAULT_PLOTLY_COLORS\n",
    "\n",
    "fig.add_trace(\n",
    "    go.Scatter(\n",
    "        x=df.index,\n",
    "        y=df['Cases'],\n",
    "        opacity=0.65,\n",
    "        name=\"Cases\",\n",
    "        mode=\"markers\",\n",
    "        line=dict(width=2, color=cols[0]),\n",
    "    ))\n",
    "fig.add_trace(\n",
    "    go.Scatter(\n",
    "        x=x_range,\n",
    "        y=y_range,\n",
    "        opacity=0.65,\n",
    "        name='Regression Fit',\n",
    "        line=dict(width=2, color=cols[0]),\n",
    "    ))\n",
    "# Set custom x-axis labels\n",
    "fig.update_xaxes(\n",
    "    tickvals=df.index[0::40],\n",
    "    ticktext=df['Date'][0::40],\n",
    ")\n",
    "fig.show()"
   ]
  },
  {
   "cell_type": "code",
   "execution_count": 75,
   "metadata": {},
   "outputs": [
    {
     "name": "stdout",
     "output_type": "stream",
     "text": [
      "40089.40391163356\n"
     ]
    }
   ],
   "source": [
    "from sklearn.metrics import mean_squared_error \n",
    "import math\n",
    "mse = mean_squared_error(x_range, y_range)\n",
    "\n",
    "rmse = math.sqrt(mse)\n",
    "print(rmse)"
   ]
  },
  {
   "cell_type": "code",
   "execution_count": null,
   "metadata": {},
   "outputs": [],
   "source": [
    "X = united_states_cases.values.reshape(-1, 1)\n",
    "Y = united_states_cases.index.values\n",
    "\n",
    "fig = px.scatter(united_states_cases,\n",
    "                 x=index,\n",
    "                 y=0,\n",
    "                 opacity=0.65,\n",
    "                 trendline=\"ols\")\n",
    "\n",
    "# Set custom x-axis labels\n",
    "fig.update_xaxes(\n",
    "    ticktext=united_states_cases.index[0::40],\n",
    "    tickvals=index[0::40],\n",
    ")\n",
    "fig"
   ]
  },
  {
   "cell_type": "markdown",
   "metadata": {},
   "source": [
    "## Non-Linear regression models for predicting cases and deaths in US."
   ]
  },
  {
   "cell_type": "code",
   "execution_count": 74,
   "metadata": {},
   "outputs": [
    {
     "data": {
      "application/vnd.plotly.v1+json": {
       "config": {
        "plotlyServerURL": "https://plot.ly"
       },
       "data": [
        {
         "hovertemplate": "index=%{x}<br>Cases=%{y}<extra></extra>",
         "legendgroup": "",
         "marker": {
          "color": "#636efa",
          "opacity": 0.65,
          "symbol": "circle"
         },
         "mode": "markers",
         "name": "",
         "orientation": "v",
         "showlegend": false,
         "type": "scatter",
         "x": [
          0,
          1,
          2,
          3,
          4,
          5,
          6,
          7,
          8,
          9,
          10,
          11,
          12,
          13,
          14,
          15,
          16,
          17,
          18,
          19,
          20,
          21,
          22,
          23,
          24,
          25,
          26,
          27,
          28,
          29,
          30,
          31,
          32,
          33,
          34,
          35,
          36,
          37,
          38,
          39,
          40,
          41,
          42,
          43,
          44,
          45,
          46,
          47,
          48,
          49,
          50,
          51,
          52,
          53,
          54,
          55,
          56,
          57,
          58,
          59,
          60,
          61,
          62,
          63,
          64,
          65,
          66,
          67,
          68,
          69,
          70,
          71,
          72,
          73,
          74,
          75,
          76,
          77,
          78,
          79,
          80,
          81,
          82,
          83,
          84,
          85,
          86,
          87,
          88,
          89,
          90,
          91,
          92,
          93,
          94,
          95,
          96,
          97,
          98,
          99,
          100,
          101,
          102,
          103,
          104,
          105,
          106,
          107,
          108,
          109,
          110,
          111,
          112,
          113,
          114,
          115,
          116,
          117,
          118,
          119,
          120,
          121,
          122,
          123,
          124,
          125,
          126,
          127,
          128,
          129,
          130,
          131,
          132,
          133,
          134,
          135,
          136,
          137,
          138,
          139,
          140,
          141,
          142,
          143,
          144,
          145,
          146,
          147,
          148,
          149,
          150,
          151,
          152,
          153,
          154,
          155,
          156,
          157,
          158,
          159,
          160,
          161,
          162,
          163,
          164,
          165,
          166,
          167,
          168,
          169,
          170,
          171,
          172,
          173,
          174,
          175,
          176,
          177,
          178,
          179,
          180,
          181,
          182,
          183,
          184,
          185,
          186,
          187,
          188,
          189,
          190,
          191,
          192,
          193,
          194,
          195,
          196,
          197,
          198,
          199,
          200,
          201,
          202,
          203,
          204,
          205,
          206,
          207,
          208,
          209,
          210,
          211,
          212,
          213,
          214,
          215,
          216,
          217,
          218,
          219,
          220,
          221,
          222,
          223,
          224,
          225,
          226,
          227,
          228,
          229,
          230,
          231,
          232,
          233,
          234,
          235,
          236,
          237,
          238,
          239,
          240,
          241,
          242,
          243,
          244,
          245,
          246,
          247,
          248,
          249,
          250,
          251,
          252,
          253,
          254,
          255,
          256,
          257,
          258,
          259,
          260,
          261,
          262,
          263,
          264,
          265,
          266,
          267,
          268,
          269,
          270,
          271,
          272,
          273,
          274,
          275,
          276,
          277,
          278,
          279,
          280,
          281,
          282,
          283,
          284,
          285,
          286,
          287,
          288,
          289,
          290,
          291,
          292
         ],
         "xaxis": "x",
         "y": [
          0,
          0,
          1,
          0,
          3,
          1,
          0,
          1,
          0,
          1,
          1,
          0,
          2,
          0,
          0,
          0,
          0,
          0,
          0,
          0,
          1,
          0,
          1,
          0,
          0,
          0,
          0,
          1,
          0,
          0,
          3,
          0,
          0,
          1,
          0,
          2,
          1,
          2,
          11,
          6,
          22,
          19,
          35,
          66,
          49,
          145,
          116,
          259,
          275,
          229,
          387,
          529,
          733,
          566,
          909,
          1775,
          2755,
          4864,
          4889,
          7219,
          7135,
          9737,
          9935,
          14189,
          16122,
          16443,
          19644,
          17667,
          20924,
          23287,
          24586,
          28312,
          35550,
          33256,
          25696,
          29917,
          31683,
          33012,
          33573,
          33426,
          30597,
          26835,
          24633,
          25878,
          30276,
          32584,
          30912,
          27676,
          25589,
          26358,
          25325,
          28604,
          31299,
          37256,
          33632,
          25280,
          22863,
          24227,
          27875,
          28895,
          33441,
          29599,
          24563,
          21850,
          23427,
          24281,
          27221,
          27034,
          25394,
          19369,
          19219,
          21288,
          21028,
          26424,
          24635,
          24121,
          17920,
          20933,
          20599,
          22543,
          25542,
          23599,
          21836,
          20288,
          19464,
          17832,
          18458,
          22451,
          24817,
          22515,
          19461,
          21281,
          19289,
          19633,
          21811,
          28078,
          22901,
          17886,
          17757,
          18546,
          20464,
          22264,
          25635,
          25135,
          20081,
          18723,
          25048,
          24140,
          27305,
          31192,
          30493,
          27074,
          29835,
          35014,
          35225,
          38499,
          45881,
          41642,
          38198,
          38708,
          47289,
          48951,
          54365,
          54155,
          45019,
          41131,
          53499,
          55311,
          56998,
          61300,
          69162,
          59632,
          56739,
          55166,
          66936,
          64996,
          79974,
          67516,
          65443,
          59866,
          58412,
          66656,
          67014,
          68156,
          73070,
          64165,
          53966,
          57083,
          63911,
          65354,
          70376,
          66042,
          60621,
          41861,
          49708,
          52425,
          53487,
          56343,
          60973,
          51836,
          47694,
          42335,
          56603,
          52918,
          51648,
          57352,
          50142,
          37976,
          40244,
          41337,
          45092,
          43689,
          49405,
          45302,
          31749,
          36946,
          38371,
          45792,
          45807,
          44915,
          42948,
          33477,
          35585,
          42987,
          39839,
          42782,
          49380,
          43949,
          30971,
          25778,
          23255,
          34739,
          36867,
          46047,
          38645,
          34720,
          33874,
          41108,
          40524,
          43870,
          48507,
          42667,
          34595,
          37264,
          49758,
          39059,
          42194,
          57207,
          46166,
          34604,
          32202,
          37134,
          45561,
          46887,
          48277,
          51811,
          35527,
          37071,
          40867,
          49897,
          56452,
          56721,
          54093,
          43191,
          42553,
          50383,
          59676,
          66676,
          63730,
          59993,
          46978,
          56778,
          60112,
          62516,
          77365,
          82828,
          70945,
          62897,
          68068,
          71009,
          78233,
          88819,
          96263,
          73389,
          82789,
          85621,
          91790,
          107428,
          117655,
          132276,
          112610,
          103701,
          127172
         ],
         "yaxis": "y"
        },
        {
         "name": "$-3055.84 + 253.64x$",
         "type": "scatter",
         "x": [
          0,
          2.9494949494949494,
          5.898989898989899,
          8.848484848484848,
          11.797979797979798,
          14.747474747474747,
          17.696969696969695,
          20.646464646464647,
          23.595959595959595,
          26.545454545454543,
          29.494949494949495,
          32.44444444444444,
          35.39393939393939,
          38.34343434343434,
          41.292929292929294,
          44.24242424242424,
          47.19191919191919,
          50.14141414141414,
          53.090909090909086,
          56.04040404040404,
          58.98989898989899,
          61.93939393939394,
          64.88888888888889,
          67.83838383838383,
          70.78787878787878,
          73.73737373737373,
          76.68686868686868,
          79.63636363636364,
          82.58585858585859,
          85.53535353535354,
          88.48484848484848,
          91.43434343434343,
          94.38383838383838,
          97.33333333333333,
          100.28282828282828,
          103.23232323232322,
          106.18181818181817,
          109.13131313131312,
          112.08080808080808,
          115.03030303030303,
          117.97979797979798,
          120.92929292929293,
          123.87878787878788,
          126.82828282828282,
          129.77777777777777,
          132.72727272727272,
          135.67676767676767,
          138.62626262626262,
          141.57575757575756,
          144.5252525252525,
          147.47474747474746,
          150.4242424242424,
          153.37373737373736,
          156.3232323232323,
          159.27272727272728,
          162.22222222222223,
          165.17171717171718,
          168.12121212121212,
          171.07070707070707,
          174.02020202020202,
          176.96969696969697,
          179.91919191919192,
          182.86868686868686,
          185.8181818181818,
          188.76767676767676,
          191.7171717171717,
          194.66666666666666,
          197.6161616161616,
          200.56565656565655,
          203.5151515151515,
          206.46464646464645,
          209.4141414141414,
          212.36363636363635,
          215.3131313131313,
          218.26262626262624,
          221.21212121212122,
          224.16161616161617,
          227.11111111111111,
          230.06060606060606,
          233.010101010101,
          235.95959595959596,
          238.9090909090909,
          241.85858585858585,
          244.8080808080808,
          247.75757575757575,
          250.7070707070707,
          253.65656565656565,
          256.6060606060606,
          259.55555555555554,
          262.5050505050505,
          265.45454545454544,
          268.4040404040404,
          271.35353535353534,
          274.3030303030303,
          277.25252525252523,
          280.2020202020202,
          283.1515151515151,
          286.1010101010101,
          289.050505050505,
          292
         ],
         "y": [
          -3055.8409138399265,
          -2307.7212608075483,
          -1559.60160777517,
          -811.4819547427919,
          -63.36230171041325,
          684.757351321965,
          1432.8770043543427,
          2180.9966573867223,
          2929.1163104191,
          3677.235963451478,
          4425.3556164838565,
          5173.475269516234,
          5921.594922548612,
          6669.714575580992,
          7417.834228613371,
          8165.953881645749,
          8914.073534678126,
          9662.193187710505,
          10410.312840742881,
          11158.43249377526,
          11906.55214680764,
          12654.671799840016,
          13402.791452872396,
          14150.911105904775,
          14899.030758937151,
          15647.150411969531,
          16395.27006500191,
          17143.38971803429,
          17891.50937106667,
          18639.629024099046,
          19387.748677131425,
          20135.8683301638,
          20883.98798319618,
          21632.107636228557,
          22380.227289260936,
          23128.346942293316,
          23876.46659532569,
          24624.58624835807,
          25372.70590139045,
          26120.82555442283,
          26868.945207455206,
          27617.064860487586,
          28365.184513519962,
          29113.30416655234,
          29861.423819584717,
          30609.543472617097,
          31357.663125649477,
          32105.782778681856,
          32853.902431714225,
          33602.022084746604,
          34350.141737778984,
          35098.26139081136,
          35846.38104384374,
          36594.500696876115,
          37342.6203499085,
          38090.74000294088,
          38838.85965597326,
          39586.979309005634,
          40335.09896203801,
          41083.21861507039,
          41831.33826810277,
          42579.45792113515,
          43327.577574167524,
          44075.697227199904,
          44823.81688023228,
          45571.93653326466,
          46320.056186297035,
          47068.175839329415,
          47816.295492361794,
          48564.415145394174,
          49312.53479842655,
          50060.654451458926,
          50808.774104491305,
          51556.893757523685,
          52305.013410556065,
          53053.133063588444,
          53801.252716620824,
          54549.3723696532,
          55297.49202268558,
          56045.61167571796,
          56793.731328750335,
          57541.850981782714,
          58289.970634815094,
          59038.09028784747,
          59786.209940879846,
          60534.329593912225,
          61282.449246944605,
          62030.56889997699,
          62778.68855300936,
          63526.80820604175,
          64274.927859074116,
          65023.047512106496,
          65771.16716513888,
          66519.28681817125,
          67267.40647120363,
          68015.52612423601,
          68763.64577726838,
          69511.76543030077,
          70259.88508333314,
          71008.00473636553
         ]
        },
        {
         "name": "$-3293.57 + 258.54x - 0.02x^2$",
         "type": "scatter",
         "x": [
          0,
          2.9494949494949494,
          5.898989898989899,
          8.848484848484848,
          11.797979797979798,
          14.747474747474747,
          17.696969696969695,
          20.646464646464647,
          23.595959595959595,
          26.545454545454543,
          29.494949494949495,
          32.44444444444444,
          35.39393939393939,
          38.34343434343434,
          41.292929292929294,
          44.24242424242424,
          47.19191919191919,
          50.14141414141414,
          53.090909090909086,
          56.04040404040404,
          58.98989898989899,
          61.93939393939394,
          64.88888888888889,
          67.83838383838383,
          70.78787878787878,
          73.73737373737373,
          76.68686868686868,
          79.63636363636364,
          82.58585858585859,
          85.53535353535354,
          88.48484848484848,
          91.43434343434343,
          94.38383838383838,
          97.33333333333333,
          100.28282828282828,
          103.23232323232322,
          106.18181818181817,
          109.13131313131312,
          112.08080808080808,
          115.03030303030303,
          117.97979797979798,
          120.92929292929293,
          123.87878787878788,
          126.82828282828282,
          129.77777777777777,
          132.72727272727272,
          135.67676767676767,
          138.62626262626262,
          141.57575757575756,
          144.5252525252525,
          147.47474747474746,
          150.4242424242424,
          153.37373737373736,
          156.3232323232323,
          159.27272727272728,
          162.22222222222223,
          165.17171717171718,
          168.12121212121212,
          171.07070707070707,
          174.02020202020202,
          176.96969696969697,
          179.91919191919192,
          182.86868686868686,
          185.8181818181818,
          188.76767676767676,
          191.7171717171717,
          194.66666666666666,
          197.6161616161616,
          200.56565656565655,
          203.5151515151515,
          206.46464646464645,
          209.4141414141414,
          212.36363636363635,
          215.3131313131313,
          218.26262626262624,
          221.21212121212122,
          224.16161616161617,
          227.11111111111111,
          230.06060606060606,
          233.010101010101,
          235.95959595959596,
          238.9090909090909,
          241.85858585858585,
          244.8080808080808,
          247.75757575757575,
          250.7070707070707,
          253.65656565656565,
          256.6060606060606,
          259.55555555555554,
          262.5050505050505,
          265.45454545454544,
          268.4040404040404,
          271.35353535353534,
          274.3030303030303,
          277.25252525252523,
          280.2020202020202,
          283.1515151515151,
          286.1010101010101,
          289.050505050505,
          292
         ],
         "y": [
          -3293.565194091217,
          -2531.134529235757,
          -1768.9959258460744,
          -1007.1493839221699,
          -245.59490346404363,
          515.6675155283052,
          1276.6378730548756,
          2037.316169115669,
          2797.7024037106826,
          3557.7965768399195,
          4317.598688503378,
          5077.108738701058,
          5836.326727432962,
          6595.252654699086,
          7353.886520499435,
          8112.228324834004,
          8870.278067702793,
          9628.035749105808,
          10385.501369043042,
          11142.674927514501,
          11899.55642452018,
          12656.14586006008,
          13412.443234134204,
          14168.448546742551,
          14924.161797885117,
          15679.582987561907,
          16434.712115772916,
          17189.549182518153,
          17944.09418779761,
          18698.34713161129,
          19452.308013959188,
          20205.97683484131,
          20959.353594257653,
          21712.438292208222,
          22465.230928693007,
          23217.731503712017,
          23969.94001726525,
          24721.8564693527,
          25473.480859974385,
          26224.81318913028,
          26975.8534568204,
          27726.60166304474,
          28477.057807803307,
          29227.221891096095,
          29977.0939129231,
          30726.673873284333,
          31475.961772179788,
          32224.95760960946,
          32973.66138557336,
          33722.07310007147,
          34470.19275310382,
          35218.02034467039,
          35965.55587477117,
          36712.79934340618,
          37459.75075057541,
          38206.410096278865,
          38952.77738051654,
          39698.852603288426,
          40444.635764594546,
          41190.12686443488,
          41935.32590280945,
          42680.232879718234,
          43424.84779516124,
          44169.17064913847,
          44913.201441649915,
          45656.940172695584,
          46400.38684227548,
          47143.541450389595,
          47886.40399703794,
          48628.97448222049,
          49371.252905937276,
          50113.239268188285,
          50854.9335689735,
          51596.335808292955,
          52337.445986146624,
          53078.26410253452,
          53818.79015745664,
          54559.02415091297,
          55298.966082903535,
          56038.61595342831,
          56777.973762487316,
          57517.03951008054,
          58255.813196207986,
          58994.294820869654,
          59732.484384065545,
          60470.38188579566,
          61207.98732606,
          61945.300704858564,
          62682.32202219132,
          63419.05127805834,
          64155.488472459554,
          64891.633605395,
          65627.48667686466,
          66363.04768686855,
          67098.31663540666,
          67833.293522479,
          68567.97834808555,
          69302.37111222633,
          70036.47181490132,
          70770.28045611056
         ]
        },
        {
         "name": "$-12922.14 + 657.65x - 3.44x^2 + 0.01x^3$",
         "type": "scatter",
         "x": [
          0,
          2.9494949494949494,
          5.898989898989899,
          8.848484848484848,
          11.797979797979798,
          14.747474747474747,
          17.696969696969695,
          20.646464646464647,
          23.595959595959595,
          26.545454545454543,
          29.494949494949495,
          32.44444444444444,
          35.39393939393939,
          38.34343434343434,
          41.292929292929294,
          44.24242424242424,
          47.19191919191919,
          50.14141414141414,
          53.090909090909086,
          56.04040404040404,
          58.98989898989899,
          61.93939393939394,
          64.88888888888889,
          67.83838383838383,
          70.78787878787878,
          73.73737373737373,
          76.68686868686868,
          79.63636363636364,
          82.58585858585859,
          85.53535353535354,
          88.48484848484848,
          91.43434343434343,
          94.38383838383838,
          97.33333333333333,
          100.28282828282828,
          103.23232323232322,
          106.18181818181817,
          109.13131313131312,
          112.08080808080808,
          115.03030303030303,
          117.97979797979798,
          120.92929292929293,
          123.87878787878788,
          126.82828282828282,
          129.77777777777777,
          132.72727272727272,
          135.67676767676767,
          138.62626262626262,
          141.57575757575756,
          144.5252525252525,
          147.47474747474746,
          150.4242424242424,
          153.37373737373736,
          156.3232323232323,
          159.27272727272728,
          162.22222222222223,
          165.17171717171718,
          168.12121212121212,
          171.07070707070707,
          174.02020202020202,
          176.96969696969697,
          179.91919191919192,
          182.86868686868686,
          185.8181818181818,
          188.76767676767676,
          191.7171717171717,
          194.66666666666666,
          197.6161616161616,
          200.56565656565655,
          203.5151515151515,
          206.46464646464645,
          209.4141414141414,
          212.36363636363635,
          215.3131313131313,
          218.26262626262624,
          221.21212121212122,
          224.16161616161617,
          227.11111111111111,
          230.06060606060606,
          233.010101010101,
          235.95959595959596,
          238.9090909090909,
          241.85858585858585,
          244.8080808080808,
          247.75757575757575,
          250.7070707070707,
          253.65656565656565,
          256.6060606060606,
          259.55555555555554,
          262.5050505050505,
          265.45454545454544,
          268.4040404040404,
          271.35353535353534,
          274.3030303030303,
          277.25252525252523,
          280.2020202020202,
          283.1515151515151,
          286.1010101010101,
          289.050505050505,
          292
         ],
         "y": [
          -12922.139155498733,
          -11012.112817786288,
          -9160.7303187157,
          -7366.788528860664,
          -5629.084318794872,
          -3946.4145590920175,
          -2317.5761203257957,
          -741.3658730698974,
          783.4193121019812,
          2257.9825646161466,
          3683.5270138989144,
          5061.255789376577,
          6392.372020475451,
          7678.078836621837,
          8919.57936724205,
          10118.076741762385,
          11274.774089609156,
          12390.874540208673,
          13467.581222987228,
          14506.097267371151,
          15507.62580278673,
          16473.36995866027,
          17404.53286441809,
          18302.317649486497,
          19167.927443291785,
          20002.56537526026,
          20807.434574818246,
          21583.73817139204,
          22332.67929440795,
          23055.461073292277,
          23753.286637471327,
          24427.359116371415,
          25078.881639418843,
          25709.05733603992,
          26319.089335660956,
          26910.180767708247,
          27483.534761608087,
          28040.35444678682,
          28581.84295267074,
          29109.20340868614,
          29623.638944259335,
          30126.352688816616,
          30618.547771784317,
          31101.42732258873,
          31576.194470656163,
          32044.052345412914,
          32506.204076285314,
          32963.85279269965,
          33418.20162408222,
          33870.45369985934,
          34321.81214945733,
          34773.48010230249,
          35226.66068782112,
          35682.55703543954,
          36142.37227458402,
          36607.30953468092,
          37078.57194515651,
          37557.36263543709,
          38044.88473494902,
          38542.341373118536,
          39050.93567937198,
          39571.87078313566,
          40106.349813835885,
          40655.57590089894,
          41220.752173751156,
          41803.08176181886,
          42403.76779452831,
          43024.01340130583,
          43665.02171157772,
          44327.99585477027,
          45014.13896030988,
          45724.65415762273,
          46460.744576135185,
          47223.613345273596,
          48014.46359446419,
          48834.49845313332,
          49684.9210507073,
          50566.93451661241,
          51481.741980274935,
          52430.54657112123,
          53414.55141857761,
          54434.959652070334,
          55492.9744010257,
          56589.798794870076,
          57726.63596302972,
          58904.68903493098,
          60125.16114000011,
          61389.25540766347,
          62698.174967347324,
          64053.122948478005,
          65455.3024804818,
          66905.91669278502,
          68406.16871481398,
          69957.26167599505,
          71560.39870575437,
          73216.7829335184,
          74927.61748871335,
          76694.10550076561,
          78517.45009910144,
          80398.8544131472
         ]
        },
        {
         "name": "$6605.76 - 700.78x + 17.58x^2 - 0.1x^3 + 0.0x^4$",
         "type": "scatter",
         "x": [
          0,
          2.9494949494949494,
          5.898989898989899,
          8.848484848484848,
          11.797979797979798,
          14.747474747474747,
          17.696969696969695,
          20.646464646464647,
          23.595959595959595,
          26.545454545454543,
          29.494949494949495,
          32.44444444444444,
          35.39393939393939,
          38.34343434343434,
          41.292929292929294,
          44.24242424242424,
          47.19191919191919,
          50.14141414141414,
          53.090909090909086,
          56.04040404040404,
          58.98989898989899,
          61.93939393939394,
          64.88888888888889,
          67.83838383838383,
          70.78787878787878,
          73.73737373737373,
          76.68686868686868,
          79.63636363636364,
          82.58585858585859,
          85.53535353535354,
          88.48484848484848,
          91.43434343434343,
          94.38383838383838,
          97.33333333333333,
          100.28282828282828,
          103.23232323232322,
          106.18181818181817,
          109.13131313131312,
          112.08080808080808,
          115.03030303030303,
          117.97979797979798,
          120.92929292929293,
          123.87878787878788,
          126.82828282828282,
          129.77777777777777,
          132.72727272727272,
          135.67676767676767,
          138.62626262626262,
          141.57575757575756,
          144.5252525252525,
          147.47474747474746,
          150.4242424242424,
          153.37373737373736,
          156.3232323232323,
          159.27272727272728,
          162.22222222222223,
          165.17171717171718,
          168.12121212121212,
          171.07070707070707,
          174.02020202020202,
          176.96969696969697,
          179.91919191919192,
          182.86868686868686,
          185.8181818181818,
          188.76767676767676,
          191.7171717171717,
          194.66666666666666,
          197.6161616161616,
          200.56565656565655,
          203.5151515151515,
          206.46464646464645,
          209.4141414141414,
          212.36363636363635,
          215.3131313131313,
          218.26262626262624,
          221.21212121212122,
          224.16161616161617,
          227.11111111111111,
          230.06060606060606,
          233.010101010101,
          235.95959595959596,
          238.9090909090909,
          241.85858585858585,
          244.8080808080808,
          247.75757575757575,
          250.7070707070707,
          253.65656565656565,
          256.6060606060606,
          259.55555555555554,
          262.5050505050505,
          265.45454545454544,
          268.4040404040404,
          271.35353535353534,
          274.3030303030303,
          277.25252525252523,
          280.2020202020202,
          283.1515151515151,
          286.1010101010101,
          289.050505050505,
          292
         ],
         "y": [
          6605.761846377744,
          4689.082015985501,
          3062.403133850862,
          1710.1933556350302,
          617.2694822859312,
          -231.20303996177518,
          -849.710119586699,
          -1252.3890197807232,
          -1453.028358448997,
          -1465.06810820994,
          -1301.5995963952519,
          -975.3655050498874,
          -498.75987093208096,
          116.1719144866729,
          857.7331050215944,
          1714.5755997746455,
          2675.699943134514,
          3730.455324776616,
          4868.539579663113,
          6079.999188042853,
          7355.229275451478,
          8684.9736127113,
          10060.3246159314,
          11472.72334650757,
          12913.959511122346,
          14376.17146174499,
          15851.846195631471,
          17333.819355324536,
          18815.27522865359,
          20289.74674873484,
          21751.115493971192,
          23193.61168805226,
          24611.81419995446,
          26000.650543940843,
          27355.396879561275,
          28671.678011652264,
          29945.467390337166,
          31173.08711102589,
          32351.207914415303,
          33476.849186488835,
          34547.378958516674,
          35560.513907055756,
          36514.3193539498,
          37407.20926632911,
          38237.94625661092,
          39005.641582498996,
          39709.75514698398,
          40350.095498343115,
          40926.81983014061,
          41440.43398122711,
          41891.79243574012,
          42282.0983231039,
          42612.903418029426,
          42886.108140514436,
          43103.96155584327,
          43269.06137458708,
          43384.35395260385,
          43453.13429103809,
          43479.04603632122,
          43466.08148017137,
          43418.581559593236,
          43341.23585687834,
          43239.082599604924,
          43117.508660638254,
          42982.249558129726,
          42839.38945551796,
          42695.361161528126,
          42556.94613017209,
          42431.274460748595,
          42325.82489784295,
          42248.42483132711,
          42207.250296360115,
          42210.82597338766,
          42268.02518814162,
          42388.0699116413,
          42580.53076019266,
          42855.32699538767,
          43222.726524105994,
          43693.34589851345,
          44278.15031606244,
          44988.453619492706,
          45835.91829682997,
          46832.55548138777,
          47990.72495176538,
          49323.13513184886,
          50842.84309081128,
          52563.25454311294,
          54498.12384849996,
          56661.55401200568,
          59067.99668394984,
          61732.25215993961,
          64669.46938086813,
          67895.1459329155,
          71425.1280475487,
          75275.61060152133,
          79463.13711687399,
          84004.59976093343,
          88917.23934631376,
          94218.64533091523,
          99926.75581792509
         ]
        }
       ],
       "layout": {
        "legend": {
         "tracegroupgap": 0
        },
        "margin": {
         "t": 60
        },
        "template": {
         "data": {
          "bar": [
           {
            "error_x": {
             "color": "#2a3f5f"
            },
            "error_y": {
             "color": "#2a3f5f"
            },
            "marker": {
             "line": {
              "color": "#E5ECF6",
              "width": 0.5
             }
            },
            "type": "bar"
           }
          ],
          "barpolar": [
           {
            "marker": {
             "line": {
              "color": "#E5ECF6",
              "width": 0.5
             }
            },
            "type": "barpolar"
           }
          ],
          "carpet": [
           {
            "aaxis": {
             "endlinecolor": "#2a3f5f",
             "gridcolor": "white",
             "linecolor": "white",
             "minorgridcolor": "white",
             "startlinecolor": "#2a3f5f"
            },
            "baxis": {
             "endlinecolor": "#2a3f5f",
             "gridcolor": "white",
             "linecolor": "white",
             "minorgridcolor": "white",
             "startlinecolor": "#2a3f5f"
            },
            "type": "carpet"
           }
          ],
          "choropleth": [
           {
            "colorbar": {
             "outlinewidth": 0,
             "ticks": ""
            },
            "type": "choropleth"
           }
          ],
          "contour": [
           {
            "colorbar": {
             "outlinewidth": 0,
             "ticks": ""
            },
            "colorscale": [
             [
              0,
              "#0d0887"
             ],
             [
              0.1111111111111111,
              "#46039f"
             ],
             [
              0.2222222222222222,
              "#7201a8"
             ],
             [
              0.3333333333333333,
              "#9c179e"
             ],
             [
              0.4444444444444444,
              "#bd3786"
             ],
             [
              0.5555555555555556,
              "#d8576b"
             ],
             [
              0.6666666666666666,
              "#ed7953"
             ],
             [
              0.7777777777777778,
              "#fb9f3a"
             ],
             [
              0.8888888888888888,
              "#fdca26"
             ],
             [
              1,
              "#f0f921"
             ]
            ],
            "type": "contour"
           }
          ],
          "contourcarpet": [
           {
            "colorbar": {
             "outlinewidth": 0,
             "ticks": ""
            },
            "type": "contourcarpet"
           }
          ],
          "heatmap": [
           {
            "colorbar": {
             "outlinewidth": 0,
             "ticks": ""
            },
            "colorscale": [
             [
              0,
              "#0d0887"
             ],
             [
              0.1111111111111111,
              "#46039f"
             ],
             [
              0.2222222222222222,
              "#7201a8"
             ],
             [
              0.3333333333333333,
              "#9c179e"
             ],
             [
              0.4444444444444444,
              "#bd3786"
             ],
             [
              0.5555555555555556,
              "#d8576b"
             ],
             [
              0.6666666666666666,
              "#ed7953"
             ],
             [
              0.7777777777777778,
              "#fb9f3a"
             ],
             [
              0.8888888888888888,
              "#fdca26"
             ],
             [
              1,
              "#f0f921"
             ]
            ],
            "type": "heatmap"
           }
          ],
          "heatmapgl": [
           {
            "colorbar": {
             "outlinewidth": 0,
             "ticks": ""
            },
            "colorscale": [
             [
              0,
              "#0d0887"
             ],
             [
              0.1111111111111111,
              "#46039f"
             ],
             [
              0.2222222222222222,
              "#7201a8"
             ],
             [
              0.3333333333333333,
              "#9c179e"
             ],
             [
              0.4444444444444444,
              "#bd3786"
             ],
             [
              0.5555555555555556,
              "#d8576b"
             ],
             [
              0.6666666666666666,
              "#ed7953"
             ],
             [
              0.7777777777777778,
              "#fb9f3a"
             ],
             [
              0.8888888888888888,
              "#fdca26"
             ],
             [
              1,
              "#f0f921"
             ]
            ],
            "type": "heatmapgl"
           }
          ],
          "histogram": [
           {
            "marker": {
             "colorbar": {
              "outlinewidth": 0,
              "ticks": ""
             }
            },
            "type": "histogram"
           }
          ],
          "histogram2d": [
           {
            "colorbar": {
             "outlinewidth": 0,
             "ticks": ""
            },
            "colorscale": [
             [
              0,
              "#0d0887"
             ],
             [
              0.1111111111111111,
              "#46039f"
             ],
             [
              0.2222222222222222,
              "#7201a8"
             ],
             [
              0.3333333333333333,
              "#9c179e"
             ],
             [
              0.4444444444444444,
              "#bd3786"
             ],
             [
              0.5555555555555556,
              "#d8576b"
             ],
             [
              0.6666666666666666,
              "#ed7953"
             ],
             [
              0.7777777777777778,
              "#fb9f3a"
             ],
             [
              0.8888888888888888,
              "#fdca26"
             ],
             [
              1,
              "#f0f921"
             ]
            ],
            "type": "histogram2d"
           }
          ],
          "histogram2dcontour": [
           {
            "colorbar": {
             "outlinewidth": 0,
             "ticks": ""
            },
            "colorscale": [
             [
              0,
              "#0d0887"
             ],
             [
              0.1111111111111111,
              "#46039f"
             ],
             [
              0.2222222222222222,
              "#7201a8"
             ],
             [
              0.3333333333333333,
              "#9c179e"
             ],
             [
              0.4444444444444444,
              "#bd3786"
             ],
             [
              0.5555555555555556,
              "#d8576b"
             ],
             [
              0.6666666666666666,
              "#ed7953"
             ],
             [
              0.7777777777777778,
              "#fb9f3a"
             ],
             [
              0.8888888888888888,
              "#fdca26"
             ],
             [
              1,
              "#f0f921"
             ]
            ],
            "type": "histogram2dcontour"
           }
          ],
          "mesh3d": [
           {
            "colorbar": {
             "outlinewidth": 0,
             "ticks": ""
            },
            "type": "mesh3d"
           }
          ],
          "parcoords": [
           {
            "line": {
             "colorbar": {
              "outlinewidth": 0,
              "ticks": ""
             }
            },
            "type": "parcoords"
           }
          ],
          "pie": [
           {
            "automargin": true,
            "type": "pie"
           }
          ],
          "scatter": [
           {
            "marker": {
             "colorbar": {
              "outlinewidth": 0,
              "ticks": ""
             }
            },
            "type": "scatter"
           }
          ],
          "scatter3d": [
           {
            "line": {
             "colorbar": {
              "outlinewidth": 0,
              "ticks": ""
             }
            },
            "marker": {
             "colorbar": {
              "outlinewidth": 0,
              "ticks": ""
             }
            },
            "type": "scatter3d"
           }
          ],
          "scattercarpet": [
           {
            "marker": {
             "colorbar": {
              "outlinewidth": 0,
              "ticks": ""
             }
            },
            "type": "scattercarpet"
           }
          ],
          "scattergeo": [
           {
            "marker": {
             "colorbar": {
              "outlinewidth": 0,
              "ticks": ""
             }
            },
            "type": "scattergeo"
           }
          ],
          "scattergl": [
           {
            "marker": {
             "colorbar": {
              "outlinewidth": 0,
              "ticks": ""
             }
            },
            "type": "scattergl"
           }
          ],
          "scattermapbox": [
           {
            "marker": {
             "colorbar": {
              "outlinewidth": 0,
              "ticks": ""
             }
            },
            "type": "scattermapbox"
           }
          ],
          "scatterpolar": [
           {
            "marker": {
             "colorbar": {
              "outlinewidth": 0,
              "ticks": ""
             }
            },
            "type": "scatterpolar"
           }
          ],
          "scatterpolargl": [
           {
            "marker": {
             "colorbar": {
              "outlinewidth": 0,
              "ticks": ""
             }
            },
            "type": "scatterpolargl"
           }
          ],
          "scatterternary": [
           {
            "marker": {
             "colorbar": {
              "outlinewidth": 0,
              "ticks": ""
             }
            },
            "type": "scatterternary"
           }
          ],
          "surface": [
           {
            "colorbar": {
             "outlinewidth": 0,
             "ticks": ""
            },
            "colorscale": [
             [
              0,
              "#0d0887"
             ],
             [
              0.1111111111111111,
              "#46039f"
             ],
             [
              0.2222222222222222,
              "#7201a8"
             ],
             [
              0.3333333333333333,
              "#9c179e"
             ],
             [
              0.4444444444444444,
              "#bd3786"
             ],
             [
              0.5555555555555556,
              "#d8576b"
             ],
             [
              0.6666666666666666,
              "#ed7953"
             ],
             [
              0.7777777777777778,
              "#fb9f3a"
             ],
             [
              0.8888888888888888,
              "#fdca26"
             ],
             [
              1,
              "#f0f921"
             ]
            ],
            "type": "surface"
           }
          ],
          "table": [
           {
            "cells": {
             "fill": {
              "color": "#EBF0F8"
             },
             "line": {
              "color": "white"
             }
            },
            "header": {
             "fill": {
              "color": "#C8D4E3"
             },
             "line": {
              "color": "white"
             }
            },
            "type": "table"
           }
          ]
         },
         "layout": {
          "annotationdefaults": {
           "arrowcolor": "#2a3f5f",
           "arrowhead": 0,
           "arrowwidth": 1
          },
          "coloraxis": {
           "colorbar": {
            "outlinewidth": 0,
            "ticks": ""
           }
          },
          "colorscale": {
           "diverging": [
            [
             0,
             "#8e0152"
            ],
            [
             0.1,
             "#c51b7d"
            ],
            [
             0.2,
             "#de77ae"
            ],
            [
             0.3,
             "#f1b6da"
            ],
            [
             0.4,
             "#fde0ef"
            ],
            [
             0.5,
             "#f7f7f7"
            ],
            [
             0.6,
             "#e6f5d0"
            ],
            [
             0.7,
             "#b8e186"
            ],
            [
             0.8,
             "#7fbc41"
            ],
            [
             0.9,
             "#4d9221"
            ],
            [
             1,
             "#276419"
            ]
           ],
           "sequential": [
            [
             0,
             "#0d0887"
            ],
            [
             0.1111111111111111,
             "#46039f"
            ],
            [
             0.2222222222222222,
             "#7201a8"
            ],
            [
             0.3333333333333333,
             "#9c179e"
            ],
            [
             0.4444444444444444,
             "#bd3786"
            ],
            [
             0.5555555555555556,
             "#d8576b"
            ],
            [
             0.6666666666666666,
             "#ed7953"
            ],
            [
             0.7777777777777778,
             "#fb9f3a"
            ],
            [
             0.8888888888888888,
             "#fdca26"
            ],
            [
             1,
             "#f0f921"
            ]
           ],
           "sequentialminus": [
            [
             0,
             "#0d0887"
            ],
            [
             0.1111111111111111,
             "#46039f"
            ],
            [
             0.2222222222222222,
             "#7201a8"
            ],
            [
             0.3333333333333333,
             "#9c179e"
            ],
            [
             0.4444444444444444,
             "#bd3786"
            ],
            [
             0.5555555555555556,
             "#d8576b"
            ],
            [
             0.6666666666666666,
             "#ed7953"
            ],
            [
             0.7777777777777778,
             "#fb9f3a"
            ],
            [
             0.8888888888888888,
             "#fdca26"
            ],
            [
             1,
             "#f0f921"
            ]
           ]
          },
          "colorway": [
           "#636efa",
           "#EF553B",
           "#00cc96",
           "#ab63fa",
           "#FFA15A",
           "#19d3f3",
           "#FF6692",
           "#B6E880",
           "#FF97FF",
           "#FECB52"
          ],
          "font": {
           "color": "#2a3f5f"
          },
          "geo": {
           "bgcolor": "white",
           "lakecolor": "white",
           "landcolor": "#E5ECF6",
           "showlakes": true,
           "showland": true,
           "subunitcolor": "white"
          },
          "hoverlabel": {
           "align": "left"
          },
          "hovermode": "closest",
          "mapbox": {
           "style": "light"
          },
          "paper_bgcolor": "white",
          "plot_bgcolor": "#E5ECF6",
          "polar": {
           "angularaxis": {
            "gridcolor": "white",
            "linecolor": "white",
            "ticks": ""
           },
           "bgcolor": "#E5ECF6",
           "radialaxis": {
            "gridcolor": "white",
            "linecolor": "white",
            "ticks": ""
           }
          },
          "scene": {
           "xaxis": {
            "backgroundcolor": "#E5ECF6",
            "gridcolor": "white",
            "gridwidth": 2,
            "linecolor": "white",
            "showbackground": true,
            "ticks": "",
            "zerolinecolor": "white"
           },
           "yaxis": {
            "backgroundcolor": "#E5ECF6",
            "gridcolor": "white",
            "gridwidth": 2,
            "linecolor": "white",
            "showbackground": true,
            "ticks": "",
            "zerolinecolor": "white"
           },
           "zaxis": {
            "backgroundcolor": "#E5ECF6",
            "gridcolor": "white",
            "gridwidth": 2,
            "linecolor": "white",
            "showbackground": true,
            "ticks": "",
            "zerolinecolor": "white"
           }
          },
          "shapedefaults": {
           "line": {
            "color": "#2a3f5f"
           }
          },
          "ternary": {
           "aaxis": {
            "gridcolor": "white",
            "linecolor": "white",
            "ticks": ""
           },
           "baxis": {
            "gridcolor": "white",
            "linecolor": "white",
            "ticks": ""
           },
           "bgcolor": "#E5ECF6",
           "caxis": {
            "gridcolor": "white",
            "linecolor": "white",
            "ticks": ""
           }
          },
          "title": {
           "x": 0.05
          },
          "xaxis": {
           "automargin": true,
           "gridcolor": "white",
           "linecolor": "white",
           "ticks": "",
           "title": {
            "standoff": 15
           },
           "zerolinecolor": "white",
           "zerolinewidth": 2
          },
          "yaxis": {
           "automargin": true,
           "gridcolor": "white",
           "linecolor": "white",
           "ticks": "",
           "title": {
            "standoff": 15
           },
           "zerolinecolor": "white",
           "zerolinewidth": 2
          }
         }
        },
        "xaxis": {
         "anchor": "y",
         "domain": [
          0,
          1
         ],
         "title": {
          "text": "index"
         }
        },
        "yaxis": {
         "anchor": "x",
         "domain": [
          0,
          1
         ],
         "title": {
          "text": "Cases"
         }
        }
       }
      },
      "text/html": [
       "<div>                            <div id=\"556a7a19-8af6-490f-9a3d-aa1f05ee7b0a\" class=\"plotly-graph-div\" style=\"height:525px; width:100%;\"></div>            <script type=\"text/javascript\">                require([\"plotly\"], function(Plotly) {                    window.PLOTLYENV=window.PLOTLYENV || {};                                    if (document.getElementById(\"556a7a19-8af6-490f-9a3d-aa1f05ee7b0a\")) {                    Plotly.newPlot(                        \"556a7a19-8af6-490f-9a3d-aa1f05ee7b0a\",                        [{\"hovertemplate\": \"index=%{x}<br>Cases=%{y}<extra></extra>\", \"legendgroup\": \"\", \"marker\": {\"color\": \"#636efa\", \"opacity\": 0.65, \"symbol\": \"circle\"}, \"mode\": \"markers\", \"name\": \"\", \"orientation\": \"v\", \"showlegend\": false, \"type\": \"scatter\", \"x\": [0, 1, 2, 3, 4, 5, 6, 7, 8, 9, 10, 11, 12, 13, 14, 15, 16, 17, 18, 19, 20, 21, 22, 23, 24, 25, 26, 27, 28, 29, 30, 31, 32, 33, 34, 35, 36, 37, 38, 39, 40, 41, 42, 43, 44, 45, 46, 47, 48, 49, 50, 51, 52, 53, 54, 55, 56, 57, 58, 59, 60, 61, 62, 63, 64, 65, 66, 67, 68, 69, 70, 71, 72, 73, 74, 75, 76, 77, 78, 79, 80, 81, 82, 83, 84, 85, 86, 87, 88, 89, 90, 91, 92, 93, 94, 95, 96, 97, 98, 99, 100, 101, 102, 103, 104, 105, 106, 107, 108, 109, 110, 111, 112, 113, 114, 115, 116, 117, 118, 119, 120, 121, 122, 123, 124, 125, 126, 127, 128, 129, 130, 131, 132, 133, 134, 135, 136, 137, 138, 139, 140, 141, 142, 143, 144, 145, 146, 147, 148, 149, 150, 151, 152, 153, 154, 155, 156, 157, 158, 159, 160, 161, 162, 163, 164, 165, 166, 167, 168, 169, 170, 171, 172, 173, 174, 175, 176, 177, 178, 179, 180, 181, 182, 183, 184, 185, 186, 187, 188, 189, 190, 191, 192, 193, 194, 195, 196, 197, 198, 199, 200, 201, 202, 203, 204, 205, 206, 207, 208, 209, 210, 211, 212, 213, 214, 215, 216, 217, 218, 219, 220, 221, 222, 223, 224, 225, 226, 227, 228, 229, 230, 231, 232, 233, 234, 235, 236, 237, 238, 239, 240, 241, 242, 243, 244, 245, 246, 247, 248, 249, 250, 251, 252, 253, 254, 255, 256, 257, 258, 259, 260, 261, 262, 263, 264, 265, 266, 267, 268, 269, 270, 271, 272, 273, 274, 275, 276, 277, 278, 279, 280, 281, 282, 283, 284, 285, 286, 287, 288, 289, 290, 291, 292], \"xaxis\": \"x\", \"y\": [0.0, 0.0, 1.0, 0.0, 3.0, 1.0, 0.0, 1.0, 0.0, 1.0, 1.0, 0.0, 2.0, 0.0, 0.0, 0.0, 0.0, 0.0, 0.0, 0.0, 1.0, 0.0, 1.0, 0.0, 0.0, 0.0, 0.0, 1.0, 0.0, 0.0, 3.0, 0.0, 0.0, 1.0, 0.0, 2.0, 1.0, 2.0, 11.0, 6.0, 22.0, 19.0, 35.0, 66.0, 49.0, 145.0, 116.0, 259.0, 275.0, 229.0, 387.0, 529.0, 733.0, 566.0, 909.0, 1775.0, 2755.0, 4864.0, 4889.0, 7219.0, 7135.0, 9737.0, 9935.0, 14189.0, 16122.0, 16443.0, 19644.0, 17667.0, 20924.0, 23287.0, 24586.0, 28312.0, 35550.0, 33256.0, 25696.0, 29917.0, 31683.0, 33012.0, 33573.0, 33426.0, 30597.0, 26835.0, 24633.0, 25878.0, 30276.0, 32584.0, 30912.0, 27676.0, 25589.0, 26358.0, 25325.0, 28604.0, 31299.0, 37256.0, 33632.0, 25280.0, 22863.0, 24227.0, 27875.0, 28895.0, 33441.0, 29599.0, 24563.0, 21850.0, 23427.0, 24281.0, 27221.0, 27034.0, 25394.0, 19369.0, 19219.0, 21288.0, 21028.0, 26424.0, 24635.0, 24121.0, 17920.0, 20933.0, 20599.0, 22543.0, 25542.0, 23599.0, 21836.0, 20288.0, 19464.0, 17832.0, 18458.0, 22451.0, 24817.0, 22515.0, 19461.0, 21281.0, 19289.0, 19633.0, 21811.0, 28078.0, 22901.0, 17886.0, 17757.0, 18546.0, 20464.0, 22264.0, 25635.0, 25135.0, 20081.0, 18723.0, 25048.0, 24140.0, 27305.0, 31192.0, 30493.0, 27074.0, 29835.0, 35014.0, 35225.0, 38499.0, 45881.0, 41642.0, 38198.0, 38708.0, 47289.0, 48951.0, 54365.0, 54155.0, 45019.0, 41131.0, 53499.0, 55311.0, 56998.0, 61300.0, 69162.0, 59632.0, 56739.0, 55166.0, 66936.0, 64996.0, 79974.0, 67516.0, 65443.0, 59866.0, 58412.0, 66656.0, 67014.0, 68156.0, 73070.0, 64165.0, 53966.0, 57083.0, 63911.0, 65354.0, 70376.0, 66042.0, 60621.0, 41861.0, 49708.0, 52425.0, 53487.0, 56343.0, 60973.0, 51836.0, 47694.0, 42335.0, 56603.0, 52918.0, 51648.0, 57352.0, 50142.0, 37976.0, 40244.0, 41337.0, 45092.0, 43689.0, 49405.0, 45302.0, 31749.0, 36946.0, 38371.0, 45792.0, 45807.0, 44915.0, 42948.0, 33477.0, 35585.0, 42987.0, 39839.0, 42782.0, 49380.0, 43949.0, 30971.0, 25778.0, 23255.0, 34739.0, 36867.0, 46047.0, 38645.0, 34720.0, 33874.0, 41108.0, 40524.0, 43870.0, 48507.0, 42667.0, 34595.0, 37264.0, 49758.0, 39059.0, 42194.0, 57207.0, 46166.0, 34604.0, 32202.0, 37134.0, 45561.0, 46887.0, 48277.0, 51811.0, 35527.0, 37071.0, 40867.0, 49897.0, 56452.0, 56721.0, 54093.0, 43191.0, 42553.0, 50383.0, 59676.0, 66676.0, 63730.0, 59993.0, 46978.0, 56778.0, 60112.0, 62516.0, 77365.0, 82828.0, 70945.0, 62897.0, 68068.0, 71009.0, 78233.0, 88819.0, 96263.0, 73389.0, 82789.0, 85621.0, 91790.0, 107428.0, 117655.0, 132276.0, 112610.0, 103701.0, 127172.0], \"yaxis\": \"y\"}, {\"name\": \"$-3055.84 + 253.64x$\", \"type\": \"scatter\", \"x\": [0.0, 2.9494949494949494, 5.898989898989899, 8.848484848484848, 11.797979797979798, 14.747474747474747, 17.696969696969695, 20.646464646464647, 23.595959595959595, 26.545454545454543, 29.494949494949495, 32.44444444444444, 35.39393939393939, 38.34343434343434, 41.292929292929294, 44.24242424242424, 47.19191919191919, 50.14141414141414, 53.090909090909086, 56.04040404040404, 58.98989898989899, 61.93939393939394, 64.88888888888889, 67.83838383838383, 70.78787878787878, 73.73737373737373, 76.68686868686868, 79.63636363636364, 82.58585858585859, 85.53535353535354, 88.48484848484848, 91.43434343434343, 94.38383838383838, 97.33333333333333, 100.28282828282828, 103.23232323232322, 106.18181818181817, 109.13131313131312, 112.08080808080808, 115.03030303030303, 117.97979797979798, 120.92929292929293, 123.87878787878788, 126.82828282828282, 129.77777777777777, 132.72727272727272, 135.67676767676767, 138.62626262626262, 141.57575757575756, 144.5252525252525, 147.47474747474746, 150.4242424242424, 153.37373737373736, 156.3232323232323, 159.27272727272728, 162.22222222222223, 165.17171717171718, 168.12121212121212, 171.07070707070707, 174.02020202020202, 176.96969696969697, 179.91919191919192, 182.86868686868686, 185.8181818181818, 188.76767676767676, 191.7171717171717, 194.66666666666666, 197.6161616161616, 200.56565656565655, 203.5151515151515, 206.46464646464645, 209.4141414141414, 212.36363636363635, 215.3131313131313, 218.26262626262624, 221.21212121212122, 224.16161616161617, 227.11111111111111, 230.06060606060606, 233.010101010101, 235.95959595959596, 238.9090909090909, 241.85858585858585, 244.8080808080808, 247.75757575757575, 250.7070707070707, 253.65656565656565, 256.6060606060606, 259.55555555555554, 262.5050505050505, 265.45454545454544, 268.4040404040404, 271.35353535353534, 274.3030303030303, 277.25252525252523, 280.2020202020202, 283.1515151515151, 286.1010101010101, 289.050505050505, 292.0], \"y\": [-3055.8409138399265, -2307.7212608075483, -1559.60160777517, -811.4819547427919, -63.36230171041325, 684.757351321965, 1432.8770043543427, 2180.9966573867223, 2929.1163104191, 3677.235963451478, 4425.3556164838565, 5173.475269516234, 5921.594922548612, 6669.714575580992, 7417.834228613371, 8165.953881645749, 8914.073534678126, 9662.193187710505, 10410.312840742881, 11158.43249377526, 11906.55214680764, 12654.671799840016, 13402.791452872396, 14150.911105904775, 14899.030758937151, 15647.150411969531, 16395.27006500191, 17143.38971803429, 17891.50937106667, 18639.629024099046, 19387.748677131425, 20135.8683301638, 20883.98798319618, 21632.107636228557, 22380.227289260936, 23128.346942293316, 23876.46659532569, 24624.58624835807, 25372.70590139045, 26120.82555442283, 26868.945207455206, 27617.064860487586, 28365.184513519962, 29113.30416655234, 29861.423819584717, 30609.543472617097, 31357.663125649477, 32105.782778681856, 32853.902431714225, 33602.022084746604, 34350.141737778984, 35098.26139081136, 35846.38104384374, 36594.500696876115, 37342.6203499085, 38090.74000294088, 38838.85965597326, 39586.979309005634, 40335.09896203801, 41083.21861507039, 41831.33826810277, 42579.45792113515, 43327.577574167524, 44075.697227199904, 44823.81688023228, 45571.93653326466, 46320.056186297035, 47068.175839329415, 47816.295492361794, 48564.415145394174, 49312.53479842655, 50060.654451458926, 50808.774104491305, 51556.893757523685, 52305.013410556065, 53053.133063588444, 53801.252716620824, 54549.3723696532, 55297.49202268558, 56045.61167571796, 56793.731328750335, 57541.850981782714, 58289.970634815094, 59038.09028784747, 59786.209940879846, 60534.329593912225, 61282.449246944605, 62030.56889997699, 62778.68855300936, 63526.80820604175, 64274.927859074116, 65023.047512106496, 65771.16716513888, 66519.28681817125, 67267.40647120363, 68015.52612423601, 68763.64577726838, 69511.76543030077, 70259.88508333314, 71008.00473636553]}, {\"name\": \"$-3293.57 + 258.54x - 0.02x^2$\", \"type\": \"scatter\", \"x\": [0.0, 2.9494949494949494, 5.898989898989899, 8.848484848484848, 11.797979797979798, 14.747474747474747, 17.696969696969695, 20.646464646464647, 23.595959595959595, 26.545454545454543, 29.494949494949495, 32.44444444444444, 35.39393939393939, 38.34343434343434, 41.292929292929294, 44.24242424242424, 47.19191919191919, 50.14141414141414, 53.090909090909086, 56.04040404040404, 58.98989898989899, 61.93939393939394, 64.88888888888889, 67.83838383838383, 70.78787878787878, 73.73737373737373, 76.68686868686868, 79.63636363636364, 82.58585858585859, 85.53535353535354, 88.48484848484848, 91.43434343434343, 94.38383838383838, 97.33333333333333, 100.28282828282828, 103.23232323232322, 106.18181818181817, 109.13131313131312, 112.08080808080808, 115.03030303030303, 117.97979797979798, 120.92929292929293, 123.87878787878788, 126.82828282828282, 129.77777777777777, 132.72727272727272, 135.67676767676767, 138.62626262626262, 141.57575757575756, 144.5252525252525, 147.47474747474746, 150.4242424242424, 153.37373737373736, 156.3232323232323, 159.27272727272728, 162.22222222222223, 165.17171717171718, 168.12121212121212, 171.07070707070707, 174.02020202020202, 176.96969696969697, 179.91919191919192, 182.86868686868686, 185.8181818181818, 188.76767676767676, 191.7171717171717, 194.66666666666666, 197.6161616161616, 200.56565656565655, 203.5151515151515, 206.46464646464645, 209.4141414141414, 212.36363636363635, 215.3131313131313, 218.26262626262624, 221.21212121212122, 224.16161616161617, 227.11111111111111, 230.06060606060606, 233.010101010101, 235.95959595959596, 238.9090909090909, 241.85858585858585, 244.8080808080808, 247.75757575757575, 250.7070707070707, 253.65656565656565, 256.6060606060606, 259.55555555555554, 262.5050505050505, 265.45454545454544, 268.4040404040404, 271.35353535353534, 274.3030303030303, 277.25252525252523, 280.2020202020202, 283.1515151515151, 286.1010101010101, 289.050505050505, 292.0], \"y\": [-3293.565194091217, -2531.134529235757, -1768.9959258460744, -1007.1493839221699, -245.59490346404363, 515.6675155283052, 1276.6378730548756, 2037.316169115669, 2797.7024037106826, 3557.7965768399195, 4317.598688503378, 5077.108738701058, 5836.326727432962, 6595.252654699086, 7353.886520499435, 8112.228324834004, 8870.278067702793, 9628.035749105808, 10385.501369043042, 11142.674927514501, 11899.55642452018, 12656.14586006008, 13412.443234134204, 14168.448546742551, 14924.161797885117, 15679.582987561907, 16434.712115772916, 17189.549182518153, 17944.09418779761, 18698.34713161129, 19452.308013959188, 20205.97683484131, 20959.353594257653, 21712.438292208222, 22465.230928693007, 23217.731503712017, 23969.94001726525, 24721.8564693527, 25473.480859974385, 26224.81318913028, 26975.8534568204, 27726.60166304474, 28477.057807803307, 29227.221891096095, 29977.0939129231, 30726.673873284333, 31475.961772179788, 32224.95760960946, 32973.66138557336, 33722.07310007147, 34470.19275310382, 35218.02034467039, 35965.55587477117, 36712.79934340618, 37459.75075057541, 38206.410096278865, 38952.77738051654, 39698.852603288426, 40444.635764594546, 41190.12686443488, 41935.32590280945, 42680.232879718234, 43424.84779516124, 44169.17064913847, 44913.201441649915, 45656.940172695584, 46400.38684227548, 47143.541450389595, 47886.40399703794, 48628.97448222049, 49371.252905937276, 50113.239268188285, 50854.9335689735, 51596.335808292955, 52337.445986146624, 53078.26410253452, 53818.79015745664, 54559.02415091297, 55298.966082903535, 56038.61595342831, 56777.973762487316, 57517.03951008054, 58255.813196207986, 58994.294820869654, 59732.484384065545, 60470.38188579566, 61207.98732606, 61945.300704858564, 62682.32202219132, 63419.05127805834, 64155.488472459554, 64891.633605395, 65627.48667686466, 66363.04768686855, 67098.31663540666, 67833.293522479, 68567.97834808555, 69302.37111222633, 70036.47181490132, 70770.28045611056]}, {\"name\": \"$-12922.14 + 657.65x - 3.44x^2 + 0.01x^3$\", \"type\": \"scatter\", \"x\": [0.0, 2.9494949494949494, 5.898989898989899, 8.848484848484848, 11.797979797979798, 14.747474747474747, 17.696969696969695, 20.646464646464647, 23.595959595959595, 26.545454545454543, 29.494949494949495, 32.44444444444444, 35.39393939393939, 38.34343434343434, 41.292929292929294, 44.24242424242424, 47.19191919191919, 50.14141414141414, 53.090909090909086, 56.04040404040404, 58.98989898989899, 61.93939393939394, 64.88888888888889, 67.83838383838383, 70.78787878787878, 73.73737373737373, 76.68686868686868, 79.63636363636364, 82.58585858585859, 85.53535353535354, 88.48484848484848, 91.43434343434343, 94.38383838383838, 97.33333333333333, 100.28282828282828, 103.23232323232322, 106.18181818181817, 109.13131313131312, 112.08080808080808, 115.03030303030303, 117.97979797979798, 120.92929292929293, 123.87878787878788, 126.82828282828282, 129.77777777777777, 132.72727272727272, 135.67676767676767, 138.62626262626262, 141.57575757575756, 144.5252525252525, 147.47474747474746, 150.4242424242424, 153.37373737373736, 156.3232323232323, 159.27272727272728, 162.22222222222223, 165.17171717171718, 168.12121212121212, 171.07070707070707, 174.02020202020202, 176.96969696969697, 179.91919191919192, 182.86868686868686, 185.8181818181818, 188.76767676767676, 191.7171717171717, 194.66666666666666, 197.6161616161616, 200.56565656565655, 203.5151515151515, 206.46464646464645, 209.4141414141414, 212.36363636363635, 215.3131313131313, 218.26262626262624, 221.21212121212122, 224.16161616161617, 227.11111111111111, 230.06060606060606, 233.010101010101, 235.95959595959596, 238.9090909090909, 241.85858585858585, 244.8080808080808, 247.75757575757575, 250.7070707070707, 253.65656565656565, 256.6060606060606, 259.55555555555554, 262.5050505050505, 265.45454545454544, 268.4040404040404, 271.35353535353534, 274.3030303030303, 277.25252525252523, 280.2020202020202, 283.1515151515151, 286.1010101010101, 289.050505050505, 292.0], \"y\": [-12922.139155498733, -11012.112817786288, -9160.7303187157, -7366.788528860664, -5629.084318794872, -3946.4145590920175, -2317.5761203257957, -741.3658730698974, 783.4193121019812, 2257.9825646161466, 3683.5270138989144, 5061.255789376577, 6392.372020475451, 7678.078836621837, 8919.57936724205, 10118.076741762385, 11274.774089609156, 12390.874540208673, 13467.581222987228, 14506.097267371151, 15507.62580278673, 16473.36995866027, 17404.53286441809, 18302.317649486497, 19167.927443291785, 20002.56537526026, 20807.434574818246, 21583.73817139204, 22332.67929440795, 23055.461073292277, 23753.286637471327, 24427.359116371415, 25078.881639418843, 25709.05733603992, 26319.089335660956, 26910.180767708247, 27483.534761608087, 28040.35444678682, 28581.84295267074, 29109.20340868614, 29623.638944259335, 30126.352688816616, 30618.547771784317, 31101.42732258873, 31576.194470656163, 32044.052345412914, 32506.204076285314, 32963.85279269965, 33418.20162408222, 33870.45369985934, 34321.81214945733, 34773.48010230249, 35226.66068782112, 35682.55703543954, 36142.37227458402, 36607.30953468092, 37078.57194515651, 37557.36263543709, 38044.88473494902, 38542.341373118536, 39050.93567937198, 39571.87078313566, 40106.349813835885, 40655.57590089894, 41220.752173751156, 41803.08176181886, 42403.76779452831, 43024.01340130583, 43665.02171157772, 44327.99585477027, 45014.13896030988, 45724.65415762273, 46460.744576135185, 47223.613345273596, 48014.46359446419, 48834.49845313332, 49684.9210507073, 50566.93451661241, 51481.741980274935, 52430.54657112123, 53414.55141857761, 54434.959652070334, 55492.9744010257, 56589.798794870076, 57726.63596302972, 58904.68903493098, 60125.16114000011, 61389.25540766347, 62698.174967347324, 64053.122948478005, 65455.3024804818, 66905.91669278502, 68406.16871481398, 69957.26167599505, 71560.39870575437, 73216.7829335184, 74927.61748871335, 76694.10550076561, 78517.45009910144, 80398.8544131472]}, {\"name\": \"$6605.76 - 700.78x + 17.58x^2 - 0.1x^3 + 0.0x^4$\", \"type\": \"scatter\", \"x\": [0.0, 2.9494949494949494, 5.898989898989899, 8.848484848484848, 11.797979797979798, 14.747474747474747, 17.696969696969695, 20.646464646464647, 23.595959595959595, 26.545454545454543, 29.494949494949495, 32.44444444444444, 35.39393939393939, 38.34343434343434, 41.292929292929294, 44.24242424242424, 47.19191919191919, 50.14141414141414, 53.090909090909086, 56.04040404040404, 58.98989898989899, 61.93939393939394, 64.88888888888889, 67.83838383838383, 70.78787878787878, 73.73737373737373, 76.68686868686868, 79.63636363636364, 82.58585858585859, 85.53535353535354, 88.48484848484848, 91.43434343434343, 94.38383838383838, 97.33333333333333, 100.28282828282828, 103.23232323232322, 106.18181818181817, 109.13131313131312, 112.08080808080808, 115.03030303030303, 117.97979797979798, 120.92929292929293, 123.87878787878788, 126.82828282828282, 129.77777777777777, 132.72727272727272, 135.67676767676767, 138.62626262626262, 141.57575757575756, 144.5252525252525, 147.47474747474746, 150.4242424242424, 153.37373737373736, 156.3232323232323, 159.27272727272728, 162.22222222222223, 165.17171717171718, 168.12121212121212, 171.07070707070707, 174.02020202020202, 176.96969696969697, 179.91919191919192, 182.86868686868686, 185.8181818181818, 188.76767676767676, 191.7171717171717, 194.66666666666666, 197.6161616161616, 200.56565656565655, 203.5151515151515, 206.46464646464645, 209.4141414141414, 212.36363636363635, 215.3131313131313, 218.26262626262624, 221.21212121212122, 224.16161616161617, 227.11111111111111, 230.06060606060606, 233.010101010101, 235.95959595959596, 238.9090909090909, 241.85858585858585, 244.8080808080808, 247.75757575757575, 250.7070707070707, 253.65656565656565, 256.6060606060606, 259.55555555555554, 262.5050505050505, 265.45454545454544, 268.4040404040404, 271.35353535353534, 274.3030303030303, 277.25252525252523, 280.2020202020202, 283.1515151515151, 286.1010101010101, 289.050505050505, 292.0], \"y\": [6605.761846377744, 4689.082015985501, 3062.403133850862, 1710.1933556350302, 617.2694822859312, -231.20303996177518, -849.710119586699, -1252.3890197807232, -1453.028358448997, -1465.06810820994, -1301.5995963952519, -975.3655050498874, -498.75987093208096, 116.1719144866729, 857.7331050215944, 1714.5755997746455, 2675.699943134514, 3730.455324776616, 4868.539579663113, 6079.999188042853, 7355.229275451478, 8684.9736127113, 10060.3246159314, 11472.72334650757, 12913.959511122346, 14376.17146174499, 15851.846195631471, 17333.819355324536, 18815.27522865359, 20289.74674873484, 21751.115493971192, 23193.61168805226, 24611.81419995446, 26000.650543940843, 27355.396879561275, 28671.678011652264, 29945.467390337166, 31173.08711102589, 32351.207914415303, 33476.849186488835, 34547.378958516674, 35560.513907055756, 36514.3193539498, 37407.20926632911, 38237.94625661092, 39005.641582498996, 39709.75514698398, 40350.095498343115, 40926.81983014061, 41440.43398122711, 41891.79243574012, 42282.0983231039, 42612.903418029426, 42886.108140514436, 43103.96155584327, 43269.06137458708, 43384.35395260385, 43453.13429103809, 43479.04603632122, 43466.08148017137, 43418.581559593236, 43341.23585687834, 43239.082599604924, 43117.508660638254, 42982.249558129726, 42839.38945551796, 42695.361161528126, 42556.94613017209, 42431.274460748595, 42325.82489784295, 42248.42483132711, 42207.250296360115, 42210.82597338766, 42268.02518814162, 42388.0699116413, 42580.53076019266, 42855.32699538767, 43222.726524105994, 43693.34589851345, 44278.15031606244, 44988.453619492706, 45835.91829682997, 46832.55548138777, 47990.72495176538, 49323.13513184886, 50842.84309081128, 52563.25454311294, 54498.12384849996, 56661.55401200568, 59067.99668394984, 61732.25215993961, 64669.46938086813, 67895.1459329155, 71425.1280475487, 75275.61060152133, 79463.13711687399, 84004.59976093343, 88917.23934631376, 94218.64533091523, 99926.75581792509]}],                        {\"legend\": {\"tracegroupgap\": 0}, \"margin\": {\"t\": 60}, \"template\": {\"data\": {\"bar\": [{\"error_x\": {\"color\": \"#2a3f5f\"}, \"error_y\": {\"color\": \"#2a3f5f\"}, \"marker\": {\"line\": {\"color\": \"#E5ECF6\", \"width\": 0.5}}, \"type\": \"bar\"}], \"barpolar\": [{\"marker\": {\"line\": {\"color\": \"#E5ECF6\", \"width\": 0.5}}, \"type\": \"barpolar\"}], \"carpet\": [{\"aaxis\": {\"endlinecolor\": \"#2a3f5f\", \"gridcolor\": \"white\", \"linecolor\": \"white\", \"minorgridcolor\": \"white\", \"startlinecolor\": \"#2a3f5f\"}, \"baxis\": {\"endlinecolor\": \"#2a3f5f\", \"gridcolor\": \"white\", \"linecolor\": \"white\", \"minorgridcolor\": \"white\", \"startlinecolor\": \"#2a3f5f\"}, \"type\": \"carpet\"}], \"choropleth\": [{\"colorbar\": {\"outlinewidth\": 0, \"ticks\": \"\"}, \"type\": \"choropleth\"}], \"contour\": [{\"colorbar\": {\"outlinewidth\": 0, \"ticks\": \"\"}, \"colorscale\": [[0.0, \"#0d0887\"], [0.1111111111111111, \"#46039f\"], [0.2222222222222222, \"#7201a8\"], [0.3333333333333333, \"#9c179e\"], [0.4444444444444444, \"#bd3786\"], [0.5555555555555556, \"#d8576b\"], [0.6666666666666666, \"#ed7953\"], [0.7777777777777778, \"#fb9f3a\"], [0.8888888888888888, \"#fdca26\"], [1.0, \"#f0f921\"]], \"type\": \"contour\"}], \"contourcarpet\": [{\"colorbar\": {\"outlinewidth\": 0, \"ticks\": \"\"}, \"type\": \"contourcarpet\"}], \"heatmap\": [{\"colorbar\": {\"outlinewidth\": 0, \"ticks\": \"\"}, \"colorscale\": [[0.0, \"#0d0887\"], [0.1111111111111111, \"#46039f\"], [0.2222222222222222, \"#7201a8\"], [0.3333333333333333, \"#9c179e\"], [0.4444444444444444, \"#bd3786\"], [0.5555555555555556, \"#d8576b\"], [0.6666666666666666, \"#ed7953\"], [0.7777777777777778, \"#fb9f3a\"], [0.8888888888888888, \"#fdca26\"], [1.0, \"#f0f921\"]], \"type\": \"heatmap\"}], \"heatmapgl\": [{\"colorbar\": {\"outlinewidth\": 0, \"ticks\": \"\"}, \"colorscale\": [[0.0, \"#0d0887\"], [0.1111111111111111, \"#46039f\"], [0.2222222222222222, \"#7201a8\"], [0.3333333333333333, \"#9c179e\"], [0.4444444444444444, \"#bd3786\"], [0.5555555555555556, \"#d8576b\"], [0.6666666666666666, \"#ed7953\"], [0.7777777777777778, \"#fb9f3a\"], [0.8888888888888888, \"#fdca26\"], [1.0, \"#f0f921\"]], \"type\": \"heatmapgl\"}], \"histogram\": [{\"marker\": {\"colorbar\": {\"outlinewidth\": 0, \"ticks\": \"\"}}, \"type\": \"histogram\"}], \"histogram2d\": [{\"colorbar\": {\"outlinewidth\": 0, \"ticks\": \"\"}, \"colorscale\": [[0.0, \"#0d0887\"], [0.1111111111111111, \"#46039f\"], [0.2222222222222222, \"#7201a8\"], [0.3333333333333333, \"#9c179e\"], [0.4444444444444444, \"#bd3786\"], [0.5555555555555556, \"#d8576b\"], [0.6666666666666666, \"#ed7953\"], [0.7777777777777778, \"#fb9f3a\"], [0.8888888888888888, \"#fdca26\"], [1.0, \"#f0f921\"]], \"type\": \"histogram2d\"}], \"histogram2dcontour\": [{\"colorbar\": {\"outlinewidth\": 0, \"ticks\": \"\"}, \"colorscale\": [[0.0, \"#0d0887\"], [0.1111111111111111, \"#46039f\"], [0.2222222222222222, \"#7201a8\"], [0.3333333333333333, \"#9c179e\"], [0.4444444444444444, \"#bd3786\"], [0.5555555555555556, \"#d8576b\"], [0.6666666666666666, \"#ed7953\"], [0.7777777777777778, \"#fb9f3a\"], [0.8888888888888888, \"#fdca26\"], [1.0, \"#f0f921\"]], \"type\": \"histogram2dcontour\"}], \"mesh3d\": [{\"colorbar\": {\"outlinewidth\": 0, \"ticks\": \"\"}, \"type\": \"mesh3d\"}], \"parcoords\": [{\"line\": {\"colorbar\": {\"outlinewidth\": 0, \"ticks\": \"\"}}, \"type\": \"parcoords\"}], \"pie\": [{\"automargin\": true, \"type\": \"pie\"}], \"scatter\": [{\"marker\": {\"colorbar\": {\"outlinewidth\": 0, \"ticks\": \"\"}}, \"type\": \"scatter\"}], \"scatter3d\": [{\"line\": {\"colorbar\": {\"outlinewidth\": 0, \"ticks\": \"\"}}, \"marker\": {\"colorbar\": {\"outlinewidth\": 0, \"ticks\": \"\"}}, \"type\": \"scatter3d\"}], \"scattercarpet\": [{\"marker\": {\"colorbar\": {\"outlinewidth\": 0, \"ticks\": \"\"}}, \"type\": \"scattercarpet\"}], \"scattergeo\": [{\"marker\": {\"colorbar\": {\"outlinewidth\": 0, \"ticks\": \"\"}}, \"type\": \"scattergeo\"}], \"scattergl\": [{\"marker\": {\"colorbar\": {\"outlinewidth\": 0, \"ticks\": \"\"}}, \"type\": \"scattergl\"}], \"scattermapbox\": [{\"marker\": {\"colorbar\": {\"outlinewidth\": 0, \"ticks\": \"\"}}, \"type\": \"scattermapbox\"}], \"scatterpolar\": [{\"marker\": {\"colorbar\": {\"outlinewidth\": 0, \"ticks\": \"\"}}, \"type\": \"scatterpolar\"}], \"scatterpolargl\": [{\"marker\": {\"colorbar\": {\"outlinewidth\": 0, \"ticks\": \"\"}}, \"type\": \"scatterpolargl\"}], \"scatterternary\": [{\"marker\": {\"colorbar\": {\"outlinewidth\": 0, \"ticks\": \"\"}}, \"type\": \"scatterternary\"}], \"surface\": [{\"colorbar\": {\"outlinewidth\": 0, \"ticks\": \"\"}, \"colorscale\": [[0.0, \"#0d0887\"], [0.1111111111111111, \"#46039f\"], [0.2222222222222222, \"#7201a8\"], [0.3333333333333333, \"#9c179e\"], [0.4444444444444444, \"#bd3786\"], [0.5555555555555556, \"#d8576b\"], [0.6666666666666666, \"#ed7953\"], [0.7777777777777778, \"#fb9f3a\"], [0.8888888888888888, \"#fdca26\"], [1.0, \"#f0f921\"]], \"type\": \"surface\"}], \"table\": [{\"cells\": {\"fill\": {\"color\": \"#EBF0F8\"}, \"line\": {\"color\": \"white\"}}, \"header\": {\"fill\": {\"color\": \"#C8D4E3\"}, \"line\": {\"color\": \"white\"}}, \"type\": \"table\"}]}, \"layout\": {\"annotationdefaults\": {\"arrowcolor\": \"#2a3f5f\", \"arrowhead\": 0, \"arrowwidth\": 1}, \"coloraxis\": {\"colorbar\": {\"outlinewidth\": 0, \"ticks\": \"\"}}, \"colorscale\": {\"diverging\": [[0, \"#8e0152\"], [0.1, \"#c51b7d\"], [0.2, \"#de77ae\"], [0.3, \"#f1b6da\"], [0.4, \"#fde0ef\"], [0.5, \"#f7f7f7\"], [0.6, \"#e6f5d0\"], [0.7, \"#b8e186\"], [0.8, \"#7fbc41\"], [0.9, \"#4d9221\"], [1, \"#276419\"]], \"sequential\": [[0.0, \"#0d0887\"], [0.1111111111111111, \"#46039f\"], [0.2222222222222222, \"#7201a8\"], [0.3333333333333333, \"#9c179e\"], [0.4444444444444444, \"#bd3786\"], [0.5555555555555556, \"#d8576b\"], [0.6666666666666666, \"#ed7953\"], [0.7777777777777778, \"#fb9f3a\"], [0.8888888888888888, \"#fdca26\"], [1.0, \"#f0f921\"]], \"sequentialminus\": [[0.0, \"#0d0887\"], [0.1111111111111111, \"#46039f\"], [0.2222222222222222, \"#7201a8\"], [0.3333333333333333, \"#9c179e\"], [0.4444444444444444, \"#bd3786\"], [0.5555555555555556, \"#d8576b\"], [0.6666666666666666, \"#ed7953\"], [0.7777777777777778, \"#fb9f3a\"], [0.8888888888888888, \"#fdca26\"], [1.0, \"#f0f921\"]]}, \"colorway\": [\"#636efa\", \"#EF553B\", \"#00cc96\", \"#ab63fa\", \"#FFA15A\", \"#19d3f3\", \"#FF6692\", \"#B6E880\", \"#FF97FF\", \"#FECB52\"], \"font\": {\"color\": \"#2a3f5f\"}, \"geo\": {\"bgcolor\": \"white\", \"lakecolor\": \"white\", \"landcolor\": \"#E5ECF6\", \"showlakes\": true, \"showland\": true, \"subunitcolor\": \"white\"}, \"hoverlabel\": {\"align\": \"left\"}, \"hovermode\": \"closest\", \"mapbox\": {\"style\": \"light\"}, \"paper_bgcolor\": \"white\", \"plot_bgcolor\": \"#E5ECF6\", \"polar\": {\"angularaxis\": {\"gridcolor\": \"white\", \"linecolor\": \"white\", \"ticks\": \"\"}, \"bgcolor\": \"#E5ECF6\", \"radialaxis\": {\"gridcolor\": \"white\", \"linecolor\": \"white\", \"ticks\": \"\"}}, \"scene\": {\"xaxis\": {\"backgroundcolor\": \"#E5ECF6\", \"gridcolor\": \"white\", \"gridwidth\": 2, \"linecolor\": \"white\", \"showbackground\": true, \"ticks\": \"\", \"zerolinecolor\": \"white\"}, \"yaxis\": {\"backgroundcolor\": \"#E5ECF6\", \"gridcolor\": \"white\", \"gridwidth\": 2, \"linecolor\": \"white\", \"showbackground\": true, \"ticks\": \"\", \"zerolinecolor\": \"white\"}, \"zaxis\": {\"backgroundcolor\": \"#E5ECF6\", \"gridcolor\": \"white\", \"gridwidth\": 2, \"linecolor\": \"white\", \"showbackground\": true, \"ticks\": \"\", \"zerolinecolor\": \"white\"}}, \"shapedefaults\": {\"line\": {\"color\": \"#2a3f5f\"}}, \"ternary\": {\"aaxis\": {\"gridcolor\": \"white\", \"linecolor\": \"white\", \"ticks\": \"\"}, \"baxis\": {\"gridcolor\": \"white\", \"linecolor\": \"white\", \"ticks\": \"\"}, \"bgcolor\": \"#E5ECF6\", \"caxis\": {\"gridcolor\": \"white\", \"linecolor\": \"white\", \"ticks\": \"\"}}, \"title\": {\"x\": 0.05}, \"xaxis\": {\"automargin\": true, \"gridcolor\": \"white\", \"linecolor\": \"white\", \"ticks\": \"\", \"title\": {\"standoff\": 15}, \"zerolinecolor\": \"white\", \"zerolinewidth\": 2}, \"yaxis\": {\"automargin\": true, \"gridcolor\": \"white\", \"linecolor\": \"white\", \"ticks\": \"\", \"title\": {\"standoff\": 15}, \"zerolinecolor\": \"white\", \"zerolinewidth\": 2}}}, \"xaxis\": {\"anchor\": \"y\", \"domain\": [0.0, 1.0], \"title\": {\"text\": \"index\"}}, \"yaxis\": {\"anchor\": \"x\", \"domain\": [0.0, 1.0], \"title\": {\"text\": \"Cases\"}}},                        {\"responsive\": true}                    ).then(function(){\n",
       "                            \n",
       "var gd = document.getElementById('556a7a19-8af6-490f-9a3d-aa1f05ee7b0a');\n",
       "var x = new MutationObserver(function (mutations, observer) {{\n",
       "        var display = window.getComputedStyle(gd).display;\n",
       "        if (!display || display === 'none') {{\n",
       "            console.log([gd, 'removed!']);\n",
       "            Plotly.purge(gd);\n",
       "            observer.disconnect();\n",
       "        }}\n",
       "}});\n",
       "\n",
       "// Listen for the removal of the full notebook cells\n",
       "var notebookContainer = gd.closest('#notebook-container');\n",
       "if (notebookContainer) {{\n",
       "    x.observe(notebookContainer, {childList: true});\n",
       "}}\n",
       "\n",
       "// Listen for the clearing of the current output cell\n",
       "var outputEl = gd.closest('.output');\n",
       "if (outputEl) {{\n",
       "    x.observe(outputEl, {childList: true});\n",
       "}}\n",
       "\n",
       "                        })                };                });            </script>        </div>"
      ]
     },
     "metadata": {},
     "output_type": "display_data"
    }
   ],
   "source": [
    "import numpy as np\n",
    "import plotly.express as px\n",
    "import plotly.graph_objects as go\n",
    "from sklearn.linear_model import LinearRegression\n",
    "from sklearn.preprocessing import PolynomialFeatures\n",
    "\n",
    "def format_coefs(coefs):\n",
    "    equation_list = [f\"{coef}x^{i}\" for i, coef in enumerate(coefs)]\n",
    "    equation = \"$\" +  \" + \".join(equation_list) + \"$\"\n",
    "\n",
    "    replace_map = {\"x^0\": \"\", \"x^1\": \"x\", '+ -': '- '}\n",
    "    for old, new in replace_map.items():\n",
    "        equation = equation.replace(old, new)\n",
    "\n",
    "    return equation\n",
    "\n",
    "\n",
    "x_range = np.linspace(X.min(), X.max(), 100).reshape(-1, 1)\n",
    "\n",
    "fig = px.scatter(df, x=df.index, y='Cases', opacity=0.65)\n",
    "for degree in [1, 2, 3, 4]:\n",
    "    poly = PolynomialFeatures(degree)\n",
    "    poly.fit(X)\n",
    "    X_poly = poly.transform(X)\n",
    "    x_range_poly = poly.transform(x_range)\n",
    "\n",
    "    model = LinearRegression(fit_intercept=False)\n",
    "    model.fit(X_poly, df.Cases)\n",
    "    y_poly = model.predict(x_range_poly)\n",
    "\n",
    "    equation = format_coefs(model.coef_.round(2))\n",
    "    fig.add_traces(go.Scatter(x=x_range.squeeze(), y=y_poly, name=equation))\n",
    "\n",
    "fig.show()"
   ]
  },
  {
   "cell_type": "code",
   "execution_count": null,
   "metadata": {},
   "outputs": [],
   "source": []
  }
 ],
 "metadata": {
  "kernelspec": {
   "display_name": "Python 3",
   "language": "python",
   "name": "python3"
  },
  "language_info": {
   "codemirror_mode": {
    "name": "ipython",
    "version": 3
   },
   "file_extension": ".py",
   "mimetype": "text/x-python",
   "name": "python",
   "nbconvert_exporter": "python",
   "pygments_lexer": "ipython3",
   "version": "3.8.3"
  },
  "varInspector": {
   "cols": {
    "lenName": 16,
    "lenType": 16,
    "lenVar": 40
   },
   "kernels_config": {
    "python": {
     "delete_cmd_postfix": "",
     "delete_cmd_prefix": "del ",
     "library": "var_list.py",
     "varRefreshCmd": "print(var_dic_list())"
    },
    "r": {
     "delete_cmd_postfix": ") ",
     "delete_cmd_prefix": "rm(",
     "library": "var_list.r",
     "varRefreshCmd": "cat(var_dic_list()) "
    }
   },
   "types_to_exclude": [
    "module",
    "function",
    "builtin_function_or_method",
    "instance",
    "_Feature"
   ],
   "window_display": false
  }
 },
 "nbformat": 4,
 "nbformat_minor": 2
}
