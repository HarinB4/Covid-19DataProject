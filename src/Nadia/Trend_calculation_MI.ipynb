{
 "cells": [
  {
   "cell_type": "markdown",
   "metadata": {},
   "source": [
    "# Trend calculation for MI state "
   ]
  },
  {
   "cell_type": "code",
   "execution_count": 1,
   "metadata": {},
   "outputs": [],
   "source": [
    "import pandas as pd"
   ]
  },
  {
   "cell_type": "code",
   "execution_count": 2,
   "metadata": {},
   "outputs": [],
   "source": [
    "#read the covid csv file \n",
    "read_covid19 = pd.read_csv('../../data/output/covid.csv')"
   ]
  },
  {
   "cell_type": "code",
   "execution_count": 39,
   "metadata": {},
   "outputs": [],
   "source": [
    "#group all the county by state \n",
    "group_by_States = covid_df.groupby(['State']).sum()"
   ]
  },
  {
   "cell_type": "markdown",
   "metadata": {},
   "source": [
    "### Get the data for MI state "
   ]
  },
  {
   "cell_type": "code",
   "execution_count": 12,
   "metadata": {
    "scrolled": true
   },
   "outputs": [
    {
     "data": {
      "text/html": [
       "<div>\n",
       "<style scoped>\n",
       "    .dataframe tbody tr th:only-of-type {\n",
       "        vertical-align: middle;\n",
       "    }\n",
       "\n",
       "    .dataframe tbody tr th {\n",
       "        vertical-align: top;\n",
       "    }\n",
       "\n",
       "    .dataframe thead th {\n",
       "        text-align: right;\n",
       "    }\n",
       "</style>\n",
       "<table border=\"1\" class=\"dataframe\">\n",
       "  <thead>\n",
       "    <tr style=\"text-align: right;\">\n",
       "      <th></th>\n",
       "      <th>Unnamed: 0</th>\n",
       "      <th>countyFIPS</th>\n",
       "      <th>population</th>\n",
       "      <th>stateFIPS</th>\n",
       "      <th>1/22/20_x</th>\n",
       "      <th>1/23/20_x</th>\n",
       "      <th>1/24/20_x</th>\n",
       "      <th>1/25/20_x</th>\n",
       "      <th>1/26/20_x</th>\n",
       "      <th>1/27/20_x</th>\n",
       "      <th>...</th>\n",
       "      <th>9/5/20_y</th>\n",
       "      <th>9/6/20_y</th>\n",
       "      <th>9/7/20_y</th>\n",
       "      <th>9/8/20_y</th>\n",
       "      <th>9/9/20_y</th>\n",
       "      <th>9/10/20_y</th>\n",
       "      <th>9/11/20_y</th>\n",
       "      <th>9/12/20_y</th>\n",
       "      <th>9/13/20_y</th>\n",
       "      <th>9/14/20_y</th>\n",
       "    </tr>\n",
       "    <tr>\n",
       "      <th>State</th>\n",
       "      <th></th>\n",
       "      <th></th>\n",
       "      <th></th>\n",
       "      <th></th>\n",
       "      <th></th>\n",
       "      <th></th>\n",
       "      <th></th>\n",
       "      <th></th>\n",
       "      <th></th>\n",
       "      <th></th>\n",
       "      <th></th>\n",
       "      <th></th>\n",
       "      <th></th>\n",
       "      <th></th>\n",
       "      <th></th>\n",
       "      <th></th>\n",
       "      <th></th>\n",
       "      <th></th>\n",
       "      <th></th>\n",
       "      <th></th>\n",
       "      <th></th>\n",
       "    </tr>\n",
       "  </thead>\n",
       "  <tbody>\n",
       "    <tr>\n",
       "      <th>MI</th>\n",
       "      <td>108822</td>\n",
       "      <td>2164889</td>\n",
       "      <td>9986857</td>\n",
       "      <td>2184</td>\n",
       "      <td>0</td>\n",
       "      <td>0</td>\n",
       "      <td>0</td>\n",
       "      <td>0</td>\n",
       "      <td>0</td>\n",
       "      <td>0</td>\n",
       "      <td>...</td>\n",
       "      <td>6802</td>\n",
       "      <td>6802</td>\n",
       "      <td>6807</td>\n",
       "      <td>6810</td>\n",
       "      <td>6871</td>\n",
       "      <td>6893</td>\n",
       "      <td>6900</td>\n",
       "      <td>6911</td>\n",
       "      <td>6911</td>\n",
       "      <td>6921</td>\n",
       "    </tr>\n",
       "  </tbody>\n",
       "</table>\n",
       "<p>1 rows × 478 columns</p>\n",
       "</div>"
      ],
      "text/plain": [
       "       Unnamed: 0  countyFIPS  population  stateFIPS  1/22/20_x  1/23/20_x  \\\n",
       "State                                                                        \n",
       "MI         108822     2164889     9986857       2184          0          0   \n",
       "\n",
       "       1/24/20_x  1/25/20_x  1/26/20_x  1/27/20_x  ...  9/5/20_y  9/6/20_y  \\\n",
       "State                                              ...                       \n",
       "MI             0          0          0          0  ...      6802      6802   \n",
       "\n",
       "       9/7/20_y  9/8/20_y  9/9/20_y  9/10/20_y  9/11/20_y  9/12/20_y  \\\n",
       "State                                                                  \n",
       "MI         6807      6810      6871       6893       6900       6911   \n",
       "\n",
       "       9/13/20_y  9/14/20_y  \n",
       "State                        \n",
       "MI          6911       6921  \n",
       "\n",
       "[1 rows x 478 columns]"
      ]
     },
     "execution_count": 12,
     "metadata": {},
     "output_type": "execute_result"
    }
   ],
   "source": [
    "MI_state = group_by_States[22:23:]\n",
    "MI_state "
   ]
  },
  {
   "cell_type": "markdown",
   "metadata": {},
   "source": [
    "### Get the trend for cases for the most recent week "
   ]
  },
  {
   "cell_type": "code",
   "execution_count": 41,
   "metadata": {},
   "outputs": [
    {
     "data": {
      "text/html": [
       "<div>\n",
       "<style scoped>\n",
       "    .dataframe tbody tr th:only-of-type {\n",
       "        vertical-align: middle;\n",
       "    }\n",
       "\n",
       "    .dataframe tbody tr th {\n",
       "        vertical-align: top;\n",
       "    }\n",
       "\n",
       "    .dataframe thead th {\n",
       "        text-align: right;\n",
       "    }\n",
       "</style>\n",
       "<table border=\"1\" class=\"dataframe\">\n",
       "  <thead>\n",
       "    <tr style=\"text-align: right;\">\n",
       "      <th></th>\n",
       "      <th>9/8/20_x</th>\n",
       "      <th>9/9/20_x</th>\n",
       "      <th>9/10/20_x</th>\n",
       "      <th>9/11/20_x</th>\n",
       "      <th>9/12/20_x</th>\n",
       "      <th>9/13/20_x</th>\n",
       "      <th>9/14/20_x</th>\n",
       "    </tr>\n",
       "    <tr>\n",
       "      <th>State</th>\n",
       "      <th></th>\n",
       "      <th></th>\n",
       "      <th></th>\n",
       "      <th></th>\n",
       "      <th></th>\n",
       "      <th></th>\n",
       "      <th></th>\n",
       "    </tr>\n",
       "  </thead>\n",
       "  <tbody>\n",
       "    <tr>\n",
       "      <th>MI</th>\n",
       "      <td>118894</td>\n",
       "      <td>119851</td>\n",
       "      <td>120838</td>\n",
       "      <td>122246</td>\n",
       "      <td>123032</td>\n",
       "      <td>123032</td>\n",
       "      <td>124287</td>\n",
       "    </tr>\n",
       "  </tbody>\n",
       "</table>\n",
       "</div>"
      ],
      "text/plain": [
       "       9/8/20_x  9/9/20_x  9/10/20_x  9/11/20_x  9/12/20_x  9/13/20_x  \\\n",
       "State                                                                   \n",
       "MI       118894    119851     120838     122246     123032     123032   \n",
       "\n",
       "       9/14/20_x  \n",
       "State             \n",
       "MI        124287  "
      ]
     },
     "execution_count": 41,
     "metadata": {},
     "output_type": "execute_result"
    }
   ],
   "source": [
    "MI_state_death= MI_state.iloc[:1, 234:241]\n",
    "MI_state_death"
   ]
  },
  {
   "cell_type": "markdown",
   "metadata": {},
   "source": [
    "### Get the trend for death for the most recent week "
   ]
  },
  {
   "cell_type": "code",
   "execution_count": 42,
   "metadata": {},
   "outputs": [
    {
     "data": {
      "text/html": [
       "<div>\n",
       "<style scoped>\n",
       "    .dataframe tbody tr th:only-of-type {\n",
       "        vertical-align: middle;\n",
       "    }\n",
       "\n",
       "    .dataframe tbody tr th {\n",
       "        vertical-align: top;\n",
       "    }\n",
       "\n",
       "    .dataframe thead th {\n",
       "        text-align: right;\n",
       "    }\n",
       "</style>\n",
       "<table border=\"1\" class=\"dataframe\">\n",
       "  <thead>\n",
       "    <tr style=\"text-align: right;\">\n",
       "      <th></th>\n",
       "      <th>9/8/20_y</th>\n",
       "      <th>9/9/20_y</th>\n",
       "      <th>9/10/20_y</th>\n",
       "      <th>9/11/20_y</th>\n",
       "      <th>9/12/20_y</th>\n",
       "      <th>9/13/20_y</th>\n",
       "      <th>9/14/20_y</th>\n",
       "    </tr>\n",
       "    <tr>\n",
       "      <th>State</th>\n",
       "      <th></th>\n",
       "      <th></th>\n",
       "      <th></th>\n",
       "      <th></th>\n",
       "      <th></th>\n",
       "      <th></th>\n",
       "      <th></th>\n",
       "    </tr>\n",
       "  </thead>\n",
       "  <tbody>\n",
       "    <tr>\n",
       "      <th>MI</th>\n",
       "      <td>6810</td>\n",
       "      <td>6871</td>\n",
       "      <td>6893</td>\n",
       "      <td>6900</td>\n",
       "      <td>6911</td>\n",
       "      <td>6911</td>\n",
       "      <td>6921</td>\n",
       "    </tr>\n",
       "  </tbody>\n",
       "</table>\n",
       "</div>"
      ],
      "text/plain": [
       "       9/8/20_y  9/9/20_y  9/10/20_y  9/11/20_y  9/12/20_y  9/13/20_y  \\\n",
       "State                                                                   \n",
       "MI         6810      6871       6893       6900       6911       6911   \n",
       "\n",
       "       9/14/20_y  \n",
       "State             \n",
       "MI          6921  "
      ]
     },
     "execution_count": 42,
     "metadata": {},
     "output_type": "execute_result"
    }
   ],
   "source": [
    "MI_state_cases = MI_state.iloc[:,-7:]\n",
    "MI_state_cases"
   ]
  },
  {
   "cell_type": "markdown",
   "metadata": {},
   "source": [
    "## In Michigan, we observe that the trend in both the numbers of daily cases and the death are directly proportional; that is to say as the number of cases increases every day, the number of death increases as well. We can notice that on 9/12/20 and 9/13/20  the numbers of cases was constant and the number of death also. To sum up, for the week of 9/8/20 - 9/14/20 there was an increase in the numbers of cases and death."
   ]
  }
 ],
 "metadata": {
  "kernelspec": {
   "display_name": "Python 3",
   "language": "python",
   "name": "python3"
  },
  "language_info": {
   "codemirror_mode": {
    "name": "ipython",
    "version": 3
   },
   "file_extension": ".py",
   "mimetype": "text/x-python",
   "name": "python",
   "nbconvert_exporter": "python",
   "pygments_lexer": "ipython3",
   "version": "3.7.6"
  }
 },
 "nbformat": 4,
 "nbformat_minor": 4
}
