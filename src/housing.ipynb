{
 "cells": [
  {
   "cell_type": "code",
   "execution_count": 92,
   "metadata": {
    "collapsed": true
   },
   "outputs": [],
   "source": [
    "import pandas as pd"
   ]
  },
  {
   "cell_type": "code",
   "execution_count": 93,
   "outputs": [],
   "source": [
    "path = '../ACS_ESH/Housing.csv'\n",
    "data_frame_housing = pd.read_csv(path)\n"
   ],
   "metadata": {
    "collapsed": false,
    "pycharm": {
     "name": "#%%\n"
    }
   }
  },
  {
   "cell_type": "code",
   "execution_count": 94,
   "outputs": [],
   "source": [
    "def find_fips(data_frame: pd.DataFrame, column_name:str = \"GEO_ID\", split_at:str = 'US') -> pd.DataFrame:\n",
    "    for i in range(data_frame.shape[0]):\n",
    "        val = data_frame[column_name].values[i]\n",
    "        try:\n",
    "            _, fips = val.split(split_at)\n",
    "            data_frame.at[i, column_name] = fips\n",
    "        except:\n",
    "            pass\n",
    "    return data_frame"
   ],
   "metadata": {
    "collapsed": false,
    "pycharm": {
     "name": "#%%\n"
    }
   }
  },
  {
   "cell_type": "code",
   "execution_count": 94,
   "outputs": [],
   "source": [],
   "metadata": {
    "collapsed": false,
    "pycharm": {
     "name": "#%%\n"
    }
   }
  },
  {
   "cell_type": "code",
   "execution_count": 95,
   "outputs": [
    {
     "data": {
      "text/plain": "  GEO_ID                         NAME  \\\n0     id         Geographic Area Name   \n1  01103       Morgan County, Alabama   \n2  06031     Kings County, California   \n3  06053  Monterey County, California   \n4  06057    Nevada County, California   \n\n                                          DP04_0039M  \\\n0  Margin of Error!!BEDROOMS!!Total housing units...   \n1                                                747   \n2                                                352   \n3                                               1529   \n4                                                729   \n\n                                         DP04_0039PE  \\\n0  Percent Estimate!!BEDROOMS!!Total housing unit...   \n1                                                1.8   \n2                                                0.9   \n3                                                4.9   \n4                                                2.7   \n\n                                         DP04_0039PM  \\\n0  Percent Margin of Error!!BEDROOMS!!Total housi...   \n1                                                1.4   \n2                                                0.8   \n3                                                1.1   \n4                                                1.3   \n\n                                          DP04_0040E  \\\n0  Estimate!!BEDROOMS!!Total housing units!!1 bed...   \n1                                               2938   \n2                                               2205   \n3                                              16748   \n4                                               5128   \n\n                                          DP04_0040M  \\\n0  Margin of Error!!BEDROOMS!!Total housing units...   \n1                                                839   \n2                                                757   \n3                                               2013   \n4                                                985   \n\n                                         DP04_0040PE  \\\n0  Percent Estimate!!BEDROOMS!!Total housing unit...   \n1                                                5.6   \n2                                                4.7   \n3                                               11.8   \n4                                                9.5   \n\n                                         DP04_0040PM  \\\n0  Percent Margin of Error!!BEDROOMS!!Total housi...   \n1                                                1.6   \n2                                                1.6   \n3                                                1.4   \n4                                                1.8   \n\n                                          DP04_0041E  ...  \\\n0  Estimate!!BEDROOMS!!Total housing units!!2 bed...  ...   \n1                                              11884  ...   \n2                                              10237  ...   \n3                                              37983  ...   \n4                                              13154  ...   \n\n                                         DP04_0036PM  \\\n0  Percent Margin of Error!!ROOMS!!Total housing ...   \n1                                                2.4   \n2                                                1.1   \n3                                                0.8   \n4                                                1.7   \n\n                                          DP04_0037E  \\\n0  Estimate!!ROOMS!!Total housing units!!Median r...   \n1                                                  6   \n2                                                5.3   \n3                                                  5   \n4                                                5.6   \n\n                                          DP04_0037M  \\\n0  Margin of Error!!ROOMS!!Total housing units!!M...   \n1                                                0.2   \n2                                                0.2   \n3                                                0.2   \n4                                                0.1   \n\n                                         DP04_0037PE  \\\n0  Percent Estimate!!ROOMS!!Total housing units!!...   \n1                                                (X)   \n2                                                (X)   \n3                                                (X)   \n4                                                (X)   \n\n                                         DP04_0037PM  \\\n0  Percent Margin of Error!!ROOMS!!Total housing ...   \n1                                                (X)   \n2                                                (X)   \n3                                                (X)   \n4                                                (X)   \n\n                                DP04_0038E  \\\n0  Estimate!!BEDROOMS!!Total housing units   \n1                                    52284   \n2                                    46649   \n3                                   142414   \n4                                    54264   \n\n                                       DP04_0038M  \\\n0  Margin of Error!!BEDROOMS!!Total housing units   \n1                                             484   \n2                                             383   \n3                                             620   \n4                                             232   \n\n                                       DP04_0038PE  \\\n0  Percent Estimate!!BEDROOMS!!Total housing units   \n1                                            52284   \n2                                            46649   \n3                                           142414   \n4                                            54264   \n\n                                         DP04_0038PM  \\\n0  Percent Margin of Error!!BEDROOMS!!Total housi...   \n1                                                (X)   \n2                                                (X)   \n3                                                (X)   \n4                                                (X)   \n\n                                          DP04_0039E  \n0  Estimate!!BEDROOMS!!Total housing units!!No be...  \n1                                                950  \n2                                                441  \n3                                               7006  \n4                                               1463  \n\n[5 rows x 574 columns]",
      "text/html": "<div>\n<style scoped>\n    .dataframe tbody tr th:only-of-type {\n        vertical-align: middle;\n    }\n\n    .dataframe tbody tr th {\n        vertical-align: top;\n    }\n\n    .dataframe thead th {\n        text-align: right;\n    }\n</style>\n<table border=\"1\" class=\"dataframe\">\n  <thead>\n    <tr style=\"text-align: right;\">\n      <th></th>\n      <th>GEO_ID</th>\n      <th>NAME</th>\n      <th>DP04_0039M</th>\n      <th>DP04_0039PE</th>\n      <th>DP04_0039PM</th>\n      <th>DP04_0040E</th>\n      <th>DP04_0040M</th>\n      <th>DP04_0040PE</th>\n      <th>DP04_0040PM</th>\n      <th>DP04_0041E</th>\n      <th>...</th>\n      <th>DP04_0036PM</th>\n      <th>DP04_0037E</th>\n      <th>DP04_0037M</th>\n      <th>DP04_0037PE</th>\n      <th>DP04_0037PM</th>\n      <th>DP04_0038E</th>\n      <th>DP04_0038M</th>\n      <th>DP04_0038PE</th>\n      <th>DP04_0038PM</th>\n      <th>DP04_0039E</th>\n    </tr>\n  </thead>\n  <tbody>\n    <tr>\n      <th>0</th>\n      <td>id</td>\n      <td>Geographic Area Name</td>\n      <td>Margin of Error!!BEDROOMS!!Total housing units...</td>\n      <td>Percent Estimate!!BEDROOMS!!Total housing unit...</td>\n      <td>Percent Margin of Error!!BEDROOMS!!Total housi...</td>\n      <td>Estimate!!BEDROOMS!!Total housing units!!1 bed...</td>\n      <td>Margin of Error!!BEDROOMS!!Total housing units...</td>\n      <td>Percent Estimate!!BEDROOMS!!Total housing unit...</td>\n      <td>Percent Margin of Error!!BEDROOMS!!Total housi...</td>\n      <td>Estimate!!BEDROOMS!!Total housing units!!2 bed...</td>\n      <td>...</td>\n      <td>Percent Margin of Error!!ROOMS!!Total housing ...</td>\n      <td>Estimate!!ROOMS!!Total housing units!!Median r...</td>\n      <td>Margin of Error!!ROOMS!!Total housing units!!M...</td>\n      <td>Percent Estimate!!ROOMS!!Total housing units!!...</td>\n      <td>Percent Margin of Error!!ROOMS!!Total housing ...</td>\n      <td>Estimate!!BEDROOMS!!Total housing units</td>\n      <td>Margin of Error!!BEDROOMS!!Total housing units</td>\n      <td>Percent Estimate!!BEDROOMS!!Total housing units</td>\n      <td>Percent Margin of Error!!BEDROOMS!!Total housi...</td>\n      <td>Estimate!!BEDROOMS!!Total housing units!!No be...</td>\n    </tr>\n    <tr>\n      <th>1</th>\n      <td>01103</td>\n      <td>Morgan County, Alabama</td>\n      <td>747</td>\n      <td>1.8</td>\n      <td>1.4</td>\n      <td>2938</td>\n      <td>839</td>\n      <td>5.6</td>\n      <td>1.6</td>\n      <td>11884</td>\n      <td>...</td>\n      <td>2.4</td>\n      <td>6</td>\n      <td>0.2</td>\n      <td>(X)</td>\n      <td>(X)</td>\n      <td>52284</td>\n      <td>484</td>\n      <td>52284</td>\n      <td>(X)</td>\n      <td>950</td>\n    </tr>\n    <tr>\n      <th>2</th>\n      <td>06031</td>\n      <td>Kings County, California</td>\n      <td>352</td>\n      <td>0.9</td>\n      <td>0.8</td>\n      <td>2205</td>\n      <td>757</td>\n      <td>4.7</td>\n      <td>1.6</td>\n      <td>10237</td>\n      <td>...</td>\n      <td>1.1</td>\n      <td>5.3</td>\n      <td>0.2</td>\n      <td>(X)</td>\n      <td>(X)</td>\n      <td>46649</td>\n      <td>383</td>\n      <td>46649</td>\n      <td>(X)</td>\n      <td>441</td>\n    </tr>\n    <tr>\n      <th>3</th>\n      <td>06053</td>\n      <td>Monterey County, California</td>\n      <td>1529</td>\n      <td>4.9</td>\n      <td>1.1</td>\n      <td>16748</td>\n      <td>2013</td>\n      <td>11.8</td>\n      <td>1.4</td>\n      <td>37983</td>\n      <td>...</td>\n      <td>0.8</td>\n      <td>5</td>\n      <td>0.2</td>\n      <td>(X)</td>\n      <td>(X)</td>\n      <td>142414</td>\n      <td>620</td>\n      <td>142414</td>\n      <td>(X)</td>\n      <td>7006</td>\n    </tr>\n    <tr>\n      <th>4</th>\n      <td>06057</td>\n      <td>Nevada County, California</td>\n      <td>729</td>\n      <td>2.7</td>\n      <td>1.3</td>\n      <td>5128</td>\n      <td>985</td>\n      <td>9.5</td>\n      <td>1.8</td>\n      <td>13154</td>\n      <td>...</td>\n      <td>1.7</td>\n      <td>5.6</td>\n      <td>0.1</td>\n      <td>(X)</td>\n      <td>(X)</td>\n      <td>54264</td>\n      <td>232</td>\n      <td>54264</td>\n      <td>(X)</td>\n      <td>1463</td>\n    </tr>\n  </tbody>\n</table>\n<p>5 rows × 574 columns</p>\n</div>"
     },
     "execution_count": 95,
     "metadata": {},
     "output_type": "execute_result"
    }
   ],
   "source": [
    "data_frame_housing = pd.read_csv(path)\n",
    "\n",
    "find_fips(data_frame_housing).to_csv(\"test2.csv\")"
   ],
   "metadata": {
    "collapsed": false,
    "pycharm": {
     "name": "#%%\n"
    }
   }
  },
  {
   "cell_type": "code",
   "execution_count": 96,
   "outputs": [
    {
     "data": {
      "text/plain": "    GEO_ID                             NAME DP04_0039M DP04_0039PE  \\\n834  55101         Racine County, Wisconsin        656         1.7   \n835  72021   Bayamón Municipio, Puerto Rico        633         2.6   \n836  72113     Ponce Municipio, Puerto Rico        361         1.1   \n837  72135  Toa Alta Municipio, Puerto Rico        255         1.3   \n838  72137  Toa Baja Municipio, Puerto Rico        308         1.6   \n\n    DP04_0039PM DP04_0040E DP04_0040M DP04_0040PE DP04_0040PM DP04_0041E  ...  \\\n834         0.8       6783       1235         8.2         1.5      23610  ...   \n835         0.8       4251        928         5.1         1.1      12218  ...   \n836         0.6       3847        831         5.9         1.3      12613  ...   \n837           1        246        201         0.9         0.7       3214  ...   \n838         0.9        630        373         1.8         1.1       4668  ...   \n\n    DP04_0036PM DP04_0037E DP04_0037M DP04_0037PE DP04_0037PM DP04_0038E  \\\n834         1.4        5.6        0.3         (X)         (X)      82908   \n835         0.7        5.3        0.1         (X)         (X)      82901   \n836         0.6        4.9        0.1         (X)         (X)      65299   \n837         0.7        5.1        0.1         (X)         (X)      26421   \n838         0.7        4.9        0.1         (X)         (X)      34796   \n\n    DP04_0038M DP04_0038PE DP04_0038PM DP04_0039E  \n834        673       82908         (X)       1431  \n835       1939       82901         (X)       2120  \n836       1787       65299         (X)        744  \n837       1187       26421         (X)        346  \n838       1156       34796         (X)        544  \n\n[5 rows x 574 columns]",
      "text/html": "<div>\n<style scoped>\n    .dataframe tbody tr th:only-of-type {\n        vertical-align: middle;\n    }\n\n    .dataframe tbody tr th {\n        vertical-align: top;\n    }\n\n    .dataframe thead th {\n        text-align: right;\n    }\n</style>\n<table border=\"1\" class=\"dataframe\">\n  <thead>\n    <tr style=\"text-align: right;\">\n      <th></th>\n      <th>GEO_ID</th>\n      <th>NAME</th>\n      <th>DP04_0039M</th>\n      <th>DP04_0039PE</th>\n      <th>DP04_0039PM</th>\n      <th>DP04_0040E</th>\n      <th>DP04_0040M</th>\n      <th>DP04_0040PE</th>\n      <th>DP04_0040PM</th>\n      <th>DP04_0041E</th>\n      <th>...</th>\n      <th>DP04_0036PM</th>\n      <th>DP04_0037E</th>\n      <th>DP04_0037M</th>\n      <th>DP04_0037PE</th>\n      <th>DP04_0037PM</th>\n      <th>DP04_0038E</th>\n      <th>DP04_0038M</th>\n      <th>DP04_0038PE</th>\n      <th>DP04_0038PM</th>\n      <th>DP04_0039E</th>\n    </tr>\n  </thead>\n  <tbody>\n    <tr>\n      <th>834</th>\n      <td>55101</td>\n      <td>Racine County, Wisconsin</td>\n      <td>656</td>\n      <td>1.7</td>\n      <td>0.8</td>\n      <td>6783</td>\n      <td>1235</td>\n      <td>8.2</td>\n      <td>1.5</td>\n      <td>23610</td>\n      <td>...</td>\n      <td>1.4</td>\n      <td>5.6</td>\n      <td>0.3</td>\n      <td>(X)</td>\n      <td>(X)</td>\n      <td>82908</td>\n      <td>673</td>\n      <td>82908</td>\n      <td>(X)</td>\n      <td>1431</td>\n    </tr>\n    <tr>\n      <th>835</th>\n      <td>72021</td>\n      <td>Bayamón Municipio, Puerto Rico</td>\n      <td>633</td>\n      <td>2.6</td>\n      <td>0.8</td>\n      <td>4251</td>\n      <td>928</td>\n      <td>5.1</td>\n      <td>1.1</td>\n      <td>12218</td>\n      <td>...</td>\n      <td>0.7</td>\n      <td>5.3</td>\n      <td>0.1</td>\n      <td>(X)</td>\n      <td>(X)</td>\n      <td>82901</td>\n      <td>1939</td>\n      <td>82901</td>\n      <td>(X)</td>\n      <td>2120</td>\n    </tr>\n    <tr>\n      <th>836</th>\n      <td>72113</td>\n      <td>Ponce Municipio, Puerto Rico</td>\n      <td>361</td>\n      <td>1.1</td>\n      <td>0.6</td>\n      <td>3847</td>\n      <td>831</td>\n      <td>5.9</td>\n      <td>1.3</td>\n      <td>12613</td>\n      <td>...</td>\n      <td>0.6</td>\n      <td>4.9</td>\n      <td>0.1</td>\n      <td>(X)</td>\n      <td>(X)</td>\n      <td>65299</td>\n      <td>1787</td>\n      <td>65299</td>\n      <td>(X)</td>\n      <td>744</td>\n    </tr>\n    <tr>\n      <th>837</th>\n      <td>72135</td>\n      <td>Toa Alta Municipio, Puerto Rico</td>\n      <td>255</td>\n      <td>1.3</td>\n      <td>1</td>\n      <td>246</td>\n      <td>201</td>\n      <td>0.9</td>\n      <td>0.7</td>\n      <td>3214</td>\n      <td>...</td>\n      <td>0.7</td>\n      <td>5.1</td>\n      <td>0.1</td>\n      <td>(X)</td>\n      <td>(X)</td>\n      <td>26421</td>\n      <td>1187</td>\n      <td>26421</td>\n      <td>(X)</td>\n      <td>346</td>\n    </tr>\n    <tr>\n      <th>838</th>\n      <td>72137</td>\n      <td>Toa Baja Municipio, Puerto Rico</td>\n      <td>308</td>\n      <td>1.6</td>\n      <td>0.9</td>\n      <td>630</td>\n      <td>373</td>\n      <td>1.8</td>\n      <td>1.1</td>\n      <td>4668</td>\n      <td>...</td>\n      <td>0.7</td>\n      <td>4.9</td>\n      <td>0.1</td>\n      <td>(X)</td>\n      <td>(X)</td>\n      <td>34796</td>\n      <td>1156</td>\n      <td>34796</td>\n      <td>(X)</td>\n      <td>544</td>\n    </tr>\n  </tbody>\n</table>\n<p>5 rows × 574 columns</p>\n</div>"
     },
     "execution_count": 96,
     "metadata": {},
     "output_type": "execute_result"
    }
   ],
   "source": [
    "data_frame_housing.tail()\n",
    "\n"
   ],
   "metadata": {
    "collapsed": false,
    "pycharm": {
     "name": "#%%\n"
    }
   }
  }
 ],
 "metadata": {
  "kernelspec": {
   "display_name": "Python 3",
   "language": "python",
   "name": "python3"
  },
  "language_info": {
   "codemirror_mode": {
    "name": "ipython",
    "version": 2
   },
   "file_extension": ".py",
   "mimetype": "text/x-python",
   "name": "python",
   "nbconvert_exporter": "python",
   "pygments_lexer": "ipython2",
   "version": "2.7.6"
  }
 },
 "nbformat": 4,
 "nbformat_minor": 0
}