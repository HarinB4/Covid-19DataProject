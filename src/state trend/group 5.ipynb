{
 "cells": [
  {
   "cell_type": "markdown",
   "metadata": {
    "collapsed": true,
    "pycharm": {
     "name": "#%% md\n"
    }
   },
   "source": [
    "# Display the trends of the SC,\tSD,\tTN,\tTX,\tUT,\tVA,\tVT,\tWA,\tWI,\tWV and WY state cases and deaths"
   ]
  },
  {
   "cell_type": "code",
   "execution_count": 165,
   "outputs": [],
   "source": [
    "import pandas as pd"
   ],
   "metadata": {
    "collapsed": false,
    "pycharm": {
     "name": "#%%\n"
    }
   }
  },
  {
   "cell_type": "markdown",
   "source": [
    "## Variables"
   ],
   "metadata": {
    "collapsed": false,
    "pycharm": {
     "name": "#%% md\n"
    }
   }
  },
  {
   "cell_type": "code",
   "execution_count": null,
   "outputs": [],
   "source": [
    "last_day_date = '9/14/20'\n",
    "week = -6\n",
    "month = -30\n",
    "death_tag = '_y'\n",
    "cases_tag = '_x'\n",
    "covid19_file_path = \"../../data/output/covid.csv\""
   ],
   "metadata": {
    "collapsed": false,
    "pycharm": {
     "name": "#%%\n"
    }
   }
  },
  {
   "cell_type": "markdown",
   "source": [
    "## Read covid-19 data"
   ],
   "metadata": {
    "collapsed": false
   }
  },
  {
   "cell_type": "code",
   "execution_count": null,
   "outputs": [],
   "source": [
    "data_frame = pd.read_csv(covid19_file_path)\n"
   ],
   "metadata": {
    "collapsed": false,
    "pycharm": {
     "name": "#%%\n"
    }
   }
  },
  {
   "cell_type": "markdown",
   "source": [
    "## Group the data frame based on State name"
   ],
   "metadata": {
    "collapsed": false
   }
  },
  {
   "cell_type": "code",
   "execution_count": 167,
   "outputs": [],
   "source": [
    "States = data_frame.groupby(['State']).sum()\n"
   ],
   "metadata": {
    "collapsed": false,
    "pycharm": {
     "name": "#%%\n"
    }
   }
  },
  {
   "cell_type": "markdown",
   "source": [
    "## Select the last 11 states from the States data frame"
   ],
   "metadata": {
    "collapsed": false
   }
  },
  {
   "cell_type": "code",
   "execution_count": 168,
   "outputs": [
    {
     "data": {
      "text/plain": "       Unnamed: 0  countyFIPS  population  stateFIPS  1/22/20_x  1/23/20_x  \\\nState                                                                        \nSC         111907     2072116   5148714.0     2115.0        0.0        0.0   \nSD         163346     3040485    884659.0     3082.0        0.0        0.0   \nTN         241872     4474025   6829174.0     4512.0        0.0        0.0   \nTX         687225    12256516  28995881.0    12240.0        0.0        0.0   \nUT          85125     1421841   3205958.0     1470.0        0.0        0.0   \nVA         434888     7489209   8535519.0     7497.0        0.0        0.0   \nVT          42900      700196    623989.0      750.0        0.0        0.0   \nWA         120860     2068521   7614893.0     2120.0        1.0        1.0   \nWI         228782     3965119   5822434.0     4015.0        0.0        0.0   \nWV         171892     2973025   1792147.0     3024.0        0.0        0.0   \nWY          76380     1288529    578759.0     1344.0        0.0        0.0   \n\n       1/24/20_x  1/25/20_x  1/26/20_x  1/27/20_x  ...  9/5/20_y  9/6/20_y  \\\nState                                              ...                       \nSC           0.0        0.0        0.0        0.0  ...    2876.0    2886.0   \nSD           0.0        0.0        0.0        0.0  ...     173.0     173.0   \nTN           0.0        0.0        0.0        0.0  ...    1862.0    1865.0   \nTX           0.0        0.0        0.0        0.0  ...   13402.0   13466.0   \nUT           0.0        0.0        0.0        0.0  ...     420.0     422.0   \nVA           0.0        0.0        0.0        0.0  ...    2677.0    2677.0   \nVT           0.0        0.0        0.0        0.0  ...      58.0      58.0   \nWA           1.0        1.0        1.0        1.0  ...    1950.0    1950.0   \nWI           0.0        0.0        0.0        0.0  ...    1167.0    1167.0   \nWV           0.0        0.0        0.0        0.0  ...     242.0     245.0   \nWY           0.0        0.0        0.0        0.0  ...      42.0      42.0   \n\n       9/7/20_y  9/8/20_y  9/9/20_y  9/10/20_y  9/11/20_y  9/12/20_y  \\\nState                                                                  \nSC       2906.0    2911.0    2939.0     2975.0     3024.0     3040.0   \nSD        173.0     173.0     173.0      177.0      177.0      183.0   \nTN       1868.0    1893.0    1930.0     1988.0     2024.0     2064.0   \nTX      13485.0   13546.0   13686.0    13847.0    13991.0    14138.0   \nUT        423.0     424.0     427.0      430.0      431.0      433.0   \nVA       2683.0    2685.0    2696.0     2707.0     2711.0     2722.0   \nVT         58.0      58.0      58.0       58.0       58.0       58.0   \nWA       1950.0    1950.0    1976.0     1983.0     1991.0     1991.0   \nWI       1167.0    1168.0    1183.0     1193.0     1197.0     1209.0   \nWV        246.0     250.0     253.0      255.0      262.0      264.0   \nWY         42.0      42.0      42.0       42.0       42.0       42.0   \n\n       9/13/20_y  9/14/20_y  \nState                        \nSC        3064.0     3077.0  \nSD         184.0      184.0  \nTN        2078.0     2097.0  \nTX       14185.0    14206.0  \nUT         433.0      436.0  \nVA        2724.0     2743.0  \nVT          58.0       58.0  \nWA        1991.0     2006.0  \nWI        1210.0     1210.0  \nWV         264.0      275.0  \nWY          42.0       46.0  \n\n[11 rows x 478 columns]",
      "text/html": "<div>\n<style scoped>\n    .dataframe tbody tr th:only-of-type {\n        vertical-align: middle;\n    }\n\n    .dataframe tbody tr th {\n        vertical-align: top;\n    }\n\n    .dataframe thead th {\n        text-align: right;\n    }\n</style>\n<table border=\"1\" class=\"dataframe\">\n  <thead>\n    <tr style=\"text-align: right;\">\n      <th></th>\n      <th>Unnamed: 0</th>\n      <th>countyFIPS</th>\n      <th>population</th>\n      <th>stateFIPS</th>\n      <th>1/22/20_x</th>\n      <th>1/23/20_x</th>\n      <th>1/24/20_x</th>\n      <th>1/25/20_x</th>\n      <th>1/26/20_x</th>\n      <th>1/27/20_x</th>\n      <th>...</th>\n      <th>9/5/20_y</th>\n      <th>9/6/20_y</th>\n      <th>9/7/20_y</th>\n      <th>9/8/20_y</th>\n      <th>9/9/20_y</th>\n      <th>9/10/20_y</th>\n      <th>9/11/20_y</th>\n      <th>9/12/20_y</th>\n      <th>9/13/20_y</th>\n      <th>9/14/20_y</th>\n    </tr>\n    <tr>\n      <th>State</th>\n      <th></th>\n      <th></th>\n      <th></th>\n      <th></th>\n      <th></th>\n      <th></th>\n      <th></th>\n      <th></th>\n      <th></th>\n      <th></th>\n      <th></th>\n      <th></th>\n      <th></th>\n      <th></th>\n      <th></th>\n      <th></th>\n      <th></th>\n      <th></th>\n      <th></th>\n      <th></th>\n      <th></th>\n    </tr>\n  </thead>\n  <tbody>\n    <tr>\n      <th>SC</th>\n      <td>111907</td>\n      <td>2072116</td>\n      <td>5148714.0</td>\n      <td>2115.0</td>\n      <td>0.0</td>\n      <td>0.0</td>\n      <td>0.0</td>\n      <td>0.0</td>\n      <td>0.0</td>\n      <td>0.0</td>\n      <td>...</td>\n      <td>2876.0</td>\n      <td>2886.0</td>\n      <td>2906.0</td>\n      <td>2911.0</td>\n      <td>2939.0</td>\n      <td>2975.0</td>\n      <td>3024.0</td>\n      <td>3040.0</td>\n      <td>3064.0</td>\n      <td>3077.0</td>\n    </tr>\n    <tr>\n      <th>SD</th>\n      <td>163346</td>\n      <td>3040485</td>\n      <td>884659.0</td>\n      <td>3082.0</td>\n      <td>0.0</td>\n      <td>0.0</td>\n      <td>0.0</td>\n      <td>0.0</td>\n      <td>0.0</td>\n      <td>0.0</td>\n      <td>...</td>\n      <td>173.0</td>\n      <td>173.0</td>\n      <td>173.0</td>\n      <td>173.0</td>\n      <td>173.0</td>\n      <td>177.0</td>\n      <td>177.0</td>\n      <td>183.0</td>\n      <td>184.0</td>\n      <td>184.0</td>\n    </tr>\n    <tr>\n      <th>TN</th>\n      <td>241872</td>\n      <td>4474025</td>\n      <td>6829174.0</td>\n      <td>4512.0</td>\n      <td>0.0</td>\n      <td>0.0</td>\n      <td>0.0</td>\n      <td>0.0</td>\n      <td>0.0</td>\n      <td>0.0</td>\n      <td>...</td>\n      <td>1862.0</td>\n      <td>1865.0</td>\n      <td>1868.0</td>\n      <td>1893.0</td>\n      <td>1930.0</td>\n      <td>1988.0</td>\n      <td>2024.0</td>\n      <td>2064.0</td>\n      <td>2078.0</td>\n      <td>2097.0</td>\n    </tr>\n    <tr>\n      <th>TX</th>\n      <td>687225</td>\n      <td>12256516</td>\n      <td>28995881.0</td>\n      <td>12240.0</td>\n      <td>0.0</td>\n      <td>0.0</td>\n      <td>0.0</td>\n      <td>0.0</td>\n      <td>0.0</td>\n      <td>0.0</td>\n      <td>...</td>\n      <td>13402.0</td>\n      <td>13466.0</td>\n      <td>13485.0</td>\n      <td>13546.0</td>\n      <td>13686.0</td>\n      <td>13847.0</td>\n      <td>13991.0</td>\n      <td>14138.0</td>\n      <td>14185.0</td>\n      <td>14206.0</td>\n    </tr>\n    <tr>\n      <th>UT</th>\n      <td>85125</td>\n      <td>1421841</td>\n      <td>3205958.0</td>\n      <td>1470.0</td>\n      <td>0.0</td>\n      <td>0.0</td>\n      <td>0.0</td>\n      <td>0.0</td>\n      <td>0.0</td>\n      <td>0.0</td>\n      <td>...</td>\n      <td>420.0</td>\n      <td>422.0</td>\n      <td>423.0</td>\n      <td>424.0</td>\n      <td>427.0</td>\n      <td>430.0</td>\n      <td>431.0</td>\n      <td>433.0</td>\n      <td>433.0</td>\n      <td>436.0</td>\n    </tr>\n    <tr>\n      <th>VA</th>\n      <td>434888</td>\n      <td>7489209</td>\n      <td>8535519.0</td>\n      <td>7497.0</td>\n      <td>0.0</td>\n      <td>0.0</td>\n      <td>0.0</td>\n      <td>0.0</td>\n      <td>0.0</td>\n      <td>0.0</td>\n      <td>...</td>\n      <td>2677.0</td>\n      <td>2677.0</td>\n      <td>2683.0</td>\n      <td>2685.0</td>\n      <td>2696.0</td>\n      <td>2707.0</td>\n      <td>2711.0</td>\n      <td>2722.0</td>\n      <td>2724.0</td>\n      <td>2743.0</td>\n    </tr>\n    <tr>\n      <th>VT</th>\n      <td>42900</td>\n      <td>700196</td>\n      <td>623989.0</td>\n      <td>750.0</td>\n      <td>0.0</td>\n      <td>0.0</td>\n      <td>0.0</td>\n      <td>0.0</td>\n      <td>0.0</td>\n      <td>0.0</td>\n      <td>...</td>\n      <td>58.0</td>\n      <td>58.0</td>\n      <td>58.0</td>\n      <td>58.0</td>\n      <td>58.0</td>\n      <td>58.0</td>\n      <td>58.0</td>\n      <td>58.0</td>\n      <td>58.0</td>\n      <td>58.0</td>\n    </tr>\n    <tr>\n      <th>WA</th>\n      <td>120860</td>\n      <td>2068521</td>\n      <td>7614893.0</td>\n      <td>2120.0</td>\n      <td>1.0</td>\n      <td>1.0</td>\n      <td>1.0</td>\n      <td>1.0</td>\n      <td>1.0</td>\n      <td>1.0</td>\n      <td>...</td>\n      <td>1950.0</td>\n      <td>1950.0</td>\n      <td>1950.0</td>\n      <td>1950.0</td>\n      <td>1976.0</td>\n      <td>1983.0</td>\n      <td>1991.0</td>\n      <td>1991.0</td>\n      <td>1991.0</td>\n      <td>2006.0</td>\n    </tr>\n    <tr>\n      <th>WI</th>\n      <td>228782</td>\n      <td>3965119</td>\n      <td>5822434.0</td>\n      <td>4015.0</td>\n      <td>0.0</td>\n      <td>0.0</td>\n      <td>0.0</td>\n      <td>0.0</td>\n      <td>0.0</td>\n      <td>0.0</td>\n      <td>...</td>\n      <td>1167.0</td>\n      <td>1167.0</td>\n      <td>1167.0</td>\n      <td>1168.0</td>\n      <td>1183.0</td>\n      <td>1193.0</td>\n      <td>1197.0</td>\n      <td>1209.0</td>\n      <td>1210.0</td>\n      <td>1210.0</td>\n    </tr>\n    <tr>\n      <th>WV</th>\n      <td>171892</td>\n      <td>2973025</td>\n      <td>1792147.0</td>\n      <td>3024.0</td>\n      <td>0.0</td>\n      <td>0.0</td>\n      <td>0.0</td>\n      <td>0.0</td>\n      <td>0.0</td>\n      <td>0.0</td>\n      <td>...</td>\n      <td>242.0</td>\n      <td>245.0</td>\n      <td>246.0</td>\n      <td>250.0</td>\n      <td>253.0</td>\n      <td>255.0</td>\n      <td>262.0</td>\n      <td>264.0</td>\n      <td>264.0</td>\n      <td>275.0</td>\n    </tr>\n    <tr>\n      <th>WY</th>\n      <td>76380</td>\n      <td>1288529</td>\n      <td>578759.0</td>\n      <td>1344.0</td>\n      <td>0.0</td>\n      <td>0.0</td>\n      <td>0.0</td>\n      <td>0.0</td>\n      <td>0.0</td>\n      <td>0.0</td>\n      <td>...</td>\n      <td>42.0</td>\n      <td>42.0</td>\n      <td>42.0</td>\n      <td>42.0</td>\n      <td>42.0</td>\n      <td>42.0</td>\n      <td>42.0</td>\n      <td>42.0</td>\n      <td>42.0</td>\n      <td>46.0</td>\n    </tr>\n  </tbody>\n</table>\n<p>11 rows × 478 columns</p>\n</div>"
     },
     "execution_count": 168,
     "metadata": {},
     "output_type": "execute_result"
    }
   ],
   "source": [
    "# The States: SC\tSD\tTN\tTX\tUT\tVA\tVT\tWA\tWI\tWV\tWY\n",
    "last_11_states = States[40::]\n",
    "last_11_states.head()\n"
   ],
   "metadata": {
    "collapsed": false,
    "pycharm": {
     "name": "#%%\n"
    }
   }
  },
  {
   "cell_type": "markdown",
   "source": [
    "## Display the cases for the last 7 days"
   ],
   "metadata": {
    "collapsed": false
   }
  },
  {
   "cell_type": "code",
   "execution_count": 169,
   "outputs": [
    {
     "data": {
      "text/plain": "       9/8/20_x  9/9/20_x  9/10/20_x  9/11/20_x  9/12/20_x  9/13/20_x  \\\nState                                                                   \nSC     125881.0  126176.0   126592.0   129045.0   129978.0   131864.0   \nSD      15398.0   15570.0    15834.0    16117.0    16437.0    16638.0   \nTN     165715.0  166587.0   168237.0   169856.0   170891.0   171824.0   \nTX     650146.0  654570.0   658588.0   662083.0   666524.0   670026.0   \nUT      55382.0   55689.0    56048.0    56657.0    57300.0    57920.0   \nVA     128400.0  129283.0   130519.0   131637.0   132939.0   133811.0   \nVT       1654.0    1654.0     1660.0     1668.0     1677.0     1684.0   \nWA      77541.0   78007.0    78464.0    79011.0    79476.0    79825.0   \nWI      82474.0   83333.0    84880.0    86250.0    87603.0    89184.0   \nWV      11654.0   11802.0    12002.0    12168.0    12518.0    12693.0   \nWY       4102.0    4151.0     4196.0     4260.0     4292.0     4341.0   \n\n       9/14/20_x  \nState             \nSC      132680.0  \nSD       16801.0  \nTN      174274.0  \nTX      672641.0  \nUT       58451.0  \nVA      134571.0  \nVT        1696.0  \nWA       80138.0  \nWI       89956.0  \nWV       12820.0  \nWY        4392.0  ",
      "text/html": "<div>\n<style scoped>\n    .dataframe tbody tr th:only-of-type {\n        vertical-align: middle;\n    }\n\n    .dataframe tbody tr th {\n        vertical-align: top;\n    }\n\n    .dataframe thead th {\n        text-align: right;\n    }\n</style>\n<table border=\"1\" class=\"dataframe\">\n  <thead>\n    <tr style=\"text-align: right;\">\n      <th></th>\n      <th>9/8/20_x</th>\n      <th>9/9/20_x</th>\n      <th>9/10/20_x</th>\n      <th>9/11/20_x</th>\n      <th>9/12/20_x</th>\n      <th>9/13/20_x</th>\n      <th>9/14/20_x</th>\n    </tr>\n    <tr>\n      <th>State</th>\n      <th></th>\n      <th></th>\n      <th></th>\n      <th></th>\n      <th></th>\n      <th></th>\n      <th></th>\n    </tr>\n  </thead>\n  <tbody>\n    <tr>\n      <th>SC</th>\n      <td>125881.0</td>\n      <td>126176.0</td>\n      <td>126592.0</td>\n      <td>129045.0</td>\n      <td>129978.0</td>\n      <td>131864.0</td>\n      <td>132680.0</td>\n    </tr>\n    <tr>\n      <th>SD</th>\n      <td>15398.0</td>\n      <td>15570.0</td>\n      <td>15834.0</td>\n      <td>16117.0</td>\n      <td>16437.0</td>\n      <td>16638.0</td>\n      <td>16801.0</td>\n    </tr>\n    <tr>\n      <th>TN</th>\n      <td>165715.0</td>\n      <td>166587.0</td>\n      <td>168237.0</td>\n      <td>169856.0</td>\n      <td>170891.0</td>\n      <td>171824.0</td>\n      <td>174274.0</td>\n    </tr>\n    <tr>\n      <th>TX</th>\n      <td>650146.0</td>\n      <td>654570.0</td>\n      <td>658588.0</td>\n      <td>662083.0</td>\n      <td>666524.0</td>\n      <td>670026.0</td>\n      <td>672641.0</td>\n    </tr>\n    <tr>\n      <th>UT</th>\n      <td>55382.0</td>\n      <td>55689.0</td>\n      <td>56048.0</td>\n      <td>56657.0</td>\n      <td>57300.0</td>\n      <td>57920.0</td>\n      <td>58451.0</td>\n    </tr>\n    <tr>\n      <th>VA</th>\n      <td>128400.0</td>\n      <td>129283.0</td>\n      <td>130519.0</td>\n      <td>131637.0</td>\n      <td>132939.0</td>\n      <td>133811.0</td>\n      <td>134571.0</td>\n    </tr>\n    <tr>\n      <th>VT</th>\n      <td>1654.0</td>\n      <td>1654.0</td>\n      <td>1660.0</td>\n      <td>1668.0</td>\n      <td>1677.0</td>\n      <td>1684.0</td>\n      <td>1696.0</td>\n    </tr>\n    <tr>\n      <th>WA</th>\n      <td>77541.0</td>\n      <td>78007.0</td>\n      <td>78464.0</td>\n      <td>79011.0</td>\n      <td>79476.0</td>\n      <td>79825.0</td>\n      <td>80138.0</td>\n    </tr>\n    <tr>\n      <th>WI</th>\n      <td>82474.0</td>\n      <td>83333.0</td>\n      <td>84880.0</td>\n      <td>86250.0</td>\n      <td>87603.0</td>\n      <td>89184.0</td>\n      <td>89956.0</td>\n    </tr>\n    <tr>\n      <th>WV</th>\n      <td>11654.0</td>\n      <td>11802.0</td>\n      <td>12002.0</td>\n      <td>12168.0</td>\n      <td>12518.0</td>\n      <td>12693.0</td>\n      <td>12820.0</td>\n    </tr>\n    <tr>\n      <th>WY</th>\n      <td>4102.0</td>\n      <td>4151.0</td>\n      <td>4196.0</td>\n      <td>4260.0</td>\n      <td>4292.0</td>\n      <td>4341.0</td>\n      <td>4392.0</td>\n    </tr>\n  </tbody>\n</table>\n</div>"
     },
     "execution_count": 169,
     "metadata": {},
     "output_type": "execute_result"
    }
   ],
   "source": [
    "states_cases = last_11_states.columns.get_loc(last_day_date + cases_tag)\n",
    "last_7day_states_cases=last_11_states[last_11_states.columns[states_cases+week:states_cases+1]]\n",
    "last_7day_states_cases\n"
   ],
   "metadata": {
    "collapsed": false,
    "pycharm": {
     "name": "#%%\n"
    }
   }
  },
  {
   "cell_type": "markdown",
   "source": [
    "## Display the death for the last 7 days"
   ],
   "metadata": {
    "collapsed": false
   }
  },
  {
   "cell_type": "code",
   "execution_count": 170,
   "outputs": [
    {
     "data": {
      "text/plain": "       9/8/20_y  9/9/20_y  9/10/20_y  9/11/20_y  9/12/20_y  9/13/20_y  \\\nState                                                                   \nSC       2911.0    2939.0     2975.0     3024.0     3040.0     3064.0   \nSD        173.0     173.0      177.0      177.0      183.0      184.0   \nTN       1893.0    1930.0     1988.0     2024.0     2064.0     2078.0   \nTX      13546.0   13686.0    13847.0    13991.0    14138.0    14185.0   \nUT        424.0     427.0      430.0      431.0      433.0      433.0   \nVA       2685.0    2696.0     2707.0     2711.0     2722.0     2724.0   \nVT         58.0      58.0       58.0       58.0       58.0       58.0   \nWA       1950.0    1976.0     1983.0     1991.0     1991.0     1991.0   \nWI       1168.0    1183.0     1193.0     1197.0     1209.0     1210.0   \nWV        250.0     253.0      255.0      262.0      264.0      264.0   \nWY         42.0      42.0       42.0       42.0       42.0       42.0   \n\n       9/14/20_y  \nState             \nSC        3077.0  \nSD         184.0  \nTN        2097.0  \nTX       14206.0  \nUT         436.0  \nVA        2743.0  \nVT          58.0  \nWA        2006.0  \nWI        1210.0  \nWV         275.0  \nWY          46.0  ",
      "text/html": "<div>\n<style scoped>\n    .dataframe tbody tr th:only-of-type {\n        vertical-align: middle;\n    }\n\n    .dataframe tbody tr th {\n        vertical-align: top;\n    }\n\n    .dataframe thead th {\n        text-align: right;\n    }\n</style>\n<table border=\"1\" class=\"dataframe\">\n  <thead>\n    <tr style=\"text-align: right;\">\n      <th></th>\n      <th>9/8/20_y</th>\n      <th>9/9/20_y</th>\n      <th>9/10/20_y</th>\n      <th>9/11/20_y</th>\n      <th>9/12/20_y</th>\n      <th>9/13/20_y</th>\n      <th>9/14/20_y</th>\n    </tr>\n    <tr>\n      <th>State</th>\n      <th></th>\n      <th></th>\n      <th></th>\n      <th></th>\n      <th></th>\n      <th></th>\n      <th></th>\n    </tr>\n  </thead>\n  <tbody>\n    <tr>\n      <th>SC</th>\n      <td>2911.0</td>\n      <td>2939.0</td>\n      <td>2975.0</td>\n      <td>3024.0</td>\n      <td>3040.0</td>\n      <td>3064.0</td>\n      <td>3077.0</td>\n    </tr>\n    <tr>\n      <th>SD</th>\n      <td>173.0</td>\n      <td>173.0</td>\n      <td>177.0</td>\n      <td>177.0</td>\n      <td>183.0</td>\n      <td>184.0</td>\n      <td>184.0</td>\n    </tr>\n    <tr>\n      <th>TN</th>\n      <td>1893.0</td>\n      <td>1930.0</td>\n      <td>1988.0</td>\n      <td>2024.0</td>\n      <td>2064.0</td>\n      <td>2078.0</td>\n      <td>2097.0</td>\n    </tr>\n    <tr>\n      <th>TX</th>\n      <td>13546.0</td>\n      <td>13686.0</td>\n      <td>13847.0</td>\n      <td>13991.0</td>\n      <td>14138.0</td>\n      <td>14185.0</td>\n      <td>14206.0</td>\n    </tr>\n    <tr>\n      <th>UT</th>\n      <td>424.0</td>\n      <td>427.0</td>\n      <td>430.0</td>\n      <td>431.0</td>\n      <td>433.0</td>\n      <td>433.0</td>\n      <td>436.0</td>\n    </tr>\n    <tr>\n      <th>VA</th>\n      <td>2685.0</td>\n      <td>2696.0</td>\n      <td>2707.0</td>\n      <td>2711.0</td>\n      <td>2722.0</td>\n      <td>2724.0</td>\n      <td>2743.0</td>\n    </tr>\n    <tr>\n      <th>VT</th>\n      <td>58.0</td>\n      <td>58.0</td>\n      <td>58.0</td>\n      <td>58.0</td>\n      <td>58.0</td>\n      <td>58.0</td>\n      <td>58.0</td>\n    </tr>\n    <tr>\n      <th>WA</th>\n      <td>1950.0</td>\n      <td>1976.0</td>\n      <td>1983.0</td>\n      <td>1991.0</td>\n      <td>1991.0</td>\n      <td>1991.0</td>\n      <td>2006.0</td>\n    </tr>\n    <tr>\n      <th>WI</th>\n      <td>1168.0</td>\n      <td>1183.0</td>\n      <td>1193.0</td>\n      <td>1197.0</td>\n      <td>1209.0</td>\n      <td>1210.0</td>\n      <td>1210.0</td>\n    </tr>\n    <tr>\n      <th>WV</th>\n      <td>250.0</td>\n      <td>253.0</td>\n      <td>255.0</td>\n      <td>262.0</td>\n      <td>264.0</td>\n      <td>264.0</td>\n      <td>275.0</td>\n    </tr>\n    <tr>\n      <th>WY</th>\n      <td>42.0</td>\n      <td>42.0</td>\n      <td>42.0</td>\n      <td>42.0</td>\n      <td>42.0</td>\n      <td>42.0</td>\n      <td>46.0</td>\n    </tr>\n  </tbody>\n</table>\n</div>"
     },
     "execution_count": 170,
     "metadata": {},
     "output_type": "execute_result"
    }
   ],
   "source": [
    "states_death = last_11_states.columns.get_loc(last_day_date + death_tag)\n",
    "last_7day_states_death=last_11_states[last_11_states.columns[states_death+week:states_death+1]]\n",
    "last_7day_states_death\n"
   ],
   "metadata": {
    "collapsed": false,
    "pycharm": {
     "name": "#%%\n"
    }
   }
  }
 ],
 "metadata": {
  "kernelspec": {
   "display_name": "Python 3",
   "language": "python",
   "name": "python3"
  },
  "language_info": {
   "codemirror_mode": {
    "name": "ipython",
    "version": 2
   },
   "file_extension": ".py",
   "mimetype": "text/x-python",
   "name": "python",
   "nbconvert_exporter": "python",
   "pygments_lexer": "ipython2",
   "version": "2.7.6"
  }
 },
 "nbformat": 4,
 "nbformat_minor": 0
}