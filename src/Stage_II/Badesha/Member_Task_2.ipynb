{
 "cells": [
  {
   "cell_type": "markdown",
   "metadata": {},
   "source": [
    "# Stage II: Task 2: Member"
   ]
  },
  {
   "cell_type": "code",
   "execution_count": 1,
   "metadata": {},
   "outputs": [],
   "source": [
    "import numpy as np\n",
    "import pandas as pd\n",
    "import math\n",
    "import matplotlib.pyplot as plt\n",
    "import seaborn as sns\n",
    "import scipy.stats as stats\n",
    "from numpy import random\n",
    "from IPython.display import HTML, display\n",
    "from scipy.stats import iqr\n",
    "import statsmodels.api as sm\n",
    "import plotly.express as px\n",
    "import plotly\n",
    "import plotly.graph_objs as go\n",
    "from patsy import dmatrices\n",
    "import plotly.tools as tls\n",
    "\n",
    "%matplotlib inline\n"
   ]
  },
  {
   "cell_type": "code",
   "execution_count": 2,
   "metadata": {},
   "outputs": [],
   "source": [
    "import os\n",
    "\n",
    "if not os.path.exists(\"images\"):\n",
    "    os.mkdir(\"images\")"
   ]
  },
  {
   "cell_type": "markdown",
   "metadata": {},
   "source": [
    "# Get dataset of states that was created in other notebook"
   ]
  },
  {
   "cell_type": "code",
   "execution_count": 3,
   "metadata": {},
   "outputs": [],
   "source": [
    "# get state cases and deaths dataset from previous notebook \n",
    "# Dataset already normalized per 1 million population\n",
    "MyStateCases  = pd.read_csv(\"Data/State_cases.csv\").set_index('Date')\n",
    "MyStateDeaths = pd.read_csv(\"Data/State_deaths.csv\").set_index('Date')\n",
    "Read = pd.read_csv(\"../../../data/output/covid.csv\")\n",
    "df = Read.drop([\"countyFIPS\",\"stateFIPS\",\"Unnamed: 0\"], axis=1)"
   ]
  },
  {
   "cell_type": "code",
   "execution_count": 4,
   "metadata": {},
   "outputs": [
    {
     "name": "stdout",
     "output_type": "stream",
     "text": [
      "               CA     FL     NC     NY     PA     TX\n",
      "Date                                                \n",
      "2020-10-22  173.0  261.0  229.0   84.0  161.0  219.0\n",
      "2020-10-23  139.0  172.0  314.0   84.0  173.0  227.0\n",
      "2020-10-24  111.0  208.0    0.0  106.0  160.0  225.0\n",
      "2020-10-25   53.0  111.0  154.0   84.0  130.0  148.0\n",
      "2020-10-26  130.0  158.0  364.0   61.0  110.0  163.0\n",
      "             CA   FL    NC   NY   PA   TX\n",
      "Date                                     \n",
      "2020-10-22  2.0  3.0   9.0  1.0  2.0  3.0\n",
      "2020-10-23  1.0  4.0   0.0  1.0  3.0  3.0\n",
      "2020-10-24  0.0  4.0  -9.0  0.0  2.0  3.0\n",
      "2020-10-25  0.0  1.0   0.0  1.0  1.0  2.0\n",
      "2020-10-26  1.0  1.0  17.0  1.0  1.0  0.0\n"
     ]
    }
   ],
   "source": [
    "MyStateCases = MyStateCases.fillna(0)\n",
    "MyStateDeaths = MyStateDeaths.fillna(0)\n",
    "\n",
    "print(MyStateCases.tail())\n",
    "print(MyStateDeaths.tail())"
   ]
  },
  {
   "cell_type": "code",
   "execution_count": 5,
   "metadata": {},
   "outputs": [
    {
     "data": {
      "text/plain": [
       "count    279.000000\n",
       "mean     108.695341\n",
       "std      114.668887\n",
       "min        0.000000\n",
       "25%       14.500000\n",
       "50%       62.000000\n",
       "75%      179.000000\n",
       "max      671.000000\n",
       "Name: TX, dtype: float64"
      ]
     },
     "execution_count": 5,
     "metadata": {},
     "output_type": "execute_result"
    }
   ],
   "source": [
    "MyStateCases.TX.describe()"
   ]
  },
  {
   "cell_type": "code",
   "execution_count": null,
   "metadata": {},
   "outputs": [],
   "source": []
  },
  {
   "cell_type": "code",
   "execution_count": 6,
   "metadata": {},
   "outputs": [
    {
     "data": {
      "text/plain": [
       "Text(0.5, 1.0, 'Texas Histogram of New Cases')"
      ]
     },
     "execution_count": 6,
     "metadata": {},
     "output_type": "execute_result"
    },
    {
     "data": {
      "image/png": "[encoded data removed]",
      "text/plain": [
       "<Figure size 864x576 with 1 Axes>"
      ]
     },
     "metadata": {
      "needs_background": "light"
     },
     "output_type": "display_data"
    }
   ],
   "source": [
    "MyStateCases.TX.hist(bins=20, ec='black', figsize=(12,8))\n",
    "plt.title('Texas Histogram of New Cases')"
   ]
  },
  {
   "cell_type": "markdown",
   "metadata": {},
   "source": [
    "## 1. Data is skewed, with longer tail to the right. \n",
    "## 2. Data is discrete"
   ]
  },
  {
   "cell_type": "code",
   "execution_count": 7,
   "metadata": {},
   "outputs": [
    {
     "data": {
      "text/plain": [
       "CA     83.0\n",
       "FL    130.0\n",
       "NC     89.0\n",
       "NY     92.0\n",
       "PA     55.0\n",
       "TX    109.0\n",
       "dtype: float64"
      ]
     },
     "execution_count": 7,
     "metadata": {},
     "output_type": "execute_result"
    }
   ],
   "source": [
    "#look at mean of state of texas\n",
    "MyStateCases_mean = MyStateCases.mean().round(0)\n",
    "MyStateCases_mean "
   ]
  },
  {
   "cell_type": "code",
   "execution_count": 8,
   "metadata": {},
   "outputs": [
    {
     "data": {
      "text/plain": [
       "CA    2.0\n",
       "FL    3.0\n",
       "NC    1.0\n",
       "NY    6.0\n",
       "PA    2.0\n",
       "TX    2.0\n",
       "dtype: float64"
      ]
     },
     "execution_count": 8,
     "metadata": {},
     "output_type": "execute_result"
    }
   ],
   "source": [
    "MyStateDeaths_mean = MyStateDeaths.mean().round(0)\n",
    "MyStateDeaths_mean "
   ]
  },
  {
   "cell_type": "markdown",
   "metadata": {},
   "source": [
    "## Method to plot a Poisson Distribution. "
   ]
  },
  {
   "cell_type": "code",
   "execution_count": 9,
   "metadata": {},
   "outputs": [],
   "source": [
    "def NewPois(df, col='StateOrCounty', title = 'Title', x = 'C_or_D'):\n",
    "    lm = df[col].mean() # find mean of dataset\n",
    "    \n",
    "    #find PMF of every individual Value\n",
    "    df['PMF'] = stats.poisson.pmf(k=df[[col]],     \n",
    "                          mu=lm)\n",
    "    #plot Case or deaths values vs PMF value \n",
    "    plt.bar(df[col],df['PMF'], align = 'center')\n",
    "    plt.title(title)\n",
    "    plt.ylabel(\"PMF\")\n",
    "    plt.xlabel(x)\n",
    "    plt.xlim((lm-40),(lm+40))\n",
    "\n",
    "    "
   ]
  },
  {
   "cell_type": "markdown",
   "metadata": {},
   "source": [
    "## Fit number of new COVID-19 cases of Texas to a Poisson Distribution. "
   ]
  },
  {
   "cell_type": "code",
   "execution_count": 10,
   "metadata": {},
   "outputs": [
    {
     "data": {
      "image/png": "[encoded data removed]",
      "text/plain": [
       "<Figure size 432x288 with 1 Axes>"
      ]
     },
     "metadata": {
      "needs_background": "light"
     },
     "output_type": "display_data"
    }
   ],
   "source": [
    "NewPois(MyStateCases, col='TX', title = 'Texas Poisson Distribution of New Cases', x = 'Cases')\n"
   ]
  },
  {
   "cell_type": "markdown",
   "metadata": {},
   "source": [
    "## Why distrubution was chosen:\n",
    "### - Poission Distrubution was chosen because first, we have discrete values. \n",
    "### - We cannot have continuous values as cases are a set number value. We cannot have half of a case, it has to be a whole integer.\n",
    "### - Second, we chose this disturbution because it is a good anaylsis to see the probability of a number of new cases happening in a day "
   ]
  },
  {
   "cell_type": "markdown",
   "metadata": {},
   "source": [
    "## Analysis of distribution statistics:\n",
    "### - As the graph above shows, we can see that in Texas there is a high probability that 100-120 new cases will happen in a day with 107 new cases being the mean. "
   ]
  },
  {
   "cell_type": "markdown",
   "metadata": {},
   "source": [
    "# Model a poission distribution of COVID-19 Cases and Deaths of a state and 5 other states per 1 million population. "
   ]
  },
  {
   "cell_type": "code",
   "execution_count": 11,
   "metadata": {},
   "outputs": [
    {
     "name": "stdout",
     "output_type": "stream",
     "text": [
      "               CA     FL     NC     NY     PA     TX           PMF\n",
      "Date                                                              \n",
      "2020-10-22  173.0  261.0  229.0   84.0  161.0  219.0  5.106927e-21\n",
      "2020-10-23  139.0  172.0  314.0   84.0  173.0  227.0  1.598856e-23\n",
      "2020-10-24  111.0  208.0    0.0  106.0  160.0  225.0  6.942596e-23\n",
      "2020-10-25   53.0  111.0  154.0   84.0  130.0  148.0  5.569482e-05\n",
      "2020-10-26  130.0  158.0  364.0   61.0  110.0  163.0  2.480903e-07\n",
      "             CA   FL    NC   NY   PA   TX\n",
      "Date                                     \n",
      "2020-10-22  2.0  3.0   9.0  1.0  2.0  3.0\n",
      "2020-10-23  1.0  4.0   0.0  1.0  3.0  3.0\n",
      "2020-10-24  0.0  4.0  -9.0  0.0  2.0  3.0\n",
      "2020-10-25  0.0  1.0   0.0  1.0  1.0  2.0\n",
      "2020-10-26  1.0  1.0  17.0  1.0  1.0  0.0\n"
     ]
    }
   ],
   "source": [
    "# look at all states that we will compare with texas in dataset. \n",
    "print(MyStateCases.tail())\n",
    "print(MyStateDeaths.tail())"
   ]
  },
  {
   "cell_type": "markdown",
   "metadata": {},
   "source": [
    "## Plot Poisson Distribution of New Cases for all States\n",
    "### (already normalized per 1 million population). "
   ]
  },
  {
   "cell_type": "markdown",
   "metadata": {},
   "source": [
    "### Texas Poisson Distribution of New Cases"
   ]
  },
  {
   "cell_type": "code",
   "execution_count": 12,
   "metadata": {},
   "outputs": [
    {
     "data": {
      "image/png": "[encoded data removed]",
      "text/plain": [
       "<Figure size 432x288 with 1 Axes>"
      ]
     },
     "metadata": {
      "needs_background": "light"
     },
     "output_type": "display_data"
    }
   ],
   "source": [
    "NewPois(MyStateCases, col='TX', title = 'Texas Poisson Distribution of New Cases', x = 'Cases')\n"
   ]
  },
  {
   "cell_type": "markdown",
   "metadata": {},
   "source": [
    "### North Carolina Poisson Distribution of New Cases"
   ]
  },
  {
   "cell_type": "code",
   "execution_count": 13,
   "metadata": {},
   "outputs": [
    {
     "data": {
      "image/png": "[encoded data removed]",
      "text/plain": [
       "<Figure size 432x288 with 1 Axes>"
      ]
     },
     "metadata": {
      "needs_background": "light"
     },
     "output_type": "display_data"
    }
   ],
   "source": [
    "NewPois(MyStateCases, col='NC', title = 'North Carolina Poisson Distribution of New Cases', x = 'Cases')\n"
   ]
  },
  {
   "cell_type": "markdown",
   "metadata": {},
   "source": [
    "### California Poisson Distribution of New Cases"
   ]
  },
  {
   "cell_type": "code",
   "execution_count": 14,
   "metadata": {},
   "outputs": [
    {
     "data": {
      "image/png": "[encoded data removed]",
      "text/plain": [
       "<Figure size 432x288 with 1 Axes>"
      ]
     },
     "metadata": {
      "needs_background": "light"
     },
     "output_type": "display_data"
    }
   ],
   "source": [
    "NewPois(MyStateCases, col='CA', title = 'California Poisson Distribution of New Cases', x = 'Cases')\n"
   ]
  },
  {
   "cell_type": "markdown",
   "metadata": {},
   "source": [
    "### Florida Poisson Distribution of New Cases"
   ]
  },
  {
   "cell_type": "code",
   "execution_count": 15,
   "metadata": {},
   "outputs": [
    {
     "data": {
      "image/png": "[encoded data removed]",
      "text/plain": [
       "<Figure size 432x288 with 1 Axes>"
      ]
     },
     "metadata": {
      "needs_background": "light"
     },
     "output_type": "display_data"
    }
   ],
   "source": [
    "NewPois(MyStateCases, col='FL', title = 'Florida Poisson Distribution of New Cases', x = 'Cases')\n"
   ]
  },
  {
   "cell_type": "markdown",
   "metadata": {},
   "source": [
    "### New York Poisson Distribution of New Cases"
   ]
  },
  {
   "cell_type": "code",
   "execution_count": 16,
   "metadata": {},
   "outputs": [
    {
     "data": {
      "image/png": "[encoded data removed]",
      "text/plain": [
       "<Figure size 432x288 with 1 Axes>"
      ]
     },
     "metadata": {
      "needs_background": "light"
     },
     "output_type": "display_data"
    }
   ],
   "source": [
    "NewPois(MyStateCases, col='NY', title = 'New York Poisson Distribution of New Cases', x = 'Cases')\n"
   ]
  },
  {
   "cell_type": "markdown",
   "metadata": {},
   "source": [
    "### Philadelphia Poisson Distribution of New Cases"
   ]
  },
  {
   "cell_type": "code",
   "execution_count": 17,
   "metadata": {},
   "outputs": [
    {
     "data": {
      "image/png": "[encoded data removed]",
      "text/plain": [
       "<Figure size 432x288 with 1 Axes>"
      ]
     },
     "metadata": {
      "needs_background": "light"
     },
     "output_type": "display_data"
    }
   ],
   "source": [
    "NewPois(MyStateCases, col='PA', title = 'Philadelphia Poisson Distribution of New Cases', x = 'Cases')\n"
   ]
  },
  {
   "cell_type": "markdown",
   "metadata": {},
   "source": [
    "## Plot Poisson Distribution of New Deaths for all States\n",
    "### (already normalized per 1 million population). "
   ]
  },
  {
   "cell_type": "code",
   "execution_count": 18,
   "metadata": {},
   "outputs": [
    {
     "data": {
      "text/plain": [
       "(-0.5, 10)"
      ]
     },
     "execution_count": 18,
     "metadata": {},
     "output_type": "execute_result"
    },
    {
     "data": {
      "image/png": "[encoded data removed]",
      "text/plain": [
       "<Figure size 432x288 with 1 Axes>"
      ]
     },
     "metadata": {
      "needs_background": "light"
     },
     "output_type": "display_data"
    }
   ],
   "source": [
    "NewPois(MyStateDeaths, col='TX', title = 'Texas Poisson Distribution of New Deaths', x = 'Deaths')\n",
    "plt.xlim(-0.5,10)"
   ]
  },
  {
   "cell_type": "code",
   "execution_count": 19,
   "metadata": {},
   "outputs": [
    {
     "data": {
      "text/plain": [
       "(-0.5, 8)"
      ]
     },
     "execution_count": 19,
     "metadata": {},
     "output_type": "execute_result"
    },
    {
     "data": {
      "image/png": "[encoded data removed]",
      "text/plain": [
       "<Figure size 432x288 with 1 Axes>"
      ]
     },
     "metadata": {
      "needs_background": "light"
     },
     "output_type": "display_data"
    }
   ],
   "source": [
    "NewPois(MyStateDeaths, col='NC', title = 'North Carolina Poisson Distribution of New Deaths', x = 'Deaths')\n",
    "plt.xlim(-0.5,8)"
   ]
  },
  {
   "cell_type": "code",
   "execution_count": 20,
   "metadata": {},
   "outputs": [
    {
     "data": {
      "text/plain": [
       "(-0.5, 8)"
      ]
     },
     "execution_count": 20,
     "metadata": {},
     "output_type": "execute_result"
    },
    {
     "data": {
      "image/png": "[encoded data removed]",
      "text/plain": [
       "<Figure size 432x288 with 1 Axes>"
      ]
     },
     "metadata": {
      "needs_background": "light"
     },
     "output_type": "display_data"
    }
   ],
   "source": [
    "NewPois(MyStateDeaths, col='CA', title = 'California Poisson Distribution of New Deaths', x = 'Deaths')\n",
    "plt.xlim(-0.5,8)"
   ]
  },
  {
   "cell_type": "code",
   "execution_count": 21,
   "metadata": {},
   "outputs": [
    {
     "data": {
      "text/plain": [
       "(-0.5, 15)"
      ]
     },
     "execution_count": 21,
     "metadata": {},
     "output_type": "execute_result"
    },
    {
     "data": {
      "image/png": "[encoded data removed]",
      "text/plain": [
       "<Figure size 432x288 with 1 Axes>"
      ]
     },
     "metadata": {
      "needs_background": "light"
     },
     "output_type": "display_data"
    }
   ],
   "source": [
    "NewPois(MyStateDeaths, col='FL', title = 'Florida Poisson Distribution of New Deaths', x = 'Deaths')\n",
    "plt.xlim(-0.5,15)"
   ]
  },
  {
   "cell_type": "code",
   "execution_count": 22,
   "metadata": {},
   "outputs": [
    {
     "data": {
      "text/plain": [
       "(-0.5, 15)"
      ]
     },
     "execution_count": 22,
     "metadata": {},
     "output_type": "execute_result"
    },
    {
     "data": {
      "image/png": "[encoded data removed]",
      "text/plain": [
       "<Figure size 432x288 with 1 Axes>"
      ]
     },
     "metadata": {
      "needs_background": "light"
     },
     "output_type": "display_data"
    }
   ],
   "source": [
    "NewPois(MyStateDeaths, col='NY', title = 'New York Poisson Distribution of New Deaths', x = 'Deaths')\n",
    "plt.xlim(-0.5,15)"
   ]
  },
  {
   "cell_type": "code",
   "execution_count": 23,
   "metadata": {},
   "outputs": [
    {
     "data": {
      "text/plain": [
       "(-1, 15)"
      ]
     },
     "execution_count": 23,
     "metadata": {},
     "output_type": "execute_result"
    },
    {
     "data": {
      "image/png": "[encoded data removed]",
      "text/plain": [
       "<Figure size 432x288 with 1 Axes>"
      ]
     },
     "metadata": {
      "needs_background": "light"
     },
     "output_type": "display_data"
    }
   ],
   "source": [
    "NewPois(MyStateDeaths, col='PA', title = 'Philadelphia Poisson Distribution of New Deaths', x = 'Deaths')\n",
    "plt.xlim(-1,15)"
   ]
  },
  {
   "cell_type": "markdown",
   "metadata": {},
   "source": [
    "# Model a poission distribution of COVID-19 Cases and Deaths for top 5 infected North Carolina counties per 200,000 population. "
   ]
  },
  {
   "cell_type": "markdown",
   "metadata": {},
   "source": [
    "### Identify top 5 infected counties of North Carolina. "
   ]
  },
  {
   "cell_type": "code",
   "execution_count": 24,
   "metadata": {},
   "outputs": [],
   "source": [
    "NC = df.loc[df['State']=='NC']\n",
    "NC = NC.set_index('County Name')\n",
    "\n",
    "#look for recent day to see total amount of cases and order the values to see counties with high case and death rates. \n",
    "NC\n",
    "\n",
    "NC_cases = NC.filter(regex = \"x\")\n",
    "NC_deaths = NC.filter(regex = \"y\").drop([\"County Name_y\"], axis=1)"
   ]
  },
  {
   "cell_type": "code",
   "execution_count": 25,
   "metadata": {},
   "outputs": [
    {
     "name": "stdout",
     "output_type": "stream",
     "text": [
      "                    Total Cases\n",
      "County Name                    \n",
      "Mecklenburg County        31279\n",
      "Wake County               19583\n",
      "Guilford County           10286\n",
      "Durham County              8484\n",
      "Forsyth County             7968\n"
     ]
    }
   ],
   "source": [
    "#display last row which is the total cases \n",
    "LastRowCase = NC_cases.iloc[:,-1:]\n",
    "\n",
    "\n",
    "#Have last row be renamed to total cases \n",
    "TotalCases = LastRowCase.rename(columns={list(LastRowCase)[0]: 'Total Cases'})\n",
    "\n",
    "\n",
    "#print top 5 counties of cases in North Carolina\n",
    "print(TotalCases.sort_values(by = ['Total Cases'], ascending = False).head(5))\n",
    "\n",
    "#results will be our five counties that we will work with. "
   ]
  },
  {
   "cell_type": "code",
   "execution_count": 26,
   "metadata": {},
   "outputs": [],
   "source": [
    "#Find population of the top 5 infected counties. \n",
    "\n",
    "array = ['Mecklenburg County','Wake County','Guilford County','Durham County', 'Forsyth County']\n",
    "\n",
    "CountyPop = NC.loc[NC.index.isin(array)]\n",
    "\n",
    "\n",
    "#get Population value of counties to use later on when normalizing. \n",
    "Mecklenburg_Pop = CountyPop.iloc[3][1]\n",
    "Wake_Pop = CountyPop.iloc[4][1]\n",
    "Guilford_Pop = CountyPop.iloc[2][1]\n",
    "Durham_Pop = CountyPop.iloc[0][1]\n",
    "Forsyth_Pop = CountyPop.iloc[1][1]\n"
   ]
  },
  {
   "cell_type": "code",
   "execution_count": 27,
   "metadata": {},
   "outputs": [
    {
     "name": "stdout",
     "output_type": "stream",
     "text": [
      "County Name  Durham County  Forsyth County  Guilford County  \\\n",
      "Date                                                          \n",
      "2020-10-12            8299            7682             9863   \n",
      "2020-10-13            8327            7742             9947   \n",
      "2020-10-14            8360            7813            10088   \n",
      "2020-10-15            8441            7887            10184   \n",
      "2020-10-16            8484            7968            10286   \n",
      "\n",
      "County Name  Mecklenburg County  Wake County  \n",
      "Date                                          \n",
      "2020-10-12                30502        19160  \n",
      "2020-10-13                30670        19251  \n",
      "2020-10-14                30818        19334  \n",
      "2020-10-15                31074        19454  \n",
      "2020-10-16                31279        19583  \n",
      "County Name  Durham County  Forsyth County  Guilford County  \\\n",
      "Date                                                          \n",
      "2020-10-12              97             105              191   \n",
      "2020-10-13              97             105              191   \n",
      "2020-10-14              97             106              191   \n",
      "2020-10-15              97             110              191   \n",
      "2020-10-16              97             110              192   \n",
      "\n",
      "County Name  Mecklenburg County  Wake County  \n",
      "Date                                          \n",
      "2020-10-12                  367          258  \n",
      "2020-10-13                  367          260  \n",
      "2020-10-14                  373          261  \n",
      "2020-10-15                  373          261  \n",
      "2020-10-16                  374          261  \n"
     ]
    }
   ],
   "source": [
    "Counties_Cases = NC_cases.loc[NC_cases.index.isin(array)].T.rename_axis('Date')\n",
    "Counties_Deaths = NC_deaths.loc[NC_deaths.index.isin(array)].T.rename_axis('Date')\n",
    "\n",
    "#change date format for cases\n",
    "NC_Counties_Cases  = Counties_Cases .T.rename(columns=lambda x: (pd.to_datetime(x.split('_')[0], errors= 'ignore')), errors='raise').T\n",
    "print(NC_Counties_Cases.tail())\n",
    "\n",
    "#change date format for deaths\n",
    "NC_Counties_Deaths  = Counties_Deaths.T.rename(columns=lambda x: (pd.to_datetime(x.split('_')[0], errors= 'ignore')), errors='raise').T\n",
    "print(NC_Counties_Deaths .tail())"
   ]
  },
  {
   "cell_type": "code",
   "execution_count": 28,
   "metadata": {},
   "outputs": [
    {
     "name": "stdout",
     "output_type": "stream",
     "text": [
      "County Name  Durham County  Forsyth County  Guilford County  \\\n",
      "Date                                                          \n",
      "2020-10-12            34.0            25.0             75.0   \n",
      "2020-10-13            28.0            60.0             84.0   \n",
      "2020-10-14            33.0            71.0            141.0   \n",
      "2020-10-15            81.0            74.0             96.0   \n",
      "2020-10-16            43.0            81.0            102.0   \n",
      "\n",
      "County Name  Mecklenburg County  Wake County  \n",
      "Date                                          \n",
      "2020-10-12                136.0         67.0  \n",
      "2020-10-13                168.0         91.0  \n",
      "2020-10-14                148.0         83.0  \n",
      "2020-10-15                256.0        120.0  \n",
      "2020-10-16                205.0        129.0  \n",
      "County Name  Durham County  Forsyth County  Guilford County  \\\n",
      "Date                                                          \n",
      "2020-10-12             0.0             0.0              0.0   \n",
      "2020-10-13             0.0             0.0              0.0   \n",
      "2020-10-14             0.0             1.0              0.0   \n",
      "2020-10-15             0.0             4.0              0.0   \n",
      "2020-10-16             0.0             0.0              1.0   \n",
      "\n",
      "County Name  Mecklenburg County  Wake County  \n",
      "Date                                          \n",
      "2020-10-12                  2.0          0.0  \n",
      "2020-10-13                  0.0          2.0  \n",
      "2020-10-14                  6.0          1.0  \n",
      "2020-10-15                  0.0          0.0  \n",
      "2020-10-16                  1.0          0.0  \n"
     ]
    }
   ],
   "source": [
    "#Calculates differences of cases and deaths of each day (New Cases & New Deaths)\n",
    "New_NC_Counties_Cases = NC_Counties_Cases.diff()\n",
    "New_NC_Counties_Deaths = NC_Counties_Deaths.diff()\n",
    "\n",
    "print(New_NC_Counties_Cases.tail())\n",
    "print(New_NC_Counties_Deaths.tail())"
   ]
  },
  {
   "cell_type": "code",
   "execution_count": 29,
   "metadata": {},
   "outputs": [
    {
     "name": "stdout",
     "output_type": "stream",
     "text": [
      "County Name  Durham_County  Forsyth_County  Guilford_County  \\\n",
      "Date                                                          \n",
      "2020-10-12            21.0            13.0             28.0   \n",
      "2020-10-13            17.0            31.0             31.0   \n",
      "2020-10-14            21.0            37.0             52.0   \n",
      "2020-10-15            50.0            39.0             36.0   \n",
      "2020-10-16            27.0            42.0             38.0   \n",
      "\n",
      "County Name  Mecklenburg_County  Wake_County  \n",
      "Date                                          \n",
      "2020-10-12                 24.0         12.0  \n",
      "2020-10-13                 30.0         16.0  \n",
      "2020-10-14                 27.0         15.0  \n",
      "2020-10-15                 46.0         22.0  \n",
      "2020-10-16                 37.0         23.0  \n",
      "County Name  Durham_County  Forsyth_County  Guilford_County  \\\n",
      "Date                                                          \n",
      "2020-10-12             0.0             0.0              0.0   \n",
      "2020-10-13             0.0             0.0              0.0   \n",
      "2020-10-14             0.0             1.0              0.0   \n",
      "2020-10-15             0.0             2.0              0.0   \n",
      "2020-10-16             0.0             0.0              0.0   \n",
      "\n",
      "County Name  Mecklenburg_County  Wake_County  \n",
      "Date                                          \n",
      "2020-10-12                  0.0          0.0  \n",
      "2020-10-13                  0.0          0.0  \n",
      "2020-10-14                  1.0          0.0  \n",
      "2020-10-15                  0.0          0.0  \n",
      "2020-10-16                  0.0          0.0  \n"
     ]
    }
   ],
   "source": [
    "#calculate and Normalize dataset to cases per 200,000 people. \n",
    "norm_val = 200_000\n",
    "\n",
    "#Normalize cases\n",
    "Norm_MyNCCases = New_NC_Counties_Cases.assign(Durham_County = lambda x: (x['Durham County'] / Durham_Pop) * norm_val).round(0)\n",
    "Norm_MyNCCases = Norm_MyNCCases.assign(Forsyth_County = lambda x: (x['Forsyth County'] / Forsyth_Pop) * norm_val).round(0)\n",
    "Norm_MyNCCases = Norm_MyNCCases.assign(Guilford_County = lambda x: (x['Guilford County'] / Guilford_Pop) * norm_val).round(0)\n",
    "Norm_MyNCCases = Norm_MyNCCases.assign(Mecklenburg_County = lambda x: (x['Mecklenburg County'] / Mecklenburg_Pop) * norm_val).round(0)\n",
    "Norm_MyNCCases = Norm_MyNCCases.assign(Wake_County = lambda x: (x['Wake County'] / Wake_Pop) * norm_val).round(0)\n",
    "\n",
    "\n",
    "#Normalize deaths \n",
    "Norm_MyNCDeaths = New_NC_Counties_Deaths.assign(Durham_County = lambda x: (x['Durham County'] / Durham_Pop) * norm_val).round(0)\n",
    "Norm_MyNCDeaths = Norm_MyNCDeaths.assign(Forsyth_County = lambda x: (x['Forsyth County'] / Forsyth_Pop) * norm_val).round(0)\n",
    "Norm_MyNCDeaths = Norm_MyNCDeaths.assign(Guilford_County = lambda x: (x['Guilford County'] / Guilford_Pop) * norm_val).round(0)\n",
    "Norm_MyNCDeaths = Norm_MyNCDeaths.assign(Mecklenburg_County = lambda x: (x['Mecklenburg County'] / Mecklenburg_Pop) * norm_val).round(0)\n",
    "Norm_MyNCDeaths = Norm_MyNCDeaths.assign(Wake_County = lambda x: (x['Wake County'] / Wake_Pop) * norm_val).round(0)\n",
    "\n",
    "MyNCCases = Norm_MyNCCases.drop(['Durham County','Forsyth County','Guilford County','Mecklenburg County', 'Wake County'], axis=1)\n",
    "MyNCDeaths = Norm_MyNCDeaths.drop(['Durham County','Forsyth County','Guilford County','Mecklenburg County', 'Wake County'], axis=1)\n",
    "\n",
    "print(MyNCCases.tail())\n",
    "print(MyNCDeaths.tail())  "
   ]
  },
  {
   "cell_type": "code",
   "execution_count": 30,
   "metadata": {},
   "outputs": [],
   "source": [
    "MyNCCases = MyNCCases.fillna(0)\n",
    "MyNCDeaths = MyNCDeaths.fillna(0)\n"
   ]
  },
  {
   "cell_type": "markdown",
   "metadata": {},
   "source": [
    "## Plot Poisson Distribution of New Cases for North Carolina Counties per 200,000 population."
   ]
  },
  {
   "cell_type": "code",
   "execution_count": 31,
   "metadata": {},
   "outputs": [
    {
     "data": {
      "text/plain": [
       "(0, 40)"
      ]
     },
     "execution_count": 31,
     "metadata": {},
     "output_type": "execute_result"
    },
    {
     "data": {
      "image/png": "[encoded data removed]",
      "text/plain": [
       "<Figure size 432x288 with 1 Axes>"
      ]
     },
     "metadata": {
      "needs_background": "light"
     },
     "output_type": "display_data"
    }
   ],
   "source": [
    "NewPois(MyNCCases, col='Durham_County', title = 'Durham County Poisson Distribution of New Cases',x = 'Cases' )\n",
    "plt.xlim(0,40)\n"
   ]
  },
  {
   "cell_type": "code",
   "execution_count": 32,
   "metadata": {},
   "outputs": [
    {
     "data": {
      "text/plain": [
       "(0, 35)"
      ]
     },
     "execution_count": 32,
     "metadata": {},
     "output_type": "execute_result"
    },
    {
     "data": {
      "image/png": "[encoded data removed]",
      "text/plain": [
       "<Figure size 432x288 with 1 Axes>"
      ]
     },
     "metadata": {
      "needs_background": "light"
     },
     "output_type": "display_data"
    }
   ],
   "source": [
    "NewPois(MyNCCases, col='Forsyth_County', title = 'Forsyth County Poisson Distribution of New Cases',x = 'Cases' )\n",
    "plt.xlim(0,35)"
   ]
  },
  {
   "cell_type": "code",
   "execution_count": 33,
   "metadata": {},
   "outputs": [
    {
     "data": {
      "text/plain": [
       "(0, 30)"
      ]
     },
     "execution_count": 33,
     "metadata": {},
     "output_type": "execute_result"
    },
    {
     "data": {
      "image/png": "[encoded data removed]",
      "text/plain": [
       "<Figure size 432x288 with 1 Axes>"
      ]
     },
     "metadata": {
      "needs_background": "light"
     },
     "output_type": "display_data"
    }
   ],
   "source": [
    "NewPois(MyNCCases, col='Guilford_County', title = 'Guilford County Poisson Distribution of New Cases',x = 'Cases' )\n",
    "plt.xlim(0,30)"
   ]
  },
  {
   "cell_type": "code",
   "execution_count": 34,
   "metadata": {},
   "outputs": [
    {
     "data": {
      "text/plain": [
       "(5, 40)"
      ]
     },
     "execution_count": 34,
     "metadata": {},
     "output_type": "execute_result"
    },
    {
     "data": {
      "image/png": "[encoded data removed]",
      "text/plain": [
       "<Figure size 432x288 with 1 Axes>"
      ]
     },
     "metadata": {
      "needs_background": "light"
     },
     "output_type": "display_data"
    }
   ],
   "source": [
    "NewPois(MyNCCases, col='Mecklenburg_County', title = 'Mecklenburg County Poisson Distribution of New Cases',x = 'Cases' )\n",
    "plt.xlim(5,40)"
   ]
  },
  {
   "cell_type": "code",
   "execution_count": 35,
   "metadata": {},
   "outputs": [
    {
     "data": {
      "text/plain": [
       "(0, 30)"
      ]
     },
     "execution_count": 35,
     "metadata": {},
     "output_type": "execute_result"
    },
    {
     "data": {
      "image/png": "[encoded data removed]",
      "text/plain": [
       "<Figure size 432x288 with 1 Axes>"
      ]
     },
     "metadata": {
      "needs_background": "light"
     },
     "output_type": "display_data"
    }
   ],
   "source": [
    "NewPois(MyNCCases, col='Wake_County', title = 'Wake County Poisson Distribution of New Cases',x = 'Cases' )\n",
    "plt.xlim(0,30)"
   ]
  },
  {
   "cell_type": "markdown",
   "metadata": {},
   "source": [
    "## Plot Poisson Distribution of New deaths for North Carolina Counties."
   ]
  },
  {
   "cell_type": "code",
   "execution_count": 36,
   "metadata": {},
   "outputs": [
    {
     "data": {
      "text/plain": [
       "(-0.5, 10)"
      ]
     },
     "execution_count": 36,
     "metadata": {},
     "output_type": "execute_result"
    },
    {
     "data": {
      "image/png": "[encoded data removed]",
      "text/plain": [
       "<Figure size 432x288 with 1 Axes>"
      ]
     },
     "metadata": {
      "needs_background": "light"
     },
     "output_type": "display_data"
    }
   ],
   "source": [
    "NewPois(MyNCDeaths, col='Durham_County', title = 'Durham County Poisson Distribution of New Cases',x = 'Deaths' )\n",
    "plt.xlim(-0.5,10)"
   ]
  },
  {
   "cell_type": "code",
   "execution_count": 37,
   "metadata": {},
   "outputs": [
    {
     "data": {
      "text/plain": [
       "(-0.5, 10)"
      ]
     },
     "execution_count": 37,
     "metadata": {},
     "output_type": "execute_result"
    },
    {
     "data": {
      "image/png": "[encoded data removed]",
      "text/plain": [
       "<Figure size 432x288 with 1 Axes>"
      ]
     },
     "metadata": {
      "needs_background": "light"
     },
     "output_type": "display_data"
    }
   ],
   "source": [
    "NewPois(MyNCDeaths, col='Forsyth_County', title = 'Forsyth County  Poisson Distribution of New Cases',x = 'Deaths' )\n",
    "plt.xlim(-0.5,10)"
   ]
  },
  {
   "cell_type": "code",
   "execution_count": 38,
   "metadata": {},
   "outputs": [
    {
     "data": {
      "text/plain": [
       "(-0.5, 10)"
      ]
     },
     "execution_count": 38,
     "metadata": {},
     "output_type": "execute_result"
    },
    {
     "data": {
      "image/png": "[encoded data removed]",
      "text/plain": [
       "<Figure size 432x288 with 1 Axes>"
      ]
     },
     "metadata": {
      "needs_background": "light"
     },
     "output_type": "display_data"
    }
   ],
   "source": [
    "NewPois(MyNCDeaths, col='Guilford_County', title = 'Guilford County  Poisson Distribution of New Cases',x = 'Deaths' )\n",
    "plt.xlim(-0.5,10)"
   ]
  },
  {
   "cell_type": "code",
   "execution_count": 39,
   "metadata": {},
   "outputs": [
    {
     "data": {
      "text/plain": [
       "(-0.5, 10)"
      ]
     },
     "execution_count": 39,
     "metadata": {},
     "output_type": "execute_result"
    },
    {
     "data": {
      "image/png": "[encoded data removed]",
      "text/plain": [
       "<Figure size 432x288 with 1 Axes>"
      ]
     },
     "metadata": {
      "needs_background": "light"
     },
     "output_type": "display_data"
    }
   ],
   "source": [
    "NewPois(MyNCDeaths, col='Mecklenburg_County', title = 'Mecklenburg County Poisson Distribution of New Cases',x = 'Deaths' )\n",
    "plt.xlim(-0.5,10)"
   ]
  },
  {
   "cell_type": "code",
   "execution_count": 40,
   "metadata": {},
   "outputs": [
    {
     "data": {
      "text/plain": [
       "(-0.5, 10)"
      ]
     },
     "execution_count": 40,
     "metadata": {},
     "output_type": "execute_result"
    },
    {
     "data": {
      "image/png": "[encoded data removed]",
      "text/plain": [
       "<Figure size 432x288 with 1 Axes>"
      ]
     },
     "metadata": {
      "needs_background": "light"
     },
     "output_type": "display_data"
    }
   ],
   "source": [
    "NewPois(MyNCDeaths, col='Wake_County', title = 'Wake County Poisson Distribution of New Cases',x = 'Deaths' )\n",
    "plt.xlim(-0.5,10)"
   ]
  },
  {
   "cell_type": "markdown",
   "metadata": {},
   "source": [
    "# Perform Correlation between Enrichment data valuables and COVID-19 Cases"
   ]
  },
  {
   "cell_type": "code",
   "execution_count": 41,
   "metadata": {},
   "outputs": [],
   "source": [
    "read = pd.read_csv(\"../../../data/output/COVID19_HOSBEDS_MERGE.csv\")"
   ]
  },
  {
   "cell_type": "code",
   "execution_count": 42,
   "metadata": {},
   "outputs": [],
   "source": [
    "df2 = read.drop([\"countyFIPS\",\"stateFIPS\",\"Unnamed: 0\"], axis=1)\n",
    "df2 = df2.drop(df.loc[df['County Name'] == \"Statewide Unallocated\"].index)"
   ]
  },
  {
   "cell_type": "code",
   "execution_count": 43,
   "metadata": {},
   "outputs": [
    {
     "data": {
      "text/html": [
       "<div>\n",
       "<style scoped>\n",
       "    .dataframe tbody tr th:only-of-type {\n",
       "        vertical-align: middle;\n",
       "    }\n",
       "\n",
       "    .dataframe tbody tr th {\n",
       "        vertical-align: top;\n",
       "    }\n",
       "\n",
       "    .dataframe thead th {\n",
       "        text-align: right;\n",
       "    }\n",
       "</style>\n",
       "<table border=\"1\" class=\"dataframe\">\n",
       "  <thead>\n",
       "    <tr style=\"text-align: right;\">\n",
       "      <th></th>\n",
       "      <th>population</th>\n",
       "      <th>1/22/20_x</th>\n",
       "      <th>1/23/20_x</th>\n",
       "      <th>1/24/20_x</th>\n",
       "      <th>1/25/20_x</th>\n",
       "      <th>1/26/20_x</th>\n",
       "      <th>1/27/20_x</th>\n",
       "      <th>1/28/20_x</th>\n",
       "      <th>1/29/20_x</th>\n",
       "      <th>1/30/20_x</th>\n",
       "      <th>...</th>\n",
       "      <th>10/20/20_y</th>\n",
       "      <th>10/21/20_y</th>\n",
       "      <th>NUM_LICENSED_BEDS</th>\n",
       "      <th>NUM_STAFFED_BEDS</th>\n",
       "      <th>NUM_ICU_BEDS</th>\n",
       "      <th>ADULT_ICU_BEDS</th>\n",
       "      <th>PEDI_ICU_BEDS</th>\n",
       "      <th>BED_UTILIZATION</th>\n",
       "      <th>Potential_Increase_In_Bed_Capac</th>\n",
       "      <th>AVG_VENTILATOR_USAGE</th>\n",
       "    </tr>\n",
       "    <tr>\n",
       "      <th>State</th>\n",
       "      <th></th>\n",
       "      <th></th>\n",
       "      <th></th>\n",
       "      <th></th>\n",
       "      <th></th>\n",
       "      <th></th>\n",
       "      <th></th>\n",
       "      <th></th>\n",
       "      <th></th>\n",
       "      <th></th>\n",
       "      <th></th>\n",
       "      <th></th>\n",
       "      <th></th>\n",
       "      <th></th>\n",
       "      <th></th>\n",
       "      <th></th>\n",
       "      <th></th>\n",
       "      <th></th>\n",
       "      <th></th>\n",
       "      <th></th>\n",
       "      <th></th>\n",
       "    </tr>\n",
       "  </thead>\n",
       "  <tbody>\n",
       "    <tr>\n",
       "      <td>AK</td>\n",
       "      <td>731545</td>\n",
       "      <td>0</td>\n",
       "      <td>0</td>\n",
       "      <td>0</td>\n",
       "      <td>0</td>\n",
       "      <td>0</td>\n",
       "      <td>0</td>\n",
       "      <td>0</td>\n",
       "      <td>0</td>\n",
       "      <td>0</td>\n",
       "      <td>...</td>\n",
       "      <td>67</td>\n",
       "      <td>68</td>\n",
       "      <td>1832.0</td>\n",
       "      <td>1532.0</td>\n",
       "      <td>193.0</td>\n",
       "      <td>193.0</td>\n",
       "      <td>76.0</td>\n",
       "      <td>8.963031</td>\n",
       "      <td>300.0</td>\n",
       "      <td>41.0</td>\n",
       "    </tr>\n",
       "    <tr>\n",
       "      <td>AL</td>\n",
       "      <td>4903185</td>\n",
       "      <td>0</td>\n",
       "      <td>0</td>\n",
       "      <td>0</td>\n",
       "      <td>0</td>\n",
       "      <td>0</td>\n",
       "      <td>0</td>\n",
       "      <td>0</td>\n",
       "      <td>0</td>\n",
       "      <td>0</td>\n",
       "      <td>...</td>\n",
       "      <td>2804</td>\n",
       "      <td>2828</td>\n",
       "      <td>18611.0</td>\n",
       "      <td>15138.0</td>\n",
       "      <td>1637.0</td>\n",
       "      <td>1637.0</td>\n",
       "      <td>569.0</td>\n",
       "      <td>52.147326</td>\n",
       "      <td>3473.0</td>\n",
       "      <td>383.0</td>\n",
       "    </tr>\n",
       "    <tr>\n",
       "      <td>AR</td>\n",
       "      <td>3017804</td>\n",
       "      <td>0</td>\n",
       "      <td>0</td>\n",
       "      <td>0</td>\n",
       "      <td>0</td>\n",
       "      <td>0</td>\n",
       "      <td>0</td>\n",
       "      <td>0</td>\n",
       "      <td>0</td>\n",
       "      <td>0</td>\n",
       "      <td>...</td>\n",
       "      <td>1727</td>\n",
       "      <td>1751</td>\n",
       "      <td>12729.0</td>\n",
       "      <td>10012.0</td>\n",
       "      <td>914.0</td>\n",
       "      <td>914.0</td>\n",
       "      <td>247.0</td>\n",
       "      <td>42.606742</td>\n",
       "      <td>2717.0</td>\n",
       "      <td>261.0</td>\n",
       "    </tr>\n",
       "    <tr>\n",
       "      <td>AZ</td>\n",
       "      <td>7278717</td>\n",
       "      <td>0</td>\n",
       "      <td>0</td>\n",
       "      <td>0</td>\n",
       "      <td>0</td>\n",
       "      <td>1</td>\n",
       "      <td>1</td>\n",
       "      <td>1</td>\n",
       "      <td>1</td>\n",
       "      <td>1</td>\n",
       "      <td>...</td>\n",
       "      <td>5837</td>\n",
       "      <td>5854</td>\n",
       "      <td>18345.0</td>\n",
       "      <td>15695.0</td>\n",
       "      <td>1882.0</td>\n",
       "      <td>1882.0</td>\n",
       "      <td>532.0</td>\n",
       "      <td>56.815879</td>\n",
       "      <td>2650.0</td>\n",
       "      <td>427.0</td>\n",
       "    </tr>\n",
       "    <tr>\n",
       "      <td>CA</td>\n",
       "      <td>39512223</td>\n",
       "      <td>0</td>\n",
       "      <td>0</td>\n",
       "      <td>0</td>\n",
       "      <td>0</td>\n",
       "      <td>2</td>\n",
       "      <td>3</td>\n",
       "      <td>3</td>\n",
       "      <td>4</td>\n",
       "      <td>4</td>\n",
       "      <td>...</td>\n",
       "      <td>17049</td>\n",
       "      <td>17214</td>\n",
       "      <td>83240.0</td>\n",
       "      <td>77808.0</td>\n",
       "      <td>8652.0</td>\n",
       "      <td>8652.0</td>\n",
       "      <td>3858.0</td>\n",
       "      <td>216.458434</td>\n",
       "      <td>5432.0</td>\n",
       "      <td>1986.0</td>\n",
       "    </tr>\n",
       "  </tbody>\n",
       "</table>\n",
       "<p>5 rows × 557 columns</p>\n",
       "</div>"
      ],
      "text/plain": [
       "       population  1/22/20_x  1/23/20_x  1/24/20_x  1/25/20_x  1/26/20_x  \\\n",
       "State                                                                      \n",
       "AK         731545          0          0          0          0          0   \n",
       "AL        4903185          0          0          0          0          0   \n",
       "AR        3017804          0          0          0          0          0   \n",
       "AZ        7278717          0          0          0          0          1   \n",
       "CA       39512223          0          0          0          0          2   \n",
       "\n",
       "       1/27/20_x  1/28/20_x  1/29/20_x  1/30/20_x  ...  10/20/20_y  \\\n",
       "State                                              ...               \n",
       "AK             0          0          0          0  ...          67   \n",
       "AL             0          0          0          0  ...        2804   \n",
       "AR             0          0          0          0  ...        1727   \n",
       "AZ             1          1          1          1  ...        5837   \n",
       "CA             3          3          4          4  ...       17049   \n",
       "\n",
       "       10/21/20_y  NUM_LICENSED_BEDS  NUM_STAFFED_BEDS  NUM_ICU_BEDS  \\\n",
       "State                                                                  \n",
       "AK             68             1832.0            1532.0         193.0   \n",
       "AL           2828            18611.0           15138.0        1637.0   \n",
       "AR           1751            12729.0           10012.0         914.0   \n",
       "AZ           5854            18345.0           15695.0        1882.0   \n",
       "CA          17214            83240.0           77808.0        8652.0   \n",
       "\n",
       "       ADULT_ICU_BEDS  PEDI_ICU_BEDS  BED_UTILIZATION  \\\n",
       "State                                                   \n",
       "AK              193.0           76.0         8.963031   \n",
       "AL             1637.0          569.0        52.147326   \n",
       "AR              914.0          247.0        42.606742   \n",
       "AZ             1882.0          532.0        56.815879   \n",
       "CA             8652.0         3858.0       216.458434   \n",
       "\n",
       "       Potential_Increase_In_Bed_Capac  AVG_VENTILATOR_USAGE  \n",
       "State                                                         \n",
       "AK                               300.0                  41.0  \n",
       "AL                              3473.0                 383.0  \n",
       "AR                              2717.0                 261.0  \n",
       "AZ                              2650.0                 427.0  \n",
       "CA                              5432.0                1986.0  \n",
       "\n",
       "[5 rows x 557 columns]"
      ]
     },
     "execution_count": 43,
     "metadata": {},
     "output_type": "execute_result"
    }
   ],
   "source": [
    "Enrich_States = df2.groupby(['State']).sum()\n",
    "Enrich_States.head()"
   ]
  },
  {
   "cell_type": "code",
   "execution_count": 44,
   "metadata": {},
   "outputs": [
    {
     "data": {
      "text/html": [
       "<div>\n",
       "<style scoped>\n",
       "    .dataframe tbody tr th:only-of-type {\n",
       "        vertical-align: middle;\n",
       "    }\n",
       "\n",
       "    .dataframe tbody tr th {\n",
       "        vertical-align: top;\n",
       "    }\n",
       "\n",
       "    .dataframe thead th {\n",
       "        text-align: right;\n",
       "    }\n",
       "</style>\n",
       "<table border=\"1\" class=\"dataframe\">\n",
       "  <thead>\n",
       "    <tr style=\"text-align: right;\">\n",
       "      <th></th>\n",
       "      <th>population</th>\n",
       "      <th>Cases</th>\n",
       "      <th>NUM_STAFFED_BEDS</th>\n",
       "      <th>NUM_ICU_BEDS</th>\n",
       "      <th>AVG_VENTILATOR_USAGE</th>\n",
       "    </tr>\n",
       "    <tr>\n",
       "      <th>State</th>\n",
       "      <th></th>\n",
       "      <th></th>\n",
       "      <th></th>\n",
       "      <th></th>\n",
       "      <th></th>\n",
       "    </tr>\n",
       "  </thead>\n",
       "  <tbody>\n",
       "    <tr>\n",
       "      <td>AK</td>\n",
       "      <td>731545</td>\n",
       "      <td>11599</td>\n",
       "      <td>1532.0</td>\n",
       "      <td>193.0</td>\n",
       "      <td>41.0</td>\n",
       "    </tr>\n",
       "    <tr>\n",
       "      <td>AL</td>\n",
       "      <td>4903185</td>\n",
       "      <td>175674</td>\n",
       "      <td>15138.0</td>\n",
       "      <td>1637.0</td>\n",
       "      <td>383.0</td>\n",
       "    </tr>\n",
       "    <tr>\n",
       "      <td>AR</td>\n",
       "      <td>3017804</td>\n",
       "      <td>99597</td>\n",
       "      <td>10012.0</td>\n",
       "      <td>914.0</td>\n",
       "      <td>261.0</td>\n",
       "    </tr>\n",
       "    <tr>\n",
       "      <td>AZ</td>\n",
       "      <td>7278717</td>\n",
       "      <td>233912</td>\n",
       "      <td>15695.0</td>\n",
       "      <td>1882.0</td>\n",
       "      <td>427.0</td>\n",
       "    </tr>\n",
       "    <tr>\n",
       "      <td>CA</td>\n",
       "      <td>39512223</td>\n",
       "      <td>886954</td>\n",
       "      <td>77808.0</td>\n",
       "      <td>8652.0</td>\n",
       "      <td>1986.0</td>\n",
       "    </tr>\n",
       "  </tbody>\n",
       "</table>\n",
       "</div>"
      ],
      "text/plain": [
       "       population   Cases  NUM_STAFFED_BEDS  NUM_ICU_BEDS  \\\n",
       "State                                                       \n",
       "AK         731545   11599            1532.0         193.0   \n",
       "AL        4903185  175674           15138.0        1637.0   \n",
       "AR        3017804   99597           10012.0         914.0   \n",
       "AZ        7278717  233912           15695.0        1882.0   \n",
       "CA       39512223  886954           77808.0        8652.0   \n",
       "\n",
       "       AVG_VENTILATOR_USAGE  \n",
       "State                        \n",
       "AK                     41.0  \n",
       "AL                    383.0  \n",
       "AR                    261.0  \n",
       "AZ                    427.0  \n",
       "CA                   1986.0  "
      ]
     },
     "execution_count": 44,
     "metadata": {},
     "output_type": "execute_result"
    }
   ],
   "source": [
    "MyVar = Enrich_States[['population','10/21/20_x','NUM_STAFFED_BEDS','NUM_ICU_BEDS','AVG_VENTILATOR_USAGE']]\n",
    "MyVar_Cases = MyVar.rename(columns ={\"10/21/20_x\" : \"Cases\"})\n",
    "MyVar_Cases.head()"
   ]
  },
  {
   "cell_type": "code",
   "execution_count": 45,
   "metadata": {},
   "outputs": [
    {
     "data": {
      "text/html": [
       "<div>\n",
       "<style scoped>\n",
       "    .dataframe tbody tr th:only-of-type {\n",
       "        vertical-align: middle;\n",
       "    }\n",
       "\n",
       "    .dataframe tbody tr th {\n",
       "        vertical-align: top;\n",
       "    }\n",
       "\n",
       "    .dataframe thead th {\n",
       "        text-align: right;\n",
       "    }\n",
       "</style>\n",
       "<table border=\"1\" class=\"dataframe\">\n",
       "  <thead>\n",
       "    <tr style=\"text-align: right;\">\n",
       "      <th></th>\n",
       "      <th>Cases</th>\n",
       "      <th>NUM_STAFFED_BEDS</th>\n",
       "      <th>NUM_ICU_BEDS</th>\n",
       "      <th>AVG_VENTILATOR_USAGE</th>\n",
       "    </tr>\n",
       "    <tr>\n",
       "      <th>State</th>\n",
       "      <th></th>\n",
       "      <th></th>\n",
       "      <th></th>\n",
       "      <th></th>\n",
       "    </tr>\n",
       "  </thead>\n",
       "  <tbody>\n",
       "    <tr>\n",
       "      <td>AK</td>\n",
       "      <td>7928.0</td>\n",
       "      <td>1047.0</td>\n",
       "      <td>132.0</td>\n",
       "      <td>28.0</td>\n",
       "    </tr>\n",
       "    <tr>\n",
       "      <td>AL</td>\n",
       "      <td>17914.0</td>\n",
       "      <td>1544.0</td>\n",
       "      <td>167.0</td>\n",
       "      <td>39.0</td>\n",
       "    </tr>\n",
       "    <tr>\n",
       "      <td>AR</td>\n",
       "      <td>16502.0</td>\n",
       "      <td>1659.0</td>\n",
       "      <td>151.0</td>\n",
       "      <td>43.0</td>\n",
       "    </tr>\n",
       "    <tr>\n",
       "      <td>AZ</td>\n",
       "      <td>16068.0</td>\n",
       "      <td>1078.0</td>\n",
       "      <td>129.0</td>\n",
       "      <td>29.0</td>\n",
       "    </tr>\n",
       "    <tr>\n",
       "      <td>CA</td>\n",
       "      <td>11224.0</td>\n",
       "      <td>985.0</td>\n",
       "      <td>109.0</td>\n",
       "      <td>25.0</td>\n",
       "    </tr>\n",
       "  </tbody>\n",
       "</table>\n",
       "</div>"
      ],
      "text/plain": [
       "         Cases  NUM_STAFFED_BEDS  NUM_ICU_BEDS  AVG_VENTILATOR_USAGE\n",
       "State                                                               \n",
       "AK      7928.0            1047.0         132.0                  28.0\n",
       "AL     17914.0            1544.0         167.0                  39.0\n",
       "AR     16502.0            1659.0         151.0                  43.0\n",
       "AZ     16068.0            1078.0         129.0                  29.0\n",
       "CA     11224.0             985.0         109.0                  25.0"
      ]
     },
     "execution_count": 45,
     "metadata": {},
     "output_type": "execute_result"
    }
   ],
   "source": [
    "Value = 500_000\n",
    "Norm_Enrich = pd.DataFrame()\n",
    "\n",
    "Norm_Enrich['Cases'] = ((MyVar_Cases['Cases'] / MyVar_Cases['population']) * Value).round(0)\n",
    "Norm_Enrich['NUM_STAFFED_BEDS'] = ((MyVar_Cases['NUM_STAFFED_BEDS'] / MyVar_Cases['population']) * Value).round(0)\n",
    "Norm_Enrich['NUM_ICU_BEDS'] = ((MyVar_Cases['NUM_ICU_BEDS'] / MyVar_Cases['population']) * Value).round(0)\n",
    "Norm_Enrich['AVG_VENTILATOR_USAGE'] = ((MyVar_Cases['AVG_VENTILATOR_USAGE'] / MyVar_Cases['population']) * Value).round(0)\n",
    "\n",
    "\n",
    "\n",
    "\n",
    "Norm_Enrich.head()"
   ]
  },
  {
   "cell_type": "markdown",
   "metadata": {},
   "source": [
    "## Does higher number of staffed beds lead to higher covid case numbers?"
   ]
  },
  {
   "cell_type": "code",
   "execution_count": 46,
   "metadata": {},
   "outputs": [
    {
     "data": {
      "image/png": "[encoded data removed]",
      "text/plain": [
       "<Figure size 432x288 with 1 Axes>"
      ]
     },
     "metadata": {
      "needs_background": "light"
     },
     "output_type": "display_data"
    }
   ],
   "source": [
    "Staffed_Beds_Plot = Norm_Enrich.plot.scatter(x = 'NUM_STAFFED_BEDS',y ='Cases',c ='DarkBlue')"
   ]
  },
  {
   "cell_type": "markdown",
   "metadata": {},
   "source": [
    "## Does higher number of ICU beds lead to higher covid case numbers?"
   ]
  },
  {
   "cell_type": "code",
   "execution_count": 47,
   "metadata": {},
   "outputs": [
    {
     "data": {
      "image/png": "[encoded data removed]",
      "text/plain": [
       "<Figure size 432x288 with 1 Axes>"
      ]
     },
     "metadata": {
      "needs_background": "light"
     },
     "output_type": "display_data"
    }
   ],
   "source": [
    "ICUBeds_Plot = Norm_Enrich.plot.scatter(x = 'NUM_ICU_BEDS',y ='Cases',c ='Red')"
   ]
  },
  {
   "cell_type": "markdown",
   "metadata": {},
   "source": [
    "## Does higher number of average ventilator usage lead to higher covid case numbers?"
   ]
  },
  {
   "cell_type": "code",
   "execution_count": 48,
   "metadata": {},
   "outputs": [
    {
     "data": {
      "text/plain": [
       "<matplotlib.axes._subplots.AxesSubplot at 0x264535def08>"
      ]
     },
     "execution_count": 48,
     "metadata": {},
     "output_type": "execute_result"
    },
    {
     "data": {
      "image/png": "[encoded data removed]",
      "text/plain": [
       "<Figure size 432x288 with 1 Axes>"
      ]
     },
     "metadata": {
      "needs_background": "light"
     },
     "output_type": "display_data"
    }
   ],
   "source": [
    "Vent_Plot = Norm_Enrich.plot.scatter(x = 'AVG_VENTILATOR_USAGE',y ='Cases',c ='Green')\n",
    "Vent_Plot"
   ]
  },
  {
   "cell_type": "markdown",
   "metadata": {},
   "source": [
    "### Correlation between cases and enrichment variables. "
   ]
  },
  {
   "cell_type": "code",
   "execution_count": 49,
   "metadata": {},
   "outputs": [
    {
     "data": {
      "text/html": [
       "<div>\n",
       "<style scoped>\n",
       "    .dataframe tbody tr th:only-of-type {\n",
       "        vertical-align: middle;\n",
       "    }\n",
       "\n",
       "    .dataframe tbody tr th {\n",
       "        vertical-align: top;\n",
       "    }\n",
       "\n",
       "    .dataframe thead th {\n",
       "        text-align: right;\n",
       "    }\n",
       "</style>\n",
       "<table border=\"1\" class=\"dataframe\">\n",
       "  <thead>\n",
       "    <tr style=\"text-align: right;\">\n",
       "      <th></th>\n",
       "      <th>Cases</th>\n",
       "      <th>NUM_STAFFED_BEDS</th>\n",
       "      <th>NUM_ICU_BEDS</th>\n",
       "      <th>AVG_VENTILATOR_USAGE</th>\n",
       "    </tr>\n",
       "  </thead>\n",
       "  <tbody>\n",
       "    <tr>\n",
       "      <td>Cases</td>\n",
       "      <td>1.0</td>\n",
       "      <td>0.400107</td>\n",
       "      <td>0.502448</td>\n",
       "      <td>0.132817</td>\n",
       "    </tr>\n",
       "  </tbody>\n",
       "</table>\n",
       "</div>"
      ],
      "text/plain": [
       "       Cases  NUM_STAFFED_BEDS  NUM_ICU_BEDS  AVG_VENTILATOR_USAGE\n",
       "Cases    1.0          0.400107      0.502448              0.132817"
      ]
     },
     "execution_count": 49,
     "metadata": {},
     "output_type": "execute_result"
    }
   ],
   "source": [
    "Norm_Enrich.corr()[0:1]"
   ]
  },
  {
   "cell_type": "markdown",
   "metadata": {},
   "source": [
    "# Analysis:\n",
    "## Cases and Number of ICU Beds have a high correlation between each other"
   ]
  },
  {
   "cell_type": "code",
   "execution_count": null,
   "metadata": {},
   "outputs": [],
   "source": []
  },
  {
   "cell_type": "code",
   "execution_count": null,
   "metadata": {},
   "outputs": [],
   "source": []
  }
 ],
 "metadata": {
  "kernelspec": {
   "display_name": "Python 3",
   "language": "python",
   "name": "python3"
  },
  "language_info": {
   "codemirror_mode": {
    "name": "ipython",
    "version": 3
   },
   "file_extension": ".py",
   "mimetype": "text/x-python",
   "name": "python",
   "nbconvert_exporter": "python",
   "pygments_lexer": "ipython3",
   "version": "3.7.4"
  }
 },
 "nbformat": 4,
 "nbformat_minor": 2
}
