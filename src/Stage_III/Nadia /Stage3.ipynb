{
 "cells": [
  {
   "cell_type": "code",
   "execution_count": 101,
   "metadata": {},
   "outputs": [],
   "source": [
    "import pandas as pd \n",
    "import numpy as np\n",
    "import matplotlib.pyplot as plt\n",
    "import statsmodels.formula.api as smf\n",
    "from sklearn.linear_model import LinearRegression\n",
    "from sklearn.model_selection import train_test_split\n",
    "from sklearn.preprocessing import PolynomialFeatures\n",
    "from sklearn.metrics import r2_score\n",
    "import sklearn.metrics as metrics"
   ]
  },
  {
   "cell_type": "markdown",
   "metadata": {},
   "source": [
    "#### Read csv files "
   ]
  },
  {
   "cell_type": "code",
   "execution_count": 102,
   "metadata": {},
   "outputs": [],
   "source": [
    "covid19 = pd.read_csv(\"../../../data/output/covid.csv\")\n",
    "hospital= pd.read_csv(\"../../../data/output/COVID19_HOSBEDS_MERGE.CSV\")\n",
    "employment = pd.read_csv(\"../../../data/output/COVID19_EMPLOYMENT_MERGE.CSV\")"
   ]
  },
  {
   "cell_type": "markdown",
   "metadata": {},
   "source": [
    "#### Michigan State is chosen for the analysis "
   ]
  },
  {
   "cell_type": "code",
   "execution_count": 103,
   "metadata": {},
   "outputs": [],
   "source": [
    "covid19 = covid19.drop(covid19.loc[covid19['County Name'] == \"Statewide Unallocated\"].index)\n",
    "MI_counties =covid19.loc[covid19['State'] == 'MI']\n",
    "MI_state = MI_counties.groupby(['State']).sum()\n",
    "MI_counties_cases = covid19.loc[:, covid19.columns.str.endswith(\"_x\")]"
   ]
  },
  {
   "cell_type": "markdown",
   "metadata": {},
   "source": [
    "#### These next sections get the normalized daily new cases and deaths in Michigan State "
   ]
  },
  {
   "cell_type": "code",
   "execution_count": 104,
   "metadata": {},
   "outputs": [
    {
     "name": "stdout",
     "output_type": "stream",
     "text": [
      "State\n",
      "MI    96.235772\n",
      "dtype: float64\n"
     ]
    }
   ],
   "source": [
    "MI_state_cases= MI_state.loc[:, MI_state.columns.str.endswith(\"_x\")]\n",
    "#select from the first day of infection \n",
    "MI_state_cases =MI_state_cases.loc[: ,'3/9/20_x':]\n",
    "MI_new_cases= MI_state_cases.diff(axis=1)\n",
    "MI_new_cases= MI_new_cases.drop(columns= ['3/9/20_x'], axis=1)\n",
    "MI_new_cases.columns = MI_new_cases.columns.str.replace('_x', '')\n",
    "MI_new_cases\n",
    "\n",
    "normalized_daily_new_cases_MI= round(((MI_new_cases.div(9986857)).multiply(1_000_000)))\n",
    "daily_mean_cases= normalized_daily_new_cases_MI.mean(axis=1)\n",
    "print(daily_mean_cases)\n"
   ]
  },
  {
   "cell_type": "code",
   "execution_count": 54,
   "metadata": {},
   "outputs": [
    {
     "name": "stdout",
     "output_type": "stream",
     "text": [
      "State\n",
      "MI    65.138211\n",
      "dtype: float64\n"
     ]
    },
    {
     "data": {
      "text/html": [
       "<div>\n",
       "<style scoped>\n",
       "    .dataframe tbody tr th:only-of-type {\n",
       "        vertical-align: middle;\n",
       "    }\n",
       "\n",
       "    .dataframe tbody tr th {\n",
       "        vertical-align: top;\n",
       "    }\n",
       "\n",
       "    .dataframe thead th {\n",
       "        text-align: right;\n",
       "    }\n",
       "</style>\n",
       "<table border=\"1\" class=\"dataframe\">\n",
       "  <thead>\n",
       "    <tr style=\"text-align: right;\">\n",
       "      <th></th>\n",
       "      <th>3/10/20</th>\n",
       "      <th>3/11/20</th>\n",
       "      <th>3/12/20</th>\n",
       "      <th>3/13/20</th>\n",
       "      <th>3/14/20</th>\n",
       "      <th>3/15/20</th>\n",
       "      <th>3/16/20</th>\n",
       "      <th>3/17/20</th>\n",
       "      <th>3/18/20</th>\n",
       "      <th>3/19/20</th>\n",
       "      <th>...</th>\n",
       "      <th>11/1/20</th>\n",
       "      <th>11/2/20</th>\n",
       "      <th>11/3/20</th>\n",
       "      <th>11/4/20</th>\n",
       "      <th>11/5/20</th>\n",
       "      <th>11/6/20</th>\n",
       "      <th>11/7/20</th>\n",
       "      <th>11/8/20</th>\n",
       "      <th>11/9/20</th>\n",
       "      <th>11/10/20</th>\n",
       "    </tr>\n",
       "    <tr>\n",
       "      <th>State</th>\n",
       "      <th></th>\n",
       "      <th></th>\n",
       "      <th></th>\n",
       "      <th></th>\n",
       "      <th></th>\n",
       "      <th></th>\n",
       "      <th></th>\n",
       "      <th></th>\n",
       "      <th></th>\n",
       "      <th></th>\n",
       "      <th></th>\n",
       "      <th></th>\n",
       "      <th></th>\n",
       "      <th></th>\n",
       "      <th></th>\n",
       "      <th></th>\n",
       "      <th></th>\n",
       "      <th></th>\n",
       "      <th></th>\n",
       "      <th></th>\n",
       "      <th></th>\n",
       "    </tr>\n",
       "  </thead>\n",
       "  <tbody>\n",
       "    <tr>\n",
       "      <th>MI</th>\n",
       "      <td>0.0</td>\n",
       "      <td>0.0</td>\n",
       "      <td>0.0</td>\n",
       "      <td>0.0</td>\n",
       "      <td>0.0</td>\n",
       "      <td>0.0</td>\n",
       "      <td>0.0</td>\n",
       "      <td>0.0</td>\n",
       "      <td>2.0</td>\n",
       "      <td>0.0</td>\n",
       "      <td>...</td>\n",
       "      <td>0.0</td>\n",
       "      <td>32.0</td>\n",
       "      <td>92.0</td>\n",
       "      <td>44.0</td>\n",
       "      <td>100.0</td>\n",
       "      <td>92.0</td>\n",
       "      <td>0.0</td>\n",
       "      <td>0.0</td>\n",
       "      <td>260.0</td>\n",
       "      <td>174.0</td>\n",
       "    </tr>\n",
       "  </tbody>\n",
       "</table>\n",
       "<p>1 rows × 246 columns</p>\n",
       "</div>"
      ],
      "text/plain": [
       "       3/10/20  3/11/20  3/12/20  3/13/20  3/14/20  3/15/20  3/16/20  3/17/20  \\\n",
       "State                                                                           \n",
       "MI         0.0      0.0      0.0      0.0      0.0      0.0      0.0      0.0   \n",
       "\n",
       "       3/18/20  3/19/20  ...  11/1/20  11/2/20  11/3/20  11/4/20  11/5/20  \\\n",
       "State                    ...                                                \n",
       "MI         2.0      0.0  ...      0.0     32.0     92.0     44.0    100.0   \n",
       "\n",
       "       11/6/20  11/7/20  11/8/20  11/9/20  11/10/20  \n",
       "State                                                \n",
       "MI        92.0      0.0      0.0    260.0     174.0  \n",
       "\n",
       "[1 rows x 246 columns]"
      ]
     },
     "execution_count": 54,
     "metadata": {},
     "output_type": "execute_result"
    }
   ],
   "source": [
    "MI_state_deaths = MI_state.loc[:, MI_state.columns.str.endswith(\"_y\")]\n",
    "#select from the first day of infection \n",
    "MI_state_deaths =MI_state_deaths.loc[: ,'3/9/20_y':]\n",
    "MI_new_deaths= MI_state_deaths.diff(axis=1)\n",
    "MI_new_deaths= MI_new_deaths.drop(columns= ['3/9/20_y'], axis=1)\n",
    "MI_new_deaths.columns = MI_new_deaths.columns.str.replace('_y', '')\n",
    "MI_new_deaths\n",
    "\n",
    "\n",
    "normalized_daily_new_deaths_MI= round(((MI_new_deaths.div(9986857)).multiply(20_000_000)))\n",
    "daily_mean_deaths = normalized_daily_new_deaths_MI.mean(axis=1)\n",
    "print(daily_mean_deaths)\n",
    "normalized_daily_new_deaths_MI"
   ]
  },
  {
   "cell_type": "markdown",
   "metadata": {},
   "source": [
    "#### Fitting a linear model for MI state: store the days in X-axis and the number of cases/ deaths in Y-axis. To make the analysis easier, the days have been taking as integers(day1, day2...)"
   ]
  },
  {
   "cell_type": "code",
   "execution_count": 55,
   "metadata": {},
   "outputs": [],
   "source": [
    "X_cases = MI_new_cases.columns.tolist()\n",
    "X_cases = pd.to_datetime(X_cases) \n",
    "Y_cases = normalized_daily_new_cases_MI.iloc[0].values.tolist()\n",
    "X = [i for i in range(MI_new_cases.columns.size)]\n",
    "\n",
    "# next  seven days for prediction  \n",
    "K = [i for i in range(MI_new_cases.columns.size ,MI_new_cases.columns.size + 7)]"
   ]
  },
  {
   "cell_type": "markdown",
   "metadata": {},
   "source": [
    "#### Convert the data into 2D arrays as the linear model take 2Dimension data"
   ]
  },
  {
   "cell_type": "code",
   "execution_count": 56,
   "metadata": {},
   "outputs": [],
   "source": [
    "Xcases_train = np.array(X)\n",
    "Ycases_train = np.array(Y_cases)\n",
    "K_test = np.array(K)\n",
    "\n",
    "Xcases_train = Xcases_train[:, np.newaxis]\n",
    "Ycases_train = Ycases_train[:, np.newaxis]\n",
    "K_test = K_test[:, np.newaxis]"
   ]
  },
  {
   "cell_type": "markdown",
   "metadata": {},
   "source": [
    "#### In this section,  a linear regression has been modelled. A prediction on the same data that was used to trained was made to see the performance of the model. Another prediction mas made for the next seven days. "
   ]
  },
  {
   "cell_type": "code",
   "execution_count": 57,
   "metadata": {},
   "outputs": [
    {
     "name": "stdout",
     "output_type": "stream",
     "text": [
      "The mean of predicted cases:  190.2994840357393\n"
     ]
    }
   ],
   "source": [
    "model = LinearRegression()\n",
    "model.fit(Xcases_train, Ycases_train) #fit model \n",
    "\n",
    "y_hat1 = model.predict(Xcases_train)\n",
    "y_hat = model.predict(K_test)\n",
    "print(\"The mean of predicted cases: \", y_hat.mean())"
   ]
  },
  {
   "cell_type": "code",
   "execution_count": 58,
   "metadata": {},
   "outputs": [
    {
     "name": "stdout",
     "output_type": "stream",
     "text": [
      "The RMSE error : 126.7554763584582\n",
      "The R^2:  0.1478808174250721\n"
     ]
    }
   ],
   "source": [
    "print(\"The RMSE error :\", np.sqrt(metrics.mean_squared_error(Ycases_train, y_hat1)))\n",
    "print (\"The R^2: \",r2_score(Ycases_train, y_hat1))"
   ]
  },
  {
   "cell_type": "code",
   "execution_count": 59,
   "metadata": {},
   "outputs": [
    {
     "data": {
      "text/plain": [
       "Text(0.5, 1.0, 'Linear Regression MI-cases')"
      ]
     },
     "execution_count": 59,
     "metadata": {},
     "output_type": "execute_result"
    },
    {
     "data": {
      "image/png": "[encoded data removed]",
      "text/plain": [
       "<Figure size 432x288 with 1 Axes>"
      ]
     },
     "metadata": {
      "needs_background": "light"
     },
     "output_type": "display_data"
    }
   ],
   "source": [
    "plt.figure()\n",
    "plt.plot(Xcases_train.squeeze(), Ycases_train, 'o')\n",
    "plt.plot(Xcases_train.squeeze(), y_hat1)\n",
    "plt.plot(K_test,y_hat);\n",
    "plt.xlabel('Number of days')\n",
    "plt.ylabel('New cases MI')\n",
    "plt.title('Linear Regression MI-cases')"
   ]
  },
  {
   "cell_type": "markdown",
   "metadata": {},
   "source": [
    "#### The mean of daily new cases in Michigan was 96.23, that is to say there is an average of about 96 new cases each day and our model have predicted a mean of 190.  The performance of the linear model on this data is not very good. Probabily because a linear model does not best fit the data . Moreover we can see that through the R^2 measure which was only 0.14. "
   ]
  },
  {
   "cell_type": "markdown",
   "metadata": {},
   "source": [
    "#### Prediction for number of deaths in Michigan State"
   ]
  },
  {
   "cell_type": "code",
   "execution_count": 60,
   "metadata": {},
   "outputs": [],
   "source": [
    "Y_deaths = normalized_daily_new_deaths_MI.iloc[0].values.tolist()\n",
    "X_deaths_train = np.array(X)\n",
    "Y_deaths_train = np.array(Y_deaths)\n",
    "Kdeaths_test = np.array(K)\n",
    "\n",
    "X_deaths_train = X_deaths_train[:, np.newaxis]\n",
    "Y_deaths_train = Y_deaths_train[:, np.newaxis]\n",
    "Kdeaths_test = Kdeaths_test[:, np.newaxis]"
   ]
  },
  {
   "cell_type": "code",
   "execution_count": 61,
   "metadata": {},
   "outputs": [
    {
     "name": "stdout",
     "output_type": "stream",
     "text": [
      "The mean of predicted deaths:  4.201891622650864\n"
     ]
    },
    {
     "data": {
      "text/plain": [
       "array([[5.64702174],\n",
       "       [5.1653117 ],\n",
       "       [4.68360166],\n",
       "       [4.20189162],\n",
       "       [3.72018159],\n",
       "       [3.23847155],\n",
       "       [2.75676151]])"
      ]
     },
     "execution_count": 61,
     "metadata": {},
     "output_type": "execute_result"
    }
   ],
   "source": [
    "model = LinearRegression()\n",
    "model.fit(X_deaths_train, Y_deaths_train) #fit model \n",
    "\n",
    "y_pred = model.predict(Kdeaths_test)\n",
    "y_pred1 = model.predict(X_deaths_train)\n",
    "print(\"The mean of predicted deaths: \", y_pred.mean())\n",
    "y_pred"
   ]
  },
  {
   "cell_type": "code",
   "execution_count": 62,
   "metadata": {},
   "outputs": [
    {
     "name": "stdout",
     "output_type": "stream",
     "text": [
      "The RMSE error : 85.8393442004361\n",
      "The R^2:  0.13704645844299057\n"
     ]
    }
   ],
   "source": [
    "print(\"The RMSE error :\", np.sqrt(metrics.mean_squared_error(Y_deaths_train, y_pred1)))\n",
    "print (\"The R^2: \",r2_score(Y_deaths_train, y_pred1))"
   ]
  },
  {
   "cell_type": "code",
   "execution_count": 63,
   "metadata": {},
   "outputs": [
    {
     "data": {
      "text/plain": [
       "Text(0.5, 1.0, 'Linear Regression MI-deaths')"
      ]
     },
     "execution_count": 63,
     "metadata": {},
     "output_type": "execute_result"
    },
    {
     "data": {
      "image/png": "[encoded data removed]",
      "text/plain": [
       "<Figure size 432x288 with 1 Axes>"
      ]
     },
     "metadata": {
      "needs_background": "light"
     },
     "output_type": "display_data"
    }
   ],
   "source": [
    "plt.figure()\n",
    "plt.plot(X_deaths_train.squeeze(), Y_deaths_train, 'o')\n",
    "plt.plot(X_deaths_train.squeeze(), y_pred1)\n",
    "plt.plot(Kdeaths_test.squeeze(), y_pred);\n",
    "plt.xlabel('Number of days')\n",
    "plt.ylabel('New deaths MI')\n",
    "plt.title('Linear Regression MI-deaths')"
   ]
  },
  {
   "cell_type": "markdown",
   "metadata": {},
   "source": [
    "#### For the number of deaths, similar to number of cases, the linear model is not very accurate we would have expect around 30-50 deaths daily based on the average, it would have been acceptable. In addition, the R^2 metric was only 0.13, so the model is not a good model for this data."
   ]
  },
  {
   "cell_type": "markdown",
   "metadata": {},
   "source": [
    "### Non-Linear Regression Model "
   ]
  },
  {
   "cell_type": "markdown",
   "metadata": {},
   "source": [
    "#### Polynomial Model: Since they linear regression model did not work let's a non linear in this case a polynomial model and observe its performance."
   ]
  },
  {
   "cell_type": "code",
   "execution_count": 64,
   "metadata": {},
   "outputs": [
    {
     "data": {
      "text/plain": [
       "Text(0.5, 1.0, 'Polynomial Regression MI-cases')"
      ]
     },
     "execution_count": 64,
     "metadata": {},
     "output_type": "execute_result"
    },
    {
     "data": {
      "image/png": "[encoded data removed]",
      "text/plain": [
       "<Figure size 432x288 with 1 Axes>"
      ]
     },
     "metadata": {
      "needs_background": "light"
     },
     "output_type": "display_data"
    }
   ],
   "source": [
    "X_train= np.array(X)\n",
    "Y_train= np.array(Y_cases)\n",
    "X_train = X_train[:, np.newaxis]\n",
    "Y_train= Y_train[:, np.newaxis]\n",
    "\n",
    "poly = PolynomialFeatures(degree = 5) \n",
    "X_poly = poly.fit_transform(X_train) \n",
    "\n",
    "poly.fit(X_poly, Y_train) \n",
    "lin2 = LinearRegression() \n",
    "lin2.fit(X_poly, Y_train) \n",
    "\n",
    "ycases_hat = lin2.predict(poly.fit_transform(X_train))\n",
    "\n",
    "plt.scatter(X_train, Y_train) \n",
    "plt.plot(X_train, ycases_hat, color = 'orange')\n",
    "\n",
    "#Trend line \n",
    "X = [i for i in range(MI_new_cases.columns.size)]\n",
    "Y_cases = normalized_daily_new_cases_MI.iloc[0].values.tolist()\n",
    "X = np.array(X)\n",
    "Y = np.array(Y_cases)\n",
    "z = np.polyfit(X, Y, 1)\n",
    "p = np.poly1d(z)\n",
    "\n",
    "plt.plot(X,p(X),\"r-\")\n",
    "\n",
    "plt.xlabel('Number of days')\n",
    "plt.ylabel('New cases MI')\n",
    "plt.title('Polynomial Regression MI-cases')"
   ]
  },
  {
   "cell_type": "code",
   "execution_count": 65,
   "metadata": {},
   "outputs": [
    {
     "name": "stdout",
     "output_type": "stream",
     "text": [
      "The RMSE error:  96.61547329881358\n",
      "The R^2:  0.5049372498125628\n"
     ]
    }
   ],
   "source": [
    "print (\"The RMSE error: \", np.sqrt(metrics.mean_squared_error(Ycases_train, lin2.predict(poly.fit_transform(X_train)))))\n",
    "print (\"The R^2: \",r2_score(Ycases_train, lin2.predict(poly.fit_transform(X_train))))"
   ]
  },
  {
   "cell_type": "code",
   "execution_count": 66,
   "metadata": {},
   "outputs": [
    {
     "data": {
      "text/plain": [
       "Text(0.5, 1.0, 'Polynomial Regression MI-deaths')"
      ]
     },
     "execution_count": 66,
     "metadata": {},
     "output_type": "execute_result"
    },
    {
     "data": {
      "image/png": "[encoded data removed]",
      "text/plain": [
       "<Figure size 432x288 with 1 Axes>"
      ]
     },
     "metadata": {
      "needs_background": "light"
     },
     "output_type": "display_data"
    }
   ],
   "source": [
    "Y_deaths = normalized_daily_new_deaths_MI.iloc[0].values.tolist()\n",
    "X_deaths_train = np.array(X)\n",
    "Y_deaths_train = np.array(Y_deaths)\n",
    "Kdeaths_test = np.array(K)\n",
    "\n",
    "X_deaths_train = X_deaths_train[:, np.newaxis]\n",
    "Y_deaths_train= Y_deaths_train[:, np.newaxis]\n",
    "Kdeaths_test= Kdeaths_test[:, np.newaxis]\n",
    "\n",
    "\n",
    "poly = PolynomialFeatures(degree = 7) \n",
    "X_poly = poly.fit_transform(X_train) \n",
    "\n",
    "poly.fit(X_poly, Y_deaths_train) \n",
    "lin2 = LinearRegression() \n",
    "lin2.fit(X_poly, Y_deaths_train) \n",
    "\n",
    "ycases_hat = lin2.predict(poly.fit_transform(Kdeaths_test))\n",
    "ycases_hat1 = lin2.predict(poly.fit_transform(X_train))\n",
    "\n",
    "plt.scatter(X_train, Y_deaths_train) \n",
    "plt.plot(X_train, ycases_hat1, color = 'orange')\n",
    "\n",
    "X = [i for i in range(MI_new_cases.columns.size)]\n",
    "Y_cases = normalized_daily_new_deaths_MI.iloc[0].values.tolist()\n",
    "X = np.array(X)\n",
    "Y = np.array(Y_cases)\n",
    "z = np.polyfit(X, Y, 1)\n",
    "p = np.poly1d(z)\n",
    "\n",
    "plt.plot(X,p(X),\"r-\")\n",
    "\n",
    "plt.xlabel('Number of days')\n",
    "plt.ylabel('New deaths MI')\n",
    "plt.title('Polynomial Regression MI-deaths')"
   ]
  },
  {
   "cell_type": "code",
   "execution_count": 67,
   "metadata": {},
   "outputs": [
    {
     "name": "stdout",
     "output_type": "stream",
     "text": [
      "The RMSE error:  62.66449435856421\n",
      "The R^2:  0.5401060326673048\n"
     ]
    }
   ],
   "source": [
    "print (\"The RMSE error: \", np.sqrt(metrics.mean_squared_error(Y_deaths_train, lin2.predict(poly.fit_transform(X_train)))))\n",
    "print (\"The R^2: \",r2_score(Y_deaths_train, lin2.predict(poly.fit_transform(X_train))))"
   ]
  },
  {
   "cell_type": "markdown",
   "metadata": {},
   "source": [
    "#### The top 5 counties from stage 2 were: Wayne county, Oakland County,  Macomb County,  Genesee County and Kent County"
   ]
  },
  {
   "cell_type": "code",
   "execution_count": 68,
   "metadata": {},
   "outputs": [
    {
     "data": {
      "text/html": [
       "<div>\n",
       "<style scoped>\n",
       "    .dataframe tbody tr th:only-of-type {\n",
       "        vertical-align: middle;\n",
       "    }\n",
       "\n",
       "    .dataframe tbody tr th {\n",
       "        vertical-align: top;\n",
       "    }\n",
       "\n",
       "    .dataframe thead th {\n",
       "        text-align: right;\n",
       "    }\n",
       "</style>\n",
       "<table border=\"1\" class=\"dataframe\">\n",
       "  <thead>\n",
       "    <tr style=\"text-align: right;\">\n",
       "      <th></th>\n",
       "      <th>3/10/20</th>\n",
       "      <th>3/11/20</th>\n",
       "      <th>3/12/20</th>\n",
       "      <th>3/13/20</th>\n",
       "      <th>3/14/20</th>\n",
       "      <th>3/15/20</th>\n",
       "      <th>3/16/20</th>\n",
       "      <th>3/17/20</th>\n",
       "      <th>3/18/20</th>\n",
       "      <th>3/19/20</th>\n",
       "      <th>...</th>\n",
       "      <th>11/1/20</th>\n",
       "      <th>11/2/20</th>\n",
       "      <th>11/3/20</th>\n",
       "      <th>11/4/20</th>\n",
       "      <th>11/5/20</th>\n",
       "      <th>11/6/20</th>\n",
       "      <th>11/7/20</th>\n",
       "      <th>11/8/20</th>\n",
       "      <th>11/9/20</th>\n",
       "      <th>11/10/20</th>\n",
       "    </tr>\n",
       "  </thead>\n",
       "  <tbody>\n",
       "    <tr>\n",
       "      <th>1255</th>\n",
       "      <td>0.0</td>\n",
       "      <td>0.0</td>\n",
       "      <td>0.0</td>\n",
       "      <td>0.0</td>\n",
       "      <td>0.0</td>\n",
       "      <td>0.0</td>\n",
       "      <td>0.0</td>\n",
       "      <td>0.0</td>\n",
       "      <td>0.0</td>\n",
       "      <td>0.0</td>\n",
       "      <td>...</td>\n",
       "      <td>0.0</td>\n",
       "      <td>2.0</td>\n",
       "      <td>1.0</td>\n",
       "      <td>0.0</td>\n",
       "      <td>0.0</td>\n",
       "      <td>1.0</td>\n",
       "      <td>0.0</td>\n",
       "      <td>0.0</td>\n",
       "      <td>8.0</td>\n",
       "      <td>1.0</td>\n",
       "    </tr>\n",
       "    <tr>\n",
       "      <th>1256</th>\n",
       "      <td>0.0</td>\n",
       "      <td>0.0</td>\n",
       "      <td>0.0</td>\n",
       "      <td>0.0</td>\n",
       "      <td>0.0</td>\n",
       "      <td>0.0</td>\n",
       "      <td>0.0</td>\n",
       "      <td>0.0</td>\n",
       "      <td>0.0</td>\n",
       "      <td>0.0</td>\n",
       "      <td>...</td>\n",
       "      <td>0.0</td>\n",
       "      <td>5.0</td>\n",
       "      <td>4.0</td>\n",
       "      <td>1.0</td>\n",
       "      <td>2.0</td>\n",
       "      <td>2.0</td>\n",
       "      <td>0.0</td>\n",
       "      <td>0.0</td>\n",
       "      <td>12.0</td>\n",
       "      <td>7.0</td>\n",
       "    </tr>\n",
       "    <tr>\n",
       "      <th>1257</th>\n",
       "      <td>0.0</td>\n",
       "      <td>0.0</td>\n",
       "      <td>0.0</td>\n",
       "      <td>0.0</td>\n",
       "      <td>0.0</td>\n",
       "      <td>0.0</td>\n",
       "      <td>0.0</td>\n",
       "      <td>0.0</td>\n",
       "      <td>0.0</td>\n",
       "      <td>0.0</td>\n",
       "      <td>...</td>\n",
       "      <td>0.0</td>\n",
       "      <td>88.0</td>\n",
       "      <td>53.0</td>\n",
       "      <td>72.0</td>\n",
       "      <td>84.0</td>\n",
       "      <td>57.0</td>\n",
       "      <td>0.0</td>\n",
       "      <td>0.0</td>\n",
       "      <td>243.0</td>\n",
       "      <td>85.0</td>\n",
       "    </tr>\n",
       "    <tr>\n",
       "      <th>1258</th>\n",
       "      <td>0.0</td>\n",
       "      <td>0.0</td>\n",
       "      <td>0.0</td>\n",
       "      <td>0.0</td>\n",
       "      <td>0.0</td>\n",
       "      <td>0.0</td>\n",
       "      <td>0.0</td>\n",
       "      <td>0.0</td>\n",
       "      <td>0.0</td>\n",
       "      <td>0.0</td>\n",
       "      <td>...</td>\n",
       "      <td>0.0</td>\n",
       "      <td>9.0</td>\n",
       "      <td>3.0</td>\n",
       "      <td>4.0</td>\n",
       "      <td>0.0</td>\n",
       "      <td>11.0</td>\n",
       "      <td>0.0</td>\n",
       "      <td>0.0</td>\n",
       "      <td>20.0</td>\n",
       "      <td>18.0</td>\n",
       "    </tr>\n",
       "    <tr>\n",
       "      <th>1259</th>\n",
       "      <td>0.0</td>\n",
       "      <td>0.0</td>\n",
       "      <td>0.0</td>\n",
       "      <td>0.0</td>\n",
       "      <td>0.0</td>\n",
       "      <td>0.0</td>\n",
       "      <td>0.0</td>\n",
       "      <td>0.0</td>\n",
       "      <td>0.0</td>\n",
       "      <td>0.0</td>\n",
       "      <td>...</td>\n",
       "      <td>0.0</td>\n",
       "      <td>8.0</td>\n",
       "      <td>4.0</td>\n",
       "      <td>2.0</td>\n",
       "      <td>15.0</td>\n",
       "      <td>9.0</td>\n",
       "      <td>0.0</td>\n",
       "      <td>0.0</td>\n",
       "      <td>29.0</td>\n",
       "      <td>4.0</td>\n",
       "    </tr>\n",
       "  </tbody>\n",
       "</table>\n",
       "<p>5 rows × 246 columns</p>\n",
       "</div>"
      ],
      "text/plain": [
       "      3/10/20  3/11/20  3/12/20  3/13/20  3/14/20  3/15/20  3/16/20  3/17/20  \\\n",
       "1255      0.0      0.0      0.0      0.0      0.0      0.0      0.0      0.0   \n",
       "1256      0.0      0.0      0.0      0.0      0.0      0.0      0.0      0.0   \n",
       "1257      0.0      0.0      0.0      0.0      0.0      0.0      0.0      0.0   \n",
       "1258      0.0      0.0      0.0      0.0      0.0      0.0      0.0      0.0   \n",
       "1259      0.0      0.0      0.0      0.0      0.0      0.0      0.0      0.0   \n",
       "\n",
       "      3/18/20  3/19/20  ...  11/1/20  11/2/20  11/3/20  11/4/20  11/5/20  \\\n",
       "1255      0.0      0.0  ...      0.0      2.0      1.0      0.0      0.0   \n",
       "1256      0.0      0.0  ...      0.0      5.0      4.0      1.0      2.0   \n",
       "1257      0.0      0.0  ...      0.0     88.0     53.0     72.0     84.0   \n",
       "1258      0.0      0.0  ...      0.0      9.0      3.0      4.0      0.0   \n",
       "1259      0.0      0.0  ...      0.0      8.0      4.0      2.0     15.0   \n",
       "\n",
       "      11/6/20  11/7/20  11/8/20  11/9/20  11/10/20  \n",
       "1255      1.0      0.0      0.0      8.0       1.0  \n",
       "1256      2.0      0.0      0.0     12.0       7.0  \n",
       "1257     57.0      0.0      0.0    243.0      85.0  \n",
       "1258     11.0      0.0      0.0     20.0      18.0  \n",
       "1259      9.0      0.0      0.0     29.0       4.0  \n",
       "\n",
       "[5 rows x 246 columns]"
      ]
     },
     "execution_count": 68,
     "metadata": {},
     "output_type": "execute_result"
    }
   ],
   "source": [
    "MI_counties_cases= MI_counties.loc[:, MI_counties.columns.str.endswith(\"_x\")]\n",
    "\n",
    "#select from the first day of infection \n",
    "MI_counties_cases = MI_counties_cases.loc[: ,'3/9/20_x':]\n",
    "MI_counties_new_cases= MI_counties_cases.diff(axis=1)\n",
    "MI_counties_new_cases= MI_counties_new_cases.drop(columns= ['3/9/20_x'], axis=1)\n",
    "MI_counties_new_cases.columns = MI_counties_new_cases.columns.str.replace('_x', '')\n",
    "MI_counties_new_cases.head()"
   ]
  },
  {
   "cell_type": "code",
   "execution_count": 69,
   "metadata": {},
   "outputs": [
    {
     "data": {
      "text/html": [
       "<div>\n",
       "<style scoped>\n",
       "    .dataframe tbody tr th:only-of-type {\n",
       "        vertical-align: middle;\n",
       "    }\n",
       "\n",
       "    .dataframe tbody tr th {\n",
       "        vertical-align: top;\n",
       "    }\n",
       "\n",
       "    .dataframe thead th {\n",
       "        text-align: right;\n",
       "    }\n",
       "</style>\n",
       "<table border=\"1\" class=\"dataframe\">\n",
       "  <thead>\n",
       "    <tr style=\"text-align: right;\">\n",
       "      <th></th>\n",
       "      <th>2020-03-10</th>\n",
       "      <th>2020-03-11</th>\n",
       "      <th>2020-03-12</th>\n",
       "      <th>2020-03-13</th>\n",
       "      <th>2020-03-14</th>\n",
       "      <th>2020-03-15</th>\n",
       "      <th>2020-03-16</th>\n",
       "      <th>2020-03-17</th>\n",
       "      <th>2020-03-18</th>\n",
       "      <th>2020-03-19</th>\n",
       "      <th>...</th>\n",
       "      <th>2020-11-01</th>\n",
       "      <th>2020-11-02</th>\n",
       "      <th>2020-11-03</th>\n",
       "      <th>2020-11-04</th>\n",
       "      <th>2020-11-05</th>\n",
       "      <th>2020-11-06</th>\n",
       "      <th>2020-11-07</th>\n",
       "      <th>2020-11-08</th>\n",
       "      <th>2020-11-09</th>\n",
       "      <th>2020-11-10</th>\n",
       "    </tr>\n",
       "  </thead>\n",
       "  <tbody>\n",
       "    <tr>\n",
       "      <th>1255</th>\n",
       "      <td>0.0</td>\n",
       "      <td>0.0</td>\n",
       "      <td>0.0</td>\n",
       "      <td>0.0</td>\n",
       "      <td>0.0</td>\n",
       "      <td>0.0</td>\n",
       "      <td>0.0</td>\n",
       "      <td>0.0</td>\n",
       "      <td>0.0</td>\n",
       "      <td>0.0</td>\n",
       "      <td>...</td>\n",
       "      <td>0.0</td>\n",
       "      <td>2.0</td>\n",
       "      <td>1.0</td>\n",
       "      <td>0.0</td>\n",
       "      <td>0.0</td>\n",
       "      <td>1.0</td>\n",
       "      <td>0.0</td>\n",
       "      <td>0.0</td>\n",
       "      <td>8.0</td>\n",
       "      <td>1.0</td>\n",
       "    </tr>\n",
       "    <tr>\n",
       "      <th>1256</th>\n",
       "      <td>0.0</td>\n",
       "      <td>0.0</td>\n",
       "      <td>0.0</td>\n",
       "      <td>0.0</td>\n",
       "      <td>0.0</td>\n",
       "      <td>0.0</td>\n",
       "      <td>0.0</td>\n",
       "      <td>0.0</td>\n",
       "      <td>0.0</td>\n",
       "      <td>0.0</td>\n",
       "      <td>...</td>\n",
       "      <td>0.0</td>\n",
       "      <td>5.0</td>\n",
       "      <td>4.0</td>\n",
       "      <td>1.0</td>\n",
       "      <td>2.0</td>\n",
       "      <td>2.0</td>\n",
       "      <td>0.0</td>\n",
       "      <td>0.0</td>\n",
       "      <td>12.0</td>\n",
       "      <td>7.0</td>\n",
       "    </tr>\n",
       "    <tr>\n",
       "      <th>1257</th>\n",
       "      <td>0.0</td>\n",
       "      <td>0.0</td>\n",
       "      <td>0.0</td>\n",
       "      <td>0.0</td>\n",
       "      <td>0.0</td>\n",
       "      <td>0.0</td>\n",
       "      <td>0.0</td>\n",
       "      <td>0.0</td>\n",
       "      <td>0.0</td>\n",
       "      <td>0.0</td>\n",
       "      <td>...</td>\n",
       "      <td>0.0</td>\n",
       "      <td>88.0</td>\n",
       "      <td>53.0</td>\n",
       "      <td>72.0</td>\n",
       "      <td>84.0</td>\n",
       "      <td>57.0</td>\n",
       "      <td>0.0</td>\n",
       "      <td>0.0</td>\n",
       "      <td>243.0</td>\n",
       "      <td>85.0</td>\n",
       "    </tr>\n",
       "    <tr>\n",
       "      <th>1258</th>\n",
       "      <td>0.0</td>\n",
       "      <td>0.0</td>\n",
       "      <td>0.0</td>\n",
       "      <td>0.0</td>\n",
       "      <td>0.0</td>\n",
       "      <td>0.0</td>\n",
       "      <td>0.0</td>\n",
       "      <td>0.0</td>\n",
       "      <td>0.0</td>\n",
       "      <td>0.0</td>\n",
       "      <td>...</td>\n",
       "      <td>0.0</td>\n",
       "      <td>9.0</td>\n",
       "      <td>3.0</td>\n",
       "      <td>4.0</td>\n",
       "      <td>0.0</td>\n",
       "      <td>11.0</td>\n",
       "      <td>0.0</td>\n",
       "      <td>0.0</td>\n",
       "      <td>20.0</td>\n",
       "      <td>18.0</td>\n",
       "    </tr>\n",
       "    <tr>\n",
       "      <th>1259</th>\n",
       "      <td>0.0</td>\n",
       "      <td>0.0</td>\n",
       "      <td>0.0</td>\n",
       "      <td>0.0</td>\n",
       "      <td>0.0</td>\n",
       "      <td>0.0</td>\n",
       "      <td>0.0</td>\n",
       "      <td>0.0</td>\n",
       "      <td>0.0</td>\n",
       "      <td>0.0</td>\n",
       "      <td>...</td>\n",
       "      <td>0.0</td>\n",
       "      <td>8.0</td>\n",
       "      <td>4.0</td>\n",
       "      <td>2.0</td>\n",
       "      <td>15.0</td>\n",
       "      <td>9.0</td>\n",
       "      <td>0.0</td>\n",
       "      <td>0.0</td>\n",
       "      <td>29.0</td>\n",
       "      <td>4.0</td>\n",
       "    </tr>\n",
       "  </tbody>\n",
       "</table>\n",
       "<p>5 rows × 246 columns</p>\n",
       "</div>"
      ],
      "text/plain": [
       "      2020-03-10  2020-03-11  2020-03-12  2020-03-13  2020-03-14  2020-03-15  \\\n",
       "1255         0.0         0.0         0.0         0.0         0.0         0.0   \n",
       "1256         0.0         0.0         0.0         0.0         0.0         0.0   \n",
       "1257         0.0         0.0         0.0         0.0         0.0         0.0   \n",
       "1258         0.0         0.0         0.0         0.0         0.0         0.0   \n",
       "1259         0.0         0.0         0.0         0.0         0.0         0.0   \n",
       "\n",
       "      2020-03-16  2020-03-17  2020-03-18  2020-03-19  ...  2020-11-01  \\\n",
       "1255         0.0         0.0         0.0         0.0  ...         0.0   \n",
       "1256         0.0         0.0         0.0         0.0  ...         0.0   \n",
       "1257         0.0         0.0         0.0         0.0  ...         0.0   \n",
       "1258         0.0         0.0         0.0         0.0  ...         0.0   \n",
       "1259         0.0         0.0         0.0         0.0  ...         0.0   \n",
       "\n",
       "      2020-11-02  2020-11-03  2020-11-04  2020-11-05  2020-11-06  2020-11-07  \\\n",
       "1255         2.0         1.0         0.0         0.0         1.0         0.0   \n",
       "1256         5.0         4.0         1.0         2.0         2.0         0.0   \n",
       "1257        88.0        53.0        72.0        84.0        57.0         0.0   \n",
       "1258         9.0         3.0         4.0         0.0        11.0         0.0   \n",
       "1259         8.0         4.0         2.0        15.0         9.0         0.0   \n",
       "\n",
       "      2020-11-08  2020-11-09  2020-11-10  \n",
       "1255         0.0         8.0         1.0  \n",
       "1256         0.0        12.0         7.0  \n",
       "1257         0.0       243.0        85.0  \n",
       "1258         0.0        20.0        18.0  \n",
       "1259         0.0        29.0         4.0  \n",
       "\n",
       "[5 rows x 246 columns]"
      ]
     },
     "execution_count": 69,
     "metadata": {},
     "output_type": "execute_result"
    }
   ],
   "source": [
    "MI_counties_new_cases.columns = pd.to_datetime(MI_counties_new_cases.columns.tolist())\n",
    "MI_counties_new_cases.head()"
   ]
  },
  {
   "cell_type": "code",
   "execution_count": 70,
   "metadata": {
    "scrolled": true
   },
   "outputs": [
    {
     "data": {
      "text/html": [
       "<div>\n",
       "<style scoped>\n",
       "    .dataframe tbody tr th:only-of-type {\n",
       "        vertical-align: middle;\n",
       "    }\n",
       "\n",
       "    .dataframe tbody tr th {\n",
       "        vertical-align: top;\n",
       "    }\n",
       "\n",
       "    .dataframe thead th {\n",
       "        text-align: right;\n",
       "    }\n",
       "</style>\n",
       "<table border=\"1\" class=\"dataframe\">\n",
       "  <thead>\n",
       "    <tr style=\"text-align: right;\">\n",
       "      <th></th>\n",
       "      <th>2020-03-10</th>\n",
       "      <th>2020-03-11</th>\n",
       "      <th>2020-03-12</th>\n",
       "      <th>2020-03-13</th>\n",
       "      <th>2020-03-14</th>\n",
       "      <th>2020-03-15</th>\n",
       "      <th>2020-03-16</th>\n",
       "      <th>2020-03-17</th>\n",
       "      <th>2020-03-18</th>\n",
       "      <th>2020-03-19</th>\n",
       "      <th>...</th>\n",
       "      <th>2020-11-01</th>\n",
       "      <th>2020-11-02</th>\n",
       "      <th>2020-11-03</th>\n",
       "      <th>2020-11-04</th>\n",
       "      <th>2020-11-05</th>\n",
       "      <th>2020-11-06</th>\n",
       "      <th>2020-11-07</th>\n",
       "      <th>2020-11-08</th>\n",
       "      <th>2020-11-09</th>\n",
       "      <th>2020-11-10</th>\n",
       "    </tr>\n",
       "  </thead>\n",
       "  <tbody>\n",
       "    <tr>\n",
       "      <th>1336</th>\n",
       "      <td>1.0</td>\n",
       "      <td>0.0</td>\n",
       "      <td>0.0</td>\n",
       "      <td>5.0</td>\n",
       "      <td>2.0</td>\n",
       "      <td>5.0</td>\n",
       "      <td>1.0</td>\n",
       "      <td>3.0</td>\n",
       "      <td>6.0</td>\n",
       "      <td>96.0</td>\n",
       "      <td>...</td>\n",
       "      <td>0.0</td>\n",
       "      <td>765.0</td>\n",
       "      <td>412.0</td>\n",
       "      <td>507.0</td>\n",
       "      <td>565.0</td>\n",
       "      <td>467.0</td>\n",
       "      <td>0.0</td>\n",
       "      <td>0.0</td>\n",
       "      <td>1625.0</td>\n",
       "      <td>850.0</td>\n",
       "    </tr>\n",
       "    <tr>\n",
       "      <th>1317</th>\n",
       "      <td>1.0</td>\n",
       "      <td>0.0</td>\n",
       "      <td>2.0</td>\n",
       "      <td>3.0</td>\n",
       "      <td>3.0</td>\n",
       "      <td>5.0</td>\n",
       "      <td>0.0</td>\n",
       "      <td>2.0</td>\n",
       "      <td>7.0</td>\n",
       "      <td>82.0</td>\n",
       "      <td>...</td>\n",
       "      <td>0.0</td>\n",
       "      <td>897.0</td>\n",
       "      <td>363.0</td>\n",
       "      <td>360.0</td>\n",
       "      <td>632.0</td>\n",
       "      <td>323.0</td>\n",
       "      <td>0.0</td>\n",
       "      <td>0.0</td>\n",
       "      <td>1705.0</td>\n",
       "      <td>704.0</td>\n",
       "    </tr>\n",
       "    <tr>\n",
       "      <th>1304</th>\n",
       "      <td>0.0</td>\n",
       "      <td>0.0</td>\n",
       "      <td>0.0</td>\n",
       "      <td>1.0</td>\n",
       "      <td>1.0</td>\n",
       "      <td>3.0</td>\n",
       "      <td>1.0</td>\n",
       "      <td>2.0</td>\n",
       "      <td>2.0</td>\n",
       "      <td>45.0</td>\n",
       "      <td>...</td>\n",
       "      <td>0.0</td>\n",
       "      <td>650.0</td>\n",
       "      <td>257.0</td>\n",
       "      <td>395.0</td>\n",
       "      <td>681.0</td>\n",
       "      <td>372.0</td>\n",
       "      <td>0.0</td>\n",
       "      <td>0.0</td>\n",
       "      <td>1413.0</td>\n",
       "      <td>788.0</td>\n",
       "    </tr>\n",
       "    <tr>\n",
       "      <th>1295</th>\n",
       "      <td>0.0</td>\n",
       "      <td>0.0</td>\n",
       "      <td>3.0</td>\n",
       "      <td>0.0</td>\n",
       "      <td>0.0</td>\n",
       "      <td>2.0</td>\n",
       "      <td>0.0</td>\n",
       "      <td>0.0</td>\n",
       "      <td>0.0</td>\n",
       "      <td>2.0</td>\n",
       "      <td>...</td>\n",
       "      <td>0.0</td>\n",
       "      <td>725.0</td>\n",
       "      <td>361.0</td>\n",
       "      <td>483.0</td>\n",
       "      <td>633.0</td>\n",
       "      <td>388.0</td>\n",
       "      <td>0.0</td>\n",
       "      <td>0.0</td>\n",
       "      <td>1432.0</td>\n",
       "      <td>912.0</td>\n",
       "    </tr>\n",
       "    <tr>\n",
       "      <th>1279</th>\n",
       "      <td>0.0</td>\n",
       "      <td>0.0</td>\n",
       "      <td>0.0</td>\n",
       "      <td>0.0</td>\n",
       "      <td>0.0</td>\n",
       "      <td>0.0</td>\n",
       "      <td>0.0</td>\n",
       "      <td>0.0</td>\n",
       "      <td>0.0</td>\n",
       "      <td>0.0</td>\n",
       "      <td>...</td>\n",
       "      <td>0.0</td>\n",
       "      <td>238.0</td>\n",
       "      <td>122.0</td>\n",
       "      <td>196.0</td>\n",
       "      <td>195.0</td>\n",
       "      <td>135.0</td>\n",
       "      <td>0.0</td>\n",
       "      <td>0.0</td>\n",
       "      <td>593.0</td>\n",
       "      <td>167.0</td>\n",
       "    </tr>\n",
       "  </tbody>\n",
       "</table>\n",
       "<p>5 rows × 246 columns</p>\n",
       "</div>"
      ],
      "text/plain": [
       "      2020-03-10  2020-03-11  2020-03-12  2020-03-13  2020-03-14  2020-03-15  \\\n",
       "1336         1.0         0.0         0.0         5.0         2.0         5.0   \n",
       "1317         1.0         0.0         2.0         3.0         3.0         5.0   \n",
       "1304         0.0         0.0         0.0         1.0         1.0         3.0   \n",
       "1295         0.0         0.0         3.0         0.0         0.0         2.0   \n",
       "1279         0.0         0.0         0.0         0.0         0.0         0.0   \n",
       "\n",
       "      2020-03-16  2020-03-17  2020-03-18  2020-03-19  ...  2020-11-01  \\\n",
       "1336         1.0         3.0         6.0        96.0  ...         0.0   \n",
       "1317         0.0         2.0         7.0        82.0  ...         0.0   \n",
       "1304         1.0         2.0         2.0        45.0  ...         0.0   \n",
       "1295         0.0         0.0         0.0         2.0  ...         0.0   \n",
       "1279         0.0         0.0         0.0         0.0  ...         0.0   \n",
       "\n",
       "      2020-11-02  2020-11-03  2020-11-04  2020-11-05  2020-11-06  2020-11-07  \\\n",
       "1336       765.0       412.0       507.0       565.0       467.0         0.0   \n",
       "1317       897.0       363.0       360.0       632.0       323.0         0.0   \n",
       "1304       650.0       257.0       395.0       681.0       372.0         0.0   \n",
       "1295       725.0       361.0       483.0       633.0       388.0         0.0   \n",
       "1279       238.0       122.0       196.0       195.0       135.0         0.0   \n",
       "\n",
       "      2020-11-08  2020-11-09  2020-11-10  \n",
       "1336         0.0      1625.0       850.0  \n",
       "1317         0.0      1705.0       704.0  \n",
       "1304         0.0      1413.0       788.0  \n",
       "1295         0.0      1432.0       912.0  \n",
       "1279         0.0       593.0       167.0  \n",
       "\n",
       "[5 rows x 246 columns]"
      ]
     },
     "execution_count": 70,
     "metadata": {},
     "output_type": "execute_result"
    }
   ],
   "source": [
    "# convert date to int to facilitate fitting the model \n",
    "X_counties = [i for i in range(MI_counties_new_cases.columns.size)]\n",
    "top5_counties = MI_counties_new_cases.loc[[1336, 1317, 1304,1295,1279]] \n",
    "top5_counties"
   ]
  },
  {
   "cell_type": "code",
   "execution_count": 71,
   "metadata": {},
   "outputs": [],
   "source": [
    "for i in range (top5_counties.index.size):\n",
    "    Y = top5_counties.iloc[i].values.tolist()\n",
    "    X_train= np.array(X)\n",
    "    Y_train= np.array(Y)\n",
    "    X_train = X_train[:, np.newaxis]\n",
    "    Y_train= Y_train[:, np.newaxis]\n",
    "\n",
    "    model = LinearRegression()\n",
    "    model.fit(X_train,Y_train)\n",
    "\n",
    "    y_hat= model.predict(X_train)\n",
    "    y_hat1= model.predict(K_test)\n",
    "    \n",
    "    #plt.figure()\n",
    "    #plt.plot(X_train.squeeze(), Y_train, 'o')\n",
    "    #plt.plot(X_train.squeeze(), y_hat);\n",
    "    #plt.plot(K_test.squeeze(), y_hat1)"
   ]
  },
  {
   "cell_type": "markdown",
   "metadata": {},
   "source": [
    "#### For the 5 top counties, a polynimal model fits the data better. "
   ]
  },
  {
   "cell_type": "code",
   "execution_count": 72,
   "metadata": {},
   "outputs": [
    {
     "data": {
      "image/png": "[encoded data removed]",
      "text/plain": [
       "<Figure size 432x288 with 1 Axes>"
      ]
     },
     "metadata": {
      "needs_background": "light"
     },
     "output_type": "display_data"
    },
    {
     "data": {
      "image/png": "[encoded data removed]",
      "text/plain": [
       "<Figure size 432x288 with 1 Axes>"
      ]
     },
     "metadata": {
      "needs_background": "light"
     },
     "output_type": "display_data"
    },
    {
     "data": {
      "image/png": "[encoded data removed]",
      "text/plain": [
       "<Figure size 432x288 with 1 Axes>"
      ]
     },
     "metadata": {
      "needs_background": "light"
     },
     "output_type": "display_data"
    },
    {
     "data": {
      "image/png": "[encoded data removed]",
      "text/plain": [
       "<Figure size 432x288 with 1 Axes>"
      ]
     },
     "metadata": {
      "needs_background": "light"
     },
     "output_type": "display_data"
    },
    {
     "data": {
      "image/png": "[encoded data removed]",
      "text/plain": [
       "<Figure size 432x288 with 1 Axes>"
      ]
     },
     "metadata": {
      "needs_background": "light"
     },
     "output_type": "display_data"
    }
   ],
   "source": [
    "for i in range (top5_counties.index.size):\n",
    "    Y = top5_counties.iloc[i].values.tolist()\n",
    "    X_train= np.array(X)\n",
    "    Y_train= np.array(Y)\n",
    "    X_train = X_train[:, np.newaxis]\n",
    "    Y_train= Y_train[:, np.newaxis]\n",
    "    \n",
    "    poly = PolynomialFeatures(degree = 5) \n",
    "    X_poly = poly.fit_transform(X_train) \n",
    "    poly.fit(X_poly, Y_train) \n",
    "    lin2 = LinearRegression() \n",
    "    lin2.fit(X_poly, Y_train) \n",
    "    y_hat = lin2.predict(poly.fit_transform(X_train))\n",
    "    y_hat2 = lin2.predict(poly.fit_transform(K_test))\n",
    "    \n",
    "    Y_cases = top5_counties.iloc[i].values.tolist()\n",
    "    Y = np.array(Y_cases)\n",
    "    z = np.polyfit(X, Y, 1)\n",
    "    p = np.poly1d(z)\n",
    "    \n",
    "    plt.figure()\n",
    "    plt.plot(X_train.squeeze(), Y_train, 'o')\n",
    "    plt.plot(X_train.squeeze(), y_hat);\n",
    "    plt.plot(K_test.squeeze(), y_hat2)\n",
    "    plt.plot(X,p(X),\"r-\")"
   ]
  },
  {
   "cell_type": "markdown",
   "metadata": {},
   "source": [
    "### On all the graphs we can see the trend line in red along with the prediction path in orange. the green part of the curve represents the prediction for the next seven days. "
   ]
  },
  {
   "cell_type": "markdown",
   "metadata": {},
   "source": [
    "### Point of No Return "
   ]
  },
  {
   "cell_type": "code",
   "execution_count": 73,
   "metadata": {},
   "outputs": [
    {
     "data": {
      "text/plain": [
       "State\n",
       "MI    2602.0\n",
       "Name: NUM_ICU_BEDS, dtype: float64"
      ]
     },
     "execution_count": 73,
     "metadata": {},
     "output_type": "execute_result"
    }
   ],
   "source": [
    "#get the ICU beds column \n",
    "MI_counties_hos =hospital.loc[hospital['State'] == 'MI']\n",
    "MI_state_hos = MI_counties_hos.groupby(['State']).sum()\n",
    "total_ICU_bed = MI_state_hos['NUM_ICU_BEDS']\n",
    "total_ICU_bed"
   ]
  },
  {
   "cell_type": "markdown",
   "metadata": {},
   "source": [
    "#### Through the non-linear model, the trend in daily new death was small with a relative number of about maximum 5 deaths per day. This value not close to the total number of  ICU bed in Michigan State which indicates that the state is doing well and there is no \"point of no return\". "
   ]
  },
  {
   "cell_type": "markdown",
   "metadata": {},
   "source": [
    "### Decision Tree "
   ]
  },
  {
   "cell_type": "code",
   "execution_count": 74,
   "metadata": {},
   "outputs": [],
   "source": [
    "from sklearn import tree\n",
    "from sklearn.tree import DecisionTreeRegressor\n",
    "from sklearn.ensemble import RandomForestRegressor\n"
   ]
  },
  {
   "cell_type": "code",
   "execution_count": 75,
   "metadata": {},
   "outputs": [],
   "source": [
    "Xcases_trainD = np.array(X)\n",
    "Ycases_trainD = np.array(Y_cases)\n",
    "K_test = np.array(K)\n",
    "Xcases_trainD = Xcases_trainD[:, np.newaxis]\n",
    "Ycases_trainD = Ycases_trainD[:, np.newaxis]\n",
    "K_test = K_test[:, np.newaxis]"
   ]
  },
  {
   "cell_type": "code",
   "execution_count": 76,
   "metadata": {},
   "outputs": [
    {
     "name": "stdout",
     "output_type": "stream",
     "text": [
      "The RMSE:  0.0\n",
      "R^2: 1.0\n"
     ]
    }
   ],
   "source": [
    "clf = DecisionTreeRegressor()\n",
    "clf = clf.fit(X_train, Y_train)\n",
    "\n",
    "yhat_test = clf.predict(X_train)\n",
    "yhat_test1 = clf.predict(K_test)\n",
    "\n",
    "print(\"The RMSE: \",np.sqrt(metrics.mean_squared_error(Y_train, yhat_test)))\n",
    "score = r2_score(Y_train, yhat_test)\n",
    "print(\"R^2:\",score)"
   ]
  },
  {
   "cell_type": "code",
   "execution_count": 78,
   "metadata": {},
   "outputs": [
    {
     "data": {
      "text/plain": [
       "Text(0.5, 1.0, 'Decision Tree MI-cases')"
      ]
     },
     "execution_count": 78,
     "metadata": {},
     "output_type": "execute_result"
    },
    {
     "data": {
      "image/png": "[encoded data removed]",
      "text/plain": [
       "<Figure size 432x288 with 1 Axes>"
      ]
     },
     "metadata": {
      "needs_background": "light"
     },
     "output_type": "display_data"
    }
   ],
   "source": [
    "plt.figure()\n",
    "plt.plot(X_train.squeeze(), Y_train, 'o')\n",
    "plt.plot(X_train.squeeze(), yhat_test);\n",
    "\n",
    "Y_cases = normalized_daily_new_cases_MI.iloc[0].values.tolist()\n",
    "X = np.array(X)\n",
    "Y = np.array(Y_cases)\n",
    "z = np.polyfit(X, Y, 1)\n",
    "p = np.poly1d(z)\n",
    "\n",
    "plt.plot(X,p(X),\"r-\")\n",
    "plt.xlabel('Number of days')\n",
    "plt.ylabel('New cases MI')\n",
    "plt.title('Decision Tree MI-cases')"
   ]
  },
  {
   "cell_type": "markdown",
   "metadata": {},
   "source": [
    "### Decision Tree for deaths "
   ]
  },
  {
   "cell_type": "code",
   "execution_count": 79,
   "metadata": {},
   "outputs": [
    {
     "name": "stdout",
     "output_type": "stream",
     "text": [
      "The RMSE:  0.0\n",
      "R^2: 1.0\n"
     ]
    }
   ],
   "source": [
    "Y_deaths = normalized_daily_new_deaths_MI.iloc[0].values.tolist()\n",
    "X_deaths_train = np.array(X)\n",
    "Y_deaths_train = np.array(Y_deaths)\n",
    "Kdeaths_test = np.array(K)\n",
    "\n",
    "X_deaths_train = X_deaths_train[:, np.newaxis]\n",
    "Y_deaths_train = Y_deaths_train[:, np.newaxis]\n",
    "Kdeaths_test = Kdeaths_test[:, np.newaxis]\n",
    "\n",
    "clf = DecisionTreeRegressor()\n",
    "clf = clf.fit(X_deaths_train, Y_deaths_train)\n",
    "\n",
    "yhat_test = clf.predict(X_deaths_train)\n",
    "yhat_test1 = clf.predict(K_test)\n",
    "\n",
    "print(\"The RMSE: \",np.sqrt(metrics.mean_squared_error(Y_deaths_train, yhat_test)))\n",
    "score = r2_score(Y_deaths_train, yhat_test)\n",
    "print(\"R^2:\",score)\n"
   ]
  },
  {
   "cell_type": "code",
   "execution_count": 80,
   "metadata": {},
   "outputs": [
    {
     "data": {
      "text/plain": [
       "Text(0.5, 1.0, 'Decision Tree MI-deaths')"
      ]
     },
     "execution_count": 80,
     "metadata": {},
     "output_type": "execute_result"
    },
    {
     "data": {
      "image/png": "[encoded data removed]",
      "text/plain": [
       "<Figure size 432x288 with 1 Axes>"
      ]
     },
     "metadata": {
      "needs_background": "light"
     },
     "output_type": "display_data"
    }
   ],
   "source": [
    "plt.figure()\n",
    "plt.plot(X_train.squeeze(), Y_train, 'o')\n",
    "plt.plot(X_train.squeeze(), yhat_test);\n",
    "\n",
    "Y_cases = normalized_daily_new_deaths_MI.iloc[0].values.tolist()\n",
    "X = np.array(X)\n",
    "Y = np.array(Y_deaths)\n",
    "z = np.polyfit(X, Y, 1)\n",
    "p = np.poly1d(z)\n",
    "\n",
    "plt.plot(X,p(X),\"r-\")\n",
    "\n",
    "plt.xlabel('Number of days')\n",
    "plt.ylabel('New deaths MI')\n",
    "plt.title('Decision Tree MI-deaths')"
   ]
  },
  {
   "cell_type": "markdown",
   "metadata": {},
   "source": [
    "#### The R^2 for both the number of cases and the number of deaths is 1 which indicates that the model performes well and the RMSE is small compare to the linear and polynomial model. From this analysis we can conclude that Decision Tree fits best our data. "
   ]
  },
  {
   "cell_type": "markdown",
   "metadata": {},
   "source": [
    "### Random Forest "
   ]
  },
  {
   "cell_type": "code",
   "execution_count": 81,
   "metadata": {},
   "outputs": [
    {
     "name": "stderr",
     "output_type": "stream",
     "text": [
      "<ipython-input-81-9ad58de9c9eb>:7: DataConversionWarning: A column-vector y was passed when a 1d array was expected. Please change the shape of y to (n_samples,), for example using ravel().\n",
      "  model1.fit(X_train, Y_train)\n"
     ]
    },
    {
     "name": "stdout",
     "output_type": "stream",
     "text": [
      "The RMSE: 29.05130837488534\n",
      "R^2:  0.9011569754629839\n"
     ]
    }
   ],
   "source": [
    "X_train= np.array(X)\n",
    "Y_train= np.array(Y_cases)\n",
    "X_train = X_train[:, np.newaxis]\n",
    "Y_train= Y_train[:, np.newaxis]\n",
    "\n",
    "model1 = RandomForestRegressor()\n",
    "model1.fit(X_train, Y_train)\n",
    "\n",
    "yhat_RF = model1.predict(X_train)\n",
    "yhat_RF1 = model1.predict(K_test)\n",
    "\n",
    "print(\"The RMSE:\",np.sqrt(metrics.mean_squared_error(Y_train, yhat_RF)))\n",
    "score1 = r2_score(Y_train, yhat_RF)\n",
    "print(\"R^2: \", score1)"
   ]
  },
  {
   "cell_type": "code",
   "execution_count": 82,
   "metadata": {},
   "outputs": [
    {
     "data": {
      "text/plain": [
       "Text(0.5, 1.0, 'Random Forest MI-cases')"
      ]
     },
     "execution_count": 82,
     "metadata": {},
     "output_type": "execute_result"
    },
    {
     "data": {
      "image/png": "[encoded data removed]",
      "text/plain": [
       "<Figure size 432x288 with 1 Axes>"
      ]
     },
     "metadata": {
      "needs_background": "light"
     },
     "output_type": "display_data"
    }
   ],
   "source": [
    "plt.figure()\n",
    "plt.plot(X_train.squeeze(), Y_train, 'o')\n",
    "plt.plot(X_train.squeeze(), yhat_RF);\n",
    "\n",
    "Y_cases = normalized_daily_new_cases_MI.iloc[0].values.tolist()\n",
    "X = np.array(X)\n",
    "Y = np.array(Y_cases)\n",
    "z = np.polyfit(X, Y, 1)\n",
    "p = np.poly1d(z)\n",
    "\n",
    "plt.plot(X,p(X),\"r-\")\n",
    "\n",
    "plt.xlabel('Number of days')\n",
    "plt.ylabel('New cases MI')\n",
    "plt.title('Random Forest MI-cases')"
   ]
  },
  {
   "cell_type": "markdown",
   "metadata": {},
   "source": [
    "#### Random forest for the number of deaths "
   ]
  },
  {
   "cell_type": "code",
   "execution_count": 83,
   "metadata": {},
   "outputs": [
    {
     "name": "stderr",
     "output_type": "stream",
     "text": [
      "<ipython-input-83-390d6dfec52c>:12: DataConversionWarning: A column-vector y was passed when a 1d array was expected. Please change the shape of y to (n_samples,), for example using ravel().\n",
      "  model1.fit(X_deaths_train, Y_deaths_train)\n"
     ]
    },
    {
     "name": "stdout",
     "output_type": "stream",
     "text": [
      "The RMSE: 28.871149495140155\n",
      "R^2:  0.9023791051348686\n"
     ]
    }
   ],
   "source": [
    "Y_deaths = normalized_daily_new_deaths_MI.iloc[0].values.tolist()\n",
    "X_deaths_train = np.array(X)\n",
    "Y_deaths_train = np.array(Y_deaths)\n",
    "Kdeaths_test = np.array(K)\n",
    "\n",
    "X_deaths_train = X_deaths_train[:, np.newaxis]\n",
    "Y_deaths_train = Y_deaths_train[:, np.newaxis]\n",
    "Kdeaths_test = Kdeaths_test[:, np.newaxis]\n",
    "\n",
    "\n",
    "model1 = RandomForestRegressor()\n",
    "model1.fit(X_deaths_train, Y_deaths_train)\n",
    "\n",
    "yhat_RF = model1.predict(X_deaths_train)\n",
    "yhat_RF1 = model1.predict(Kdeaths_test)\n",
    "\n",
    "print(\"The RMSE:\",np.sqrt(metrics.mean_squared_error(Y_deaths_train, yhat_RF)))\n",
    "score1 = r2_score(Y_deaths_train, yhat_RF)\n",
    "print(\"R^2: \", score1)"
   ]
  },
  {
   "cell_type": "code",
   "execution_count": 84,
   "metadata": {},
   "outputs": [
    {
     "data": {
      "text/plain": [
       "Text(0.5, 1.0, 'Random Forest MI-deaths')"
      ]
     },
     "execution_count": 84,
     "metadata": {},
     "output_type": "execute_result"
    },
    {
     "data": {
      "image/png": "[encoded data removed]",
      "text/plain": [
       "<Figure size 432x288 with 1 Axes>"
      ]
     },
     "metadata": {
      "needs_background": "light"
     },
     "output_type": "display_data"
    }
   ],
   "source": [
    "plt.figure()\n",
    "plt.plot(X_train.squeeze(), Y_train, 'o')\n",
    "plt.plot(X_train.squeeze(), yhat_RF);\n",
    "\n",
    "Y_cases = normalized_daily_new_deaths_MI.iloc[0].values.tolist()\n",
    "X = np.array(X)\n",
    "Y = np.array(Y_deaths)\n",
    "z = np.polyfit(X, Y, 1)\n",
    "p = np.poly1d(z)\n",
    "plt.plot(X,p(X),\"r-\")\n",
    "\n",
    "plt.xlabel('Number of days')\n",
    "plt.ylabel('New deaths MI')\n",
    "plt.title('Random Forest MI-deaths')"
   ]
  },
  {
   "cell_type": "markdown",
   "metadata": {},
   "source": [
    "### Arima"
   ]
  },
  {
   "cell_type": "code",
   "execution_count": 85,
   "metadata": {},
   "outputs": [
    {
     "data": {
      "text/plain": [
       "[<matplotlib.lines.Line2D at 0x1396373a0>]"
      ]
     },
     "execution_count": 85,
     "metadata": {},
     "output_type": "execute_result"
    },
    {
     "data": {
      "image/png": "[encoded data removed]",
      "text/plain": [
       "<Figure size 432x288 with 1 Axes>"
      ]
     },
     "metadata": {
      "needs_background": "light"
     },
     "output_type": "display_data"
    }
   ],
   "source": [
    "plt.plot(X_cases, Y_cases)"
   ]
  },
  {
   "cell_type": "markdown",
   "metadata": {},
   "source": [
    "##### Our data seems stationary because the number of daily new cases and deaths that are being used . Moreover, from the graph above we can see that there is no trend: it is neither increasing or decreasing over time. Therefore ARIMA model can be applied to the data."
   ]
  },
  {
   "cell_type": "code",
   "execution_count": 86,
   "metadata": {
    "scrolled": true
   },
   "outputs": [
    {
     "name": "stderr",
     "output_type": "stream",
     "text": [
      "/opt/anaconda3/envs/opencv/lib/python3.8/site-packages/statsmodels/tsa/arima_model.py:472: FutureWarning: \n",
      "statsmodels.tsa.arima_model.ARMA and statsmodels.tsa.arima_model.ARIMA have\n",
      "been deprecated in favor of statsmodels.tsa.arima.model.ARIMA (note the .\n",
      "between arima and model) and\n",
      "statsmodels.tsa.SARIMAX. These will be removed after the 0.12 release.\n",
      "\n",
      "statsmodels.tsa.arima.model.ARIMA makes use of the statespace framework and\n",
      "is both well tested and maintained.\n",
      "\n",
      "To silence this warning and continue using ARMA and ARIMA until they are\n",
      "removed, use:\n",
      "\n",
      "import warnings\n",
      "warnings.filterwarnings('ignore', 'statsmodels.tsa.arima_model.ARMA',\n",
      "                        FutureWarning)\n",
      "warnings.filterwarnings('ignore', 'statsmodels.tsa.arima_model.ARIMA',\n",
      "                        FutureWarning)\n",
      "\n",
      "  warnings.warn(ARIMA_DEPRECATION_WARN, FutureWarning)\n"
     ]
    },
    {
     "name": "stdout",
     "output_type": "stream",
     "text": [
      "The predicted values for cases: [78.41279813 85.24996462 77.87771738 82.02342278 81.91850022 82.72722945\n",
      " 82.92405692 83.35414957 83.72779136 84.13429755 84.52799717 84.92509377\n",
      " 85.32040917 85.71642834 86.11224684 86.50816259 86.90403962 87.29992834\n",
      " 87.69581172 88.09169724 88.48758208 88.88346721 89.27935223 89.67523728\n",
      " 90.07112232 90.46700737 90.86289241 91.25877746 91.6546625  92.05054754\n",
      " 92.44643259 92.84231763 93.23820268 93.63408772 94.02997277 94.42585781\n",
      " 94.82174285 95.2176279  95.61351294 96.00939799 96.40528303 96.80116808\n",
      " 97.19705312 97.59293816 97.98882321 98.38470825 98.7805933  99.17647834\n",
      " 99.57236339 99.96824843]\n"
     ]
    },
    {
     "name": "stderr",
     "output_type": "stream",
     "text": [
      "/opt/anaconda3/envs/opencv/lib/python3.8/site-packages/statsmodels/tsa/arima_model.py:472: FutureWarning: \n",
      "statsmodels.tsa.arima_model.ARMA and statsmodels.tsa.arima_model.ARIMA have\n",
      "been deprecated in favor of statsmodels.tsa.arima.model.ARIMA (note the .\n",
      "between arima and model) and\n",
      "statsmodels.tsa.SARIMAX. These will be removed after the 0.12 release.\n",
      "\n",
      "statsmodels.tsa.arima.model.ARIMA makes use of the statespace framework and\n",
      "is both well tested and maintained.\n",
      "\n",
      "To silence this warning and continue using ARMA and ARIMA until they are\n",
      "removed, use:\n",
      "\n",
      "import warnings\n",
      "warnings.filterwarnings('ignore', 'statsmodels.tsa.arima_model.ARMA',\n",
      "                        FutureWarning)\n",
      "warnings.filterwarnings('ignore', 'statsmodels.tsa.arima_model.ARIMA',\n",
      "                        FutureWarning)\n",
      "\n",
      "  warnings.warn(ARIMA_DEPRECATION_WARN, FutureWarning)\n"
     ]
    }
   ],
   "source": [
    "from statsmodels.tsa.arima_model import ARIMA \n",
    "Xcases_trainD = np.array(X)\n",
    "Xcases_trainD = Xcases_trainD[:, np.newaxis]\n",
    "Ycases_trainD = np.array(Y_cases)\n",
    "Y_cases = pd.DataFrame(normalized_daily_new_cases_MI.iloc[0]) \n",
    "Ycases_trainD = np.array(Y_cases)\n",
    "\n",
    "xtraining, xtest = Xcases_trainD[:196,:], Xcases_trainD[196:,:]\n",
    "ytraining, ytest = Ycases_trainD[:196,:], Ycases_trainD[196:,:]\n",
    "\n",
    "arima_model= ARIMA(ytraining, order=(3,1,1))\n",
    "ari= arima_model.fit()\n",
    "prediction= ari.forecast(steps=50)[0]\n",
    "print(\"The predicted values for cases:\", prediction)"
   ]
  },
  {
   "cell_type": "code",
   "execution_count": 88,
   "metadata": {},
   "outputs": [
    {
     "data": {
      "text/plain": [
       "Text(0.5, 1.0, 'ARIMA MI-cases')"
      ]
     },
     "execution_count": 88,
     "metadata": {},
     "output_type": "execute_result"
    },
    {
     "data": {
      "image/png": "[encoded data removed]",
      "text/plain": [
       "<Figure size 432x288 with 1 Axes>"
      ]
     },
     "metadata": {
      "needs_background": "light"
     },
     "output_type": "display_data"
    }
   ],
   "source": [
    "pred= [i for i in range(196,246)]\n",
    "plt.plot(xtest, ytest)\n",
    "plt.plot(pred, prediction, \"red\")\n",
    "\n",
    "plt.xlabel('Number of days')\n",
    "plt.ylabel('New cases MI')\n",
    "plt.title('ARIMA MI-cases')"
   ]
  },
  {
   "cell_type": "code",
   "execution_count": 89,
   "metadata": {},
   "outputs": [
    {
     "name": "stdout",
     "output_type": "stream",
     "text": [
      "The RMSE: 280.3618737750299\n",
      "The R^2: -0.273849141616582\n"
     ]
    }
   ],
   "source": [
    "print(\"The RMSE:\", np.sqrt(metrics.mean_squared_error(ytest, prediction)))\n",
    "score = r2_score(ytest, prediction)\n",
    "print(\"The R^2:\", score)"
   ]
  },
  {
   "cell_type": "markdown",
   "metadata": {},
   "source": [
    "#### ARIMA for number of deaths "
   ]
  },
  {
   "cell_type": "code",
   "execution_count": 90,
   "metadata": {},
   "outputs": [
    {
     "name": "stdout",
     "output_type": "stream",
     "text": [
      "The predicted values for deaths: [17.23046203 17.3080283  17.38559458 17.46316085 17.54072712 17.61829339\n",
      " 17.69585966 17.77342594 17.85099221 17.92855848 18.00612475 18.08369102\n",
      " 18.1612573  18.23882357 18.31638984 18.39395611 18.47152238 18.54908866\n",
      " 18.62665493 18.7042212  18.78178747 18.85935374 18.93692002 19.01448629\n",
      " 19.09205256 19.16961883 19.2471851  19.32475138 19.40231765 19.47988392\n",
      " 19.55745019 19.63501646 19.71258274 19.79014901 19.86771528 19.94528155\n",
      " 20.02284782 20.1004141  20.17798037 20.25554664 20.33311291 20.41067918\n",
      " 20.48824546 20.56581173 20.643378   20.72094427 20.79851054 20.87607682\n",
      " 20.95364309 21.03120936]\n"
     ]
    },
    {
     "name": "stderr",
     "output_type": "stream",
     "text": [
      "/opt/anaconda3/envs/opencv/lib/python3.8/site-packages/statsmodels/tsa/arima_model.py:472: FutureWarning: \n",
      "statsmodels.tsa.arima_model.ARMA and statsmodels.tsa.arima_model.ARIMA have\n",
      "been deprecated in favor of statsmodels.tsa.arima.model.ARIMA (note the .\n",
      "between arima and model) and\n",
      "statsmodels.tsa.SARIMAX. These will be removed after the 0.12 release.\n",
      "\n",
      "statsmodels.tsa.arima.model.ARIMA makes use of the statespace framework and\n",
      "is both well tested and maintained.\n",
      "\n",
      "To silence this warning and continue using ARMA and ARIMA until they are\n",
      "removed, use:\n",
      "\n",
      "import warnings\n",
      "warnings.filterwarnings('ignore', 'statsmodels.tsa.arima_model.ARMA',\n",
      "                        FutureWarning)\n",
      "warnings.filterwarnings('ignore', 'statsmodels.tsa.arima_model.ARIMA',\n",
      "                        FutureWarning)\n",
      "\n",
      "  warnings.warn(ARIMA_DEPRECATION_WARN, FutureWarning)\n"
     ]
    }
   ],
   "source": [
    "from statsmodels.tsa.arima_model import ARIMA \n",
    "Xcases_trainD = np.array(X)\n",
    "Xcases_trainD = Xcases_trainD[:, np.newaxis]\n",
    "Y_death = pd.DataFrame(normalized_daily_new_deaths_MI.iloc[0]) \n",
    "Ycases_trainD = np.array(Y_death)\n",
    "xtraining, xtest = Xcases_trainD[:196,:], Xcases_trainD[196:,:]\n",
    "ytraining, ytest = Ycases_trainD[:196,:], Ycases_trainD[196:,:]\n",
    "\n",
    "arima_model= ARIMA(ytraining, order=(0,1,1))\n",
    "ari= arima_model.fit()\n",
    "prediction= ari.forecast(steps=50)[0]\n",
    "print(\"The predicted values for deaths:\", prediction)"
   ]
  },
  {
   "cell_type": "code",
   "execution_count": 91,
   "metadata": {},
   "outputs": [
    {
     "data": {
      "text/plain": [
       "Text(0.5, 1.0, 'ARIMA MI-deaths')"
      ]
     },
     "execution_count": 91,
     "metadata": {},
     "output_type": "execute_result"
    },
    {
     "data": {
      "image/png": "[encoded data removed]",
      "text/plain": [
       "<Figure size 432x288 with 1 Axes>"
      ]
     },
     "metadata": {
      "needs_background": "light"
     },
     "output_type": "display_data"
    }
   ],
   "source": [
    "pred= [i for i in range(196,246)]\n",
    "plt.plot(xtest, ytest)\n",
    "plt.plot(pred, prediction, \"red\")\n",
    "\n",
    "plt.xlabel('Number of days')\n",
    "plt.ylabel('New deaths MI')\n",
    "plt.title('ARIMA MI-deaths')"
   ]
  },
  {
   "cell_type": "code",
   "execution_count": 92,
   "metadata": {},
   "outputs": [
    {
     "name": "stdout",
     "output_type": "stream",
     "text": [
      "The RMSE: 52.089473017361485\n",
      "The R^2: -0.2807772099643209\n"
     ]
    }
   ],
   "source": [
    "print(\"The RMSE:\", np.sqrt(metrics.mean_squared_error(ytest, prediction)))\n",
    "score = r2_score(ytest, prediction)\n",
    "print(\"The R^2:\", score)"
   ]
  },
  {
   "cell_type": "markdown",
   "metadata": {},
   "source": [
    "#### For the Arima model, the R score is negative for both the number of cases and the number of deaths which means the model is doing worse that the average number of cases. This observation can be reliable because ARIMA model focuses on the moving average of the data, so R^2 is not the metric that matters the most in these cases."
   ]
  },
  {
   "cell_type": "markdown",
   "metadata": {},
   "source": [
    "### Enrichment dataset "
   ]
  },
  {
   "cell_type": "markdown",
   "metadata": {},
   "source": [
    "#### From my enrichment dataset, there were 4 variables that were significant for my analysis so I am using all of the variables to study the spread of Covid in cases and deaths. To do so, I basically tried to observe the relationship between each variable and the total number of new cases/deaths  on the last day. If there is a relationship then it means that this variable contributes to the spread of the virus. "
   ]
  },
  {
   "cell_type": "code",
   "execution_count": 93,
   "metadata": {},
   "outputs": [
    {
     "data": {
      "text/html": [
       "<div>\n",
       "<style scoped>\n",
       "    .dataframe tbody tr th:only-of-type {\n",
       "        vertical-align: middle;\n",
       "    }\n",
       "\n",
       "    .dataframe tbody tr th {\n",
       "        vertical-align: top;\n",
       "    }\n",
       "\n",
       "    .dataframe thead th {\n",
       "        text-align: right;\n",
       "    }\n",
       "</style>\n",
       "<table border=\"1\" class=\"dataframe\">\n",
       "  <thead>\n",
       "    <tr style=\"text-align: right;\">\n",
       "      <th></th>\n",
       "      <th>Unnamed: 0</th>\n",
       "      <th>Unnamed: 0.1</th>\n",
       "      <th>countyFIPS</th>\n",
       "      <th>County Name</th>\n",
       "      <th>State</th>\n",
       "      <th>population</th>\n",
       "      <th>County Name_x</th>\n",
       "      <th>stateFIPS</th>\n",
       "      <th>1/22/20_x</th>\n",
       "      <th>1/23/20_x</th>\n",
       "      <th>...</th>\n",
       "      <th>9/9/20_y</th>\n",
       "      <th>9/10/20_y</th>\n",
       "      <th>9/11/20_y</th>\n",
       "      <th>9/12/20_y</th>\n",
       "      <th>9/13/20_y</th>\n",
       "      <th>9/14/20_y</th>\n",
       "      <th>Establishment Count</th>\n",
       "      <th>January Employment</th>\n",
       "      <th>February Employment</th>\n",
       "      <th>March Employment</th>\n",
       "    </tr>\n",
       "  </thead>\n",
       "  <tbody>\n",
       "    <tr>\n",
       "      <th>0</th>\n",
       "      <td>0</td>\n",
       "      <td>0</td>\n",
       "      <td>0</td>\n",
       "      <td>Statewide Unallocated</td>\n",
       "      <td>AL</td>\n",
       "      <td>0</td>\n",
       "      <td>Statewide Unallocated</td>\n",
       "      <td>1</td>\n",
       "      <td>0</td>\n",
       "      <td>0</td>\n",
       "      <td>...</td>\n",
       "      <td>0</td>\n",
       "      <td>0</td>\n",
       "      <td>0</td>\n",
       "      <td>0</td>\n",
       "      <td>0</td>\n",
       "      <td>0</td>\n",
       "      <td>NaN</td>\n",
       "      <td>NaN</td>\n",
       "      <td>NaN</td>\n",
       "      <td>NaN</td>\n",
       "    </tr>\n",
       "    <tr>\n",
       "      <th>1</th>\n",
       "      <td>1</td>\n",
       "      <td>1</td>\n",
       "      <td>1001</td>\n",
       "      <td>Autauga County</td>\n",
       "      <td>AL</td>\n",
       "      <td>55869</td>\n",
       "      <td>Autauga County</td>\n",
       "      <td>1</td>\n",
       "      <td>0</td>\n",
       "      <td>0</td>\n",
       "      <td>...</td>\n",
       "      <td>24</td>\n",
       "      <td>24</td>\n",
       "      <td>24</td>\n",
       "      <td>24</td>\n",
       "      <td>24</td>\n",
       "      <td>24</td>\n",
       "      <td>3518.0</td>\n",
       "      <td>39214.0</td>\n",
       "      <td>38998.0</td>\n",
       "      <td>39084.0</td>\n",
       "    </tr>\n",
       "    <tr>\n",
       "      <th>2</th>\n",
       "      <td>2</td>\n",
       "      <td>2</td>\n",
       "      <td>1003</td>\n",
       "      <td>Baldwin County</td>\n",
       "      <td>AL</td>\n",
       "      <td>223234</td>\n",
       "      <td>Baldwin County</td>\n",
       "      <td>1</td>\n",
       "      <td>0</td>\n",
       "      <td>0</td>\n",
       "      <td>...</td>\n",
       "      <td>46</td>\n",
       "      <td>46</td>\n",
       "      <td>47</td>\n",
       "      <td>47</td>\n",
       "      <td>47</td>\n",
       "      <td>47</td>\n",
       "      <td>26290.0</td>\n",
       "      <td>276106.0</td>\n",
       "      <td>281074.0</td>\n",
       "      <td>283714.0</td>\n",
       "    </tr>\n",
       "    <tr>\n",
       "      <th>3</th>\n",
       "      <td>3</td>\n",
       "      <td>3</td>\n",
       "      <td>1005</td>\n",
       "      <td>Barbour County</td>\n",
       "      <td>AL</td>\n",
       "      <td>24686</td>\n",
       "      <td>Barbour County</td>\n",
       "      <td>1</td>\n",
       "      <td>0</td>\n",
       "      <td>0</td>\n",
       "      <td>...</td>\n",
       "      <td>7</td>\n",
       "      <td>7</td>\n",
       "      <td>7</td>\n",
       "      <td>7</td>\n",
       "      <td>7</td>\n",
       "      <td>7</td>\n",
       "      <td>2156.0</td>\n",
       "      <td>30146.0</td>\n",
       "      <td>30272.0</td>\n",
       "      <td>30314.0</td>\n",
       "    </tr>\n",
       "    <tr>\n",
       "      <th>4</th>\n",
       "      <td>4</td>\n",
       "      <td>4</td>\n",
       "      <td>1007</td>\n",
       "      <td>Bibb County</td>\n",
       "      <td>AL</td>\n",
       "      <td>22394</td>\n",
       "      <td>Bibb County</td>\n",
       "      <td>1</td>\n",
       "      <td>0</td>\n",
       "      <td>0</td>\n",
       "      <td>...</td>\n",
       "      <td>9</td>\n",
       "      <td>9</td>\n",
       "      <td>9</td>\n",
       "      <td>9</td>\n",
       "      <td>9</td>\n",
       "      <td>9</td>\n",
       "      <td>1376.0</td>\n",
       "      <td>16552.0</td>\n",
       "      <td>16601.0</td>\n",
       "      <td>16763.0</td>\n",
       "    </tr>\n",
       "  </tbody>\n",
       "</table>\n",
       "<p>5 rows × 487 columns</p>\n",
       "</div>"
      ],
      "text/plain": [
       "   Unnamed: 0  Unnamed: 0.1  countyFIPS            County Name State  \\\n",
       "0           0             0           0  Statewide Unallocated    AL   \n",
       "1           1             1        1001         Autauga County    AL   \n",
       "2           2             2        1003         Baldwin County    AL   \n",
       "3           3             3        1005         Barbour County    AL   \n",
       "4           4             4        1007            Bibb County    AL   \n",
       "\n",
       "   population          County Name_x  stateFIPS  1/22/20_x  1/23/20_x  ...  \\\n",
       "0           0  Statewide Unallocated          1          0          0  ...   \n",
       "1       55869         Autauga County          1          0          0  ...   \n",
       "2      223234         Baldwin County          1          0          0  ...   \n",
       "3       24686         Barbour County          1          0          0  ...   \n",
       "4       22394            Bibb County          1          0          0  ...   \n",
       "\n",
       "   9/9/20_y  9/10/20_y  9/11/20_y  9/12/20_y  9/13/20_y  9/14/20_y  \\\n",
       "0         0          0          0          0          0          0   \n",
       "1        24         24         24         24         24         24   \n",
       "2        46         46         47         47         47         47   \n",
       "3         7          7          7          7          7          7   \n",
       "4         9          9          9          9          9          9   \n",
       "\n",
       "   Establishment Count  January Employment  February Employment  \\\n",
       "0                  NaN                 NaN                  NaN   \n",
       "1               3518.0             39214.0              38998.0   \n",
       "2              26290.0            276106.0             281074.0   \n",
       "3               2156.0             30146.0              30272.0   \n",
       "4               1376.0             16552.0              16601.0   \n",
       "\n",
       "   March Employment  \n",
       "0               NaN  \n",
       "1           39084.0  \n",
       "2          283714.0  \n",
       "3           30314.0  \n",
       "4           16763.0  \n",
       "\n",
       "[5 rows x 487 columns]"
      ]
     },
     "execution_count": 93,
     "metadata": {},
     "output_type": "execute_result"
    }
   ],
   "source": [
    "employment.head()"
   ]
  },
  {
   "cell_type": "code",
   "execution_count": 94,
   "metadata": {},
   "outputs": [
    {
     "data": {
      "text/html": [
       "<div>\n",
       "<style scoped>\n",
       "    .dataframe tbody tr th:only-of-type {\n",
       "        vertical-align: middle;\n",
       "    }\n",
       "\n",
       "    .dataframe tbody tr th {\n",
       "        vertical-align: top;\n",
       "    }\n",
       "\n",
       "    .dataframe thead th {\n",
       "        text-align: right;\n",
       "    }\n",
       "</style>\n",
       "<table border=\"1\" class=\"dataframe\">\n",
       "  <thead>\n",
       "    <tr style=\"text-align: right;\">\n",
       "      <th></th>\n",
       "      <th>3/6/20</th>\n",
       "      <th>3/7/20</th>\n",
       "      <th>3/8/20</th>\n",
       "      <th>3/9/20</th>\n",
       "      <th>3/10/20</th>\n",
       "      <th>3/11/20</th>\n",
       "      <th>3/12/20</th>\n",
       "      <th>3/13/20</th>\n",
       "      <th>3/14/20</th>\n",
       "      <th>3/15/20</th>\n",
       "      <th>...</th>\n",
       "      <th>9/5/20</th>\n",
       "      <th>9/6/20</th>\n",
       "      <th>9/7/20</th>\n",
       "      <th>9/8/20</th>\n",
       "      <th>9/9/20</th>\n",
       "      <th>9/10/20</th>\n",
       "      <th>9/11/20</th>\n",
       "      <th>9/12/20</th>\n",
       "      <th>9/13/20</th>\n",
       "      <th>9/14/20</th>\n",
       "    </tr>\n",
       "    <tr>\n",
       "      <th>State</th>\n",
       "      <th></th>\n",
       "      <th></th>\n",
       "      <th></th>\n",
       "      <th></th>\n",
       "      <th></th>\n",
       "      <th></th>\n",
       "      <th></th>\n",
       "      <th></th>\n",
       "      <th></th>\n",
       "      <th></th>\n",
       "      <th></th>\n",
       "      <th></th>\n",
       "      <th></th>\n",
       "      <th></th>\n",
       "      <th></th>\n",
       "      <th></th>\n",
       "      <th></th>\n",
       "      <th></th>\n",
       "      <th></th>\n",
       "      <th></th>\n",
       "      <th></th>\n",
       "    </tr>\n",
       "  </thead>\n",
       "  <tbody>\n",
       "    <tr>\n",
       "      <th>MD</th>\n",
       "      <td>0.0</td>\n",
       "      <td>0.0</td>\n",
       "      <td>0.0</td>\n",
       "      <td>0.0</td>\n",
       "      <td>0.0</td>\n",
       "      <td>0.0</td>\n",
       "      <td>0.0</td>\n",
       "      <td>0.0</td>\n",
       "      <td>0.0</td>\n",
       "      <td>0.0</td>\n",
       "      <td>...</td>\n",
       "      <td>11.0</td>\n",
       "      <td>6.0</td>\n",
       "      <td>3.0</td>\n",
       "      <td>4.0</td>\n",
       "      <td>3.0</td>\n",
       "      <td>10.0</td>\n",
       "      <td>5.0</td>\n",
       "      <td>8.0</td>\n",
       "      <td>5.0</td>\n",
       "      <td>1.0</td>\n",
       "    </tr>\n",
       "    <tr>\n",
       "      <th>ME</th>\n",
       "      <td>0.0</td>\n",
       "      <td>0.0</td>\n",
       "      <td>0.0</td>\n",
       "      <td>0.0</td>\n",
       "      <td>0.0</td>\n",
       "      <td>0.0</td>\n",
       "      <td>0.0</td>\n",
       "      <td>0.0</td>\n",
       "      <td>0.0</td>\n",
       "      <td>0.0</td>\n",
       "      <td>...</td>\n",
       "      <td>0.0</td>\n",
       "      <td>0.0</td>\n",
       "      <td>0.0</td>\n",
       "      <td>0.0</td>\n",
       "      <td>0.0</td>\n",
       "      <td>0.0</td>\n",
       "      <td>0.0</td>\n",
       "      <td>0.0</td>\n",
       "      <td>0.0</td>\n",
       "      <td>0.0</td>\n",
       "    </tr>\n",
       "    <tr>\n",
       "      <th>MI</th>\n",
       "      <td>0.0</td>\n",
       "      <td>0.0</td>\n",
       "      <td>0.0</td>\n",
       "      <td>0.0</td>\n",
       "      <td>0.0</td>\n",
       "      <td>0.0</td>\n",
       "      <td>0.0</td>\n",
       "      <td>0.0</td>\n",
       "      <td>0.0</td>\n",
       "      <td>0.0</td>\n",
       "      <td>...</td>\n",
       "      <td>6.0</td>\n",
       "      <td>0.0</td>\n",
       "      <td>5.0</td>\n",
       "      <td>3.0</td>\n",
       "      <td>61.0</td>\n",
       "      <td>22.0</td>\n",
       "      <td>7.0</td>\n",
       "      <td>11.0</td>\n",
       "      <td>0.0</td>\n",
       "      <td>10.0</td>\n",
       "    </tr>\n",
       "    <tr>\n",
       "      <th>MN</th>\n",
       "      <td>0.0</td>\n",
       "      <td>0.0</td>\n",
       "      <td>0.0</td>\n",
       "      <td>0.0</td>\n",
       "      <td>0.0</td>\n",
       "      <td>0.0</td>\n",
       "      <td>0.0</td>\n",
       "      <td>0.0</td>\n",
       "      <td>0.0</td>\n",
       "      <td>0.0</td>\n",
       "      <td>...</td>\n",
       "      <td>4.0</td>\n",
       "      <td>6.0</td>\n",
       "      <td>3.0</td>\n",
       "      <td>2.0</td>\n",
       "      <td>7.0</td>\n",
       "      <td>15.0</td>\n",
       "      <td>13.0</td>\n",
       "      <td>9.0</td>\n",
       "      <td>13.0</td>\n",
       "      <td>3.0</td>\n",
       "    </tr>\n",
       "    <tr>\n",
       "      <th>MO</th>\n",
       "      <td>0.0</td>\n",
       "      <td>0.0</td>\n",
       "      <td>0.0</td>\n",
       "      <td>0.0</td>\n",
       "      <td>0.0</td>\n",
       "      <td>0.0</td>\n",
       "      <td>0.0</td>\n",
       "      <td>0.0</td>\n",
       "      <td>0.0</td>\n",
       "      <td>0.0</td>\n",
       "      <td>...</td>\n",
       "      <td>77.0</td>\n",
       "      <td>20.0</td>\n",
       "      <td>1.0</td>\n",
       "      <td>2.0</td>\n",
       "      <td>11.0</td>\n",
       "      <td>19.0</td>\n",
       "      <td>10.0</td>\n",
       "      <td>3.0</td>\n",
       "      <td>1.0</td>\n",
       "      <td>9.0</td>\n",
       "    </tr>\n",
       "    <tr>\n",
       "      <th>MS</th>\n",
       "      <td>0.0</td>\n",
       "      <td>0.0</td>\n",
       "      <td>0.0</td>\n",
       "      <td>0.0</td>\n",
       "      <td>0.0</td>\n",
       "      <td>0.0</td>\n",
       "      <td>0.0</td>\n",
       "      <td>0.0</td>\n",
       "      <td>0.0</td>\n",
       "      <td>0.0</td>\n",
       "      <td>...</td>\n",
       "      <td>12.0</td>\n",
       "      <td>16.0</td>\n",
       "      <td>1.0</td>\n",
       "      <td>0.0</td>\n",
       "      <td>35.0</td>\n",
       "      <td>29.0</td>\n",
       "      <td>13.0</td>\n",
       "      <td>15.0</td>\n",
       "      <td>15.0</td>\n",
       "      <td>15.0</td>\n",
       "    </tr>\n",
       "    <tr>\n",
       "      <th>MT</th>\n",
       "      <td>0.0</td>\n",
       "      <td>0.0</td>\n",
       "      <td>0.0</td>\n",
       "      <td>0.0</td>\n",
       "      <td>0.0</td>\n",
       "      <td>0.0</td>\n",
       "      <td>0.0</td>\n",
       "      <td>0.0</td>\n",
       "      <td>0.0</td>\n",
       "      <td>0.0</td>\n",
       "      <td>...</td>\n",
       "      <td>2.0</td>\n",
       "      <td>1.0</td>\n",
       "      <td>1.0</td>\n",
       "      <td>1.0</td>\n",
       "      <td>3.0</td>\n",
       "      <td>1.0</td>\n",
       "      <td>8.0</td>\n",
       "      <td>2.0</td>\n",
       "      <td>2.0</td>\n",
       "      <td>3.0</td>\n",
       "    </tr>\n",
       "    <tr>\n",
       "      <th>NC</th>\n",
       "      <td>0.0</td>\n",
       "      <td>0.0</td>\n",
       "      <td>0.0</td>\n",
       "      <td>0.0</td>\n",
       "      <td>0.0</td>\n",
       "      <td>0.0</td>\n",
       "      <td>0.0</td>\n",
       "      <td>0.0</td>\n",
       "      <td>0.0</td>\n",
       "      <td>0.0</td>\n",
       "      <td>...</td>\n",
       "      <td>85.0</td>\n",
       "      <td>1.0</td>\n",
       "      <td>7.0</td>\n",
       "      <td>13.0</td>\n",
       "      <td>48.0</td>\n",
       "      <td>33.0</td>\n",
       "      <td>33.0</td>\n",
       "      <td>24.0</td>\n",
       "      <td>5.0</td>\n",
       "      <td>8.0</td>\n",
       "    </tr>\n",
       "    <tr>\n",
       "      <th>ND</th>\n",
       "      <td>0.0</td>\n",
       "      <td>0.0</td>\n",
       "      <td>0.0</td>\n",
       "      <td>0.0</td>\n",
       "      <td>0.0</td>\n",
       "      <td>0.0</td>\n",
       "      <td>0.0</td>\n",
       "      <td>0.0</td>\n",
       "      <td>0.0</td>\n",
       "      <td>0.0</td>\n",
       "      <td>...</td>\n",
       "      <td>5.0</td>\n",
       "      <td>1.0</td>\n",
       "      <td>0.0</td>\n",
       "      <td>0.0</td>\n",
       "      <td>1.0</td>\n",
       "      <td>3.0</td>\n",
       "      <td>4.0</td>\n",
       "      <td>3.0</td>\n",
       "      <td>1.0</td>\n",
       "      <td>2.0</td>\n",
       "    </tr>\n",
       "    <tr>\n",
       "      <th>NE</th>\n",
       "      <td>0.0</td>\n",
       "      <td>0.0</td>\n",
       "      <td>0.0</td>\n",
       "      <td>0.0</td>\n",
       "      <td>0.0</td>\n",
       "      <td>0.0</td>\n",
       "      <td>0.0</td>\n",
       "      <td>0.0</td>\n",
       "      <td>0.0</td>\n",
       "      <td>0.0</td>\n",
       "      <td>...</td>\n",
       "      <td>0.0</td>\n",
       "      <td>0.0</td>\n",
       "      <td>0.0</td>\n",
       "      <td>3.0</td>\n",
       "      <td>15.0</td>\n",
       "      <td>6.0</td>\n",
       "      <td>7.0</td>\n",
       "      <td>0.0</td>\n",
       "      <td>0.0</td>\n",
       "      <td>1.0</td>\n",
       "    </tr>\n",
       "  </tbody>\n",
       "</table>\n",
       "<p>10 rows × 193 columns</p>\n",
       "</div>"
      ],
      "text/plain": [
       "       3/6/20  3/7/20  3/8/20  3/9/20  3/10/20  3/11/20  3/12/20  3/13/20  \\\n",
       "State                                                                       \n",
       "MD        0.0     0.0     0.0     0.0      0.0      0.0      0.0      0.0   \n",
       "ME        0.0     0.0     0.0     0.0      0.0      0.0      0.0      0.0   \n",
       "MI        0.0     0.0     0.0     0.0      0.0      0.0      0.0      0.0   \n",
       "MN        0.0     0.0     0.0     0.0      0.0      0.0      0.0      0.0   \n",
       "MO        0.0     0.0     0.0     0.0      0.0      0.0      0.0      0.0   \n",
       "MS        0.0     0.0     0.0     0.0      0.0      0.0      0.0      0.0   \n",
       "MT        0.0     0.0     0.0     0.0      0.0      0.0      0.0      0.0   \n",
       "NC        0.0     0.0     0.0     0.0      0.0      0.0      0.0      0.0   \n",
       "ND        0.0     0.0     0.0     0.0      0.0      0.0      0.0      0.0   \n",
       "NE        0.0     0.0     0.0     0.0      0.0      0.0      0.0      0.0   \n",
       "\n",
       "       3/14/20  3/15/20  ...  9/5/20  9/6/20  9/7/20  9/8/20  9/9/20  9/10/20  \\\n",
       "State                    ...                                                    \n",
       "MD         0.0      0.0  ...    11.0     6.0     3.0     4.0     3.0     10.0   \n",
       "ME         0.0      0.0  ...     0.0     0.0     0.0     0.0     0.0      0.0   \n",
       "MI         0.0      0.0  ...     6.0     0.0     5.0     3.0    61.0     22.0   \n",
       "MN         0.0      0.0  ...     4.0     6.0     3.0     2.0     7.0     15.0   \n",
       "MO         0.0      0.0  ...    77.0    20.0     1.0     2.0    11.0     19.0   \n",
       "MS         0.0      0.0  ...    12.0    16.0     1.0     0.0    35.0     29.0   \n",
       "MT         0.0      0.0  ...     2.0     1.0     1.0     1.0     3.0      1.0   \n",
       "NC         0.0      0.0  ...    85.0     1.0     7.0    13.0    48.0     33.0   \n",
       "ND         0.0      0.0  ...     5.0     1.0     0.0     0.0     1.0      3.0   \n",
       "NE         0.0      0.0  ...     0.0     0.0     0.0     3.0    15.0      6.0   \n",
       "\n",
       "       9/11/20  9/12/20  9/13/20  9/14/20  \n",
       "State                                      \n",
       "MD         5.0      8.0      5.0      1.0  \n",
       "ME         0.0      0.0      0.0      0.0  \n",
       "MI         7.0     11.0      0.0     10.0  \n",
       "MN        13.0      9.0     13.0      3.0  \n",
       "MO        10.0      3.0      1.0      9.0  \n",
       "MS        13.0     15.0     15.0     15.0  \n",
       "MT         8.0      2.0      2.0      3.0  \n",
       "NC        33.0     24.0      5.0      8.0  \n",
       "ND         4.0      3.0      1.0      2.0  \n",
       "NE         7.0      0.0      0.0      1.0  \n",
       "\n",
       "[10 rows x 193 columns]"
      ]
     },
     "execution_count": 94,
     "metadata": {},
     "output_type": "execute_result"
    }
   ],
   "source": [
    "group_by_States = employment.groupby(['State']).sum()\n",
    "group_by_States\n",
    "states_empc= (group_by_States.loc[:, group_by_States.columns.str.endswith(\"_x\")])\n",
    "states_empd= (group_by_States.loc[:, group_by_States.columns.str.endswith(\"_y\")])\n",
    "\n",
    "newcases_MI_emp = states_empc.diff(axis=1)\n",
    "newcases_MI_emp=newcases_MI_emp.loc[: ,'3/6/20_x':]\n",
    "newcases_MI_emp.columns = newcases_MI_emp.columns.str.replace('_x', '')\n",
    "newcases_MI_emp\n",
    "\n",
    "newdeaths_MI_emp = states_empd.diff(axis=1)\n",
    "newdeaths_MI_emp=newdeaths_MI_emp.loc[: ,'3/6/20_y':]\n",
    "newdeaths_MI_emp.columns = newdeaths_MI_emp.columns.str.replace('_y', '')\n",
    "newdeaths_MI_emp\n",
    "\n",
    "stateCases = newcases_MI_emp[20:30:]\n",
    "stateDeaths= newdeaths_MI_emp[20:30:]\n",
    "stateDeaths"
   ]
  },
  {
   "cell_type": "code",
   "execution_count": 95,
   "metadata": {},
   "outputs": [
    {
     "data": {
      "text/html": [
       "<div>\n",
       "<style scoped>\n",
       "    .dataframe tbody tr th:only-of-type {\n",
       "        vertical-align: middle;\n",
       "    }\n",
       "\n",
       "    .dataframe tbody tr th {\n",
       "        vertical-align: top;\n",
       "    }\n",
       "\n",
       "    .dataframe thead th {\n",
       "        text-align: right;\n",
       "    }\n",
       "</style>\n",
       "<table border=\"1\" class=\"dataframe\">\n",
       "  <thead>\n",
       "    <tr style=\"text-align: right;\">\n",
       "      <th></th>\n",
       "      <th>last</th>\n",
       "      <th>Count</th>\n",
       "      <th>Jan</th>\n",
       "      <th>Feb</th>\n",
       "      <th>March</th>\n",
       "    </tr>\n",
       "    <tr>\n",
       "      <th>State</th>\n",
       "      <th></th>\n",
       "      <th></th>\n",
       "      <th></th>\n",
       "      <th></th>\n",
       "      <th></th>\n",
       "    </tr>\n",
       "  </thead>\n",
       "  <tbody>\n",
       "    <tr>\n",
       "      <th>MD</th>\n",
       "      <td>536.0</td>\n",
       "      <td>604236.0</td>\n",
       "      <td>9373543.0</td>\n",
       "      <td>9380393.0</td>\n",
       "      <td>9326662.0</td>\n",
       "    </tr>\n",
       "    <tr>\n",
       "      <th>ME</th>\n",
       "      <td>15.0</td>\n",
       "      <td>187040.0</td>\n",
       "      <td>2145637.0</td>\n",
       "      <td>2139873.0</td>\n",
       "      <td>2127589.0</td>\n",
       "    </tr>\n",
       "    <tr>\n",
       "      <th>MI</th>\n",
       "      <td>1255.0</td>\n",
       "      <td>929382.0</td>\n",
       "      <td>15508294.0</td>\n",
       "      <td>15558526.0</td>\n",
       "      <td>15474213.0</td>\n",
       "    </tr>\n",
       "    <tr>\n",
       "      <th>MN</th>\n",
       "      <td>639.0</td>\n",
       "      <td>618676.0</td>\n",
       "      <td>10433423.0</td>\n",
       "      <td>10413994.0</td>\n",
       "      <td>10330032.0</td>\n",
       "    </tr>\n",
       "    <tr>\n",
       "      <th>MO</th>\n",
       "      <td>1341.0</td>\n",
       "      <td>753592.0</td>\n",
       "      <td>9963644.0</td>\n",
       "      <td>9984840.0</td>\n",
       "      <td>9978548.0</td>\n",
       "    </tr>\n",
       "    <tr>\n",
       "      <th>MS</th>\n",
       "      <td>153.0</td>\n",
       "      <td>246274.0</td>\n",
       "      <td>3887236.0</td>\n",
       "      <td>3898779.0</td>\n",
       "      <td>3878950.0</td>\n",
       "    </tr>\n",
       "    <tr>\n",
       "      <th>MT</th>\n",
       "      <td>86.0</td>\n",
       "      <td>181098.0</td>\n",
       "      <td>1642617.0</td>\n",
       "      <td>1646209.0</td>\n",
       "      <td>1646437.0</td>\n",
       "    </tr>\n",
       "    <tr>\n",
       "      <th>NC</th>\n",
       "      <td>845.0</td>\n",
       "      <td>1092024.0</td>\n",
       "      <td>15968455.0</td>\n",
       "      <td>16032975.0</td>\n",
       "      <td>15980716.0</td>\n",
       "    </tr>\n",
       "    <tr>\n",
       "      <th>ND</th>\n",
       "      <td>256.0</td>\n",
       "      <td>122000.0</td>\n",
       "      <td>1486537.0</td>\n",
       "      <td>1487191.0</td>\n",
       "      <td>1482210.0</td>\n",
       "    </tr>\n",
       "    <tr>\n",
       "      <th>NE</th>\n",
       "      <td>442.0</td>\n",
       "      <td>254832.0</td>\n",
       "      <td>3458396.0</td>\n",
       "      <td>3462599.0</td>\n",
       "      <td>3458984.0</td>\n",
       "    </tr>\n",
       "  </tbody>\n",
       "</table>\n",
       "</div>"
      ],
      "text/plain": [
       "         last      Count         Jan         Feb       March\n",
       "State                                                       \n",
       "MD      536.0   604236.0   9373543.0   9380393.0   9326662.0\n",
       "ME       15.0   187040.0   2145637.0   2139873.0   2127589.0\n",
       "MI     1255.0   929382.0  15508294.0  15558526.0  15474213.0\n",
       "MN      639.0   618676.0  10433423.0  10413994.0  10330032.0\n",
       "MO     1341.0   753592.0   9963644.0   9984840.0   9978548.0\n",
       "MS      153.0   246274.0   3887236.0   3898779.0   3878950.0\n",
       "MT       86.0   181098.0   1642617.0   1646209.0   1646437.0\n",
       "NC      845.0  1092024.0  15968455.0  16032975.0  15980716.0\n",
       "ND      256.0   122000.0   1486537.0   1487191.0   1482210.0\n",
       "NE      442.0   254832.0   3458396.0   3462599.0   3458984.0"
      ]
     },
     "execution_count": 95,
     "metadata": {},
     "output_type": "execute_result"
    }
   ],
   "source": [
    "emp_level= group_by_States[[\"Establishment Count\",\"January Employment\",\"February Employment\", \"March Employment\"]]\n",
    "empState= emp_level[20:30]\n",
    "result_cases = pd.concat([stateCases,empState], axis=1)\n",
    "some= result_cases.loc[:, '9/14/20':]\n",
    "some= some.rename(columns={'9/14/20': 'last','Establishment Count': 'Count','January Employment':'Jan','February Employment': 'Feb',\n",
    "                          'March Employment': 'March'})\n",
    "some\n"
   ]
  },
  {
   "cell_type": "code",
   "execution_count": 96,
   "metadata": {},
   "outputs": [
    {
     "name": "stdout",
     "output_type": "stream",
     "text": [
      "The p-values are: \n",
      " Intercept    0.327432\n",
      "Count        0.054413\n",
      "Jan          0.040547\n",
      "Feb          0.018370\n",
      "March        0.018533\n",
      "dtype: float64\n",
      "0.9171007841967583\n"
     ]
    },
    {
     "data": {
      "text/html": [
       "<div>\n",
       "<style scoped>\n",
       "    .dataframe tbody tr th:only-of-type {\n",
       "        vertical-align: middle;\n",
       "    }\n",
       "\n",
       "    .dataframe tbody tr th {\n",
       "        vertical-align: top;\n",
       "    }\n",
       "\n",
       "    .dataframe thead th {\n",
       "        text-align: right;\n",
       "    }\n",
       "</style>\n",
       "<table border=\"1\" class=\"dataframe\">\n",
       "  <thead>\n",
       "    <tr style=\"text-align: right;\">\n",
       "      <th></th>\n",
       "      <th>0</th>\n",
       "      <th>1</th>\n",
       "    </tr>\n",
       "  </thead>\n",
       "  <tbody>\n",
       "    <tr>\n",
       "      <th>Intercept</th>\n",
       "      <td>-208.957959</td>\n",
       "      <td>514.197526</td>\n",
       "    </tr>\n",
       "    <tr>\n",
       "      <th>Count</th>\n",
       "      <td>-0.014927</td>\n",
       "      <td>0.000204</td>\n",
       "    </tr>\n",
       "    <tr>\n",
       "      <th>Jan</th>\n",
       "      <td>0.000893</td>\n",
       "      <td>0.027199</td>\n",
       "    </tr>\n",
       "    <tr>\n",
       "      <th>Feb</th>\n",
       "      <td>-0.078130</td>\n",
       "      <td>-0.011338</td>\n",
       "    </tr>\n",
       "    <tr>\n",
       "      <th>March</th>\n",
       "      <td>0.007903</td>\n",
       "      <td>0.054900</td>\n",
       "    </tr>\n",
       "  </tbody>\n",
       "</table>\n",
       "</div>"
      ],
      "text/plain": [
       "                    0           1\n",
       "Intercept -208.957959  514.197526\n",
       "Count       -0.014927    0.000204\n",
       "Jan          0.000893    0.027199\n",
       "Feb         -0.078130   -0.011338\n",
       "March        0.007903    0.054900"
      ]
     },
     "execution_count": 96,
     "metadata": {},
     "output_type": "execute_result"
    }
   ],
   "source": [
    "lm = smf.ols(formula='last ~ Count + Jan + Feb ', data=some).fit()\n",
    "\n",
    "lm1 = smf.ols(formula='last ~ Count + Jan + Feb +March ', data=some).fit()\n",
    "# print the coefficients\n",
    "#print(lm.params)\n",
    "#print(lm1.params)\n",
    "print(\"The p-values are:\", \"\\n\",lm1.pvalues)\n",
    "#model performance\n",
    "\n",
    "print(lm1.rsquared)\n",
    "lm1.conf_int()"
   ]
  },
  {
   "cell_type": "code",
   "execution_count": 97,
   "metadata": {},
   "outputs": [
    {
     "name": "stderr",
     "output_type": "stream",
     "text": [
      "/opt/anaconda3/envs/opencv/lib/python3.8/site-packages/scipy/stats/stats.py:1603: UserWarning: kurtosistest only valid for n>=20 ... continuing anyway, n=10\n",
      "  warnings.warn(\"kurtosistest only valid for n>=20 ... continuing \"\n"
     ]
    },
    {
     "data": {
      "text/html": [
       "<table class=\"simpletable\">\n",
       "<caption>OLS Regression Results</caption>\n",
       "<tr>\n",
       "  <th>Dep. Variable:</th>          <td>last</td>       <th>  R-squared:         </th> <td>   0.721</td>\n",
       "</tr>\n",
       "<tr>\n",
       "  <th>Model:</th>                   <td>OLS</td>       <th>  Adj. R-squared:    </th> <td>   0.582</td>\n",
       "</tr>\n",
       "<tr>\n",
       "  <th>Method:</th>             <td>Least Squares</td>  <th>  F-statistic:       </th> <td>   5.180</td>\n",
       "</tr>\n",
       "<tr>\n",
       "  <th>Date:</th>             <td>Sun, 15 Nov 2020</td> <th>  Prob (F-statistic):</th>  <td>0.0420</td> \n",
       "</tr>\n",
       "<tr>\n",
       "  <th>Time:</th>                 <td>21:31:54</td>     <th>  Log-Likelihood:    </th> <td> -68.765</td>\n",
       "</tr>\n",
       "<tr>\n",
       "  <th>No. Observations:</th>      <td>    10</td>      <th>  AIC:               </th> <td>   145.5</td>\n",
       "</tr>\n",
       "<tr>\n",
       "  <th>Df Residuals:</th>          <td>     6</td>      <th>  BIC:               </th> <td>   146.7</td>\n",
       "</tr>\n",
       "<tr>\n",
       "  <th>Df Model:</th>              <td>     3</td>      <th>                     </th>     <td> </td>   \n",
       "</tr>\n",
       "<tr>\n",
       "  <th>Covariance Type:</th>      <td>nonrobust</td>    <th>                     </th>     <td> </td>   \n",
       "</tr>\n",
       "</table>\n",
       "<table class=\"simpletable\">\n",
       "<tr>\n",
       "      <td></td>         <th>coef</th>     <th>std err</th>      <th>t</th>      <th>P>|t|</th>  <th>[0.025</th>    <th>0.975]</th>  \n",
       "</tr>\n",
       "<tr>\n",
       "  <th>Intercept</th> <td>  -57.2177</td> <td>  212.014</td> <td>   -0.270</td> <td> 0.796</td> <td> -575.997</td> <td>  461.562</td>\n",
       "</tr>\n",
       "<tr>\n",
       "  <th>Count</th>     <td>    0.0018</td> <td>    0.002</td> <td>    0.875</td> <td> 0.415</td> <td>   -0.003</td> <td>    0.007</td>\n",
       "</tr>\n",
       "<tr>\n",
       "  <th>Jan</th>       <td>    0.0020</td> <td>    0.006</td> <td>    0.314</td> <td> 0.764</td> <td>   -0.013</td> <td>    0.017</td>\n",
       "</tr>\n",
       "<tr>\n",
       "  <th>Feb</th>       <td>   -0.0020</td> <td>    0.006</td> <td>   -0.318</td> <td> 0.761</td> <td>   -0.017</td> <td>    0.013</td>\n",
       "</tr>\n",
       "</table>\n",
       "<table class=\"simpletable\">\n",
       "<tr>\n",
       "  <th>Omnibus:</th>       <td> 0.370</td> <th>  Durbin-Watson:     </th> <td>   2.266</td>\n",
       "</tr>\n",
       "<tr>\n",
       "  <th>Prob(Omnibus):</th> <td> 0.831</td> <th>  Jarque-Bera (JB):  </th> <td>   0.459</td>\n",
       "</tr>\n",
       "<tr>\n",
       "  <th>Skew:</th>          <td> 0.302</td> <th>  Prob(JB):          </th> <td>   0.795</td>\n",
       "</tr>\n",
       "<tr>\n",
       "  <th>Kurtosis:</th>      <td> 2.142</td> <th>  Cond. No.          </th> <td>2.86e+07</td>\n",
       "</tr>\n",
       "</table><br/><br/>Notes:<br/>[1] Standard Errors assume that the covariance matrix of the errors is correctly specified.<br/>[2] The condition number is large, 2.86e+07. This might indicate that there are<br/>strong multicollinearity or other numerical problems."
      ],
      "text/plain": [
       "<class 'statsmodels.iolib.summary.Summary'>\n",
       "\"\"\"\n",
       "                            OLS Regression Results                            \n",
       "==============================================================================\n",
       "Dep. Variable:                   last   R-squared:                       0.721\n",
       "Model:                            OLS   Adj. R-squared:                  0.582\n",
       "Method:                 Least Squares   F-statistic:                     5.180\n",
       "Date:                Sun, 15 Nov 2020   Prob (F-statistic):             0.0420\n",
       "Time:                        21:31:54   Log-Likelihood:                -68.765\n",
       "No. Observations:                  10   AIC:                             145.5\n",
       "Df Residuals:                       6   BIC:                             146.7\n",
       "Df Model:                           3                                         \n",
       "Covariance Type:            nonrobust                                         \n",
       "==============================================================================\n",
       "                 coef    std err          t      P>|t|      [0.025      0.975]\n",
       "------------------------------------------------------------------------------\n",
       "Intercept    -57.2177    212.014     -0.270      0.796    -575.997     461.562\n",
       "Count          0.0018      0.002      0.875      0.415      -0.003       0.007\n",
       "Jan            0.0020      0.006      0.314      0.764      -0.013       0.017\n",
       "Feb           -0.0020      0.006     -0.318      0.761      -0.017       0.013\n",
       "==============================================================================\n",
       "Omnibus:                        0.370   Durbin-Watson:                   2.266\n",
       "Prob(Omnibus):                  0.831   Jarque-Bera (JB):                0.459\n",
       "Skew:                           0.302   Prob(JB):                        0.795\n",
       "Kurtosis:                       2.142   Cond. No.                     2.86e+07\n",
       "==============================================================================\n",
       "\n",
       "Notes:\n",
       "[1] Standard Errors assume that the covariance matrix of the errors is correctly specified.\n",
       "[2] The condition number is large, 2.86e+07. This might indicate that there are\n",
       "strong multicollinearity or other numerical problems.\n",
       "\"\"\""
      ]
     },
     "execution_count": 97,
     "metadata": {},
     "output_type": "execute_result"
    }
   ],
   "source": [
    "lm.summary()"
   ]
  },
  {
   "cell_type": "markdown",
   "metadata": {},
   "source": [
    "###### Count: 0.054413,  Jan: 0.040547, Feb: 0.018370 ,  March: 0.018533\n",
    "#### The p-values for all the variables from the enrichment dataset are less than 0.05 which indicates that there is a relationship between the employment level and the the number of covid19 cases. This is a confirmation as in stage II we have calculated the correlation coefficient and they were really high(more than 0.9). Therefore all these variables are strongly correlated to the number of covid19 cases. They contribute to the spread of the virus "
   ]
  },
  {
   "cell_type": "code",
   "execution_count": 98,
   "metadata": {},
   "outputs": [
    {
     "data": {
      "text/html": [
       "<div>\n",
       "<style scoped>\n",
       "    .dataframe tbody tr th:only-of-type {\n",
       "        vertical-align: middle;\n",
       "    }\n",
       "\n",
       "    .dataframe tbody tr th {\n",
       "        vertical-align: top;\n",
       "    }\n",
       "\n",
       "    .dataframe thead th {\n",
       "        text-align: right;\n",
       "    }\n",
       "</style>\n",
       "<table border=\"1\" class=\"dataframe\">\n",
       "  <thead>\n",
       "    <tr style=\"text-align: right;\">\n",
       "      <th></th>\n",
       "      <th>last</th>\n",
       "      <th>Count</th>\n",
       "      <th>Jan</th>\n",
       "      <th>Feb</th>\n",
       "      <th>March</th>\n",
       "    </tr>\n",
       "    <tr>\n",
       "      <th>State</th>\n",
       "      <th></th>\n",
       "      <th></th>\n",
       "      <th></th>\n",
       "      <th></th>\n",
       "      <th></th>\n",
       "    </tr>\n",
       "  </thead>\n",
       "  <tbody>\n",
       "    <tr>\n",
       "      <th>MD</th>\n",
       "      <td>1.0</td>\n",
       "      <td>604236.0</td>\n",
       "      <td>9373543.0</td>\n",
       "      <td>9380393.0</td>\n",
       "      <td>9326662.0</td>\n",
       "    </tr>\n",
       "    <tr>\n",
       "      <th>ME</th>\n",
       "      <td>0.0</td>\n",
       "      <td>187040.0</td>\n",
       "      <td>2145637.0</td>\n",
       "      <td>2139873.0</td>\n",
       "      <td>2127589.0</td>\n",
       "    </tr>\n",
       "    <tr>\n",
       "      <th>MI</th>\n",
       "      <td>10.0</td>\n",
       "      <td>929382.0</td>\n",
       "      <td>15508294.0</td>\n",
       "      <td>15558526.0</td>\n",
       "      <td>15474213.0</td>\n",
       "    </tr>\n",
       "    <tr>\n",
       "      <th>MN</th>\n",
       "      <td>3.0</td>\n",
       "      <td>618676.0</td>\n",
       "      <td>10433423.0</td>\n",
       "      <td>10413994.0</td>\n",
       "      <td>10330032.0</td>\n",
       "    </tr>\n",
       "    <tr>\n",
       "      <th>MO</th>\n",
       "      <td>9.0</td>\n",
       "      <td>753592.0</td>\n",
       "      <td>9963644.0</td>\n",
       "      <td>9984840.0</td>\n",
       "      <td>9978548.0</td>\n",
       "    </tr>\n",
       "    <tr>\n",
       "      <th>MS</th>\n",
       "      <td>15.0</td>\n",
       "      <td>246274.0</td>\n",
       "      <td>3887236.0</td>\n",
       "      <td>3898779.0</td>\n",
       "      <td>3878950.0</td>\n",
       "    </tr>\n",
       "    <tr>\n",
       "      <th>MT</th>\n",
       "      <td>3.0</td>\n",
       "      <td>181098.0</td>\n",
       "      <td>1642617.0</td>\n",
       "      <td>1646209.0</td>\n",
       "      <td>1646437.0</td>\n",
       "    </tr>\n",
       "    <tr>\n",
       "      <th>NC</th>\n",
       "      <td>8.0</td>\n",
       "      <td>1092024.0</td>\n",
       "      <td>15968455.0</td>\n",
       "      <td>16032975.0</td>\n",
       "      <td>15980716.0</td>\n",
       "    </tr>\n",
       "    <tr>\n",
       "      <th>ND</th>\n",
       "      <td>2.0</td>\n",
       "      <td>122000.0</td>\n",
       "      <td>1486537.0</td>\n",
       "      <td>1487191.0</td>\n",
       "      <td>1482210.0</td>\n",
       "    </tr>\n",
       "    <tr>\n",
       "      <th>NE</th>\n",
       "      <td>1.0</td>\n",
       "      <td>254832.0</td>\n",
       "      <td>3458396.0</td>\n",
       "      <td>3462599.0</td>\n",
       "      <td>3458984.0</td>\n",
       "    </tr>\n",
       "  </tbody>\n",
       "</table>\n",
       "</div>"
      ],
      "text/plain": [
       "       last      Count         Jan         Feb       March\n",
       "State                                                     \n",
       "MD      1.0   604236.0   9373543.0   9380393.0   9326662.0\n",
       "ME      0.0   187040.0   2145637.0   2139873.0   2127589.0\n",
       "MI     10.0   929382.0  15508294.0  15558526.0  15474213.0\n",
       "MN      3.0   618676.0  10433423.0  10413994.0  10330032.0\n",
       "MO      9.0   753592.0   9963644.0   9984840.0   9978548.0\n",
       "MS     15.0   246274.0   3887236.0   3898779.0   3878950.0\n",
       "MT      3.0   181098.0   1642617.0   1646209.0   1646437.0\n",
       "NC      8.0  1092024.0  15968455.0  16032975.0  15980716.0\n",
       "ND      2.0   122000.0   1486537.0   1487191.0   1482210.0\n",
       "NE      1.0   254832.0   3458396.0   3462599.0   3458984.0"
      ]
     },
     "execution_count": 98,
     "metadata": {},
     "output_type": "execute_result"
    }
   ],
   "source": [
    "emp_level= group_by_States[[\"Establishment Count\",\"January Employment\",\"February Employment\", \"March Employment\"]]\n",
    "empState= emp_level[20:30]\n",
    "result_deaths = pd.concat([stateDeaths,empState], axis=1)\n",
    "some1= result_deaths.loc[:, '9/14/20':]\n",
    "some1= some1.rename(columns={'9/14/20': 'last','Establishment Count': 'Count','January Employment':'Jan','February Employment': 'Feb',\n",
    "                          'March Employment': 'March'})\n",
    "some1\n",
    "\n"
   ]
  },
  {
   "cell_type": "code",
   "execution_count": 99,
   "metadata": {},
   "outputs": [
    {
     "name": "stdout",
     "output_type": "stream",
     "text": [
      "The p-values are: \n",
      " Intercept    0.166913\n",
      "Count        0.345552\n",
      "Jan          0.777916\n",
      "Feb          0.640171\n",
      "March        0.409978\n",
      "dtype: float64\n",
      "0.42940922874842435\n"
     ]
    },
    {
     "data": {
      "text/html": [
       "<div>\n",
       "<style scoped>\n",
       "    .dataframe tbody tr th:only-of-type {\n",
       "        vertical-align: middle;\n",
       "    }\n",
       "\n",
       "    .dataframe tbody tr th {\n",
       "        vertical-align: top;\n",
       "    }\n",
       "\n",
       "    .dataframe thead th {\n",
       "        text-align: right;\n",
       "    }\n",
       "</style>\n",
       "<table border=\"1\" class=\"dataframe\">\n",
       "  <thead>\n",
       "    <tr style=\"text-align: right;\">\n",
       "      <th></th>\n",
       "      <th>0</th>\n",
       "      <th>1</th>\n",
       "    </tr>\n",
       "  </thead>\n",
       "  <tbody>\n",
       "    <tr>\n",
       "      <th>Intercept</th>\n",
       "      <td>-3.746681</td>\n",
       "      <td>16.442256</td>\n",
       "    </tr>\n",
       "    <tr>\n",
       "      <th>Count</th>\n",
       "      <td>-0.000297</td>\n",
       "      <td>0.000126</td>\n",
       "    </tr>\n",
       "    <tr>\n",
       "      <th>Jan</th>\n",
       "      <td>-0.000410</td>\n",
       "      <td>0.000325</td>\n",
       "    </tr>\n",
       "    <tr>\n",
       "      <th>Feb</th>\n",
       "      <td>-0.001113</td>\n",
       "      <td>0.000752</td>\n",
       "    </tr>\n",
       "    <tr>\n",
       "      <th>March</th>\n",
       "      <td>-0.000427</td>\n",
       "      <td>0.000885</td>\n",
       "    </tr>\n",
       "  </tbody>\n",
       "</table>\n",
       "</div>"
      ],
      "text/plain": [
       "                  0          1\n",
       "Intercept -3.746681  16.442256\n",
       "Count     -0.000297   0.000126\n",
       "Jan       -0.000410   0.000325\n",
       "Feb       -0.001113   0.000752\n",
       "March     -0.000427   0.000885"
      ]
     },
     "execution_count": 99,
     "metadata": {},
     "output_type": "execute_result"
    }
   ],
   "source": [
    "lm = smf.ols(formula='last ~ Count + Jan + Feb +March ', data=some1).fit()\n",
    "# print the coefficients\n",
    "print(\"The p-values are:\", \"\\n\",lm.pvalues)\n",
    "#model performance\n",
    "\n",
    "print(lm.rsquared)\n",
    "lm.conf_int()"
   ]
  },
  {
   "cell_type": "code",
   "execution_count": 100,
   "metadata": {},
   "outputs": [
    {
     "name": "stderr",
     "output_type": "stream",
     "text": [
      "/opt/anaconda3/envs/opencv/lib/python3.8/site-packages/scipy/stats/stats.py:1603: UserWarning: kurtosistest only valid for n>=20 ... continuing anyway, n=10\n",
      "  warnings.warn(\"kurtosistest only valid for n>=20 ... continuing \"\n"
     ]
    },
    {
     "data": {
      "text/html": [
       "<table class=\"simpletable\">\n",
       "<caption>OLS Regression Results</caption>\n",
       "<tr>\n",
       "  <th>Dep. Variable:</th>          <td>last</td>       <th>  R-squared:         </th> <td>   0.429</td>\n",
       "</tr>\n",
       "<tr>\n",
       "  <th>Model:</th>                   <td>OLS</td>       <th>  Adj. R-squared:    </th> <td>  -0.027</td>\n",
       "</tr>\n",
       "<tr>\n",
       "  <th>Method:</th>             <td>Least Squares</td>  <th>  F-statistic:       </th> <td>  0.9407</td>\n",
       "</tr>\n",
       "<tr>\n",
       "  <th>Date:</th>             <td>Sun, 15 Nov 2020</td> <th>  Prob (F-statistic):</th>  <td> 0.510</td> \n",
       "</tr>\n",
       "<tr>\n",
       "  <th>Time:</th>                 <td>21:31:57</td>     <th>  Log-Likelihood:    </th> <td> -26.920</td>\n",
       "</tr>\n",
       "<tr>\n",
       "  <th>No. Observations:</th>      <td>    10</td>      <th>  AIC:               </th> <td>   63.84</td>\n",
       "</tr>\n",
       "<tr>\n",
       "  <th>Df Residuals:</th>          <td>     5</td>      <th>  BIC:               </th> <td>   65.35</td>\n",
       "</tr>\n",
       "<tr>\n",
       "  <th>Df Model:</th>              <td>     4</td>      <th>                     </th>     <td> </td>   \n",
       "</tr>\n",
       "<tr>\n",
       "  <th>Covariance Type:</th>      <td>nonrobust</td>    <th>                     </th>     <td> </td>   \n",
       "</tr>\n",
       "</table>\n",
       "<table class=\"simpletable\">\n",
       "<tr>\n",
       "      <td></td>         <th>coef</th>     <th>std err</th>      <th>t</th>      <th>P>|t|</th>  <th>[0.025</th>    <th>0.975]</th>  \n",
       "</tr>\n",
       "<tr>\n",
       "  <th>Intercept</th> <td>    6.3478</td> <td>    3.927</td> <td>    1.616</td> <td> 0.167</td> <td>   -3.747</td> <td>   16.442</td>\n",
       "</tr>\n",
       "<tr>\n",
       "  <th>Count</th>     <td>-8.554e-05</td> <td> 8.22e-05</td> <td>   -1.041</td> <td> 0.346</td> <td>   -0.000</td> <td>    0.000</td>\n",
       "</tr>\n",
       "<tr>\n",
       "  <th>Jan</th>       <td>-4.252e-05</td> <td>    0.000</td> <td>   -0.298</td> <td> 0.778</td> <td>   -0.000</td> <td>    0.000</td>\n",
       "</tr>\n",
       "<tr>\n",
       "  <th>Feb</th>       <td>   -0.0002</td> <td>    0.000</td> <td>   -0.497</td> <td> 0.640</td> <td>   -0.001</td> <td>    0.001</td>\n",
       "</tr>\n",
       "<tr>\n",
       "  <th>March</th>     <td>    0.0002</td> <td>    0.000</td> <td>    0.899</td> <td> 0.410</td> <td>   -0.000</td> <td>    0.001</td>\n",
       "</tr>\n",
       "</table>\n",
       "<table class=\"simpletable\">\n",
       "<tr>\n",
       "  <th>Omnibus:</th>       <td> 4.315</td> <th>  Durbin-Watson:     </th> <td>   0.883</td>\n",
       "</tr>\n",
       "<tr>\n",
       "  <th>Prob(Omnibus):</th> <td> 0.116</td> <th>  Jarque-Bera (JB):  </th> <td>   1.374</td>\n",
       "</tr>\n",
       "<tr>\n",
       "  <th>Skew:</th>          <td> 0.855</td> <th>  Prob(JB):          </th> <td>   0.503</td>\n",
       "</tr>\n",
       "<tr>\n",
       "  <th>Kurtosis:</th>      <td> 3.613</td> <th>  Cond. No.          </th> <td>3.88e+07</td>\n",
       "</tr>\n",
       "</table><br/><br/>Notes:<br/>[1] Standard Errors assume that the covariance matrix of the errors is correctly specified.<br/>[2] The condition number is large, 3.88e+07. This might indicate that there are<br/>strong multicollinearity or other numerical problems."
      ],
      "text/plain": [
       "<class 'statsmodels.iolib.summary.Summary'>\n",
       "\"\"\"\n",
       "                            OLS Regression Results                            \n",
       "==============================================================================\n",
       "Dep. Variable:                   last   R-squared:                       0.429\n",
       "Model:                            OLS   Adj. R-squared:                 -0.027\n",
       "Method:                 Least Squares   F-statistic:                    0.9407\n",
       "Date:                Sun, 15 Nov 2020   Prob (F-statistic):              0.510\n",
       "Time:                        21:31:57   Log-Likelihood:                -26.920\n",
       "No. Observations:                  10   AIC:                             63.84\n",
       "Df Residuals:                       5   BIC:                             65.35\n",
       "Df Model:                           4                                         \n",
       "Covariance Type:            nonrobust                                         \n",
       "==============================================================================\n",
       "                 coef    std err          t      P>|t|      [0.025      0.975]\n",
       "------------------------------------------------------------------------------\n",
       "Intercept      6.3478      3.927      1.616      0.167      -3.747      16.442\n",
       "Count      -8.554e-05   8.22e-05     -1.041      0.346      -0.000       0.000\n",
       "Jan        -4.252e-05      0.000     -0.298      0.778      -0.000       0.000\n",
       "Feb           -0.0002      0.000     -0.497      0.640      -0.001       0.001\n",
       "March          0.0002      0.000      0.899      0.410      -0.000       0.001\n",
       "==============================================================================\n",
       "Omnibus:                        4.315   Durbin-Watson:                   0.883\n",
       "Prob(Omnibus):                  0.116   Jarque-Bera (JB):                1.374\n",
       "Skew:                           0.855   Prob(JB):                        0.503\n",
       "Kurtosis:                       3.613   Cond. No.                     3.88e+07\n",
       "==============================================================================\n",
       "\n",
       "Notes:\n",
       "[1] Standard Errors assume that the covariance matrix of the errors is correctly specified.\n",
       "[2] The condition number is large, 3.88e+07. This might indicate that there are\n",
       "strong multicollinearity or other numerical problems.\n",
       "\"\"\""
      ]
     },
     "execution_count": 100,
     "metadata": {},
     "output_type": "execute_result"
    }
   ],
   "source": [
    "lm.summary()"
   ]
  },
  {
   "cell_type": "markdown",
   "metadata": {},
   "source": [
    "#### For the number of deaths, the p-values are all greater than 0.05 and this indicates that there is no significant relationship between the number of deaths and the employment dataset variables. That is because the number of deaths relies more on the number of covid cases so it is fair enough not to find a remarkable result."
   ]
  },
  {
   "cell_type": "markdown",
   "metadata": {},
   "source": [
    "### Overall analysis: \n",
    "From the analysis of all the models, Decision Tree seems to be the model that fits the data best. For both number of cases and number of deaths, the R^2 was 1 and the RMSE was relatively low compare to the other models. This result indicates that the model is doing good; the predictions can be said to be accurate. Random Forest Model is the second top model that works for the data with a R^2 value of 0.90. The Linear and polynomial model outperformed the ARIMA model.The reason why the R^2 value for the ARIMA model was the smallest is because ARIMA model focuses more on the moving average of the data so the R^2 metrics is not really of a big importance in this case.\n",
    "From stage II, we have already seen that there was a strong correlation between the employment level and the number of Covid cases. By modeling a multiple linear regression, the p-values were analyzed and check if the values are less than 0.05 that indicates that there is a relationship between the variables and the number of cases and deaths and so those variables contribute to the spread of the virus. From this study, it confirmed the result from stage II as the p-values were less than 0.05 so the confidence interval doesn’t include zero. All values in the confidence interval are plausible values for the parameter. \n"
   ]
  },
  {
   "cell_type": "code",
   "execution_count": null,
   "metadata": {},
   "outputs": [],
   "source": []
  }
 ],
 "metadata": {
  "kernelspec": {
   "display_name": "Python 3",
   "language": "python",
   "name": "python3"
  },
  "language_info": {
   "codemirror_mode": {
    "name": "ipython",
    "version": 3
   },
   "file_extension": ".py",
   "mimetype": "text/x-python",
   "name": "python",
   "nbconvert_exporter": "python",
   "pygments_lexer": "ipython3",
   "version": "3.8.5"
  }
 },
 "nbformat": 4,
 "nbformat_minor": 4
}
