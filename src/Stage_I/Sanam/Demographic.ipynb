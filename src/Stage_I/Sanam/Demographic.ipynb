{
 "cells": [
  {
   "cell_type": "markdown",
   "metadata": {},
   "source": [
    "## Read Demographic dataset "
   ]
  },
  {
   "cell_type": "code",
   "execution_count": 2,
   "metadata": {
    "scrolled": true
   },
   "outputs": [
    {
     "ename": "FileNotFoundError",
     "evalue": "[Errno 2] File b'../../data/Demographic.csv' does not exist: b'../../data/Demographic.csv'",
     "output_type": "error",
     "traceback": [
      "\u001b[1;31m---------------------------------------------------------------------------\u001b[0m",
      "\u001b[1;31mFileNotFoundError\u001b[0m                         Traceback (most recent call last)",
      "\u001b[1;32m<ipython-input-2-567badb27bfc>\u001b[0m in \u001b[0;36m<module>\u001b[1;34m\u001b[0m\n\u001b[0;32m      2\u001b[0m \u001b[1;33m\u001b[0m\u001b[0m\n\u001b[0;32m      3\u001b[0m \u001b[1;31m# Read csv file save it in dataframe\u001b[0m\u001b[1;33m\u001b[0m\u001b[1;33m\u001b[0m\u001b[1;33m\u001b[0m\u001b[0m\n\u001b[1;32m----> 4\u001b[1;33m \u001b[0mdemographic_covid_df\u001b[0m \u001b[1;33m=\u001b[0m \u001b[0mpd\u001b[0m\u001b[1;33m.\u001b[0m\u001b[0mread_csv\u001b[0m\u001b[1;33m(\u001b[0m\u001b[1;34m\"../../data/Demographic.csv\"\u001b[0m\u001b[1;33m)\u001b[0m\u001b[1;33m\u001b[0m\u001b[1;33m\u001b[0m\u001b[0m\n\u001b[0m\u001b[0;32m      5\u001b[0m \u001b[1;33m\u001b[0m\u001b[0m\n\u001b[0;32m      6\u001b[0m \u001b[1;31m# save dataframe to csv file and remove headers like \"DP_04M\"\u001b[0m\u001b[1;33m\u001b[0m\u001b[1;33m\u001b[0m\u001b[1;33m\u001b[0m\u001b[0m\n",
      "\u001b[1;32m~\\Anaconda3\\lib\\site-packages\\pandas\\io\\parsers.py\u001b[0m in \u001b[0;36mparser_f\u001b[1;34m(filepath_or_buffer, sep, delimiter, header, names, index_col, usecols, squeeze, prefix, mangle_dupe_cols, dtype, engine, converters, true_values, false_values, skipinitialspace, skiprows, skipfooter, nrows, na_values, keep_default_na, na_filter, verbose, skip_blank_lines, parse_dates, infer_datetime_format, keep_date_col, date_parser, dayfirst, cache_dates, iterator, chunksize, compression, thousands, decimal, lineterminator, quotechar, quoting, doublequote, escapechar, comment, encoding, dialect, error_bad_lines, warn_bad_lines, delim_whitespace, low_memory, memory_map, float_precision)\u001b[0m\n\u001b[0;32m    683\u001b[0m         )\n\u001b[0;32m    684\u001b[0m \u001b[1;33m\u001b[0m\u001b[0m\n\u001b[1;32m--> 685\u001b[1;33m         \u001b[1;32mreturn\u001b[0m \u001b[0m_read\u001b[0m\u001b[1;33m(\u001b[0m\u001b[0mfilepath_or_buffer\u001b[0m\u001b[1;33m,\u001b[0m \u001b[0mkwds\u001b[0m\u001b[1;33m)\u001b[0m\u001b[1;33m\u001b[0m\u001b[1;33m\u001b[0m\u001b[0m\n\u001b[0m\u001b[0;32m    686\u001b[0m \u001b[1;33m\u001b[0m\u001b[0m\n\u001b[0;32m    687\u001b[0m     \u001b[0mparser_f\u001b[0m\u001b[1;33m.\u001b[0m\u001b[0m__name__\u001b[0m \u001b[1;33m=\u001b[0m \u001b[0mname\u001b[0m\u001b[1;33m\u001b[0m\u001b[1;33m\u001b[0m\u001b[0m\n",
      "\u001b[1;32m~\\Anaconda3\\lib\\site-packages\\pandas\\io\\parsers.py\u001b[0m in \u001b[0;36m_read\u001b[1;34m(filepath_or_buffer, kwds)\u001b[0m\n\u001b[0;32m    455\u001b[0m \u001b[1;33m\u001b[0m\u001b[0m\n\u001b[0;32m    456\u001b[0m     \u001b[1;31m# Create the parser.\u001b[0m\u001b[1;33m\u001b[0m\u001b[1;33m\u001b[0m\u001b[1;33m\u001b[0m\u001b[0m\n\u001b[1;32m--> 457\u001b[1;33m     \u001b[0mparser\u001b[0m \u001b[1;33m=\u001b[0m \u001b[0mTextFileReader\u001b[0m\u001b[1;33m(\u001b[0m\u001b[0mfp_or_buf\u001b[0m\u001b[1;33m,\u001b[0m \u001b[1;33m**\u001b[0m\u001b[0mkwds\u001b[0m\u001b[1;33m)\u001b[0m\u001b[1;33m\u001b[0m\u001b[1;33m\u001b[0m\u001b[0m\n\u001b[0m\u001b[0;32m    458\u001b[0m \u001b[1;33m\u001b[0m\u001b[0m\n\u001b[0;32m    459\u001b[0m     \u001b[1;32mif\u001b[0m \u001b[0mchunksize\u001b[0m \u001b[1;32mor\u001b[0m \u001b[0miterator\u001b[0m\u001b[1;33m:\u001b[0m\u001b[1;33m\u001b[0m\u001b[1;33m\u001b[0m\u001b[0m\n",
      "\u001b[1;32m~\\Anaconda3\\lib\\site-packages\\pandas\\io\\parsers.py\u001b[0m in \u001b[0;36m__init__\u001b[1;34m(self, f, engine, **kwds)\u001b[0m\n\u001b[0;32m    893\u001b[0m             \u001b[0mself\u001b[0m\u001b[1;33m.\u001b[0m\u001b[0moptions\u001b[0m\u001b[1;33m[\u001b[0m\u001b[1;34m\"has_index_names\"\u001b[0m\u001b[1;33m]\u001b[0m \u001b[1;33m=\u001b[0m \u001b[0mkwds\u001b[0m\u001b[1;33m[\u001b[0m\u001b[1;34m\"has_index_names\"\u001b[0m\u001b[1;33m]\u001b[0m\u001b[1;33m\u001b[0m\u001b[1;33m\u001b[0m\u001b[0m\n\u001b[0;32m    894\u001b[0m \u001b[1;33m\u001b[0m\u001b[0m\n\u001b[1;32m--> 895\u001b[1;33m         \u001b[0mself\u001b[0m\u001b[1;33m.\u001b[0m\u001b[0m_make_engine\u001b[0m\u001b[1;33m(\u001b[0m\u001b[0mself\u001b[0m\u001b[1;33m.\u001b[0m\u001b[0mengine\u001b[0m\u001b[1;33m)\u001b[0m\u001b[1;33m\u001b[0m\u001b[1;33m\u001b[0m\u001b[0m\n\u001b[0m\u001b[0;32m    896\u001b[0m \u001b[1;33m\u001b[0m\u001b[0m\n\u001b[0;32m    897\u001b[0m     \u001b[1;32mdef\u001b[0m \u001b[0mclose\u001b[0m\u001b[1;33m(\u001b[0m\u001b[0mself\u001b[0m\u001b[1;33m)\u001b[0m\u001b[1;33m:\u001b[0m\u001b[1;33m\u001b[0m\u001b[1;33m\u001b[0m\u001b[0m\n",
      "\u001b[1;32m~\\Anaconda3\\lib\\site-packages\\pandas\\io\\parsers.py\u001b[0m in \u001b[0;36m_make_engine\u001b[1;34m(self, engine)\u001b[0m\n\u001b[0;32m   1133\u001b[0m     \u001b[1;32mdef\u001b[0m \u001b[0m_make_engine\u001b[0m\u001b[1;33m(\u001b[0m\u001b[0mself\u001b[0m\u001b[1;33m,\u001b[0m \u001b[0mengine\u001b[0m\u001b[1;33m=\u001b[0m\u001b[1;34m\"c\"\u001b[0m\u001b[1;33m)\u001b[0m\u001b[1;33m:\u001b[0m\u001b[1;33m\u001b[0m\u001b[1;33m\u001b[0m\u001b[0m\n\u001b[0;32m   1134\u001b[0m         \u001b[1;32mif\u001b[0m \u001b[0mengine\u001b[0m \u001b[1;33m==\u001b[0m \u001b[1;34m\"c\"\u001b[0m\u001b[1;33m:\u001b[0m\u001b[1;33m\u001b[0m\u001b[1;33m\u001b[0m\u001b[0m\n\u001b[1;32m-> 1135\u001b[1;33m             \u001b[0mself\u001b[0m\u001b[1;33m.\u001b[0m\u001b[0m_engine\u001b[0m \u001b[1;33m=\u001b[0m \u001b[0mCParserWrapper\u001b[0m\u001b[1;33m(\u001b[0m\u001b[0mself\u001b[0m\u001b[1;33m.\u001b[0m\u001b[0mf\u001b[0m\u001b[1;33m,\u001b[0m \u001b[1;33m**\u001b[0m\u001b[0mself\u001b[0m\u001b[1;33m.\u001b[0m\u001b[0moptions\u001b[0m\u001b[1;33m)\u001b[0m\u001b[1;33m\u001b[0m\u001b[1;33m\u001b[0m\u001b[0m\n\u001b[0m\u001b[0;32m   1136\u001b[0m         \u001b[1;32melse\u001b[0m\u001b[1;33m:\u001b[0m\u001b[1;33m\u001b[0m\u001b[1;33m\u001b[0m\u001b[0m\n\u001b[0;32m   1137\u001b[0m             \u001b[1;32mif\u001b[0m \u001b[0mengine\u001b[0m \u001b[1;33m==\u001b[0m \u001b[1;34m\"python\"\u001b[0m\u001b[1;33m:\u001b[0m\u001b[1;33m\u001b[0m\u001b[1;33m\u001b[0m\u001b[0m\n",
      "\u001b[1;32m~\\Anaconda3\\lib\\site-packages\\pandas\\io\\parsers.py\u001b[0m in \u001b[0;36m__init__\u001b[1;34m(self, src, **kwds)\u001b[0m\n\u001b[0;32m   1915\u001b[0m         \u001b[0mkwds\u001b[0m\u001b[1;33m[\u001b[0m\u001b[1;34m\"usecols\"\u001b[0m\u001b[1;33m]\u001b[0m \u001b[1;33m=\u001b[0m \u001b[0mself\u001b[0m\u001b[1;33m.\u001b[0m\u001b[0musecols\u001b[0m\u001b[1;33m\u001b[0m\u001b[1;33m\u001b[0m\u001b[0m\n\u001b[0;32m   1916\u001b[0m \u001b[1;33m\u001b[0m\u001b[0m\n\u001b[1;32m-> 1917\u001b[1;33m         \u001b[0mself\u001b[0m\u001b[1;33m.\u001b[0m\u001b[0m_reader\u001b[0m \u001b[1;33m=\u001b[0m \u001b[0mparsers\u001b[0m\u001b[1;33m.\u001b[0m\u001b[0mTextReader\u001b[0m\u001b[1;33m(\u001b[0m\u001b[0msrc\u001b[0m\u001b[1;33m,\u001b[0m \u001b[1;33m**\u001b[0m\u001b[0mkwds\u001b[0m\u001b[1;33m)\u001b[0m\u001b[1;33m\u001b[0m\u001b[1;33m\u001b[0m\u001b[0m\n\u001b[0m\u001b[0;32m   1918\u001b[0m         \u001b[0mself\u001b[0m\u001b[1;33m.\u001b[0m\u001b[0munnamed_cols\u001b[0m \u001b[1;33m=\u001b[0m \u001b[0mself\u001b[0m\u001b[1;33m.\u001b[0m\u001b[0m_reader\u001b[0m\u001b[1;33m.\u001b[0m\u001b[0munnamed_cols\u001b[0m\u001b[1;33m\u001b[0m\u001b[1;33m\u001b[0m\u001b[0m\n\u001b[0;32m   1919\u001b[0m \u001b[1;33m\u001b[0m\u001b[0m\n",
      "\u001b[1;32mpandas\\_libs\\parsers.pyx\u001b[0m in \u001b[0;36mpandas._libs.parsers.TextReader.__cinit__\u001b[1;34m()\u001b[0m\n",
      "\u001b[1;32mpandas\\_libs\\parsers.pyx\u001b[0m in \u001b[0;36mpandas._libs.parsers.TextReader._setup_parser_source\u001b[1;34m()\u001b[0m\n",
      "\u001b[1;31mFileNotFoundError\u001b[0m: [Errno 2] File b'../../data/Demographic.csv' does not exist: b'../../data/Demographic.csv'"
     ]
    }
   ],
   "source": [
    "import pandas as pd\n",
    "\n",
    "# Read csv file save it in dataframe\n",
    "demographic_covid_df = pd.read_csv(\"../../data/Demographic.csv\")\n",
    "\n",
    "# save dataframe to csv file and remove headers like \"DP_04M\"\n",
    "demographic_covid_df.to_csv('Demographic.csv', header=False, index=False)"
   ]
  },
  {
   "cell_type": "markdown",
   "metadata": {},
   "source": [
    "## Display Demographic Dataset"
   ]
  },
  {
   "cell_type": "code",
   "execution_count": null,
   "metadata": {},
   "outputs": [],
   "source": [
    "# Read csv file without header and save it in dataframe\n",
    "demographic_df = pd.read_csv(\"Demographic.csv\")\n",
    "demographic_df.head(2)"
   ]
  },
  {
   "cell_type": "markdown",
   "metadata": {},
   "source": [
    "# Drop unwanted columns"
   ]
  },
  {
   "cell_type": "code",
   "execution_count": null,
   "metadata": {},
   "outputs": [],
   "source": [
    "# Remove columns which shows margin of errors, percent estimate and percent margin of error \n",
    "\n",
    "demographic_df = demographic_df[demographic_df.columns.drop(list(demographic_df.filter(regex='Margin')))]\n",
    "demographic_df = demographic_df[demographic_df.columns.drop(list(demographic_df.filter(regex='Percent')))]"
   ]
  },
  {
   "cell_type": "markdown",
   "metadata": {},
   "source": [
    "## Split id and Geographica Area Name"
   ]
  },
  {
   "cell_type": "code",
   "execution_count": null,
   "metadata": {},
   "outputs": [],
   "source": [
    "#Select column \"id\" from Demographic_df, and choose a substring of each value in the column which contains county FIPS,\n",
    "#and append it to a list   \n",
    "\n",
    "county_FIPS_list = []\n",
    "for i in range(len(demographic_df[\"id\"])):\n",
    "    county_FIPS_list.append(demographic_df.loc[i,'id'][9:])\n",
    "    \n",
    "#Add the list as a new column to the Demographic_df     \n",
    "demographic_df[\"countyFIPS\"] = county_FIPS_list\n",
    "\n",
    "#Convert the type of countyFIPS from string to int\n",
    "demographic_df['countyFIPS'] = demographic_df['countyFIPS'].astype(int)\n"
   ]
  },
  {
   "cell_type": "code",
   "execution_count": null,
   "metadata": {},
   "outputs": [],
   "source": [
    "# Split geographical area name into county and state name\n",
    "\n",
    "demographic_df[['County Name','State']] = demographic_df[\"Geographic Area Name\"].str.split(\",\",expand=True) "
   ]
  },
  {
   "cell_type": "code",
   "execution_count": null,
   "metadata": {},
   "outputs": [],
   "source": [
    "demographic_df.head(2)"
   ]
  },
  {
   "cell_type": "markdown",
   "metadata": {},
   "source": [
    "## In order to calcute correlation, read the confirmed cases and death datasets, and calculate the total number of confirmed cases and death for each county, merge them with Demographic dataset"
   ]
  },
  {
   "cell_type": "code",
   "execution_count": null,
   "metadata": {},
   "outputs": [],
   "source": [
    "# Read csv confirmed cases file and save it in a dataframe\n",
    "confirmed_df = pd.read_csv(\"../../data/COVID-19 Dataset/confirmed.csv\")\n",
    "\n",
    "# Read csv death file and save it in a dataframe\n",
    "death_df = pd.read_csv(\"../../data/COVID-19 Dataset/deaths.csv\")"
   ]
  },
  {
   "cell_type": "code",
   "execution_count": null,
   "metadata": {},
   "outputs": [],
   "source": [
    "#sum up confirmed cases for each county\n",
    "confirmed_df['Confirmed Total']= confirmed_df.iloc[:, 4:].sum(axis=1)\n",
    "\n",
    "#sum up death for each county\n",
    "death_df['death Total']= death_df.iloc[:, 4:].sum(axis=1)"
   ]
  },
  {
   "cell_type": "code",
   "execution_count": null,
   "metadata": {},
   "outputs": [],
   "source": [
    "# define a new dataframe for confirmed cases which contains \"countyFIPS\", \"County Name\", \"Confirmed Total\"\n",
    "modified_confirmed_df = confirmed_df[[\"countyFIPS\", \"County Name\",\"State\", \"Confirmed Total\"]]\n",
    "\n",
    "# define a new dataframe for death cases which contains \"countyFIPS\", \"County Name\", \"death Total\"\n",
    "modified_death_df = death_df[[\"countyFIPS\", \"County Name\", \"State\",\"death Total\"]]"
   ]
  },
  {
   "cell_type": "code",
   "execution_count": null,
   "metadata": {},
   "outputs": [],
   "source": [
    "#merge modified dataframes based on \"countyFIPS\", \"County Name\"\n",
    "modified_confirmed_death_df = pd.merge(modified_confirmed_df,modified_death_df, on = [\"countyFIPS\", \"County Name\" ,\"State\"])\n",
    "\n",
    "modified_confirmed_death_df.head()"
   ]
  },
  {
   "cell_type": "markdown",
   "metadata": {},
   "source": [
    "## Merge modified_confirmed_death_df with demographic dataset and then calculate correlation of each column with total confirmed and total death of each county"
   ]
  },
  {
   "cell_type": "code",
   "execution_count": null,
   "metadata": {},
   "outputs": [],
   "source": [
    "# merge demographic df with modified_confirmed_death\n",
    "covid_demographic_ConfirmedDeath_df = pd.merge(modified_confirmed_death_df,demographic_df, on = [\"countyFIPS\"])\n",
    "covid_demographic_ConfirmedDeath_df"
   ]
  },
  {
   "cell_type": "code",
   "execution_count": null,
   "metadata": {},
   "outputs": [],
   "source": [
    "# define a list which contains column headers of covid_demographic_ConfirmedDeath_df\n",
    "columns = covid_demographic_ConfirmedDeath_df.columns\n",
    "columns_modified = columns[8:-2]\n"
   ]
  },
  {
   "cell_type": "code",
   "execution_count": null,
   "metadata": {},
   "outputs": [],
   "source": [
    "# calculate correlation for each column with total Confirmed cases and then append it to a list\n",
    "correlation_confirmed = []\n",
    "for i in range(len(columns_modified)-1):\n",
    "    corr = covid_demographic_ConfirmedDeath_df[\"Confirmed Total\"].corr(covid_demographic_ConfirmedDeath_df[columns_modified[i]])\n",
    "    correlation_confirmed.append([columns_modified[i], corr])\n",
    "\n",
    "#Sort the list \n",
    "correlation_confirmed = sorted(correlation_confirmed, key=lambda x: -x[1])\n",
    "correlation_confirmed[:15]"
   ]
  },
  {
   "cell_type": "code",
   "execution_count": null,
   "metadata": {},
   "outputs": [],
   "source": [
    "# calculate correlation for each column with total death and then append it to a list\n",
    "correlation_death = []\n",
    "for i in range(len(columns_modified)-1):\n",
    "    corr = covid_demographic_ConfirmedDeath_df[\"death Total\"].corr(covid_demographic_ConfirmedDeath_df[columns_modified[i]])\n",
    "    correlation_death.append([columns_modified[i], corr])\n",
    "    \n",
    "#Sort the list \n",
    "correlation_death = sorted(correlation_death, key=lambda x: -x[1])\n",
    "correlation_death[:15]"
   ]
  },
  {
   "cell_type": "markdown",
   "metadata": {},
   "source": [
    "## Choose important columns based on correlation values and define a new dataframe"
   ]
  },
  {
   "cell_type": "code",
   "execution_count": null,
   "metadata": {},
   "outputs": [],
   "source": [
    "# sum up \"under 5\" and \"5 to 9\"\n",
    "demographic_df[\"Estimate!!SEX AND AGE!!Total population!!Under 10 years\"]= demographic_df.iloc[:, 64:66].sum(axis=1)\n",
    "\n",
    "# sum up \"10 to 14\" and \"15 to 19\"\n",
    "demographic_df[\"Estimate!!SEX AND AGE!!Total population!!10 to 19 years\"] = demographic_df.iloc[:, 66:68].sum(axis=1)\n",
    "\n",
    "# sum up \"20 to 24\" and \"25 to 34\"\n",
    "demographic_df[\"Estimate!!SEX AND AGE!!Total population!!20 to 34 years\"] = demographic_df.iloc[:, 68:70].sum(axis=1)\n",
    "\n",
    "# sum up \"55 to 59\" and \"60 to 64\"\n",
    "demographic_df[\"Estimate!!SEX AND AGE!!Total population!!55 to 64 years\"] = demographic_df.iloc[:, 72:74].sum(axis=1)"
   ]
  },
  {
   "cell_type": "code",
   "execution_count": null,
   "metadata": {},
   "outputs": [],
   "source": [
    "demographic_df.head(2)"
   ]
  },
  {
   "cell_type": "code",
   "execution_count": null,
   "metadata": {},
   "outputs": [],
   "source": [
    "demographic_df_final = demographic_df[[\"countyFIPS\", \"Estimate!!SEX AND AGE!!Total population!!Under 10 years\",\n",
    "                                     \"Estimate!!SEX AND AGE!!Total population!!10 to 19 years\", \"Estimate!!SEX AND AGE!!Total population!!20 to 34 years\",\n",
    "                                     \"Estimate!!SEX AND AGE!!Total population!!35 to 44 years\", \"Estimate!!SEX AND AGE!!Total population!!45 to 54 years\",\n",
    "                                     \"Estimate!!SEX AND AGE!!Total population!!55 to 64 years\", \"Estimate!!SEX AND AGE!!Total population!!65 to 74 years\",\n",
    "                                     \"Estimate!!SEX AND AGE!!Total population!!75 to 84 years\", \"Estimate!!SEX AND AGE!!Total population!!85 years and over\",\n",
    "                                     \"Estimate!!SEX AND AGE!!Total population!!65 years and over!!Female\", \"Estimate!!SEX AND AGE!!Total population!!65 years and over!!Male\",\n",
    "                                     \"Estimate!!SEX AND AGE!!Total population!!Female\",\"Estimate!!SEX AND AGE!!Total population!!Male\",\n",
    "                                      \"Estimate!!RACE!!Total population!!One race!!White\",\"Estimate!!RACE!!Total population!!One race!!Black or African American\",\n",
    "                                     \"Estimate!!HISPANIC OR LATINO AND RACE!!Total population\", \"Estimate!!RACE!!Total population!!One race!!Asian\"]]"
   ]
  },
  {
   "cell_type": "code",
   "execution_count": null,
   "metadata": {},
   "outputs": [],
   "source": [
    "demographic_df_final"
   ]
  },
  {
   "cell_type": "markdown",
   "metadata": {},
   "source": [
    "## Read the main covid dataset and merge it with demographic_df_final"
   ]
  },
  {
   "cell_type": "code",
   "execution_count": null,
   "metadata": {},
   "outputs": [],
   "source": [
    "#read the covid dataset\n",
    "covid_df = pd.read_csv(\"../../data/output/covid.csv\")"
   ]
  },
  {
   "cell_type": "code",
   "execution_count": null,
   "metadata": {},
   "outputs": [],
   "source": [
    "#merge covid_df with demographic_df_final \n",
    "covid_demoghraphic_df = pd.merge(covid_df,demographic_df_final, on = \"countyFIPS\", how = \"left\")\n",
    "covid_demoghraphic_df = covid_demoghraphic_df.drop([\"Unnamed: 0\"], axis = 1)\n",
    "\n",
    "#display final dataframe\n",
    "covid_demoghraphic_df.head()"
   ]
  },
  {
   "cell_type": "code",
   "execution_count": null,
   "metadata": {},
   "outputs": [],
   "source": [
    "# save the final datafram in csv file\n",
    "covid_demoghraphic_df.to_csv(\"../../data/output/COVID19_DEMOGRAPHIC_MERGE.csv\",index=False)"
   ]
  },
  {
   "cell_type": "code",
   "execution_count": null,
   "metadata": {},
   "outputs": [],
   "source": []
  }
 ],
 "metadata": {
  "kernelspec": {
   "display_name": "Python 3",
   "language": "python",
   "name": "python3"
  },
  "language_info": {
   "codemirror_mode": {
    "name": "ipython",
    "version": 3
   },
   "file_extension": ".py",
   "mimetype": "text/x-python",
   "name": "python",
   "nbconvert_exporter": "python",
   "pygments_lexer": "ipython3",
   "version": "3.7.4"
  }
 },
 "nbformat": 4,
 "nbformat_minor": 2
}
