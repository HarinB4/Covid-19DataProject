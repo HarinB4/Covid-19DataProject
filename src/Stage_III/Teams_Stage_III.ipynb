{
 "cells": [
  {
   "cell_type": "markdown",
   "metadata": {},
   "source": [
    "# Project Stage - III (Basic Machine Learning)"
   ]
  },
  {
   "cell_type": "markdown",
   "metadata": {},
   "source": [
    "### Import essential libraries"
   ]
  },
  {
   "cell_type": "code",
   "execution_count": 1,
   "metadata": {},
   "outputs": [],
   "source": [
    "import os\n",
    "# Science libraries\n",
    "import pandas as pd\n",
    "import numpy as np\n",
    "# Ploting\n",
    "import matplotlib.pyplot as plt\n",
    "import plotly.express as px\n",
    "import plotly.graph_objs as go\n",
    "# Machine learning\n",
    "from sklearn.linear_model import LinearRegression"
   ]
  },
  {
   "cell_type": "code",
   "execution_count": 2,
   "metadata": {},
   "outputs": [],
   "source": [
    "# Create folder to hold the graphs\n",
    "if not os.path.exists(\"images\"):\n",
    "    os.mkdir(\"images\")"
   ]
  },
  {
   "cell_type": "markdown",
   "metadata": {},
   "source": [
    "### Read and Filtter Dataset"
   ]
  },
  {
   "cell_type": "markdown",
   "metadata": {},
   "source": [
    "#### Read dataset"
   ]
  },
  {
   "cell_type": "code",
   "execution_count": 3,
   "metadata": {},
   "outputs": [],
   "source": [
    "# Read super Covid-19 dataframe with state as index. \n",
    "covid = pd.read_csv(\"../../data/output/covid.csv\", index_col=0)"
   ]
  },
  {
   "cell_type": "markdown",
   "metadata": {},
   "source": [
    "#### Clean the dataset.\n",
    "remove unnessasery columns or rows."
   ]
  },
  {
   "cell_type": "code",
   "execution_count": 4,
   "metadata": {},
   "outputs": [],
   "source": [
    "# Drop unneccesary variables in Super covid-19 dataframe. \n",
    "covid.drop([\"countyFIPS\",\"stateFIPS\"], axis=1, inplace=True)\n",
    "\n",
    "# Drop unneccesary rows in Super COVID-19 dataframe.\n",
    "covid.drop(\n",
    "    covid.loc[covid['County Name'] == (\"Statewide Unallocated\" or 'New York City Unallocated')].index,\n",
    "    inplace=True)\n",
    "\n",
    "# Reset indexes after removing rows\n",
    "covid.reset_index(drop=True, inplace=True)"
   ]
  },
  {
   "cell_type": "markdown",
   "metadata": {},
   "source": [
    "#### Splite super covid dataset\n",
    "Create dataframe that hold covid death and dataframe that hold covid cases."
   ]
  },
  {
   "cell_type": "code",
   "execution_count": 5,
   "metadata": {},
   "outputs": [],
   "source": [
    "# Regalare expression that will help filltering the data.\n",
    "regex_cases = '(^[0-9]+[/]+[0-9]+[/]+[0-9]+[_]+[x])|^County Name$|^State$|^population$'\n",
    "regex_deaths = '(^[0-9]+[/]+[0-9]+[/]+[0-9]+[_]+[y])|^County Name$|^State$|^population$'\n",
    "\n",
    "cases = covid.filter(regex=regex_cases)\n",
    "deaths = covid.filter(regex=regex_deaths)"
   ]
  },
  {
   "cell_type": "markdown",
   "metadata": {},
   "source": [
    "Save the first three columns temprary so that we fix:\n",
    "1. the date syntax.\n",
    "2. Find the new cases/deaths"
   ]
  },
  {
   "cell_type": "code",
   "execution_count": 6,
   "metadata": {},
   "outputs": [],
   "source": [
    "# Split the data: first three columns\n",
    "covid_columns = covid[covid.columns[:3]]\n",
    "\n",
    "# Split the data: fourth to the end columns\n",
    "cases_data = cases[cases.columns[3:]]\n",
    "deaths_data = deaths[deaths.columns[3:]]"
   ]
  },
  {
   "cell_type": "markdown",
   "metadata": {},
   "source": [
    "#### Convert date type from String to Timestamp"
   ]
  },
  {
   "cell_type": "code",
   "execution_count": 7,
   "metadata": {},
   "outputs": [],
   "source": [
    "# Fixing date string syntax\n",
    "daily_cases = cases_data.rename(\n",
    "    columns=lambda x: (pd.to_datetime((x.split('_')[0]), errors='ignore')),\n",
    "    errors='raise')\n",
    "daily_deaths = deaths_data.rename(\n",
    "    columns=lambda x: (pd.to_datetime((x.split('_')[0]), errors='ignore')),\n",
    "    errors='raise')"
   ]
  },
  {
   "cell_type": "code",
   "execution_count": 8,
   "metadata": {},
   "outputs": [
    {
     "data": {
      "text/html": [
       "<div>\n",
       "<style scoped>\n",
       "    .dataframe tbody tr th:only-of-type {\n",
       "        vertical-align: middle;\n",
       "    }\n",
       "\n",
       "    .dataframe tbody tr th {\n",
       "        vertical-align: top;\n",
       "    }\n",
       "\n",
       "    .dataframe thead th {\n",
       "        text-align: right;\n",
       "    }\n",
       "</style>\n",
       "<table border=\"1\" class=\"dataframe\">\n",
       "  <thead>\n",
       "    <tr style=\"text-align: right;\">\n",
       "      <th></th>\n",
       "      <th>2020-01-22</th>\n",
       "      <th>2020-01-23</th>\n",
       "      <th>2020-01-24</th>\n",
       "      <th>2020-01-25</th>\n",
       "      <th>2020-01-26</th>\n",
       "      <th>2020-01-27</th>\n",
       "      <th>2020-01-28</th>\n",
       "      <th>2020-01-29</th>\n",
       "      <th>2020-01-30</th>\n",
       "      <th>2020-01-31</th>\n",
       "      <th>...</th>\n",
       "      <th>2020-10-07</th>\n",
       "      <th>2020-10-08</th>\n",
       "      <th>2020-10-09</th>\n",
       "      <th>2020-10-10</th>\n",
       "      <th>2020-10-11</th>\n",
       "      <th>2020-10-12</th>\n",
       "      <th>2020-10-13</th>\n",
       "      <th>2020-10-14</th>\n",
       "      <th>2020-10-15</th>\n",
       "      <th>2020-10-16</th>\n",
       "    </tr>\n",
       "  </thead>\n",
       "  <tbody>\n",
       "    <tr>\n",
       "      <th>0</th>\n",
       "      <td>0</td>\n",
       "      <td>0</td>\n",
       "      <td>0</td>\n",
       "      <td>0</td>\n",
       "      <td>0</td>\n",
       "      <td>0</td>\n",
       "      <td>0</td>\n",
       "      <td>0</td>\n",
       "      <td>0</td>\n",
       "      <td>0</td>\n",
       "      <td>...</td>\n",
       "      <td>1852</td>\n",
       "      <td>1863</td>\n",
       "      <td>1882</td>\n",
       "      <td>1898</td>\n",
       "      <td>1905</td>\n",
       "      <td>1911</td>\n",
       "      <td>1924</td>\n",
       "      <td>1928</td>\n",
       "      <td>1949</td>\n",
       "      <td>1966</td>\n",
       "    </tr>\n",
       "    <tr>\n",
       "      <th>1</th>\n",
       "      <td>0</td>\n",
       "      <td>0</td>\n",
       "      <td>0</td>\n",
       "      <td>0</td>\n",
       "      <td>0</td>\n",
       "      <td>0</td>\n",
       "      <td>0</td>\n",
       "      <td>0</td>\n",
       "      <td>0</td>\n",
       "      <td>0</td>\n",
       "      <td>...</td>\n",
       "      <td>6134</td>\n",
       "      <td>6141</td>\n",
       "      <td>6172</td>\n",
       "      <td>6190</td>\n",
       "      <td>6203</td>\n",
       "      <td>6220</td>\n",
       "      <td>6248</td>\n",
       "      <td>6270</td>\n",
       "      <td>6285</td>\n",
       "      <td>6333</td>\n",
       "    </tr>\n",
       "    <tr>\n",
       "      <th>2</th>\n",
       "      <td>0</td>\n",
       "      <td>0</td>\n",
       "      <td>0</td>\n",
       "      <td>0</td>\n",
       "      <td>0</td>\n",
       "      <td>0</td>\n",
       "      <td>0</td>\n",
       "      <td>0</td>\n",
       "      <td>0</td>\n",
       "      <td>0</td>\n",
       "      <td>...</td>\n",
       "      <td>927</td>\n",
       "      <td>927</td>\n",
       "      <td>939</td>\n",
       "      <td>942</td>\n",
       "      <td>942</td>\n",
       "      <td>944</td>\n",
       "      <td>950</td>\n",
       "      <td>950</td>\n",
       "      <td>965</td>\n",
       "      <td>968</td>\n",
       "    </tr>\n",
       "    <tr>\n",
       "      <th>3</th>\n",
       "      <td>0</td>\n",
       "      <td>0</td>\n",
       "      <td>0</td>\n",
       "      <td>0</td>\n",
       "      <td>0</td>\n",
       "      <td>0</td>\n",
       "      <td>0</td>\n",
       "      <td>0</td>\n",
       "      <td>0</td>\n",
       "      <td>0</td>\n",
       "      <td>...</td>\n",
       "      <td>703</td>\n",
       "      <td>708</td>\n",
       "      <td>719</td>\n",
       "      <td>726</td>\n",
       "      <td>736</td>\n",
       "      <td>738</td>\n",
       "      <td>744</td>\n",
       "      <td>744</td>\n",
       "      <td>761</td>\n",
       "      <td>771</td>\n",
       "    </tr>\n",
       "    <tr>\n",
       "      <th>4</th>\n",
       "      <td>0</td>\n",
       "      <td>0</td>\n",
       "      <td>0</td>\n",
       "      <td>0</td>\n",
       "      <td>0</td>\n",
       "      <td>0</td>\n",
       "      <td>0</td>\n",
       "      <td>0</td>\n",
       "      <td>0</td>\n",
       "      <td>0</td>\n",
       "      <td>...</td>\n",
       "      <td>1673</td>\n",
       "      <td>1681</td>\n",
       "      <td>1689</td>\n",
       "      <td>1704</td>\n",
       "      <td>1713</td>\n",
       "      <td>1722</td>\n",
       "      <td>1742</td>\n",
       "      <td>1750</td>\n",
       "      <td>1768</td>\n",
       "      <td>1783</td>\n",
       "    </tr>\n",
       "    <tr>\n",
       "      <th>...</th>\n",
       "      <td>...</td>\n",
       "      <td>...</td>\n",
       "      <td>...</td>\n",
       "      <td>...</td>\n",
       "      <td>...</td>\n",
       "      <td>...</td>\n",
       "      <td>...</td>\n",
       "      <td>...</td>\n",
       "      <td>...</td>\n",
       "      <td>...</td>\n",
       "      <td>...</td>\n",
       "      <td>...</td>\n",
       "      <td>...</td>\n",
       "      <td>...</td>\n",
       "      <td>...</td>\n",
       "      <td>...</td>\n",
       "      <td>...</td>\n",
       "      <td>...</td>\n",
       "      <td>...</td>\n",
       "      <td>...</td>\n",
       "      <td>...</td>\n",
       "    </tr>\n",
       "    <tr>\n",
       "      <th>3140</th>\n",
       "      <td>0</td>\n",
       "      <td>0</td>\n",
       "      <td>0</td>\n",
       "      <td>0</td>\n",
       "      <td>0</td>\n",
       "      <td>0</td>\n",
       "      <td>0</td>\n",
       "      <td>0</td>\n",
       "      <td>0</td>\n",
       "      <td>0</td>\n",
       "      <td>...</td>\n",
       "      <td>378</td>\n",
       "      <td>382</td>\n",
       "      <td>393</td>\n",
       "      <td>394</td>\n",
       "      <td>394</td>\n",
       "      <td>394</td>\n",
       "      <td>401</td>\n",
       "      <td>402</td>\n",
       "      <td>406</td>\n",
       "      <td>410</td>\n",
       "    </tr>\n",
       "    <tr>\n",
       "      <th>3141</th>\n",
       "      <td>0</td>\n",
       "      <td>0</td>\n",
       "      <td>0</td>\n",
       "      <td>0</td>\n",
       "      <td>0</td>\n",
       "      <td>0</td>\n",
       "      <td>0</td>\n",
       "      <td>0</td>\n",
       "      <td>0</td>\n",
       "      <td>0</td>\n",
       "      <td>...</td>\n",
       "      <td>633</td>\n",
       "      <td>645</td>\n",
       "      <td>656</td>\n",
       "      <td>658</td>\n",
       "      <td>662</td>\n",
       "      <td>675</td>\n",
       "      <td>679</td>\n",
       "      <td>686</td>\n",
       "      <td>687</td>\n",
       "      <td>692</td>\n",
       "    </tr>\n",
       "    <tr>\n",
       "      <th>3142</th>\n",
       "      <td>0</td>\n",
       "      <td>0</td>\n",
       "      <td>0</td>\n",
       "      <td>0</td>\n",
       "      <td>0</td>\n",
       "      <td>0</td>\n",
       "      <td>0</td>\n",
       "      <td>0</td>\n",
       "      <td>0</td>\n",
       "      <td>0</td>\n",
       "      <td>...</td>\n",
       "      <td>368</td>\n",
       "      <td>373</td>\n",
       "      <td>378</td>\n",
       "      <td>379</td>\n",
       "      <td>380</td>\n",
       "      <td>381</td>\n",
       "      <td>384</td>\n",
       "      <td>385</td>\n",
       "      <td>388</td>\n",
       "      <td>392</td>\n",
       "    </tr>\n",
       "    <tr>\n",
       "      <th>3143</th>\n",
       "      <td>0</td>\n",
       "      <td>0</td>\n",
       "      <td>0</td>\n",
       "      <td>0</td>\n",
       "      <td>0</td>\n",
       "      <td>0</td>\n",
       "      <td>0</td>\n",
       "      <td>0</td>\n",
       "      <td>0</td>\n",
       "      <td>0</td>\n",
       "      <td>...</td>\n",
       "      <td>119</td>\n",
       "      <td>123</td>\n",
       "      <td>123</td>\n",
       "      <td>124</td>\n",
       "      <td>125</td>\n",
       "      <td>126</td>\n",
       "      <td>127</td>\n",
       "      <td>132</td>\n",
       "      <td>132</td>\n",
       "      <td>133</td>\n",
       "    </tr>\n",
       "    <tr>\n",
       "      <th>3144</th>\n",
       "      <td>0</td>\n",
       "      <td>0</td>\n",
       "      <td>0</td>\n",
       "      <td>0</td>\n",
       "      <td>0</td>\n",
       "      <td>0</td>\n",
       "      <td>0</td>\n",
       "      <td>0</td>\n",
       "      <td>0</td>\n",
       "      <td>0</td>\n",
       "      <td>...</td>\n",
       "      <td>50</td>\n",
       "      <td>51</td>\n",
       "      <td>54</td>\n",
       "      <td>58</td>\n",
       "      <td>58</td>\n",
       "      <td>58</td>\n",
       "      <td>62</td>\n",
       "      <td>66</td>\n",
       "      <td>71</td>\n",
       "      <td>81</td>\n",
       "    </tr>\n",
       "  </tbody>\n",
       "</table>\n",
       "<p>3145 rows × 269 columns</p>\n",
       "</div>"
      ],
      "text/plain": [
       "      2020-01-22  2020-01-23  2020-01-24  2020-01-25  2020-01-26  2020-01-27  \\\n",
       "0              0           0           0           0           0           0   \n",
       "1              0           0           0           0           0           0   \n",
       "2              0           0           0           0           0           0   \n",
       "3              0           0           0           0           0           0   \n",
       "4              0           0           0           0           0           0   \n",
       "...          ...         ...         ...         ...         ...         ...   \n",
       "3140           0           0           0           0           0           0   \n",
       "3141           0           0           0           0           0           0   \n",
       "3142           0           0           0           0           0           0   \n",
       "3143           0           0           0           0           0           0   \n",
       "3144           0           0           0           0           0           0   \n",
       "\n",
       "      2020-01-28  2020-01-29  2020-01-30  2020-01-31  ...  2020-10-07  \\\n",
       "0              0           0           0           0  ...        1852   \n",
       "1              0           0           0           0  ...        6134   \n",
       "2              0           0           0           0  ...         927   \n",
       "3              0           0           0           0  ...         703   \n",
       "4              0           0           0           0  ...        1673   \n",
       "...          ...         ...         ...         ...  ...         ...   \n",
       "3140           0           0           0           0  ...         378   \n",
       "3141           0           0           0           0  ...         633   \n",
       "3142           0           0           0           0  ...         368   \n",
       "3143           0           0           0           0  ...         119   \n",
       "3144           0           0           0           0  ...          50   \n",
       "\n",
       "      2020-10-08  2020-10-09  2020-10-10  2020-10-11  2020-10-12  2020-10-13  \\\n",
       "0           1863        1882        1898        1905        1911        1924   \n",
       "1           6141        6172        6190        6203        6220        6248   \n",
       "2            927         939         942         942         944         950   \n",
       "3            708         719         726         736         738         744   \n",
       "4           1681        1689        1704        1713        1722        1742   \n",
       "...          ...         ...         ...         ...         ...         ...   \n",
       "3140         382         393         394         394         394         401   \n",
       "3141         645         656         658         662         675         679   \n",
       "3142         373         378         379         380         381         384   \n",
       "3143         123         123         124         125         126         127   \n",
       "3144          51          54          58          58          58          62   \n",
       "\n",
       "      2020-10-14  2020-10-15  2020-10-16  \n",
       "0           1928        1949        1966  \n",
       "1           6270        6285        6333  \n",
       "2            950         965         968  \n",
       "3            744         761         771  \n",
       "4           1750        1768        1783  \n",
       "...          ...         ...         ...  \n",
       "3140         402         406         410  \n",
       "3141         686         687         692  \n",
       "3142         385         388         392  \n",
       "3143         132         132         133  \n",
       "3144          66          71          81  \n",
       "\n",
       "[3145 rows x 269 columns]"
      ]
     },
     "execution_count": 8,
     "metadata": {},
     "output_type": "execute_result"
    }
   ],
   "source": [
    "daily_cases"
   ]
  },
  {
   "cell_type": "markdown",
   "metadata": {},
   "source": [
    "#### Find the daily new cases/death.\n",
    "Calculate the diffrence between the current day and the day before it. The results is the new cases."
   ]
  },
  {
   "cell_type": "code",
   "execution_count": 9,
   "metadata": {},
   "outputs": [],
   "source": [
    "daily_cases = daily_cases.diff(axis=1).fillna(0)\n",
    "daily_deaths = daily_deaths.diff(axis=1).fillna(0)"
   ]
  },
  {
   "cell_type": "markdown",
   "metadata": {},
   "source": [
    "#### Merge the popolation, states and county names to the daily cases/deaths"
   ]
  },
  {
   "cell_type": "code",
   "execution_count": 10,
   "metadata": {},
   "outputs": [],
   "source": [
    "new_cases = covid_columns.merge(daily_cases, left_index=True, right_index=True)\n",
    "new_deaths = covid_columns.merge(daily_deaths, left_index=True, right_index=True)"
   ]
  },
  {
   "cell_type": "code",
   "execution_count": 11,
   "metadata": {},
   "outputs": [
    {
     "data": {
      "text/html": [
       "<div>\n",
       "<style scoped>\n",
       "    .dataframe tbody tr th:only-of-type {\n",
       "        vertical-align: middle;\n",
       "    }\n",
       "\n",
       "    .dataframe tbody tr th {\n",
       "        vertical-align: top;\n",
       "    }\n",
       "\n",
       "    .dataframe thead th {\n",
       "        text-align: right;\n",
       "    }\n",
       "</style>\n",
       "<table border=\"1\" class=\"dataframe\">\n",
       "  <thead>\n",
       "    <tr style=\"text-align: right;\">\n",
       "      <th></th>\n",
       "      <th>County Name</th>\n",
       "      <th>State</th>\n",
       "      <th>population</th>\n",
       "      <th>2020-01-22 00:00:00</th>\n",
       "      <th>2020-01-23 00:00:00</th>\n",
       "      <th>2020-01-24 00:00:00</th>\n",
       "      <th>2020-01-25 00:00:00</th>\n",
       "      <th>2020-01-26 00:00:00</th>\n",
       "      <th>2020-01-27 00:00:00</th>\n",
       "      <th>2020-01-28 00:00:00</th>\n",
       "      <th>...</th>\n",
       "      <th>2020-10-07 00:00:00</th>\n",
       "      <th>2020-10-08 00:00:00</th>\n",
       "      <th>2020-10-09 00:00:00</th>\n",
       "      <th>2020-10-10 00:00:00</th>\n",
       "      <th>2020-10-11 00:00:00</th>\n",
       "      <th>2020-10-12 00:00:00</th>\n",
       "      <th>2020-10-13 00:00:00</th>\n",
       "      <th>2020-10-14 00:00:00</th>\n",
       "      <th>2020-10-15 00:00:00</th>\n",
       "      <th>2020-10-16 00:00:00</th>\n",
       "    </tr>\n",
       "  </thead>\n",
       "  <tbody>\n",
       "    <tr>\n",
       "      <th>0</th>\n",
       "      <td>Autauga County</td>\n",
       "      <td>AL</td>\n",
       "      <td>55869</td>\n",
       "      <td>0.0</td>\n",
       "      <td>0.0</td>\n",
       "      <td>0.0</td>\n",
       "      <td>0.0</td>\n",
       "      <td>0.0</td>\n",
       "      <td>0.0</td>\n",
       "      <td>0.0</td>\n",
       "      <td>...</td>\n",
       "      <td>13.0</td>\n",
       "      <td>11.0</td>\n",
       "      <td>19.0</td>\n",
       "      <td>16.0</td>\n",
       "      <td>7.0</td>\n",
       "      <td>6.0</td>\n",
       "      <td>13.0</td>\n",
       "      <td>4.0</td>\n",
       "      <td>21.0</td>\n",
       "      <td>17.0</td>\n",
       "    </tr>\n",
       "    <tr>\n",
       "      <th>1</th>\n",
       "      <td>Baldwin County</td>\n",
       "      <td>AL</td>\n",
       "      <td>223234</td>\n",
       "      <td>0.0</td>\n",
       "      <td>0.0</td>\n",
       "      <td>0.0</td>\n",
       "      <td>0.0</td>\n",
       "      <td>0.0</td>\n",
       "      <td>0.0</td>\n",
       "      <td>0.0</td>\n",
       "      <td>...</td>\n",
       "      <td>18.0</td>\n",
       "      <td>7.0</td>\n",
       "      <td>31.0</td>\n",
       "      <td>18.0</td>\n",
       "      <td>13.0</td>\n",
       "      <td>17.0</td>\n",
       "      <td>28.0</td>\n",
       "      <td>22.0</td>\n",
       "      <td>15.0</td>\n",
       "      <td>48.0</td>\n",
       "    </tr>\n",
       "    <tr>\n",
       "      <th>2</th>\n",
       "      <td>Barbour County</td>\n",
       "      <td>AL</td>\n",
       "      <td>24686</td>\n",
       "      <td>0.0</td>\n",
       "      <td>0.0</td>\n",
       "      <td>0.0</td>\n",
       "      <td>0.0</td>\n",
       "      <td>0.0</td>\n",
       "      <td>0.0</td>\n",
       "      <td>0.0</td>\n",
       "      <td>...</td>\n",
       "      <td>4.0</td>\n",
       "      <td>0.0</td>\n",
       "      <td>12.0</td>\n",
       "      <td>3.0</td>\n",
       "      <td>0.0</td>\n",
       "      <td>2.0</td>\n",
       "      <td>6.0</td>\n",
       "      <td>0.0</td>\n",
       "      <td>15.0</td>\n",
       "      <td>3.0</td>\n",
       "    </tr>\n",
       "    <tr>\n",
       "      <th>3</th>\n",
       "      <td>Bibb County</td>\n",
       "      <td>AL</td>\n",
       "      <td>22394</td>\n",
       "      <td>0.0</td>\n",
       "      <td>0.0</td>\n",
       "      <td>0.0</td>\n",
       "      <td>0.0</td>\n",
       "      <td>0.0</td>\n",
       "      <td>0.0</td>\n",
       "      <td>0.0</td>\n",
       "      <td>...</td>\n",
       "      <td>12.0</td>\n",
       "      <td>5.0</td>\n",
       "      <td>11.0</td>\n",
       "      <td>7.0</td>\n",
       "      <td>10.0</td>\n",
       "      <td>2.0</td>\n",
       "      <td>6.0</td>\n",
       "      <td>0.0</td>\n",
       "      <td>17.0</td>\n",
       "      <td>10.0</td>\n",
       "    </tr>\n",
       "    <tr>\n",
       "      <th>4</th>\n",
       "      <td>Blount County</td>\n",
       "      <td>AL</td>\n",
       "      <td>57826</td>\n",
       "      <td>0.0</td>\n",
       "      <td>0.0</td>\n",
       "      <td>0.0</td>\n",
       "      <td>0.0</td>\n",
       "      <td>0.0</td>\n",
       "      <td>0.0</td>\n",
       "      <td>0.0</td>\n",
       "      <td>...</td>\n",
       "      <td>8.0</td>\n",
       "      <td>8.0</td>\n",
       "      <td>8.0</td>\n",
       "      <td>15.0</td>\n",
       "      <td>9.0</td>\n",
       "      <td>9.0</td>\n",
       "      <td>20.0</td>\n",
       "      <td>8.0</td>\n",
       "      <td>18.0</td>\n",
       "      <td>15.0</td>\n",
       "    </tr>\n",
       "  </tbody>\n",
       "</table>\n",
       "<p>5 rows × 272 columns</p>\n",
       "</div>"
      ],
      "text/plain": [
       "      County Name State  population  2020-01-22 00:00:00  2020-01-23 00:00:00  \\\n",
       "0  Autauga County    AL       55869                  0.0                  0.0   \n",
       "1  Baldwin County    AL      223234                  0.0                  0.0   \n",
       "2  Barbour County    AL       24686                  0.0                  0.0   \n",
       "3     Bibb County    AL       22394                  0.0                  0.0   \n",
       "4   Blount County    AL       57826                  0.0                  0.0   \n",
       "\n",
       "   2020-01-24 00:00:00  2020-01-25 00:00:00  2020-01-26 00:00:00  \\\n",
       "0                  0.0                  0.0                  0.0   \n",
       "1                  0.0                  0.0                  0.0   \n",
       "2                  0.0                  0.0                  0.0   \n",
       "3                  0.0                  0.0                  0.0   \n",
       "4                  0.0                  0.0                  0.0   \n",
       "\n",
       "   2020-01-27 00:00:00  2020-01-28 00:00:00  ...  2020-10-07 00:00:00  \\\n",
       "0                  0.0                  0.0  ...                 13.0   \n",
       "1                  0.0                  0.0  ...                 18.0   \n",
       "2                  0.0                  0.0  ...                  4.0   \n",
       "3                  0.0                  0.0  ...                 12.0   \n",
       "4                  0.0                  0.0  ...                  8.0   \n",
       "\n",
       "   2020-10-08 00:00:00  2020-10-09 00:00:00  2020-10-10 00:00:00  \\\n",
       "0                 11.0                 19.0                 16.0   \n",
       "1                  7.0                 31.0                 18.0   \n",
       "2                  0.0                 12.0                  3.0   \n",
       "3                  5.0                 11.0                  7.0   \n",
       "4                  8.0                  8.0                 15.0   \n",
       "\n",
       "   2020-10-11 00:00:00  2020-10-12 00:00:00  2020-10-13 00:00:00  \\\n",
       "0                  7.0                  6.0                 13.0   \n",
       "1                 13.0                 17.0                 28.0   \n",
       "2                  0.0                  2.0                  6.0   \n",
       "3                 10.0                  2.0                  6.0   \n",
       "4                  9.0                  9.0                 20.0   \n",
       "\n",
       "   2020-10-14 00:00:00  2020-10-15 00:00:00  2020-10-16 00:00:00  \n",
       "0                  4.0                 21.0                 17.0  \n",
       "1                 22.0                 15.0                 48.0  \n",
       "2                  0.0                 15.0                  3.0  \n",
       "3                  0.0                 17.0                 10.0  \n",
       "4                  8.0                 18.0                 15.0  \n",
       "\n",
       "[5 rows x 272 columns]"
      ]
     },
     "execution_count": 11,
     "metadata": {},
     "output_type": "execute_result"
    }
   ],
   "source": [
    "new_cases.head()"
   ]
  },
  {
   "cell_type": "code",
   "execution_count": 12,
   "metadata": {},
   "outputs": [
    {
     "data": {
      "text/html": [
       "<div>\n",
       "<style scoped>\n",
       "    .dataframe tbody tr th:only-of-type {\n",
       "        vertical-align: middle;\n",
       "    }\n",
       "\n",
       "    .dataframe tbody tr th {\n",
       "        vertical-align: top;\n",
       "    }\n",
       "\n",
       "    .dataframe thead th {\n",
       "        text-align: right;\n",
       "    }\n",
       "</style>\n",
       "<table border=\"1\" class=\"dataframe\">\n",
       "  <thead>\n",
       "    <tr style=\"text-align: right;\">\n",
       "      <th></th>\n",
       "      <th>County Name</th>\n",
       "      <th>State</th>\n",
       "      <th>population</th>\n",
       "      <th>2020-01-22 00:00:00</th>\n",
       "      <th>2020-01-23 00:00:00</th>\n",
       "      <th>2020-01-24 00:00:00</th>\n",
       "      <th>2020-01-25 00:00:00</th>\n",
       "      <th>2020-01-26 00:00:00</th>\n",
       "      <th>2020-01-27 00:00:00</th>\n",
       "      <th>2020-01-28 00:00:00</th>\n",
       "      <th>...</th>\n",
       "      <th>2020-10-07 00:00:00</th>\n",
       "      <th>2020-10-08 00:00:00</th>\n",
       "      <th>2020-10-09 00:00:00</th>\n",
       "      <th>2020-10-10 00:00:00</th>\n",
       "      <th>2020-10-11 00:00:00</th>\n",
       "      <th>2020-10-12 00:00:00</th>\n",
       "      <th>2020-10-13 00:00:00</th>\n",
       "      <th>2020-10-14 00:00:00</th>\n",
       "      <th>2020-10-15 00:00:00</th>\n",
       "      <th>2020-10-16 00:00:00</th>\n",
       "    </tr>\n",
       "  </thead>\n",
       "  <tbody>\n",
       "    <tr>\n",
       "      <th>0</th>\n",
       "      <td>Autauga County</td>\n",
       "      <td>AL</td>\n",
       "      <td>55869</td>\n",
       "      <td>0.0</td>\n",
       "      <td>0.0</td>\n",
       "      <td>0.0</td>\n",
       "      <td>0.0</td>\n",
       "      <td>0.0</td>\n",
       "      <td>0.0</td>\n",
       "      <td>0.0</td>\n",
       "      <td>...</td>\n",
       "      <td>0.0</td>\n",
       "      <td>1.0</td>\n",
       "      <td>0.0</td>\n",
       "      <td>0.0</td>\n",
       "      <td>0.0</td>\n",
       "      <td>0.0</td>\n",
       "      <td>0.0</td>\n",
       "      <td>0.0</td>\n",
       "      <td>0.0</td>\n",
       "      <td>0.0</td>\n",
       "    </tr>\n",
       "    <tr>\n",
       "      <th>1</th>\n",
       "      <td>Baldwin County</td>\n",
       "      <td>AL</td>\n",
       "      <td>223234</td>\n",
       "      <td>0.0</td>\n",
       "      <td>0.0</td>\n",
       "      <td>0.0</td>\n",
       "      <td>0.0</td>\n",
       "      <td>0.0</td>\n",
       "      <td>0.0</td>\n",
       "      <td>0.0</td>\n",
       "      <td>...</td>\n",
       "      <td>1.0</td>\n",
       "      <td>8.0</td>\n",
       "      <td>0.0</td>\n",
       "      <td>1.0</td>\n",
       "      <td>0.0</td>\n",
       "      <td>0.0</td>\n",
       "      <td>0.0</td>\n",
       "      <td>1.0</td>\n",
       "      <td>0.0</td>\n",
       "      <td>1.0</td>\n",
       "    </tr>\n",
       "    <tr>\n",
       "      <th>2</th>\n",
       "      <td>Barbour County</td>\n",
       "      <td>AL</td>\n",
       "      <td>24686</td>\n",
       "      <td>0.0</td>\n",
       "      <td>0.0</td>\n",
       "      <td>0.0</td>\n",
       "      <td>0.0</td>\n",
       "      <td>0.0</td>\n",
       "      <td>0.0</td>\n",
       "      <td>0.0</td>\n",
       "      <td>...</td>\n",
       "      <td>0.0</td>\n",
       "      <td>2.0</td>\n",
       "      <td>0.0</td>\n",
       "      <td>0.0</td>\n",
       "      <td>0.0</td>\n",
       "      <td>0.0</td>\n",
       "      <td>0.0</td>\n",
       "      <td>0.0</td>\n",
       "      <td>0.0</td>\n",
       "      <td>0.0</td>\n",
       "    </tr>\n",
       "    <tr>\n",
       "      <th>3</th>\n",
       "      <td>Bibb County</td>\n",
       "      <td>AL</td>\n",
       "      <td>22394</td>\n",
       "      <td>0.0</td>\n",
       "      <td>0.0</td>\n",
       "      <td>0.0</td>\n",
       "      <td>0.0</td>\n",
       "      <td>0.0</td>\n",
       "      <td>0.0</td>\n",
       "      <td>0.0</td>\n",
       "      <td>...</td>\n",
       "      <td>0.0</td>\n",
       "      <td>2.0</td>\n",
       "      <td>0.0</td>\n",
       "      <td>0.0</td>\n",
       "      <td>0.0</td>\n",
       "      <td>0.0</td>\n",
       "      <td>0.0</td>\n",
       "      <td>1.0</td>\n",
       "      <td>0.0</td>\n",
       "      <td>0.0</td>\n",
       "    </tr>\n",
       "    <tr>\n",
       "      <th>4</th>\n",
       "      <td>Blount County</td>\n",
       "      <td>AL</td>\n",
       "      <td>57826</td>\n",
       "      <td>0.0</td>\n",
       "      <td>0.0</td>\n",
       "      <td>0.0</td>\n",
       "      <td>0.0</td>\n",
       "      <td>0.0</td>\n",
       "      <td>0.0</td>\n",
       "      <td>0.0</td>\n",
       "      <td>...</td>\n",
       "      <td>1.0</td>\n",
       "      <td>0.0</td>\n",
       "      <td>0.0</td>\n",
       "      <td>0.0</td>\n",
       "      <td>0.0</td>\n",
       "      <td>0.0</td>\n",
       "      <td>0.0</td>\n",
       "      <td>7.0</td>\n",
       "      <td>0.0</td>\n",
       "      <td>0.0</td>\n",
       "    </tr>\n",
       "  </tbody>\n",
       "</table>\n",
       "<p>5 rows × 272 columns</p>\n",
       "</div>"
      ],
      "text/plain": [
       "      County Name State  population  2020-01-22 00:00:00  2020-01-23 00:00:00  \\\n",
       "0  Autauga County    AL       55869                  0.0                  0.0   \n",
       "1  Baldwin County    AL      223234                  0.0                  0.0   \n",
       "2  Barbour County    AL       24686                  0.0                  0.0   \n",
       "3     Bibb County    AL       22394                  0.0                  0.0   \n",
       "4   Blount County    AL       57826                  0.0                  0.0   \n",
       "\n",
       "   2020-01-24 00:00:00  2020-01-25 00:00:00  2020-01-26 00:00:00  \\\n",
       "0                  0.0                  0.0                  0.0   \n",
       "1                  0.0                  0.0                  0.0   \n",
       "2                  0.0                  0.0                  0.0   \n",
       "3                  0.0                  0.0                  0.0   \n",
       "4                  0.0                  0.0                  0.0   \n",
       "\n",
       "   2020-01-27 00:00:00  2020-01-28 00:00:00  ...  2020-10-07 00:00:00  \\\n",
       "0                  0.0                  0.0  ...                  0.0   \n",
       "1                  0.0                  0.0  ...                  1.0   \n",
       "2                  0.0                  0.0  ...                  0.0   \n",
       "3                  0.0                  0.0  ...                  0.0   \n",
       "4                  0.0                  0.0  ...                  1.0   \n",
       "\n",
       "   2020-10-08 00:00:00  2020-10-09 00:00:00  2020-10-10 00:00:00  \\\n",
       "0                  1.0                  0.0                  0.0   \n",
       "1                  8.0                  0.0                  1.0   \n",
       "2                  2.0                  0.0                  0.0   \n",
       "3                  2.0                  0.0                  0.0   \n",
       "4                  0.0                  0.0                  0.0   \n",
       "\n",
       "   2020-10-11 00:00:00  2020-10-12 00:00:00  2020-10-13 00:00:00  \\\n",
       "0                  0.0                  0.0                  0.0   \n",
       "1                  0.0                  0.0                  0.0   \n",
       "2                  0.0                  0.0                  0.0   \n",
       "3                  0.0                  0.0                  0.0   \n",
       "4                  0.0                  0.0                  0.0   \n",
       "\n",
       "   2020-10-14 00:00:00  2020-10-15 00:00:00  2020-10-16 00:00:00  \n",
       "0                  0.0                  0.0                  0.0  \n",
       "1                  1.0                  0.0                  1.0  \n",
       "2                  0.0                  0.0                  0.0  \n",
       "3                  1.0                  0.0                  0.0  \n",
       "4                  7.0                  0.0                  0.0  \n",
       "\n",
       "[5 rows x 272 columns]"
      ]
     },
     "execution_count": 12,
     "metadata": {},
     "output_type": "execute_result"
    }
   ],
   "source": [
    "new_deaths.head()"
   ]
  },
  {
   "cell_type": "markdown",
   "metadata": {},
   "source": [
    "## Linear regression models for predicting cases and deaths in US."
   ]
  },
  {
   "cell_type": "markdown",
   "metadata": {},
   "source": [
    "#### United States Cases"
   ]
  },
  {
   "cell_type": "markdown",
   "metadata": {},
   "source": [
    "Sum up all states daily cases"
   ]
  },
  {
   "cell_type": "code",
   "execution_count": 13,
   "metadata": {},
   "outputs": [],
   "source": [
    "united_states_cases = pd.DataFrame(new_cases[new_cases.columns[3:]].sum(axis=0))"
   ]
  },
  {
   "cell_type": "code",
   "execution_count": 14,
   "metadata": {},
   "outputs": [
    {
     "data": {
      "text/html": [
       "<div>\n",
       "<style scoped>\n",
       "    .dataframe tbody tr th:only-of-type {\n",
       "        vertical-align: middle;\n",
       "    }\n",
       "\n",
       "    .dataframe tbody tr th {\n",
       "        vertical-align: top;\n",
       "    }\n",
       "\n",
       "    .dataframe thead th {\n",
       "        text-align: right;\n",
       "    }\n",
       "</style>\n",
       "<table border=\"1\" class=\"dataframe\">\n",
       "  <thead>\n",
       "    <tr style=\"text-align: right;\">\n",
       "      <th></th>\n",
       "      <th>0</th>\n",
       "    </tr>\n",
       "  </thead>\n",
       "  <tbody>\n",
       "    <tr>\n",
       "      <th>2020-01-22</th>\n",
       "      <td>0.0</td>\n",
       "    </tr>\n",
       "    <tr>\n",
       "      <th>2020-01-23</th>\n",
       "      <td>0.0</td>\n",
       "    </tr>\n",
       "    <tr>\n",
       "      <th>2020-01-24</th>\n",
       "      <td>1.0</td>\n",
       "    </tr>\n",
       "    <tr>\n",
       "      <th>2020-01-25</th>\n",
       "      <td>0.0</td>\n",
       "    </tr>\n",
       "    <tr>\n",
       "      <th>2020-01-26</th>\n",
       "      <td>3.0</td>\n",
       "    </tr>\n",
       "    <tr>\n",
       "      <th>...</th>\n",
       "      <td>...</td>\n",
       "    </tr>\n",
       "    <tr>\n",
       "      <th>2020-10-12</th>\n",
       "      <td>42554.0</td>\n",
       "    </tr>\n",
       "    <tr>\n",
       "      <th>2020-10-13</th>\n",
       "      <td>50399.0</td>\n",
       "    </tr>\n",
       "    <tr>\n",
       "      <th>2020-10-14</th>\n",
       "      <td>59692.0</td>\n",
       "    </tr>\n",
       "    <tr>\n",
       "      <th>2020-10-15</th>\n",
       "      <td>66735.0</td>\n",
       "    </tr>\n",
       "    <tr>\n",
       "      <th>2020-10-16</th>\n",
       "      <td>63931.0</td>\n",
       "    </tr>\n",
       "  </tbody>\n",
       "</table>\n",
       "<p>269 rows × 1 columns</p>\n",
       "</div>"
      ],
      "text/plain": [
       "                  0\n",
       "2020-01-22      0.0\n",
       "2020-01-23      0.0\n",
       "2020-01-24      1.0\n",
       "2020-01-25      0.0\n",
       "2020-01-26      3.0\n",
       "...             ...\n",
       "2020-10-12  42554.0\n",
       "2020-10-13  50399.0\n",
       "2020-10-14  59692.0\n",
       "2020-10-15  66735.0\n",
       "2020-10-16  63931.0\n",
       "\n",
       "[269 rows x 1 columns]"
      ]
     },
     "execution_count": 14,
     "metadata": {},
     "output_type": "execute_result"
    }
   ],
   "source": [
    "united_states_cases"
   ]
  },
  {
   "cell_type": "markdown",
   "metadata": {},
   "source": [
    "Fit a linewar regression model using sklearn's LinearRegression package"
   ]
  },
  {
   "cell_type": "code",
   "execution_count": 15,
   "metadata": {},
   "outputs": [
    {
     "name": "stdout",
     "output_type": "stream",
     "text": [
      "formula: y= 0.0x + 0.0\n"
     ]
    }
   ],
   "source": [
    "X, Y = united_states_cases.T, united_states_cases.columns\n",
    "\n",
    "mdl = LinearRegression().fit(X,Y)\n",
    "result = mdl.predict(X)\n",
    "m = mdl.coef_[0]\n",
    "b = mdl.intercept_\n",
    "print(f'formula: y= {m}x + {b}')"
   ]
  },
  {
   "cell_type": "code",
   "execution_count": 16,
   "metadata": {},
   "outputs": [
    {
     "data": {
      "text/plain": [
       "[0]"
      ]
     },
     "execution_count": 16,
     "metadata": {},
     "output_type": "execute_result"
    }
   ],
   "source": [
    "[i for i in range(X.index.size)]"
   ]
  },
  {
   "cell_type": "code",
   "execution_count": 17,
   "metadata": {},
   "outputs": [
    {
     "data": {
      "text/html": [
       "<div>\n",
       "<style scoped>\n",
       "    .dataframe tbody tr th:only-of-type {\n",
       "        vertical-align: middle;\n",
       "    }\n",
       "\n",
       "    .dataframe tbody tr th {\n",
       "        vertical-align: top;\n",
       "    }\n",
       "\n",
       "    .dataframe thead th {\n",
       "        text-align: right;\n",
       "    }\n",
       "</style>\n",
       "<table border=\"1\" class=\"dataframe\">\n",
       "  <thead>\n",
       "    <tr style=\"text-align: right;\">\n",
       "      <th></th>\n",
       "      <th>0</th>\n",
       "    </tr>\n",
       "  </thead>\n",
       "  <tbody>\n",
       "    <tr>\n",
       "      <th>2020-01-22</th>\n",
       "      <td>0.0</td>\n",
       "    </tr>\n",
       "    <tr>\n",
       "      <th>2020-01-23</th>\n",
       "      <td>0.0</td>\n",
       "    </tr>\n",
       "    <tr>\n",
       "      <th>2020-01-24</th>\n",
       "      <td>1.0</td>\n",
       "    </tr>\n",
       "    <tr>\n",
       "      <th>2020-01-25</th>\n",
       "      <td>0.0</td>\n",
       "    </tr>\n",
       "    <tr>\n",
       "      <th>2020-01-26</th>\n",
       "      <td>3.0</td>\n",
       "    </tr>\n",
       "    <tr>\n",
       "      <th>...</th>\n",
       "      <td>...</td>\n",
       "    </tr>\n",
       "    <tr>\n",
       "      <th>2020-10-12</th>\n",
       "      <td>42554.0</td>\n",
       "    </tr>\n",
       "    <tr>\n",
       "      <th>2020-10-13</th>\n",
       "      <td>50399.0</td>\n",
       "    </tr>\n",
       "    <tr>\n",
       "      <th>2020-10-14</th>\n",
       "      <td>59692.0</td>\n",
       "    </tr>\n",
       "    <tr>\n",
       "      <th>2020-10-15</th>\n",
       "      <td>66735.0</td>\n",
       "    </tr>\n",
       "    <tr>\n",
       "      <th>2020-10-16</th>\n",
       "      <td>63931.0</td>\n",
       "    </tr>\n",
       "  </tbody>\n",
       "</table>\n",
       "<p>269 rows × 1 columns</p>\n",
       "</div>"
      ],
      "text/plain": [
       "                  0\n",
       "2020-01-22      0.0\n",
       "2020-01-23      0.0\n",
       "2020-01-24      1.0\n",
       "2020-01-25      0.0\n",
       "2020-01-26      3.0\n",
       "...             ...\n",
       "2020-10-12  42554.0\n",
       "2020-10-13  50399.0\n",
       "2020-10-14  59692.0\n",
       "2020-10-15  66735.0\n",
       "2020-10-16  63931.0\n",
       "\n",
       "[269 rows x 1 columns]"
      ]
     },
     "execution_count": 17,
     "metadata": {},
     "output_type": "execute_result"
    }
   ],
   "source": [
    "index = [i for i in range(united_states_cases.index.size)]\n",
    "united_states_cases"
   ]
  },
  {
   "cell_type": "code",
   "execution_count": 18,
   "metadata": {},
   "outputs": [
    {
     "data": {
      "text/html": [
       "<div>\n",
       "<style scoped>\n",
       "    .dataframe tbody tr th:only-of-type {\n",
       "        vertical-align: middle;\n",
       "    }\n",
       "\n",
       "    .dataframe tbody tr th {\n",
       "        vertical-align: top;\n",
       "    }\n",
       "\n",
       "    .dataframe thead th {\n",
       "        text-align: right;\n",
       "    }\n",
       "</style>\n",
       "<table border=\"1\" class=\"dataframe\">\n",
       "  <thead>\n",
       "    <tr style=\"text-align: right;\">\n",
       "      <th></th>\n",
       "      <th>0</th>\n",
       "    </tr>\n",
       "  </thead>\n",
       "  <tbody>\n",
       "    <tr>\n",
       "      <th>2020-01-22</th>\n",
       "      <td>0.0</td>\n",
       "    </tr>\n",
       "    <tr>\n",
       "      <th>2020-01-23</th>\n",
       "      <td>0.0</td>\n",
       "    </tr>\n",
       "    <tr>\n",
       "      <th>2020-01-24</th>\n",
       "      <td>1.0</td>\n",
       "    </tr>\n",
       "    <tr>\n",
       "      <th>2020-01-25</th>\n",
       "      <td>0.0</td>\n",
       "    </tr>\n",
       "    <tr>\n",
       "      <th>2020-01-26</th>\n",
       "      <td>3.0</td>\n",
       "    </tr>\n",
       "    <tr>\n",
       "      <th>...</th>\n",
       "      <td>...</td>\n",
       "    </tr>\n",
       "    <tr>\n",
       "      <th>2020-10-12</th>\n",
       "      <td>42554.0</td>\n",
       "    </tr>\n",
       "    <tr>\n",
       "      <th>2020-10-13</th>\n",
       "      <td>50399.0</td>\n",
       "    </tr>\n",
       "    <tr>\n",
       "      <th>2020-10-14</th>\n",
       "      <td>59692.0</td>\n",
       "    </tr>\n",
       "    <tr>\n",
       "      <th>2020-10-15</th>\n",
       "      <td>66735.0</td>\n",
       "    </tr>\n",
       "    <tr>\n",
       "      <th>2020-10-16</th>\n",
       "      <td>63931.0</td>\n",
       "    </tr>\n",
       "  </tbody>\n",
       "</table>\n",
       "<p>269 rows × 1 columns</p>\n",
       "</div>"
      ],
      "text/plain": [
       "                  0\n",
       "2020-01-22      0.0\n",
       "2020-01-23      0.0\n",
       "2020-01-24      1.0\n",
       "2020-01-25      0.0\n",
       "2020-01-26      3.0\n",
       "...             ...\n",
       "2020-10-12  42554.0\n",
       "2020-10-13  50399.0\n",
       "2020-10-14  59692.0\n",
       "2020-10-15  66735.0\n",
       "2020-10-16  63931.0\n",
       "\n",
       "[269 rows x 1 columns]"
      ]
     },
     "execution_count": 18,
     "metadata": {},
     "output_type": "execute_result"
    }
   ],
   "source": [
    "united_states_cases"
   ]
  },
  {
   "cell_type": "code",
   "execution_count": 21,
   "metadata": {},
   "outputs": [
    {
     "data": {
      "application/vnd.plotly.v1+json": {
       "config": {
        "plotlyServerURL": "https://plot.ly"
       },
       "data": [
        {
         "hovertemplate": "x=%{x}<br>0=%{y}<extra></extra>",
         "legendgroup": "",
         "marker": {
          "color": "#636efa",
          "opacity": 0.65,
          "symbol": "circle"
         },
         "mode": "markers",
         "name": "",
         "orientation": "v",
         "showlegend": false,
         "type": "scatter",
         "x": [
          0,
          1,
          2,
          3,
          4,
          5,
          6,
          7,
          8,
          9,
          10,
          11,
          12,
          13,
          14,
          15,
          16,
          17,
          18,
          19,
          20,
          21,
          22,
          23,
          24,
          25,
          26,
          27,
          28,
          29,
          30,
          31,
          32,
          33,
          34,
          35,
          36,
          37,
          38,
          39,
          40,
          41,
          42,
          43,
          44,
          45,
          46,
          47,
          48,
          49,
          50,
          51,
          52,
          53,
          54,
          55,
          56,
          57,
          58,
          59,
          60,
          61,
          62,
          63,
          64,
          65,
          66,
          67,
          68,
          69,
          70,
          71,
          72,
          73,
          74,
          75,
          76,
          77,
          78,
          79,
          80,
          81,
          82,
          83,
          84,
          85,
          86,
          87,
          88,
          89,
          90,
          91,
          92,
          93,
          94,
          95,
          96,
          97,
          98,
          99,
          100,
          101,
          102,
          103,
          104,
          105,
          106,
          107,
          108,
          109,
          110,
          111,
          112,
          113,
          114,
          115,
          116,
          117,
          118,
          119,
          120,
          121,
          122,
          123,
          124,
          125,
          126,
          127,
          128,
          129,
          130,
          131,
          132,
          133,
          134,
          135,
          136,
          137,
          138,
          139,
          140,
          141,
          142,
          143,
          144,
          145,
          146,
          147,
          148,
          149,
          150,
          151,
          152,
          153,
          154,
          155,
          156,
          157,
          158,
          159,
          160,
          161,
          162,
          163,
          164,
          165,
          166,
          167,
          168,
          169,
          170,
          171,
          172,
          173,
          174,
          175,
          176,
          177,
          178,
          179,
          180,
          181,
          182,
          183,
          184,
          185,
          186,
          187,
          188,
          189,
          190,
          191,
          192,
          193,
          194,
          195,
          196,
          197,
          198,
          199,
          200,
          201,
          202,
          203,
          204,
          205,
          206,
          207,
          208,
          209,
          210,
          211,
          212,
          213,
          214,
          215,
          216,
          217,
          218,
          219,
          220,
          221,
          222,
          223,
          224,
          225,
          226,
          227,
          228,
          229,
          230,
          231,
          232,
          233,
          234,
          235,
          236,
          237,
          238,
          239,
          240,
          241,
          242,
          243,
          244,
          245,
          246,
          247,
          248,
          249,
          250,
          251,
          252,
          253,
          254,
          255,
          256,
          257,
          258,
          259,
          260,
          261,
          262,
          263,
          264,
          265,
          266,
          267,
          268
         ],
         "xaxis": "x",
         "y": [
          0,
          0,
          1,
          0,
          3,
          1,
          0,
          1,
          0,
          1,
          1,
          0,
          2,
          0,
          0,
          0,
          0,
          0,
          0,
          0,
          1,
          0,
          1,
          0,
          0,
          0,
          0,
          1,
          0,
          0,
          3,
          0,
          0,
          1,
          0,
          2,
          1,
          2,
          11,
          6,
          22,
          19,
          35,
          66,
          49,
          145,
          116,
          259,
          275,
          229,
          387,
          529,
          733,
          566,
          909,
          1775,
          2755,
          4864,
          4889,
          7219,
          7135,
          9737,
          9935,
          14189,
          16122,
          16443,
          19644,
          17667,
          20924,
          23287,
          24586,
          28312,
          35550,
          33256,
          25696,
          29917,
          31683,
          33012,
          33573,
          33426,
          30597,
          26835,
          24633,
          25878,
          30276,
          32584,
          30912,
          27676,
          25589,
          26358,
          25325,
          28604,
          31299,
          37256,
          33632,
          25280,
          22863,
          24227,
          27875,
          28895,
          33441,
          29599,
          24563,
          21850,
          23427,
          24281,
          27221,
          27034,
          25394,
          19369,
          19219,
          21288,
          21028,
          26424,
          24635,
          24121,
          17920,
          20933,
          20599,
          22543,
          25542,
          23599,
          21836,
          20288,
          19464,
          17832,
          18458,
          22451,
          24817,
          22515,
          19461,
          21281,
          19289,
          19633,
          21811,
          28078,
          22901,
          17886,
          17757,
          18546,
          20464,
          22264,
          25635,
          25135,
          20081,
          18723,
          25048,
          24140,
          27305,
          31192,
          30493,
          27074,
          29835,
          35014,
          35225,
          38499,
          45881,
          41642,
          38198,
          38708,
          47289,
          48951,
          54365,
          54155,
          45019,
          41131,
          53499,
          55311,
          56998,
          61300,
          69162,
          59632,
          56739,
          55166,
          66936,
          64996,
          79974,
          67516,
          65443,
          59866,
          58412,
          66656,
          67014,
          68156,
          73070,
          64165,
          53966,
          57083,
          63911,
          65354,
          70376,
          66042,
          60621,
          41861,
          49708,
          52425,
          53487,
          56343,
          60973,
          51836,
          47694,
          42335,
          56603,
          52918,
          51648,
          57352,
          50142,
          37976,
          40244,
          41337,
          45092,
          43689,
          49405,
          45302,
          31749,
          36946,
          38371,
          45792,
          45807,
          44915,
          42948,
          33477,
          35585,
          42987,
          39839,
          42782,
          49380,
          43949,
          30971,
          25778,
          23255,
          34739,
          36867,
          46047,
          38645,
          34720,
          33874,
          41108,
          40524,
          43870,
          48507,
          42667,
          34595,
          37264,
          49763,
          39059,
          42194,
          57207,
          46169,
          34606,
          32202,
          37136,
          45562,
          46891,
          48287,
          51819,
          35527,
          37090,
          40872,
          49901,
          56462,
          56731,
          54111,
          43207,
          42554,
          50399,
          59692,
          66735,
          63931
         ],
         "yaxis": "y"
        },
        {
         "hovertemplate": "<b>OLS trendline</b><br>0 = 217.188 * x + 406.771<br>R<sup>2</sup>=0.671552<br><br>x=%{x}<br>0=%{y} <b>(trend)</b><extra></extra>",
         "legendgroup": "",
         "marker": {
          "color": "#636efa",
          "symbol": "circle"
         },
         "mode": "lines",
         "name": "",
         "showlegend": false,
         "type": "scatter",
         "x": [
          0,
          1,
          2,
          3,
          4,
          5,
          6,
          7,
          8,
          9,
          10,
          11,
          12,
          13,
          14,
          15,
          16,
          17,
          18,
          19,
          20,
          21,
          22,
          23,
          24,
          25,
          26,
          27,
          28,
          29,
          30,
          31,
          32,
          33,
          34,
          35,
          36,
          37,
          38,
          39,
          40,
          41,
          42,
          43,
          44,
          45,
          46,
          47,
          48,
          49,
          50,
          51,
          52,
          53,
          54,
          55,
          56,
          57,
          58,
          59,
          60,
          61,
          62,
          63,
          64,
          65,
          66,
          67,
          68,
          69,
          70,
          71,
          72,
          73,
          74,
          75,
          76,
          77,
          78,
          79,
          80,
          81,
          82,
          83,
          84,
          85,
          86,
          87,
          88,
          89,
          90,
          91,
          92,
          93,
          94,
          95,
          96,
          97,
          98,
          99,
          100,
          101,
          102,
          103,
          104,
          105,
          106,
          107,
          108,
          109,
          110,
          111,
          112,
          113,
          114,
          115,
          116,
          117,
          118,
          119,
          120,
          121,
          122,
          123,
          124,
          125,
          126,
          127,
          128,
          129,
          130,
          131,
          132,
          133,
          134,
          135,
          136,
          137,
          138,
          139,
          140,
          141,
          142,
          143,
          144,
          145,
          146,
          147,
          148,
          149,
          150,
          151,
          152,
          153,
          154,
          155,
          156,
          157,
          158,
          159,
          160,
          161,
          162,
          163,
          164,
          165,
          166,
          167,
          168,
          169,
          170,
          171,
          172,
          173,
          174,
          175,
          176,
          177,
          178,
          179,
          180,
          181,
          182,
          183,
          184,
          185,
          186,
          187,
          188,
          189,
          190,
          191,
          192,
          193,
          194,
          195,
          196,
          197,
          198,
          199,
          200,
          201,
          202,
          203,
          204,
          205,
          206,
          207,
          208,
          209,
          210,
          211,
          212,
          213,
          214,
          215,
          216,
          217,
          218,
          219,
          220,
          221,
          222,
          223,
          224,
          225,
          226,
          227,
          228,
          229,
          230,
          231,
          232,
          233,
          234,
          235,
          236,
          237,
          238,
          239,
          240,
          241,
          242,
          243,
          244,
          245,
          246,
          247,
          248,
          249,
          250,
          251,
          252,
          253,
          254,
          255,
          256,
          257,
          258,
          259,
          260,
          261,
          262,
          263,
          264,
          265,
          266,
          267,
          268
         ],
         "xaxis": "x",
         "y": [
          406.7709211069889,
          623.958559741573,
          841.1461983761571,
          1058.3338370107413,
          1275.5214756453256,
          1492.7091142799097,
          1709.8967529144938,
          1927.084391549078,
          2144.272030183662,
          2361.4596688182464,
          2578.6473074528303,
          2795.834946087414,
          3013.022584721999,
          3230.210223356583,
          3447.397861991167,
          3664.5855006257507,
          3881.7731392603355,
          4098.960777894919,
          4316.148416529503,
          4533.336055164087,
          4750.523693798672,
          4967.711332433256,
          5184.89897106784,
          5402.086609702424,
          5619.274248337008,
          5836.461886971592,
          6053.649525606176,
          6270.837164240761,
          6488.024802875345,
          6705.212441509929,
          6922.400080144513,
          7139.5877187790975,
          7356.775357413681,
          7573.962996048265,
          7791.15063468285,
          8008.338273317434,
          8225.525911952018,
          8442.713550586603,
          8659.901189221186,
          8877.08882785577,
          9094.276466490355,
          9311.464105124938,
          9528.651743759523,
          9745.839382394108,
          9963.02702102869,
          10180.214659663276,
          10397.402298297859,
          10614.589936932443,
          10831.777575567028,
          11048.965214201611,
          11266.152852836196,
          11483.34049147078,
          11700.528130105364,
          11917.715768739949,
          12134.903407374533,
          12352.091046009116,
          12569.278684643701,
          12786.466323278286,
          13003.653961912869,
          13220.841600547454,
          13438.029239182037,
          13655.216877816621,
          13872.404516451206,
          14089.59215508579,
          14306.779793720374,
          14523.967432354959,
          14741.155070989542,
          14958.342709624127,
          15175.530348258711,
          15392.717986893294,
          15609.90562552788,
          15827.093264162462,
          16044.280902797047,
          16261.468541431632,
          16478.656180066217,
          16695.8438187008,
          16913.031457335383,
          17130.21909596997,
          17347.406734604552,
          17564.594373239135,
          17781.78201187372,
          17998.969650508305,
          18216.157289142888,
          18433.344927777474,
          18650.532566412057,
          18867.72020504664,
          19084.907843681227,
          19302.09548231581,
          19519.283120950393,
          19736.47075958498,
          19953.658398219563,
          20170.846036854145,
          20388.03367548873,
          20605.221314123315,
          20822.408952757898,
          21039.59659139248,
          21256.784230027068,
          21473.97186866165,
          21691.159507296234,
          21908.34714593082,
          22125.534784565403,
          22342.722423199986,
          22559.910061834573,
          22777.097700469156,
          22994.28533910374,
          23211.472977738325,
          23428.66061637291,
          23645.84825500749,
          23863.035893642078,
          24080.22353227666,
          24297.411170911244,
          24514.59880954583,
          24731.786448180414,
          24948.974086814997,
          25166.161725449583,
          25383.349364084166,
          25600.53700271875,
          25817.724641353332,
          26034.91227998792,
          26252.0999186225,
          26469.287557257085,
          26686.47519589167,
          26903.662834526254,
          27120.850473160837,
          27338.038111795424,
          27555.225750430007,
          27772.41338906459,
          27989.601027699176,
          28206.78866633376,
          28423.976304968342,
          28641.16394360293,
          28858.351582237512,
          29075.539220872095,
          29292.72685950668,
          29509.914498141265,
          29727.102136775848,
          29944.289775410434,
          30161.477414045017,
          30378.6650526796,
          30595.852691314187,
          30813.04032994877,
          31030.227968583353,
          31247.415607217936,
          31464.603245852522,
          31681.790884487105,
          31898.97852312169,
          32116.166161756275,
          32333.353800390858,
          32550.54143902544,
          32767.729077660028,
          32984.91671629461,
          33202.10435492919,
          33419.29199356378,
          33636.47963219837,
          33853.66727083295,
          34070.85490946753,
          34288.042548102116,
          34505.2301867367,
          34722.41782537128,
          34939.605464005865,
          35156.793102640455,
          35373.98074127504,
          35591.16837990962,
          35808.356018544204,
          36025.54365717879,
          36242.73129581337,
          36459.91893444796,
          36677.10657308254,
          36894.294211717126,
          37111.48185035171,
          37328.66948898629,
          37545.857127620875,
          37763.044766255465,
          37980.23240489005,
          38197.42004352463,
          38414.607682159214,
          38631.7953207938,
          38848.98295942838,
          39066.17059806297,
          39283.35823669755,
          39500.545875332136,
          39717.73351396672,
          39934.9211526013,
          40152.108791235885,
          40369.29642987047,
          40586.48406850506,
          40803.67170713964,
          41020.859345774224,
          41238.04698440881,
          41455.23462304339,
          41672.42226167797,
          41889.609900312564,
          42106.79753894715,
          42323.98517758173,
          42541.17281621631,
          42758.360454850896,
          42975.54809348548,
          43192.73573212007,
          43409.92337075465,
          43627.111009389235,
          43844.29864802382,
          44061.4862866584,
          44278.673925292984,
          44495.861563927574,
          44713.04920256216,
          44930.23684119674,
          45147.42447983132,
          45364.612118465906,
          45581.79975710049,
          45798.98739573507,
          46016.17503436966,
          46233.362673004245,
          46450.55031163883,
          46667.73795027341,
          46884.925588907994,
          47102.11322754258,
          47319.30086617717,
          47536.48850481175,
          47753.67614344633,
          47970.863782080916,
          48188.0514207155,
          48405.23905935008,
          48622.42669798467,
          48839.614336619255,
          49056.80197525384,
          49273.98961388842,
          49491.177252523004,
          49708.36489115759,
          49925.55252979218,
          50142.74016842676,
          50359.92780706134,
          50577.11544569593,
          50794.30308433051,
          51011.49072296509,
          51228.678361599676,
          51445.866000234266,
          51663.05363886885,
          51880.24127750343,
          52097.428916138015,
          52314.6165547726,
          52531.80419340718,
          52748.99183204177,
          52966.179470676354,
          53183.36710931094,
          53400.55474794552,
          53617.7423865801,
          53834.930025214686,
          54052.117663849276,
          54269.30530248386,
          54486.49294111844,
          54703.680579753025,
          54920.86821838761,
          55138.05585702219,
          55355.24349565678,
          55572.431134291364,
          55789.61877292595,
          56006.80641156053,
          56223.99405019511,
          56441.181688829696,
          56658.36932746428,
          56875.55696609887,
          57092.74460473345,
          57309.932243368035,
          57527.11988200262,
          57744.3075206372,
          57961.495159271784,
          58178.682797906375,
          58395.87043654096,
          58613.05807517554
         ],
         "yaxis": "y"
        }
       ],
       "layout": {
        "legend": {
         "tracegroupgap": 0
        },
        "margin": {
         "t": 60
        },
        "template": {
         "data": {
          "bar": [
           {
            "error_x": {
             "color": "#2a3f5f"
            },
            "error_y": {
             "color": "#2a3f5f"
            },
            "marker": {
             "line": {
              "color": "#E5ECF6",
              "width": 0.5
             }
            },
            "type": "bar"
           }
          ],
          "barpolar": [
           {
            "marker": {
             "line": {
              "color": "#E5ECF6",
              "width": 0.5
             }
            },
            "type": "barpolar"
           }
          ],
          "carpet": [
           {
            "aaxis": {
             "endlinecolor": "#2a3f5f",
             "gridcolor": "white",
             "linecolor": "white",
             "minorgridcolor": "white",
             "startlinecolor": "#2a3f5f"
            },
            "baxis": {
             "endlinecolor": "#2a3f5f",
             "gridcolor": "white",
             "linecolor": "white",
             "minorgridcolor": "white",
             "startlinecolor": "#2a3f5f"
            },
            "type": "carpet"
           }
          ],
          "choropleth": [
           {
            "colorbar": {
             "outlinewidth": 0,
             "ticks": ""
            },
            "type": "choropleth"
           }
          ],
          "contour": [
           {
            "colorbar": {
             "outlinewidth": 0,
             "ticks": ""
            },
            "colorscale": [
             [
              0,
              "#0d0887"
             ],
             [
              0.1111111111111111,
              "#46039f"
             ],
             [
              0.2222222222222222,
              "#7201a8"
             ],
             [
              0.3333333333333333,
              "#9c179e"
             ],
             [
              0.4444444444444444,
              "#bd3786"
             ],
             [
              0.5555555555555556,
              "#d8576b"
             ],
             [
              0.6666666666666666,
              "#ed7953"
             ],
             [
              0.7777777777777778,
              "#fb9f3a"
             ],
             [
              0.8888888888888888,
              "#fdca26"
             ],
             [
              1,
              "#f0f921"
             ]
            ],
            "type": "contour"
           }
          ],
          "contourcarpet": [
           {
            "colorbar": {
             "outlinewidth": 0,
             "ticks": ""
            },
            "type": "contourcarpet"
           }
          ],
          "heatmap": [
           {
            "colorbar": {
             "outlinewidth": 0,
             "ticks": ""
            },
            "colorscale": [
             [
              0,
              "#0d0887"
             ],
             [
              0.1111111111111111,
              "#46039f"
             ],
             [
              0.2222222222222222,
              "#7201a8"
             ],
             [
              0.3333333333333333,
              "#9c179e"
             ],
             [
              0.4444444444444444,
              "#bd3786"
             ],
             [
              0.5555555555555556,
              "#d8576b"
             ],
             [
              0.6666666666666666,
              "#ed7953"
             ],
             [
              0.7777777777777778,
              "#fb9f3a"
             ],
             [
              0.8888888888888888,
              "#fdca26"
             ],
             [
              1,
              "#f0f921"
             ]
            ],
            "type": "heatmap"
           }
          ],
          "heatmapgl": [
           {
            "colorbar": {
             "outlinewidth": 0,
             "ticks": ""
            },
            "colorscale": [
             [
              0,
              "#0d0887"
             ],
             [
              0.1111111111111111,
              "#46039f"
             ],
             [
              0.2222222222222222,
              "#7201a8"
             ],
             [
              0.3333333333333333,
              "#9c179e"
             ],
             [
              0.4444444444444444,
              "#bd3786"
             ],
             [
              0.5555555555555556,
              "#d8576b"
             ],
             [
              0.6666666666666666,
              "#ed7953"
             ],
             [
              0.7777777777777778,
              "#fb9f3a"
             ],
             [
              0.8888888888888888,
              "#fdca26"
             ],
             [
              1,
              "#f0f921"
             ]
            ],
            "type": "heatmapgl"
           }
          ],
          "histogram": [
           {
            "marker": {
             "colorbar": {
              "outlinewidth": 0,
              "ticks": ""
             }
            },
            "type": "histogram"
           }
          ],
          "histogram2d": [
           {
            "colorbar": {
             "outlinewidth": 0,
             "ticks": ""
            },
            "colorscale": [
             [
              0,
              "#0d0887"
             ],
             [
              0.1111111111111111,
              "#46039f"
             ],
             [
              0.2222222222222222,
              "#7201a8"
             ],
             [
              0.3333333333333333,
              "#9c179e"
             ],
             [
              0.4444444444444444,
              "#bd3786"
             ],
             [
              0.5555555555555556,
              "#d8576b"
             ],
             [
              0.6666666666666666,
              "#ed7953"
             ],
             [
              0.7777777777777778,
              "#fb9f3a"
             ],
             [
              0.8888888888888888,
              "#fdca26"
             ],
             [
              1,
              "#f0f921"
             ]
            ],
            "type": "histogram2d"
           }
          ],
          "histogram2dcontour": [
           {
            "colorbar": {
             "outlinewidth": 0,
             "ticks": ""
            },
            "colorscale": [
             [
              0,
              "#0d0887"
             ],
             [
              0.1111111111111111,
              "#46039f"
             ],
             [
              0.2222222222222222,
              "#7201a8"
             ],
             [
              0.3333333333333333,
              "#9c179e"
             ],
             [
              0.4444444444444444,
              "#bd3786"
             ],
             [
              0.5555555555555556,
              "#d8576b"
             ],
             [
              0.6666666666666666,
              "#ed7953"
             ],
             [
              0.7777777777777778,
              "#fb9f3a"
             ],
             [
              0.8888888888888888,
              "#fdca26"
             ],
             [
              1,
              "#f0f921"
             ]
            ],
            "type": "histogram2dcontour"
           }
          ],
          "mesh3d": [
           {
            "colorbar": {
             "outlinewidth": 0,
             "ticks": ""
            },
            "type": "mesh3d"
           }
          ],
          "parcoords": [
           {
            "line": {
             "colorbar": {
              "outlinewidth": 0,
              "ticks": ""
             }
            },
            "type": "parcoords"
           }
          ],
          "pie": [
           {
            "automargin": true,
            "type": "pie"
           }
          ],
          "scatter": [
           {
            "marker": {
             "colorbar": {
              "outlinewidth": 0,
              "ticks": ""
             }
            },
            "type": "scatter"
           }
          ],
          "scatter3d": [
           {
            "line": {
             "colorbar": {
              "outlinewidth": 0,
              "ticks": ""
             }
            },
            "marker": {
             "colorbar": {
              "outlinewidth": 0,
              "ticks": ""
             }
            },
            "type": "scatter3d"
           }
          ],
          "scattercarpet": [
           {
            "marker": {
             "colorbar": {
              "outlinewidth": 0,
              "ticks": ""
             }
            },
            "type": "scattercarpet"
           }
          ],
          "scattergeo": [
           {
            "marker": {
             "colorbar": {
              "outlinewidth": 0,
              "ticks": ""
             }
            },
            "type": "scattergeo"
           }
          ],
          "scattergl": [
           {
            "marker": {
             "colorbar": {
              "outlinewidth": 0,
              "ticks": ""
             }
            },
            "type": "scattergl"
           }
          ],
          "scattermapbox": [
           {
            "marker": {
             "colorbar": {
              "outlinewidth": 0,
              "ticks": ""
             }
            },
            "type": "scattermapbox"
           }
          ],
          "scatterpolar": [
           {
            "marker": {
             "colorbar": {
              "outlinewidth": 0,
              "ticks": ""
             }
            },
            "type": "scatterpolar"
           }
          ],
          "scatterpolargl": [
           {
            "marker": {
             "colorbar": {
              "outlinewidth": 0,
              "ticks": ""
             }
            },
            "type": "scatterpolargl"
           }
          ],
          "scatterternary": [
           {
            "marker": {
             "colorbar": {
              "outlinewidth": 0,
              "ticks": ""
             }
            },
            "type": "scatterternary"
           }
          ],
          "surface": [
           {
            "colorbar": {
             "outlinewidth": 0,
             "ticks": ""
            },
            "colorscale": [
             [
              0,
              "#0d0887"
             ],
             [
              0.1111111111111111,
              "#46039f"
             ],
             [
              0.2222222222222222,
              "#7201a8"
             ],
             [
              0.3333333333333333,
              "#9c179e"
             ],
             [
              0.4444444444444444,
              "#bd3786"
             ],
             [
              0.5555555555555556,
              "#d8576b"
             ],
             [
              0.6666666666666666,
              "#ed7953"
             ],
             [
              0.7777777777777778,
              "#fb9f3a"
             ],
             [
              0.8888888888888888,
              "#fdca26"
             ],
             [
              1,
              "#f0f921"
             ]
            ],
            "type": "surface"
           }
          ],
          "table": [
           {
            "cells": {
             "fill": {
              "color": "#EBF0F8"
             },
             "line": {
              "color": "white"
             }
            },
            "header": {
             "fill": {
              "color": "#C8D4E3"
             },
             "line": {
              "color": "white"
             }
            },
            "type": "table"
           }
          ]
         },
         "layout": {
          "annotationdefaults": {
           "arrowcolor": "#2a3f5f",
           "arrowhead": 0,
           "arrowwidth": 1
          },
          "coloraxis": {
           "colorbar": {
            "outlinewidth": 0,
            "ticks": ""
           }
          },
          "colorscale": {
           "diverging": [
            [
             0,
             "#8e0152"
            ],
            [
             0.1,
             "#c51b7d"
            ],
            [
             0.2,
             "#de77ae"
            ],
            [
             0.3,
             "#f1b6da"
            ],
            [
             0.4,
             "#fde0ef"
            ],
            [
             0.5,
             "#f7f7f7"
            ],
            [
             0.6,
             "#e6f5d0"
            ],
            [
             0.7,
             "#b8e186"
            ],
            [
             0.8,
             "#7fbc41"
            ],
            [
             0.9,
             "#4d9221"
            ],
            [
             1,
             "#276419"
            ]
           ],
           "sequential": [
            [
             0,
             "#0d0887"
            ],
            [
             0.1111111111111111,
             "#46039f"
            ],
            [
             0.2222222222222222,
             "#7201a8"
            ],
            [
             0.3333333333333333,
             "#9c179e"
            ],
            [
             0.4444444444444444,
             "#bd3786"
            ],
            [
             0.5555555555555556,
             "#d8576b"
            ],
            [
             0.6666666666666666,
             "#ed7953"
            ],
            [
             0.7777777777777778,
             "#fb9f3a"
            ],
            [
             0.8888888888888888,
             "#fdca26"
            ],
            [
             1,
             "#f0f921"
            ]
           ],
           "sequentialminus": [
            [
             0,
             "#0d0887"
            ],
            [
             0.1111111111111111,
             "#46039f"
            ],
            [
             0.2222222222222222,
             "#7201a8"
            ],
            [
             0.3333333333333333,
             "#9c179e"
            ],
            [
             0.4444444444444444,
             "#bd3786"
            ],
            [
             0.5555555555555556,
             "#d8576b"
            ],
            [
             0.6666666666666666,
             "#ed7953"
            ],
            [
             0.7777777777777778,
             "#fb9f3a"
            ],
            [
             0.8888888888888888,
             "#fdca26"
            ],
            [
             1,
             "#f0f921"
            ]
           ]
          },
          "colorway": [
           "#636efa",
           "#EF553B",
           "#00cc96",
           "#ab63fa",
           "#FFA15A",
           "#19d3f3",
           "#FF6692",
           "#B6E880",
           "#FF97FF",
           "#FECB52"
          ],
          "font": {
           "color": "#2a3f5f"
          },
          "geo": {
           "bgcolor": "white",
           "lakecolor": "white",
           "landcolor": "#E5ECF6",
           "showlakes": true,
           "showland": true,
           "subunitcolor": "white"
          },
          "hoverlabel": {
           "align": "left"
          },
          "hovermode": "closest",
          "mapbox": {
           "style": "light"
          },
          "paper_bgcolor": "white",
          "plot_bgcolor": "#E5ECF6",
          "polar": {
           "angularaxis": {
            "gridcolor": "white",
            "linecolor": "white",
            "ticks": ""
           },
           "bgcolor": "#E5ECF6",
           "radialaxis": {
            "gridcolor": "white",
            "linecolor": "white",
            "ticks": ""
           }
          },
          "scene": {
           "xaxis": {
            "backgroundcolor": "#E5ECF6",
            "gridcolor": "white",
            "gridwidth": 2,
            "linecolor": "white",
            "showbackground": true,
            "ticks": "",
            "zerolinecolor": "white"
           },
           "yaxis": {
            "backgroundcolor": "#E5ECF6",
            "gridcolor": "white",
            "gridwidth": 2,
            "linecolor": "white",
            "showbackground": true,
            "ticks": "",
            "zerolinecolor": "white"
           },
           "zaxis": {
            "backgroundcolor": "#E5ECF6",
            "gridcolor": "white",
            "gridwidth": 2,
            "linecolor": "white",
            "showbackground": true,
            "ticks": "",
            "zerolinecolor": "white"
           }
          },
          "shapedefaults": {
           "line": {
            "color": "#2a3f5f"
           }
          },
          "ternary": {
           "aaxis": {
            "gridcolor": "white",
            "linecolor": "white",
            "ticks": ""
           },
           "baxis": {
            "gridcolor": "white",
            "linecolor": "white",
            "ticks": ""
           },
           "bgcolor": "#E5ECF6",
           "caxis": {
            "gridcolor": "white",
            "linecolor": "white",
            "ticks": ""
           }
          },
          "title": {
           "x": 0.05
          },
          "xaxis": {
           "automargin": true,
           "gridcolor": "white",
           "linecolor": "white",
           "ticks": "",
           "title": {
            "standoff": 15
           },
           "zerolinecolor": "white",
           "zerolinewidth": 2
          },
          "yaxis": {
           "automargin": true,
           "gridcolor": "white",
           "linecolor": "white",
           "ticks": "",
           "title": {
            "standoff": 15
           },
           "zerolinecolor": "white",
           "zerolinewidth": 2
          }
         }
        },
        "xaxis": {
         "anchor": "y",
         "domain": [
          0,
          1
         ],
         "ticktext": [
          "2020-01-22T00:00:00",
          "2020-03-02T00:00:00",
          "2020-04-11T00:00:00",
          "2020-05-21T00:00:00",
          "2020-06-30T00:00:00",
          "2020-08-09T00:00:00",
          "2020-09-18T00:00:00"
         ],
         "tickvals": [
          0,
          40,
          80,
          120,
          160,
          200,
          240
         ],
         "title": {
          "text": "x"
         }
        },
        "yaxis": {
         "anchor": "x",
         "domain": [
          0,
          1
         ],
         "title": {
          "text": "0"
         }
        }
       }
      },
      "text/html": [
       "<div>                            <div id=\"5a798ff1-efc8-40b2-a6e5-35a244f1024d\" class=\"plotly-graph-div\" style=\"height:525px; width:100%;\"></div>            <script type=\"text/javascript\">                require([\"plotly\"], function(Plotly) {                    window.PLOTLYENV=window.PLOTLYENV || {};                                    if (document.getElementById(\"5a798ff1-efc8-40b2-a6e5-35a244f1024d\")) {                    Plotly.newPlot(                        \"5a798ff1-efc8-40b2-a6e5-35a244f1024d\",                        [{\"hovertemplate\": \"x=%{x}<br>0=%{y}<extra></extra>\", \"legendgroup\": \"\", \"marker\": {\"color\": \"#636efa\", \"opacity\": 0.65, \"symbol\": \"circle\"}, \"mode\": \"markers\", \"name\": \"\", \"orientation\": \"v\", \"showlegend\": false, \"type\": \"scatter\", \"x\": [0, 1, 2, 3, 4, 5, 6, 7, 8, 9, 10, 11, 12, 13, 14, 15, 16, 17, 18, 19, 20, 21, 22, 23, 24, 25, 26, 27, 28, 29, 30, 31, 32, 33, 34, 35, 36, 37, 38, 39, 40, 41, 42, 43, 44, 45, 46, 47, 48, 49, 50, 51, 52, 53, 54, 55, 56, 57, 58, 59, 60, 61, 62, 63, 64, 65, 66, 67, 68, 69, 70, 71, 72, 73, 74, 75, 76, 77, 78, 79, 80, 81, 82, 83, 84, 85, 86, 87, 88, 89, 90, 91, 92, 93, 94, 95, 96, 97, 98, 99, 100, 101, 102, 103, 104, 105, 106, 107, 108, 109, 110, 111, 112, 113, 114, 115, 116, 117, 118, 119, 120, 121, 122, 123, 124, 125, 126, 127, 128, 129, 130, 131, 132, 133, 134, 135, 136, 137, 138, 139, 140, 141, 142, 143, 144, 145, 146, 147, 148, 149, 150, 151, 152, 153, 154, 155, 156, 157, 158, 159, 160, 161, 162, 163, 164, 165, 166, 167, 168, 169, 170, 171, 172, 173, 174, 175, 176, 177, 178, 179, 180, 181, 182, 183, 184, 185, 186, 187, 188, 189, 190, 191, 192, 193, 194, 195, 196, 197, 198, 199, 200, 201, 202, 203, 204, 205, 206, 207, 208, 209, 210, 211, 212, 213, 214, 215, 216, 217, 218, 219, 220, 221, 222, 223, 224, 225, 226, 227, 228, 229, 230, 231, 232, 233, 234, 235, 236, 237, 238, 239, 240, 241, 242, 243, 244, 245, 246, 247, 248, 249, 250, 251, 252, 253, 254, 255, 256, 257, 258, 259, 260, 261, 262, 263, 264, 265, 266, 267, 268], \"xaxis\": \"x\", \"y\": [0.0, 0.0, 1.0, 0.0, 3.0, 1.0, 0.0, 1.0, 0.0, 1.0, 1.0, 0.0, 2.0, 0.0, 0.0, 0.0, 0.0, 0.0, 0.0, 0.0, 1.0, 0.0, 1.0, 0.0, 0.0, 0.0, 0.0, 1.0, 0.0, 0.0, 3.0, 0.0, 0.0, 1.0, 0.0, 2.0, 1.0, 2.0, 11.0, 6.0, 22.0, 19.0, 35.0, 66.0, 49.0, 145.0, 116.0, 259.0, 275.0, 229.0, 387.0, 529.0, 733.0, 566.0, 909.0, 1775.0, 2755.0, 4864.0, 4889.0, 7219.0, 7135.0, 9737.0, 9935.0, 14189.0, 16122.0, 16443.0, 19644.0, 17667.0, 20924.0, 23287.0, 24586.0, 28312.0, 35550.0, 33256.0, 25696.0, 29917.0, 31683.0, 33012.0, 33573.0, 33426.0, 30597.0, 26835.0, 24633.0, 25878.0, 30276.0, 32584.0, 30912.0, 27676.0, 25589.0, 26358.0, 25325.0, 28604.0, 31299.0, 37256.0, 33632.0, 25280.0, 22863.0, 24227.0, 27875.0, 28895.0, 33441.0, 29599.0, 24563.0, 21850.0, 23427.0, 24281.0, 27221.0, 27034.0, 25394.0, 19369.0, 19219.0, 21288.0, 21028.0, 26424.0, 24635.0, 24121.0, 17920.0, 20933.0, 20599.0, 22543.0, 25542.0, 23599.0, 21836.0, 20288.0, 19464.0, 17832.0, 18458.0, 22451.0, 24817.0, 22515.0, 19461.0, 21281.0, 19289.0, 19633.0, 21811.0, 28078.0, 22901.0, 17886.0, 17757.0, 18546.0, 20464.0, 22264.0, 25635.0, 25135.0, 20081.0, 18723.0, 25048.0, 24140.0, 27305.0, 31192.0, 30493.0, 27074.0, 29835.0, 35014.0, 35225.0, 38499.0, 45881.0, 41642.0, 38198.0, 38708.0, 47289.0, 48951.0, 54365.0, 54155.0, 45019.0, 41131.0, 53499.0, 55311.0, 56998.0, 61300.0, 69162.0, 59632.0, 56739.0, 55166.0, 66936.0, 64996.0, 79974.0, 67516.0, 65443.0, 59866.0, 58412.0, 66656.0, 67014.0, 68156.0, 73070.0, 64165.0, 53966.0, 57083.0, 63911.0, 65354.0, 70376.0, 66042.0, 60621.0, 41861.0, 49708.0, 52425.0, 53487.0, 56343.0, 60973.0, 51836.0, 47694.0, 42335.0, 56603.0, 52918.0, 51648.0, 57352.0, 50142.0, 37976.0, 40244.0, 41337.0, 45092.0, 43689.0, 49405.0, 45302.0, 31749.0, 36946.0, 38371.0, 45792.0, 45807.0, 44915.0, 42948.0, 33477.0, 35585.0, 42987.0, 39839.0, 42782.0, 49380.0, 43949.0, 30971.0, 25778.0, 23255.0, 34739.0, 36867.0, 46047.0, 38645.0, 34720.0, 33874.0, 41108.0, 40524.0, 43870.0, 48507.0, 42667.0, 34595.0, 37264.0, 49763.0, 39059.0, 42194.0, 57207.0, 46169.0, 34606.0, 32202.0, 37136.0, 45562.0, 46891.0, 48287.0, 51819.0, 35527.0, 37090.0, 40872.0, 49901.0, 56462.0, 56731.0, 54111.0, 43207.0, 42554.0, 50399.0, 59692.0, 66735.0, 63931.0], \"yaxis\": \"y\"}, {\"hovertemplate\": \"<b>OLS trendline</b><br>0 = 217.188 * x + 406.771<br>R<sup>2</sup>=0.671552<br><br>x=%{x}<br>0=%{y} <b>(trend)</b><extra></extra>\", \"legendgroup\": \"\", \"marker\": {\"color\": \"#636efa\", \"symbol\": \"circle\"}, \"mode\": \"lines\", \"name\": \"\", \"showlegend\": false, \"type\": \"scatter\", \"x\": [0, 1, 2, 3, 4, 5, 6, 7, 8, 9, 10, 11, 12, 13, 14, 15, 16, 17, 18, 19, 20, 21, 22, 23, 24, 25, 26, 27, 28, 29, 30, 31, 32, 33, 34, 35, 36, 37, 38, 39, 40, 41, 42, 43, 44, 45, 46, 47, 48, 49, 50, 51, 52, 53, 54, 55, 56, 57, 58, 59, 60, 61, 62, 63, 64, 65, 66, 67, 68, 69, 70, 71, 72, 73, 74, 75, 76, 77, 78, 79, 80, 81, 82, 83, 84, 85, 86, 87, 88, 89, 90, 91, 92, 93, 94, 95, 96, 97, 98, 99, 100, 101, 102, 103, 104, 105, 106, 107, 108, 109, 110, 111, 112, 113, 114, 115, 116, 117, 118, 119, 120, 121, 122, 123, 124, 125, 126, 127, 128, 129, 130, 131, 132, 133, 134, 135, 136, 137, 138, 139, 140, 141, 142, 143, 144, 145, 146, 147, 148, 149, 150, 151, 152, 153, 154, 155, 156, 157, 158, 159, 160, 161, 162, 163, 164, 165, 166, 167, 168, 169, 170, 171, 172, 173, 174, 175, 176, 177, 178, 179, 180, 181, 182, 183, 184, 185, 186, 187, 188, 189, 190, 191, 192, 193, 194, 195, 196, 197, 198, 199, 200, 201, 202, 203, 204, 205, 206, 207, 208, 209, 210, 211, 212, 213, 214, 215, 216, 217, 218, 219, 220, 221, 222, 223, 224, 225, 226, 227, 228, 229, 230, 231, 232, 233, 234, 235, 236, 237, 238, 239, 240, 241, 242, 243, 244, 245, 246, 247, 248, 249, 250, 251, 252, 253, 254, 255, 256, 257, 258, 259, 260, 261, 262, 263, 264, 265, 266, 267, 268], \"xaxis\": \"x\", \"y\": [406.7709211069889, 623.958559741573, 841.1461983761571, 1058.3338370107413, 1275.5214756453256, 1492.7091142799097, 1709.8967529144938, 1927.084391549078, 2144.272030183662, 2361.4596688182464, 2578.6473074528303, 2795.834946087414, 3013.022584721999, 3230.210223356583, 3447.397861991167, 3664.5855006257507, 3881.7731392603355, 4098.960777894919, 4316.148416529503, 4533.336055164087, 4750.523693798672, 4967.711332433256, 5184.89897106784, 5402.086609702424, 5619.274248337008, 5836.461886971592, 6053.649525606176, 6270.837164240761, 6488.024802875345, 6705.212441509929, 6922.400080144513, 7139.5877187790975, 7356.775357413681, 7573.962996048265, 7791.15063468285, 8008.338273317434, 8225.525911952018, 8442.713550586603, 8659.901189221186, 8877.08882785577, 9094.276466490355, 9311.464105124938, 9528.651743759523, 9745.839382394108, 9963.02702102869, 10180.214659663276, 10397.402298297859, 10614.589936932443, 10831.777575567028, 11048.965214201611, 11266.152852836196, 11483.34049147078, 11700.528130105364, 11917.715768739949, 12134.903407374533, 12352.091046009116, 12569.278684643701, 12786.466323278286, 13003.653961912869, 13220.841600547454, 13438.029239182037, 13655.216877816621, 13872.404516451206, 14089.59215508579, 14306.779793720374, 14523.967432354959, 14741.155070989542, 14958.342709624127, 15175.530348258711, 15392.717986893294, 15609.90562552788, 15827.093264162462, 16044.280902797047, 16261.468541431632, 16478.656180066217, 16695.8438187008, 16913.031457335383, 17130.21909596997, 17347.406734604552, 17564.594373239135, 17781.78201187372, 17998.969650508305, 18216.157289142888, 18433.344927777474, 18650.532566412057, 18867.72020504664, 19084.907843681227, 19302.09548231581, 19519.283120950393, 19736.47075958498, 19953.658398219563, 20170.846036854145, 20388.03367548873, 20605.221314123315, 20822.408952757898, 21039.59659139248, 21256.784230027068, 21473.97186866165, 21691.159507296234, 21908.34714593082, 22125.534784565403, 22342.722423199986, 22559.910061834573, 22777.097700469156, 22994.28533910374, 23211.472977738325, 23428.66061637291, 23645.84825500749, 23863.035893642078, 24080.22353227666, 24297.411170911244, 24514.59880954583, 24731.786448180414, 24948.974086814997, 25166.161725449583, 25383.349364084166, 25600.53700271875, 25817.724641353332, 26034.91227998792, 26252.0999186225, 26469.287557257085, 26686.47519589167, 26903.662834526254, 27120.850473160837, 27338.038111795424, 27555.225750430007, 27772.41338906459, 27989.601027699176, 28206.78866633376, 28423.976304968342, 28641.16394360293, 28858.351582237512, 29075.539220872095, 29292.72685950668, 29509.914498141265, 29727.102136775848, 29944.289775410434, 30161.477414045017, 30378.6650526796, 30595.852691314187, 30813.04032994877, 31030.227968583353, 31247.415607217936, 31464.603245852522, 31681.790884487105, 31898.97852312169, 32116.166161756275, 32333.353800390858, 32550.54143902544, 32767.729077660028, 32984.91671629461, 33202.10435492919, 33419.29199356378, 33636.47963219837, 33853.66727083295, 34070.85490946753, 34288.042548102116, 34505.2301867367, 34722.41782537128, 34939.605464005865, 35156.793102640455, 35373.98074127504, 35591.16837990962, 35808.356018544204, 36025.54365717879, 36242.73129581337, 36459.91893444796, 36677.10657308254, 36894.294211717126, 37111.48185035171, 37328.66948898629, 37545.857127620875, 37763.044766255465, 37980.23240489005, 38197.42004352463, 38414.607682159214, 38631.7953207938, 38848.98295942838, 39066.17059806297, 39283.35823669755, 39500.545875332136, 39717.73351396672, 39934.9211526013, 40152.108791235885, 40369.29642987047, 40586.48406850506, 40803.67170713964, 41020.859345774224, 41238.04698440881, 41455.23462304339, 41672.42226167797, 41889.609900312564, 42106.79753894715, 42323.98517758173, 42541.17281621631, 42758.360454850896, 42975.54809348548, 43192.73573212007, 43409.92337075465, 43627.111009389235, 43844.29864802382, 44061.4862866584, 44278.673925292984, 44495.861563927574, 44713.04920256216, 44930.23684119674, 45147.42447983132, 45364.612118465906, 45581.79975710049, 45798.98739573507, 46016.17503436966, 46233.362673004245, 46450.55031163883, 46667.73795027341, 46884.925588907994, 47102.11322754258, 47319.30086617717, 47536.48850481175, 47753.67614344633, 47970.863782080916, 48188.0514207155, 48405.23905935008, 48622.42669798467, 48839.614336619255, 49056.80197525384, 49273.98961388842, 49491.177252523004, 49708.36489115759, 49925.55252979218, 50142.74016842676, 50359.92780706134, 50577.11544569593, 50794.30308433051, 51011.49072296509, 51228.678361599676, 51445.866000234266, 51663.05363886885, 51880.24127750343, 52097.428916138015, 52314.6165547726, 52531.80419340718, 52748.99183204177, 52966.179470676354, 53183.36710931094, 53400.55474794552, 53617.7423865801, 53834.930025214686, 54052.117663849276, 54269.30530248386, 54486.49294111844, 54703.680579753025, 54920.86821838761, 55138.05585702219, 55355.24349565678, 55572.431134291364, 55789.61877292595, 56006.80641156053, 56223.99405019511, 56441.181688829696, 56658.36932746428, 56875.55696609887, 57092.74460473345, 57309.932243368035, 57527.11988200262, 57744.3075206372, 57961.495159271784, 58178.682797906375, 58395.87043654096, 58613.05807517554], \"yaxis\": \"y\"}],                        {\"legend\": {\"tracegroupgap\": 0}, \"margin\": {\"t\": 60}, \"template\": {\"data\": {\"bar\": [{\"error_x\": {\"color\": \"#2a3f5f\"}, \"error_y\": {\"color\": \"#2a3f5f\"}, \"marker\": {\"line\": {\"color\": \"#E5ECF6\", \"width\": 0.5}}, \"type\": \"bar\"}], \"barpolar\": [{\"marker\": {\"line\": {\"color\": \"#E5ECF6\", \"width\": 0.5}}, \"type\": \"barpolar\"}], \"carpet\": [{\"aaxis\": {\"endlinecolor\": \"#2a3f5f\", \"gridcolor\": \"white\", \"linecolor\": \"white\", \"minorgridcolor\": \"white\", \"startlinecolor\": \"#2a3f5f\"}, \"baxis\": {\"endlinecolor\": \"#2a3f5f\", \"gridcolor\": \"white\", \"linecolor\": \"white\", \"minorgridcolor\": \"white\", \"startlinecolor\": \"#2a3f5f\"}, \"type\": \"carpet\"}], \"choropleth\": [{\"colorbar\": {\"outlinewidth\": 0, \"ticks\": \"\"}, \"type\": \"choropleth\"}], \"contour\": [{\"colorbar\": {\"outlinewidth\": 0, \"ticks\": \"\"}, \"colorscale\": [[0.0, \"#0d0887\"], [0.1111111111111111, \"#46039f\"], [0.2222222222222222, \"#7201a8\"], [0.3333333333333333, \"#9c179e\"], [0.4444444444444444, \"#bd3786\"], [0.5555555555555556, \"#d8576b\"], [0.6666666666666666, \"#ed7953\"], [0.7777777777777778, \"#fb9f3a\"], [0.8888888888888888, \"#fdca26\"], [1.0, \"#f0f921\"]], \"type\": \"contour\"}], \"contourcarpet\": [{\"colorbar\": {\"outlinewidth\": 0, \"ticks\": \"\"}, \"type\": \"contourcarpet\"}], \"heatmap\": [{\"colorbar\": {\"outlinewidth\": 0, \"ticks\": \"\"}, \"colorscale\": [[0.0, \"#0d0887\"], [0.1111111111111111, \"#46039f\"], [0.2222222222222222, \"#7201a8\"], [0.3333333333333333, \"#9c179e\"], [0.4444444444444444, \"#bd3786\"], [0.5555555555555556, \"#d8576b\"], [0.6666666666666666, \"#ed7953\"], [0.7777777777777778, \"#fb9f3a\"], [0.8888888888888888, \"#fdca26\"], [1.0, \"#f0f921\"]], \"type\": \"heatmap\"}], \"heatmapgl\": [{\"colorbar\": {\"outlinewidth\": 0, \"ticks\": \"\"}, \"colorscale\": [[0.0, \"#0d0887\"], [0.1111111111111111, \"#46039f\"], [0.2222222222222222, \"#7201a8\"], [0.3333333333333333, \"#9c179e\"], [0.4444444444444444, \"#bd3786\"], [0.5555555555555556, \"#d8576b\"], [0.6666666666666666, \"#ed7953\"], [0.7777777777777778, \"#fb9f3a\"], [0.8888888888888888, \"#fdca26\"], [1.0, \"#f0f921\"]], \"type\": \"heatmapgl\"}], \"histogram\": [{\"marker\": {\"colorbar\": {\"outlinewidth\": 0, \"ticks\": \"\"}}, \"type\": \"histogram\"}], \"histogram2d\": [{\"colorbar\": {\"outlinewidth\": 0, \"ticks\": \"\"}, \"colorscale\": [[0.0, \"#0d0887\"], [0.1111111111111111, \"#46039f\"], [0.2222222222222222, \"#7201a8\"], [0.3333333333333333, \"#9c179e\"], [0.4444444444444444, \"#bd3786\"], [0.5555555555555556, \"#d8576b\"], [0.6666666666666666, \"#ed7953\"], [0.7777777777777778, \"#fb9f3a\"], [0.8888888888888888, \"#fdca26\"], [1.0, \"#f0f921\"]], \"type\": \"histogram2d\"}], \"histogram2dcontour\": [{\"colorbar\": {\"outlinewidth\": 0, \"ticks\": \"\"}, \"colorscale\": [[0.0, \"#0d0887\"], [0.1111111111111111, \"#46039f\"], [0.2222222222222222, \"#7201a8\"], [0.3333333333333333, \"#9c179e\"], [0.4444444444444444, \"#bd3786\"], [0.5555555555555556, \"#d8576b\"], [0.6666666666666666, \"#ed7953\"], [0.7777777777777778, \"#fb9f3a\"], [0.8888888888888888, \"#fdca26\"], [1.0, \"#f0f921\"]], \"type\": \"histogram2dcontour\"}], \"mesh3d\": [{\"colorbar\": {\"outlinewidth\": 0, \"ticks\": \"\"}, \"type\": \"mesh3d\"}], \"parcoords\": [{\"line\": {\"colorbar\": {\"outlinewidth\": 0, \"ticks\": \"\"}}, \"type\": \"parcoords\"}], \"pie\": [{\"automargin\": true, \"type\": \"pie\"}], \"scatter\": [{\"marker\": {\"colorbar\": {\"outlinewidth\": 0, \"ticks\": \"\"}}, \"type\": \"scatter\"}], \"scatter3d\": [{\"line\": {\"colorbar\": {\"outlinewidth\": 0, \"ticks\": \"\"}}, \"marker\": {\"colorbar\": {\"outlinewidth\": 0, \"ticks\": \"\"}}, \"type\": \"scatter3d\"}], \"scattercarpet\": [{\"marker\": {\"colorbar\": {\"outlinewidth\": 0, \"ticks\": \"\"}}, \"type\": \"scattercarpet\"}], \"scattergeo\": [{\"marker\": {\"colorbar\": {\"outlinewidth\": 0, \"ticks\": \"\"}}, \"type\": \"scattergeo\"}], \"scattergl\": [{\"marker\": {\"colorbar\": {\"outlinewidth\": 0, \"ticks\": \"\"}}, \"type\": \"scattergl\"}], \"scattermapbox\": [{\"marker\": {\"colorbar\": {\"outlinewidth\": 0, \"ticks\": \"\"}}, \"type\": \"scattermapbox\"}], \"scatterpolar\": [{\"marker\": {\"colorbar\": {\"outlinewidth\": 0, \"ticks\": \"\"}}, \"type\": \"scatterpolar\"}], \"scatterpolargl\": [{\"marker\": {\"colorbar\": {\"outlinewidth\": 0, \"ticks\": \"\"}}, \"type\": \"scatterpolargl\"}], \"scatterternary\": [{\"marker\": {\"colorbar\": {\"outlinewidth\": 0, \"ticks\": \"\"}}, \"type\": \"scatterternary\"}], \"surface\": [{\"colorbar\": {\"outlinewidth\": 0, \"ticks\": \"\"}, \"colorscale\": [[0.0, \"#0d0887\"], [0.1111111111111111, \"#46039f\"], [0.2222222222222222, \"#7201a8\"], [0.3333333333333333, \"#9c179e\"], [0.4444444444444444, \"#bd3786\"], [0.5555555555555556, \"#d8576b\"], [0.6666666666666666, \"#ed7953\"], [0.7777777777777778, \"#fb9f3a\"], [0.8888888888888888, \"#fdca26\"], [1.0, \"#f0f921\"]], \"type\": \"surface\"}], \"table\": [{\"cells\": {\"fill\": {\"color\": \"#EBF0F8\"}, \"line\": {\"color\": \"white\"}}, \"header\": {\"fill\": {\"color\": \"#C8D4E3\"}, \"line\": {\"color\": \"white\"}}, \"type\": \"table\"}]}, \"layout\": {\"annotationdefaults\": {\"arrowcolor\": \"#2a3f5f\", \"arrowhead\": 0, \"arrowwidth\": 1}, \"coloraxis\": {\"colorbar\": {\"outlinewidth\": 0, \"ticks\": \"\"}}, \"colorscale\": {\"diverging\": [[0, \"#8e0152\"], [0.1, \"#c51b7d\"], [0.2, \"#de77ae\"], [0.3, \"#f1b6da\"], [0.4, \"#fde0ef\"], [0.5, \"#f7f7f7\"], [0.6, \"#e6f5d0\"], [0.7, \"#b8e186\"], [0.8, \"#7fbc41\"], [0.9, \"#4d9221\"], [1, \"#276419\"]], \"sequential\": [[0.0, \"#0d0887\"], [0.1111111111111111, \"#46039f\"], [0.2222222222222222, \"#7201a8\"], [0.3333333333333333, \"#9c179e\"], [0.4444444444444444, \"#bd3786\"], [0.5555555555555556, \"#d8576b\"], [0.6666666666666666, \"#ed7953\"], [0.7777777777777778, \"#fb9f3a\"], [0.8888888888888888, \"#fdca26\"], [1.0, \"#f0f921\"]], \"sequentialminus\": [[0.0, \"#0d0887\"], [0.1111111111111111, \"#46039f\"], [0.2222222222222222, \"#7201a8\"], [0.3333333333333333, \"#9c179e\"], [0.4444444444444444, \"#bd3786\"], [0.5555555555555556, \"#d8576b\"], [0.6666666666666666, \"#ed7953\"], [0.7777777777777778, \"#fb9f3a\"], [0.8888888888888888, \"#fdca26\"], [1.0, \"#f0f921\"]]}, \"colorway\": [\"#636efa\", \"#EF553B\", \"#00cc96\", \"#ab63fa\", \"#FFA15A\", \"#19d3f3\", \"#FF6692\", \"#B6E880\", \"#FF97FF\", \"#FECB52\"], \"font\": {\"color\": \"#2a3f5f\"}, \"geo\": {\"bgcolor\": \"white\", \"lakecolor\": \"white\", \"landcolor\": \"#E5ECF6\", \"showlakes\": true, \"showland\": true, \"subunitcolor\": \"white\"}, \"hoverlabel\": {\"align\": \"left\"}, \"hovermode\": \"closest\", \"mapbox\": {\"style\": \"light\"}, \"paper_bgcolor\": \"white\", \"plot_bgcolor\": \"#E5ECF6\", \"polar\": {\"angularaxis\": {\"gridcolor\": \"white\", \"linecolor\": \"white\", \"ticks\": \"\"}, \"bgcolor\": \"#E5ECF6\", \"radialaxis\": {\"gridcolor\": \"white\", \"linecolor\": \"white\", \"ticks\": \"\"}}, \"scene\": {\"xaxis\": {\"backgroundcolor\": \"#E5ECF6\", \"gridcolor\": \"white\", \"gridwidth\": 2, \"linecolor\": \"white\", \"showbackground\": true, \"ticks\": \"\", \"zerolinecolor\": \"white\"}, \"yaxis\": {\"backgroundcolor\": \"#E5ECF6\", \"gridcolor\": \"white\", \"gridwidth\": 2, \"linecolor\": \"white\", \"showbackground\": true, \"ticks\": \"\", \"zerolinecolor\": \"white\"}, \"zaxis\": {\"backgroundcolor\": \"#E5ECF6\", \"gridcolor\": \"white\", \"gridwidth\": 2, \"linecolor\": \"white\", \"showbackground\": true, \"ticks\": \"\", \"zerolinecolor\": \"white\"}}, \"shapedefaults\": {\"line\": {\"color\": \"#2a3f5f\"}}, \"ternary\": {\"aaxis\": {\"gridcolor\": \"white\", \"linecolor\": \"white\", \"ticks\": \"\"}, \"baxis\": {\"gridcolor\": \"white\", \"linecolor\": \"white\", \"ticks\": \"\"}, \"bgcolor\": \"#E5ECF6\", \"caxis\": {\"gridcolor\": \"white\", \"linecolor\": \"white\", \"ticks\": \"\"}}, \"title\": {\"x\": 0.05}, \"xaxis\": {\"automargin\": true, \"gridcolor\": \"white\", \"linecolor\": \"white\", \"ticks\": \"\", \"title\": {\"standoff\": 15}, \"zerolinecolor\": \"white\", \"zerolinewidth\": 2}, \"yaxis\": {\"automargin\": true, \"gridcolor\": \"white\", \"linecolor\": \"white\", \"ticks\": \"\", \"title\": {\"standoff\": 15}, \"zerolinecolor\": \"white\", \"zerolinewidth\": 2}}}, \"xaxis\": {\"anchor\": \"y\", \"domain\": [0.0, 1.0], \"ticktext\": [\"2020-01-22T00:00:00\", \"2020-03-02T00:00:00\", \"2020-04-11T00:00:00\", \"2020-05-21T00:00:00\", \"2020-06-30T00:00:00\", \"2020-08-09T00:00:00\", \"2020-09-18T00:00:00\"], \"tickvals\": [0, 40, 80, 120, 160, 200, 240], \"title\": {\"text\": \"x\"}}, \"yaxis\": {\"anchor\": \"x\", \"domain\": [0.0, 1.0], \"title\": {\"text\": \"0\"}}},                        {\"responsive\": true}                    ).then(function(){\n",
       "                            \n",
       "var gd = document.getElementById('5a798ff1-efc8-40b2-a6e5-35a244f1024d');\n",
       "var x = new MutationObserver(function (mutations, observer) {{\n",
       "        var display = window.getComputedStyle(gd).display;\n",
       "        if (!display || display === 'none') {{\n",
       "            console.log([gd, 'removed!']);\n",
       "            Plotly.purge(gd);\n",
       "            observer.disconnect();\n",
       "        }}\n",
       "}});\n",
       "\n",
       "// Listen for the removal of the full notebook cells\n",
       "var notebookContainer = gd.closest('#notebook-container');\n",
       "if (notebookContainer) {{\n",
       "    x.observe(notebookContainer, {childList: true});\n",
       "}}\n",
       "\n",
       "// Listen for the clearing of the current output cell\n",
       "var outputEl = gd.closest('.output');\n",
       "if (outputEl) {{\n",
       "    x.observe(outputEl, {childList: true});\n",
       "}}\n",
       "\n",
       "                        })                };                });            </script>        </div>"
      ]
     },
     "metadata": {},
     "output_type": "display_data"
    }
   ],
   "source": [
    "X = united_states_cases.values.reshape(-1, 1)\n",
    "Y = united_states_cases.index.values\n",
    "\n",
    "fig = px.scatter(united_states_cases,\n",
    "                 x=index,\n",
    "                 y=0,\n",
    "                 opacity=0.65,\n",
    "                 trendline=\"ols\")\n",
    "\n",
    "# Set custom x-axis labels\n",
    "fig.update_xaxes(\n",
    "    ticktext=united_states_cases.index[0::40],\n",
    "    tickvals=index[0::40],\n",
    ")\n",
    "fig"
   ]
  },
  {
   "cell_type": "markdown",
   "metadata": {},
   "source": [
    "## Non-Linear regression models for predicting cases and deaths in US."
   ]
  },
  {
   "cell_type": "code",
   "execution_count": null,
   "metadata": {},
   "outputs": [],
   "source": []
  }
 ],
 "metadata": {
  "kernelspec": {
   "display_name": "Python 3",
   "language": "python",
   "name": "python3"
  },
  "language_info": {
   "codemirror_mode": {
    "name": "ipython",
    "version": 3
   },
   "file_extension": ".py",
   "mimetype": "text/x-python",
   "name": "python",
   "nbconvert_exporter": "python",
   "pygments_lexer": "ipython3",
   "version": "3.8.3"
  },
  "varInspector": {
   "cols": {
    "lenName": 16,
    "lenType": 16,
    "lenVar": 40
   },
   "kernels_config": {
    "python": {
     "delete_cmd_postfix": "",
     "delete_cmd_prefix": "del ",
     "library": "var_list.py",
     "varRefreshCmd": "print(var_dic_list())"
    },
    "r": {
     "delete_cmd_postfix": ") ",
     "delete_cmd_prefix": "rm(",
     "library": "var_list.r",
     "varRefreshCmd": "cat(var_dic_list()) "
    }
   },
   "types_to_exclude": [
    "module",
    "function",
    "builtin_function_or_method",
    "instance",
    "_Feature"
   ],
   "window_display": false
  }
 },
 "nbformat": 4,
 "nbformat_minor": 2
}
