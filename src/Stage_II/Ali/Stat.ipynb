{
 "cells": [
  {
   "cell_type": "code",
   "execution_count": 437,
   "metadata": {},
   "outputs": [],
   "source": [
    "import pandas as pd\n",
    "import numpy as np\n",
    "import math\n",
    "import matplotlib.pyplot as plt"
   ]
  },
  {
   "cell_type": "code",
   "execution_count": 438,
   "metadata": {
    "pycharm": {
     "name": "#%%\n"
    }
   },
   "outputs": [],
   "source": [
    "#read super Covid-19 dataframe with state as index. \n",
    "USCovid = pd.read_csv(\"../../../data/output/covid.csv\", index_col=0)"
   ]
  },
  {
   "cell_type": "markdown",
   "metadata": {},
   "source": [
    "### Clean Data"
   ]
  },
  {
   "cell_type": "markdown",
   "metadata": {},
   "source": [
    "#### Drop unnecessary data"
   ]
  },
  {
   "cell_type": "code",
   "execution_count": 439,
   "metadata": {},
   "outputs": [],
   "source": [
    "# Clean\n",
    "USCovid.drop([\"Unnamed: 0\", \"countyFIPS\", \"stateFIPS\"],\n",
    "             axis=1,\n",
    "             errors='ignore',\n",
    "             inplace=True)\n",
    "USCovid.drop(\n",
    "    USCovid.loc[USCovid['County Name'] == \"Statewide Unallocated\"].index,\n",
    "    inplace=True)\n",
    "regex_cases = '(^[0-9]+[/]+[0-9]+[/]+[0-9]+[_]+[x])|^County Name$|^State$|^population$'\n",
    "regex_deaths = '(^[0-9]+[/]+[0-9]+[/]+[0-9]+[_]+[y])|^County Name$|^State$|^population$'\n",
    "USCases = USCovid.filter(regex=regex_cases)\n",
    "USDeaths = USCovid.filter(regex=regex_deaths)"
   ]
  },
  {
   "cell_type": "markdown",
   "metadata": {},
   "source": [
    "#### Find new cases"
   ]
  },
  {
   "cell_type": "code",
   "execution_count": 441,
   "metadata": {},
   "outputs": [],
   "source": [
    "def diff(df):\n",
    "    new = [df[0], df[1], df[2], df[3]]\n",
    "    for i in range(4, df.shape[0]):\n",
    "        new.append(df[i] - df[i - 1])\n",
    "    return pd.Series(new)"
   ]
  },
  {
   "cell_type": "code",
   "execution_count": 442,
   "metadata": {},
   "outputs": [],
   "source": [
    "columns_D = USDeaths.columns\n",
    "columns_C = USCases.columns\n",
    "USDeaths = USDeaths.reset_index(drop=True).T.apply(diff).T\n",
    "USDeaths.columns = columns_D\n",
    "USCases = USCases.reset_index(drop=True).T.apply(diff).T\n",
    "USCases.columns = columns_C"
   ]
  },
  {
   "cell_type": "markdown",
   "metadata": {},
   "source": [
    "#### Convert date type from String to datetime Timestamp"
   ]
  },
  {
   "cell_type": "code",
   "execution_count": 443,
   "metadata": {},
   "outputs": [],
   "source": [
    "# Group by State then fixing date string syntax\n",
    "USDeaths_byStates = USDeaths.groupby('State').sum()\n",
    "USDeaths_byStates = USDeaths_byStates.rename(\n",
    "    columns=lambda x: (x.split('_')[0]),\n",
    "    errors='raise')\n",
    "USCases_byStates = USCases.groupby('State').sum()\n",
    "USCases_byStates = USCases_byStates.rename(\n",
    "    columns=lambda x: (x.split('_')[0]),\n",
    "    errors='raise')"
   ]
  },
  {
   "cell_type": "code",
   "execution_count": 444,
   "metadata": {},
   "outputs": [],
   "source": [
    "# Split States and population from the data (temparary)\n",
    "USCases_byStates_SP = USCases_byStates.reset_index()[['County Name', 'State', 'population']]\n",
    "USCases_byStates_Date = USCases_byStates.reset_index().drop(\n",
    "    ['County Name', 'State', 'population'], axis=1)"
   ]
  },
  {
   "cell_type": "code",
   "execution_count": 445,
   "metadata": {},
   "outputs": [],
   "source": [
    "# Convert String to TimeStamp\n",
    "USCases_byStates_Date =USCases_byStates_Date.rename(\n",
    "    columns=lambda x: (pd.to_datetime(x, errors='ignore')),\n",
    "    errors='raise')"
   ]
  },
  {
   "cell_type": "markdown",
   "metadata": {},
   "source": [
    "##### Resample date from days to weeks and find the mean of week"
   ]
  },
  {
   "cell_type": "code",
   "execution_count": 446,
   "metadata": {},
   "outputs": [],
   "source": [
    "USCases_byStates_Date_weeks = np.ceil(USCases_byStates_Date.resample('W', axis='columns').mean())"
   ]
  },
  {
   "cell_type": "code",
   "execution_count": 447,
   "metadata": {},
   "outputs": [],
   "source": [
    "USCases_States_weeks = pd.merge(USCases_byStates_SP, USCases_byStates_x, left_index=True, right_index=True)"
   ]
  },
  {
   "cell_type": "code",
   "execution_count": 448,
   "metadata": {},
   "outputs": [
    {
     "data": {
      "text/html": [
       "<div>\n",
       "<style scoped>\n",
       "    .dataframe tbody tr th:only-of-type {\n",
       "        vertical-align: middle;\n",
       "    }\n",
       "\n",
       "    .dataframe tbody tr th {\n",
       "        vertical-align: top;\n",
       "    }\n",
       "\n",
       "    .dataframe thead th {\n",
       "        text-align: right;\n",
       "    }\n",
       "</style>\n",
       "<table border=\"1\" class=\"dataframe\">\n",
       "  <thead>\n",
       "    <tr style=\"text-align: right;\">\n",
       "      <th></th>\n",
       "      <th>County Name</th>\n",
       "      <th>State</th>\n",
       "      <th>population</th>\n",
       "      <th>2020-01-26 00:00:00</th>\n",
       "      <th>2020-02-02 00:00:00</th>\n",
       "      <th>2020-02-09 00:00:00</th>\n",
       "      <th>2020-02-16 00:00:00</th>\n",
       "      <th>2020-02-23 00:00:00</th>\n",
       "      <th>2020-03-01 00:00:00</th>\n",
       "      <th>2020-03-08 00:00:00</th>\n",
       "      <th>...</th>\n",
       "      <th>2020-08-16 00:00:00</th>\n",
       "      <th>2020-08-23 00:00:00</th>\n",
       "      <th>2020-08-30 00:00:00</th>\n",
       "      <th>2020-09-06 00:00:00</th>\n",
       "      <th>2020-09-13 00:00:00</th>\n",
       "      <th>2020-09-20 00:00:00</th>\n",
       "      <th>2020-09-27 00:00:00</th>\n",
       "      <th>2020-10-04 00:00:00</th>\n",
       "      <th>2020-10-11 00:00:00</th>\n",
       "      <th>2020-10-18 00:00:00</th>\n",
       "    </tr>\n",
       "  </thead>\n",
       "  <tbody>\n",
       "    <tr>\n",
       "      <th>0</th>\n",
       "      <td>Aleutians East BoroughAleutians West Census Ar...</td>\n",
       "      <td>AK</td>\n",
       "      <td>731545</td>\n",
       "      <td>0.0</td>\n",
       "      <td>0.0</td>\n",
       "      <td>0.0</td>\n",
       "      <td>0.0</td>\n",
       "      <td>0.0</td>\n",
       "      <td>0.0</td>\n",
       "      <td>0.0</td>\n",
       "      <td>...</td>\n",
       "      <td>78.0</td>\n",
       "      <td>69.0</td>\n",
       "      <td>69.0</td>\n",
       "      <td>77.0</td>\n",
       "      <td>73.0</td>\n",
       "      <td>80.0</td>\n",
       "      <td>92.0</td>\n",
       "      <td>132.0</td>\n",
       "      <td>183.0</td>\n",
       "      <td>173.0</td>\n",
       "    </tr>\n",
       "    <tr>\n",
       "      <th>1</th>\n",
       "      <td>Autauga CountyBaldwin CountyBarbour CountyBibb...</td>\n",
       "      <td>AL</td>\n",
       "      <td>4903185</td>\n",
       "      <td>0.0</td>\n",
       "      <td>0.0</td>\n",
       "      <td>0.0</td>\n",
       "      <td>0.0</td>\n",
       "      <td>0.0</td>\n",
       "      <td>0.0</td>\n",
       "      <td>0.0</td>\n",
       "      <td>...</td>\n",
       "      <td>1015.0</td>\n",
       "      <td>947.0</td>\n",
       "      <td>1454.0</td>\n",
       "      <td>1011.0</td>\n",
       "      <td>920.0</td>\n",
       "      <td>887.0</td>\n",
       "      <td>1051.0</td>\n",
       "      <td>979.0</td>\n",
       "      <td>882.0</td>\n",
       "      <td>1006.0</td>\n",
       "    </tr>\n",
       "    <tr>\n",
       "      <th>2</th>\n",
       "      <td>Arkansas CountyAshley CountyBaxter CountyBento...</td>\n",
       "      <td>AR</td>\n",
       "      <td>3017804</td>\n",
       "      <td>0.0</td>\n",
       "      <td>0.0</td>\n",
       "      <td>0.0</td>\n",
       "      <td>0.0</td>\n",
       "      <td>0.0</td>\n",
       "      <td>0.0</td>\n",
       "      <td>0.0</td>\n",
       "      <td>...</td>\n",
       "      <td>617.0</td>\n",
       "      <td>550.0</td>\n",
       "      <td>598.0</td>\n",
       "      <td>600.0</td>\n",
       "      <td>632.0</td>\n",
       "      <td>779.0</td>\n",
       "      <td>777.0</td>\n",
       "      <td>792.0</td>\n",
       "      <td>836.0</td>\n",
       "      <td>938.0</td>\n",
       "    </tr>\n",
       "    <tr>\n",
       "      <th>3</th>\n",
       "      <td>Apache CountyCochise CountyCoconino CountyGila...</td>\n",
       "      <td>AZ</td>\n",
       "      <td>7278717</td>\n",
       "      <td>0.0</td>\n",
       "      <td>0.0</td>\n",
       "      <td>0.0</td>\n",
       "      <td>0.0</td>\n",
       "      <td>0.0</td>\n",
       "      <td>0.0</td>\n",
       "      <td>0.0</td>\n",
       "      <td>...</td>\n",
       "      <td>945.0</td>\n",
       "      <td>648.0</td>\n",
       "      <td>512.0</td>\n",
       "      <td>586.0</td>\n",
       "      <td>392.0</td>\n",
       "      <td>786.0</td>\n",
       "      <td>459.0</td>\n",
       "      <td>503.0</td>\n",
       "      <td>689.0</td>\n",
       "      <td>782.0</td>\n",
       "    </tr>\n",
       "    <tr>\n",
       "      <th>4</th>\n",
       "      <td>Grand Princess Cruise ShipAlameda CountyAlpine...</td>\n",
       "      <td>CA</td>\n",
       "      <td>39512223</td>\n",
       "      <td>0.0</td>\n",
       "      <td>0.0</td>\n",
       "      <td>0.0</td>\n",
       "      <td>0.0</td>\n",
       "      <td>1.0</td>\n",
       "      <td>1.0</td>\n",
       "      <td>16.0</td>\n",
       "      <td>...</td>\n",
       "      <td>9123.0</td>\n",
       "      <td>6281.0</td>\n",
       "      <td>5163.0</td>\n",
       "      <td>4778.0</td>\n",
       "      <td>3263.0</td>\n",
       "      <td>3573.0</td>\n",
       "      <td>3421.0</td>\n",
       "      <td>3169.0</td>\n",
       "      <td>3250.0</td>\n",
       "      <td>3424.0</td>\n",
       "    </tr>\n",
       "  </tbody>\n",
       "</table>\n",
       "<p>5 rows × 42 columns</p>\n",
       "</div>"
      ],
      "text/plain": [
       "                                         County Name State  population  \\\n",
       "0  Aleutians East BoroughAleutians West Census Ar...    AK      731545   \n",
       "1  Autauga CountyBaldwin CountyBarbour CountyBibb...    AL     4903185   \n",
       "2  Arkansas CountyAshley CountyBaxter CountyBento...    AR     3017804   \n",
       "3  Apache CountyCochise CountyCoconino CountyGila...    AZ     7278717   \n",
       "4  Grand Princess Cruise ShipAlameda CountyAlpine...    CA    39512223   \n",
       "\n",
       "   2020-01-26 00:00:00  2020-02-02 00:00:00  2020-02-09 00:00:00  \\\n",
       "0                  0.0                  0.0                  0.0   \n",
       "1                  0.0                  0.0                  0.0   \n",
       "2                  0.0                  0.0                  0.0   \n",
       "3                  0.0                  0.0                  0.0   \n",
       "4                  0.0                  0.0                  0.0   \n",
       "\n",
       "   2020-02-16 00:00:00  2020-02-23 00:00:00  2020-03-01 00:00:00  \\\n",
       "0                  0.0                  0.0                  0.0   \n",
       "1                  0.0                  0.0                  0.0   \n",
       "2                  0.0                  0.0                  0.0   \n",
       "3                  0.0                  0.0                  0.0   \n",
       "4                  0.0                  1.0                  1.0   \n",
       "\n",
       "   2020-03-08 00:00:00  ...  2020-08-16 00:00:00  2020-08-23 00:00:00  \\\n",
       "0                  0.0  ...                 78.0                 69.0   \n",
       "1                  0.0  ...               1015.0                947.0   \n",
       "2                  0.0  ...                617.0                550.0   \n",
       "3                  0.0  ...                945.0                648.0   \n",
       "4                 16.0  ...               9123.0               6281.0   \n",
       "\n",
       "   2020-08-30 00:00:00  2020-09-06 00:00:00  2020-09-13 00:00:00  \\\n",
       "0                 69.0                 77.0                 73.0   \n",
       "1               1454.0               1011.0                920.0   \n",
       "2                598.0                600.0                632.0   \n",
       "3                512.0                586.0                392.0   \n",
       "4               5163.0               4778.0               3263.0   \n",
       "\n",
       "   2020-09-20 00:00:00  2020-09-27 00:00:00  2020-10-04 00:00:00  \\\n",
       "0                 80.0                 92.0                132.0   \n",
       "1                887.0               1051.0                979.0   \n",
       "2                779.0                777.0                792.0   \n",
       "3                786.0                459.0                503.0   \n",
       "4               3573.0               3421.0               3169.0   \n",
       "\n",
       "   2020-10-11 00:00:00  2020-10-18 00:00:00  \n",
       "0                183.0                173.0  \n",
       "1                882.0               1006.0  \n",
       "2                836.0                938.0  \n",
       "3                689.0                782.0  \n",
       "4               3250.0               3424.0  \n",
       "\n",
       "[5 rows x 42 columns]"
      ]
     },
     "execution_count": 448,
     "metadata": {},
     "output_type": "execute_result"
    }
   ],
   "source": [
    "USCases_States_weeks.head()"
   ]
  },
  {
   "cell_type": "markdown",
   "metadata": {},
   "source": [
    "#### Find Means, Meidan and Mode for the weeks"
   ]
  },
  {
   "cell_type": "code",
   "execution_count": 464,
   "metadata": {},
   "outputs": [],
   "source": [
    "USCases_means = USCases_byStates_Date_weeks.T.mean()\n",
    "USCases_median = USCases_byStates_Date_weeks.T.median()\n",
    "USCases_mode = USCases_byStates_Date_weeks.T.mode()\n",
    "USCases_mode = USCases_mode.values.tolist()\n",
    "USCases_list = [\n",
    "     USCases_byStates_SP['State'], USCases_means, USCases_median, pd.Series(USCases_mode[0])\n",
    "]\n",
    "\n",
    "result = pd.DataFrame(USCases_list).transpose()\n",
    "result.columns = ['State', 'Mean', 'Median', 'Mode']"
   ]
  },
  {
   "cell_type": "code",
   "execution_count": 465,
   "metadata": {},
   "outputs": [
    {
     "data": {
      "text/html": [
       "<div>\n",
       "<style scoped>\n",
       "    .dataframe tbody tr th:only-of-type {\n",
       "        vertical-align: middle;\n",
       "    }\n",
       "\n",
       "    .dataframe tbody tr th {\n",
       "        vertical-align: top;\n",
       "    }\n",
       "\n",
       "    .dataframe thead th {\n",
       "        text-align: right;\n",
       "    }\n",
       "</style>\n",
       "<table border=\"1\" class=\"dataframe\">\n",
       "  <thead>\n",
       "    <tr style=\"text-align: right;\">\n",
       "      <th></th>\n",
       "      <th>State</th>\n",
       "      <th>Mean</th>\n",
       "      <th>Median</th>\n",
       "      <th>Mode</th>\n",
       "    </tr>\n",
       "  </thead>\n",
       "  <tbody>\n",
       "    <tr>\n",
       "      <th>0</th>\n",
       "      <td>AK</td>\n",
       "      <td>40.3333</td>\n",
       "      <td>13</td>\n",
       "      <td>0</td>\n",
       "    </tr>\n",
       "    <tr>\n",
       "      <th>1</th>\n",
       "      <td>AL</td>\n",
       "      <td>631.769</td>\n",
       "      <td>478</td>\n",
       "      <td>0</td>\n",
       "    </tr>\n",
       "    <tr>\n",
       "      <th>2</th>\n",
       "      <td>AR</td>\n",
       "      <td>357.282</td>\n",
       "      <td>300</td>\n",
       "      <td>0</td>\n",
       "    </tr>\n",
       "    <tr>\n",
       "      <th>3</th>\n",
       "      <td>AZ</td>\n",
       "      <td>846.744</td>\n",
       "      <td>460</td>\n",
       "      <td>0</td>\n",
       "    </tr>\n",
       "    <tr>\n",
       "      <th>4</th>\n",
       "      <td>CA</td>\n",
       "      <td>3217.77</td>\n",
       "      <td>2664</td>\n",
       "      <td>1</td>\n",
       "    </tr>\n",
       "  </tbody>\n",
       "</table>\n",
       "</div>"
      ],
      "text/plain": [
       "  State     Mean Median Mode\n",
       "0    AK  40.3333     13    0\n",
       "1    AL  631.769    478    0\n",
       "2    AR  357.282    300    0\n",
       "3    AZ  846.744    460    0\n",
       "4    CA  3217.77   2664    1"
      ]
     },
     "execution_count": 465,
     "metadata": {},
     "output_type": "execute_result"
    }
   ],
   "source": [
    "result.head()"
   ]
  },
  {
   "cell_type": "code",
   "execution_count": null,
   "metadata": {},
   "outputs": [],
   "source": []
  }
 ],
 "metadata": {
  "kernelspec": {
   "display_name": "Python 3",
   "language": "python",
   "name": "python3"
  },
  "language_info": {
   "codemirror_mode": {
    "name": "ipython",
    "version": 3
   },
   "file_extension": ".py",
   "mimetype": "text/x-python",
   "name": "python",
   "nbconvert_exporter": "python",
   "pygments_lexer": "ipython3",
   "version": "3.8.3"
  },
  "varInspector": {
   "cols": {
    "lenName": 16,
    "lenType": 16,
    "lenVar": 40
   },
   "kernels_config": {
    "python": {
     "delete_cmd_postfix": "",
     "delete_cmd_prefix": "del ",
     "library": "var_list.py",
     "varRefreshCmd": "print(var_dic_list())"
    },
    "r": {
     "delete_cmd_postfix": ") ",
     "delete_cmd_prefix": "rm(",
     "library": "var_list.r",
     "varRefreshCmd": "cat(var_dic_list()) "
    }
   },
   "types_to_exclude": [
    "module",
    "function",
    "builtin_function_or_method",
    "instance",
    "_Feature"
   ],
   "window_display": false
  }
 },
 "nbformat": 4,
 "nbformat_minor": 1
}
