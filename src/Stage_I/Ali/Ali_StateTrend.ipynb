{
 "cells": [
  {
   "cell_type": "markdown",
   "metadata": {
    "collapsed": true,
    "pycharm": {
     "name": "#%% md\n"
    }
   },
   "source": [
    "# Display the trends of the SC,\tSD,\tTN,\tTX,\tUT,\tVA,\tVT,\tWA,\tWI,\tWV and WY state cases and deaths"
   ]
  },
  {
   "cell_type": "code",
   "execution_count": 8,
   "metadata": {
    "pycharm": {
     "name": "#%%\n"
    }
   },
   "outputs": [],
   "source": [
    "import pandas as pd\n",
    "import matplotlib.pyplot as plt"
   ]
  },
  {
   "cell_type": "markdown",
   "metadata": {
    "pycharm": {
     "name": "#%% md\n"
    }
   },
   "source": [
    "## Variables"
   ]
  },
  {
   "cell_type": "code",
   "execution_count": 9,
   "metadata": {
    "pycharm": {
     "name": "#%%\n"
    }
   },
   "outputs": [],
   "source": [
    "week = -6\n",
    "covid19_file_path = \"../../data/output/covid.csv\""
   ]
  },
  {
   "cell_type": "markdown",
   "metadata": {},
   "source": [
    "## Read covid-19 data"
   ]
  },
  {
   "cell_type": "code",
   "execution_count": 10,
   "metadata": {
    "pycharm": {
     "name": "#%%\n"
    }
   },
   "outputs": [],
   "source": [
    "data_frame = pd.read_csv(covid19_file_path)\n"
   ]
  },
  {
   "cell_type": "markdown",
   "metadata": {},
   "source": [
    "## Group the data frame based on State name"
   ]
  },
  {
   "cell_type": "code",
   "execution_count": 11,
   "metadata": {
    "pycharm": {
     "name": "#%%\n"
    }
   },
   "outputs": [],
   "source": [
    "States = data_frame.groupby(['State']).sum()\n"
   ]
  },
  {
   "cell_type": "markdown",
   "metadata": {},
   "source": [
    "## Select the last 11 states from the States data frame"
   ]
  },
  {
   "cell_type": "code",
   "execution_count": 12,
   "metadata": {
    "pycharm": {
     "name": "#%%\n"
    }
   },
   "outputs": [
    {
     "data": {
      "text/html": [
       "<div>\n",
       "<style scoped>\n",
       "    .dataframe tbody tr th:only-of-type {\n",
       "        vertical-align: middle;\n",
       "    }\n",
       "\n",
       "    .dataframe tbody tr th {\n",
       "        vertical-align: top;\n",
       "    }\n",
       "\n",
       "    .dataframe thead th {\n",
       "        text-align: right;\n",
       "    }\n",
       "</style>\n",
       "<table border=\"1\" class=\"dataframe\">\n",
       "  <thead>\n",
       "    <tr style=\"text-align: right;\">\n",
       "      <th></th>\n",
       "      <th>Unnamed: 0</th>\n",
       "      <th>countyFIPS</th>\n",
       "      <th>population</th>\n",
       "      <th>stateFIPS</th>\n",
       "      <th>1/22/20_x</th>\n",
       "      <th>1/23/20_x</th>\n",
       "      <th>1/24/20_x</th>\n",
       "      <th>1/25/20_x</th>\n",
       "      <th>1/26/20_x</th>\n",
       "      <th>1/27/20_x</th>\n",
       "      <th>...</th>\n",
       "      <th>9/5/20_y</th>\n",
       "      <th>9/6/20_y</th>\n",
       "      <th>9/7/20_y</th>\n",
       "      <th>9/8/20_y</th>\n",
       "      <th>9/9/20_y</th>\n",
       "      <th>9/10/20_y</th>\n",
       "      <th>9/11/20_y</th>\n",
       "      <th>9/12/20_y</th>\n",
       "      <th>9/13/20_y</th>\n",
       "      <th>9/14/20_y</th>\n",
       "    </tr>\n",
       "    <tr>\n",
       "      <th>State</th>\n",
       "      <th></th>\n",
       "      <th></th>\n",
       "      <th></th>\n",
       "      <th></th>\n",
       "      <th></th>\n",
       "      <th></th>\n",
       "      <th></th>\n",
       "      <th></th>\n",
       "      <th></th>\n",
       "      <th></th>\n",
       "      <th></th>\n",
       "      <th></th>\n",
       "      <th></th>\n",
       "      <th></th>\n",
       "      <th></th>\n",
       "      <th></th>\n",
       "      <th></th>\n",
       "      <th></th>\n",
       "      <th></th>\n",
       "      <th></th>\n",
       "      <th></th>\n",
       "    </tr>\n",
       "  </thead>\n",
       "  <tbody>\n",
       "    <tr>\n",
       "      <th>SC</th>\n",
       "      <td>111907</td>\n",
       "      <td>2072116</td>\n",
       "      <td>5148714</td>\n",
       "      <td>2115</td>\n",
       "      <td>0</td>\n",
       "      <td>0</td>\n",
       "      <td>0</td>\n",
       "      <td>0</td>\n",
       "      <td>0</td>\n",
       "      <td>0</td>\n",
       "      <td>...</td>\n",
       "      <td>2876</td>\n",
       "      <td>2886</td>\n",
       "      <td>2906</td>\n",
       "      <td>2911</td>\n",
       "      <td>2939</td>\n",
       "      <td>2975</td>\n",
       "      <td>3024</td>\n",
       "      <td>3040</td>\n",
       "      <td>3064</td>\n",
       "      <td>3077</td>\n",
       "    </tr>\n",
       "    <tr>\n",
       "      <th>SD</th>\n",
       "      <td>163346</td>\n",
       "      <td>3040485</td>\n",
       "      <td>884659</td>\n",
       "      <td>3082</td>\n",
       "      <td>0</td>\n",
       "      <td>0</td>\n",
       "      <td>0</td>\n",
       "      <td>0</td>\n",
       "      <td>0</td>\n",
       "      <td>0</td>\n",
       "      <td>...</td>\n",
       "      <td>173</td>\n",
       "      <td>173</td>\n",
       "      <td>173</td>\n",
       "      <td>173</td>\n",
       "      <td>173</td>\n",
       "      <td>177</td>\n",
       "      <td>177</td>\n",
       "      <td>183</td>\n",
       "      <td>184</td>\n",
       "      <td>184</td>\n",
       "    </tr>\n",
       "    <tr>\n",
       "      <th>TN</th>\n",
       "      <td>241872</td>\n",
       "      <td>4474025</td>\n",
       "      <td>6829174</td>\n",
       "      <td>4512</td>\n",
       "      <td>0</td>\n",
       "      <td>0</td>\n",
       "      <td>0</td>\n",
       "      <td>0</td>\n",
       "      <td>0</td>\n",
       "      <td>0</td>\n",
       "      <td>...</td>\n",
       "      <td>1862</td>\n",
       "      <td>1865</td>\n",
       "      <td>1868</td>\n",
       "      <td>1893</td>\n",
       "      <td>1930</td>\n",
       "      <td>1988</td>\n",
       "      <td>2024</td>\n",
       "      <td>2064</td>\n",
       "      <td>2078</td>\n",
       "      <td>2097</td>\n",
       "    </tr>\n",
       "    <tr>\n",
       "      <th>TX</th>\n",
       "      <td>687225</td>\n",
       "      <td>12256516</td>\n",
       "      <td>28995881</td>\n",
       "      <td>12240</td>\n",
       "      <td>0</td>\n",
       "      <td>0</td>\n",
       "      <td>0</td>\n",
       "      <td>0</td>\n",
       "      <td>0</td>\n",
       "      <td>0</td>\n",
       "      <td>...</td>\n",
       "      <td>13402</td>\n",
       "      <td>13466</td>\n",
       "      <td>13485</td>\n",
       "      <td>13546</td>\n",
       "      <td>13686</td>\n",
       "      <td>13847</td>\n",
       "      <td>13991</td>\n",
       "      <td>14138</td>\n",
       "      <td>14185</td>\n",
       "      <td>14206</td>\n",
       "    </tr>\n",
       "    <tr>\n",
       "      <th>UT</th>\n",
       "      <td>85125</td>\n",
       "      <td>1421841</td>\n",
       "      <td>3205958</td>\n",
       "      <td>1470</td>\n",
       "      <td>0</td>\n",
       "      <td>0</td>\n",
       "      <td>0</td>\n",
       "      <td>0</td>\n",
       "      <td>0</td>\n",
       "      <td>0</td>\n",
       "      <td>...</td>\n",
       "      <td>420</td>\n",
       "      <td>422</td>\n",
       "      <td>423</td>\n",
       "      <td>424</td>\n",
       "      <td>427</td>\n",
       "      <td>430</td>\n",
       "      <td>431</td>\n",
       "      <td>433</td>\n",
       "      <td>433</td>\n",
       "      <td>436</td>\n",
       "    </tr>\n",
       "  </tbody>\n",
       "</table>\n",
       "<p>5 rows × 478 columns</p>\n",
       "</div>"
      ],
      "text/plain": [
       "       Unnamed: 0  countyFIPS  population  stateFIPS  1/22/20_x  1/23/20_x  \\\n",
       "State                                                                        \n",
       "SC         111907     2072116     5148714       2115          0          0   \n",
       "SD         163346     3040485      884659       3082          0          0   \n",
       "TN         241872     4474025     6829174       4512          0          0   \n",
       "TX         687225    12256516    28995881      12240          0          0   \n",
       "UT          85125     1421841     3205958       1470          0          0   \n",
       "\n",
       "       1/24/20_x  1/25/20_x  1/26/20_x  1/27/20_x  ...  9/5/20_y  9/6/20_y  \\\n",
       "State                                              ...                       \n",
       "SC             0          0          0          0  ...      2876      2886   \n",
       "SD             0          0          0          0  ...       173       173   \n",
       "TN             0          0          0          0  ...      1862      1865   \n",
       "TX             0          0          0          0  ...     13402     13466   \n",
       "UT             0          0          0          0  ...       420       422   \n",
       "\n",
       "       9/7/20_y  9/8/20_y  9/9/20_y  9/10/20_y  9/11/20_y  9/12/20_y  \\\n",
       "State                                                                  \n",
       "SC         2906      2911      2939       2975       3024       3040   \n",
       "SD          173       173       173        177        177        183   \n",
       "TN         1868      1893      1930       1988       2024       2064   \n",
       "TX        13485     13546     13686      13847      13991      14138   \n",
       "UT          423       424       427        430        431        433   \n",
       "\n",
       "       9/13/20_y  9/14/20_y  \n",
       "State                        \n",
       "SC          3064       3077  \n",
       "SD           184        184  \n",
       "TN          2078       2097  \n",
       "TX         14185      14206  \n",
       "UT           433        436  \n",
       "\n",
       "[5 rows x 478 columns]"
      ]
     },
     "execution_count": 12,
     "metadata": {},
     "output_type": "execute_result"
    }
   ],
   "source": [
    "# The States: SC\tSD\tTN\tTX\tUT\tVA\tVT\tWA\tWI\tWV\tWY\n",
    "last_11_states = States[40::]\n",
    "last_11_states.head()\n"
   ]
  },
  {
   "cell_type": "markdown",
   "metadata": {},
   "source": [
    "## Display the cases for the last 7 days"
   ]
  },
  {
   "cell_type": "code",
   "execution_count": 13,
   "metadata": {
    "pycharm": {
     "name": "#%%\n"
    }
   },
   "outputs": [
    {
     "data": {
      "text/html": [
       "<div>\n",
       "<style scoped>\n",
       "    .dataframe tbody tr th:only-of-type {\n",
       "        vertical-align: middle;\n",
       "    }\n",
       "\n",
       "    .dataframe tbody tr th {\n",
       "        vertical-align: top;\n",
       "    }\n",
       "\n",
       "    .dataframe thead th {\n",
       "        text-align: right;\n",
       "    }\n",
       "</style>\n",
       "<table border=\"1\" class=\"dataframe\">\n",
       "  <thead>\n",
       "    <tr style=\"text-align: right;\">\n",
       "      <th></th>\n",
       "      <th>9/8/20_x</th>\n",
       "      <th>9/9/20_x</th>\n",
       "      <th>9/10/20_x</th>\n",
       "      <th>9/11/20_x</th>\n",
       "      <th>9/12/20_x</th>\n",
       "      <th>9/13/20_x</th>\n",
       "      <th>9/14/20_x</th>\n",
       "    </tr>\n",
       "    <tr>\n",
       "      <th>State</th>\n",
       "      <th></th>\n",
       "      <th></th>\n",
       "      <th></th>\n",
       "      <th></th>\n",
       "      <th></th>\n",
       "      <th></th>\n",
       "      <th></th>\n",
       "    </tr>\n",
       "  </thead>\n",
       "  <tbody>\n",
       "    <tr>\n",
       "      <th>SC</th>\n",
       "      <td>125881</td>\n",
       "      <td>126176</td>\n",
       "      <td>126592</td>\n",
       "      <td>129045</td>\n",
       "      <td>129978</td>\n",
       "      <td>131864</td>\n",
       "      <td>132680</td>\n",
       "    </tr>\n",
       "    <tr>\n",
       "      <th>SD</th>\n",
       "      <td>15398</td>\n",
       "      <td>15570</td>\n",
       "      <td>15834</td>\n",
       "      <td>16117</td>\n",
       "      <td>16437</td>\n",
       "      <td>16638</td>\n",
       "      <td>16801</td>\n",
       "    </tr>\n",
       "    <tr>\n",
       "      <th>TN</th>\n",
       "      <td>165715</td>\n",
       "      <td>166587</td>\n",
       "      <td>168237</td>\n",
       "      <td>169856</td>\n",
       "      <td>170891</td>\n",
       "      <td>171824</td>\n",
       "      <td>174274</td>\n",
       "    </tr>\n",
       "    <tr>\n",
       "      <th>TX</th>\n",
       "      <td>650146</td>\n",
       "      <td>654570</td>\n",
       "      <td>658588</td>\n",
       "      <td>662083</td>\n",
       "      <td>666524</td>\n",
       "      <td>670026</td>\n",
       "      <td>672641</td>\n",
       "    </tr>\n",
       "    <tr>\n",
       "      <th>UT</th>\n",
       "      <td>55382</td>\n",
       "      <td>55689</td>\n",
       "      <td>56048</td>\n",
       "      <td>56657</td>\n",
       "      <td>57300</td>\n",
       "      <td>57920</td>\n",
       "      <td>58451</td>\n",
       "    </tr>\n",
       "    <tr>\n",
       "      <th>VA</th>\n",
       "      <td>128400</td>\n",
       "      <td>129283</td>\n",
       "      <td>130519</td>\n",
       "      <td>131637</td>\n",
       "      <td>132939</td>\n",
       "      <td>133811</td>\n",
       "      <td>134571</td>\n",
       "    </tr>\n",
       "    <tr>\n",
       "      <th>VT</th>\n",
       "      <td>1654</td>\n",
       "      <td>1654</td>\n",
       "      <td>1660</td>\n",
       "      <td>1668</td>\n",
       "      <td>1677</td>\n",
       "      <td>1684</td>\n",
       "      <td>1696</td>\n",
       "    </tr>\n",
       "    <tr>\n",
       "      <th>WA</th>\n",
       "      <td>77541</td>\n",
       "      <td>78007</td>\n",
       "      <td>78464</td>\n",
       "      <td>79011</td>\n",
       "      <td>79476</td>\n",
       "      <td>79825</td>\n",
       "      <td>80138</td>\n",
       "    </tr>\n",
       "    <tr>\n",
       "      <th>WI</th>\n",
       "      <td>82474</td>\n",
       "      <td>83333</td>\n",
       "      <td>84880</td>\n",
       "      <td>86250</td>\n",
       "      <td>87603</td>\n",
       "      <td>89184</td>\n",
       "      <td>89956</td>\n",
       "    </tr>\n",
       "    <tr>\n",
       "      <th>WV</th>\n",
       "      <td>11654</td>\n",
       "      <td>11802</td>\n",
       "      <td>12002</td>\n",
       "      <td>12168</td>\n",
       "      <td>12518</td>\n",
       "      <td>12693</td>\n",
       "      <td>12820</td>\n",
       "    </tr>\n",
       "    <tr>\n",
       "      <th>WY</th>\n",
       "      <td>4102</td>\n",
       "      <td>4151</td>\n",
       "      <td>4196</td>\n",
       "      <td>4260</td>\n",
       "      <td>4292</td>\n",
       "      <td>4341</td>\n",
       "      <td>4392</td>\n",
       "    </tr>\n",
       "  </tbody>\n",
       "</table>\n",
       "</div>"
      ],
      "text/plain": [
       "       9/8/20_x  9/9/20_x  9/10/20_x  9/11/20_x  9/12/20_x  9/13/20_x  \\\n",
       "State                                                                   \n",
       "SC       125881    126176     126592     129045     129978     131864   \n",
       "SD        15398     15570      15834      16117      16437      16638   \n",
       "TN       165715    166587     168237     169856     170891     171824   \n",
       "TX       650146    654570     658588     662083     666524     670026   \n",
       "UT        55382     55689      56048      56657      57300      57920   \n",
       "VA       128400    129283     130519     131637     132939     133811   \n",
       "VT         1654      1654       1660       1668       1677       1684   \n",
       "WA        77541     78007      78464      79011      79476      79825   \n",
       "WI        82474     83333      84880      86250      87603      89184   \n",
       "WV        11654     11802      12002      12168      12518      12693   \n",
       "WY         4102      4151       4196       4260       4292       4341   \n",
       "\n",
       "       9/14/20_x  \n",
       "State             \n",
       "SC        132680  \n",
       "SD         16801  \n",
       "TN        174274  \n",
       "TX        672641  \n",
       "UT         58451  \n",
       "VA        134571  \n",
       "VT          1696  \n",
       "WA         80138  \n",
       "WI         89956  \n",
       "WV         12820  \n",
       "WY          4392  "
      ]
     },
     "execution_count": 13,
     "metadata": {},
     "output_type": "execute_result"
    }
   ],
   "source": [
    "states_cases = last_11_states.columns.get_loc('9/14/20_x')\n",
    "resent_cases = last_11_states[last_11_states.columns[states_cases+week:states_cases+1]]\n",
    "resent_cases"
   ]
  },
  {
   "cell_type": "markdown",
   "metadata": {},
   "source": [
    "## trend of cases on TX"
   ]
  },
  {
   "cell_type": "code",
   "execution_count": 14,
   "metadata": {
    "pycharm": {
     "name": "#%%\n"
    }
   },
   "outputs": [
    {
     "data": {
      "text/plain": [
       "9/8/20_x     650146\n",
       "9/9/20_x     654570\n",
       "9/10/20_x    658588\n",
       "9/11/20_x    662083\n",
       "9/12/20_x    666524\n",
       "9/13/20_x    670026\n",
       "9/14/20_x    672641\n",
       "Name: TX, dtype: int64"
      ]
     },
     "execution_count": 14,
     "metadata": {},
     "output_type": "execute_result"
    }
   ],
   "source": [
    "resent_cases = resent_cases.loc['TX']\n",
    "resent_cases"
   ]
  },
  {
   "cell_type": "markdown",
   "metadata": {},
   "source": [
    "### display trend"
   ]
  },
  {
   "cell_type": "code",
   "execution_count": 15,
   "metadata": {
    "pycharm": {
     "name": "#%%\n"
    }
   },
   "outputs": [
    {
     "data": {
      "image/png": "[encoded data removed]",
      "text/plain": [
       "<Figure size 432x288 with 1 Axes>"
      ]
     },
     "metadata": {
      "needs_background": "light"
     },
     "output_type": "display_data"
    }
   ],
   "source": [
    "resent_cases.plot(x = resent_cases.index, y = resent_cases, kind = 'line')\n",
    "plt.show()\n"
   ]
  },
  {
   "cell_type": "code",
   "execution_count": null,
   "outputs": [],
   "source": [],
   "metadata": {
    "collapsed": false,
    "pycharm": {
     "name": "#%%\n"
    }
   }
  },
  {
   "cell_type": "code",
   "execution_count": null,
   "metadata": {},
   "outputs": [],
   "source": []
  }
 ],
 "metadata": {
  "kernelspec": {
   "display_name": "Python 3",
   "language": "python",
   "name": "python3"
  },
  "language_info": {
   "codemirror_mode": {
    "name": "ipython",
    "version": 3
   },
   "file_extension": ".py",
   "mimetype": "text/x-python",
   "name": "python",
   "nbconvert_exporter": "python",
   "pygments_lexer": "ipython3",
   "version": "3.8.3"
  }
 },
 "nbformat": 4,
 "nbformat_minor": 1
}